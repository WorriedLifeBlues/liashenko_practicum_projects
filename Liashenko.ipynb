{
 "cells": [
  {
   "cell_type": "markdown",
   "id": "c81daeeb",
   "metadata": {
    "deletable": false,
    "editable": false,
    "id": "c81daeeb"
   },
   "source": [
    "# Исследование надежности заемщиков"
   ]
  },
  {
   "cell_type": "markdown",
   "id": "-G3EJWzf62s6",
   "metadata": {
    "deletable": false,
    "editable": false,
    "id": "-G3EJWzf62s6"
   },
   "source": [
    "Это первая часть проекта, она будет проверена автоматически. Вторую часть проверит ревьюер. "
   ]
  },
  {
   "cell_type": "markdown",
   "id": "744d7639",
   "metadata": {
    "deletable": false,
    "editable": false,
    "id": "744d7639"
   },
   "source": [
    "## Откройте таблицу и изучите общую информацию о данных"
   ]
  },
  {
   "cell_type": "markdown",
   "id": "e7a14c31",
   "metadata": {
    "deletable": false,
    "editable": false,
    "id": "e7a14c31",
    "tags": [
     "start_task"
    ]
   },
   "source": [
    "**Задание 1. Импортируйте библиотеку pandas. Считайте данные из csv-файла в датафрейм и сохраните в переменную `data`. Путь к файлу:**\n",
    "\n",
    "`/datasets/data.csv`"
   ]
  },
  {
   "cell_type": "code",
   "execution_count": 1,
   "id": "7bcf75c9",
   "metadata": {
    "id": "7bcf75c9"
   },
   "outputs": [],
   "source": [
    "import pandas as pd"
   ]
  },
  {
   "cell_type": "code",
   "execution_count": 2,
   "id": "4d240ee2",
   "metadata": {
    "id": "4d240ee2"
   },
   "outputs": [],
   "source": [
    "data = pd.read_csv('/datasets/data.csv')"
   ]
  },
  {
   "cell_type": "markdown",
   "id": "b8038fe3",
   "metadata": {
    "deletable": false,
    "editable": false,
    "id": "b8038fe3",
    "tags": [
     "start_task"
    ]
   },
   "source": [
    "**Задание 2. Выведите первые 20 строчек датафрейма `data` на экран.**"
   ]
  },
  {
   "cell_type": "code",
   "execution_count": 3,
   "id": "2a7cab99",
   "metadata": {
    "id": "2a7cab99"
   },
   "outputs": [
    {
     "data": {
      "text/html": [
       "<div>\n",
       "<style scoped>\n",
       "    .dataframe tbody tr th:only-of-type {\n",
       "        vertical-align: middle;\n",
       "    }\n",
       "\n",
       "    .dataframe tbody tr th {\n",
       "        vertical-align: top;\n",
       "    }\n",
       "\n",
       "    .dataframe thead th {\n",
       "        text-align: right;\n",
       "    }\n",
       "</style>\n",
       "<table border=\"1\" class=\"dataframe\">\n",
       "  <thead>\n",
       "    <tr style=\"text-align: right;\">\n",
       "      <th></th>\n",
       "      <th>children</th>\n",
       "      <th>days_employed</th>\n",
       "      <th>dob_years</th>\n",
       "      <th>education</th>\n",
       "      <th>education_id</th>\n",
       "      <th>family_status</th>\n",
       "      <th>family_status_id</th>\n",
       "      <th>gender</th>\n",
       "      <th>income_type</th>\n",
       "      <th>debt</th>\n",
       "      <th>total_income</th>\n",
       "      <th>purpose</th>\n",
       "    </tr>\n",
       "  </thead>\n",
       "  <tbody>\n",
       "    <tr>\n",
       "      <th>0</th>\n",
       "      <td>1</td>\n",
       "      <td>-8437.673028</td>\n",
       "      <td>42</td>\n",
       "      <td>высшее</td>\n",
       "      <td>0</td>\n",
       "      <td>женат / замужем</td>\n",
       "      <td>0</td>\n",
       "      <td>F</td>\n",
       "      <td>сотрудник</td>\n",
       "      <td>0</td>\n",
       "      <td>253875.639453</td>\n",
       "      <td>покупка жилья</td>\n",
       "    </tr>\n",
       "    <tr>\n",
       "      <th>1</th>\n",
       "      <td>1</td>\n",
       "      <td>-4024.803754</td>\n",
       "      <td>36</td>\n",
       "      <td>среднее</td>\n",
       "      <td>1</td>\n",
       "      <td>женат / замужем</td>\n",
       "      <td>0</td>\n",
       "      <td>F</td>\n",
       "      <td>сотрудник</td>\n",
       "      <td>0</td>\n",
       "      <td>112080.014102</td>\n",
       "      <td>приобретение автомобиля</td>\n",
       "    </tr>\n",
       "    <tr>\n",
       "      <th>2</th>\n",
       "      <td>0</td>\n",
       "      <td>-5623.422610</td>\n",
       "      <td>33</td>\n",
       "      <td>Среднее</td>\n",
       "      <td>1</td>\n",
       "      <td>женат / замужем</td>\n",
       "      <td>0</td>\n",
       "      <td>M</td>\n",
       "      <td>сотрудник</td>\n",
       "      <td>0</td>\n",
       "      <td>145885.952297</td>\n",
       "      <td>покупка жилья</td>\n",
       "    </tr>\n",
       "    <tr>\n",
       "      <th>3</th>\n",
       "      <td>3</td>\n",
       "      <td>-4124.747207</td>\n",
       "      <td>32</td>\n",
       "      <td>среднее</td>\n",
       "      <td>1</td>\n",
       "      <td>женат / замужем</td>\n",
       "      <td>0</td>\n",
       "      <td>M</td>\n",
       "      <td>сотрудник</td>\n",
       "      <td>0</td>\n",
       "      <td>267628.550329</td>\n",
       "      <td>дополнительное образование</td>\n",
       "    </tr>\n",
       "    <tr>\n",
       "      <th>4</th>\n",
       "      <td>0</td>\n",
       "      <td>340266.072047</td>\n",
       "      <td>53</td>\n",
       "      <td>среднее</td>\n",
       "      <td>1</td>\n",
       "      <td>гражданский брак</td>\n",
       "      <td>1</td>\n",
       "      <td>F</td>\n",
       "      <td>пенсионер</td>\n",
       "      <td>0</td>\n",
       "      <td>158616.077870</td>\n",
       "      <td>сыграть свадьбу</td>\n",
       "    </tr>\n",
       "    <tr>\n",
       "      <th>5</th>\n",
       "      <td>0</td>\n",
       "      <td>-926.185831</td>\n",
       "      <td>27</td>\n",
       "      <td>высшее</td>\n",
       "      <td>0</td>\n",
       "      <td>гражданский брак</td>\n",
       "      <td>1</td>\n",
       "      <td>M</td>\n",
       "      <td>компаньон</td>\n",
       "      <td>0</td>\n",
       "      <td>255763.565419</td>\n",
       "      <td>покупка жилья</td>\n",
       "    </tr>\n",
       "    <tr>\n",
       "      <th>6</th>\n",
       "      <td>0</td>\n",
       "      <td>-2879.202052</td>\n",
       "      <td>43</td>\n",
       "      <td>высшее</td>\n",
       "      <td>0</td>\n",
       "      <td>женат / замужем</td>\n",
       "      <td>0</td>\n",
       "      <td>F</td>\n",
       "      <td>компаньон</td>\n",
       "      <td>0</td>\n",
       "      <td>240525.971920</td>\n",
       "      <td>операции с жильем</td>\n",
       "    </tr>\n",
       "    <tr>\n",
       "      <th>7</th>\n",
       "      <td>0</td>\n",
       "      <td>-152.779569</td>\n",
       "      <td>50</td>\n",
       "      <td>СРЕДНЕЕ</td>\n",
       "      <td>1</td>\n",
       "      <td>женат / замужем</td>\n",
       "      <td>0</td>\n",
       "      <td>M</td>\n",
       "      <td>сотрудник</td>\n",
       "      <td>0</td>\n",
       "      <td>135823.934197</td>\n",
       "      <td>образование</td>\n",
       "    </tr>\n",
       "    <tr>\n",
       "      <th>8</th>\n",
       "      <td>2</td>\n",
       "      <td>-6929.865299</td>\n",
       "      <td>35</td>\n",
       "      <td>ВЫСШЕЕ</td>\n",
       "      <td>0</td>\n",
       "      <td>гражданский брак</td>\n",
       "      <td>1</td>\n",
       "      <td>F</td>\n",
       "      <td>сотрудник</td>\n",
       "      <td>0</td>\n",
       "      <td>95856.832424</td>\n",
       "      <td>на проведение свадьбы</td>\n",
       "    </tr>\n",
       "    <tr>\n",
       "      <th>9</th>\n",
       "      <td>0</td>\n",
       "      <td>-2188.756445</td>\n",
       "      <td>41</td>\n",
       "      <td>среднее</td>\n",
       "      <td>1</td>\n",
       "      <td>женат / замужем</td>\n",
       "      <td>0</td>\n",
       "      <td>M</td>\n",
       "      <td>сотрудник</td>\n",
       "      <td>0</td>\n",
       "      <td>144425.938277</td>\n",
       "      <td>покупка жилья для семьи</td>\n",
       "    </tr>\n",
       "    <tr>\n",
       "      <th>10</th>\n",
       "      <td>2</td>\n",
       "      <td>-4171.483647</td>\n",
       "      <td>36</td>\n",
       "      <td>высшее</td>\n",
       "      <td>0</td>\n",
       "      <td>женат / замужем</td>\n",
       "      <td>0</td>\n",
       "      <td>M</td>\n",
       "      <td>компаньон</td>\n",
       "      <td>0</td>\n",
       "      <td>113943.491460</td>\n",
       "      <td>покупка недвижимости</td>\n",
       "    </tr>\n",
       "    <tr>\n",
       "      <th>11</th>\n",
       "      <td>0</td>\n",
       "      <td>-792.701887</td>\n",
       "      <td>40</td>\n",
       "      <td>среднее</td>\n",
       "      <td>1</td>\n",
       "      <td>женат / замужем</td>\n",
       "      <td>0</td>\n",
       "      <td>F</td>\n",
       "      <td>сотрудник</td>\n",
       "      <td>0</td>\n",
       "      <td>77069.234271</td>\n",
       "      <td>покупка коммерческой недвижимости</td>\n",
       "    </tr>\n",
       "    <tr>\n",
       "      <th>12</th>\n",
       "      <td>0</td>\n",
       "      <td>NaN</td>\n",
       "      <td>65</td>\n",
       "      <td>среднее</td>\n",
       "      <td>1</td>\n",
       "      <td>гражданский брак</td>\n",
       "      <td>1</td>\n",
       "      <td>M</td>\n",
       "      <td>пенсионер</td>\n",
       "      <td>0</td>\n",
       "      <td>NaN</td>\n",
       "      <td>сыграть свадьбу</td>\n",
       "    </tr>\n",
       "    <tr>\n",
       "      <th>13</th>\n",
       "      <td>0</td>\n",
       "      <td>-1846.641941</td>\n",
       "      <td>54</td>\n",
       "      <td>неоконченное высшее</td>\n",
       "      <td>2</td>\n",
       "      <td>женат / замужем</td>\n",
       "      <td>0</td>\n",
       "      <td>F</td>\n",
       "      <td>сотрудник</td>\n",
       "      <td>0</td>\n",
       "      <td>130458.228857</td>\n",
       "      <td>приобретение автомобиля</td>\n",
       "    </tr>\n",
       "    <tr>\n",
       "      <th>14</th>\n",
       "      <td>0</td>\n",
       "      <td>-1844.956182</td>\n",
       "      <td>56</td>\n",
       "      <td>высшее</td>\n",
       "      <td>0</td>\n",
       "      <td>гражданский брак</td>\n",
       "      <td>1</td>\n",
       "      <td>F</td>\n",
       "      <td>компаньон</td>\n",
       "      <td>1</td>\n",
       "      <td>165127.911772</td>\n",
       "      <td>покупка жилой недвижимости</td>\n",
       "    </tr>\n",
       "    <tr>\n",
       "      <th>15</th>\n",
       "      <td>1</td>\n",
       "      <td>-972.364419</td>\n",
       "      <td>26</td>\n",
       "      <td>среднее</td>\n",
       "      <td>1</td>\n",
       "      <td>женат / замужем</td>\n",
       "      <td>0</td>\n",
       "      <td>F</td>\n",
       "      <td>сотрудник</td>\n",
       "      <td>0</td>\n",
       "      <td>116820.904450</td>\n",
       "      <td>строительство собственной недвижимости</td>\n",
       "    </tr>\n",
       "    <tr>\n",
       "      <th>16</th>\n",
       "      <td>0</td>\n",
       "      <td>-1719.934226</td>\n",
       "      <td>35</td>\n",
       "      <td>среднее</td>\n",
       "      <td>1</td>\n",
       "      <td>женат / замужем</td>\n",
       "      <td>0</td>\n",
       "      <td>F</td>\n",
       "      <td>сотрудник</td>\n",
       "      <td>0</td>\n",
       "      <td>289202.704229</td>\n",
       "      <td>недвижимость</td>\n",
       "    </tr>\n",
       "    <tr>\n",
       "      <th>17</th>\n",
       "      <td>0</td>\n",
       "      <td>-2369.999720</td>\n",
       "      <td>33</td>\n",
       "      <td>высшее</td>\n",
       "      <td>0</td>\n",
       "      <td>гражданский брак</td>\n",
       "      <td>1</td>\n",
       "      <td>M</td>\n",
       "      <td>сотрудник</td>\n",
       "      <td>0</td>\n",
       "      <td>90410.586745</td>\n",
       "      <td>строительство недвижимости</td>\n",
       "    </tr>\n",
       "    <tr>\n",
       "      <th>18</th>\n",
       "      <td>0</td>\n",
       "      <td>400281.136913</td>\n",
       "      <td>53</td>\n",
       "      <td>среднее</td>\n",
       "      <td>1</td>\n",
       "      <td>вдовец / вдова</td>\n",
       "      <td>2</td>\n",
       "      <td>F</td>\n",
       "      <td>пенсионер</td>\n",
       "      <td>0</td>\n",
       "      <td>56823.777243</td>\n",
       "      <td>на покупку подержанного автомобиля</td>\n",
       "    </tr>\n",
       "    <tr>\n",
       "      <th>19</th>\n",
       "      <td>0</td>\n",
       "      <td>-10038.818549</td>\n",
       "      <td>48</td>\n",
       "      <td>СРЕДНЕЕ</td>\n",
       "      <td>1</td>\n",
       "      <td>в разводе</td>\n",
       "      <td>3</td>\n",
       "      <td>F</td>\n",
       "      <td>сотрудник</td>\n",
       "      <td>0</td>\n",
       "      <td>242831.107982</td>\n",
       "      <td>на покупку своего автомобиля</td>\n",
       "    </tr>\n",
       "  </tbody>\n",
       "</table>\n",
       "</div>"
      ],
      "text/plain": [
       "    children  days_employed  dob_years            education  education_id  \\\n",
       "0          1   -8437.673028         42               высшее             0   \n",
       "1          1   -4024.803754         36              среднее             1   \n",
       "2          0   -5623.422610         33              Среднее             1   \n",
       "3          3   -4124.747207         32              среднее             1   \n",
       "4          0  340266.072047         53              среднее             1   \n",
       "5          0    -926.185831         27               высшее             0   \n",
       "6          0   -2879.202052         43               высшее             0   \n",
       "7          0    -152.779569         50              СРЕДНЕЕ             1   \n",
       "8          2   -6929.865299         35               ВЫСШЕЕ             0   \n",
       "9          0   -2188.756445         41              среднее             1   \n",
       "10         2   -4171.483647         36               высшее             0   \n",
       "11         0    -792.701887         40              среднее             1   \n",
       "12         0            NaN         65              среднее             1   \n",
       "13         0   -1846.641941         54  неоконченное высшее             2   \n",
       "14         0   -1844.956182         56               высшее             0   \n",
       "15         1    -972.364419         26              среднее             1   \n",
       "16         0   -1719.934226         35              среднее             1   \n",
       "17         0   -2369.999720         33               высшее             0   \n",
       "18         0  400281.136913         53              среднее             1   \n",
       "19         0  -10038.818549         48              СРЕДНЕЕ             1   \n",
       "\n",
       "       family_status  family_status_id gender income_type  debt  \\\n",
       "0    женат / замужем                 0      F   сотрудник     0   \n",
       "1    женат / замужем                 0      F   сотрудник     0   \n",
       "2    женат / замужем                 0      M   сотрудник     0   \n",
       "3    женат / замужем                 0      M   сотрудник     0   \n",
       "4   гражданский брак                 1      F   пенсионер     0   \n",
       "5   гражданский брак                 1      M   компаньон     0   \n",
       "6    женат / замужем                 0      F   компаньон     0   \n",
       "7    женат / замужем                 0      M   сотрудник     0   \n",
       "8   гражданский брак                 1      F   сотрудник     0   \n",
       "9    женат / замужем                 0      M   сотрудник     0   \n",
       "10   женат / замужем                 0      M   компаньон     0   \n",
       "11   женат / замужем                 0      F   сотрудник     0   \n",
       "12  гражданский брак                 1      M   пенсионер     0   \n",
       "13   женат / замужем                 0      F   сотрудник     0   \n",
       "14  гражданский брак                 1      F   компаньон     1   \n",
       "15   женат / замужем                 0      F   сотрудник     0   \n",
       "16   женат / замужем                 0      F   сотрудник     0   \n",
       "17  гражданский брак                 1      M   сотрудник     0   \n",
       "18    вдовец / вдова                 2      F   пенсионер     0   \n",
       "19         в разводе                 3      F   сотрудник     0   \n",
       "\n",
       "     total_income                                 purpose  \n",
       "0   253875.639453                           покупка жилья  \n",
       "1   112080.014102                 приобретение автомобиля  \n",
       "2   145885.952297                           покупка жилья  \n",
       "3   267628.550329              дополнительное образование  \n",
       "4   158616.077870                         сыграть свадьбу  \n",
       "5   255763.565419                           покупка жилья  \n",
       "6   240525.971920                       операции с жильем  \n",
       "7   135823.934197                             образование  \n",
       "8    95856.832424                   на проведение свадьбы  \n",
       "9   144425.938277                 покупка жилья для семьи  \n",
       "10  113943.491460                    покупка недвижимости  \n",
       "11   77069.234271       покупка коммерческой недвижимости  \n",
       "12            NaN                         сыграть свадьбу  \n",
       "13  130458.228857                 приобретение автомобиля  \n",
       "14  165127.911772              покупка жилой недвижимости  \n",
       "15  116820.904450  строительство собственной недвижимости  \n",
       "16  289202.704229                            недвижимость  \n",
       "17   90410.586745              строительство недвижимости  \n",
       "18   56823.777243      на покупку подержанного автомобиля  \n",
       "19  242831.107982            на покупку своего автомобиля  "
      ]
     },
     "execution_count": 3,
     "metadata": {},
     "output_type": "execute_result"
    }
   ],
   "source": [
    "data.head(20)"
   ]
  },
  {
   "cell_type": "markdown",
   "id": "1c12e233",
   "metadata": {
    "deletable": false,
    "editable": false,
    "id": "1c12e233",
    "tags": [
     "start_task"
    ]
   },
   "source": [
    "**Задание 3. Выведите основную информацию о датафрейме с помощью метода `info()`.**"
   ]
  },
  {
   "cell_type": "code",
   "execution_count": 4,
   "id": "2b757bca",
   "metadata": {
    "id": "2b757bca"
   },
   "outputs": [
    {
     "name": "stdout",
     "output_type": "stream",
     "text": [
      "<class 'pandas.core.frame.DataFrame'>\n",
      "RangeIndex: 21525 entries, 0 to 21524\n",
      "Data columns (total 12 columns):\n",
      " #   Column            Non-Null Count  Dtype  \n",
      "---  ------            --------------  -----  \n",
      " 0   children          21525 non-null  int64  \n",
      " 1   days_employed     19351 non-null  float64\n",
      " 2   dob_years         21525 non-null  int64  \n",
      " 3   education         21525 non-null  object \n",
      " 4   education_id      21525 non-null  int64  \n",
      " 5   family_status     21525 non-null  object \n",
      " 6   family_status_id  21525 non-null  int64  \n",
      " 7   gender            21525 non-null  object \n",
      " 8   income_type       21525 non-null  object \n",
      " 9   debt              21525 non-null  int64  \n",
      " 10  total_income      19351 non-null  float64\n",
      " 11  purpose           21525 non-null  object \n",
      "dtypes: float64(2), int64(5), object(5)\n",
      "memory usage: 2.0+ MB\n"
     ]
    }
   ],
   "source": [
    "data.info()"
   ]
  },
  {
   "cell_type": "markdown",
   "id": "333ec665",
   "metadata": {
    "deletable": false,
    "editable": false,
    "id": "333ec665"
   },
   "source": [
    "## Предобработка данных"
   ]
  },
  {
   "cell_type": "markdown",
   "id": "02d92d53",
   "metadata": {
    "deletable": false,
    "editable": false,
    "id": "02d92d53"
   },
   "source": [
    "### Удаление пропусков"
   ]
  },
  {
   "cell_type": "markdown",
   "id": "cd84967c",
   "metadata": {
    "deletable": false,
    "editable": false,
    "id": "cd84967c",
    "tags": [
     "start_task"
    ]
   },
   "source": [
    "**Задание 4. Выведите количество пропущенных значений для каждого столбца. Используйте комбинацию двух методов.**"
   ]
  },
  {
   "cell_type": "code",
   "execution_count": 5,
   "id": "7f9b2309",
   "metadata": {
    "id": "7f9b2309"
   },
   "outputs": [
    {
     "data": {
      "text/plain": [
       "children               0\n",
       "days_employed       2174\n",
       "dob_years              0\n",
       "education              0\n",
       "education_id           0\n",
       "family_status          0\n",
       "family_status_id       0\n",
       "gender                 0\n",
       "income_type            0\n",
       "debt                   0\n",
       "total_income        2174\n",
       "purpose                0\n",
       "dtype: int64"
      ]
     },
     "execution_count": 5,
     "metadata": {},
     "output_type": "execute_result"
    }
   ],
   "source": [
    "data.isna().sum()"
   ]
  },
  {
   "cell_type": "markdown",
   "id": "db86e27b",
   "metadata": {
    "deletable": false,
    "editable": false,
    "id": "db86e27b",
    "tags": [
     "start_task"
    ]
   },
   "source": [
    "**Задание 5. В двух столбцах есть пропущенные значения. Один из них — `days_employed`. Пропуски в этом столбце вы обработаете на следующем этапе. Другой столбец с пропущенными значениями — `total_income` — хранит данные о доходах. На сумму дохода сильнее всего влияет тип занятости, поэтому заполнить пропуски в этом столбце нужно медианным значением по каждому типу из столбца `income_type`. Например, у человека с типом занятости `сотрудник` пропуск в столбце `total_income` должен быть заполнен медианным доходом среди всех записей с тем же типом.**"
   ]
  },
  {
   "cell_type": "code",
   "execution_count": 6,
   "id": "42006a93",
   "metadata": {
    "id": "42006a93"
   },
   "outputs": [
    {
     "data": {
      "text/html": [
       "<div>\n",
       "<style scoped>\n",
       "    .dataframe tbody tr th:only-of-type {\n",
       "        vertical-align: middle;\n",
       "    }\n",
       "\n",
       "    .dataframe tbody tr th {\n",
       "        vertical-align: top;\n",
       "    }\n",
       "\n",
       "    .dataframe thead th {\n",
       "        text-align: right;\n",
       "    }\n",
       "</style>\n",
       "<table border=\"1\" class=\"dataframe\">\n",
       "  <thead>\n",
       "    <tr style=\"text-align: right;\">\n",
       "      <th></th>\n",
       "      <th>children</th>\n",
       "      <th>days_employed</th>\n",
       "      <th>dob_years</th>\n",
       "      <th>education</th>\n",
       "      <th>education_id</th>\n",
       "      <th>family_status</th>\n",
       "      <th>family_status_id</th>\n",
       "      <th>gender</th>\n",
       "      <th>income_type</th>\n",
       "      <th>debt</th>\n",
       "      <th>total_income</th>\n",
       "      <th>purpose</th>\n",
       "    </tr>\n",
       "  </thead>\n",
       "  <tbody>\n",
       "    <tr>\n",
       "      <th>0</th>\n",
       "      <td>1</td>\n",
       "      <td>-8437.673028</td>\n",
       "      <td>42</td>\n",
       "      <td>высшее</td>\n",
       "      <td>0</td>\n",
       "      <td>женат / замужем</td>\n",
       "      <td>0</td>\n",
       "      <td>F</td>\n",
       "      <td>сотрудник</td>\n",
       "      <td>0</td>\n",
       "      <td>253875.639453</td>\n",
       "      <td>покупка жилья</td>\n",
       "    </tr>\n",
       "    <tr>\n",
       "      <th>1</th>\n",
       "      <td>1</td>\n",
       "      <td>-4024.803754</td>\n",
       "      <td>36</td>\n",
       "      <td>среднее</td>\n",
       "      <td>1</td>\n",
       "      <td>женат / замужем</td>\n",
       "      <td>0</td>\n",
       "      <td>F</td>\n",
       "      <td>сотрудник</td>\n",
       "      <td>0</td>\n",
       "      <td>112080.014102</td>\n",
       "      <td>приобретение автомобиля</td>\n",
       "    </tr>\n",
       "    <tr>\n",
       "      <th>2</th>\n",
       "      <td>0</td>\n",
       "      <td>-5623.422610</td>\n",
       "      <td>33</td>\n",
       "      <td>Среднее</td>\n",
       "      <td>1</td>\n",
       "      <td>женат / замужем</td>\n",
       "      <td>0</td>\n",
       "      <td>M</td>\n",
       "      <td>сотрудник</td>\n",
       "      <td>0</td>\n",
       "      <td>145885.952297</td>\n",
       "      <td>покупка жилья</td>\n",
       "    </tr>\n",
       "    <tr>\n",
       "      <th>3</th>\n",
       "      <td>3</td>\n",
       "      <td>-4124.747207</td>\n",
       "      <td>32</td>\n",
       "      <td>среднее</td>\n",
       "      <td>1</td>\n",
       "      <td>женат / замужем</td>\n",
       "      <td>0</td>\n",
       "      <td>M</td>\n",
       "      <td>сотрудник</td>\n",
       "      <td>0</td>\n",
       "      <td>267628.550329</td>\n",
       "      <td>дополнительное образование</td>\n",
       "    </tr>\n",
       "    <tr>\n",
       "      <th>4</th>\n",
       "      <td>0</td>\n",
       "      <td>340266.072047</td>\n",
       "      <td>53</td>\n",
       "      <td>среднее</td>\n",
       "      <td>1</td>\n",
       "      <td>гражданский брак</td>\n",
       "      <td>1</td>\n",
       "      <td>F</td>\n",
       "      <td>пенсионер</td>\n",
       "      <td>0</td>\n",
       "      <td>158616.077870</td>\n",
       "      <td>сыграть свадьбу</td>\n",
       "    </tr>\n",
       "    <tr>\n",
       "      <th>...</th>\n",
       "      <td>...</td>\n",
       "      <td>...</td>\n",
       "      <td>...</td>\n",
       "      <td>...</td>\n",
       "      <td>...</td>\n",
       "      <td>...</td>\n",
       "      <td>...</td>\n",
       "      <td>...</td>\n",
       "      <td>...</td>\n",
       "      <td>...</td>\n",
       "      <td>...</td>\n",
       "      <td>...</td>\n",
       "    </tr>\n",
       "    <tr>\n",
       "      <th>21520</th>\n",
       "      <td>1</td>\n",
       "      <td>-4529.316663</td>\n",
       "      <td>43</td>\n",
       "      <td>среднее</td>\n",
       "      <td>1</td>\n",
       "      <td>гражданский брак</td>\n",
       "      <td>1</td>\n",
       "      <td>F</td>\n",
       "      <td>компаньон</td>\n",
       "      <td>0</td>\n",
       "      <td>224791.862382</td>\n",
       "      <td>операции с жильем</td>\n",
       "    </tr>\n",
       "    <tr>\n",
       "      <th>21521</th>\n",
       "      <td>0</td>\n",
       "      <td>343937.404131</td>\n",
       "      <td>67</td>\n",
       "      <td>среднее</td>\n",
       "      <td>1</td>\n",
       "      <td>женат / замужем</td>\n",
       "      <td>0</td>\n",
       "      <td>F</td>\n",
       "      <td>пенсионер</td>\n",
       "      <td>0</td>\n",
       "      <td>155999.806512</td>\n",
       "      <td>сделка с автомобилем</td>\n",
       "    </tr>\n",
       "    <tr>\n",
       "      <th>21522</th>\n",
       "      <td>1</td>\n",
       "      <td>-2113.346888</td>\n",
       "      <td>38</td>\n",
       "      <td>среднее</td>\n",
       "      <td>1</td>\n",
       "      <td>гражданский брак</td>\n",
       "      <td>1</td>\n",
       "      <td>M</td>\n",
       "      <td>сотрудник</td>\n",
       "      <td>1</td>\n",
       "      <td>89672.561153</td>\n",
       "      <td>недвижимость</td>\n",
       "    </tr>\n",
       "    <tr>\n",
       "      <th>21523</th>\n",
       "      <td>3</td>\n",
       "      <td>-3112.481705</td>\n",
       "      <td>38</td>\n",
       "      <td>среднее</td>\n",
       "      <td>1</td>\n",
       "      <td>женат / замужем</td>\n",
       "      <td>0</td>\n",
       "      <td>M</td>\n",
       "      <td>сотрудник</td>\n",
       "      <td>1</td>\n",
       "      <td>244093.050500</td>\n",
       "      <td>на покупку своего автомобиля</td>\n",
       "    </tr>\n",
       "    <tr>\n",
       "      <th>21524</th>\n",
       "      <td>2</td>\n",
       "      <td>-1984.507589</td>\n",
       "      <td>40</td>\n",
       "      <td>среднее</td>\n",
       "      <td>1</td>\n",
       "      <td>женат / замужем</td>\n",
       "      <td>0</td>\n",
       "      <td>F</td>\n",
       "      <td>сотрудник</td>\n",
       "      <td>0</td>\n",
       "      <td>82047.418899</td>\n",
       "      <td>на покупку автомобиля</td>\n",
       "    </tr>\n",
       "  </tbody>\n",
       "</table>\n",
       "<p>21525 rows × 12 columns</p>\n",
       "</div>"
      ],
      "text/plain": [
       "       children  days_employed  dob_years education  education_id  \\\n",
       "0             1   -8437.673028         42    высшее             0   \n",
       "1             1   -4024.803754         36   среднее             1   \n",
       "2             0   -5623.422610         33   Среднее             1   \n",
       "3             3   -4124.747207         32   среднее             1   \n",
       "4             0  340266.072047         53   среднее             1   \n",
       "...         ...            ...        ...       ...           ...   \n",
       "21520         1   -4529.316663         43   среднее             1   \n",
       "21521         0  343937.404131         67   среднее             1   \n",
       "21522         1   -2113.346888         38   среднее             1   \n",
       "21523         3   -3112.481705         38   среднее             1   \n",
       "21524         2   -1984.507589         40   среднее             1   \n",
       "\n",
       "          family_status  family_status_id gender income_type  debt  \\\n",
       "0       женат / замужем                 0      F   сотрудник     0   \n",
       "1       женат / замужем                 0      F   сотрудник     0   \n",
       "2       женат / замужем                 0      M   сотрудник     0   \n",
       "3       женат / замужем                 0      M   сотрудник     0   \n",
       "4      гражданский брак                 1      F   пенсионер     0   \n",
       "...                 ...               ...    ...         ...   ...   \n",
       "21520  гражданский брак                 1      F   компаньон     0   \n",
       "21521   женат / замужем                 0      F   пенсионер     0   \n",
       "21522  гражданский брак                 1      M   сотрудник     1   \n",
       "21523   женат / замужем                 0      M   сотрудник     1   \n",
       "21524   женат / замужем                 0      F   сотрудник     0   \n",
       "\n",
       "        total_income                       purpose  \n",
       "0      253875.639453                 покупка жилья  \n",
       "1      112080.014102       приобретение автомобиля  \n",
       "2      145885.952297                 покупка жилья  \n",
       "3      267628.550329    дополнительное образование  \n",
       "4      158616.077870               сыграть свадьбу  \n",
       "...              ...                           ...  \n",
       "21520  224791.862382             операции с жильем  \n",
       "21521  155999.806512          сделка с автомобилем  \n",
       "21522   89672.561153                  недвижимость  \n",
       "21523  244093.050500  на покупку своего автомобиля  \n",
       "21524   82047.418899         на покупку автомобиля  \n",
       "\n",
       "[21525 rows x 12 columns]"
      ]
     },
     "execution_count": 6,
     "metadata": {},
     "output_type": "execute_result"
    }
   ],
   "source": [
    "dt_median = data.groupby('income_type')['total_income'].median()\n",
    "\n",
    "def fill_median(row):\n",
    "    if pd.isnull(row['total_income']):\n",
    "        return dt_median[row['income_type']]\n",
    "    else:\n",
    "        return row['total_income']\n",
    "\n",
    "data['total_income'] = data.apply(fill_median, axis=1)\n",
    "data"
   ]
  },
  {
   "cell_type": "markdown",
   "id": "89da5ece",
   "metadata": {
    "deletable": false,
    "editable": false,
    "id": "89da5ece"
   },
   "source": [
    "### Обработка аномальных значений"
   ]
  },
  {
   "cell_type": "markdown",
   "id": "57964554",
   "metadata": {
    "deletable": false,
    "editable": false,
    "id": "57964554",
    "tags": [
     "start_task"
    ]
   },
   "source": [
    "**Задание 6. В данных могут встречаться артефакты (аномалии) — значения, которые не отражают действительность и появились по какой-то ошибке. Таким артефактом будет отрицательное количество дней трудового стажа в столбце `days_employed`. Для реальных данных это нормально. Обработайте значения в этом столбце: замените все отрицательные значения положительными с помощью метода `abs()`.**"
   ]
  },
  {
   "cell_type": "code",
   "execution_count": 8,
   "id": "f6f055bf",
   "metadata": {
    "id": "f6f055bf",
    "scrolled": false
   },
   "outputs": [
    {
     "data": {
      "text/html": [
       "<div>\n",
       "<style scoped>\n",
       "    .dataframe tbody tr th:only-of-type {\n",
       "        vertical-align: middle;\n",
       "    }\n",
       "\n",
       "    .dataframe tbody tr th {\n",
       "        vertical-align: top;\n",
       "    }\n",
       "\n",
       "    .dataframe thead th {\n",
       "        text-align: right;\n",
       "    }\n",
       "</style>\n",
       "<table border=\"1\" class=\"dataframe\">\n",
       "  <thead>\n",
       "    <tr style=\"text-align: right;\">\n",
       "      <th></th>\n",
       "      <th>children</th>\n",
       "      <th>days_employed</th>\n",
       "      <th>dob_years</th>\n",
       "      <th>education</th>\n",
       "      <th>education_id</th>\n",
       "      <th>family_status</th>\n",
       "      <th>family_status_id</th>\n",
       "      <th>gender</th>\n",
       "      <th>income_type</th>\n",
       "      <th>debt</th>\n",
       "      <th>total_income</th>\n",
       "      <th>purpose</th>\n",
       "    </tr>\n",
       "  </thead>\n",
       "  <tbody>\n",
       "    <tr>\n",
       "      <th>0</th>\n",
       "      <td>1</td>\n",
       "      <td>8437.673028</td>\n",
       "      <td>42</td>\n",
       "      <td>высшее</td>\n",
       "      <td>0</td>\n",
       "      <td>женат / замужем</td>\n",
       "      <td>0</td>\n",
       "      <td>F</td>\n",
       "      <td>сотрудник</td>\n",
       "      <td>0</td>\n",
       "      <td>253875.639453</td>\n",
       "      <td>покупка жилья</td>\n",
       "    </tr>\n",
       "    <tr>\n",
       "      <th>1</th>\n",
       "      <td>1</td>\n",
       "      <td>4024.803754</td>\n",
       "      <td>36</td>\n",
       "      <td>среднее</td>\n",
       "      <td>1</td>\n",
       "      <td>женат / замужем</td>\n",
       "      <td>0</td>\n",
       "      <td>F</td>\n",
       "      <td>сотрудник</td>\n",
       "      <td>0</td>\n",
       "      <td>112080.014102</td>\n",
       "      <td>приобретение автомобиля</td>\n",
       "    </tr>\n",
       "    <tr>\n",
       "      <th>2</th>\n",
       "      <td>0</td>\n",
       "      <td>5623.422610</td>\n",
       "      <td>33</td>\n",
       "      <td>Среднее</td>\n",
       "      <td>1</td>\n",
       "      <td>женат / замужем</td>\n",
       "      <td>0</td>\n",
       "      <td>M</td>\n",
       "      <td>сотрудник</td>\n",
       "      <td>0</td>\n",
       "      <td>145885.952297</td>\n",
       "      <td>покупка жилья</td>\n",
       "    </tr>\n",
       "    <tr>\n",
       "      <th>3</th>\n",
       "      <td>3</td>\n",
       "      <td>4124.747207</td>\n",
       "      <td>32</td>\n",
       "      <td>среднее</td>\n",
       "      <td>1</td>\n",
       "      <td>женат / замужем</td>\n",
       "      <td>0</td>\n",
       "      <td>M</td>\n",
       "      <td>сотрудник</td>\n",
       "      <td>0</td>\n",
       "      <td>267628.550329</td>\n",
       "      <td>дополнительное образование</td>\n",
       "    </tr>\n",
       "    <tr>\n",
       "      <th>4</th>\n",
       "      <td>0</td>\n",
       "      <td>340266.072047</td>\n",
       "      <td>53</td>\n",
       "      <td>среднее</td>\n",
       "      <td>1</td>\n",
       "      <td>гражданский брак</td>\n",
       "      <td>1</td>\n",
       "      <td>F</td>\n",
       "      <td>пенсионер</td>\n",
       "      <td>0</td>\n",
       "      <td>158616.077870</td>\n",
       "      <td>сыграть свадьбу</td>\n",
       "    </tr>\n",
       "    <tr>\n",
       "      <th>...</th>\n",
       "      <td>...</td>\n",
       "      <td>...</td>\n",
       "      <td>...</td>\n",
       "      <td>...</td>\n",
       "      <td>...</td>\n",
       "      <td>...</td>\n",
       "      <td>...</td>\n",
       "      <td>...</td>\n",
       "      <td>...</td>\n",
       "      <td>...</td>\n",
       "      <td>...</td>\n",
       "      <td>...</td>\n",
       "    </tr>\n",
       "    <tr>\n",
       "      <th>21520</th>\n",
       "      <td>1</td>\n",
       "      <td>4529.316663</td>\n",
       "      <td>43</td>\n",
       "      <td>среднее</td>\n",
       "      <td>1</td>\n",
       "      <td>гражданский брак</td>\n",
       "      <td>1</td>\n",
       "      <td>F</td>\n",
       "      <td>компаньон</td>\n",
       "      <td>0</td>\n",
       "      <td>224791.862382</td>\n",
       "      <td>операции с жильем</td>\n",
       "    </tr>\n",
       "    <tr>\n",
       "      <th>21521</th>\n",
       "      <td>0</td>\n",
       "      <td>343937.404131</td>\n",
       "      <td>67</td>\n",
       "      <td>среднее</td>\n",
       "      <td>1</td>\n",
       "      <td>женат / замужем</td>\n",
       "      <td>0</td>\n",
       "      <td>F</td>\n",
       "      <td>пенсионер</td>\n",
       "      <td>0</td>\n",
       "      <td>155999.806512</td>\n",
       "      <td>сделка с автомобилем</td>\n",
       "    </tr>\n",
       "    <tr>\n",
       "      <th>21522</th>\n",
       "      <td>1</td>\n",
       "      <td>2113.346888</td>\n",
       "      <td>38</td>\n",
       "      <td>среднее</td>\n",
       "      <td>1</td>\n",
       "      <td>гражданский брак</td>\n",
       "      <td>1</td>\n",
       "      <td>M</td>\n",
       "      <td>сотрудник</td>\n",
       "      <td>1</td>\n",
       "      <td>89672.561153</td>\n",
       "      <td>недвижимость</td>\n",
       "    </tr>\n",
       "    <tr>\n",
       "      <th>21523</th>\n",
       "      <td>3</td>\n",
       "      <td>3112.481705</td>\n",
       "      <td>38</td>\n",
       "      <td>среднее</td>\n",
       "      <td>1</td>\n",
       "      <td>женат / замужем</td>\n",
       "      <td>0</td>\n",
       "      <td>M</td>\n",
       "      <td>сотрудник</td>\n",
       "      <td>1</td>\n",
       "      <td>244093.050500</td>\n",
       "      <td>на покупку своего автомобиля</td>\n",
       "    </tr>\n",
       "    <tr>\n",
       "      <th>21524</th>\n",
       "      <td>2</td>\n",
       "      <td>1984.507589</td>\n",
       "      <td>40</td>\n",
       "      <td>среднее</td>\n",
       "      <td>1</td>\n",
       "      <td>женат / замужем</td>\n",
       "      <td>0</td>\n",
       "      <td>F</td>\n",
       "      <td>сотрудник</td>\n",
       "      <td>0</td>\n",
       "      <td>82047.418899</td>\n",
       "      <td>на покупку автомобиля</td>\n",
       "    </tr>\n",
       "  </tbody>\n",
       "</table>\n",
       "<p>21525 rows × 12 columns</p>\n",
       "</div>"
      ],
      "text/plain": [
       "       children  days_employed  dob_years education  education_id  \\\n",
       "0             1    8437.673028         42    высшее             0   \n",
       "1             1    4024.803754         36   среднее             1   \n",
       "2             0    5623.422610         33   Среднее             1   \n",
       "3             3    4124.747207         32   среднее             1   \n",
       "4             0  340266.072047         53   среднее             1   \n",
       "...         ...            ...        ...       ...           ...   \n",
       "21520         1    4529.316663         43   среднее             1   \n",
       "21521         0  343937.404131         67   среднее             1   \n",
       "21522         1    2113.346888         38   среднее             1   \n",
       "21523         3    3112.481705         38   среднее             1   \n",
       "21524         2    1984.507589         40   среднее             1   \n",
       "\n",
       "          family_status  family_status_id gender income_type  debt  \\\n",
       "0       женат / замужем                 0      F   сотрудник     0   \n",
       "1       женат / замужем                 0      F   сотрудник     0   \n",
       "2       женат / замужем                 0      M   сотрудник     0   \n",
       "3       женат / замужем                 0      M   сотрудник     0   \n",
       "4      гражданский брак                 1      F   пенсионер     0   \n",
       "...                 ...               ...    ...         ...   ...   \n",
       "21520  гражданский брак                 1      F   компаньон     0   \n",
       "21521   женат / замужем                 0      F   пенсионер     0   \n",
       "21522  гражданский брак                 1      M   сотрудник     1   \n",
       "21523   женат / замужем                 0      M   сотрудник     1   \n",
       "21524   женат / замужем                 0      F   сотрудник     0   \n",
       "\n",
       "        total_income                       purpose  \n",
       "0      253875.639453                 покупка жилья  \n",
       "1      112080.014102       приобретение автомобиля  \n",
       "2      145885.952297                 покупка жилья  \n",
       "3      267628.550329    дополнительное образование  \n",
       "4      158616.077870               сыграть свадьбу  \n",
       "...              ...                           ...  \n",
       "21520  224791.862382             операции с жильем  \n",
       "21521  155999.806512          сделка с автомобилем  \n",
       "21522   89672.561153                  недвижимость  \n",
       "21523  244093.050500  на покупку своего автомобиля  \n",
       "21524   82047.418899         на покупку автомобиля  \n",
       "\n",
       "[21525 rows x 12 columns]"
      ]
     },
     "execution_count": 8,
     "metadata": {},
     "output_type": "execute_result"
    }
   ],
   "source": [
    "data['days_employed'] = data['days_employed'].abs()\n",
    "data"
   ]
  },
  {
   "cell_type": "markdown",
   "id": "6107dd2f",
   "metadata": {
    "deletable": false,
    "editable": false,
    "id": "6107dd2f",
    "tags": [
     "start_task"
    ]
   },
   "source": [
    "**Задание 7. Для каждого типа занятости выведите медианное значение трудового стажа `days_employed` в днях.**"
   ]
  },
  {
   "cell_type": "code",
   "execution_count": 28,
   "id": "85a5faf6",
   "metadata": {
    "id": "85a5faf6"
   },
   "outputs": [
    {
     "data": {
      "text/plain": [
       "3839"
      ]
     },
     "execution_count": 28,
     "metadata": {},
     "output_type": "execute_result"
    }
   ],
   "source": [
    "days_employed_medians = data.groupby('income_type')['days_employed'].median()\n",
    "days_employed_medians"
   ]
  },
  {
   "cell_type": "markdown",
   "id": "38d1a030",
   "metadata": {
    "deletable": false,
    "editable": false,
    "id": "38d1a030"
   },
   "source": [
    "У двух типов (безработные и пенсионеры) получатся аномально большие значения. Исправить такие значения сложно, поэтому оставьте их как есть. Тем более этот столбец не понадобится вам для исследования."
   ]
  },
  {
   "cell_type": "markdown",
   "id": "d8a9f147",
   "metadata": {
    "deletable": false,
    "editable": false,
    "id": "d8a9f147",
    "tags": [
     "start_task"
    ]
   },
   "source": [
    "**Задание 8. Выведите перечень уникальных значений столбца `children`.**"
   ]
  },
  {
   "cell_type": "code",
   "execution_count": 10,
   "id": "ef5056eb",
   "metadata": {
    "id": "ef5056eb"
   },
   "outputs": [
    {
     "data": {
      "text/plain": [
       "array([ 1,  0,  3,  2, -1,  4, 20,  5])"
      ]
     },
     "execution_count": 10,
     "metadata": {},
     "output_type": "execute_result"
    }
   ],
   "source": [
    "data['children'].unique()"
   ]
  },
  {
   "cell_type": "markdown",
   "id": "40b9ebf2",
   "metadata": {
    "deletable": false,
    "editable": false,
    "id": "40b9ebf2",
    "tags": [
     "start_task"
    ]
   },
   "source": [
    "**Задание 9. В столбце `children` есть два аномальных значения. Удалите строки, в которых встречаются такие аномальные значения из датафрейма `data`.**"
   ]
  },
  {
   "cell_type": "code",
   "execution_count": 11,
   "id": "3ff9801d",
   "metadata": {
    "id": "3ff9801d"
   },
   "outputs": [],
   "source": [
    "data = data.loc[(data['children'] != 20) & (data['children'] != -1)]"
   ]
  },
  {
   "cell_type": "markdown",
   "id": "bbc4d0ce",
   "metadata": {
    "deletable": false,
    "editable": false,
    "id": "bbc4d0ce",
    "tags": [
     "start_task"
    ]
   },
   "source": [
    "**Задание 10. Ещё раз выведите перечень уникальных значений столбца `children`, чтобы убедиться, что артефакты удалены.**"
   ]
  },
  {
   "cell_type": "code",
   "execution_count": 12,
   "id": "ad4fa8b7",
   "metadata": {
    "id": "ad4fa8b7"
   },
   "outputs": [
    {
     "data": {
      "text/plain": [
       "array([1, 0, 3, 2, 4, 5])"
      ]
     },
     "execution_count": 12,
     "metadata": {},
     "output_type": "execute_result"
    }
   ],
   "source": [
    "data['children'].unique()"
   ]
  },
  {
   "cell_type": "markdown",
   "id": "75440b63",
   "metadata": {
    "deletable": false,
    "editable": false,
    "id": "75440b63"
   },
   "source": [
    "### Удаление пропусков (продолжение)"
   ]
  },
  {
   "cell_type": "markdown",
   "id": "f4ea573f",
   "metadata": {
    "deletable": false,
    "editable": false,
    "id": "f4ea573f",
    "tags": [
     "start_task"
    ]
   },
   "source": [
    "**Задание 11. Заполните пропуски в столбце `days_employed` медианными значениями по каждому типу занятости `income_type`.**"
   ]
  },
  {
   "cell_type": "code",
   "execution_count": 13,
   "id": "af6b1a7e",
   "metadata": {
    "id": "af6b1a7e"
   },
   "outputs": [
    {
     "name": "stderr",
     "output_type": "stream",
     "text": [
      "/tmp/ipykernel_30/820208566.py:7: SettingWithCopyWarning: \n",
      "A value is trying to be set on a copy of a slice from a DataFrame.\n",
      "Try using .loc[row_indexer,col_indexer] = value instead\n",
      "\n",
      "See the caveats in the documentation: https://pandas.pydata.org/pandas-docs/stable/user_guide/indexing.html#returning-a-view-versus-a-copy\n",
      "  data['days_employed'] = data.apply(fill_days_median,axis=1)\n"
     ]
    },
    {
     "data": {
      "text/html": [
       "<div>\n",
       "<style scoped>\n",
       "    .dataframe tbody tr th:only-of-type {\n",
       "        vertical-align: middle;\n",
       "    }\n",
       "\n",
       "    .dataframe tbody tr th {\n",
       "        vertical-align: top;\n",
       "    }\n",
       "\n",
       "    .dataframe thead th {\n",
       "        text-align: right;\n",
       "    }\n",
       "</style>\n",
       "<table border=\"1\" class=\"dataframe\">\n",
       "  <thead>\n",
       "    <tr style=\"text-align: right;\">\n",
       "      <th></th>\n",
       "      <th>children</th>\n",
       "      <th>days_employed</th>\n",
       "      <th>dob_years</th>\n",
       "      <th>education</th>\n",
       "      <th>education_id</th>\n",
       "      <th>family_status</th>\n",
       "      <th>family_status_id</th>\n",
       "      <th>gender</th>\n",
       "      <th>income_type</th>\n",
       "      <th>debt</th>\n",
       "      <th>total_income</th>\n",
       "      <th>purpose</th>\n",
       "    </tr>\n",
       "  </thead>\n",
       "  <tbody>\n",
       "    <tr>\n",
       "      <th>0</th>\n",
       "      <td>1</td>\n",
       "      <td>8437.673028</td>\n",
       "      <td>42</td>\n",
       "      <td>высшее</td>\n",
       "      <td>0</td>\n",
       "      <td>женат / замужем</td>\n",
       "      <td>0</td>\n",
       "      <td>F</td>\n",
       "      <td>сотрудник</td>\n",
       "      <td>0</td>\n",
       "      <td>253875.639453</td>\n",
       "      <td>покупка жилья</td>\n",
       "    </tr>\n",
       "    <tr>\n",
       "      <th>1</th>\n",
       "      <td>1</td>\n",
       "      <td>4024.803754</td>\n",
       "      <td>36</td>\n",
       "      <td>среднее</td>\n",
       "      <td>1</td>\n",
       "      <td>женат / замужем</td>\n",
       "      <td>0</td>\n",
       "      <td>F</td>\n",
       "      <td>сотрудник</td>\n",
       "      <td>0</td>\n",
       "      <td>112080.014102</td>\n",
       "      <td>приобретение автомобиля</td>\n",
       "    </tr>\n",
       "    <tr>\n",
       "      <th>2</th>\n",
       "      <td>0</td>\n",
       "      <td>5623.422610</td>\n",
       "      <td>33</td>\n",
       "      <td>Среднее</td>\n",
       "      <td>1</td>\n",
       "      <td>женат / замужем</td>\n",
       "      <td>0</td>\n",
       "      <td>M</td>\n",
       "      <td>сотрудник</td>\n",
       "      <td>0</td>\n",
       "      <td>145885.952297</td>\n",
       "      <td>покупка жилья</td>\n",
       "    </tr>\n",
       "    <tr>\n",
       "      <th>3</th>\n",
       "      <td>3</td>\n",
       "      <td>4124.747207</td>\n",
       "      <td>32</td>\n",
       "      <td>среднее</td>\n",
       "      <td>1</td>\n",
       "      <td>женат / замужем</td>\n",
       "      <td>0</td>\n",
       "      <td>M</td>\n",
       "      <td>сотрудник</td>\n",
       "      <td>0</td>\n",
       "      <td>267628.550329</td>\n",
       "      <td>дополнительное образование</td>\n",
       "    </tr>\n",
       "    <tr>\n",
       "      <th>4</th>\n",
       "      <td>0</td>\n",
       "      <td>340266.072047</td>\n",
       "      <td>53</td>\n",
       "      <td>среднее</td>\n",
       "      <td>1</td>\n",
       "      <td>гражданский брак</td>\n",
       "      <td>1</td>\n",
       "      <td>F</td>\n",
       "      <td>пенсионер</td>\n",
       "      <td>0</td>\n",
       "      <td>158616.077870</td>\n",
       "      <td>сыграть свадьбу</td>\n",
       "    </tr>\n",
       "    <tr>\n",
       "      <th>...</th>\n",
       "      <td>...</td>\n",
       "      <td>...</td>\n",
       "      <td>...</td>\n",
       "      <td>...</td>\n",
       "      <td>...</td>\n",
       "      <td>...</td>\n",
       "      <td>...</td>\n",
       "      <td>...</td>\n",
       "      <td>...</td>\n",
       "      <td>...</td>\n",
       "      <td>...</td>\n",
       "      <td>...</td>\n",
       "    </tr>\n",
       "    <tr>\n",
       "      <th>21520</th>\n",
       "      <td>1</td>\n",
       "      <td>4529.316663</td>\n",
       "      <td>43</td>\n",
       "      <td>среднее</td>\n",
       "      <td>1</td>\n",
       "      <td>гражданский брак</td>\n",
       "      <td>1</td>\n",
       "      <td>F</td>\n",
       "      <td>компаньон</td>\n",
       "      <td>0</td>\n",
       "      <td>224791.862382</td>\n",
       "      <td>операции с жильем</td>\n",
       "    </tr>\n",
       "    <tr>\n",
       "      <th>21521</th>\n",
       "      <td>0</td>\n",
       "      <td>343937.404131</td>\n",
       "      <td>67</td>\n",
       "      <td>среднее</td>\n",
       "      <td>1</td>\n",
       "      <td>женат / замужем</td>\n",
       "      <td>0</td>\n",
       "      <td>F</td>\n",
       "      <td>пенсионер</td>\n",
       "      <td>0</td>\n",
       "      <td>155999.806512</td>\n",
       "      <td>сделка с автомобилем</td>\n",
       "    </tr>\n",
       "    <tr>\n",
       "      <th>21522</th>\n",
       "      <td>1</td>\n",
       "      <td>2113.346888</td>\n",
       "      <td>38</td>\n",
       "      <td>среднее</td>\n",
       "      <td>1</td>\n",
       "      <td>гражданский брак</td>\n",
       "      <td>1</td>\n",
       "      <td>M</td>\n",
       "      <td>сотрудник</td>\n",
       "      <td>1</td>\n",
       "      <td>89672.561153</td>\n",
       "      <td>недвижимость</td>\n",
       "    </tr>\n",
       "    <tr>\n",
       "      <th>21523</th>\n",
       "      <td>3</td>\n",
       "      <td>3112.481705</td>\n",
       "      <td>38</td>\n",
       "      <td>среднее</td>\n",
       "      <td>1</td>\n",
       "      <td>женат / замужем</td>\n",
       "      <td>0</td>\n",
       "      <td>M</td>\n",
       "      <td>сотрудник</td>\n",
       "      <td>1</td>\n",
       "      <td>244093.050500</td>\n",
       "      <td>на покупку своего автомобиля</td>\n",
       "    </tr>\n",
       "    <tr>\n",
       "      <th>21524</th>\n",
       "      <td>2</td>\n",
       "      <td>1984.507589</td>\n",
       "      <td>40</td>\n",
       "      <td>среднее</td>\n",
       "      <td>1</td>\n",
       "      <td>женат / замужем</td>\n",
       "      <td>0</td>\n",
       "      <td>F</td>\n",
       "      <td>сотрудник</td>\n",
       "      <td>0</td>\n",
       "      <td>82047.418899</td>\n",
       "      <td>на покупку автомобиля</td>\n",
       "    </tr>\n",
       "  </tbody>\n",
       "</table>\n",
       "<p>21402 rows × 12 columns</p>\n",
       "</div>"
      ],
      "text/plain": [
       "       children  days_employed  dob_years education  education_id  \\\n",
       "0             1    8437.673028         42    высшее             0   \n",
       "1             1    4024.803754         36   среднее             1   \n",
       "2             0    5623.422610         33   Среднее             1   \n",
       "3             3    4124.747207         32   среднее             1   \n",
       "4             0  340266.072047         53   среднее             1   \n",
       "...         ...            ...        ...       ...           ...   \n",
       "21520         1    4529.316663         43   среднее             1   \n",
       "21521         0  343937.404131         67   среднее             1   \n",
       "21522         1    2113.346888         38   среднее             1   \n",
       "21523         3    3112.481705         38   среднее             1   \n",
       "21524         2    1984.507589         40   среднее             1   \n",
       "\n",
       "          family_status  family_status_id gender income_type  debt  \\\n",
       "0       женат / замужем                 0      F   сотрудник     0   \n",
       "1       женат / замужем                 0      F   сотрудник     0   \n",
       "2       женат / замужем                 0      M   сотрудник     0   \n",
       "3       женат / замужем                 0      M   сотрудник     0   \n",
       "4      гражданский брак                 1      F   пенсионер     0   \n",
       "...                 ...               ...    ...         ...   ...   \n",
       "21520  гражданский брак                 1      F   компаньон     0   \n",
       "21521   женат / замужем                 0      F   пенсионер     0   \n",
       "21522  гражданский брак                 1      M   сотрудник     1   \n",
       "21523   женат / замужем                 0      M   сотрудник     1   \n",
       "21524   женат / замужем                 0      F   сотрудник     0   \n",
       "\n",
       "        total_income                       purpose  \n",
       "0      253875.639453                 покупка жилья  \n",
       "1      112080.014102       приобретение автомобиля  \n",
       "2      145885.952297                 покупка жилья  \n",
       "3      267628.550329    дополнительное образование  \n",
       "4      158616.077870               сыграть свадьбу  \n",
       "...              ...                           ...  \n",
       "21520  224791.862382             операции с жильем  \n",
       "21521  155999.806512          сделка с автомобилем  \n",
       "21522   89672.561153                  недвижимость  \n",
       "21523  244093.050500  на покупку своего автомобиля  \n",
       "21524   82047.418899         на покупку автомобиля  \n",
       "\n",
       "[21402 rows x 12 columns]"
      ]
     },
     "execution_count": 13,
     "metadata": {},
     "output_type": "execute_result"
    }
   ],
   "source": [
    "def fill_days_median(row):\n",
    "    if pd.isnull(row['days_employed']):\n",
    "        return days_employed_medians[row['income_type']]\n",
    "    else:\n",
    "        return row['days_employed']\n",
    "    \n",
    "data['days_employed'] = data.apply(fill_days_median,axis=1)\n",
    "data"
   ]
  },
  {
   "cell_type": "markdown",
   "id": "2753f40d",
   "metadata": {
    "deletable": false,
    "editable": false,
    "id": "2753f40d",
    "tags": [
     "start_task"
    ]
   },
   "source": [
    "**Задание 12. Убедитесь, что все пропуски заполнены. Проверьте себя и ещё раз выведите количество пропущенных значений для каждого столбца с помощью двух методов.**"
   ]
  },
  {
   "cell_type": "code",
   "execution_count": null,
   "id": "55f78bc2",
   "metadata": {
    "id": "55f78bc2"
   },
   "outputs": [],
   "source": [
    "# ваш код здесь\n"
   ]
  },
  {
   "cell_type": "markdown",
   "id": "ddc81e43",
   "metadata": {
    "deletable": false,
    "editable": false,
    "id": "ddc81e43"
   },
   "source": [
    "### Изменение типов данных"
   ]
  },
  {
   "cell_type": "markdown",
   "id": "42d19d24",
   "metadata": {
    "deletable": false,
    "editable": false,
    "id": "42d19d24",
    "tags": [
     "start_task"
    ]
   },
   "source": [
    "**Задание 13. Замените вещественный тип данных в столбце `total_income` на целочисленный с помощью метода `astype()`.**"
   ]
  },
  {
   "cell_type": "code",
   "execution_count": null,
   "id": "920b65ad",
   "metadata": {
    "id": "920b65ad"
   },
   "outputs": [],
   "source": [
    "for row in data['income_type'].unique():\n",
    "    data.loc[(data['income_type'] == row) & (data['days_employed'].isna()), 'days_employed'] = \\\n",
    "    data.loc[data['income_type'] == row, 'days_employed'].median()\n",
    "data\n",
    "# ваш код здесь"
   ]
  },
  {
   "cell_type": "markdown",
   "id": "80c420ba",
   "metadata": {
    "deletable": false,
    "editable": false,
    "id": "80c420ba"
   },
   "source": [
    "### Обработка дубликатов"
   ]
  },
  {
   "cell_type": "markdown",
   "id": "dc587695",
   "metadata": {
    "deletable": false,
    "editable": false,
    "id": "dc587695",
    "tags": [
     "start_task"
    ]
   },
   "source": [
    "**Задание 14. Обработайте неявные дубликаты в столбце `education`. В этом столбце есть одни и те же значения, но записанные по-разному: с использованием заглавных и строчных букв. Приведите их к нижнему регистру.**"
   ]
  },
  {
   "cell_type": "code",
   "execution_count": null,
   "id": "a9f8e2bf",
   "metadata": {
    "id": "a9f8e2bf"
   },
   "outputs": [],
   "source": [
    "# ваш код здесь"
   ]
  },
  {
   "cell_type": "markdown",
   "id": "9771a76c",
   "metadata": {
    "deletable": false,
    "editable": false,
    "id": "9771a76c",
    "tags": [
     "start_task"
    ]
   },
   "source": [
    "**Задание 15. Выведите на экран количество строк-дубликатов в данных. Если такие строки присутствуют, удалите их. Сбрасывать индексы после удаления строк дубликатов с помощью `reset_index(drop=True)` здесь не требуется.**"
   ]
  },
  {
   "cell_type": "code",
   "execution_count": null,
   "id": "3ee445e4",
   "metadata": {
    "id": "3ee445e4"
   },
   "outputs": [],
   "source": [
    "# посчитайте дубликаты"
   ]
  },
  {
   "cell_type": "code",
   "execution_count": null,
   "id": "8575fe05",
   "metadata": {
    "id": "8575fe05"
   },
   "outputs": [],
   "source": [
    "# удалите дубликаты"
   ]
  },
  {
   "cell_type": "markdown",
   "id": "9904cf55",
   "metadata": {
    "deletable": false,
    "editable": false,
    "id": "9904cf55"
   },
   "source": [
    "### Категоризация данных"
   ]
  },
  {
   "cell_type": "markdown",
   "id": "72fcc8a2",
   "metadata": {
    "deletable": false,
    "editable": false,
    "id": "72fcc8a2",
    "tags": [
     "start_task"
    ]
   },
   "source": [
    "**Задание 16. На основании диапазонов, указанных ниже, создайте в датафрейме `data` столбец `total_income_category` с категориями:**\n",
    "\n",
    "- 0–30000 — `'E'`;\n",
    "- 30001–50000 — `'D'`;\n",
    "- 50001–200000 — `'C'`;\n",
    "- 200001–1000000 — `'B'`;\n",
    "- 1000001 и выше — `'A'`.\n",
    "\n",
    "\n",
    "**Например, кредитополучателю с доходом 25000 нужно назначить категорию `'E'`, а клиенту, получающему 235000, — `'B'`. Используйте собственную функцию с именем `categorize_income()` и метод `apply()`.**"
   ]
  },
  {
   "cell_type": "code",
   "execution_count": null,
   "id": "e1771346",
   "metadata": {
    "id": "e1771346"
   },
   "outputs": [],
   "source": [
    "# создайте функцию categorize_income()"
   ]
  },
  {
   "cell_type": "code",
   "execution_count": null,
   "id": "d5f3586d",
   "metadata": {
    "id": "d5f3586d"
   },
   "outputs": [],
   "source": [
    "# примените функцию методом apply()"
   ]
  },
  {
   "cell_type": "markdown",
   "id": "dde49b5c",
   "metadata": {
    "deletable": false,
    "editable": false,
    "id": "dde49b5c",
    "tags": [
     "start_task"
    ]
   },
   "source": [
    "**Задание 17. Выведите на экран перечень уникальных целей взятия кредита из столбца `purpose`.**"
   ]
  },
  {
   "cell_type": "code",
   "execution_count": null,
   "id": "f67ce9b3",
   "metadata": {
    "id": "f67ce9b3"
   },
   "outputs": [],
   "source": [
    "# ваш код здесь"
   ]
  },
  {
   "cell_type": "markdown",
   "id": "85d0aef0",
   "metadata": {
    "deletable": false,
    "editable": false,
    "id": "85d0aef0",
    "tags": [
     "start_task"
    ]
   },
   "source": [
    "**Задание 18. Создайте функцию, которая на основании данных из столбца `purpose` сформирует новый столбец `purpose_category`, в который войдут следующие категории:**\n",
    "\n",
    "- `'операции с автомобилем'`,\n",
    "- `'операции с недвижимостью'`,\n",
    "- `'проведение свадьбы'`,\n",
    "- `'получение образования'`.\n",
    "\n",
    "**Например, если в столбце `purpose` находится подстрока `'на покупку автомобиля'`, то в столбце `purpose_category` должна появиться строка `'операции с автомобилем'`.**\n",
    "\n",
    "**Используйте собственную функцию с именем `categorize_purpose()` и метод `apply()`. Изучите данные в столбце `purpose` и определите, какие подстроки помогут вам правильно определить категорию.**"
   ]
  },
  {
   "cell_type": "code",
   "execution_count": null,
   "id": "e149fab4",
   "metadata": {
    "id": "e149fab4"
   },
   "outputs": [],
   "source": [
    "# создайте функцию categorize_purpose()"
   ]
  },
  {
   "cell_type": "code",
   "execution_count": null,
   "id": "bf36e69b",
   "metadata": {
    "id": "bf36e69b"
   },
   "outputs": [],
   "source": [
    "# примените функцию методом apply()"
   ]
  }
 ],
 "metadata": {
  "ExecuteTimeLog": [
   {
    "duration": 415,
    "start_time": "2023-01-07T10:13:03.881Z"
   },
   {
    "duration": 2,
    "start_time": "2023-01-07T10:13:04.858Z"
   },
   {
    "duration": 137,
    "start_time": "2023-01-07T10:13:07.399Z"
   },
   {
    "duration": 35,
    "start_time": "2023-01-07T10:13:38.563Z"
   },
   {
    "duration": 20,
    "start_time": "2023-01-07T10:21:38.789Z"
   },
   {
    "duration": 13,
    "start_time": "2023-01-07T10:37:46.776Z"
   },
   {
    "duration": 61,
    "start_time": "2023-01-07T11:24:03.206Z"
   },
   {
    "duration": 11,
    "start_time": "2023-01-07T11:30:41.920Z"
   },
   {
    "duration": 4,
    "start_time": "2023-01-07T11:30:45.259Z"
   },
   {
    "duration": 5,
    "start_time": "2023-01-07T11:30:55.098Z"
   },
   {
    "duration": 7,
    "start_time": "2023-01-07T11:31:34.667Z"
   },
   {
    "duration": 7,
    "start_time": "2023-01-07T11:33:04.236Z"
   },
   {
    "duration": 7,
    "start_time": "2023-01-07T11:44:23.744Z"
   },
   {
    "duration": 9,
    "start_time": "2023-01-07T11:45:33.564Z"
   },
   {
    "duration": 49,
    "start_time": "2023-01-07T13:18:18.765Z"
   },
   {
    "duration": 427,
    "start_time": "2023-01-07T13:18:29.210Z"
   },
   {
    "duration": 416,
    "start_time": "2023-01-07T13:18:29.639Z"
   },
   {
    "duration": 23,
    "start_time": "2023-01-07T13:18:30.057Z"
   },
   {
    "duration": 21,
    "start_time": "2023-01-07T13:18:30.083Z"
   },
   {
    "duration": 50,
    "start_time": "2023-01-07T13:18:30.106Z"
   },
   {
    "duration": 1005,
    "start_time": "2023-01-07T13:18:33.588Z"
   },
   {
    "duration": 9,
    "start_time": "2023-01-07T13:51:37.502Z"
   },
   {
    "duration": 338,
    "start_time": "2023-01-08T10:57:32.768Z"
   },
   {
    "duration": 127,
    "start_time": "2023-01-08T10:57:33.108Z"
   },
   {
    "duration": 18,
    "start_time": "2023-01-08T10:57:33.237Z"
   },
   {
    "duration": 12,
    "start_time": "2023-01-08T10:57:33.257Z"
   },
   {
    "duration": 8,
    "start_time": "2023-01-08T10:57:33.270Z"
   },
   {
    "duration": 65,
    "start_time": "2023-01-08T10:58:46.061Z"
   },
   {
    "duration": 9,
    "start_time": "2023-01-08T10:59:36.535Z"
   },
   {
    "duration": 9,
    "start_time": "2023-01-08T10:59:38.962Z"
   },
   {
    "duration": 6,
    "start_time": "2023-01-08T11:00:09.954Z"
   },
   {
    "duration": 7,
    "start_time": "2023-01-08T11:00:25.643Z"
   },
   {
    "duration": 7,
    "start_time": "2023-01-08T11:00:45.338Z"
   },
   {
    "duration": 7,
    "start_time": "2023-01-08T11:00:50.892Z"
   },
   {
    "duration": 1154,
    "start_time": "2023-01-08T11:01:06.116Z"
   },
   {
    "duration": 10,
    "start_time": "2023-01-08T11:01:50.639Z"
   },
   {
    "duration": 172,
    "start_time": "2023-01-08T11:07:48.206Z"
   },
   {
    "duration": 3,
    "start_time": "2023-01-08T11:08:03.180Z"
   },
   {
    "duration": 65,
    "start_time": "2023-01-08T11:08:03.185Z"
   },
   {
    "duration": 13,
    "start_time": "2023-01-08T11:08:03.251Z"
   },
   {
    "duration": 15,
    "start_time": "2023-01-08T11:08:03.266Z"
   },
   {
    "duration": 8,
    "start_time": "2023-01-08T11:08:03.282Z"
   },
   {
    "duration": 192,
    "start_time": "2023-01-08T11:08:49.705Z"
   },
   {
    "duration": 2,
    "start_time": "2023-01-08T11:09:52.978Z"
   },
   {
    "duration": 68,
    "start_time": "2023-01-08T11:09:52.983Z"
   },
   {
    "duration": 14,
    "start_time": "2023-01-08T11:09:53.053Z"
   },
   {
    "duration": 20,
    "start_time": "2023-01-08T11:09:53.069Z"
   },
   {
    "duration": 22,
    "start_time": "2023-01-08T11:09:53.091Z"
   },
   {
    "duration": 192,
    "start_time": "2023-01-08T11:09:55.333Z"
   },
   {
    "duration": 311,
    "start_time": "2023-01-08T11:53:43.149Z"
   },
   {
    "duration": 8,
    "start_time": "2023-01-08T12:01:01.214Z"
   },
   {
    "duration": 288,
    "start_time": "2023-01-08T12:01:06.993Z"
   },
   {
    "duration": 69,
    "start_time": "2023-01-08T12:01:40.034Z"
   },
   {
    "duration": 6,
    "start_time": "2023-01-08T12:01:43.688Z"
   },
   {
    "duration": 333,
    "start_time": "2023-01-08T12:01:50.330Z"
   },
   {
    "duration": 17,
    "start_time": "2023-01-08T12:05:54.195Z"
   },
   {
    "duration": 25,
    "start_time": "2023-01-08T12:46:30.334Z"
   },
   {
    "duration": 7,
    "start_time": "2023-01-08T12:46:51.744Z"
   },
   {
    "duration": 6,
    "start_time": "2023-01-08T12:49:25.987Z"
   },
   {
    "duration": 6,
    "start_time": "2023-01-08T12:53:55.488Z"
   },
   {
    "duration": 20,
    "start_time": "2023-01-08T12:53:58.639Z"
   },
   {
    "duration": 7,
    "start_time": "2023-01-08T12:54:04.058Z"
   },
   {
    "duration": 4,
    "start_time": "2023-01-08T12:55:29.026Z"
   },
   {
    "duration": 58,
    "start_time": "2023-01-08T18:31:58.005Z"
   },
   {
    "duration": 381,
    "start_time": "2023-01-08T18:32:06.419Z"
   },
   {
    "duration": 125,
    "start_time": "2023-01-08T18:32:06.803Z"
   },
   {
    "duration": 27,
    "start_time": "2023-01-08T18:32:06.930Z"
   },
   {
    "duration": 17,
    "start_time": "2023-01-08T18:32:06.959Z"
   },
   {
    "duration": 15,
    "start_time": "2023-01-08T18:32:06.977Z"
   },
   {
    "duration": 204,
    "start_time": "2023-01-08T18:32:06.993Z"
   },
   {
    "duration": 21,
    "start_time": "2023-01-08T18:32:07.199Z"
   },
   {
    "duration": 8,
    "start_time": "2023-01-08T18:32:07.221Z"
   },
   {
    "duration": 4,
    "start_time": "2023-01-08T18:32:07.231Z"
   },
   {
    "duration": 7,
    "start_time": "2023-01-08T18:32:07.237Z"
   },
   {
    "duration": 221,
    "start_time": "2023-01-08T18:32:10.372Z"
   },
   {
    "duration": 199,
    "start_time": "2023-01-08T18:35:09.062Z"
   },
   {
    "duration": 3,
    "start_time": "2023-01-08T18:35:30.833Z"
   },
   {
    "duration": 129,
    "start_time": "2023-01-08T18:35:30.839Z"
   },
   {
    "duration": 21,
    "start_time": "2023-01-08T18:35:30.971Z"
   },
   {
    "duration": 30,
    "start_time": "2023-01-08T18:35:30.994Z"
   },
   {
    "duration": 25,
    "start_time": "2023-01-08T18:35:31.027Z"
   },
   {
    "duration": 231,
    "start_time": "2023-01-08T18:35:31.054Z"
   },
   {
    "duration": 37,
    "start_time": "2023-01-08T18:35:31.286Z"
   },
   {
    "duration": 9,
    "start_time": "2023-01-08T18:35:31.325Z"
   },
   {
    "duration": 20,
    "start_time": "2023-01-08T18:35:31.336Z"
   },
   {
    "duration": 26,
    "start_time": "2023-01-08T18:35:31.358Z"
   },
   {
    "duration": 15,
    "start_time": "2023-01-08T18:35:31.387Z"
   },
   {
    "duration": 196,
    "start_time": "2023-01-08T18:35:33.028Z"
   },
   {
    "duration": 3,
    "start_time": "2023-01-08T18:37:28.869Z"
   },
   {
    "duration": 93,
    "start_time": "2023-01-08T18:37:28.874Z"
   },
   {
    "duration": 23,
    "start_time": "2023-01-08T18:37:28.969Z"
   },
   {
    "duration": 57,
    "start_time": "2023-01-08T18:37:28.994Z"
   },
   {
    "duration": 32,
    "start_time": "2023-01-08T18:37:29.054Z"
   },
   {
    "duration": 235,
    "start_time": "2023-01-08T18:37:29.088Z"
   },
   {
    "duration": 19,
    "start_time": "2023-01-08T18:37:29.325Z"
   },
   {
    "duration": 8,
    "start_time": "2023-01-08T18:37:29.346Z"
   },
   {
    "duration": 4,
    "start_time": "2023-01-08T18:37:29.355Z"
   },
   {
    "duration": 7,
    "start_time": "2023-01-08T18:37:29.361Z"
   },
   {
    "duration": 5,
    "start_time": "2023-01-08T18:37:29.369Z"
   },
   {
    "duration": 201,
    "start_time": "2023-01-08T18:37:32.315Z"
   },
   {
    "duration": 210,
    "start_time": "2023-01-08T18:55:37.484Z"
   },
   {
    "duration": 1338,
    "start_time": "2023-01-08T18:57:13.846Z"
   },
   {
    "duration": 1234,
    "start_time": "2023-01-08T18:57:33.741Z"
   },
   {
    "duration": 3,
    "start_time": "2023-01-08T19:07:41.949Z"
   },
   {
    "duration": 10,
    "start_time": "2023-01-08T19:08:13.230Z"
   },
   {
    "duration": 78,
    "start_time": "2023-01-08T19:08:20.385Z"
   },
   {
    "duration": 52,
    "start_time": "2023-01-08T19:10:04.727Z"
   },
   {
    "duration": 3,
    "start_time": "2023-01-08T19:29:11.490Z"
   },
   {
    "duration": 68,
    "start_time": "2023-01-08T19:29:11.495Z"
   },
   {
    "duration": 13,
    "start_time": "2023-01-08T19:29:11.565Z"
   },
   {
    "duration": 15,
    "start_time": "2023-01-08T19:29:11.579Z"
   },
   {
    "duration": 8,
    "start_time": "2023-01-08T19:29:11.596Z"
   },
   {
    "duration": 204,
    "start_time": "2023-01-08T19:29:11.605Z"
   },
   {
    "duration": 17,
    "start_time": "2023-01-08T19:29:11.810Z"
   },
   {
    "duration": 6,
    "start_time": "2023-01-08T19:29:11.829Z"
   },
   {
    "duration": 4,
    "start_time": "2023-01-08T19:29:11.836Z"
   },
   {
    "duration": 6,
    "start_time": "2023-01-08T19:29:11.841Z"
   },
   {
    "duration": 3,
    "start_time": "2023-01-08T19:29:11.849Z"
   },
   {
    "duration": 46,
    "start_time": "2023-01-08T19:29:13.582Z"
   },
   {
    "duration": 176,
    "start_time": "2023-01-08T19:29:39.078Z"
   },
   {
    "duration": 215,
    "start_time": "2023-01-08T19:35:56.113Z"
   },
   {
    "duration": 179,
    "start_time": "2023-01-08T20:30:25.016Z"
   },
   {
    "duration": 2,
    "start_time": "2023-01-08T20:30:33.400Z"
   },
   {
    "duration": 69,
    "start_time": "2023-01-08T20:30:33.406Z"
   },
   {
    "duration": 13,
    "start_time": "2023-01-08T20:30:33.478Z"
   },
   {
    "duration": 13,
    "start_time": "2023-01-08T20:30:33.493Z"
   },
   {
    "duration": 7,
    "start_time": "2023-01-08T20:30:33.508Z"
   },
   {
    "duration": 189,
    "start_time": "2023-01-08T20:30:33.517Z"
   },
   {
    "duration": 19,
    "start_time": "2023-01-08T20:30:33.707Z"
   },
   {
    "duration": 6,
    "start_time": "2023-01-08T20:30:33.727Z"
   },
   {
    "duration": 4,
    "start_time": "2023-01-08T20:30:33.734Z"
   },
   {
    "duration": 6,
    "start_time": "2023-01-08T20:30:33.739Z"
   },
   {
    "duration": 11,
    "start_time": "2023-01-08T20:30:33.747Z"
   },
   {
    "duration": 190,
    "start_time": "2023-01-08T20:30:36.049Z"
   },
   {
    "duration": 47,
    "start_time": "2023-01-08T21:21:43.564Z"
   },
   {
    "duration": 383,
    "start_time": "2023-01-08T21:21:48.303Z"
   },
   {
    "duration": 287,
    "start_time": "2023-01-08T21:21:48.687Z"
   },
   {
    "duration": 21,
    "start_time": "2023-01-08T21:21:48.975Z"
   },
   {
    "duration": 13,
    "start_time": "2023-01-08T21:21:48.998Z"
   },
   {
    "duration": 9,
    "start_time": "2023-01-08T21:21:49.012Z"
   },
   {
    "duration": 241,
    "start_time": "2023-01-08T21:21:49.024Z"
   },
   {
    "duration": 25,
    "start_time": "2023-01-08T21:21:49.267Z"
   },
   {
    "duration": 7,
    "start_time": "2023-01-08T21:21:49.293Z"
   },
   {
    "duration": 4,
    "start_time": "2023-01-08T21:21:49.302Z"
   },
   {
    "duration": 7,
    "start_time": "2023-01-08T21:21:49.308Z"
   },
   {
    "duration": 4,
    "start_time": "2023-01-08T21:21:51.052Z"
   },
   {
    "duration": 407,
    "start_time": "2023-01-09T14:33:07.935Z"
   },
   {
    "duration": 309,
    "start_time": "2023-01-09T14:33:08.344Z"
   },
   {
    "duration": 21,
    "start_time": "2023-01-09T14:33:08.654Z"
   },
   {
    "duration": 13,
    "start_time": "2023-01-09T14:33:08.677Z"
   },
   {
    "duration": 9,
    "start_time": "2023-01-09T14:33:08.692Z"
   },
   {
    "duration": 248,
    "start_time": "2023-01-09T14:33:08.703Z"
   },
   {
    "duration": 20,
    "start_time": "2023-01-09T14:33:08.954Z"
   },
   {
    "duration": 21,
    "start_time": "2023-01-09T14:33:08.976Z"
   },
   {
    "duration": 18,
    "start_time": "2023-01-09T14:33:08.999Z"
   },
   {
    "duration": 26,
    "start_time": "2023-01-09T14:33:09.019Z"
   },
   {
    "duration": 20,
    "start_time": "2023-01-09T14:33:09.047Z"
   },
   {
    "duration": 207,
    "start_time": "2023-01-09T14:33:11.292Z"
   },
   {
    "duration": 423,
    "start_time": "2023-01-09T19:43:58.004Z"
   },
   {
    "duration": 151,
    "start_time": "2023-01-09T19:43:58.430Z"
   },
   {
    "duration": 22,
    "start_time": "2023-01-09T19:43:58.583Z"
   },
   {
    "duration": 15,
    "start_time": "2023-01-09T19:43:58.607Z"
   },
   {
    "duration": 11,
    "start_time": "2023-01-09T19:43:58.623Z"
   },
   {
    "duration": 236,
    "start_time": "2023-01-09T19:43:58.636Z"
   },
   {
    "duration": 32,
    "start_time": "2023-01-09T19:43:58.874Z"
   },
   {
    "duration": 8,
    "start_time": "2023-01-09T19:43:58.907Z"
   },
   {
    "duration": 5,
    "start_time": "2023-01-09T19:43:58.917Z"
   },
   {
    "duration": 7,
    "start_time": "2023-01-09T19:43:58.925Z"
   },
   {
    "duration": 5,
    "start_time": "2023-01-09T19:43:58.934Z"
   },
   {
    "duration": 224,
    "start_time": "2023-01-09T19:49:50.245Z"
   },
   {
    "duration": 235,
    "start_time": "2023-01-09T19:50:20.221Z"
   },
   {
    "duration": 10,
    "start_time": "2023-01-09T19:53:24.926Z"
   },
   {
    "duration": 30,
    "start_time": "2023-01-09T19:55:50.917Z"
   },
   {
    "duration": 400,
    "start_time": "2023-01-10T11:03:08.364Z"
   },
   {
    "duration": 309,
    "start_time": "2023-01-10T11:03:08.766Z"
   },
   {
    "duration": 21,
    "start_time": "2023-01-10T11:03:09.077Z"
   },
   {
    "duration": 15,
    "start_time": "2023-01-10T11:03:09.101Z"
   },
   {
    "duration": 12,
    "start_time": "2023-01-10T11:03:09.117Z"
   },
   {
    "duration": 210,
    "start_time": "2023-01-10T11:03:43.317Z"
   },
   {
    "duration": 10,
    "start_time": "2023-01-10T11:03:51.001Z"
   },
   {
    "duration": 21,
    "start_time": "2023-01-10T11:03:58.714Z"
   },
   {
    "duration": 8,
    "start_time": "2023-01-10T11:04:01.840Z"
   },
   {
    "duration": 5,
    "start_time": "2023-01-10T11:04:06.711Z"
   },
   {
    "duration": 7,
    "start_time": "2023-01-10T11:04:09.881Z"
   },
   {
    "duration": 4,
    "start_time": "2023-01-10T11:04:12.757Z"
   },
   {
    "duration": 226,
    "start_time": "2023-01-10T11:04:23.576Z"
   },
   {
    "duration": 916,
    "start_time": "2023-01-10T11:08:18.401Z"
   },
   {
    "duration": 879,
    "start_time": "2023-01-10T11:08:34.157Z"
   },
   {
    "duration": 784,
    "start_time": "2023-01-10T11:08:57.889Z"
   },
   {
    "duration": 857,
    "start_time": "2023-01-10T11:10:05.528Z"
   },
   {
    "duration": 828,
    "start_time": "2023-01-10T11:11:17.571Z"
   },
   {
    "duration": 11,
    "start_time": "2023-01-10T11:11:27.865Z"
   },
   {
    "duration": 16,
    "start_time": "2023-01-10T11:11:48.777Z"
   },
   {
    "duration": 8,
    "start_time": "2023-01-10T11:11:53.305Z"
   },
   {
    "duration": 38,
    "start_time": "2023-01-10T11:12:16.180Z"
   },
   {
    "duration": 9,
    "start_time": "2023-01-10T11:12:39.620Z"
   },
   {
    "duration": 14,
    "start_time": "2023-01-10T11:12:43.761Z"
   },
   {
    "duration": 13,
    "start_time": "2023-01-10T11:12:47.765Z"
   },
   {
    "duration": 28,
    "start_time": "2023-01-10T11:13:19.647Z"
   },
   {
    "duration": 12,
    "start_time": "2023-01-10T11:13:30.156Z"
   },
   {
    "duration": 10,
    "start_time": "2023-01-10T11:13:48.987Z"
   }
  ],
  "colab": {
   "provenance": []
  },
  "kernelspec": {
   "display_name": "Python 3 (ipykernel)",
   "language": "python",
   "name": "python3"
  },
  "language_info": {
   "codemirror_mode": {
    "name": "ipython",
    "version": 3
   },
   "file_extension": ".py",
   "mimetype": "text/x-python",
   "name": "python",
   "nbconvert_exporter": "python",
   "pygments_lexer": "ipython3",
   "version": "3.9.5"
  },
  "toc": {
   "base_numbering": 1,
   "nav_menu": {},
   "number_sections": true,
   "sideBar": true,
   "skip_h1_title": true,
   "title_cell": "Table of Contents",
   "title_sidebar": "Contents",
   "toc_cell": false,
   "toc_position": {},
   "toc_section_display": true,
   "toc_window_display": false
  }
 },
 "nbformat": 4,
 "nbformat_minor": 5
}
