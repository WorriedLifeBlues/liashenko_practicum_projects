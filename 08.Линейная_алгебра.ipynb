{
 "cells": [
  {
   "cell_type": "markdown",
   "metadata": {},
   "source": [
    "<div style=\"border:solid green 2px; padding: 20px\">\n",
    "<b>Привет, Анастасия!</b>\n",
    "\n",
    "Меня зовут Александр, и я буду проверять твой проект. Предлагаю общаться на «ты» :) Но если это не удобно - дай знать, и мы перейдем на \"вы\". \n",
    "\n",
    "Моя основная цель — не указать на совершенные тобою ошибки, а поделиться своим опытом и помочь тебе стать data science. Ты уже проделал большую работу над проектом, но давай сделаем его еще лучше. Ниже ты найдешь мои комментарии - **пожалуйста, не перемещай, не изменяй и не удаляй их**. Увидев у тебя ошибку, в первый раз я лишь укажу на ее наличие и дам тебе возможность самой найти и исправить ее. На реальной работе твой начальник будет поступать так же, а я пытаюсь подготовить тебя именно к работе аналитиком. Но если ты пока не справишься с такой задачей - при следующей проверке я дам более точную подсказку. Я буду использовать цветовую разметку:\n",
    "\n",
    "<div class=\"alert alert-danger\">\n",
    "<b>Комментарий ревьюера ❌:</b> Так выделены самые важные замечания. Без их отработки проект не будет принят. </div>\n",
    "\n",
    "<div class=\"alert alert-warning\">\n",
    "<b>Комментарий ревьюера ⚠️:</b> Так выделены небольшие замечания. Я надеюсь, что их ты тоже учтешь - твой проект от этого станет только лучше. Но настаивать на их отработке не буду.\n",
    "\n",
    "</div>\n",
    "\n",
    "<div class=\"alert alert-success\">\n",
    "<b>Комментарий ревьюера ✔️:</b> Так я выделяю все остальные комментарии.</div>\n",
    "\n",
    "Давай работать над проектом в диалоге: **если ты что-то меняешь в проекте или отвечаешь на мои комменатри — пиши об этом.** Мне будет легче отследить изменения, если ты выделишь свои комментарии:\n",
    "<div class=\"alert alert-info\"> <b>Комментарий студента:</b> Например, вот так.</div>\n",
    "\n",
    "Всё это поможет выполнить повторную проверку твоего проекта оперативнее. "
   ]
  },
  {
   "cell_type": "markdown",
   "metadata": {
    "toc": true
   },
   "source": [
    "<h1>Содержание<span class=\"tocSkip\"></span></h1>\n",
    "<div class=\"toc\"><ul class=\"toc-item\"><li><span><a href=\"#Загрузка-данных\" data-toc-modified-id=\"Загрузка-данных-1\"><span class=\"toc-item-num\">1&nbsp;&nbsp;</span>Загрузка данных</a></span></li><li><span><a href=\"#Умножение-матриц\" data-toc-modified-id=\"Умножение-матриц-2\"><span class=\"toc-item-num\">2&nbsp;&nbsp;</span>Умножение матриц</a></span></li><li><span><a href=\"#Алгоритм-преобразования\" data-toc-modified-id=\"Алгоритм-преобразования-3\"><span class=\"toc-item-num\">3&nbsp;&nbsp;</span>Алгоритм преобразования</a></span></li><li><span><a href=\"#Проверка-алгоритма\" data-toc-modified-id=\"Проверка-алгоритма-4\"><span class=\"toc-item-num\">4&nbsp;&nbsp;</span>Проверка алгоритма</a></span></li><li><span><a href=\"#Общий-вывод\" data-toc-modified-id=\"Общий-вывод-5\"><span class=\"toc-item-num\">5&nbsp;&nbsp;</span>Общий вывод</a></span></li><li><span><a href=\"#Чек-лист-проверки\" data-toc-modified-id=\"Чек-лист-проверки-6\"><span class=\"toc-item-num\">6&nbsp;&nbsp;</span>Чек-лист проверки</a></span></li></ul></div>"
   ]
  },
  {
   "cell_type": "markdown",
   "metadata": {},
   "source": [
    "# Защита персональных данных клиентов"
   ]
  },
  {
   "cell_type": "markdown",
   "metadata": {},
   "source": [
    "Вам нужно защитить данные клиентов страховой компании «Хоть потоп». Разработайте такой метод преобразования данных, чтобы по ним было сложно восстановить персональную информацию. Обоснуйте корректность его работы.\n",
    "\n",
    "Нужно защитить данные, чтобы при преобразовании качество моделей машинного обучения не ухудшилось. Подбирать наилучшую модель не требуется."
   ]
  },
  {
   "cell_type": "markdown",
   "metadata": {},
   "source": [
    "## Загрузка данных"
   ]
  },
  {
   "cell_type": "code",
   "execution_count": 45,
   "metadata": {},
   "outputs": [],
   "source": [
    "import pandas as pd\n",
    "import numpy as np\n",
    "from sklearn.model_selection import train_test_split\n",
    "from sklearn.linear_model import LinearRegression\n",
    "from sklearn.metrics import r2_score"
   ]
  },
  {
   "cell_type": "markdown",
   "metadata": {},
   "source": [
    "Проверим типы данных и наличие пропущенных значений."
   ]
  },
  {
   "cell_type": "code",
   "execution_count": 46,
   "metadata": {},
   "outputs": [],
   "source": [
    "data = pd.read_csv('/datasets/insurance.csv')"
   ]
  },
  {
   "cell_type": "markdown",
   "metadata": {},
   "source": [
    "<div class=\"alert alert-success\">\n",
    "<b>Комментарий ревьюера ✔️:</b> огонь, данные на месте:)</div>"
   ]
  },
  {
   "cell_type": "code",
   "execution_count": 47,
   "metadata": {},
   "outputs": [
    {
     "data": {
      "text/html": [
       "<div>\n",
       "<style scoped>\n",
       "    .dataframe tbody tr th:only-of-type {\n",
       "        vertical-align: middle;\n",
       "    }\n",
       "\n",
       "    .dataframe tbody tr th {\n",
       "        vertical-align: top;\n",
       "    }\n",
       "\n",
       "    .dataframe thead th {\n",
       "        text-align: right;\n",
       "    }\n",
       "</style>\n",
       "<table border=\"1\" class=\"dataframe\">\n",
       "  <thead>\n",
       "    <tr style=\"text-align: right;\">\n",
       "      <th></th>\n",
       "      <th>Пол</th>\n",
       "      <th>Возраст</th>\n",
       "      <th>Зарплата</th>\n",
       "      <th>Члены семьи</th>\n",
       "      <th>Страховые выплаты</th>\n",
       "    </tr>\n",
       "  </thead>\n",
       "  <tbody>\n",
       "    <tr>\n",
       "      <th>0</th>\n",
       "      <td>1</td>\n",
       "      <td>41.0</td>\n",
       "      <td>49600.0</td>\n",
       "      <td>1</td>\n",
       "      <td>0</td>\n",
       "    </tr>\n",
       "    <tr>\n",
       "      <th>1</th>\n",
       "      <td>0</td>\n",
       "      <td>46.0</td>\n",
       "      <td>38000.0</td>\n",
       "      <td>1</td>\n",
       "      <td>1</td>\n",
       "    </tr>\n",
       "    <tr>\n",
       "      <th>2</th>\n",
       "      <td>0</td>\n",
       "      <td>29.0</td>\n",
       "      <td>21000.0</td>\n",
       "      <td>0</td>\n",
       "      <td>0</td>\n",
       "    </tr>\n",
       "    <tr>\n",
       "      <th>3</th>\n",
       "      <td>0</td>\n",
       "      <td>21.0</td>\n",
       "      <td>41700.0</td>\n",
       "      <td>2</td>\n",
       "      <td>0</td>\n",
       "    </tr>\n",
       "    <tr>\n",
       "      <th>4</th>\n",
       "      <td>1</td>\n",
       "      <td>28.0</td>\n",
       "      <td>26100.0</td>\n",
       "      <td>0</td>\n",
       "      <td>0</td>\n",
       "    </tr>\n",
       "  </tbody>\n",
       "</table>\n",
       "</div>"
      ],
      "text/plain": [
       "   Пол  Возраст  Зарплата  Члены семьи  Страховые выплаты\n",
       "0    1     41.0   49600.0            1                  0\n",
       "1    0     46.0   38000.0            1                  1\n",
       "2    0     29.0   21000.0            0                  0\n",
       "3    0     21.0   41700.0            2                  0\n",
       "4    1     28.0   26100.0            0                  0"
      ]
     },
     "execution_count": 47,
     "metadata": {},
     "output_type": "execute_result"
    }
   ],
   "source": [
    "data.head()"
   ]
  },
  {
   "cell_type": "code",
   "execution_count": 48,
   "metadata": {
    "scrolled": true
   },
   "outputs": [
    {
     "name": "stdout",
     "output_type": "stream",
     "text": [
      "<class 'pandas.core.frame.DataFrame'>\n",
      "RangeIndex: 5000 entries, 0 to 4999\n",
      "Data columns (total 5 columns):\n",
      " #   Column             Non-Null Count  Dtype  \n",
      "---  ------             --------------  -----  \n",
      " 0   Пол                5000 non-null   int64  \n",
      " 1   Возраст            5000 non-null   float64\n",
      " 2   Зарплата           5000 non-null   float64\n",
      " 3   Члены семьи        5000 non-null   int64  \n",
      " 4   Страховые выплаты  5000 non-null   int64  \n",
      "dtypes: float64(2), int64(3)\n",
      "memory usage: 195.4 KB\n"
     ]
    }
   ],
   "source": [
    "data.info()"
   ]
  },
  {
   "cell_type": "code",
   "execution_count": 58,
   "metadata": {},
   "outputs": [
    {
     "data": {
      "text/plain": [
       "(5000, 5)"
      ]
     },
     "execution_count": 58,
     "metadata": {},
     "output_type": "execute_result"
    }
   ],
   "source": [
    "data.shape"
   ]
  },
  {
   "cell_type": "markdown",
   "metadata": {},
   "source": [
    "Данные в порядке, менять ничего не будем."
   ]
  },
  {
   "cell_type": "markdown",
   "metadata": {},
   "source": [
    "<div class=\"alert alert-success\">\n",
    "<b>Комментарий ревьюера ✔️:</b> Хорошо:)</div>"
   ]
  },
  {
   "cell_type": "markdown",
   "metadata": {},
   "source": [
    "## Умножение матриц"
   ]
  },
  {
   "cell_type": "markdown",
   "metadata": {},
   "source": [
    "В этом задании вы можете записывать формулы в *Jupyter Notebook.*\n",
    "\n",
    "Чтобы записать формулу внутри текста, окружите её символами доллара \\\\$; если снаружи —  двойными символами \\\\$\\\\$. Эти формулы записываются на языке вёрстки *LaTeX.* \n",
    "\n",
    "Для примера мы записали формулы линейной регрессии. Можете их скопировать и отредактировать, чтобы решить задачу.\n",
    "\n",
    "Работать в *LaTeX* необязательно."
   ]
  },
  {
   "cell_type": "markdown",
   "metadata": {},
   "source": [
    "Обозначения:\n",
    "\n",
    "- $X$ — матрица признаков (нулевой столбец состоит из единиц)\n",
    "\n",
    "- $y$ — вектор целевого признака\n",
    "\n",
    "- $P$ — матрица, на которую умножаются признаки\n",
    "\n",
    "- $w$ — вектор весов линейной регрессии (нулевой элемент равен сдвигу)"
   ]
  },
  {
   "cell_type": "markdown",
   "metadata": {},
   "source": [
    "Предсказания:\n",
    "\n",
    "$$\n",
    "a = Xw\n",
    "$$\n",
    "\n",
    "Задача обучения:\n",
    "\n",
    "$$\n",
    "w = \\arg\\min_w MSE(Xw, y)\n",
    "$$\n",
    "\n",
    "Формула обучения:\n",
    "\n",
    "$$\n",
    "w = (X^T X)^{-1} X^T y\n",
    "$$"
   ]
  },
  {
   "cell_type": "markdown",
   "metadata": {},
   "source": [
    "**Ответ:** не изменится\n",
    "\n",
    "**Обоснование:** Умножим матрицу X на обратимую матрицу $Amxm$\n",
    "\n",
    "Подставим в предсказание $a = Xw$ формулу обучения $w = (X^T X)^{-1} X^T y$ и заменим на наши матрицы:\n",
    "\n",
    "$$\n",
    "a_p = XA ((XA)^T XA)^{-1} (XA)^T y\n",
    "$$\n",
    "\n",
    "Для начала воспользуемся свойством для транспонированных матриц $(AB)^T = B^T A^T$:\n",
    "\n",
    "$$\n",
    "a_p = XA ((XA)^T XA)^{-1} (XA)^T y = XA (A^T X^T XA)^{-1} A^T X^T y \n",
    "$$\n",
    "\n",
    "Далее воспользуемся свойством матриц $(AB)^{-1} = B^{-1} A^{-1}$:\n",
    "\n",
    "$$\n",
    "a_p = XA (A^T X^T XA)^{-1} A^T X^T y = XA (X^T XA)^{-1} (A^T)^{-1} A^T X^T y = XA A^{-1} (X^T X)^{-1} (A^T)^{-1} A^T X^T y \n",
    "$$\n",
    "\n",
    "$A A^{-1} = A^{-1} A = E$ и $(A^T)^{-1} A^T = E$, где $E$ - единичная матрица. Избавляемя от нее, тк $AE = EA = A$:\n",
    "\n",
    "\n",
    "$$\n",
    "a_p =  X (X^T X)^{-1} X^T y \n",
    "$$\n",
    "\n",
    "$$\n",
    "a = Xw = X(X^T X)^{-1} X^T y\n",
    "$$\n",
    " \n",
    "Значит $a_p = a$"
   ]
  },
  {
   "attachments": {
    "image.png": {
     "image/png": "[encoded data removed]"
    }
   },
   "cell_type": "markdown",
   "metadata": {},
   "source": [
    "<div class=\"alert alert-danger\">\n",
    "<b>Комментарий ревьюера ❌:</b> \n",
    "    \n",
    "$ (X^T)^{-1}$ и $ X^{-1} y $ - некорректно, так как для неквадратных матриц ($X$ и $X^T$) обратных матриц не существует.\n",
    "    \n",
    "![image.png](attachment:image.png)\n",
    "    \n",
    "Не надо раскрывать вот так $(XP)^{-1}(P^TX^T)^{-1}$ данную матрицу  - ($((XP)^T(XP))^{-1}$), так как она является квадратной и имеет обратную.\n",
    "    \n",
    "Размер $X = mxn$, тогда $X^T = nxm$. $P = nxn$ -> $(XP)^T = (mxn * nxn)^T = (mxn)^T = nxm$. $(XP) = mxn * nxn = mxn$ -> $(XP)^T(XP) = nxm * mxn = nxn$ Получается по итогу квадратная матрица. Если мы будем делить Их на $(XP)^{-1}((XP)^T)^{-1}$ то мы уже не сможем взять обратную, так как матрицы( $(XP)^{-1}$ и $((XP)^T)^{-1}$) будут неквадратные.\n",
    "    \n",
    "    \n",
    "+  У нас есть ряд свойств:\n",
    "    $$\n",
    "(AB)^T=B^T A^T \\tag 1\n",
    "$$\n",
    "$$\n",
    "(AB)^{-1} = B^{-1} A^{-1} \\tag 2\n",
    "$$\n",
    "$$\n",
    "A A^{-1} = A^{-1} A = E \\tag 3\n",
    "$$\n",
    "$$\n",
    "AE = EA = A \\tag 4\n",
    "$$\n",
    "$$\n",
    "A(BC) = (AB)C \\tag 5\n",
    "$$\n",
    "  \n",
    "Воспользуемся первым свойством:    \n",
    "+  Для начала раскроем $(XP)^T$ в примере $((XP)^T X P)^{-1}$, и получим $(P^T X^T X P)^{-1}$ (по аналогии закончи до конца)\n",
    "    \n",
    "Воспользуемся свойством 2:\n",
    "    \n",
    "+  $(P^T(X^TX)P)^{-1}$, пусть тут $A=P^T$, $B=(X^TX)P)^{-1}$, тогда $(P^T(X^TX)P)^{-1} = ((X^TX)P)^{-1} P^{T^{-1}}$ Далее продолжи аналогично\n",
    "</div>\n",
    "\n",
    "\n",
    "\n"
   ]
  },
  {
   "cell_type": "markdown",
   "metadata": {},
   "source": [
    "<div class=\"alert alert-info\"> <b>Комментарий студента:</b> Спасибо, оставила иксы на месте </div>"
   ]
  },
  {
   "cell_type": "markdown",
   "metadata": {},
   "source": [
    "<div class=\"alert alert-success\">\n",
    "<b>Комментарий ревьюера V2✔️:</b> Отлично, теперь все корректно:)</div>"
   ]
  },
  {
   "cell_type": "markdown",
   "metadata": {},
   "source": [
    "## Алгоритм преобразования"
   ]
  },
  {
   "cell_type": "markdown",
   "metadata": {},
   "source": [
    "**Алгоритм**\n",
    "\n",
    "Умножим матрицу признаков $Xnxm$ на обратимую матрицу с соответствующей размерностью $Amxm$.\n",
    "\n"
   ]
  },
  {
   "cell_type": "markdown",
   "metadata": {},
   "source": [
    "**Обоснование**\n",
    "\n",
    "Согласно доказательству выше, при умножении матрицы признаков на обратимую матрицу, качество регрессии не меняется."
   ]
  },
  {
   "cell_type": "markdown",
   "metadata": {},
   "source": [
    "## Проверка алгоритма"
   ]
  },
  {
   "cell_type": "code",
   "execution_count": 49,
   "metadata": {},
   "outputs": [],
   "source": [
    "features = data.drop('Страховые выплаты', axis=1)\n",
    "target = data['Страховые выплаты']"
   ]
  },
  {
   "cell_type": "code",
   "execution_count": 50,
   "metadata": {},
   "outputs": [],
   "source": [
    "features_train, features_test, target_train, target_test = train_test_split(\n",
    "    features, target, test_size=0.25, random_state = 12345)"
   ]
  },
  {
   "cell_type": "markdown",
   "metadata": {},
   "source": [
    "Проверим r2 для непреобразованных признаков."
   ]
  },
  {
   "cell_type": "code",
   "execution_count": 51,
   "metadata": {},
   "outputs": [
    {
     "name": "stdout",
     "output_type": "stream",
     "text": [
      "R2 score для исходных данных: 0.43522757127026546\n"
     ]
    }
   ],
   "source": [
    "model = LinearRegression().fit(features_train, target_train)\n",
    "predictions = model.predict(features_test)\n",
    "print('R2 score для исходных данных:', r2_score(target_test, model.predict(features_test)))"
   ]
  },
  {
   "cell_type": "markdown",
   "metadata": {},
   "source": [
    "Напишем функцию для создания случайной обратимой матрицы."
   ]
  },
  {
   "cell_type": "code",
   "execution_count": 52,
   "metadata": {},
   "outputs": [],
   "source": [
    "def matrix_conversion(features):\n",
    "    mtx_shape = features.shape[1]\n",
    "    inv_mtx = np.random.randint(0, 10000, (mtx_shape, mtx_shape))\n",
    "    # A square matrix is Invertible if and only if its determinant is non-zero.\n",
    "    if np.linalg.det(inv_mtx) == 0:\n",
    "        inv_mtx = np.random.random_integers(0, 100, (mtx_shape, mtx_shape))\n",
    "    else:\n",
    "        return inv_mtx"
   ]
  },
  {
   "cell_type": "markdown",
   "metadata": {},
   "source": [
    "<div class=\"alert alert-success\">\n",
    "<b>Комментарий ревьюера ✔️:</b> верно проверяешь на обратимость:)\n",
    "    \n",
    "</div>"
   ]
  },
  {
   "cell_type": "code",
   "execution_count": 53,
   "metadata": {},
   "outputs": [
    {
     "data": {
      "text/plain": [
       "(5000, 4)"
      ]
     },
     "execution_count": 53,
     "metadata": {},
     "output_type": "execute_result"
    }
   ],
   "source": [
    "features.shape"
   ]
  },
  {
   "cell_type": "code",
   "execution_count": 54,
   "metadata": {},
   "outputs": [
    {
     "data": {
      "text/plain": [
       "(5000, 4)"
      ]
     },
     "execution_count": 54,
     "metadata": {},
     "output_type": "execute_result"
    }
   ],
   "source": [
    "encrypted_features.shape"
   ]
  },
  {
   "cell_type": "markdown",
   "metadata": {},
   "source": [
    "Исходную матрицу признаков умножим на случайную обратимую и снова расчитаем r2."
   ]
  },
  {
   "cell_type": "code",
   "execution_count": 59,
   "metadata": {},
   "outputs": [
    {
     "data": {
      "text/plain": [
       "<bound method NDFrame.head of                 0            1            2            3\n",
       "0     494143901.0  436945777.0  125301625.0  223208095.0\n",
       "1     378599462.0  334826646.0   96115307.0  171089055.0\n",
       "2     209226588.0  185048289.0   53143876.0   94569000.0\n",
       "3     415425012.0  367290981.0  105229390.0  187573610.0\n",
       "4     260030815.0  229954684.0   65990470.0  117494540.0\n",
       "...           ...          ...          ...          ...\n",
       "4995  355670016.0  314495568.0   90174498.0  160645610.0\n",
       "4996  522018998.0  461559354.0  132287579.0  235745055.0\n",
       "4997  337727640.0  298607040.0   85572746.0  152506610.0\n",
       "4998  325791433.0  288066118.0   82579855.0  147134705.0\n",
       "4999  404474465.0  357636544.0  102520853.0  182675095.0\n",
       "\n",
       "[5000 rows x 4 columns]>"
      ]
     },
     "execution_count": 59,
     "metadata": {},
     "output_type": "execute_result"
    }
   ],
   "source": [
    "encrypted_features = features @ matrix_conversion(features)\n",
    "encrypted_features.head"
   ]
  },
  {
   "cell_type": "code",
   "execution_count": 56,
   "metadata": {},
   "outputs": [],
   "source": [
    "features_train, features_test, target_train, target_test = train_test_split(\n",
    "    encrypted_features, target, test_size=0.25, random_state = 12345)"
   ]
  },
  {
   "cell_type": "code",
   "execution_count": 57,
   "metadata": {
    "scrolled": true
   },
   "outputs": [
    {
     "name": "stdout",
     "output_type": "stream",
     "text": [
      "R2 score для зашифрованных данных: 0.4367401639633949\n"
     ]
    }
   ],
   "source": [
    "model = LinearRegression().fit(encrypted_features, target)\n",
    "predictions = model.predict(features_test)\n",
    "print('R2 score для зашифрованных данных:', r2_score(target_test, model.predict(features_test)))"
   ]
  },
  {
   "cell_type": "markdown",
   "metadata": {},
   "source": [
    "__Вывод:__ Качество модели не изменилось, так как метрика r2 почти не различается."
   ]
  },
  {
   "cell_type": "markdown",
   "metadata": {},
   "source": [
    "<div class=\"alert alert-success\">\n",
    "<b>Комментарий ревьюера ✔️:</b> Да, хорошо;)\n",
    "\n",
    "\n",
    "Оставлю немного полезного материала:\n",
    "\n",
    "+  https://academy.yandex.ru/handbook/ml\n",
    "+  https://habr.com/ru/post/595281/\n",
    "</div>"
   ]
  },
  {
   "cell_type": "markdown",
   "metadata": {},
   "source": [
    "## Общий вывод\n",
    "\n",
    "В данной работе с помощью свойств матриц мы привели доказательство того, почему при умножении матрицы признаков на обратимую матрицу качество линейной регрессии не меняется.\n",
    "\n",
    "Далее мы создали алгоритм шифрования данных: умножение матрицы признаков на случайную обратимую матрицу и ее дальнейшее использование в регрессии. Для проверки работы алгоритма для начала мы разбили исходные данные на на тестовую и обучающую выборки и расчитали метрику r2. Затем написали функцию для подбора случайной обратимой матрицы с соответствующей размерностью. Далее умножили исходную матрицу признаков на подобранную обратимую и расчитали новую метрику r2. В обоих случаях она равнялась 0.44, а значит преобразования не повлияли на качество линейной модели."
   ]
  },
  {
   "cell_type": "markdown",
   "metadata": {},
   "source": [
    "## Чек-лист проверки"
   ]
  },
  {
   "cell_type": "markdown",
   "metadata": {},
   "source": [
    "Поставьте 'x' в выполненных пунктах. Далее нажмите Shift+Enter."
   ]
  },
  {
   "cell_type": "markdown",
   "metadata": {},
   "source": [
    "- [x]  Jupyter Notebook открыт\n",
    "- [x]  Весь код выполняется без ошибок\n",
    "- [x]  Ячейки с кодом расположены в порядке исполнения\n",
    "- [x]  Выполнен шаг 1: данные загружены\n",
    "- [x]  Выполнен шаг 2: получен ответ на вопрос об умножении матриц\n",
    "    - [x]  Указан правильный вариант ответа\n",
    "    - [x]  Вариант обоснован\n",
    "- [x]  Выполнен шаг 3: предложен алгоритм преобразования\n",
    "    - [x]  Алгоритм описан\n",
    "    - [x]  Алгоритм обоснован\n",
    "- [x]  Выполнен шаг 4: алгоритм проверен\n",
    "    - [x]  Алгоритм реализован\n",
    "    - [x]  Проведено сравнение качества моделей до и после преобразования"
   ]
  },
  {
   "cell_type": "markdown",
   "metadata": {},
   "source": [
    "<font color='blue'><b>Итоговый комментарий ревьюера</b></font>\n",
    "<div class=\"alert alert-success\">\n",
    "<b>Комментарий ревьюера ✔️:</b>Анастасия, получился хороший проект! \n",
    "    \n",
    "Если есть  если есть какие либо вопросы я с удовольствием на них отвечу:) <br> Исправь, пожалуйста, замечания и жду проект на следующую проверку:) </div>\n"
   ]
  },
  {
   "cell_type": "markdown",
   "metadata": {},
   "source": [
    "<div class=\"alert alert-success\">\n",
    "<b>Комментарий ревьюера V2✔️:</b>\n",
    "\n",
    "Оставлю хороший учебник по ML:\n",
    "+  https://academy.yandex.ru/handbook/ml\n",
    "    \n",
    "Немного новостей с мира DL(вдруг заинтересует):\n",
    "+  https://habr.com/ru/company/ods/blog/686962/\n",
    "    \n",
    "Вот тут проходят всякие соревнования, можешь себя попробовать:\n",
    "+  https://hacks-ai.ru/championships#competitions\n",
    "    \n",
    "\n",
    "Возможно, что нить пригодится:  \n",
    "+  https://drive.google.com/file/d/1r8CJHH_hwDM16l1Pnpb4KJzoJFrJ5XRi/view\n",
    "+  https://arxiv.org/ftp/arxiv/papers/2201/2201.00650.pdf\n",
    "+  https://github.com/slgero/testovoe\n",
    "    \n",
    "    \n",
    "Курс от МФТИ математика для DS:\n",
    "    \n",
    "+  https://www.youtube.com/watch?v=xccjt6lOoow&list=PLk4h7dmY2eYHHTyfLyrl7HmP-H3mMAW08&index=1\n",
    "    \n",
    "    \n",
    "Тут много соревнований/лекций:\n",
    "    \n",
    "+  https://ods.ai/\n",
    "    \n",
    "stepic NLP/CV:\n",
    "    \n",
    "+  https://stepik.org/course/54098/syllabus\n",
    "+  https://stepik.org/course/50352/syllabus\n",
    "    \n",
    "Еще есть от ВШЭ:\n",
    "    \n",
    "+  https://www.youtube.com/watch?v=mwjQaNt8qxk&list=PLEwK9wdS5g0og-DcF1apxutSM0GDLHz_3&ab_channel=%D0%A4%D0%9A%D0%9D%D0%92%D0%A8%D0%AD%E2%80%94%D0%B4%D0%B8%D1%81%D1%82%D0%B0%D0%BD%D1%86%D0%B8%D0%BE%D0%BD%D0%BD%D1%8B%D0%B5%D0%B7%D0%B0%D0%BD%D1%8F%D1%82%D0%B8%D1%8F\n",
    "+  https://github.com/hse-ds/iad-deep-learning\n",
    "    \n",
    "    \n",
    "    \n",
    "    \n",
    "Удачи в следующих проектах!!!\n",
    "    \n",
    " \n",
    "\n",
    "\n",
    "</div>"
   ]
  }
 ],
 "metadata": {
  "ExecuteTimeLog": [
   {
    "duration": 523,
    "start_time": "2023-06-14T12:28:20.936Z"
   },
   {
    "duration": 143,
    "start_time": "2023-06-14T12:28:22.614Z"
   },
   {
    "duration": 110,
    "start_time": "2023-06-14T12:28:42.662Z"
   },
   {
    "duration": 15,
    "start_time": "2023-06-14T12:28:55.857Z"
   },
   {
    "duration": 31,
    "start_time": "2023-06-14T12:34:41.107Z"
   },
   {
    "duration": 10,
    "start_time": "2023-06-14T12:35:42.412Z"
   },
   {
    "duration": 9,
    "start_time": "2023-06-14T12:41:38.459Z"
   },
   {
    "duration": 304,
    "start_time": "2023-06-14T12:41:44.369Z"
   },
   {
    "duration": 155,
    "start_time": "2023-06-14T12:41:57.739Z"
   },
   {
    "duration": 10,
    "start_time": "2023-06-14T12:42:18.020Z"
   },
   {
    "duration": 247,
    "start_time": "2023-06-14T12:42:26.476Z"
   },
   {
    "duration": 220,
    "start_time": "2023-06-14T12:42:34.171Z"
   },
   {
    "duration": 172,
    "start_time": "2023-06-14T12:43:18.241Z"
   },
   {
    "duration": 21,
    "start_time": "2023-06-14T12:45:36.477Z"
   },
   {
    "duration": 12,
    "start_time": "2023-06-14T12:45:42.528Z"
   },
   {
    "duration": 8,
    "start_time": "2023-06-14T12:46:31.760Z"
   },
   {
    "duration": 8,
    "start_time": "2023-06-14T12:46:36.265Z"
   },
   {
    "duration": 171,
    "start_time": "2023-06-14T12:47:39.355Z"
   },
   {
    "duration": 15,
    "start_time": "2023-06-14T12:47:54.107Z"
   },
   {
    "duration": 13,
    "start_time": "2023-06-14T12:48:20.729Z"
   },
   {
    "duration": 4,
    "start_time": "2023-06-14T12:48:37.309Z"
   },
   {
    "duration": 67,
    "start_time": "2023-06-14T12:48:37.315Z"
   },
   {
    "duration": 43,
    "start_time": "2023-06-14T12:48:37.383Z"
   },
   {
    "duration": 44,
    "start_time": "2023-06-14T12:48:37.428Z"
   },
   {
    "duration": 5,
    "start_time": "2023-06-14T12:48:39.360Z"
   },
   {
    "duration": 46,
    "start_time": "2023-06-15T11:21:31.995Z"
   },
   {
    "duration": 1222,
    "start_time": "2023-06-15T11:22:01.588Z"
   },
   {
    "duration": 68,
    "start_time": "2023-06-15T11:22:28.751Z"
   },
   {
    "duration": 11,
    "start_time": "2023-06-15T11:23:12.646Z"
   },
   {
    "duration": 3,
    "start_time": "2023-06-15T11:23:20.415Z"
   },
   {
    "duration": 102,
    "start_time": "2023-06-15T11:23:20.421Z"
   },
   {
    "duration": 19,
    "start_time": "2023-06-15T11:23:20.525Z"
   },
   {
    "duration": 15,
    "start_time": "2023-06-15T11:23:20.546Z"
   },
   {
    "duration": 10,
    "start_time": "2023-06-15T11:24:08.989Z"
   },
   {
    "duration": 7,
    "start_time": "2023-06-15T11:24:14.683Z"
   },
   {
    "duration": 14,
    "start_time": "2023-06-15T11:24:16.451Z"
   },
   {
    "duration": 118,
    "start_time": "2023-06-15T11:26:20.539Z"
   },
   {
    "duration": 4,
    "start_time": "2023-06-15T11:27:29.914Z"
   },
   {
    "duration": 125,
    "start_time": "2023-06-15T11:36:25.474Z"
   },
   {
    "duration": 133,
    "start_time": "2023-06-15T11:36:29.130Z"
   },
   {
    "duration": 3,
    "start_time": "2023-06-15T11:36:34.278Z"
   },
   {
    "duration": 4,
    "start_time": "2023-06-15T11:38:20.158Z"
   },
   {
    "duration": 27,
    "start_time": "2023-06-15T11:38:46.028Z"
   },
   {
    "duration": 3,
    "start_time": "2023-06-15T11:38:51.057Z"
   },
   {
    "duration": 12,
    "start_time": "2023-06-15T11:38:52.293Z"
   },
   {
    "duration": 4,
    "start_time": "2023-06-15T11:39:12.346Z"
   },
   {
    "duration": 11,
    "start_time": "2023-06-15T11:39:14.588Z"
   },
   {
    "duration": 3,
    "start_time": "2023-06-15T11:39:28.563Z"
   },
   {
    "duration": 4,
    "start_time": "2023-06-15T11:39:33.668Z"
   },
   {
    "duration": 4,
    "start_time": "2023-06-15T11:39:34.756Z"
   },
   {
    "duration": 3,
    "start_time": "2023-06-15T11:40:57.070Z"
   },
   {
    "duration": 3,
    "start_time": "2023-06-15T11:40:59.025Z"
   },
   {
    "duration": 4,
    "start_time": "2023-06-15T11:42:38.771Z"
   },
   {
    "duration": 3,
    "start_time": "2023-06-15T11:42:40.218Z"
   },
   {
    "duration": 12,
    "start_time": "2023-06-15T11:42:41.496Z"
   },
   {
    "duration": 3,
    "start_time": "2023-06-15T11:42:58.615Z"
   },
   {
    "duration": 11,
    "start_time": "2023-06-15T11:42:59.997Z"
   },
   {
    "duration": 4,
    "start_time": "2023-06-15T11:43:09.137Z"
   },
   {
    "duration": 18,
    "start_time": "2023-06-15T11:43:09.143Z"
   },
   {
    "duration": 52,
    "start_time": "2023-06-15T11:43:09.162Z"
   },
   {
    "duration": 13,
    "start_time": "2023-06-15T11:43:09.215Z"
   },
   {
    "duration": 26,
    "start_time": "2023-06-15T11:43:09.229Z"
   },
   {
    "duration": 36,
    "start_time": "2023-06-15T11:43:09.257Z"
   },
   {
    "duration": 3,
    "start_time": "2023-06-15T11:43:25.310Z"
   },
   {
    "duration": 4,
    "start_time": "2023-06-15T11:43:34.196Z"
   },
   {
    "duration": 3,
    "start_time": "2023-06-15T11:44:30.228Z"
   },
   {
    "duration": 4,
    "start_time": "2023-06-15T11:44:31.360Z"
   },
   {
    "duration": 5,
    "start_time": "2023-06-15T11:44:32.767Z"
   },
   {
    "duration": 10,
    "start_time": "2023-06-15T11:44:41.368Z"
   },
   {
    "duration": 4,
    "start_time": "2023-06-15T11:56:01.852Z"
   },
   {
    "duration": 51,
    "start_time": "2023-06-15T11:56:01.858Z"
   },
   {
    "duration": 23,
    "start_time": "2023-06-15T11:56:01.910Z"
   },
   {
    "duration": 34,
    "start_time": "2023-06-15T11:56:01.934Z"
   },
   {
    "duration": 18,
    "start_time": "2023-06-15T11:56:01.970Z"
   },
   {
    "duration": 26,
    "start_time": "2023-06-15T11:56:01.990Z"
   },
   {
    "duration": 30,
    "start_time": "2023-06-15T11:56:02.018Z"
   },
   {
    "duration": 16,
    "start_time": "2023-06-15T11:56:02.050Z"
   },
   {
    "duration": 31,
    "start_time": "2023-06-15T11:56:02.068Z"
   },
   {
    "duration": 37,
    "start_time": "2023-06-15T11:56:02.101Z"
   },
   {
    "duration": 19,
    "start_time": "2023-06-15T11:56:02.139Z"
   },
   {
    "duration": 31,
    "start_time": "2023-06-15T11:56:02.160Z"
   },
   {
    "duration": 33,
    "start_time": "2023-06-15T11:56:02.192Z"
   },
   {
    "duration": 3,
    "start_time": "2023-06-15T11:56:45.610Z"
   },
   {
    "duration": 8,
    "start_time": "2023-06-15T11:57:13.106Z"
   }
  ],
  "kernelspec": {
   "display_name": "Python 3 (ipykernel)",
   "language": "python",
   "name": "python3"
  },
  "language_info": {
   "codemirror_mode": {
    "name": "ipython",
    "version": 3
   },
   "file_extension": ".py",
   "mimetype": "text/x-python",
   "name": "python",
   "nbconvert_exporter": "python",
   "pygments_lexer": "ipython3",
   "version": "3.9.5"
  },
  "toc": {
   "base_numbering": 1,
   "nav_menu": {},
   "number_sections": true,
   "sideBar": true,
   "skip_h1_title": true,
   "title_cell": "Содержание",
   "title_sidebar": "Contents",
   "toc_cell": true,
   "toc_position": {},
   "toc_section_display": true,
   "toc_window_display": true
  }
 },
 "nbformat": 4,
 "nbformat_minor": 2
}
