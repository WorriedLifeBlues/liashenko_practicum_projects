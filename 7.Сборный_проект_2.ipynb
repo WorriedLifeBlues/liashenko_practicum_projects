{
 "cells": [
  {
   "cell_type": "markdown",
   "metadata": {},
   "source": [
    "# Комментарий ревьюера\n",
    "<div class=\"alert alert-block alert-info\">\n",
    "Привет, Анастасия! Меня зовут Анвар Ганиев, и я буду проверять твой проект. Предлагаю общаться на «ты» :) Но если это не удобно - дай знать, и мы перейдем на \"вы\". Моя основная цель — не указать на совершенные тобою ошибки, а поделиться своим опытом и помочь тебе стать data scientist'ом.\n",
    "\n",
    "Видно, что ты старалась, делая проект. Все ключевые этапы в работе выполнены, так что в целом справиться с задачей тебе удалось. Есть ещё несколько аспектов, которые требуют твоего внимания. Комментарии по ним помечены <span style='color:Red'> красным цветом ❌ </span>. Комментарии я буду оставлять под ячейками, к которым они относятся. А еще писать в заголовке v{номер версии}, чтобы знать, при какой проверке, я их оставлял. После их доработки проект будет принят. Осталось совсем немного, буду ждать твою работу на повторное ревью 🙂\n",
    "\n",
    "<span style='color:Green'> Зелёным цветом ✅  </span> отмечены удачные и элегантные решения, на которые можно опираться в будущих проектах. <span style='color:Gold'> Жёлтым цветом ⚠️</span>выделено то, что в следующий раз можно сделать по-другому. Ты можешь учесть эти комментарии при выполнении будущих заданий или доработать проект сейчас (однако это не обязательно).\n",
    "\n",
    "Давай работать над проектом в диалоге: если ты что-то меняешь в проекте по моим рекомендациям — пиши об этом. Выбери для своих комментариев какой-то заметный цвет, так мне будет легче отследить изменения. Пожалуйста, не перемещай, не изменяй и не удаляй мои комментарии. Всё это поможет выполнить повторную проверку твоего проекта оперативнее\n",
    "</div>\n"
   ]
  },
  {
   "cell_type": "markdown",
   "metadata": {
    "toc": true
   },
   "source": [
    "<h1>Содержание<span class=\"tocSkip\"></span></h1>\n",
    "<div class=\"toc\"><ul class=\"toc-item\"><li><span><a href=\"#Подготовка-данных\" data-toc-modified-id=\"Подготовка-данных-1\"><span class=\"toc-item-num\">1&nbsp;&nbsp;</span>Подготовка данных</a></span><ul class=\"toc-item\"><li><span><a href=\"#Знакомство-с-данными\" data-toc-modified-id=\"Знакомство-с-данными-1.1\"><span class=\"toc-item-num\">1.1&nbsp;&nbsp;</span>Знакомство с данными</a></span><ul class=\"toc-item\"><li><span><a href=\"#Обучающая-выборка\" data-toc-modified-id=\"Обучающая-выборка-1.1.1\"><span class=\"toc-item-num\">1.1.1&nbsp;&nbsp;</span>Обучающая выборка</a></span></li><li><span><a href=\"#Тренировочная-выборка\" data-toc-modified-id=\"Тренировочная-выборка-1.1.2\"><span class=\"toc-item-num\">1.1.2&nbsp;&nbsp;</span>Тренировочная выборка</a></span></li><li><span><a href=\"#Исходный-датасет\" data-toc-modified-id=\"Исходный-датасет-1.1.3\"><span class=\"toc-item-num\">1.1.3&nbsp;&nbsp;</span>Исходный датасет</a></span></li></ul></li><li><span><a href=\"#-Комментарий-ревьюера-v1\" data-toc-modified-id=\"-Комментарий-ревьюера-v1-1.2\"><span class=\"toc-item-num\">1.2&nbsp;&nbsp;</span> Комментарий ревьюера v1</a></span></li><li><span><a href=\"#Расчет-эффективности-обогащения\" data-toc-modified-id=\"Расчет-эффективности-обогащения-1.3\"><span class=\"toc-item-num\">1.3&nbsp;&nbsp;</span>Расчет эффективности обогащения</a></span></li><li><span><a href=\"#-Комментарий-ревьюера-v1\" data-toc-modified-id=\"-Комментарий-ревьюера-v1-1.4\"><span class=\"toc-item-num\">1.4&nbsp;&nbsp;</span> Комментарий ревьюера v1</a></span></li><li><span><a href=\"#-Комментарий-студента-\" data-toc-modified-id=\"-Комментарий-студента--1.5\"><span class=\"toc-item-num\">1.5&nbsp;&nbsp;</span> Комментарий студента </a></span></li><li><span><a href=\"#Пропущенные-признаки\" data-toc-modified-id=\"Пропущенные-признаки-1.6\"><span class=\"toc-item-num\">1.6&nbsp;&nbsp;</span>Пропущенные признаки</a></span></li><li><span><a href=\"#-Комментарий-ревьюера-v1\" data-toc-modified-id=\"-Комментарий-ревьюера-v1-1.7\"><span class=\"toc-item-num\">1.7&nbsp;&nbsp;</span> Комментарий ревьюера v1</a></span></li><li><span><a href=\"#Предобработка-данных\" data-toc-modified-id=\"Предобработка-данных-1.8\"><span class=\"toc-item-num\">1.8&nbsp;&nbsp;</span>Предобработка данных</a></span></li><li><span><a href=\"#-Комментарий-ревьюера-v1\" data-toc-modified-id=\"-Комментарий-ревьюера-v1-1.9\"><span class=\"toc-item-num\">1.9&nbsp;&nbsp;</span> Комментарий ревьюера v1</a></span></li><li><span><a href=\"#-Комментарий-студента-\" data-toc-modified-id=\"-Комментарий-студента--1.10\"><span class=\"toc-item-num\">1.10&nbsp;&nbsp;</span> Комментарий студента </a></span></li><li><span><a href=\"#-Комментарий-ревьюера-v1\" data-toc-modified-id=\"-Комментарий-ревьюера-v1-1.11\"><span class=\"toc-item-num\">1.11&nbsp;&nbsp;</span> Комментарий ревьюера v1</a></span></li><li><span><a href=\"#-Комментарий-студента-\" data-toc-modified-id=\"-Комментарий-студента--1.12\"><span class=\"toc-item-num\">1.12&nbsp;&nbsp;</span> Комментарий студента </a></span></li></ul></li><li><span><a href=\"#Анализ-данных\" data-toc-modified-id=\"Анализ-данных-2\"><span class=\"toc-item-num\">2&nbsp;&nbsp;</span>Анализ данных</a></span><ul class=\"toc-item\"><li><span><a href=\"#Изменение-концентрации-металлов\" data-toc-modified-id=\"Изменение-концентрации-металлов-2.1\"><span class=\"toc-item-num\">2.1&nbsp;&nbsp;</span>Изменение концентрации металлов</a></span></li><li><span><a href=\"#-Комментарий-ревьюера-v1\" data-toc-modified-id=\"-Комментарий-ревьюера-v1-2.2\"><span class=\"toc-item-num\">2.2&nbsp;&nbsp;</span> Комментарий ревьюера v1</a></span></li><li><span><a href=\"#Распределение-гранул-сырья\" data-toc-modified-id=\"Распределение-гранул-сырья-2.3\"><span class=\"toc-item-num\">2.3&nbsp;&nbsp;</span>Распределение гранул сырья</a></span></li><li><span><a href=\"#-Комментарий-ревьюера-v1\" data-toc-modified-id=\"-Комментарий-ревьюера-v1-2.4\"><span class=\"toc-item-num\">2.4&nbsp;&nbsp;</span> Комментарий ревьюера v1</a></span></li><li><span><a href=\"#-Комментарий-студента-\" data-toc-modified-id=\"-Комментарий-студента--2.5\"><span class=\"toc-item-num\">2.5&nbsp;&nbsp;</span> Комментарий студента </a></span></li><li><span><a href=\"#-Комментарий-ревьюера-v2\" data-toc-modified-id=\"-Комментарий-ревьюера-v2-2.6\"><span class=\"toc-item-num\">2.6&nbsp;&nbsp;</span> Комментарий ревьюера v2</a></span></li><li><span><a href=\"#Суммарные-концентрации-веществ-на-разных-стадиях\" data-toc-modified-id=\"Суммарные-концентрации-веществ-на-разных-стадиях-2.7\"><span class=\"toc-item-num\">2.7&nbsp;&nbsp;</span>Суммарные концентрации веществ на разных стадиях</a></span></li><li><span><a href=\"#-Комментарий-ревьюера-v1\" data-toc-modified-id=\"-Комментарий-ревьюера-v1-2.8\"><span class=\"toc-item-num\">2.8&nbsp;&nbsp;</span> Комментарий ревьюера v1</a></span></li><li><span><a href=\"#-Комментарий-студента-\" data-toc-modified-id=\"-Комментарий-студента--2.9\"><span class=\"toc-item-num\">2.9&nbsp;&nbsp;</span> Комментарий студента </a></span></li></ul></li><li><span><a href=\"#Модель\" data-toc-modified-id=\"Модель-3\"><span class=\"toc-item-num\">3&nbsp;&nbsp;</span>Модель</a></span><ul class=\"toc-item\"><li><span><a href=\"#Функция-для-вычисления-итоговой-sMAPE\" data-toc-modified-id=\"Функция-для-вычисления-итоговой-sMAPE-3.1\"><span class=\"toc-item-num\">3.1&nbsp;&nbsp;</span>Функция для вычисления итоговой sMAPE</a></span></li><li><span><a href=\"#-Комментарий-ревьюера-v1\" data-toc-modified-id=\"-Комментарий-ревьюера-v1-3.2\"><span class=\"toc-item-num\">3.2&nbsp;&nbsp;</span> Комментарий ревьюера v1</a></span></li><li><span><a href=\"#Обучение-моделей\" data-toc-modified-id=\"Обучение-моделей-3.3\"><span class=\"toc-item-num\">3.3&nbsp;&nbsp;</span>Обучение моделей</a></span><ul class=\"toc-item\"><li><span><a href=\"#Подготовка-признаков\" data-toc-modified-id=\"Подготовка-признаков-3.3.1\"><span class=\"toc-item-num\">3.3.1&nbsp;&nbsp;</span>Подготовка признаков</a></span></li><li><span><a href=\"#Дерево-решений\" data-toc-modified-id=\"Дерево-решений-3.3.2\"><span class=\"toc-item-num\">3.3.2&nbsp;&nbsp;</span>Дерево решений</a></span></li></ul></li><li><span><a href=\"#-Комментарий-ревьюера-v1\" data-toc-modified-id=\"-Комментарий-ревьюера-v1-3.4\"><span class=\"toc-item-num\">3.4&nbsp;&nbsp;</span> Комментарий ревьюера v1</a></span></li><li><span><a href=\"#-Комментарий-студента-\" data-toc-modified-id=\"-Комментарий-студента--3.5\"><span class=\"toc-item-num\">3.5&nbsp;&nbsp;</span> Комментарий студента </a></span></li><li><span><a href=\"#-Комментарий-ревьюера-v2\" data-toc-modified-id=\"-Комментарий-ревьюера-v2-3.6\"><span class=\"toc-item-num\">3.6&nbsp;&nbsp;</span> Комментарий ревьюера v2</a></span></li><li><span><a href=\"#-Комментарий-ревьюера-v1\" data-toc-modified-id=\"-Комментарий-ревьюера-v1-3.7\"><span class=\"toc-item-num\">3.7&nbsp;&nbsp;</span> Комментарий ревьюера v1</a></span></li><li><span><a href=\"#-Комментарий-студента-\" data-toc-modified-id=\"-Комментарий-студента--3.8\"><span class=\"toc-item-num\">3.8&nbsp;&nbsp;</span> Комментарий студента </a></span><ul class=\"toc-item\"><li><span><a href=\"#Случайный-лес\" data-toc-modified-id=\"Случайный-лес-3.8.1\"><span class=\"toc-item-num\">3.8.1&nbsp;&nbsp;</span>Случайный лес</a></span></li><li><span><a href=\"#Регрессия-Лассо\" data-toc-modified-id=\"Регрессия-Лассо-3.8.2\"><span class=\"toc-item-num\">3.8.2&nbsp;&nbsp;</span>Регрессия Лассо</a></span></li></ul></li><li><span><a href=\"#-Комментарий-ревьюера-v1\" data-toc-modified-id=\"-Комментарий-ревьюера-v1-3.9\"><span class=\"toc-item-num\">3.9&nbsp;&nbsp;</span> Комментарий ревьюера v1</a></span></li><li><span><a href=\"#-Комментарий-студента-\" data-toc-modified-id=\"-Комментарий-студента--3.10\"><span class=\"toc-item-num\">3.10&nbsp;&nbsp;</span> Комментарий студента </a></span></li><li><span><a href=\"#-Комментарий-ревьюера-v2\" data-toc-modified-id=\"-Комментарий-ревьюера-v2-3.11\"><span class=\"toc-item-num\">3.11&nbsp;&nbsp;</span> Комментарий ревьюера v2</a></span></li><li><span><a href=\"#Проверка-на-тестовой-выборке\" data-toc-modified-id=\"Проверка-на-тестовой-выборке-3.12\"><span class=\"toc-item-num\">3.12&nbsp;&nbsp;</span>Проверка на тестовой выборке</a></span></li><li><span><a href=\"#Проверка-моделей-на-адекватность\" data-toc-modified-id=\"Проверка-моделей-на-адекватность-3.13\"><span class=\"toc-item-num\">3.13&nbsp;&nbsp;</span>Проверка моделей на адекватность</a></span></li><li><span><a href=\"#-Комментарий-ревьюера-v1\" data-toc-modified-id=\"-Комментарий-ревьюера-v1-3.14\"><span class=\"toc-item-num\">3.14&nbsp;&nbsp;</span> Комментарий ревьюера v1</a></span></li></ul></li><li><span><a href=\"#Выводы\" data-toc-modified-id=\"Выводы-4\"><span class=\"toc-item-num\">4&nbsp;&nbsp;</span>Выводы</a></span></li><li><span><a href=\"#Чек-лист-готовности-проекта\" data-toc-modified-id=\"Чек-лист-готовности-проекта-5\"><span class=\"toc-item-num\">5&nbsp;&nbsp;</span>Чек-лист готовности проекта</a></span><ul class=\"toc-item\"><li><span><a href=\"#-Комментарий-ревьюера-v2\" data-toc-modified-id=\"-Комментарий-ревьюера-v2-5.1\"><span class=\"toc-item-num\">5.1&nbsp;&nbsp;</span> Комментарий ревьюера v2</a></span></li></ul></li></ul></div>"
   ]
  },
  {
   "cell_type": "markdown",
   "metadata": {},
   "source": [
    "# Восстановление золота из руды"
   ]
  },
  {
   "cell_type": "markdown",
   "metadata": {},
   "source": [
    "Подготовьте прототип модели машинного обучения для «Цифры». Компания разрабатывает решения для эффективной работы промышленных предприятий.\n",
    "\n",
    "Модель должна предсказать коэффициент восстановления золота из золотосодержащей руды. Используйте данные с параметрами добычи и очистки. \n",
    "\n",
    "Модель поможет оптимизировать производство, чтобы не запускать предприятие с убыточными характеристиками.\n",
    "\n",
    "Вам нужно:\n",
    "\n",
    "1. Подготовить данные;\n",
    "2. Провести исследовательский анализ данных;\n",
    "3. Построить и обучить модель.\n",
    "\n",
    "Чтобы выполнить проект, обращайтесь к библиотекам *pandas*, *matplotlib* и *sklearn.* Вам поможет их документация."
   ]
  },
  {
   "cell_type": "markdown",
   "metadata": {},
   "source": [
    "## Подготовка данных"
   ]
  },
  {
   "cell_type": "code",
   "execution_count": 195,
   "metadata": {
    "scrolled": true
   },
   "outputs": [],
   "source": [
    "import pandas as pd\n",
    "import numpy as np\n",
    "import matplotlib.pyplot as plt\n",
    "import seaborn as sns\n",
    "from numpy.random import RandomState\n",
    "from statsmodels.stats.outliers_influence import variance_inflation_factor\n",
    "from sklearn.metrics import mean_absolute_error\n",
    "from sklearn.model_selection import cross_val_score, GridSearchCV, RepeatedKFold\n",
    "from sklearn.pipeline import Pipeline\n",
    "from sklearn.tree import DecisionTreeRegressor\n",
    "from sklearn.linear_model import LassoCV\n",
    "from sklearn.metrics import mean_squared_error, make_scorer\n",
    "from sklearn.preprocessing import StandardScaler\n",
    "from sklearn.ensemble import RandomForestRegressor\n",
    "from sklearn.dummy import DummyRegressor"
   ]
  },
  {
   "cell_type": "code",
   "execution_count": 129,
   "metadata": {
    "scrolled": true
   },
   "outputs": [],
   "source": [
    "import warnings\n",
    "warnings.filterwarnings('ignore') \n",
    "pd.set_option('display.max_rows', None)"
   ]
  },
  {
   "cell_type": "code",
   "execution_count": 130,
   "metadata": {
    "scrolled": true
   },
   "outputs": [],
   "source": [
    "data_train = pd.read_csv('/datasets/gold_recovery_train_new.csv')\n",
    "data_test = pd.read_csv('/datasets/gold_recovery_test_new.csv')\n",
    "data_full = pd.read_csv('/datasets/gold_recovery_full_new.csv')"
   ]
  },
  {
   "cell_type": "markdown",
   "metadata": {},
   "source": [
    "### Знакомство с данными"
   ]
  },
  {
   "cell_type": "markdown",
   "metadata": {},
   "source": [
    "Изучим данные каждого набора."
   ]
  },
  {
   "cell_type": "markdown",
   "metadata": {},
   "source": [
    "#### Обучающая выборка"
   ]
  },
  {
   "cell_type": "code",
   "execution_count": 131,
   "metadata": {
    "scrolled": true
   },
   "outputs": [
    {
     "data": {
      "text/html": [
       "<div>\n",
       "<style scoped>\n",
       "    .dataframe tbody tr th:only-of-type {\n",
       "        vertical-align: middle;\n",
       "    }\n",
       "\n",
       "    .dataframe tbody tr th {\n",
       "        vertical-align: top;\n",
       "    }\n",
       "\n",
       "    .dataframe thead th {\n",
       "        text-align: right;\n",
       "    }\n",
       "</style>\n",
       "<table border=\"1\" class=\"dataframe\">\n",
       "  <thead>\n",
       "    <tr style=\"text-align: right;\">\n",
       "      <th></th>\n",
       "      <th>date</th>\n",
       "      <th>final.output.concentrate_ag</th>\n",
       "      <th>final.output.concentrate_pb</th>\n",
       "      <th>final.output.concentrate_sol</th>\n",
       "      <th>final.output.concentrate_au</th>\n",
       "      <th>final.output.recovery</th>\n",
       "      <th>final.output.tail_ag</th>\n",
       "      <th>final.output.tail_pb</th>\n",
       "      <th>final.output.tail_sol</th>\n",
       "      <th>final.output.tail_au</th>\n",
       "      <th>...</th>\n",
       "      <th>secondary_cleaner.state.floatbank4_a_air</th>\n",
       "      <th>secondary_cleaner.state.floatbank4_a_level</th>\n",
       "      <th>secondary_cleaner.state.floatbank4_b_air</th>\n",
       "      <th>secondary_cleaner.state.floatbank4_b_level</th>\n",
       "      <th>secondary_cleaner.state.floatbank5_a_air</th>\n",
       "      <th>secondary_cleaner.state.floatbank5_a_level</th>\n",
       "      <th>secondary_cleaner.state.floatbank5_b_air</th>\n",
       "      <th>secondary_cleaner.state.floatbank5_b_level</th>\n",
       "      <th>secondary_cleaner.state.floatbank6_a_air</th>\n",
       "      <th>secondary_cleaner.state.floatbank6_a_level</th>\n",
       "    </tr>\n",
       "  </thead>\n",
       "  <tbody>\n",
       "    <tr>\n",
       "      <th>0</th>\n",
       "      <td>2016-01-15 00:00:00</td>\n",
       "      <td>6.055403</td>\n",
       "      <td>9.889648</td>\n",
       "      <td>5.507324</td>\n",
       "      <td>42.192020</td>\n",
       "      <td>70.541216</td>\n",
       "      <td>10.411962</td>\n",
       "      <td>0.895447</td>\n",
       "      <td>16.904297</td>\n",
       "      <td>2.143149</td>\n",
       "      <td>...</td>\n",
       "      <td>14.016835</td>\n",
       "      <td>-502.488007</td>\n",
       "      <td>12.099931</td>\n",
       "      <td>-504.715942</td>\n",
       "      <td>9.925633</td>\n",
       "      <td>-498.310211</td>\n",
       "      <td>8.079666</td>\n",
       "      <td>-500.470978</td>\n",
       "      <td>14.151341</td>\n",
       "      <td>-605.841980</td>\n",
       "    </tr>\n",
       "    <tr>\n",
       "      <th>1</th>\n",
       "      <td>2016-01-15 01:00:00</td>\n",
       "      <td>6.029369</td>\n",
       "      <td>9.968944</td>\n",
       "      <td>5.257781</td>\n",
       "      <td>42.701629</td>\n",
       "      <td>69.266198</td>\n",
       "      <td>10.462676</td>\n",
       "      <td>0.927452</td>\n",
       "      <td>16.634514</td>\n",
       "      <td>2.224930</td>\n",
       "      <td>...</td>\n",
       "      <td>13.992281</td>\n",
       "      <td>-505.503262</td>\n",
       "      <td>11.950531</td>\n",
       "      <td>-501.331529</td>\n",
       "      <td>10.039245</td>\n",
       "      <td>-500.169983</td>\n",
       "      <td>7.984757</td>\n",
       "      <td>-500.582168</td>\n",
       "      <td>13.998353</td>\n",
       "      <td>-599.787184</td>\n",
       "    </tr>\n",
       "    <tr>\n",
       "      <th>2</th>\n",
       "      <td>2016-01-15 02:00:00</td>\n",
       "      <td>6.055926</td>\n",
       "      <td>10.213995</td>\n",
       "      <td>5.383759</td>\n",
       "      <td>42.657501</td>\n",
       "      <td>68.116445</td>\n",
       "      <td>10.507046</td>\n",
       "      <td>0.953716</td>\n",
       "      <td>16.208849</td>\n",
       "      <td>2.257889</td>\n",
       "      <td>...</td>\n",
       "      <td>14.015015</td>\n",
       "      <td>-502.520901</td>\n",
       "      <td>11.912783</td>\n",
       "      <td>-501.133383</td>\n",
       "      <td>10.070913</td>\n",
       "      <td>-500.129135</td>\n",
       "      <td>8.013877</td>\n",
       "      <td>-500.517572</td>\n",
       "      <td>14.028663</td>\n",
       "      <td>-601.427363</td>\n",
       "    </tr>\n",
       "    <tr>\n",
       "      <th>3</th>\n",
       "      <td>2016-01-15 03:00:00</td>\n",
       "      <td>6.047977</td>\n",
       "      <td>9.977019</td>\n",
       "      <td>4.858634</td>\n",
       "      <td>42.689819</td>\n",
       "      <td>68.347543</td>\n",
       "      <td>10.422762</td>\n",
       "      <td>0.883763</td>\n",
       "      <td>16.532835</td>\n",
       "      <td>2.146849</td>\n",
       "      <td>...</td>\n",
       "      <td>14.036510</td>\n",
       "      <td>-500.857308</td>\n",
       "      <td>11.999550</td>\n",
       "      <td>-501.193686</td>\n",
       "      <td>9.970366</td>\n",
       "      <td>-499.201640</td>\n",
       "      <td>7.977324</td>\n",
       "      <td>-500.255908</td>\n",
       "      <td>14.005551</td>\n",
       "      <td>-599.996129</td>\n",
       "    </tr>\n",
       "    <tr>\n",
       "      <th>4</th>\n",
       "      <td>2016-01-15 04:00:00</td>\n",
       "      <td>6.148599</td>\n",
       "      <td>10.142511</td>\n",
       "      <td>4.939416</td>\n",
       "      <td>42.774141</td>\n",
       "      <td>66.927016</td>\n",
       "      <td>10.360302</td>\n",
       "      <td>0.792826</td>\n",
       "      <td>16.525686</td>\n",
       "      <td>2.055292</td>\n",
       "      <td>...</td>\n",
       "      <td>14.027298</td>\n",
       "      <td>-499.838632</td>\n",
       "      <td>11.953070</td>\n",
       "      <td>-501.053894</td>\n",
       "      <td>9.925709</td>\n",
       "      <td>-501.686727</td>\n",
       "      <td>7.894242</td>\n",
       "      <td>-500.356035</td>\n",
       "      <td>13.996647</td>\n",
       "      <td>-601.496691</td>\n",
       "    </tr>\n",
       "  </tbody>\n",
       "</table>\n",
       "<p>5 rows × 87 columns</p>\n",
       "</div>"
      ],
      "text/plain": [
       "                  date  final.output.concentrate_ag  \\\n",
       "0  2016-01-15 00:00:00                     6.055403   \n",
       "1  2016-01-15 01:00:00                     6.029369   \n",
       "2  2016-01-15 02:00:00                     6.055926   \n",
       "3  2016-01-15 03:00:00                     6.047977   \n",
       "4  2016-01-15 04:00:00                     6.148599   \n",
       "\n",
       "   final.output.concentrate_pb  final.output.concentrate_sol  \\\n",
       "0                     9.889648                      5.507324   \n",
       "1                     9.968944                      5.257781   \n",
       "2                    10.213995                      5.383759   \n",
       "3                     9.977019                      4.858634   \n",
       "4                    10.142511                      4.939416   \n",
       "\n",
       "   final.output.concentrate_au  final.output.recovery  final.output.tail_ag  \\\n",
       "0                    42.192020              70.541216             10.411962   \n",
       "1                    42.701629              69.266198             10.462676   \n",
       "2                    42.657501              68.116445             10.507046   \n",
       "3                    42.689819              68.347543             10.422762   \n",
       "4                    42.774141              66.927016             10.360302   \n",
       "\n",
       "   final.output.tail_pb  final.output.tail_sol  final.output.tail_au  ...  \\\n",
       "0              0.895447              16.904297              2.143149  ...   \n",
       "1              0.927452              16.634514              2.224930  ...   \n",
       "2              0.953716              16.208849              2.257889  ...   \n",
       "3              0.883763              16.532835              2.146849  ...   \n",
       "4              0.792826              16.525686              2.055292  ...   \n",
       "\n",
       "   secondary_cleaner.state.floatbank4_a_air  \\\n",
       "0                                 14.016835   \n",
       "1                                 13.992281   \n",
       "2                                 14.015015   \n",
       "3                                 14.036510   \n",
       "4                                 14.027298   \n",
       "\n",
       "   secondary_cleaner.state.floatbank4_a_level  \\\n",
       "0                                 -502.488007   \n",
       "1                                 -505.503262   \n",
       "2                                 -502.520901   \n",
       "3                                 -500.857308   \n",
       "4                                 -499.838632   \n",
       "\n",
       "   secondary_cleaner.state.floatbank4_b_air  \\\n",
       "0                                 12.099931   \n",
       "1                                 11.950531   \n",
       "2                                 11.912783   \n",
       "3                                 11.999550   \n",
       "4                                 11.953070   \n",
       "\n",
       "   secondary_cleaner.state.floatbank4_b_level  \\\n",
       "0                                 -504.715942   \n",
       "1                                 -501.331529   \n",
       "2                                 -501.133383   \n",
       "3                                 -501.193686   \n",
       "4                                 -501.053894   \n",
       "\n",
       "   secondary_cleaner.state.floatbank5_a_air  \\\n",
       "0                                  9.925633   \n",
       "1                                 10.039245   \n",
       "2                                 10.070913   \n",
       "3                                  9.970366   \n",
       "4                                  9.925709   \n",
       "\n",
       "   secondary_cleaner.state.floatbank5_a_level  \\\n",
       "0                                 -498.310211   \n",
       "1                                 -500.169983   \n",
       "2                                 -500.129135   \n",
       "3                                 -499.201640   \n",
       "4                                 -501.686727   \n",
       "\n",
       "   secondary_cleaner.state.floatbank5_b_air  \\\n",
       "0                                  8.079666   \n",
       "1                                  7.984757   \n",
       "2                                  8.013877   \n",
       "3                                  7.977324   \n",
       "4                                  7.894242   \n",
       "\n",
       "   secondary_cleaner.state.floatbank5_b_level  \\\n",
       "0                                 -500.470978   \n",
       "1                                 -500.582168   \n",
       "2                                 -500.517572   \n",
       "3                                 -500.255908   \n",
       "4                                 -500.356035   \n",
       "\n",
       "   secondary_cleaner.state.floatbank6_a_air  \\\n",
       "0                                 14.151341   \n",
       "1                                 13.998353   \n",
       "2                                 14.028663   \n",
       "3                                 14.005551   \n",
       "4                                 13.996647   \n",
       "\n",
       "   secondary_cleaner.state.floatbank6_a_level  \n",
       "0                                 -605.841980  \n",
       "1                                 -599.787184  \n",
       "2                                 -601.427363  \n",
       "3                                 -599.996129  \n",
       "4                                 -601.496691  \n",
       "\n",
       "[5 rows x 87 columns]"
      ]
     },
     "execution_count": 131,
     "metadata": {},
     "output_type": "execute_result"
    }
   ],
   "source": [
    "data_train.head()"
   ]
  },
  {
   "cell_type": "code",
   "execution_count": 132,
   "metadata": {
    "scrolled": true
   },
   "outputs": [
    {
     "name": "stdout",
     "output_type": "stream",
     "text": [
      "<class 'pandas.core.frame.DataFrame'>\n",
      "RangeIndex: 14149 entries, 0 to 14148\n",
      "Data columns (total 87 columns):\n",
      " #   Column                                              Non-Null Count  Dtype  \n",
      "---  ------                                              --------------  -----  \n",
      " 0   date                                                14149 non-null  object \n",
      " 1   final.output.concentrate_ag                         14148 non-null  float64\n",
      " 2   final.output.concentrate_pb                         14148 non-null  float64\n",
      " 3   final.output.concentrate_sol                        13938 non-null  float64\n",
      " 4   final.output.concentrate_au                         14149 non-null  float64\n",
      " 5   final.output.recovery                               14149 non-null  float64\n",
      " 6   final.output.tail_ag                                14149 non-null  float64\n",
      " 7   final.output.tail_pb                                14049 non-null  float64\n",
      " 8   final.output.tail_sol                               14144 non-null  float64\n",
      " 9   final.output.tail_au                                14149 non-null  float64\n",
      " 10  primary_cleaner.input.sulfate                       14129 non-null  float64\n",
      " 11  primary_cleaner.input.depressant                    14117 non-null  float64\n",
      " 12  primary_cleaner.input.feed_size                     14149 non-null  float64\n",
      " 13  primary_cleaner.input.xanthate                      14049 non-null  float64\n",
      " 14  primary_cleaner.output.concentrate_ag               14149 non-null  float64\n",
      " 15  primary_cleaner.output.concentrate_pb               14063 non-null  float64\n",
      " 16  primary_cleaner.output.concentrate_sol              13863 non-null  float64\n",
      " 17  primary_cleaner.output.concentrate_au               14149 non-null  float64\n",
      " 18  primary_cleaner.output.tail_ag                      14148 non-null  float64\n",
      " 19  primary_cleaner.output.tail_pb                      14134 non-null  float64\n",
      " 20  primary_cleaner.output.tail_sol                     14103 non-null  float64\n",
      " 21  primary_cleaner.output.tail_au                      14149 non-null  float64\n",
      " 22  primary_cleaner.state.floatbank8_a_air              14145 non-null  float64\n",
      " 23  primary_cleaner.state.floatbank8_a_level            14148 non-null  float64\n",
      " 24  primary_cleaner.state.floatbank8_b_air              14145 non-null  float64\n",
      " 25  primary_cleaner.state.floatbank8_b_level            14148 non-null  float64\n",
      " 26  primary_cleaner.state.floatbank8_c_air              14147 non-null  float64\n",
      " 27  primary_cleaner.state.floatbank8_c_level            14148 non-null  float64\n",
      " 28  primary_cleaner.state.floatbank8_d_air              14146 non-null  float64\n",
      " 29  primary_cleaner.state.floatbank8_d_level            14148 non-null  float64\n",
      " 30  rougher.calculation.sulfate_to_au_concentrate       14148 non-null  float64\n",
      " 31  rougher.calculation.floatbank10_sulfate_to_au_feed  14148 non-null  float64\n",
      " 32  rougher.calculation.floatbank11_sulfate_to_au_feed  14148 non-null  float64\n",
      " 33  rougher.calculation.au_pb_ratio                     14149 non-null  float64\n",
      " 34  rougher.input.feed_ag                               14149 non-null  float64\n",
      " 35  rougher.input.feed_pb                               14049 non-null  float64\n",
      " 36  rougher.input.feed_rate                             14141 non-null  float64\n",
      " 37  rougher.input.feed_size                             14005 non-null  float64\n",
      " 38  rougher.input.feed_sol                              14071 non-null  float64\n",
      " 39  rougher.input.feed_au                               14149 non-null  float64\n",
      " 40  rougher.input.floatbank10_sulfate                   14120 non-null  float64\n",
      " 41  rougher.input.floatbank10_xanthate                  14141 non-null  float64\n",
      " 42  rougher.input.floatbank11_sulfate                   14113 non-null  float64\n",
      " 43  rougher.input.floatbank11_xanthate                  13721 non-null  float64\n",
      " 44  rougher.output.concentrate_ag                       14149 non-null  float64\n",
      " 45  rougher.output.concentrate_pb                       14149 non-null  float64\n",
      " 46  rougher.output.concentrate_sol                      14127 non-null  float64\n",
      " 47  rougher.output.concentrate_au                       14149 non-null  float64\n",
      " 48  rougher.output.recovery                             14149 non-null  float64\n",
      " 49  rougher.output.tail_ag                              14148 non-null  float64\n",
      " 50  rougher.output.tail_pb                              14149 non-null  float64\n",
      " 51  rougher.output.tail_sol                             14149 non-null  float64\n",
      " 52  rougher.output.tail_au                              14149 non-null  float64\n",
      " 53  rougher.state.floatbank10_a_air                     14148 non-null  float64\n",
      " 54  rougher.state.floatbank10_a_level                   14148 non-null  float64\n",
      " 55  rougher.state.floatbank10_b_air                     14148 non-null  float64\n",
      " 56  rougher.state.floatbank10_b_level                   14148 non-null  float64\n",
      " 57  rougher.state.floatbank10_c_air                     14148 non-null  float64\n",
      " 58  rougher.state.floatbank10_c_level                   14148 non-null  float64\n",
      " 59  rougher.state.floatbank10_d_air                     14149 non-null  float64\n",
      " 60  rougher.state.floatbank10_d_level                   14149 non-null  float64\n",
      " 61  rougher.state.floatbank10_e_air                     13713 non-null  float64\n",
      " 62  rougher.state.floatbank10_e_level                   14149 non-null  float64\n",
      " 63  rougher.state.floatbank10_f_air                     14149 non-null  float64\n",
      " 64  rougher.state.floatbank10_f_level                   14149 non-null  float64\n",
      " 65  secondary_cleaner.output.tail_ag                    14147 non-null  float64\n",
      " 66  secondary_cleaner.output.tail_pb                    14139 non-null  float64\n",
      " 67  secondary_cleaner.output.tail_sol                   12544 non-null  float64\n",
      " 68  secondary_cleaner.output.tail_au                    14149 non-null  float64\n",
      " 69  secondary_cleaner.state.floatbank2_a_air            13932 non-null  float64\n",
      " 70  secondary_cleaner.state.floatbank2_a_level          14148 non-null  float64\n",
      " 71  secondary_cleaner.state.floatbank2_b_air            14128 non-null  float64\n",
      " 72  secondary_cleaner.state.floatbank2_b_level          14148 non-null  float64\n",
      " 73  secondary_cleaner.state.floatbank3_a_air            14145 non-null  float64\n",
      " 74  secondary_cleaner.state.floatbank3_a_level          14148 non-null  float64\n",
      " 75  secondary_cleaner.state.floatbank3_b_air            14148 non-null  float64\n",
      " 76  secondary_cleaner.state.floatbank3_b_level          14148 non-null  float64\n",
      " 77  secondary_cleaner.state.floatbank4_a_air            14143 non-null  float64\n",
      " 78  secondary_cleaner.state.floatbank4_a_level          14148 non-null  float64\n",
      " 79  secondary_cleaner.state.floatbank4_b_air            14148 non-null  float64\n",
      " 80  secondary_cleaner.state.floatbank4_b_level          14148 non-null  float64\n",
      " 81  secondary_cleaner.state.floatbank5_a_air            14148 non-null  float64\n",
      " 82  secondary_cleaner.state.floatbank5_a_level          14148 non-null  float64\n",
      " 83  secondary_cleaner.state.floatbank5_b_air            14148 non-null  float64\n",
      " 84  secondary_cleaner.state.floatbank5_b_level          14148 non-null  float64\n",
      " 85  secondary_cleaner.state.floatbank6_a_air            14147 non-null  float64\n",
      " 86  secondary_cleaner.state.floatbank6_a_level          14148 non-null  float64\n",
      "dtypes: float64(86), object(1)\n",
      "memory usage: 9.4+ MB\n"
     ]
    }
   ],
   "source": [
    "data_train.info()"
   ]
  },
  {
   "cell_type": "markdown",
   "metadata": {},
   "source": [
    "#### Тренировочная выборка"
   ]
  },
  {
   "cell_type": "code",
   "execution_count": 133,
   "metadata": {
    "scrolled": true
   },
   "outputs": [
    {
     "data": {
      "text/html": [
       "<div>\n",
       "<style scoped>\n",
       "    .dataframe tbody tr th:only-of-type {\n",
       "        vertical-align: middle;\n",
       "    }\n",
       "\n",
       "    .dataframe tbody tr th {\n",
       "        vertical-align: top;\n",
       "    }\n",
       "\n",
       "    .dataframe thead th {\n",
       "        text-align: right;\n",
       "    }\n",
       "</style>\n",
       "<table border=\"1\" class=\"dataframe\">\n",
       "  <thead>\n",
       "    <tr style=\"text-align: right;\">\n",
       "      <th></th>\n",
       "      <th>date</th>\n",
       "      <th>primary_cleaner.input.sulfate</th>\n",
       "      <th>primary_cleaner.input.depressant</th>\n",
       "      <th>primary_cleaner.input.feed_size</th>\n",
       "      <th>primary_cleaner.input.xanthate</th>\n",
       "      <th>primary_cleaner.state.floatbank8_a_air</th>\n",
       "      <th>primary_cleaner.state.floatbank8_a_level</th>\n",
       "      <th>primary_cleaner.state.floatbank8_b_air</th>\n",
       "      <th>primary_cleaner.state.floatbank8_b_level</th>\n",
       "      <th>primary_cleaner.state.floatbank8_c_air</th>\n",
       "      <th>...</th>\n",
       "      <th>secondary_cleaner.state.floatbank4_a_air</th>\n",
       "      <th>secondary_cleaner.state.floatbank4_a_level</th>\n",
       "      <th>secondary_cleaner.state.floatbank4_b_air</th>\n",
       "      <th>secondary_cleaner.state.floatbank4_b_level</th>\n",
       "      <th>secondary_cleaner.state.floatbank5_a_air</th>\n",
       "      <th>secondary_cleaner.state.floatbank5_a_level</th>\n",
       "      <th>secondary_cleaner.state.floatbank5_b_air</th>\n",
       "      <th>secondary_cleaner.state.floatbank5_b_level</th>\n",
       "      <th>secondary_cleaner.state.floatbank6_a_air</th>\n",
       "      <th>secondary_cleaner.state.floatbank6_a_level</th>\n",
       "    </tr>\n",
       "  </thead>\n",
       "  <tbody>\n",
       "    <tr>\n",
       "      <th>0</th>\n",
       "      <td>2016-09-01 00:59:59</td>\n",
       "      <td>210.800909</td>\n",
       "      <td>14.993118</td>\n",
       "      <td>8.080000</td>\n",
       "      <td>1.005021</td>\n",
       "      <td>1398.981301</td>\n",
       "      <td>-500.225577</td>\n",
       "      <td>1399.144926</td>\n",
       "      <td>-499.919735</td>\n",
       "      <td>1400.102998</td>\n",
       "      <td>...</td>\n",
       "      <td>12.023554</td>\n",
       "      <td>-497.795834</td>\n",
       "      <td>8.016656</td>\n",
       "      <td>-501.289139</td>\n",
       "      <td>7.946562</td>\n",
       "      <td>-432.317850</td>\n",
       "      <td>4.872511</td>\n",
       "      <td>-500.037437</td>\n",
       "      <td>26.705889</td>\n",
       "      <td>-499.709414</td>\n",
       "    </tr>\n",
       "    <tr>\n",
       "      <th>1</th>\n",
       "      <td>2016-09-01 01:59:59</td>\n",
       "      <td>215.392455</td>\n",
       "      <td>14.987471</td>\n",
       "      <td>8.080000</td>\n",
       "      <td>0.990469</td>\n",
       "      <td>1398.777912</td>\n",
       "      <td>-500.057435</td>\n",
       "      <td>1398.055362</td>\n",
       "      <td>-499.778182</td>\n",
       "      <td>1396.151033</td>\n",
       "      <td>...</td>\n",
       "      <td>12.058140</td>\n",
       "      <td>-498.695773</td>\n",
       "      <td>8.130979</td>\n",
       "      <td>-499.634209</td>\n",
       "      <td>7.958270</td>\n",
       "      <td>-525.839648</td>\n",
       "      <td>4.878850</td>\n",
       "      <td>-500.162375</td>\n",
       "      <td>25.019940</td>\n",
       "      <td>-499.819438</td>\n",
       "    </tr>\n",
       "    <tr>\n",
       "      <th>2</th>\n",
       "      <td>2016-09-01 02:59:59</td>\n",
       "      <td>215.259946</td>\n",
       "      <td>12.884934</td>\n",
       "      <td>7.786667</td>\n",
       "      <td>0.996043</td>\n",
       "      <td>1398.493666</td>\n",
       "      <td>-500.868360</td>\n",
       "      <td>1398.860436</td>\n",
       "      <td>-499.764529</td>\n",
       "      <td>1398.075709</td>\n",
       "      <td>...</td>\n",
       "      <td>11.962366</td>\n",
       "      <td>-498.767484</td>\n",
       "      <td>8.096893</td>\n",
       "      <td>-500.827423</td>\n",
       "      <td>8.071056</td>\n",
       "      <td>-500.801673</td>\n",
       "      <td>4.905125</td>\n",
       "      <td>-499.828510</td>\n",
       "      <td>24.994862</td>\n",
       "      <td>-500.622559</td>\n",
       "    </tr>\n",
       "    <tr>\n",
       "      <th>3</th>\n",
       "      <td>2016-09-01 03:59:59</td>\n",
       "      <td>215.336236</td>\n",
       "      <td>12.006805</td>\n",
       "      <td>7.640000</td>\n",
       "      <td>0.863514</td>\n",
       "      <td>1399.618111</td>\n",
       "      <td>-498.863574</td>\n",
       "      <td>1397.440120</td>\n",
       "      <td>-499.211024</td>\n",
       "      <td>1400.129303</td>\n",
       "      <td>...</td>\n",
       "      <td>12.033091</td>\n",
       "      <td>-498.350935</td>\n",
       "      <td>8.074946</td>\n",
       "      <td>-499.474407</td>\n",
       "      <td>7.897085</td>\n",
       "      <td>-500.868509</td>\n",
       "      <td>4.931400</td>\n",
       "      <td>-499.963623</td>\n",
       "      <td>24.948919</td>\n",
       "      <td>-498.709987</td>\n",
       "    </tr>\n",
       "    <tr>\n",
       "      <th>4</th>\n",
       "      <td>2016-09-01 04:59:59</td>\n",
       "      <td>199.099327</td>\n",
       "      <td>10.682530</td>\n",
       "      <td>7.530000</td>\n",
       "      <td>0.805575</td>\n",
       "      <td>1401.268123</td>\n",
       "      <td>-500.808305</td>\n",
       "      <td>1398.128818</td>\n",
       "      <td>-499.504543</td>\n",
       "      <td>1402.172226</td>\n",
       "      <td>...</td>\n",
       "      <td>12.025367</td>\n",
       "      <td>-500.786497</td>\n",
       "      <td>8.054678</td>\n",
       "      <td>-500.397500</td>\n",
       "      <td>8.107890</td>\n",
       "      <td>-509.526725</td>\n",
       "      <td>4.957674</td>\n",
       "      <td>-500.360026</td>\n",
       "      <td>25.003331</td>\n",
       "      <td>-500.856333</td>\n",
       "    </tr>\n",
       "  </tbody>\n",
       "</table>\n",
       "<p>5 rows × 53 columns</p>\n",
       "</div>"
      ],
      "text/plain": [
       "                  date  primary_cleaner.input.sulfate  \\\n",
       "0  2016-09-01 00:59:59                     210.800909   \n",
       "1  2016-09-01 01:59:59                     215.392455   \n",
       "2  2016-09-01 02:59:59                     215.259946   \n",
       "3  2016-09-01 03:59:59                     215.336236   \n",
       "4  2016-09-01 04:59:59                     199.099327   \n",
       "\n",
       "   primary_cleaner.input.depressant  primary_cleaner.input.feed_size  \\\n",
       "0                         14.993118                         8.080000   \n",
       "1                         14.987471                         8.080000   \n",
       "2                         12.884934                         7.786667   \n",
       "3                         12.006805                         7.640000   \n",
       "4                         10.682530                         7.530000   \n",
       "\n",
       "   primary_cleaner.input.xanthate  primary_cleaner.state.floatbank8_a_air  \\\n",
       "0                        1.005021                             1398.981301   \n",
       "1                        0.990469                             1398.777912   \n",
       "2                        0.996043                             1398.493666   \n",
       "3                        0.863514                             1399.618111   \n",
       "4                        0.805575                             1401.268123   \n",
       "\n",
       "   primary_cleaner.state.floatbank8_a_level  \\\n",
       "0                               -500.225577   \n",
       "1                               -500.057435   \n",
       "2                               -500.868360   \n",
       "3                               -498.863574   \n",
       "4                               -500.808305   \n",
       "\n",
       "   primary_cleaner.state.floatbank8_b_air  \\\n",
       "0                             1399.144926   \n",
       "1                             1398.055362   \n",
       "2                             1398.860436   \n",
       "3                             1397.440120   \n",
       "4                             1398.128818   \n",
       "\n",
       "   primary_cleaner.state.floatbank8_b_level  \\\n",
       "0                               -499.919735   \n",
       "1                               -499.778182   \n",
       "2                               -499.764529   \n",
       "3                               -499.211024   \n",
       "4                               -499.504543   \n",
       "\n",
       "   primary_cleaner.state.floatbank8_c_air  ...  \\\n",
       "0                             1400.102998  ...   \n",
       "1                             1396.151033  ...   \n",
       "2                             1398.075709  ...   \n",
       "3                             1400.129303  ...   \n",
       "4                             1402.172226  ...   \n",
       "\n",
       "   secondary_cleaner.state.floatbank4_a_air  \\\n",
       "0                                 12.023554   \n",
       "1                                 12.058140   \n",
       "2                                 11.962366   \n",
       "3                                 12.033091   \n",
       "4                                 12.025367   \n",
       "\n",
       "   secondary_cleaner.state.floatbank4_a_level  \\\n",
       "0                                 -497.795834   \n",
       "1                                 -498.695773   \n",
       "2                                 -498.767484   \n",
       "3                                 -498.350935   \n",
       "4                                 -500.786497   \n",
       "\n",
       "   secondary_cleaner.state.floatbank4_b_air  \\\n",
       "0                                  8.016656   \n",
       "1                                  8.130979   \n",
       "2                                  8.096893   \n",
       "3                                  8.074946   \n",
       "4                                  8.054678   \n",
       "\n",
       "   secondary_cleaner.state.floatbank4_b_level  \\\n",
       "0                                 -501.289139   \n",
       "1                                 -499.634209   \n",
       "2                                 -500.827423   \n",
       "3                                 -499.474407   \n",
       "4                                 -500.397500   \n",
       "\n",
       "   secondary_cleaner.state.floatbank5_a_air  \\\n",
       "0                                  7.946562   \n",
       "1                                  7.958270   \n",
       "2                                  8.071056   \n",
       "3                                  7.897085   \n",
       "4                                  8.107890   \n",
       "\n",
       "   secondary_cleaner.state.floatbank5_a_level  \\\n",
       "0                                 -432.317850   \n",
       "1                                 -525.839648   \n",
       "2                                 -500.801673   \n",
       "3                                 -500.868509   \n",
       "4                                 -509.526725   \n",
       "\n",
       "   secondary_cleaner.state.floatbank5_b_air  \\\n",
       "0                                  4.872511   \n",
       "1                                  4.878850   \n",
       "2                                  4.905125   \n",
       "3                                  4.931400   \n",
       "4                                  4.957674   \n",
       "\n",
       "   secondary_cleaner.state.floatbank5_b_level  \\\n",
       "0                                 -500.037437   \n",
       "1                                 -500.162375   \n",
       "2                                 -499.828510   \n",
       "3                                 -499.963623   \n",
       "4                                 -500.360026   \n",
       "\n",
       "   secondary_cleaner.state.floatbank6_a_air  \\\n",
       "0                                 26.705889   \n",
       "1                                 25.019940   \n",
       "2                                 24.994862   \n",
       "3                                 24.948919   \n",
       "4                                 25.003331   \n",
       "\n",
       "   secondary_cleaner.state.floatbank6_a_level  \n",
       "0                                 -499.709414  \n",
       "1                                 -499.819438  \n",
       "2                                 -500.622559  \n",
       "3                                 -498.709987  \n",
       "4                                 -500.856333  \n",
       "\n",
       "[5 rows x 53 columns]"
      ]
     },
     "execution_count": 133,
     "metadata": {},
     "output_type": "execute_result"
    }
   ],
   "source": [
    "data_test.head()"
   ]
  },
  {
   "cell_type": "code",
   "execution_count": 134,
   "metadata": {
    "scrolled": true
   },
   "outputs": [
    {
     "name": "stdout",
     "output_type": "stream",
     "text": [
      "<class 'pandas.core.frame.DataFrame'>\n",
      "RangeIndex: 5290 entries, 0 to 5289\n",
      "Data columns (total 53 columns):\n",
      " #   Column                                      Non-Null Count  Dtype  \n",
      "---  ------                                      --------------  -----  \n",
      " 0   date                                        5290 non-null   object \n",
      " 1   primary_cleaner.input.sulfate               5286 non-null   float64\n",
      " 2   primary_cleaner.input.depressant            5285 non-null   float64\n",
      " 3   primary_cleaner.input.feed_size             5290 non-null   float64\n",
      " 4   primary_cleaner.input.xanthate              5286 non-null   float64\n",
      " 5   primary_cleaner.state.floatbank8_a_air      5290 non-null   float64\n",
      " 6   primary_cleaner.state.floatbank8_a_level    5290 non-null   float64\n",
      " 7   primary_cleaner.state.floatbank8_b_air      5290 non-null   float64\n",
      " 8   primary_cleaner.state.floatbank8_b_level    5290 non-null   float64\n",
      " 9   primary_cleaner.state.floatbank8_c_air      5290 non-null   float64\n",
      " 10  primary_cleaner.state.floatbank8_c_level    5290 non-null   float64\n",
      " 11  primary_cleaner.state.floatbank8_d_air      5290 non-null   float64\n",
      " 12  primary_cleaner.state.floatbank8_d_level    5290 non-null   float64\n",
      " 13  rougher.input.feed_ag                       5290 non-null   float64\n",
      " 14  rougher.input.feed_pb                       5290 non-null   float64\n",
      " 15  rougher.input.feed_rate                     5287 non-null   float64\n",
      " 16  rougher.input.feed_size                     5289 non-null   float64\n",
      " 17  rougher.input.feed_sol                      5269 non-null   float64\n",
      " 18  rougher.input.feed_au                       5290 non-null   float64\n",
      " 19  rougher.input.floatbank10_sulfate           5285 non-null   float64\n",
      " 20  rougher.input.floatbank10_xanthate          5290 non-null   float64\n",
      " 21  rougher.input.floatbank11_sulfate           5282 non-null   float64\n",
      " 22  rougher.input.floatbank11_xanthate          5265 non-null   float64\n",
      " 23  rougher.state.floatbank10_a_air             5290 non-null   float64\n",
      " 24  rougher.state.floatbank10_a_level           5290 non-null   float64\n",
      " 25  rougher.state.floatbank10_b_air             5290 non-null   float64\n",
      " 26  rougher.state.floatbank10_b_level           5290 non-null   float64\n",
      " 27  rougher.state.floatbank10_c_air             5290 non-null   float64\n",
      " 28  rougher.state.floatbank10_c_level           5290 non-null   float64\n",
      " 29  rougher.state.floatbank10_d_air             5290 non-null   float64\n",
      " 30  rougher.state.floatbank10_d_level           5290 non-null   float64\n",
      " 31  rougher.state.floatbank10_e_air             5290 non-null   float64\n",
      " 32  rougher.state.floatbank10_e_level           5290 non-null   float64\n",
      " 33  rougher.state.floatbank10_f_air             5290 non-null   float64\n",
      " 34  rougher.state.floatbank10_f_level           5290 non-null   float64\n",
      " 35  secondary_cleaner.state.floatbank2_a_air    5287 non-null   float64\n",
      " 36  secondary_cleaner.state.floatbank2_a_level  5290 non-null   float64\n",
      " 37  secondary_cleaner.state.floatbank2_b_air    5288 non-null   float64\n",
      " 38  secondary_cleaner.state.floatbank2_b_level  5290 non-null   float64\n",
      " 39  secondary_cleaner.state.floatbank3_a_air    5281 non-null   float64\n",
      " 40  secondary_cleaner.state.floatbank3_a_level  5290 non-null   float64\n",
      " 41  secondary_cleaner.state.floatbank3_b_air    5290 non-null   float64\n",
      " 42  secondary_cleaner.state.floatbank3_b_level  5290 non-null   float64\n",
      " 43  secondary_cleaner.state.floatbank4_a_air    5290 non-null   float64\n",
      " 44  secondary_cleaner.state.floatbank4_a_level  5290 non-null   float64\n",
      " 45  secondary_cleaner.state.floatbank4_b_air    5290 non-null   float64\n",
      " 46  secondary_cleaner.state.floatbank4_b_level  5290 non-null   float64\n",
      " 47  secondary_cleaner.state.floatbank5_a_air    5290 non-null   float64\n",
      " 48  secondary_cleaner.state.floatbank5_a_level  5290 non-null   float64\n",
      " 49  secondary_cleaner.state.floatbank5_b_air    5290 non-null   float64\n",
      " 50  secondary_cleaner.state.floatbank5_b_level  5290 non-null   float64\n",
      " 51  secondary_cleaner.state.floatbank6_a_air    5290 non-null   float64\n",
      " 52  secondary_cleaner.state.floatbank6_a_level  5290 non-null   float64\n",
      "dtypes: float64(52), object(1)\n",
      "memory usage: 2.1+ MB\n"
     ]
    }
   ],
   "source": [
    "data_test.info()"
   ]
  },
  {
   "cell_type": "markdown",
   "metadata": {},
   "source": [
    "#### Исходный датасет"
   ]
  },
  {
   "cell_type": "code",
   "execution_count": 135,
   "metadata": {
    "scrolled": true
   },
   "outputs": [
    {
     "data": {
      "text/html": [
       "<div>\n",
       "<style scoped>\n",
       "    .dataframe tbody tr th:only-of-type {\n",
       "        vertical-align: middle;\n",
       "    }\n",
       "\n",
       "    .dataframe tbody tr th {\n",
       "        vertical-align: top;\n",
       "    }\n",
       "\n",
       "    .dataframe thead th {\n",
       "        text-align: right;\n",
       "    }\n",
       "</style>\n",
       "<table border=\"1\" class=\"dataframe\">\n",
       "  <thead>\n",
       "    <tr style=\"text-align: right;\">\n",
       "      <th></th>\n",
       "      <th>date</th>\n",
       "      <th>final.output.concentrate_ag</th>\n",
       "      <th>final.output.concentrate_pb</th>\n",
       "      <th>final.output.concentrate_sol</th>\n",
       "      <th>final.output.concentrate_au</th>\n",
       "      <th>final.output.recovery</th>\n",
       "      <th>final.output.tail_ag</th>\n",
       "      <th>final.output.tail_pb</th>\n",
       "      <th>final.output.tail_sol</th>\n",
       "      <th>final.output.tail_au</th>\n",
       "      <th>...</th>\n",
       "      <th>secondary_cleaner.state.floatbank4_a_air</th>\n",
       "      <th>secondary_cleaner.state.floatbank4_a_level</th>\n",
       "      <th>secondary_cleaner.state.floatbank4_b_air</th>\n",
       "      <th>secondary_cleaner.state.floatbank4_b_level</th>\n",
       "      <th>secondary_cleaner.state.floatbank5_a_air</th>\n",
       "      <th>secondary_cleaner.state.floatbank5_a_level</th>\n",
       "      <th>secondary_cleaner.state.floatbank5_b_air</th>\n",
       "      <th>secondary_cleaner.state.floatbank5_b_level</th>\n",
       "      <th>secondary_cleaner.state.floatbank6_a_air</th>\n",
       "      <th>secondary_cleaner.state.floatbank6_a_level</th>\n",
       "    </tr>\n",
       "  </thead>\n",
       "  <tbody>\n",
       "    <tr>\n",
       "      <th>0</th>\n",
       "      <td>2016-01-15 00:00:00</td>\n",
       "      <td>6.055403</td>\n",
       "      <td>9.889648</td>\n",
       "      <td>5.507324</td>\n",
       "      <td>42.192020</td>\n",
       "      <td>70.541216</td>\n",
       "      <td>10.411962</td>\n",
       "      <td>0.895447</td>\n",
       "      <td>16.904297</td>\n",
       "      <td>2.143149</td>\n",
       "      <td>...</td>\n",
       "      <td>14.016835</td>\n",
       "      <td>-502.488007</td>\n",
       "      <td>12.099931</td>\n",
       "      <td>-504.715942</td>\n",
       "      <td>9.925633</td>\n",
       "      <td>-498.310211</td>\n",
       "      <td>8.079666</td>\n",
       "      <td>-500.470978</td>\n",
       "      <td>14.151341</td>\n",
       "      <td>-605.841980</td>\n",
       "    </tr>\n",
       "    <tr>\n",
       "      <th>1</th>\n",
       "      <td>2016-01-15 01:00:00</td>\n",
       "      <td>6.029369</td>\n",
       "      <td>9.968944</td>\n",
       "      <td>5.257781</td>\n",
       "      <td>42.701629</td>\n",
       "      <td>69.266198</td>\n",
       "      <td>10.462676</td>\n",
       "      <td>0.927452</td>\n",
       "      <td>16.634514</td>\n",
       "      <td>2.224930</td>\n",
       "      <td>...</td>\n",
       "      <td>13.992281</td>\n",
       "      <td>-505.503262</td>\n",
       "      <td>11.950531</td>\n",
       "      <td>-501.331529</td>\n",
       "      <td>10.039245</td>\n",
       "      <td>-500.169983</td>\n",
       "      <td>7.984757</td>\n",
       "      <td>-500.582168</td>\n",
       "      <td>13.998353</td>\n",
       "      <td>-599.787184</td>\n",
       "    </tr>\n",
       "    <tr>\n",
       "      <th>2</th>\n",
       "      <td>2016-01-15 02:00:00</td>\n",
       "      <td>6.055926</td>\n",
       "      <td>10.213995</td>\n",
       "      <td>5.383759</td>\n",
       "      <td>42.657501</td>\n",
       "      <td>68.116445</td>\n",
       "      <td>10.507046</td>\n",
       "      <td>0.953716</td>\n",
       "      <td>16.208849</td>\n",
       "      <td>2.257889</td>\n",
       "      <td>...</td>\n",
       "      <td>14.015015</td>\n",
       "      <td>-502.520901</td>\n",
       "      <td>11.912783</td>\n",
       "      <td>-501.133383</td>\n",
       "      <td>10.070913</td>\n",
       "      <td>-500.129135</td>\n",
       "      <td>8.013877</td>\n",
       "      <td>-500.517572</td>\n",
       "      <td>14.028663</td>\n",
       "      <td>-601.427363</td>\n",
       "    </tr>\n",
       "    <tr>\n",
       "      <th>3</th>\n",
       "      <td>2016-01-15 03:00:00</td>\n",
       "      <td>6.047977</td>\n",
       "      <td>9.977019</td>\n",
       "      <td>4.858634</td>\n",
       "      <td>42.689819</td>\n",
       "      <td>68.347543</td>\n",
       "      <td>10.422762</td>\n",
       "      <td>0.883763</td>\n",
       "      <td>16.532835</td>\n",
       "      <td>2.146849</td>\n",
       "      <td>...</td>\n",
       "      <td>14.036510</td>\n",
       "      <td>-500.857308</td>\n",
       "      <td>11.999550</td>\n",
       "      <td>-501.193686</td>\n",
       "      <td>9.970366</td>\n",
       "      <td>-499.201640</td>\n",
       "      <td>7.977324</td>\n",
       "      <td>-500.255908</td>\n",
       "      <td>14.005551</td>\n",
       "      <td>-599.996129</td>\n",
       "    </tr>\n",
       "    <tr>\n",
       "      <th>4</th>\n",
       "      <td>2016-01-15 04:00:00</td>\n",
       "      <td>6.148599</td>\n",
       "      <td>10.142511</td>\n",
       "      <td>4.939416</td>\n",
       "      <td>42.774141</td>\n",
       "      <td>66.927016</td>\n",
       "      <td>10.360302</td>\n",
       "      <td>0.792826</td>\n",
       "      <td>16.525686</td>\n",
       "      <td>2.055292</td>\n",
       "      <td>...</td>\n",
       "      <td>14.027298</td>\n",
       "      <td>-499.838632</td>\n",
       "      <td>11.953070</td>\n",
       "      <td>-501.053894</td>\n",
       "      <td>9.925709</td>\n",
       "      <td>-501.686727</td>\n",
       "      <td>7.894242</td>\n",
       "      <td>-500.356035</td>\n",
       "      <td>13.996647</td>\n",
       "      <td>-601.496691</td>\n",
       "    </tr>\n",
       "  </tbody>\n",
       "</table>\n",
       "<p>5 rows × 87 columns</p>\n",
       "</div>"
      ],
      "text/plain": [
       "                  date  final.output.concentrate_ag  \\\n",
       "0  2016-01-15 00:00:00                     6.055403   \n",
       "1  2016-01-15 01:00:00                     6.029369   \n",
       "2  2016-01-15 02:00:00                     6.055926   \n",
       "3  2016-01-15 03:00:00                     6.047977   \n",
       "4  2016-01-15 04:00:00                     6.148599   \n",
       "\n",
       "   final.output.concentrate_pb  final.output.concentrate_sol  \\\n",
       "0                     9.889648                      5.507324   \n",
       "1                     9.968944                      5.257781   \n",
       "2                    10.213995                      5.383759   \n",
       "3                     9.977019                      4.858634   \n",
       "4                    10.142511                      4.939416   \n",
       "\n",
       "   final.output.concentrate_au  final.output.recovery  final.output.tail_ag  \\\n",
       "0                    42.192020              70.541216             10.411962   \n",
       "1                    42.701629              69.266198             10.462676   \n",
       "2                    42.657501              68.116445             10.507046   \n",
       "3                    42.689819              68.347543             10.422762   \n",
       "4                    42.774141              66.927016             10.360302   \n",
       "\n",
       "   final.output.tail_pb  final.output.tail_sol  final.output.tail_au  ...  \\\n",
       "0              0.895447              16.904297              2.143149  ...   \n",
       "1              0.927452              16.634514              2.224930  ...   \n",
       "2              0.953716              16.208849              2.257889  ...   \n",
       "3              0.883763              16.532835              2.146849  ...   \n",
       "4              0.792826              16.525686              2.055292  ...   \n",
       "\n",
       "   secondary_cleaner.state.floatbank4_a_air  \\\n",
       "0                                 14.016835   \n",
       "1                                 13.992281   \n",
       "2                                 14.015015   \n",
       "3                                 14.036510   \n",
       "4                                 14.027298   \n",
       "\n",
       "   secondary_cleaner.state.floatbank4_a_level  \\\n",
       "0                                 -502.488007   \n",
       "1                                 -505.503262   \n",
       "2                                 -502.520901   \n",
       "3                                 -500.857308   \n",
       "4                                 -499.838632   \n",
       "\n",
       "   secondary_cleaner.state.floatbank4_b_air  \\\n",
       "0                                 12.099931   \n",
       "1                                 11.950531   \n",
       "2                                 11.912783   \n",
       "3                                 11.999550   \n",
       "4                                 11.953070   \n",
       "\n",
       "   secondary_cleaner.state.floatbank4_b_level  \\\n",
       "0                                 -504.715942   \n",
       "1                                 -501.331529   \n",
       "2                                 -501.133383   \n",
       "3                                 -501.193686   \n",
       "4                                 -501.053894   \n",
       "\n",
       "   secondary_cleaner.state.floatbank5_a_air  \\\n",
       "0                                  9.925633   \n",
       "1                                 10.039245   \n",
       "2                                 10.070913   \n",
       "3                                  9.970366   \n",
       "4                                  9.925709   \n",
       "\n",
       "   secondary_cleaner.state.floatbank5_a_level  \\\n",
       "0                                 -498.310211   \n",
       "1                                 -500.169983   \n",
       "2                                 -500.129135   \n",
       "3                                 -499.201640   \n",
       "4                                 -501.686727   \n",
       "\n",
       "   secondary_cleaner.state.floatbank5_b_air  \\\n",
       "0                                  8.079666   \n",
       "1                                  7.984757   \n",
       "2                                  8.013877   \n",
       "3                                  7.977324   \n",
       "4                                  7.894242   \n",
       "\n",
       "   secondary_cleaner.state.floatbank5_b_level  \\\n",
       "0                                 -500.470978   \n",
       "1                                 -500.582168   \n",
       "2                                 -500.517572   \n",
       "3                                 -500.255908   \n",
       "4                                 -500.356035   \n",
       "\n",
       "   secondary_cleaner.state.floatbank6_a_air  \\\n",
       "0                                 14.151341   \n",
       "1                                 13.998353   \n",
       "2                                 14.028663   \n",
       "3                                 14.005551   \n",
       "4                                 13.996647   \n",
       "\n",
       "   secondary_cleaner.state.floatbank6_a_level  \n",
       "0                                 -605.841980  \n",
       "1                                 -599.787184  \n",
       "2                                 -601.427363  \n",
       "3                                 -599.996129  \n",
       "4                                 -601.496691  \n",
       "\n",
       "[5 rows x 87 columns]"
      ]
     },
     "execution_count": 135,
     "metadata": {},
     "output_type": "execute_result"
    }
   ],
   "source": [
    "data_full.head()"
   ]
  },
  {
   "cell_type": "code",
   "execution_count": 136,
   "metadata": {
    "scrolled": true
   },
   "outputs": [
    {
     "name": "stdout",
     "output_type": "stream",
     "text": [
      "<class 'pandas.core.frame.DataFrame'>\n",
      "RangeIndex: 19439 entries, 0 to 19438\n",
      "Data columns (total 87 columns):\n",
      " #   Column                                              Non-Null Count  Dtype  \n",
      "---  ------                                              --------------  -----  \n",
      " 0   date                                                19439 non-null  object \n",
      " 1   final.output.concentrate_ag                         19438 non-null  float64\n",
      " 2   final.output.concentrate_pb                         19438 non-null  float64\n",
      " 3   final.output.concentrate_sol                        19228 non-null  float64\n",
      " 4   final.output.concentrate_au                         19439 non-null  float64\n",
      " 5   final.output.recovery                               19439 non-null  float64\n",
      " 6   final.output.tail_ag                                19438 non-null  float64\n",
      " 7   final.output.tail_pb                                19338 non-null  float64\n",
      " 8   final.output.tail_sol                               19433 non-null  float64\n",
      " 9   final.output.tail_au                                19439 non-null  float64\n",
      " 10  primary_cleaner.input.sulfate                       19415 non-null  float64\n",
      " 11  primary_cleaner.input.depressant                    19402 non-null  float64\n",
      " 12  primary_cleaner.input.feed_size                     19439 non-null  float64\n",
      " 13  primary_cleaner.input.xanthate                      19335 non-null  float64\n",
      " 14  primary_cleaner.output.concentrate_ag               19439 non-null  float64\n",
      " 15  primary_cleaner.output.concentrate_pb               19323 non-null  float64\n",
      " 16  primary_cleaner.output.concentrate_sol              19069 non-null  float64\n",
      " 17  primary_cleaner.output.concentrate_au               19439 non-null  float64\n",
      " 18  primary_cleaner.output.tail_ag                      19435 non-null  float64\n",
      " 19  primary_cleaner.output.tail_pb                      19418 non-null  float64\n",
      " 20  primary_cleaner.output.tail_sol                     19377 non-null  float64\n",
      " 21  primary_cleaner.output.tail_au                      19439 non-null  float64\n",
      " 22  primary_cleaner.state.floatbank8_a_air              19435 non-null  float64\n",
      " 23  primary_cleaner.state.floatbank8_a_level            19438 non-null  float64\n",
      " 24  primary_cleaner.state.floatbank8_b_air              19435 non-null  float64\n",
      " 25  primary_cleaner.state.floatbank8_b_level            19438 non-null  float64\n",
      " 26  primary_cleaner.state.floatbank8_c_air              19437 non-null  float64\n",
      " 27  primary_cleaner.state.floatbank8_c_level            19438 non-null  float64\n",
      " 28  primary_cleaner.state.floatbank8_d_air              19436 non-null  float64\n",
      " 29  primary_cleaner.state.floatbank8_d_level            19438 non-null  float64\n",
      " 30  rougher.calculation.sulfate_to_au_concentrate       19437 non-null  float64\n",
      " 31  rougher.calculation.floatbank10_sulfate_to_au_feed  19437 non-null  float64\n",
      " 32  rougher.calculation.floatbank11_sulfate_to_au_feed  19437 non-null  float64\n",
      " 33  rougher.calculation.au_pb_ratio                     19439 non-null  float64\n",
      " 34  rougher.input.feed_ag                               19439 non-null  float64\n",
      " 35  rougher.input.feed_pb                               19339 non-null  float64\n",
      " 36  rougher.input.feed_rate                             19428 non-null  float64\n",
      " 37  rougher.input.feed_size                             19294 non-null  float64\n",
      " 38  rougher.input.feed_sol                              19340 non-null  float64\n",
      " 39  rougher.input.feed_au                               19439 non-null  float64\n",
      " 40  rougher.input.floatbank10_sulfate                   19405 non-null  float64\n",
      " 41  rougher.input.floatbank10_xanthate                  19431 non-null  float64\n",
      " 42  rougher.input.floatbank11_sulfate                   19395 non-null  float64\n",
      " 43  rougher.input.floatbank11_xanthate                  18986 non-null  float64\n",
      " 44  rougher.output.concentrate_ag                       19439 non-null  float64\n",
      " 45  rougher.output.concentrate_pb                       19439 non-null  float64\n",
      " 46  rougher.output.concentrate_sol                      19416 non-null  float64\n",
      " 47  rougher.output.concentrate_au                       19439 non-null  float64\n",
      " 48  rougher.output.recovery                             19439 non-null  float64\n",
      " 49  rougher.output.tail_ag                              19438 non-null  float64\n",
      " 50  rougher.output.tail_pb                              19439 non-null  float64\n",
      " 51  rougher.output.tail_sol                             19439 non-null  float64\n",
      " 52  rougher.output.tail_au                              19439 non-null  float64\n",
      " 53  rougher.state.floatbank10_a_air                     19438 non-null  float64\n",
      " 54  rougher.state.floatbank10_a_level                   19438 non-null  float64\n",
      " 55  rougher.state.floatbank10_b_air                     19438 non-null  float64\n",
      " 56  rougher.state.floatbank10_b_level                   19438 non-null  float64\n",
      " 57  rougher.state.floatbank10_c_air                     19438 non-null  float64\n",
      " 58  rougher.state.floatbank10_c_level                   19438 non-null  float64\n",
      " 59  rougher.state.floatbank10_d_air                     19439 non-null  float64\n",
      " 60  rougher.state.floatbank10_d_level                   19439 non-null  float64\n",
      " 61  rougher.state.floatbank10_e_air                     19003 non-null  float64\n",
      " 62  rougher.state.floatbank10_e_level                   19439 non-null  float64\n",
      " 63  rougher.state.floatbank10_f_air                     19439 non-null  float64\n",
      " 64  rougher.state.floatbank10_f_level                   19439 non-null  float64\n",
      " 65  secondary_cleaner.output.tail_ag                    19437 non-null  float64\n",
      " 66  secondary_cleaner.output.tail_pb                    19427 non-null  float64\n",
      " 67  secondary_cleaner.output.tail_sol                   17691 non-null  float64\n",
      " 68  secondary_cleaner.output.tail_au                    19439 non-null  float64\n",
      " 69  secondary_cleaner.state.floatbank2_a_air            19219 non-null  float64\n",
      " 70  secondary_cleaner.state.floatbank2_a_level          19438 non-null  float64\n",
      " 71  secondary_cleaner.state.floatbank2_b_air            19416 non-null  float64\n",
      " 72  secondary_cleaner.state.floatbank2_b_level          19438 non-null  float64\n",
      " 73  secondary_cleaner.state.floatbank3_a_air            19426 non-null  float64\n",
      " 74  secondary_cleaner.state.floatbank3_a_level          19438 non-null  float64\n",
      " 75  secondary_cleaner.state.floatbank3_b_air            19438 non-null  float64\n",
      " 76  secondary_cleaner.state.floatbank3_b_level          19438 non-null  float64\n",
      " 77  secondary_cleaner.state.floatbank4_a_air            19433 non-null  float64\n",
      " 78  secondary_cleaner.state.floatbank4_a_level          19438 non-null  float64\n",
      " 79  secondary_cleaner.state.floatbank4_b_air            19438 non-null  float64\n",
      " 80  secondary_cleaner.state.floatbank4_b_level          19438 non-null  float64\n",
      " 81  secondary_cleaner.state.floatbank5_a_air            19438 non-null  float64\n",
      " 82  secondary_cleaner.state.floatbank5_a_level          19438 non-null  float64\n",
      " 83  secondary_cleaner.state.floatbank5_b_air            19438 non-null  float64\n",
      " 84  secondary_cleaner.state.floatbank5_b_level          19438 non-null  float64\n",
      " 85  secondary_cleaner.state.floatbank6_a_air            19437 non-null  float64\n",
      " 86  secondary_cleaner.state.floatbank6_a_level          19438 non-null  float64\n",
      "dtypes: float64(86), object(1)\n",
      "memory usage: 12.9+ MB\n"
     ]
    }
   ],
   "source": [
    "data_full.info()"
   ]
  },
  {
   "cell_type": "markdown",
   "metadata": {},
   "source": [
    "Во всех наборах присутствуют пропущенные значения, решим, что с ними делать позже."
   ]
  },
  {
   "cell_type": "markdown",
   "metadata": {},
   "source": [
    "<div class=\"alert alert-success\"> ✅ \n",
    "<h3> Комментарий ревьюера v1</h3>\n",
    "\n",
    "Данные загружены, первичный осмотр и выводы корректные\n"
   ]
  },
  {
   "cell_type": "markdown",
   "metadata": {},
   "source": [
    "### Расчет эффективности обогащения"
   ]
  },
  {
   "cell_type": "code",
   "execution_count": 137,
   "metadata": {
    "scrolled": false
   },
   "outputs": [
    {
     "data": {
      "image/png": "[encoded data removed]",
      "text/plain": [
       "<Figure size 432x288 with 1 Axes>"
      ]
     },
     "metadata": {
      "needs_background": "light"
     },
     "output_type": "display_data"
    }
   ],
   "source": [
    "n_bins = 30\n",
    "plt.hist(data_train['rougher.output.concentrate_au'], \n",
    "         label='Доля золота в концентрате после флотации', alpha=.7, bins = n_bins)\n",
    "plt.hist(data_train['rougher.input.feed_au'],\n",
    "         label='Доля золота в концентрате до флотации', alpha=0.7, bins = n_bins)\n",
    "plt.hist(data_train['rougher.output.tail_au'],\n",
    "         label='Доля золота в отвальных хвостах после флотации', alpha=0.7, bins = n_bins)\n",
    "plt.ylabel('Частота')\n",
    "plt.legend(loc='center left', bbox_to_anchor=(1, 0.9));"
   ]
  },
  {
   "cell_type": "markdown",
   "metadata": {},
   "source": [
    "В признаке rougher.output.concentrate_au имеются сильные выбросы, а также пропущенные значения."
   ]
  },
  {
   "cell_type": "code",
   "execution_count": 138,
   "metadata": {
    "scrolled": false
   },
   "outputs": [
    {
     "data": {
      "text/plain": [
       "count    14149.000000\n",
       "mean        19.439958\n",
       "std          3.765192\n",
       "min          0.000000\n",
       "25%         18.432161\n",
       "50%         19.947312\n",
       "75%         21.392714\n",
       "max         28.146838\n",
       "Name: rougher.output.concentrate_au, dtype: float64"
      ]
     },
     "execution_count": 138,
     "metadata": {},
     "output_type": "execute_result"
    }
   ],
   "source": [
    "data_train['rougher.output.concentrate_au'].describe()"
   ]
  },
  {
   "cell_type": "markdown",
   "metadata": {},
   "source": [
    "Нули могут означать, что эти данные не заполнили. Заменим их на предыдущие значения методом ffill."
   ]
  },
  {
   "cell_type": "markdown",
   "metadata": {},
   "source": [
    "<div class=\"alert alert-warning\"> ⚠️\n",
    "<h3> Комментарий ревьюера v1</h3>\n",
    "\n",
    "Не факт, но возможно. + здесь все наблюдения представляют собой последовательные измерения, заполнить пропуски можно методами pandas: ffill/ bfill/ interpolate , это вполне уместно.\n",
    "Хочу посоветовать тебе статью, которая рассматривает разные способы обработки пропусков, выделяет их плюсы и минусы, думаю, тебе может быть интересно: https://loginom.ru/blog/missing\n",
    "    \n",
    "А вот медианой или средним заполнять - не особо хорошая идея\n"
   ]
  },
  {
   "cell_type": "markdown",
   "metadata": {},
   "source": [
    "<div class=\"alert alert-block alert-info\">\n",
    "<h3> Комментарий студента </h3>\n",
    "\n",
    "Спасибо, заменила\n",
    "</div>"
   ]
  },
  {
   "cell_type": "code",
   "execution_count": 139,
   "metadata": {
    "scrolled": true
   },
   "outputs": [],
   "source": [
    "data_train['rougher.output.concentrate_au'] = data_train['rougher.output.concentrate_au']\\\n",
    ".replace(0, method='ffill')"
   ]
  },
  {
   "cell_type": "markdown",
   "metadata": {},
   "source": [
    "Для всех этих столбцов заменим пропущенные значения на предыдущие значения."
   ]
  },
  {
   "cell_type": "code",
   "execution_count": 140,
   "metadata": {
    "scrolled": true
   },
   "outputs": [
    {
     "data": {
      "text/plain": [
       "count    14149.000000\n",
       "mean        19.798043\n",
       "std          2.572463\n",
       "min          0.010000\n",
       "25%         18.519250\n",
       "50%         19.969399\n",
       "75%         21.407002\n",
       "max         28.146838\n",
       "Name: rougher.output.concentrate_au, dtype: float64"
      ]
     },
     "execution_count": 140,
     "metadata": {},
     "output_type": "execute_result"
    }
   ],
   "source": [
    "data_train['rougher.output.concentrate_au'].describe()"
   ]
  },
  {
   "cell_type": "code",
   "execution_count": 141,
   "metadata": {},
   "outputs": [],
   "source": [
    "data_train[['rougher.output.concentrate_au', 'rougher.input.feed_au', 'rougher.output.tail_au']] = \\\n",
    "data_train[['rougher.output.concentrate_au', 'rougher.input.feed_au', 'rougher.output.tail_au']]\\\n",
    ".ffill(axis='rows')"
   ]
  },
  {
   "cell_type": "markdown",
   "metadata": {},
   "source": [
    "Теперь можно избавиться от пропущенных значений в этих признаках, а также для rougher.output.recovery."
   ]
  },
  {
   "cell_type": "code",
   "execution_count": 142,
   "metadata": {},
   "outputs": [],
   "source": [
    "data_train.dropna(subset=['rougher.output.concentrate_au', 'rougher.input.feed_au',\n",
    "                                   'rougher.output.tail_au','rougher.output.recovery'], inplace=True)"
   ]
  },
  {
   "cell_type": "markdown",
   "metadata": {},
   "source": [
    "Напишем формулу рассчета эффективности обогащения и сравним результаты с подсчетами из датасета. "
   ]
  },
  {
   "cell_type": "code",
   "execution_count": 143,
   "metadata": {
    "scrolled": true
   },
   "outputs": [],
   "source": [
    "C = data_train['rougher.output.concentrate_au']\n",
    "F = data_train['rougher.input.feed_au']\n",
    "T = data_train['rougher.output.tail_au']"
   ]
  },
  {
   "cell_type": "code",
   "execution_count": 144,
   "metadata": {
    "scrolled": true
   },
   "outputs": [],
   "source": [
    "def recovery(C, F, T):\n",
    "    recovery = ((C * (F - T)) / (F * (C - T))) * 100\n",
    "    return recovery"
   ]
  },
  {
   "cell_type": "code",
   "execution_count": 145,
   "metadata": {
    "scrolled": true
   },
   "outputs": [
    {
     "name": "stdout",
     "output_type": "stream",
     "text": [
      "MAE: 1.8484475207304518\n"
     ]
    }
   ],
   "source": [
    "recovery_calculated = recovery(C, F, T)\n",
    "mae = mean_absolute_error(data_train['rougher.output.recovery'], recovery_calculated)\n",
    "print('MAE:', mae)"
   ]
  },
  {
   "cell_type": "markdown",
   "metadata": {},
   "source": [
    "Значение средней абсолютной ошибки низкое, значит расчеты верны."
   ]
  },
  {
   "cell_type": "markdown",
   "metadata": {},
   "source": [
    "### Пропущенные признаки"
   ]
  },
  {
   "cell_type": "markdown",
   "metadata": {},
   "source": [
    "Посмотрим на количество строк и столбцов в датасетах."
   ]
  },
  {
   "cell_type": "code",
   "execution_count": 146,
   "metadata": {
    "scrolled": false
   },
   "outputs": [
    {
     "name": "stdout",
     "output_type": "stream",
     "text": [
      "Кол-во строк и столбцов в обучающей выборке: (14149, 87)\n",
      "Кол-во строк и столбцов в тестовой выборке: (5290, 53)\n",
      "Кол-во строк и столбцов в исходном датасете: (19439, 87)\n"
     ]
    }
   ],
   "source": [
    "print('Кол-во строк и столбцов в обучающей выборке:', data_train.shape)\n",
    "print('Кол-во строк и столбцов в тестовой выборке:', data_test.shape)\n",
    "print('Кол-во строк и столбцов в исходном датасете:', data_full.shape)"
   ]
  },
  {
   "cell_type": "markdown",
   "metadata": {},
   "source": [
    "В тестовой выборке не хватает признаков, найдем их."
   ]
  },
  {
   "cell_type": "code",
   "execution_count": 147,
   "metadata": {
    "scrolled": true
   },
   "outputs": [
    {
     "data": {
      "text/plain": [
       "34"
      ]
     },
     "metadata": {},
     "output_type": "display_data"
    },
    {
     "data": {
      "text/html": [
       "<div>\n",
       "<style scoped>\n",
       "    .dataframe tbody tr th:only-of-type {\n",
       "        vertical-align: middle;\n",
       "    }\n",
       "\n",
       "    .dataframe tbody tr th {\n",
       "        vertical-align: top;\n",
       "    }\n",
       "\n",
       "    .dataframe thead th {\n",
       "        text-align: right;\n",
       "    }\n",
       "</style>\n",
       "<table border=\"1\" class=\"dataframe\">\n",
       "  <thead>\n",
       "    <tr style=\"text-align: right;\">\n",
       "      <th></th>\n",
       "      <th>Names</th>\n",
       "    </tr>\n",
       "  </thead>\n",
       "  <tbody>\n",
       "    <tr>\n",
       "      <th>1</th>\n",
       "      <td>final.output.concentrate_ag</td>\n",
       "    </tr>\n",
       "    <tr>\n",
       "      <th>2</th>\n",
       "      <td>final.output.concentrate_pb</td>\n",
       "    </tr>\n",
       "    <tr>\n",
       "      <th>3</th>\n",
       "      <td>final.output.concentrate_sol</td>\n",
       "    </tr>\n",
       "    <tr>\n",
       "      <th>4</th>\n",
       "      <td>final.output.concentrate_au</td>\n",
       "    </tr>\n",
       "    <tr>\n",
       "      <th>5</th>\n",
       "      <td>final.output.recovery</td>\n",
       "    </tr>\n",
       "    <tr>\n",
       "      <th>6</th>\n",
       "      <td>final.output.tail_ag</td>\n",
       "    </tr>\n",
       "    <tr>\n",
       "      <th>7</th>\n",
       "      <td>final.output.tail_pb</td>\n",
       "    </tr>\n",
       "    <tr>\n",
       "      <th>8</th>\n",
       "      <td>final.output.tail_sol</td>\n",
       "    </tr>\n",
       "    <tr>\n",
       "      <th>9</th>\n",
       "      <td>final.output.tail_au</td>\n",
       "    </tr>\n",
       "    <tr>\n",
       "      <th>14</th>\n",
       "      <td>primary_cleaner.output.concentrate_ag</td>\n",
       "    </tr>\n",
       "    <tr>\n",
       "      <th>15</th>\n",
       "      <td>primary_cleaner.output.concentrate_pb</td>\n",
       "    </tr>\n",
       "    <tr>\n",
       "      <th>16</th>\n",
       "      <td>primary_cleaner.output.concentrate_sol</td>\n",
       "    </tr>\n",
       "    <tr>\n",
       "      <th>17</th>\n",
       "      <td>primary_cleaner.output.concentrate_au</td>\n",
       "    </tr>\n",
       "    <tr>\n",
       "      <th>18</th>\n",
       "      <td>primary_cleaner.output.tail_ag</td>\n",
       "    </tr>\n",
       "    <tr>\n",
       "      <th>19</th>\n",
       "      <td>primary_cleaner.output.tail_pb</td>\n",
       "    </tr>\n",
       "    <tr>\n",
       "      <th>20</th>\n",
       "      <td>primary_cleaner.output.tail_sol</td>\n",
       "    </tr>\n",
       "    <tr>\n",
       "      <th>21</th>\n",
       "      <td>primary_cleaner.output.tail_au</td>\n",
       "    </tr>\n",
       "    <tr>\n",
       "      <th>30</th>\n",
       "      <td>rougher.calculation.sulfate_to_au_concentrate</td>\n",
       "    </tr>\n",
       "    <tr>\n",
       "      <th>31</th>\n",
       "      <td>rougher.calculation.floatbank10_sulfate_to_au_...</td>\n",
       "    </tr>\n",
       "    <tr>\n",
       "      <th>32</th>\n",
       "      <td>rougher.calculation.floatbank11_sulfate_to_au_...</td>\n",
       "    </tr>\n",
       "    <tr>\n",
       "      <th>33</th>\n",
       "      <td>rougher.calculation.au_pb_ratio</td>\n",
       "    </tr>\n",
       "    <tr>\n",
       "      <th>44</th>\n",
       "      <td>rougher.output.concentrate_ag</td>\n",
       "    </tr>\n",
       "    <tr>\n",
       "      <th>45</th>\n",
       "      <td>rougher.output.concentrate_pb</td>\n",
       "    </tr>\n",
       "    <tr>\n",
       "      <th>46</th>\n",
       "      <td>rougher.output.concentrate_sol</td>\n",
       "    </tr>\n",
       "    <tr>\n",
       "      <th>47</th>\n",
       "      <td>rougher.output.concentrate_au</td>\n",
       "    </tr>\n",
       "    <tr>\n",
       "      <th>48</th>\n",
       "      <td>rougher.output.recovery</td>\n",
       "    </tr>\n",
       "    <tr>\n",
       "      <th>49</th>\n",
       "      <td>rougher.output.tail_ag</td>\n",
       "    </tr>\n",
       "    <tr>\n",
       "      <th>50</th>\n",
       "      <td>rougher.output.tail_pb</td>\n",
       "    </tr>\n",
       "    <tr>\n",
       "      <th>51</th>\n",
       "      <td>rougher.output.tail_sol</td>\n",
       "    </tr>\n",
       "    <tr>\n",
       "      <th>52</th>\n",
       "      <td>rougher.output.tail_au</td>\n",
       "    </tr>\n",
       "    <tr>\n",
       "      <th>65</th>\n",
       "      <td>secondary_cleaner.output.tail_ag</td>\n",
       "    </tr>\n",
       "    <tr>\n",
       "      <th>66</th>\n",
       "      <td>secondary_cleaner.output.tail_pb</td>\n",
       "    </tr>\n",
       "    <tr>\n",
       "      <th>67</th>\n",
       "      <td>secondary_cleaner.output.tail_sol</td>\n",
       "    </tr>\n",
       "    <tr>\n",
       "      <th>68</th>\n",
       "      <td>secondary_cleaner.output.tail_au</td>\n",
       "    </tr>\n",
       "  </tbody>\n",
       "</table>\n",
       "</div>"
      ],
      "text/plain": [
       "                                                Names\n",
       "1                         final.output.concentrate_ag\n",
       "2                         final.output.concentrate_pb\n",
       "3                        final.output.concentrate_sol\n",
       "4                         final.output.concentrate_au\n",
       "5                               final.output.recovery\n",
       "6                                final.output.tail_ag\n",
       "7                                final.output.tail_pb\n",
       "8                               final.output.tail_sol\n",
       "9                                final.output.tail_au\n",
       "14              primary_cleaner.output.concentrate_ag\n",
       "15              primary_cleaner.output.concentrate_pb\n",
       "16             primary_cleaner.output.concentrate_sol\n",
       "17              primary_cleaner.output.concentrate_au\n",
       "18                     primary_cleaner.output.tail_ag\n",
       "19                     primary_cleaner.output.tail_pb\n",
       "20                    primary_cleaner.output.tail_sol\n",
       "21                     primary_cleaner.output.tail_au\n",
       "30      rougher.calculation.sulfate_to_au_concentrate\n",
       "31  rougher.calculation.floatbank10_sulfate_to_au_...\n",
       "32  rougher.calculation.floatbank11_sulfate_to_au_...\n",
       "33                    rougher.calculation.au_pb_ratio\n",
       "44                      rougher.output.concentrate_ag\n",
       "45                      rougher.output.concentrate_pb\n",
       "46                     rougher.output.concentrate_sol\n",
       "47                      rougher.output.concentrate_au\n",
       "48                            rougher.output.recovery\n",
       "49                             rougher.output.tail_ag\n",
       "50                             rougher.output.tail_pb\n",
       "51                            rougher.output.tail_sol\n",
       "52                             rougher.output.tail_au\n",
       "65                   secondary_cleaner.output.tail_ag\n",
       "66                   secondary_cleaner.output.tail_pb\n",
       "67                  secondary_cleaner.output.tail_sol\n",
       "68                   secondary_cleaner.output.tail_au"
      ]
     },
     "execution_count": 147,
     "metadata": {},
     "output_type": "execute_result"
    }
   ],
   "source": [
    "cols_check = pd.concat([pd.DataFrame(data_train.columns.values, columns=['Names']), \n",
    "         pd.DataFrame(data_test.columns.values, columns=['Names'])], \n",
    "         ignore_index=True,\n",
    "         axis = 0)\n",
    "\n",
    "col_check_drop = cols_check.groupby('Names').filter(lambda x: len(x) < 2)\n",
    "display(len(col_check_drop))\n",
    "col_check_drop"
   ]
  },
  {
   "cell_type": "markdown",
   "metadata": {},
   "source": [
    "В тестовой выборке отсутствует 34 признака, которые относятся к параметрам продукта после каждого этапа обработки: выходные и расчетные характеристики. Далее удалим из обучающей выборки все, кроме целевых переменных."
   ]
  },
  {
   "cell_type": "markdown",
   "metadata": {},
   "source": [
    "<div class=\"alert alert-warning\"> ⚠️\n",
    "<h3> Комментарий ревьюера v1</h3>\n",
    "\n",
    "Точнее, это выходные (output) и расчетные (calculation) характеристики. Значит, их нельзя использовать при обучении, так как они еще не будут доступны к моменту начала процесса\n"
   ]
  },
  {
   "cell_type": "markdown",
   "metadata": {},
   "source": [
    "### Предобработка данных"
   ]
  },
  {
   "cell_type": "markdown",
   "metadata": {},
   "source": [
    "В обучающей выборке удалим признаки, которые отсутствуют в тестовой."
   ]
  },
  {
   "cell_type": "code",
   "execution_count": 148,
   "metadata": {},
   "outputs": [
    {
     "data": {
      "text/plain": [
       "(14149, 53)"
      ]
     },
     "execution_count": 148,
     "metadata": {},
     "output_type": "execute_result"
    }
   ],
   "source": [
    "col_check_drop = col_check_drop.iloc[:, 0]\n",
    "data_train = data_train.drop(columns = col_check_drop)\n",
    "data_train.shape"
   ]
  },
  {
   "cell_type": "markdown",
   "metadata": {},
   "source": [
    "Изучим целевые переменные в исходных данных. Из них мы потом будет брать целевой признак для модели."
   ]
  },
  {
   "cell_type": "code",
   "execution_count": 149,
   "metadata": {
    "scrolled": true
   },
   "outputs": [
    {
     "data": {
      "text/plain": [
       "count    19439.000000\n",
       "mean        83.328587\n",
       "std         14.148086\n",
       "min          0.000000\n",
       "25%         81.037957\n",
       "50%         86.188892\n",
       "75%         90.010670\n",
       "max        100.000000\n",
       "Name: rougher.output.recovery, dtype: float64"
      ]
     },
     "metadata": {},
     "output_type": "display_data"
    },
    {
     "data": {
      "text/plain": [
       "count    19439.000000\n",
       "mean        67.050208\n",
       "std         10.125840\n",
       "min          0.000000\n",
       "25%         63.299712\n",
       "50%         68.172738\n",
       "75%         72.686642\n",
       "max        100.000000\n",
       "Name: final.output.recovery, dtype: float64"
      ]
     },
     "execution_count": 149,
     "metadata": {},
     "output_type": "execute_result"
    }
   ],
   "source": [
    "display(data_full['rougher.output.recovery'].describe())\n",
    "data_full['final.output.recovery'].describe()"
   ]
  },
  {
   "cell_type": "code",
   "execution_count": 150,
   "metadata": {},
   "outputs": [
    {
     "data": {
      "image/png": "[encoded data removed]",
      "text/plain": [
       "<Figure size 432x288 with 1 Axes>"
      ]
     },
     "metadata": {
      "needs_background": "light"
     },
     "output_type": "display_data"
    }
   ],
   "source": [
    "n_bins = 30\n",
    "plt.hist(data_full['rougher.output.recovery'], \n",
    "         label='Эффективность обогащения чернового концентрата', alpha=.7, bins = n_bins)\n",
    "plt.hist(data_full['rougher.input.feed_au'],\n",
    "         label='Эффективность обогащения финального концентрата', alpha=0.7, bins = n_bins)\n",
    "plt.ylabel('Частота')\n",
    "plt.legend(loc='center left', bbox_to_anchor=(1, 0.9));"
   ]
  },
  {
   "cell_type": "markdown",
   "metadata": {},
   "source": [
    "В обеих переменных встречаются нулевые значения, выпадающие из выборки. Заменим их и пропущенные значения на предыдущие значения."
   ]
  },
  {
   "cell_type": "code",
   "execution_count": 151,
   "metadata": {},
   "outputs": [],
   "source": [
    "def ffill_replacement(data):\n",
    "    data = data.ffill(axis = 'rows')\n",
    "    data = data.replace(0, method='ffill')\n",
    "    return data"
   ]
  },
  {
   "cell_type": "markdown",
   "metadata": {},
   "source": [
    "<div class=\"alert alert-warning\"> ⚠️\n",
    "<h3> Комментарий ревьюера v1</h3>\n",
    "\n",
    "Та же история. Лучше заполнить другими способами\n"
   ]
  },
  {
   "cell_type": "markdown",
   "metadata": {},
   "source": [
    "<div class=\"alert alert-block alert-info\">\n",
    "<h3> Комментарий студента </h3>\n",
    "\n",
    "Тоже поправила\n",
    "</div>"
   ]
  },
  {
   "cell_type": "code",
   "execution_count": 152,
   "metadata": {},
   "outputs": [],
   "source": [
    "data_full['rougher.output.recovery'] = ffill_replacement(data_full['rougher.output.recovery'])\n",
    "data_full['final.output.recovery'] = ffill_replacement(data_full['final.output.recovery'])"
   ]
  },
  {
   "cell_type": "code",
   "execution_count": 153,
   "metadata": {
    "scrolled": true
   },
   "outputs": [
    {
     "data": {
      "text/plain": [
       "count    19439.000000\n",
       "mean        85.076688\n",
       "std          7.574096\n",
       "min          2.520854\n",
       "25%         81.512936\n",
       "50%         86.352501\n",
       "75%         90.105534\n",
       "max        100.000000\n",
       "Name: rougher.output.recovery, dtype: float64"
      ]
     },
     "metadata": {},
     "output_type": "display_data"
    },
    {
     "data": {
      "text/plain": [
       "count    19439.000000\n",
       "mean        67.379156\n",
       "std          9.030714\n",
       "min          0.168611\n",
       "25%         63.401708\n",
       "50%         68.236161\n",
       "75%         72.718333\n",
       "max        100.000000\n",
       "Name: final.output.recovery, dtype: float64"
      ]
     },
     "execution_count": 153,
     "metadata": {},
     "output_type": "execute_result"
    }
   ],
   "source": [
    "display(data_full['rougher.output.recovery'].describe())\n",
    "data_full['final.output.recovery'].describe()"
   ]
  },
  {
   "cell_type": "markdown",
   "metadata": {},
   "source": [
    "Избавимся от пропущенных значений в оставшихся признаках исходного датасета, а также в обучающем и тренировочном."
   ]
  },
  {
   "cell_type": "code",
   "execution_count": 154,
   "metadata": {},
   "outputs": [
    {
     "data": {
      "text/plain": [
       "4481"
      ]
     },
     "metadata": {},
     "output_type": "display_data"
    },
    {
     "data": {
      "text/plain": [
       "0"
      ]
     },
     "metadata": {},
     "output_type": "display_data"
    }
   ],
   "source": [
    "display(data_full.isna().sum().sum())\n",
    "data_full_clean = data_full.dropna()\n",
    "display(data_full_clean.isna().sum().sum())"
   ]
  },
  {
   "cell_type": "code",
   "execution_count": 155,
   "metadata": {},
   "outputs": [
    {
     "data": {
      "text/plain": [
       "1705"
      ]
     },
     "metadata": {},
     "output_type": "display_data"
    },
    {
     "data": {
      "text/plain": [
       "0"
      ]
     },
     "metadata": {},
     "output_type": "display_data"
    }
   ],
   "source": [
    "display(data_train.isna().sum().sum())\n",
    "data_train_clean = data_train.dropna()\n",
    "display(data_train_clean.isna().sum().sum())"
   ]
  },
  {
   "cell_type": "code",
   "execution_count": 156,
   "metadata": {},
   "outputs": [
    {
     "data": {
      "text/plain": [
       "90"
      ]
     },
     "metadata": {},
     "output_type": "display_data"
    },
    {
     "data": {
      "text/plain": [
       "0"
      ]
     },
     "metadata": {},
     "output_type": "display_data"
    }
   ],
   "source": [
    "display(data_test.isna().sum().sum())\n",
    "data_test_clean = data_test.dropna()\n",
    "display(data_test_clean.isna().sum().sum())"
   ]
  },
  {
   "cell_type": "markdown",
   "metadata": {},
   "source": [
    "<div class=\"alert alert-danger\"> ❌\n",
    "<h3> Комментарий ревьюера v1</h3>\n",
    "\n",
    "Хотелось бы увидеть краткий вывод о подготовке данных\n"
   ]
  },
  {
   "cell_type": "markdown",
   "metadata": {},
   "source": [
    "<div class=\"alert alert-block alert-info\">\n",
    "<h3> Комментарий студента </h3>\n",
    "\n",
    "Добавила\n",
    "</div>"
   ]
  },
  {
   "cell_type": "markdown",
   "metadata": {},
   "source": [
    "__Вывод:__ Мы избавились от пропущенных значений во всех датасетах, а также заменили выделяющиеся нулевые значения в некоторых признаках на предыдущие значения. Также, мы выявили причину отсутствия в тестовой выборке некоторых колонок (расчетные характеристики) и убрали их из обучающей выборки."
   ]
  },
  {
   "cell_type": "markdown",
   "metadata": {},
   "source": [
    "## Анализ данных"
   ]
  },
  {
   "cell_type": "markdown",
   "metadata": {},
   "source": [
    "### Изменение концентрации металлов"
   ]
  },
  {
   "cell_type": "markdown",
   "metadata": {},
   "source": [
    "Рассмотрим концентрацию металлов на разных этапах обработки."
   ]
  },
  {
   "cell_type": "code",
   "execution_count": 157,
   "metadata": {
    "scrolled": false
   },
   "outputs": [
    {
     "data": {
      "image/png": "[encoded data removed]",
      "text/plain": [
       "<Figure size 432x288 with 1 Axes>"
      ]
     },
     "metadata": {
      "needs_background": "light"
     },
     "output_type": "display_data"
    }
   ],
   "source": [
    "n_bins = 30\n",
    "plt.hist(data_full_clean['rougher.output.concentrate_au'], \n",
    "         label='Флотация', alpha=.7, bins = n_bins)\n",
    "plt.hist(data_full_clean['primary_cleaner.output.concentrate_au'],\n",
    "         label='Первый этап очистки', alpha=0.7, bins = n_bins)\n",
    "plt.hist(data_full_clean['final.output.concentrate_au'],\n",
    "         label='Финальная концентрация', alpha=0.7, bins = n_bins)\n",
    "plt.legend(loc='center left', bbox_to_anchor=(1, 0.9))\n",
    "plt.ylabel('Частота')\n",
    "plt.title(label = 'Изменение концентрации золота по этапам');"
   ]
  },
  {
   "cell_type": "code",
   "execution_count": 158,
   "metadata": {},
   "outputs": [
    {
     "data": {
      "image/png": "[encoded data removed]",
      "text/plain": [
       "<Figure size 432x288 with 1 Axes>"
      ]
     },
     "metadata": {
      "needs_background": "light"
     },
     "output_type": "display_data"
    }
   ],
   "source": [
    "plt.hist(data_full_clean['rougher.output.concentrate_ag'], \n",
    "         label='Флотация', alpha=.7, bins = n_bins)\n",
    "plt.hist(data_full_clean['primary_cleaner.output.concentrate_ag'],\n",
    "         label='Первый этап очистки', alpha=0.7, bins = n_bins)\n",
    "plt.hist(data_full_clean['final.output.concentrate_ag'],\n",
    "         label='Финальная концентрация', alpha=0.7, bins = n_bins)\n",
    "plt.legend(loc='center left', bbox_to_anchor=(1, 0.9))\n",
    "plt.ylabel('Частота')\n",
    "plt.title(label = 'Изменение концентрации серебра по этапам');"
   ]
  },
  {
   "cell_type": "code",
   "execution_count": 159,
   "metadata": {
    "scrolled": false
   },
   "outputs": [
    {
     "data": {
      "image/png": "[encoded data removed]",
      "text/plain": [
       "<Figure size 432x288 with 1 Axes>"
      ]
     },
     "metadata": {
      "needs_background": "light"
     },
     "output_type": "display_data"
    }
   ],
   "source": [
    "plt.hist(data_full_clean['rougher.output.concentrate_pb'], \n",
    "         label='Флотация', alpha=.7, bins = n_bins)\n",
    "plt.hist(data_full_clean['primary_cleaner.output.concentrate_pb'],\n",
    "         label='Первый этап очистки', alpha=0.7, bins = n_bins)\n",
    "plt.hist(data_full_clean['final.output.concentrate_pb'],\n",
    "         label='Финальная концентрация', alpha=0.7, bins = n_bins)\n",
    "plt.legend(loc='center left', bbox_to_anchor=(1, 0.9))\n",
    "plt.ylabel('Частота')\n",
    "plt.title(label = 'Изменение концентрации свинца по этапам');"
   ]
  },
  {
   "cell_type": "markdown",
   "metadata": {},
   "source": [
    "__Вывод:__ После каждого этапа обработки концентрация золота становится выше, а концентрация серебра снижается. Концентрация свинца повышается после первого этапа очистки и сохраняется примерно на том же уровне после второго этапа.\n",
    "\n",
    "У всех этих признаков есть нулевые выбросы. Учтем это в дальнейшем."
   ]
  },
  {
   "cell_type": "markdown",
   "metadata": {},
   "source": [
    "<div class=\"alert alert-success\"> ✅ \n",
    "<h3> Комментарий ревьюера v1</h3>\n",
    "\n",
    "Все верно. Концентрация золота увеличивается, значит, мы на верном пути =)\n",
    "\n"
   ]
  },
  {
   "cell_type": "markdown",
   "metadata": {},
   "source": [
    "### Распределение гранул сырья"
   ]
  },
  {
   "cell_type": "code",
   "execution_count": 192,
   "metadata": {},
   "outputs": [
    {
     "data": {
      "image/png": "[encoded data removed]",
      "text/plain": [
       "<Figure size 1080x576 with 1 Axes>"
      ]
     },
     "metadata": {
      "needs_background": "light"
     },
     "output_type": "display_data"
    }
   ],
   "source": [
    "plt.figure(figsize=(15,8))\n",
    "sns.distplot(data_train_clean['rougher.input.feed_size'], \n",
    "         label='Обучающая выборка', bins = n_bins)\n",
    "sns.distplot(data_test_clean['rougher.input.feed_size'],\n",
    "         label='Тестовая выборка', bins = n_bins)\n",
    "\n",
    "plt.legend(loc='center left', bbox_to_anchor=(1, 0.9))\n",
    "plt.ylabel('Плотность')\n",
    "plt.xlabel('Размер гранул')\n",
    "plt.title(label = 'Распределение гранул сырья в обучающей и тестовой выборках');"
   ]
  },
  {
   "cell_type": "markdown",
   "metadata": {},
   "source": [
    "__Вывод:__ Распределение гранул сырья в обучающей и тестовой выборке схожи, поэтому оно не повлияет на результаты."
   ]
  },
  {
   "cell_type": "markdown",
   "metadata": {},
   "source": [
    "<div class=\"alert alert-danger\"> ❌\n",
    "<h3> Комментарий ревьюера v1</h3>\n",
    "\n",
    "Да, они действительно похожи. Только было бы корректнее строить графики плотности, так как количество данных в train/test датасетах отличается. Например, с помощью `sns.distplot()` или же просто добавить `density=True` в параметры `plt.hist()`.\n"
   ]
  },
  {
   "cell_type": "markdown",
   "metadata": {},
   "source": [
    "<div class=\"alert alert-block alert-info\">\n",
    "<h3> Комментарий студента </h3>\n",
    "\n",
    "Заменила график\n",
    "</div>"
   ]
  },
  {
   "cell_type": "markdown",
   "metadata": {},
   "source": [
    "<div class=\"alert alert-success\"> ✅ \n",
    "<h3> Комментарий ревьюера v2</h3>\n",
    "\n",
    "👍 "
   ]
  },
  {
   "cell_type": "markdown",
   "metadata": {},
   "source": [
    "### Суммарные концентрации веществ на разных стадиях"
   ]
  },
  {
   "cell_type": "code",
   "execution_count": 161,
   "metadata": {},
   "outputs": [
    {
     "name": "stdout",
     "output_type": "stream",
     "text": [
      "Средняя концентрация металлов в сырье 58.569800870554296\n"
     ]
    },
    {
     "data": {
      "image/png": "[encoded data removed]",
      "text/plain": [
       "<Figure size 432x288 with 1 Axes>"
      ]
     },
     "metadata": {
      "needs_background": "light"
     },
     "output_type": "display_data"
    }
   ],
   "source": [
    "n_bins = 80\n",
    "sum_input = (data_full_clean['rougher.input.feed_ag'] +\n",
    "         data_full_clean['rougher.input.feed_ag'] +\n",
    "         data_full_clean['rougher.input.feed_pb'] +\n",
    "         data_full_clean['rougher.input.feed_sol'])\n",
    "plt.hist(sum_input, bins = n_bins)\n",
    "plt.ylabel('Частота')\n",
    "plt.title(label = 'Суммарные концентрации металлов в сырье');\n",
    "print('Средняя концентрация металлов в сырье', sum_input.mean())"
   ]
  },
  {
   "cell_type": "code",
   "execution_count": 162,
   "metadata": {},
   "outputs": [
    {
     "name": "stdout",
     "output_type": "stream",
     "text": [
      "Средняя концентрация металлов в черновом концентрате 68.80582095045229\n"
     ]
    },
    {
     "data": {
      "image/png": "[encoded data removed]",
      "text/plain": [
       "<Figure size 432x288 with 1 Axes>"
      ]
     },
     "metadata": {
      "needs_background": "light"
     },
     "output_type": "display_data"
    }
   ],
   "source": [
    "sum_output = (data_full_clean['rougher.output.concentrate_au'] + \n",
    "              data_full_clean['rougher.output.concentrate_ag'] +\n",
    "              data_full_clean['rougher.output.concentrate_pb'] +\n",
    "              data_full_clean['rougher.output.concentrate_sol'])\n",
    "plt.hist(sum_output, bins = n_bins)\n",
    "plt.ylabel('Частота')\n",
    "plt.title(label = 'Суммарные концентрации металлов в черновом концентрате');\n",
    "print('Средняя концентрация металлов в черновом концентрате', sum_output.mean())"
   ]
  },
  {
   "cell_type": "code",
   "execution_count": 163,
   "metadata": {
    "scrolled": true
   },
   "outputs": [
    {
     "name": "stdout",
     "output_type": "stream",
     "text": [
      "Средняя финальная конценстрация металлов 69.36784119170663\n"
     ]
    },
    {
     "data": {
      "image/png": "[encoded data removed]",
      "text/plain": [
       "<Figure size 432x288 with 1 Axes>"
      ]
     },
     "metadata": {
      "needs_background": "light"
     },
     "output_type": "display_data"
    }
   ],
   "source": [
    "sum_final = (data_full_clean['final.output.concentrate_au'] +\n",
    "         data_full_clean['final.output.concentrate_ag'] +\n",
    "         data_full_clean['final.output.concentrate_pb'] +\n",
    "         data_full_clean['final.output.concentrate_sol'])\n",
    "            \n",
    "plt.hist(sum_final, bins = n_bins)\n",
    "plt.ylabel('Частота')\n",
    "plt.title(label = 'Финальные суммарные концентрации металлов');\n",
    "print('Средняя финальная конценстрация металлов', sum_final.mean())"
   ]
  },
  {
   "cell_type": "markdown",
   "metadata": {},
   "source": [
    "__Вывод:__ После всех этапов очистки суммарная концентрация веществ повышается, а распределение становится меньше. Также, мы снова видим выбивающиеся нулевые значения, которые нужно удалить перед работой с моделями. "
   ]
  },
  {
   "cell_type": "markdown",
   "metadata": {},
   "source": [
    "<div class=\"alert alert-danger\"> ❌\n",
    "<h3> Комментарий ревьюера v1</h3>\n",
    "\n",
    "Как ты уже отметила, на графиках видны аномальные значения - часть суммарных значений концентрации всех веществ равна нулю. Так как нулевые значения суммарной концентрации маловероятны, то скорее всего это ошибка в данных. Нужно удалить подобные записи из обучающей и тестовой выборок.  \n",
    "    \n",
    "Удаления перед обучение я не увидел.\n"
   ]
  },
  {
   "cell_type": "markdown",
   "metadata": {},
   "source": [
    "<div class=\"alert alert-block alert-info\">\n",
    "<h3> Комментарий студента </h3>\n",
    "\n",
    "Я заменяла их на медиану в следующем блоке. Сейчас перенесла сюда и заменила не предыдущие значения.\n",
    "</div>"
   ]
  },
  {
   "cell_type": "markdown",
   "metadata": {},
   "source": [
    "Перед переходом к моделям заменим аномальные нулевые значения на предыдущие."
   ]
  },
  {
   "cell_type": "code",
   "execution_count": 164,
   "metadata": {},
   "outputs": [],
   "source": [
    "data_train_clean = data_train_clean.replace(0, method='ffill')\n",
    "data_test_clean = data_test_clean.replace(0, method='ffill')"
   ]
  },
  {
   "cell_type": "markdown",
   "metadata": {},
   "source": [
    "## Модель"
   ]
  },
  {
   "cell_type": "markdown",
   "metadata": {},
   "source": [
    "### Функция для вычисления итоговой sMAPE"
   ]
  },
  {
   "cell_type": "code",
   "execution_count": 165,
   "metadata": {},
   "outputs": [],
   "source": [
    "def smape(prediction, target):\n",
    "    return ((1/len(target)) * (abs(target - prediction) / ((abs(target) + abs(prediction)) / 2)).sum()) * 100"
   ]
  },
  {
   "cell_type": "code",
   "execution_count": 166,
   "metadata": {},
   "outputs": [],
   "source": [
    "def total_smape(smape_rougher, smape_final):\n",
    "    return (0.25 * smape_rougher) + (0.75 * smape_final)"
   ]
  },
  {
   "cell_type": "markdown",
   "metadata": {},
   "source": [
    "<div class=\"alert alert-success\"> ✅ \n",
    "<h3> Комментарий ревьюера v1</h3>\n",
    "\n",
    "Хорошо, что делаешь все рассчеты векторно, а не в цикле. Иначе это будет занимать достаточно много времени. Если интересно, то вот статья про векторизацию в пандас:\n",
    "\n",
    "https://medium.com/nuances-of-programming/%D1%8D%D1%84%D1%84%D0%B5%D0%BA%D1%82%D0%B8%D0%B2%D0%BD%D0%BE%D0%B5-%D0%B8%D1%82%D0%B5%D1%80%D0%B8%D1%80%D0%BE%D0%B2%D0%B0%D0%BD%D0%B8%D0%B5-%D0%BF%D0%BE-%D1%81%D1%82%D1%80%D0%BE%D0%BA%D0%B0%D0%BC-%D0%B2-pandas-dataframe-43aa7d2588cb\n",
    "    "
   ]
  },
  {
   "cell_type": "markdown",
   "metadata": {},
   "source": [
    "### Обучение моделей"
   ]
  },
  {
   "cell_type": "markdown",
   "metadata": {},
   "source": [
    "#### Подготовка признаков"
   ]
  },
  {
   "cell_type": "markdown",
   "metadata": {},
   "source": [
    "Для предсказания эффективности обогащения чернового концентрата используем только колонки с параметрами сырья.\n",
    "\n",
    "Для предсказания эффективности обогащения финального концентрата возьмем все признаки, кроме date и целевых.\n",
    "\n",
    "Для целевых переменных возьмем данные из исходного датасета, соединив по колонке date."
   ]
  },
  {
   "cell_type": "code",
   "execution_count": 167,
   "metadata": {
    "scrolled": true
   },
   "outputs": [
    {
     "data": {
      "text/html": [
       "<div>\n",
       "<style scoped>\n",
       "    .dataframe tbody tr th:only-of-type {\n",
       "        vertical-align: middle;\n",
       "    }\n",
       "\n",
       "    .dataframe tbody tr th {\n",
       "        vertical-align: top;\n",
       "    }\n",
       "\n",
       "    .dataframe thead th {\n",
       "        text-align: right;\n",
       "    }\n",
       "</style>\n",
       "<table border=\"1\" class=\"dataframe\">\n",
       "  <thead>\n",
       "    <tr style=\"text-align: right;\">\n",
       "      <th></th>\n",
       "      <th>date</th>\n",
       "      <th>rougher.output.recovery</th>\n",
       "      <th>final.output.recovery</th>\n",
       "    </tr>\n",
       "  </thead>\n",
       "  <tbody>\n",
       "    <tr>\n",
       "      <th>0</th>\n",
       "      <td>2016-01-15 00:00:00</td>\n",
       "      <td>87.107763</td>\n",
       "      <td>70.541216</td>\n",
       "    </tr>\n",
       "    <tr>\n",
       "      <th>1</th>\n",
       "      <td>2016-01-15 01:00:00</td>\n",
       "      <td>86.843261</td>\n",
       "      <td>69.266198</td>\n",
       "    </tr>\n",
       "    <tr>\n",
       "      <th>2</th>\n",
       "      <td>2016-01-15 02:00:00</td>\n",
       "      <td>86.842308</td>\n",
       "      <td>68.116445</td>\n",
       "    </tr>\n",
       "    <tr>\n",
       "      <th>3</th>\n",
       "      <td>2016-01-15 03:00:00</td>\n",
       "      <td>87.226430</td>\n",
       "      <td>68.347543</td>\n",
       "    </tr>\n",
       "    <tr>\n",
       "      <th>4</th>\n",
       "      <td>2016-01-15 04:00:00</td>\n",
       "      <td>86.688794</td>\n",
       "      <td>66.927016</td>\n",
       "    </tr>\n",
       "  </tbody>\n",
       "</table>\n",
       "</div>"
      ],
      "text/plain": [
       "                  date  rougher.output.recovery  final.output.recovery\n",
       "0  2016-01-15 00:00:00                87.107763              70.541216\n",
       "1  2016-01-15 01:00:00                86.843261              69.266198\n",
       "2  2016-01-15 02:00:00                86.842308              68.116445\n",
       "3  2016-01-15 03:00:00                87.226430              68.347543\n",
       "4  2016-01-15 04:00:00                86.688794              66.927016"
      ]
     },
     "execution_count": 167,
     "metadata": {},
     "output_type": "execute_result"
    }
   ],
   "source": [
    "target_data = data_full_clean[['date', 'rougher.output.recovery', 'final.output.recovery']]\n",
    "target_data.head()"
   ]
  },
  {
   "cell_type": "code",
   "execution_count": 168,
   "metadata": {},
   "outputs": [
    {
     "data": {
      "text/html": [
       "<div>\n",
       "<style scoped>\n",
       "    .dataframe tbody tr th:only-of-type {\n",
       "        vertical-align: middle;\n",
       "    }\n",
       "\n",
       "    .dataframe tbody tr th {\n",
       "        vertical-align: top;\n",
       "    }\n",
       "\n",
       "    .dataframe thead th {\n",
       "        text-align: right;\n",
       "    }\n",
       "</style>\n",
       "<table border=\"1\" class=\"dataframe\">\n",
       "  <thead>\n",
       "    <tr style=\"text-align: right;\">\n",
       "      <th></th>\n",
       "      <th>rougher.input.feed_ag</th>\n",
       "      <th>rougher.input.feed_pb</th>\n",
       "      <th>rougher.input.feed_rate</th>\n",
       "      <th>rougher.input.feed_size</th>\n",
       "      <th>rougher.input.feed_sol</th>\n",
       "      <th>rougher.input.feed_au</th>\n",
       "      <th>rougher.input.floatbank10_sulfate</th>\n",
       "      <th>rougher.input.floatbank10_xanthate</th>\n",
       "      <th>rougher.input.floatbank11_sulfate</th>\n",
       "      <th>rougher.input.floatbank11_xanthate</th>\n",
       "      <th>date</th>\n",
       "      <th>rougher.output.recovery</th>\n",
       "      <th>final.output.recovery</th>\n",
       "    </tr>\n",
       "  </thead>\n",
       "  <tbody>\n",
       "    <tr>\n",
       "      <th>0</th>\n",
       "      <td>6.100378</td>\n",
       "      <td>2.284912</td>\n",
       "      <td>523.546326</td>\n",
       "      <td>55.486599</td>\n",
       "      <td>36.808594</td>\n",
       "      <td>6.486150</td>\n",
       "      <td>11.986616</td>\n",
       "      <td>6.007990</td>\n",
       "      <td>11.836743</td>\n",
       "      <td>6.005818</td>\n",
       "      <td>2016-01-15 00:00:00</td>\n",
       "      <td>87.107763</td>\n",
       "      <td>70.541216</td>\n",
       "    </tr>\n",
       "    <tr>\n",
       "      <th>1</th>\n",
       "      <td>6.161113</td>\n",
       "      <td>2.266033</td>\n",
       "      <td>525.290581</td>\n",
       "      <td>57.278666</td>\n",
       "      <td>35.753385</td>\n",
       "      <td>6.478583</td>\n",
       "      <td>11.971193</td>\n",
       "      <td>6.005766</td>\n",
       "      <td>11.996163</td>\n",
       "      <td>6.012594</td>\n",
       "      <td>2016-01-15 01:00:00</td>\n",
       "      <td>86.843261</td>\n",
       "      <td>69.266198</td>\n",
       "    </tr>\n",
       "    <tr>\n",
       "      <th>2</th>\n",
       "      <td>6.116455</td>\n",
       "      <td>2.159622</td>\n",
       "      <td>530.026610</td>\n",
       "      <td>57.510649</td>\n",
       "      <td>35.971630</td>\n",
       "      <td>6.362222</td>\n",
       "      <td>11.920603</td>\n",
       "      <td>6.197377</td>\n",
       "      <td>11.920305</td>\n",
       "      <td>6.204633</td>\n",
       "      <td>2016-01-15 02:00:00</td>\n",
       "      <td>86.842308</td>\n",
       "      <td>68.116445</td>\n",
       "    </tr>\n",
       "    <tr>\n",
       "      <th>3</th>\n",
       "      <td>6.043309</td>\n",
       "      <td>2.037807</td>\n",
       "      <td>542.590390</td>\n",
       "      <td>57.792734</td>\n",
       "      <td>36.862241</td>\n",
       "      <td>6.118189</td>\n",
       "      <td>11.630094</td>\n",
       "      <td>6.203177</td>\n",
       "      <td>11.692450</td>\n",
       "      <td>6.196578</td>\n",
       "      <td>2016-01-15 03:00:00</td>\n",
       "      <td>87.226430</td>\n",
       "      <td>68.347543</td>\n",
       "    </tr>\n",
       "    <tr>\n",
       "      <th>4</th>\n",
       "      <td>6.060915</td>\n",
       "      <td>1.786875</td>\n",
       "      <td>540.531893</td>\n",
       "      <td>56.047189</td>\n",
       "      <td>34.347666</td>\n",
       "      <td>5.663707</td>\n",
       "      <td>10.957755</td>\n",
       "      <td>6.198826</td>\n",
       "      <td>10.960521</td>\n",
       "      <td>6.194897</td>\n",
       "      <td>2016-01-15 04:00:00</td>\n",
       "      <td>86.688794</td>\n",
       "      <td>66.927016</td>\n",
       "    </tr>\n",
       "  </tbody>\n",
       "</table>\n",
       "</div>"
      ],
      "text/plain": [
       "   rougher.input.feed_ag  rougher.input.feed_pb  rougher.input.feed_rate  \\\n",
       "0               6.100378               2.284912               523.546326   \n",
       "1               6.161113               2.266033               525.290581   \n",
       "2               6.116455               2.159622               530.026610   \n",
       "3               6.043309               2.037807               542.590390   \n",
       "4               6.060915               1.786875               540.531893   \n",
       "\n",
       "   rougher.input.feed_size  rougher.input.feed_sol  rougher.input.feed_au  \\\n",
       "0                55.486599               36.808594               6.486150   \n",
       "1                57.278666               35.753385               6.478583   \n",
       "2                57.510649               35.971630               6.362222   \n",
       "3                57.792734               36.862241               6.118189   \n",
       "4                56.047189               34.347666               5.663707   \n",
       "\n",
       "   rougher.input.floatbank10_sulfate  rougher.input.floatbank10_xanthate  \\\n",
       "0                          11.986616                            6.007990   \n",
       "1                          11.971193                            6.005766   \n",
       "2                          11.920603                            6.197377   \n",
       "3                          11.630094                            6.203177   \n",
       "4                          10.957755                            6.198826   \n",
       "\n",
       "   rougher.input.floatbank11_sulfate  rougher.input.floatbank11_xanthate  \\\n",
       "0                          11.836743                            6.005818   \n",
       "1                          11.996163                            6.012594   \n",
       "2                          11.920305                            6.204633   \n",
       "3                          11.692450                            6.196578   \n",
       "4                          10.960521                            6.194897   \n",
       "\n",
       "                  date  rougher.output.recovery  final.output.recovery  \n",
       "0  2016-01-15 00:00:00                87.107763              70.541216  \n",
       "1  2016-01-15 01:00:00                86.843261              69.266198  \n",
       "2  2016-01-15 02:00:00                86.842308              68.116445  \n",
       "3  2016-01-15 03:00:00                87.226430              68.347543  \n",
       "4  2016-01-15 04:00:00                86.688794              66.927016  "
      ]
     },
     "execution_count": 168,
     "metadata": {},
     "output_type": "execute_result"
    }
   ],
   "source": [
    "data_train_full = pd.concat([data_train_clean.filter(like=\"rougher.input\"), data_train_clean['date']], axis = 1)\n",
    "data_train_full = data_train_full.merge(target_data, how = 'left', on = 'date').dropna()\n",
    "data_train_full.head()"
   ]
  },
  {
   "cell_type": "code",
   "execution_count": 169,
   "metadata": {},
   "outputs": [],
   "source": [
    "data_test_full = pd.concat([data_test_clean.filter(like=\"rougher.input\"), data_test_clean['date']], axis = 1)\n",
    "data_test_full = data_test_full.merge(target_data, how = 'left', on = 'date').dropna()"
   ]
  },
  {
   "cell_type": "code",
   "execution_count": 170,
   "metadata": {},
   "outputs": [],
   "source": [
    "# extracting features\n",
    "features_rougher_train = data_train_full.filter(like=\"rougher.input\")\n",
    "features_rougher_test = data_test_full.filter(like=\"rougher.input\")\n",
    "\n",
    "features_final_train = data_train_full.drop(['date', 'rougher.output.recovery',\n",
    "                                            'final.output.recovery'], axis = 1)\n",
    "features_final_test = data_test_full.drop(['date', 'rougher.output.recovery',\n",
    "                                            'final.output.recovery'], axis = 1)"
   ]
  },
  {
   "cell_type": "code",
   "execution_count": 171,
   "metadata": {},
   "outputs": [],
   "source": [
    "# creating separate target variables \n",
    "target_rougher_train = data_train_full['final.output.recovery']\n",
    "target_rougher_test = data_test_full['final.output.recovery']\n",
    "\n",
    "target_final_train = data_train_full['rougher.output.recovery']\n",
    "target_final_test = data_test_full['rougher.output.recovery']"
   ]
  },
  {
   "cell_type": "markdown",
   "metadata": {},
   "source": [
    "Проверим размеры получившихся выборок."
   ]
  },
  {
   "cell_type": "code",
   "execution_count": 172,
   "metadata": {
    "scrolled": true
   },
   "outputs": [
    {
     "name": "stdout",
     "output_type": "stream",
     "text": [
      "(11017, 10)\n",
      "(5077, 10)\n",
      "(11017, 10)\n",
      "(5077, 10)\n",
      "(11017,)\n",
      "(5077,)\n",
      "(11017,)\n",
      "(5077,)\n"
     ]
    }
   ],
   "source": [
    "for data in [features_rougher_train,\n",
    "             features_rougher_test,\n",
    "             features_final_train,\n",
    "             features_final_test,\n",
    "             target_rougher_train,\n",
    "             target_rougher_test,\n",
    "             target_final_train,\n",
    "             target_final_test]:\n",
    "    print(data.shape)"
   ]
  },
  {
   "cell_type": "markdown",
   "metadata": {},
   "source": [
    "Создадим оценщик cимметричной средней абсолютной процентной ошибки sMAPE, используя функцию ее расчета."
   ]
  },
  {
   "cell_type": "code",
   "execution_count": 173,
   "metadata": {},
   "outputs": [],
   "source": [
    "smape_scorer = make_scorer(smape, greater_is_better=False)"
   ]
  },
  {
   "cell_type": "markdown",
   "metadata": {},
   "source": [
    "Далее масштабируем признаки и используем GridSearchCV для поиска подходящих гиперпараметров и кросс-валидации, ориентируясь на sMAPE."
   ]
  },
  {
   "cell_type": "markdown",
   "metadata": {},
   "source": [
    "#### Дерево решений"
   ]
  },
  {
   "cell_type": "code",
   "execution_count": 175,
   "metadata": {
    "scrolled": true
   },
   "outputs": [],
   "source": [
    "state = RandomState(12345)"
   ]
  },
  {
   "cell_type": "code",
   "execution_count": 176,
   "metadata": {
    "scrolled": true
   },
   "outputs": [
    {
     "name": "stdout",
     "output_type": "stream",
     "text": [
      "CPU times: user 55.9 s, sys: 270 ms, total: 56.2 s\n",
      "Wall time: 56.3 s\n"
     ]
    },
    {
     "data": {
      "text/plain": [
       "GridSearchCV(cv=5,\n",
       "             estimator=Pipeline(steps=[('scaler', StandardScaler()),\n",
       "                                       ('model_dtr',\n",
       "                                        DecisionTreeRegressor(random_state=RandomState(MT19937) at 0x7F0F162DF340))]),\n",
       "             param_grid={'model_dtr__max_depth': range(1, 12, 2),\n",
       "                         'model_dtr__min_samples_leaf': range(1, 8),\n",
       "                         'model_dtr__min_samples_split': range(2, 10, 2),\n",
       "                         'model_dtr__splitter': ['best', 'random']},\n",
       "             scoring=make_scorer(smape, greater_is_better=False))"
      ]
     },
     "execution_count": 176,
     "metadata": {},
     "output_type": "execute_result"
    }
   ],
   "source": [
    "%%time\n",
    "pipeline = Pipeline(steps = [\n",
    "    (\"scaler\" , StandardScaler()),\n",
    "    (\"model_dtr\", DecisionTreeRegressor(random_state=state))])\n",
    "\n",
    "parameters = {\"model_dtr__splitter\":[\"best\", \"random\"],\n",
    "      'model_dtr__max_depth': range(1, 12, 2),\n",
    "      'model_dtr__min_samples_leaf': range(1, 8),\n",
    "      'model_dtr__min_samples_split': range(2, 10, 2)}\n",
    "\n",
    "grid_search_dtr = GridSearchCV(estimator = pipeline, param_grid = parameters, \n",
    "                               scoring = smape_scorer, cv = 5)\n",
    "grid_search_dtr.fit(features_rougher_train, target_rougher_train);"
   ]
  },
  {
   "cell_type": "markdown",
   "metadata": {},
   "source": [
    "<div class=\"alert alert-danger\"> ❌\n",
    "<h3> Комментарий ревьюера v1</h3>\n",
    "\n",
    "В гридсерче можно явно указать SMAPE, \"neg_mean_absolute_error\" может нам не подойти. Чтобы с помощью гридсерча выбрать модель с лучшей своей метрикой, нужно создать скорер и записать его в параметр scoring гридсерча. \n",
    "\n",
    "`from sklearn.metrics import make_scorer`\n",
    "       \n",
    "`smape_scorer = make_scorer(smape, greater_is_better=False)`\n",
    "\n",
    "`grid = GridSearchCV(…, scoring=smape_scorer, …)`\n",
    "\n",
    "Затем best_params и best_estimator_ будут выдавать лучшие параметры и модель относительно нашей метрики.\n",
    "    \n",
    "А best_score_ лучшую метрику\n",
    "\n",
    "    "
   ]
  },
  {
   "cell_type": "markdown",
   "metadata": {},
   "source": [
    "<div class=\"alert alert-block alert-info\">\n",
    "<h3> Комментарий студента </h3>\n",
    "\n",
    "Заменила\n",
    "</div>"
   ]
  },
  {
   "cell_type": "markdown",
   "metadata": {},
   "source": [
    "<div class=\"alert alert-success\"> ✅ \n",
    "<h3> Комментарий ревьюера v2</h3>\n",
    "\n",
    "Отлично!"
   ]
  },
  {
   "cell_type": "markdown",
   "metadata": {},
   "source": [
    "\n",
    "<div class=\"alert alert-warning\"> ⚠️\n",
    "<h3> Комментарий ревьюера v1</h3>\n",
    "\n",
    "Обычный GridSearchCV довольно долго делает расчеты, так как проверяет все комбинации. На практике обычно какие-то параметры сильно важнее других, поэтому по ним нет особого смысла итерироваться, поэтому рекомендую использовать RandomizedSearchCV. Скорее всего ты немного просядешь по метрикам, зато сильно выиграешь в скорости обучения. А еще очень советую изучить, как работать с либой optuna для подбора параметров\n"
   ]
  },
  {
   "cell_type": "markdown",
   "metadata": {},
   "source": [
    "<div class=\"alert alert-block alert-info\">\n",
    "<h3> Комментарий студента </h3>\n",
    "\n",
    "Учту, спасибо!\n",
    "</div>"
   ]
  },
  {
   "cell_type": "code",
   "execution_count": 177,
   "metadata": {
    "scrolled": false
   },
   "outputs": [
    {
     "name": "stdout",
     "output_type": "stream",
     "text": [
      "Лучшие параметры: {'model_dtr__max_depth': 1, 'model_dtr__min_samples_leaf': 1, 'model_dtr__min_samples_split': 2, 'model_dtr__splitter': 'best'}\n",
      "Лучшая sMAPE для чернового концентрата: 8.224803281457763\n"
     ]
    }
   ],
   "source": [
    "print('Лучшие параметры:', grid_search_dtr.best_params_)\n",
    "print('Лучшая sMAPE для чернового концентрата:', abs(grid_search_dtr.best_score_))"
   ]
  },
  {
   "cell_type": "code",
   "execution_count": 178,
   "metadata": {},
   "outputs": [
    {
     "name": "stdout",
     "output_type": "stream",
     "text": [
      "CPU times: user 55 s, sys: 201 ms, total: 55.2 s\n",
      "Wall time: 55.2 s\n"
     ]
    },
    {
     "data": {
      "text/plain": [
       "GridSearchCV(cv=5,\n",
       "             estimator=Pipeline(steps=[('scaler', StandardScaler()),\n",
       "                                       ('model_dtr',\n",
       "                                        DecisionTreeRegressor(random_state=RandomState(MT19937) at 0x7F0F162DF340))]),\n",
       "             param_grid={'model_dtr__max_depth': range(1, 12, 2),\n",
       "                         'model_dtr__min_samples_leaf': range(1, 8),\n",
       "                         'model_dtr__min_samples_split': range(2, 10, 2),\n",
       "                         'model_dtr__splitter': ['best', 'random']},\n",
       "             scoring=make_scorer(smape, greater_is_better=False))"
      ]
     },
     "execution_count": 178,
     "metadata": {},
     "output_type": "execute_result"
    }
   ],
   "source": [
    "%%time\n",
    "\n",
    "grid_search_dtr.fit(features_final_train, target_final_train);"
   ]
  },
  {
   "cell_type": "code",
   "execution_count": 179,
   "metadata": {
    "scrolled": true
   },
   "outputs": [
    {
     "name": "stdout",
     "output_type": "stream",
     "text": [
      "Лучшие параметры: {'model_dtr__max_depth': 1, 'model_dtr__min_samples_leaf': 1, 'model_dtr__min_samples_split': 2, 'model_dtr__splitter': 'best'}\n",
      "Лучшая sMAPE для финального концентрата: 6.376236961974179\n"
     ]
    }
   ],
   "source": [
    "print('Лучшие параметры:', grid_search_dtr.best_params_)\n",
    "print('Лучшая sMAPE для финального концентрата:', abs(grid_search_dtr.best_score_))"
   ]
  },
  {
   "cell_type": "markdown",
   "metadata": {},
   "source": [
    "Метрика sMAPE для лучших моделей чернового и финального концентрата схожи соответствуют 8.22 и 6.37."
   ]
  },
  {
   "cell_type": "markdown",
   "metadata": {},
   "source": [
    "#### Случайный лес"
   ]
  },
  {
   "cell_type": "code",
   "execution_count": 180,
   "metadata": {},
   "outputs": [
    {
     "name": "stdout",
     "output_type": "stream",
     "text": [
      "CPU times: user 19min 14s, sys: 3.99 s, total: 19min 18s\n",
      "Wall time: 19min 19s\n"
     ]
    },
    {
     "data": {
      "text/plain": [
       "GridSearchCV(cv=5,\n",
       "             estimator=Pipeline(steps=[('scaler', StandardScaler()),\n",
       "                                       ('model_rfr',\n",
       "                                        RandomForestRegressor(random_state=RandomState(MT19937) at 0x7F0F162DF340))]),\n",
       "             param_grid={'model_rfr__max_depth': [2, 5, 10, 20],\n",
       "                         'model_rfr__min_samples_leaf': [1, 2, 4],\n",
       "                         'model_rfr__min_samples_split': [2, 5, 10],\n",
       "                         'model_rfr__n_estimators': [5, 20, 50, 100]},\n",
       "             scoring=make_scorer(smape, greater_is_better=False))"
      ]
     },
     "execution_count": 180,
     "metadata": {},
     "output_type": "execute_result"
    }
   ],
   "source": [
    "%%time\n",
    "pipeline = Pipeline(steps = [\n",
    "    (\"scaler\" , StandardScaler()),\n",
    "    (\"model_rfr\", RandomForestRegressor(random_state=state))])\n",
    "\n",
    "parameters = {\"model_rfr__n_estimators\": [5, 20, 50, 100],\n",
    "      'model_rfr__max_depth': [2, 5, 10, 20],\n",
    "      'model_rfr__min_samples_leaf': [1, 2, 4],\n",
    "      'model_rfr__min_samples_split': [2, 5, 10]}\n",
    "\n",
    "grid_search_dtr = GridSearchCV(estimator = pipeline, param_grid = parameters, \n",
    "                               scoring = smape_scorer, cv = 5)\n",
    "grid_search_dtr.fit(features_rougher_train, target_rougher_train);"
   ]
  },
  {
   "cell_type": "code",
   "execution_count": 181,
   "metadata": {},
   "outputs": [
    {
     "name": "stdout",
     "output_type": "stream",
     "text": [
      "Лучшие параметры: {'model_rfr__max_depth': 2, 'model_rfr__min_samples_leaf': 1, 'model_rfr__min_samples_split': 2, 'model_rfr__n_estimators': 100}\n",
      "Лучшая sMAPE для чернового концентрата: 8.658796777926376\n"
     ]
    }
   ],
   "source": [
    "print('Лучшие параметры:', grid_search_dtr.best_params_)\n",
    "print('Лучшая sMAPE для чернового концентрата:', abs(grid_search_dtr.best_score_))"
   ]
  },
  {
   "cell_type": "code",
   "execution_count": 182,
   "metadata": {
    "scrolled": true
   },
   "outputs": [
    {
     "name": "stdout",
     "output_type": "stream",
     "text": [
      "CPU times: user 18min 7s, sys: 3.4 s, total: 18min 10s\n",
      "Wall time: 18min 15s\n"
     ]
    },
    {
     "data": {
      "text/plain": [
       "GridSearchCV(cv=5,\n",
       "             estimator=Pipeline(steps=[('scaler', StandardScaler()),\n",
       "                                       ('model_rfr',\n",
       "                                        RandomForestRegressor(random_state=RandomState(MT19937) at 0x7F0F162DF340))]),\n",
       "             param_grid={'model_rfr__max_depth': [2, 5, 10, 20],\n",
       "                         'model_rfr__min_samples_leaf': [1, 2, 4],\n",
       "                         'model_rfr__min_samples_split': [2, 5, 10],\n",
       "                         'model_rfr__n_estimators': [5, 20, 50, 100]},\n",
       "             scoring=make_scorer(smape, greater_is_better=False))"
      ]
     },
     "execution_count": 182,
     "metadata": {},
     "output_type": "execute_result"
    }
   ],
   "source": [
    "%%time\n",
    "\n",
    "grid_search_dtr.fit(features_final_train, target_final_train);"
   ]
  },
  {
   "cell_type": "code",
   "execution_count": 183,
   "metadata": {
    "scrolled": false
   },
   "outputs": [
    {
     "name": "stdout",
     "output_type": "stream",
     "text": [
      "Лучшие параметры: {'model_rfr__max_depth': 2, 'model_rfr__min_samples_leaf': 1, 'model_rfr__min_samples_split': 2, 'model_rfr__n_estimators': 20}\n",
      "Лучшая sMAPE для финального концентрата: 6.536716219387675\n"
     ]
    }
   ],
   "source": [
    "print('Лучшие параметры:', grid_search_dtr.best_params_)\n",
    "print('Лучшая sMAPE для финального концентрата:', abs(grid_search_dtr.best_score_))"
   ]
  },
  {
   "cell_type": "markdown",
   "metadata": {},
   "source": [
    "sMAPE у случайного леса для обеих выборок оказалась хуже решающего дерева."
   ]
  },
  {
   "cell_type": "markdown",
   "metadata": {},
   "source": [
    "#### Регрессия Лассо"
   ]
  },
  {
   "cell_type": "code",
   "execution_count": 200,
   "metadata": {
    "scrolled": true
   },
   "outputs": [
    {
     "name": "stdout",
     "output_type": "stream",
     "text": [
      "sMAPE модели для чернового концентрата: 8.334134273908024\n",
      "sMAPE модели для финального концентрата: 6.429293211314841\n",
      "CPU times: user 9.01 s, sys: 20.1 s, total: 29.1 s\n",
      "Wall time: 29.1 s\n"
     ]
    }
   ],
   "source": [
    "%%time\n",
    "def model_creator(features_train, target_train):\n",
    "    # scaling\n",
    "    scaler = StandardScaler()\n",
    "    features_scaled = scaler.fit_transform(features_train)\n",
    "    # model fit\n",
    "    cv = RepeatedKFold(n_splits = 5 , n_repeats = 3 , random_state=state)\n",
    "    model = LassoCV(alphas = np.arange(0, 1, 0.01), cv=cv, n_jobs = -1)\n",
    "    model.fit(features_scaled, target_train)\n",
    "    cv_score = cross_val_score(model, features_scaled, target_train, cv=5, \n",
    "                                         scoring = smape_scorer)\n",
    "    return cv_score\n",
    "\n",
    "print('sMAPE модели для чернового концентрата:', \n",
    "      abs(model_creator(features_rougher_train, target_rougher_train).mean()))\n",
    "print('sMAPE модели для финального концентрата:', \n",
    "      abs(model_creator(features_final_train, target_final_train)).mean())"
   ]
  },
  {
   "cell_type": "markdown",
   "metadata": {},
   "source": [
    "Регрессия Лассо также показала более высокие результаты по метрике sMAPE, а значит дальше будем работать с решающим деревом."
   ]
  },
  {
   "cell_type": "markdown",
   "metadata": {},
   "source": [
    "<div class=\"alert alert-warning\"> ⚠️\n",
    "<h3> Комментарий ревьюера v1</h3>\n",
    "\n",
    "Я бы для такой задачки еще использовал catboost. Советую почитать-поразбираться, как эта штука запускается. Примерно так же, как рандом форест, на самом деле. И еще он может \"съесть\" категориальные фичи (например, страну и тп). Оставлю ссылочку на статью на Хабре:\n",
    "https://habr.com/ru/company/otus/blog/527554/\n",
    "\n",
    "Еще можно попробовать регрессионые модели с регуляризацией: Ridge, Lasso. Они отличаются только тем, что у одной модели L1, а у второй L2 регуляризация. И еще есть ElasticNet с комбинацией L1 и L2. Можешь подробнее почитать о них и в целом о линейных моделях в учебнике по МЛ от ШАД вот в этой главе: \n",
    "    \n",
    "https://academy.yandex.ru/handbook/ml/article/linear-models\n"
   ]
  },
  {
   "cell_type": "markdown",
   "metadata": {},
   "source": [
    "<div class=\"alert alert-block alert-info\">\n",
    "<h3> Комментарий студента </h3>\n",
    "\n",
    "Заменила на Лассо\n",
    "</div>"
   ]
  },
  {
   "cell_type": "markdown",
   "metadata": {},
   "source": [
    "<div class=\"alert alert-success\"> ✅ \n",
    "<h3> Комментарий ревьюера v2</h3>\n",
    "\n",
    "Хорошо"
   ]
  },
  {
   "cell_type": "markdown",
   "metadata": {},
   "source": [
    "### Проверка на тестовой выборке"
   ]
  },
  {
   "cell_type": "markdown",
   "metadata": {},
   "source": [
    "Рассчитаем итоговую sMAPE на тестовой выборке для чернового концентрата с помощью случайного леса, а для финального концентрата - с помощью линейной регрессии."
   ]
  },
  {
   "cell_type": "code",
   "execution_count": 187,
   "metadata": {},
   "outputs": [],
   "source": [
    "# test features scaling\n",
    "scaler = StandardScaler()\n",
    "features_rougher_train_scaled = scaler.fit_transform(features_rougher_train)\n",
    "test_features_rougher_scaled = scaler.transform(features_final_test)\n",
    "features_final_train_scaled = scaler.fit_transform(features_final_train)\n",
    "test_features_final_scaled = scaler.transform(features_final_test)\n",
    "\n",
    "# best models fit\n",
    "best_model_rougher = DecisionTreeRegressor(max_depth = 1, min_samples_leaf = 1, \n",
    "                                            min_samples_split = 2, \n",
    "                                            splitter = 'best', random_state=state)\n",
    "best_model_rougher.fit(features_rougher_train_scaled, target_rougher_train)\n",
    "\n",
    "best_model_final = DecisionTreeRegressor(max_depth = 1, min_samples_leaf = 1, \n",
    "                                            min_samples_split = 2, \n",
    "                                            splitter = 'best', random_state=state)\n",
    "best_model_final.fit(features_final_train_scaled, target_final_train);"
   ]
  },
  {
   "cell_type": "code",
   "execution_count": 188,
   "metadata": {},
   "outputs": [
    {
     "name": "stdout",
     "output_type": "stream",
     "text": [
      "Итоговое sMAPE: 5.53652710398234\n"
     ]
    }
   ],
   "source": [
    "# predictions\n",
    "predictions_rougher_test = best_model_rougher.predict(test_features_rougher_scaled)\n",
    "predictions_final_test = best_model_final.predict(test_features_final_scaled)\n",
    "\n",
    "#sMAPE\n",
    "smape_rougher = smape(predictions_rougher_test, target_rougher_test)\n",
    "smape_final = smape(predictions_final_test, target_final_test)\n",
    "\n",
    "#total sMAPE\n",
    "total_smape_result = total_smape(smape_rougher, smape_final)\n",
    "print('Итоговое sMAPE:', total_smape_result)"
   ]
  },
  {
   "cell_type": "markdown",
   "metadata": {},
   "source": [
    "### Проверка моделей на адекватность"
   ]
  },
  {
   "cell_type": "markdown",
   "metadata": {},
   "source": [
    "<div class=\"alert alert-success\"> ✅ \n",
    "<h3> Комментарий ревьюера v1</h3>\n",
    "\n",
    "Здорово, что сравниваешь модель с константной! Из одного значения метрики не ясно, насколько адекватны предсказания моделей\n",
    "\n"
   ]
  },
  {
   "cell_type": "code",
   "execution_count": 189,
   "metadata": {
    "scrolled": true
   },
   "outputs": [
    {
     "name": "stdout",
     "output_type": "stream",
     "text": [
      "Итоговое sMAPE для dummy-модели: 21.52328536697054\n"
     ]
    }
   ],
   "source": [
    "dummy_reg = DummyRegressor(strategy = 'mean').fit(features_rougher_train_scaled, target_rougher_train)\n",
    "predictions_rougher_dummy = dummy_reg.predict(test_features_rougher_scaled)\n",
    "predictions_final_dummy = dummy_reg.predict(test_features_final_scaled)\n",
    "\n",
    "#sMAPE\n",
    "smape_rougher_dummy = smape(predictions_rougher_dummy, target_rougher_test)\n",
    "smape_final_dummy = smape(predictions_final_dummy, target_final_test)\n",
    "\n",
    "total_smape_result = total_smape(smape_rougher_dummy, smape_final_dummy)\n",
    "print('Итоговое sMAPE для dummy-модели:', total_smape_result)"
   ]
  },
  {
   "cell_type": "markdown",
   "metadata": {},
   "source": [
    "Итоговая симметричная средняя абсолютная процентная ошибка для финальных моделей предсказания эффективности обогащения чернового и финального концентрата составила 5%. "
   ]
  },
  {
   "cell_type": "markdown",
   "metadata": {},
   "source": [
    "## Выводы"
   ]
  },
  {
   "cell_type": "markdown",
   "metadata": {},
   "source": [
    "В данном проекте нам нужно было построить модель для предсказания коэффициента восстановления золота из золотосодержащей руды на основе параметров добычи и очистки. \n",
    "\n",
    "Сначала мы изучили данные обучающего, тестового и исходного набора и проверили расчеты эффективности обогащения. Нулевые значения выпадали из распределения, поэтому мы заменили их и пропущенные значения на предыдущие значения. Расчеты оказались верны. Мы также проверили какие признаки отсутствуют в тестовом наборе. Все они относились к параметрам продукта после обработки, поэтому в дальнейшем мы удалили их из обучающей выборки.\n",
    "\n",
    "В ходе анализа данных мы отметили, что в процессе обработки концентрация золота становится выше, а концентрация других металлов снижается и проверили, что распределение размеров гранул сырья сильно различается в обучающей и тестовой выборке. Также, мы заметили, что выбросы нулевых значений присутствуют почти во всех признаках, поэтому мы заменили их на предыдущие значения, а оставшиеся пропущенные значения удалили.\n",
    "\n",
    "На последнем этапе мы подготовили признаки для предсказания эффективности обогащения чернового концентрата по параметрам сырья, а для финального концентрата - по всем признакам. Целевые переменные мы взяли из исходного датасета. \n",
    "\n",
    "Далее мы сравнили модели регрессии Лассо, решающего дерева и случайного леса с разными гиперпараметрами. Для предсказания обеих целевых переменных - чернового и финального концентрата подошла модель решающего дерева. Ее мы проверили на тестовой выборки и посчитали итоговую симметричную среднюю абсолютную процентную ошибку по заранее подготовленной формуле, которая составила 5.5%. Этот результаты мы сравнили с dummy-моделью, sMAPE которой составила 21.5%, то есть в четыре раза выше наших моделей."
   ]
  },
  {
   "cell_type": "markdown",
   "metadata": {},
   "source": [
    "## Чек-лист готовности проекта"
   ]
  },
  {
   "cell_type": "markdown",
   "metadata": {},
   "source": [
    "- [x]  Jupyter Notebook открыт\n",
    "- [x]  Весь код выполняется без ошибок\n",
    "- [x]  Ячейки с кодом расположены в порядке выполнения\n",
    "- [x]  Выполнен шаг 1: данные подготовлены\n",
    "    - [x]  Проверена формула вычисления эффективности обогащения\n",
    "    - [x]  Проанализированы признаки, недоступные в тестовой выборке\n",
    "    - [x]  Проведена предобработка данных\n",
    "- [x]  Выполнен шаг 2: данные проанализированы\n",
    "    - [x]  Исследовано изменение концентрации элементов на каждом этапе\n",
    "    - [x]  Проанализированы распределения размеров гранул на обучающей и тестовой выборках\n",
    "    - [x]  Исследованы суммарные концентрации\n",
    "- [x]  Выполнен шаг 3: построена модель прогнозирования\n",
    "    - [x]  Написана функция для вычисления итогового *sMAPE*\n",
    "    - [x]  Обучено и проверено несколько моделей\n",
    "    - [x]  Выбрана лучшая модель, её качество проверено на тестовой выборке"
   ]
  },
  {
   "cell_type": "markdown",
   "metadata": {},
   "source": [
    "<div class=\"alert alert-success\"> ✅ \n",
    "<h3> Комментарий ревьюера v2</h3>\n",
    "\n",
    "Спасибо за ответные комментарии и исправления! Успехов в следующих проектах!\n"
   ]
  },
  {
   "cell_type": "code",
   "execution_count": null,
   "metadata": {},
   "outputs": [],
   "source": []
  }
 ],
 "metadata": {
  "ExecuteTimeLog": [
   {
    "duration": 383,
    "start_time": "2023-05-02T11:32:09.810Z"
   },
   {
    "duration": 123,
    "start_time": "2023-05-02T11:39:43.075Z"
   },
   {
    "duration": 3,
    "start_time": "2023-05-02T11:39:46.313Z"
   },
   {
    "duration": 52,
    "start_time": "2023-05-02T11:39:47.799Z"
   },
   {
    "duration": 3574,
    "start_time": "2023-05-02T11:40:47.666Z"
   },
   {
    "duration": 28,
    "start_time": "2023-05-02T13:09:39.338Z"
   },
   {
    "duration": 19,
    "start_time": "2023-05-02T13:09:39.368Z"
   },
   {
    "duration": 21,
    "start_time": "2023-05-02T13:09:39.388Z"
   },
   {
    "duration": 30,
    "start_time": "2023-05-02T13:34:25.127Z"
   },
   {
    "duration": 16,
    "start_time": "2023-05-02T13:34:31.717Z"
   },
   {
    "duration": 19,
    "start_time": "2023-05-02T13:34:40.549Z"
   },
   {
    "duration": 13,
    "start_time": "2023-05-02T13:35:01.507Z"
   },
   {
    "duration": 17,
    "start_time": "2023-05-02T13:35:23.520Z"
   },
   {
    "duration": 7,
    "start_time": "2023-05-02T13:39:55.425Z"
   },
   {
    "duration": 16,
    "start_time": "2023-05-02T13:40:03.931Z"
   },
   {
    "duration": 462,
    "start_time": "2023-05-02T13:40:09.053Z"
   },
   {
    "duration": 69,
    "start_time": "2023-05-02T13:40:11.404Z"
   },
   {
    "duration": 65,
    "start_time": "2023-05-02T18:41:01.741Z"
   },
   {
    "duration": 995,
    "start_time": "2023-05-02T18:41:21.085Z"
   },
   {
    "duration": 2329,
    "start_time": "2023-05-02T18:41:22.082Z"
   },
   {
    "duration": 31,
    "start_time": "2023-05-02T18:41:24.413Z"
   },
   {
    "duration": 19,
    "start_time": "2023-05-02T18:41:24.446Z"
   },
   {
    "duration": 35,
    "start_time": "2023-05-02T18:41:24.467Z"
   },
   {
    "duration": 18,
    "start_time": "2023-05-02T18:41:24.504Z"
   },
   {
    "duration": 25,
    "start_time": "2023-05-02T18:41:24.524Z"
   },
   {
    "duration": 48,
    "start_time": "2023-05-02T18:41:24.550Z"
   },
   {
    "duration": 63,
    "start_time": "2023-05-02T19:10:38.864Z"
   },
   {
    "duration": 50,
    "start_time": "2023-05-02T19:10:48.459Z"
   },
   {
    "duration": 5,
    "start_time": "2023-05-02T19:10:56.706Z"
   },
   {
    "duration": 8,
    "start_time": "2023-05-02T19:11:22.085Z"
   },
   {
    "duration": 5,
    "start_time": "2023-05-02T19:12:23.938Z"
   },
   {
    "duration": 31,
    "start_time": "2023-05-02T19:37:43.202Z"
   },
   {
    "duration": 28,
    "start_time": "2023-05-02T19:38:02.301Z"
   },
   {
    "duration": 21,
    "start_time": "2023-05-02T19:38:43.975Z"
   },
   {
    "duration": 6,
    "start_time": "2023-05-02T19:39:18.011Z"
   },
   {
    "duration": 12,
    "start_time": "2023-05-02T19:41:04.554Z"
   },
   {
    "duration": 32,
    "start_time": "2023-05-02T19:41:54.241Z"
   },
   {
    "duration": 7,
    "start_time": "2023-05-02T19:42:01.927Z"
   },
   {
    "duration": 7,
    "start_time": "2023-05-02T19:42:13.960Z"
   },
   {
    "duration": 11,
    "start_time": "2023-05-02T19:46:37.630Z"
   },
   {
    "duration": 79,
    "start_time": "2023-05-02T19:46:57.616Z"
   },
   {
    "duration": 20,
    "start_time": "2023-05-02T19:47:09.732Z"
   },
   {
    "duration": 23,
    "start_time": "2023-05-02T19:47:13.521Z"
   },
   {
    "duration": 11,
    "start_time": "2023-05-02T19:47:33.390Z"
   },
   {
    "duration": 5,
    "start_time": "2023-05-02T19:48:44.560Z"
   },
   {
    "duration": 9,
    "start_time": "2023-05-02T19:49:38.654Z"
   },
   {
    "duration": 3,
    "start_time": "2023-05-02T19:49:45.268Z"
   },
   {
    "duration": 13,
    "start_time": "2023-05-02T19:50:12.519Z"
   },
   {
    "duration": 5,
    "start_time": "2023-05-02T19:53:14.595Z"
   },
   {
    "duration": 6,
    "start_time": "2023-05-02T19:53:22.582Z"
   },
   {
    "duration": 4,
    "start_time": "2023-05-02T19:53:40.566Z"
   },
   {
    "duration": 3,
    "start_time": "2023-05-02T19:53:44.067Z"
   },
   {
    "duration": 6,
    "start_time": "2023-05-02T19:54:00.907Z"
   },
   {
    "duration": 15,
    "start_time": "2023-05-02T19:55:28.410Z"
   },
   {
    "duration": 13,
    "start_time": "2023-05-02T19:55:42.320Z"
   },
   {
    "duration": 16,
    "start_time": "2023-05-02T19:57:42.839Z"
   },
   {
    "duration": 12,
    "start_time": "2023-05-02T19:57:54.962Z"
   },
   {
    "duration": 13,
    "start_time": "2023-05-02T19:58:36.111Z"
   },
   {
    "duration": 23,
    "start_time": "2023-05-02T19:59:07.279Z"
   },
   {
    "duration": 25,
    "start_time": "2023-05-02T19:59:20.508Z"
   },
   {
    "duration": 9,
    "start_time": "2023-05-02T19:59:59.539Z"
   },
   {
    "duration": 8,
    "start_time": "2023-05-02T20:00:45.573Z"
   },
   {
    "duration": 7,
    "start_time": "2023-05-02T20:00:59.016Z"
   },
   {
    "duration": 7,
    "start_time": "2023-05-02T20:01:12.032Z"
   },
   {
    "duration": 8,
    "start_time": "2023-05-02T20:01:24.679Z"
   },
   {
    "duration": 8,
    "start_time": "2023-05-02T20:05:13.715Z"
   },
   {
    "duration": 17,
    "start_time": "2023-05-02T20:05:26.778Z"
   },
   {
    "duration": 8,
    "start_time": "2023-05-02T20:05:41.635Z"
   },
   {
    "duration": 11,
    "start_time": "2023-05-02T20:06:24.687Z"
   },
   {
    "duration": 8,
    "start_time": "2023-05-02T20:06:37.382Z"
   },
   {
    "duration": 12,
    "start_time": "2023-05-02T20:06:56.277Z"
   },
   {
    "duration": 14,
    "start_time": "2023-05-02T20:07:00.755Z"
   },
   {
    "duration": 18,
    "start_time": "2023-05-02T20:07:05.715Z"
   },
   {
    "duration": 7,
    "start_time": "2023-05-02T20:07:08.772Z"
   },
   {
    "duration": 7,
    "start_time": "2023-05-02T20:07:17.252Z"
   },
   {
    "duration": 11,
    "start_time": "2023-05-02T20:09:55.366Z"
   },
   {
    "duration": 4,
    "start_time": "2023-05-02T20:10:51.058Z"
   },
   {
    "duration": 8,
    "start_time": "2023-05-02T20:11:06.510Z"
   },
   {
    "duration": 14,
    "start_time": "2023-05-02T20:11:18.931Z"
   },
   {
    "duration": 28,
    "start_time": "2023-05-02T20:15:03.878Z"
   },
   {
    "duration": 15,
    "start_time": "2023-05-02T20:15:13.259Z"
   },
   {
    "duration": 14,
    "start_time": "2023-05-02T20:16:27.061Z"
   },
   {
    "duration": 22,
    "start_time": "2023-05-02T20:16:52.115Z"
   },
   {
    "duration": 15,
    "start_time": "2023-05-02T20:17:20.273Z"
   },
   {
    "duration": 21,
    "start_time": "2023-05-02T20:31:20.082Z"
   },
   {
    "duration": 11,
    "start_time": "2023-05-02T20:31:37.766Z"
   },
   {
    "duration": 2,
    "start_time": "2023-05-02T20:31:42.371Z"
   },
   {
    "duration": 4,
    "start_time": "2023-05-02T20:32:54.152Z"
   },
   {
    "duration": 3,
    "start_time": "2023-05-02T20:32:55.540Z"
   },
   {
    "duration": 156,
    "start_time": "2023-05-02T20:33:04.205Z"
   },
   {
    "duration": 14,
    "start_time": "2023-05-02T20:35:18.595Z"
   },
   {
    "duration": 178,
    "start_time": "2023-05-02T20:39:48.547Z"
   },
   {
    "duration": 11,
    "start_time": "2023-05-02T20:45:52.132Z"
   },
   {
    "duration": 272,
    "start_time": "2023-05-02T20:46:10.712Z"
   },
   {
    "duration": 8,
    "start_time": "2023-05-02T20:46:19.218Z"
   },
   {
    "duration": 7,
    "start_time": "2023-05-02T20:46:24.355Z"
   },
   {
    "duration": 4,
    "start_time": "2023-05-02T20:50:17.761Z"
   },
   {
    "duration": 4,
    "start_time": "2023-05-02T20:50:20.046Z"
   },
   {
    "duration": 805,
    "start_time": "2023-05-02T20:50:21.861Z"
   },
   {
    "duration": 89,
    "start_time": "2023-05-02T20:51:58.982Z"
   },
   {
    "duration": 3,
    "start_time": "2023-05-02T20:52:12.014Z"
   },
   {
    "duration": 32,
    "start_time": "2023-05-02T20:52:15.411Z"
   },
   {
    "duration": 7,
    "start_time": "2023-05-02T20:53:34.738Z"
   },
   {
    "duration": 4,
    "start_time": "2023-05-02T20:53:41.034Z"
   },
   {
    "duration": 6,
    "start_time": "2023-05-02T20:53:44.003Z"
   },
   {
    "duration": 22,
    "start_time": "2023-05-02T20:53:45.639Z"
   },
   {
    "duration": 4,
    "start_time": "2023-05-02T20:53:59.401Z"
   },
   {
    "duration": 4,
    "start_time": "2023-05-02T20:54:23.018Z"
   },
   {
    "duration": 189,
    "start_time": "2023-05-02T20:54:25.022Z"
   },
   {
    "duration": 3,
    "start_time": "2023-05-02T20:54:37.586Z"
   },
   {
    "duration": 805,
    "start_time": "2023-05-02T20:54:37.594Z"
   },
   {
    "duration": 28,
    "start_time": "2023-05-02T20:54:38.405Z"
   },
   {
    "duration": 19,
    "start_time": "2023-05-02T20:54:38.435Z"
   },
   {
    "duration": 44,
    "start_time": "2023-05-02T20:54:38.457Z"
   },
   {
    "duration": 23,
    "start_time": "2023-05-02T20:54:38.503Z"
   },
   {
    "duration": 13,
    "start_time": "2023-05-02T20:54:38.527Z"
   },
   {
    "duration": 11,
    "start_time": "2023-05-02T20:54:38.542Z"
   },
   {
    "duration": 55,
    "start_time": "2023-05-02T20:54:38.555Z"
   },
   {
    "duration": 20,
    "start_time": "2023-05-02T20:54:38.612Z"
   },
   {
    "duration": 24,
    "start_time": "2023-05-02T20:54:38.635Z"
   },
   {
    "duration": 40,
    "start_time": "2023-05-02T20:54:38.661Z"
   },
   {
    "duration": 23,
    "start_time": "2023-05-02T20:54:38.704Z"
   },
   {
    "duration": 4,
    "start_time": "2023-05-02T20:54:38.729Z"
   },
   {
    "duration": 14,
    "start_time": "2023-05-02T20:54:38.735Z"
   },
   {
    "duration": 186,
    "start_time": "2023-05-02T20:54:40.862Z"
   },
   {
    "duration": 182,
    "start_time": "2023-05-02T20:55:48.345Z"
   },
   {
    "duration": 6,
    "start_time": "2023-05-02T20:55:51.639Z"
   },
   {
    "duration": 643,
    "start_time": "2023-05-02T20:56:16.593Z"
   },
   {
    "duration": 174,
    "start_time": "2023-05-02T20:57:11.809Z"
   },
   {
    "duration": 3,
    "start_time": "2023-05-02T20:58:51.886Z"
   },
   {
    "duration": 107,
    "start_time": "2023-05-02T21:03:27.503Z"
   },
   {
    "duration": 4,
    "start_time": "2023-05-02T21:03:57.235Z"
   },
   {
    "duration": 3,
    "start_time": "2023-05-02T21:04:00.711Z"
   },
   {
    "duration": 90,
    "start_time": "2023-05-02T21:04:10.979Z"
   },
   {
    "duration": 241,
    "start_time": "2023-05-02T21:04:15.216Z"
   },
   {
    "duration": 239,
    "start_time": "2023-05-02T21:05:46.564Z"
   },
   {
    "duration": 360,
    "start_time": "2023-05-02T21:06:38.010Z"
   },
   {
    "duration": 236,
    "start_time": "2023-05-02T21:06:42.712Z"
   },
   {
    "duration": 245,
    "start_time": "2023-05-02T21:07:02.611Z"
   },
   {
    "duration": 331,
    "start_time": "2023-05-02T21:07:07.518Z"
   },
   {
    "duration": 239,
    "start_time": "2023-05-02T21:08:07.524Z"
   },
   {
    "duration": 387,
    "start_time": "2023-05-02T21:08:19.854Z"
   },
   {
    "duration": 691,
    "start_time": "2023-05-02T21:09:13.464Z"
   },
   {
    "duration": 377,
    "start_time": "2023-05-02T21:09:18.910Z"
   },
   {
    "duration": 498,
    "start_time": "2023-05-02T21:09:22.894Z"
   },
   {
    "duration": 379,
    "start_time": "2023-05-02T21:09:51.804Z"
   },
   {
    "duration": 375,
    "start_time": "2023-05-02T21:09:58.587Z"
   },
   {
    "duration": 374,
    "start_time": "2023-05-02T21:10:11.456Z"
   },
   {
    "duration": 362,
    "start_time": "2023-05-02T21:11:33.548Z"
   },
   {
    "duration": 11,
    "start_time": "2023-05-02T21:13:11.129Z"
   },
   {
    "duration": 12,
    "start_time": "2023-05-02T21:13:34.727Z"
   },
   {
    "duration": 13,
    "start_time": "2023-05-02T21:13:44.004Z"
   },
   {
    "duration": 15,
    "start_time": "2023-05-02T21:13:47.883Z"
   },
   {
    "duration": 146,
    "start_time": "2023-05-02T21:17:45.133Z"
   },
   {
    "duration": 103,
    "start_time": "2023-05-02T21:17:59.879Z"
   },
   {
    "duration": 7,
    "start_time": "2023-05-02T21:18:07.192Z"
   },
   {
    "duration": 4,
    "start_time": "2023-05-02T21:19:02.271Z"
   },
   {
    "duration": 6,
    "start_time": "2023-05-02T21:19:19.687Z"
   },
   {
    "duration": 10,
    "start_time": "2023-05-02T21:19:33.319Z"
   },
   {
    "duration": 5,
    "start_time": "2023-05-02T21:19:40.837Z"
   },
   {
    "duration": 10,
    "start_time": "2023-05-02T21:19:42.420Z"
   },
   {
    "duration": 6,
    "start_time": "2023-05-02T21:20:12.176Z"
   },
   {
    "duration": 75,
    "start_time": "2023-05-02T21:21:07.886Z"
   },
   {
    "duration": 12,
    "start_time": "2023-05-02T21:21:34.980Z"
   },
   {
    "duration": 13,
    "start_time": "2023-05-02T21:22:09.240Z"
   },
   {
    "duration": 12,
    "start_time": "2023-05-02T21:22:35.487Z"
   },
   {
    "duration": 5,
    "start_time": "2023-05-02T21:22:41.416Z"
   },
   {
    "duration": 6,
    "start_time": "2023-05-02T21:22:41.424Z"
   },
   {
    "duration": 5,
    "start_time": "2023-05-02T21:22:41.433Z"
   },
   {
    "duration": 1008,
    "start_time": "2023-05-02T21:22:41.441Z"
   },
   {
    "duration": 25,
    "start_time": "2023-05-02T21:22:42.451Z"
   },
   {
    "duration": 34,
    "start_time": "2023-05-02T21:22:42.490Z"
   },
   {
    "duration": 29,
    "start_time": "2023-05-02T21:22:42.526Z"
   },
   {
    "duration": 51,
    "start_time": "2023-05-02T21:22:42.558Z"
   },
   {
    "duration": 48,
    "start_time": "2023-05-02T21:22:42.611Z"
   },
   {
    "duration": 17,
    "start_time": "2023-05-02T21:22:42.664Z"
   },
   {
    "duration": 33,
    "start_time": "2023-05-02T21:22:42.683Z"
   },
   {
    "duration": 21,
    "start_time": "2023-05-02T21:22:42.719Z"
   },
   {
    "duration": 49,
    "start_time": "2023-05-02T21:22:42.742Z"
   },
   {
    "duration": 7,
    "start_time": "2023-05-02T21:22:42.793Z"
   },
   {
    "duration": 19,
    "start_time": "2023-05-02T21:22:42.802Z"
   },
   {
    "duration": 518,
    "start_time": "2023-05-02T21:22:42.823Z"
   },
   {
    "duration": 13,
    "start_time": "2023-05-02T21:22:49.517Z"
   },
   {
    "duration": 7,
    "start_time": "2023-05-02T21:22:52.883Z"
   },
   {
    "duration": 10,
    "start_time": "2023-05-02T21:22:56.143Z"
   },
   {
    "duration": 4,
    "start_time": "2023-05-02T21:23:28.759Z"
   },
   {
    "duration": 5,
    "start_time": "2023-05-02T21:23:30.202Z"
   },
   {
    "duration": 292,
    "start_time": "2023-05-02T21:23:31.651Z"
   },
   {
    "duration": 5,
    "start_time": "2023-05-02T21:23:33.221Z"
   },
   {
    "duration": 279,
    "start_time": "2023-05-02T21:23:51.761Z"
   },
   {
    "duration": 4,
    "start_time": "2023-05-02T21:23:53.400Z"
   },
   {
    "duration": 7,
    "start_time": "2023-05-02T21:23:54.981Z"
   },
   {
    "duration": 5,
    "start_time": "2023-05-02T21:23:56.702Z"
   },
   {
    "duration": 14,
    "start_time": "2023-05-02T21:29:46.596Z"
   },
   {
    "duration": 5,
    "start_time": "2023-05-02T21:29:51.899Z"
   },
   {
    "duration": 5,
    "start_time": "2023-05-02T21:29:59.246Z"
   },
   {
    "duration": 7,
    "start_time": "2023-05-02T21:30:04.257Z"
   },
   {
    "duration": 6,
    "start_time": "2023-05-02T21:30:05.495Z"
   },
   {
    "duration": 10,
    "start_time": "2023-05-02T21:30:19.991Z"
   },
   {
    "duration": 4,
    "start_time": "2023-05-02T21:30:25.991Z"
   },
   {
    "duration": 12,
    "start_time": "2023-05-02T21:30:25.998Z"
   },
   {
    "duration": 12,
    "start_time": "2023-05-02T21:30:26.012Z"
   },
   {
    "duration": 812,
    "start_time": "2023-05-02T21:30:26.027Z"
   },
   {
    "duration": 29,
    "start_time": "2023-05-02T21:30:26.842Z"
   },
   {
    "duration": 32,
    "start_time": "2023-05-02T21:30:26.873Z"
   },
   {
    "duration": 18,
    "start_time": "2023-05-02T21:30:26.907Z"
   },
   {
    "duration": 33,
    "start_time": "2023-05-02T21:30:26.927Z"
   },
   {
    "duration": 20,
    "start_time": "2023-05-02T21:30:26.990Z"
   },
   {
    "duration": 15,
    "start_time": "2023-05-02T21:30:27.012Z"
   },
   {
    "duration": 62,
    "start_time": "2023-05-02T21:30:27.029Z"
   },
   {
    "duration": 31,
    "start_time": "2023-05-02T21:30:27.094Z"
   },
   {
    "duration": 25,
    "start_time": "2023-05-02T21:30:27.127Z"
   },
   {
    "duration": 34,
    "start_time": "2023-05-02T21:30:27.156Z"
   },
   {
    "duration": 17,
    "start_time": "2023-05-02T21:30:27.193Z"
   },
   {
    "duration": 361,
    "start_time": "2023-05-02T21:30:27.213Z"
   },
   {
    "duration": 24,
    "start_time": "2023-05-02T21:30:27.576Z"
   },
   {
    "duration": 7,
    "start_time": "2023-05-02T21:30:27.602Z"
   },
   {
    "duration": 17,
    "start_time": "2023-05-02T21:30:27.612Z"
   },
   {
    "duration": 13,
    "start_time": "2023-05-02T21:30:27.632Z"
   },
   {
    "duration": 47,
    "start_time": "2023-05-02T21:30:27.648Z"
   },
   {
    "duration": 5,
    "start_time": "2023-05-02T21:30:27.698Z"
   },
   {
    "duration": 8,
    "start_time": "2023-05-02T21:30:27.706Z"
   },
   {
    "duration": 6,
    "start_time": "2023-05-02T21:30:27.717Z"
   },
   {
    "duration": 6,
    "start_time": "2023-05-02T21:31:21.270Z"
   },
   {
    "duration": 6,
    "start_time": "2023-05-02T21:31:44.195Z"
   },
   {
    "duration": 14,
    "start_time": "2023-05-02T21:33:51.040Z"
   },
   {
    "duration": 64,
    "start_time": "2023-05-03T10:29:23.537Z"
   },
   {
    "duration": 1109,
    "start_time": "2023-05-03T10:31:01.229Z"
   },
   {
    "duration": 3,
    "start_time": "2023-05-03T10:31:02.341Z"
   },
   {
    "duration": 473,
    "start_time": "2023-05-03T10:31:02.346Z"
   },
   {
    "duration": 3238,
    "start_time": "2023-05-03T10:31:02.822Z"
   },
   {
    "duration": 36,
    "start_time": "2023-05-03T10:31:06.062Z"
   },
   {
    "duration": 39,
    "start_time": "2023-05-03T10:31:06.100Z"
   },
   {
    "duration": 60,
    "start_time": "2023-05-03T10:31:06.141Z"
   },
   {
    "duration": 32,
    "start_time": "2023-05-03T10:31:06.203Z"
   },
   {
    "duration": 49,
    "start_time": "2023-05-03T10:31:06.237Z"
   },
   {
    "duration": 30,
    "start_time": "2023-05-03T10:31:06.290Z"
   },
   {
    "duration": 43,
    "start_time": "2023-05-03T10:31:06.322Z"
   },
   {
    "duration": 48,
    "start_time": "2023-05-03T10:31:06.368Z"
   },
   {
    "duration": 93,
    "start_time": "2023-05-03T10:31:06.418Z"
   },
   {
    "duration": 0,
    "start_time": "2023-05-03T10:31:06.512Z"
   },
   {
    "duration": 0,
    "start_time": "2023-05-03T10:31:06.514Z"
   },
   {
    "duration": 0,
    "start_time": "2023-05-03T10:31:06.515Z"
   },
   {
    "duration": 0,
    "start_time": "2023-05-03T10:31:06.516Z"
   },
   {
    "duration": 0,
    "start_time": "2023-05-03T10:31:06.517Z"
   },
   {
    "duration": 0,
    "start_time": "2023-05-03T10:31:06.518Z"
   },
   {
    "duration": 0,
    "start_time": "2023-05-03T10:31:06.520Z"
   },
   {
    "duration": 0,
    "start_time": "2023-05-03T10:31:06.521Z"
   },
   {
    "duration": 0,
    "start_time": "2023-05-03T10:31:06.523Z"
   },
   {
    "duration": 0,
    "start_time": "2023-05-03T10:31:06.524Z"
   },
   {
    "duration": 0,
    "start_time": "2023-05-03T10:31:06.526Z"
   },
   {
    "duration": 0,
    "start_time": "2023-05-03T10:31:06.527Z"
   },
   {
    "duration": 4,
    "start_time": "2023-05-03T10:31:38.032Z"
   },
   {
    "duration": 30,
    "start_time": "2023-05-03T10:31:38.039Z"
   },
   {
    "duration": 29,
    "start_time": "2023-05-03T10:31:38.071Z"
   },
   {
    "duration": 768,
    "start_time": "2023-05-03T10:31:38.102Z"
   },
   {
    "duration": 27,
    "start_time": "2023-05-03T10:31:38.873Z"
   },
   {
    "duration": 19,
    "start_time": "2023-05-03T10:31:38.902Z"
   },
   {
    "duration": 19,
    "start_time": "2023-05-03T10:31:38.923Z"
   },
   {
    "duration": 52,
    "start_time": "2023-05-03T10:31:38.944Z"
   },
   {
    "duration": 26,
    "start_time": "2023-05-03T10:31:38.998Z"
   },
   {
    "duration": 10,
    "start_time": "2023-05-03T10:31:39.026Z"
   },
   {
    "duration": 20,
    "start_time": "2023-05-03T10:31:39.038Z"
   },
   {
    "duration": 18,
    "start_time": "2023-05-03T10:31:39.084Z"
   },
   {
    "duration": 21,
    "start_time": "2023-05-03T10:31:39.104Z"
   },
   {
    "duration": 4,
    "start_time": "2023-05-03T10:31:39.127Z"
   },
   {
    "duration": 15,
    "start_time": "2023-05-03T10:31:39.133Z"
   },
   {
    "duration": 328,
    "start_time": "2023-05-03T10:31:39.149Z"
   },
   {
    "duration": 11,
    "start_time": "2023-05-03T10:31:39.479Z"
   },
   {
    "duration": 17,
    "start_time": "2023-05-03T10:31:39.492Z"
   },
   {
    "duration": 8,
    "start_time": "2023-05-03T10:31:39.511Z"
   },
   {
    "duration": 8,
    "start_time": "2023-05-03T10:31:39.521Z"
   },
   {
    "duration": 12,
    "start_time": "2023-05-03T10:31:39.531Z"
   },
   {
    "duration": 0,
    "start_time": "2023-05-03T10:31:39.544Z"
   },
   {
    "duration": 0,
    "start_time": "2023-05-03T10:31:39.546Z"
   },
   {
    "duration": 0,
    "start_time": "2023-05-03T10:31:39.547Z"
   },
   {
    "duration": 0,
    "start_time": "2023-05-03T10:31:39.548Z"
   },
   {
    "duration": 0,
    "start_time": "2023-05-03T10:31:39.584Z"
   },
   {
    "duration": 11,
    "start_time": "2023-05-03T10:31:51.197Z"
   },
   {
    "duration": 5,
    "start_time": "2023-05-03T10:31:52.218Z"
   },
   {
    "duration": 3,
    "start_time": "2023-05-03T10:31:54.191Z"
   },
   {
    "duration": 9,
    "start_time": "2023-05-03T10:31:55.019Z"
   },
   {
    "duration": 5,
    "start_time": "2023-05-03T10:31:55.811Z"
   },
   {
    "duration": 54,
    "start_time": "2023-05-03T10:32:56.887Z"
   },
   {
    "duration": 3,
    "start_time": "2023-05-03T10:33:00.418Z"
   },
   {
    "duration": 798,
    "start_time": "2023-05-03T10:34:40.159Z"
   },
   {
    "duration": 299,
    "start_time": "2023-05-03T10:35:56.176Z"
   },
   {
    "duration": 9,
    "start_time": "2023-05-03T10:36:08.429Z"
   },
   {
    "duration": 7,
    "start_time": "2023-05-03T10:37:38.172Z"
   },
   {
    "duration": 13,
    "start_time": "2023-05-03T10:37:40.179Z"
   },
   {
    "duration": 149,
    "start_time": "2023-05-03T10:40:36.333Z"
   },
   {
    "duration": 62,
    "start_time": "2023-05-03T10:40:46.302Z"
   },
   {
    "duration": 9,
    "start_time": "2023-05-03T10:41:40.207Z"
   },
   {
    "duration": 15,
    "start_time": "2023-05-03T10:41:43.928Z"
   },
   {
    "duration": 11,
    "start_time": "2023-05-03T10:41:53.383Z"
   },
   {
    "duration": 4,
    "start_time": "2023-05-03T10:42:20.807Z"
   },
   {
    "duration": 6,
    "start_time": "2023-05-03T10:42:22.043Z"
   },
   {
    "duration": 8,
    "start_time": "2023-05-03T10:42:23.269Z"
   },
   {
    "duration": 5,
    "start_time": "2023-05-03T10:42:24.650Z"
   },
   {
    "duration": 6,
    "start_time": "2023-05-03T10:42:28.336Z"
   },
   {
    "duration": 5,
    "start_time": "2023-05-03T10:42:34.555Z"
   },
   {
    "duration": 764,
    "start_time": "2023-05-03T10:44:36.739Z"
   },
   {
    "duration": 423,
    "start_time": "2023-05-03T10:44:43.607Z"
   },
   {
    "duration": 9,
    "start_time": "2023-05-03T10:44:49.808Z"
   },
   {
    "duration": 12,
    "start_time": "2023-05-03T10:45:00.041Z"
   },
   {
    "duration": 4,
    "start_time": "2023-05-03T10:45:02.626Z"
   },
   {
    "duration": 4,
    "start_time": "2023-05-03T10:45:04.901Z"
   },
   {
    "duration": 6,
    "start_time": "2023-05-03T10:45:08.271Z"
   },
   {
    "duration": 6,
    "start_time": "2023-05-03T10:45:10.613Z"
   },
   {
    "duration": 4,
    "start_time": "2023-05-03T10:49:05.665Z"
   },
   {
    "duration": 7,
    "start_time": "2023-05-03T10:49:07.863Z"
   },
   {
    "duration": 4,
    "start_time": "2023-05-03T10:49:20.412Z"
   },
   {
    "duration": 7,
    "start_time": "2023-05-03T10:49:21.581Z"
   },
   {
    "duration": 6,
    "start_time": "2023-05-03T10:49:22.709Z"
   },
   {
    "duration": 3,
    "start_time": "2023-05-03T10:54:14.203Z"
   },
   {
    "duration": 58,
    "start_time": "2023-05-03T10:54:14.215Z"
   },
   {
    "duration": 36,
    "start_time": "2023-05-03T10:54:14.276Z"
   },
   {
    "duration": 745,
    "start_time": "2023-05-03T10:54:14.315Z"
   },
   {
    "duration": 44,
    "start_time": "2023-05-03T10:54:15.062Z"
   },
   {
    "duration": 106,
    "start_time": "2023-05-03T10:54:15.109Z"
   },
   {
    "duration": 87,
    "start_time": "2023-05-03T10:54:15.218Z"
   },
   {
    "duration": 63,
    "start_time": "2023-05-03T10:54:15.307Z"
   },
   {
    "duration": 57,
    "start_time": "2023-05-03T10:54:15.372Z"
   },
   {
    "duration": 60,
    "start_time": "2023-05-03T10:54:15.431Z"
   },
   {
    "duration": 9,
    "start_time": "2023-05-03T10:54:24.544Z"
   },
   {
    "duration": 2,
    "start_time": "2023-05-03T10:55:58.785Z"
   },
   {
    "duration": 7,
    "start_time": "2023-05-03T10:56:00.484Z"
   },
   {
    "duration": 4,
    "start_time": "2023-05-03T10:56:01.736Z"
   },
   {
    "duration": 19,
    "start_time": "2023-05-03T13:15:57.854Z"
   },
   {
    "duration": 4,
    "start_time": "2023-05-03T13:16:10.140Z"
   },
   {
    "duration": 10,
    "start_time": "2023-05-03T13:16:56.492Z"
   },
   {
    "duration": 6,
    "start_time": "2023-05-03T13:17:06.228Z"
   },
   {
    "duration": 19,
    "start_time": "2023-05-03T13:17:51.520Z"
   },
   {
    "duration": 15,
    "start_time": "2023-05-03T13:17:57.658Z"
   },
   {
    "duration": 20,
    "start_time": "2023-05-03T13:18:16.903Z"
   },
   {
    "duration": 14,
    "start_time": "2023-05-03T13:18:48.888Z"
   },
   {
    "duration": 6,
    "start_time": "2023-05-03T13:19:05.244Z"
   },
   {
    "duration": 6,
    "start_time": "2023-05-03T13:19:07.060Z"
   },
   {
    "duration": 5,
    "start_time": "2023-05-03T13:19:08.896Z"
   },
   {
    "duration": 20,
    "start_time": "2023-05-03T13:19:18.537Z"
   },
   {
    "duration": 13,
    "start_time": "2023-05-03T13:19:23.502Z"
   },
   {
    "duration": 10,
    "start_time": "2023-05-03T13:19:47.028Z"
   },
   {
    "duration": 5,
    "start_time": "2023-05-03T13:19:49.299Z"
   },
   {
    "duration": 5,
    "start_time": "2023-05-03T13:20:00.739Z"
   },
   {
    "duration": 28,
    "start_time": "2023-05-03T13:21:42.594Z"
   },
   {
    "duration": 18,
    "start_time": "2023-05-03T13:21:53.912Z"
   },
   {
    "duration": 14,
    "start_time": "2023-05-03T13:22:42.087Z"
   },
   {
    "duration": 1692,
    "start_time": "2023-05-03T13:22:57.031Z"
   },
   {
    "duration": 18,
    "start_time": "2023-05-03T13:23:10.813Z"
   },
   {
    "duration": 1892,
    "start_time": "2023-05-03T13:23:13.165Z"
   },
   {
    "duration": 0,
    "start_time": "2023-05-03T13:23:15.059Z"
   },
   {
    "duration": 8,
    "start_time": "2023-05-03T13:23:24.144Z"
   },
   {
    "duration": 11,
    "start_time": "2023-05-03T13:23:28.779Z"
   },
   {
    "duration": 4,
    "start_time": "2023-05-03T13:23:33.075Z"
   },
   {
    "duration": 3,
    "start_time": "2023-05-03T13:24:27.283Z"
   },
   {
    "duration": 46,
    "start_time": "2023-05-03T13:24:27.288Z"
   },
   {
    "duration": 25,
    "start_time": "2023-05-03T13:24:27.336Z"
   },
   {
    "duration": 941,
    "start_time": "2023-05-03T13:24:27.363Z"
   },
   {
    "duration": 27,
    "start_time": "2023-05-03T13:24:28.315Z"
   },
   {
    "duration": 25,
    "start_time": "2023-05-03T13:24:28.343Z"
   },
   {
    "duration": 25,
    "start_time": "2023-05-03T13:24:28.370Z"
   },
   {
    "duration": 45,
    "start_time": "2023-05-03T13:24:28.397Z"
   },
   {
    "duration": 35,
    "start_time": "2023-05-03T13:24:28.444Z"
   },
   {
    "duration": 62,
    "start_time": "2023-05-03T13:24:28.481Z"
   },
   {
    "duration": 305,
    "start_time": "2023-05-03T13:24:28.545Z"
   },
   {
    "duration": 18,
    "start_time": "2023-05-03T13:24:28.852Z"
   },
   {
    "duration": 60,
    "start_time": "2023-05-03T13:24:28.872Z"
   },
   {
    "duration": 47,
    "start_time": "2023-05-03T13:24:28.935Z"
   },
   {
    "duration": 52,
    "start_time": "2023-05-03T13:24:28.985Z"
   },
   {
    "duration": 9,
    "start_time": "2023-05-03T13:24:29.039Z"
   },
   {
    "duration": 27,
    "start_time": "2023-05-03T13:24:29.050Z"
   },
   {
    "duration": 41,
    "start_time": "2023-05-03T13:24:29.079Z"
   },
   {
    "duration": 11,
    "start_time": "2023-05-03T13:24:29.122Z"
   },
   {
    "duration": 6,
    "start_time": "2023-05-03T13:24:29.135Z"
   },
   {
    "duration": 6,
    "start_time": "2023-05-03T13:24:29.143Z"
   },
   {
    "duration": 27,
    "start_time": "2023-05-03T13:24:29.151Z"
   },
   {
    "duration": 42,
    "start_time": "2023-05-03T13:24:29.180Z"
   },
   {
    "duration": 4,
    "start_time": "2023-05-03T13:24:34.945Z"
   },
   {
    "duration": 1917,
    "start_time": "2023-05-03T13:51:28.403Z"
   },
   {
    "duration": 3,
    "start_time": "2023-05-03T13:56:14.207Z"
   },
   {
    "duration": 33,
    "start_time": "2023-05-03T13:56:14.212Z"
   },
   {
    "duration": 36,
    "start_time": "2023-05-03T13:56:14.247Z"
   },
   {
    "duration": 753,
    "start_time": "2023-05-03T13:56:14.285Z"
   },
   {
    "duration": 21,
    "start_time": "2023-05-03T13:56:15.041Z"
   },
   {
    "duration": 73,
    "start_time": "2023-05-03T13:56:15.064Z"
   },
   {
    "duration": 41,
    "start_time": "2023-05-03T13:56:15.138Z"
   },
   {
    "duration": 45,
    "start_time": "2023-05-03T13:56:15.181Z"
   },
   {
    "duration": 65,
    "start_time": "2023-05-03T13:56:15.228Z"
   },
   {
    "duration": 38,
    "start_time": "2023-05-03T13:56:15.295Z"
   },
   {
    "duration": 274,
    "start_time": "2023-05-03T13:56:15.334Z"
   },
   {
    "duration": 8,
    "start_time": "2023-05-03T13:56:15.610Z"
   },
   {
    "duration": 36,
    "start_time": "2023-05-03T13:56:15.620Z"
   },
   {
    "duration": 37,
    "start_time": "2023-05-03T13:56:15.659Z"
   },
   {
    "duration": 49,
    "start_time": "2023-05-03T13:56:15.697Z"
   },
   {
    "duration": 20,
    "start_time": "2023-05-03T13:56:15.748Z"
   },
   {
    "duration": 38,
    "start_time": "2023-05-03T13:56:15.770Z"
   },
   {
    "duration": 29,
    "start_time": "2023-05-03T13:56:15.810Z"
   },
   {
    "duration": 26,
    "start_time": "2023-05-03T13:56:15.841Z"
   },
   {
    "duration": 9,
    "start_time": "2023-05-03T13:56:15.868Z"
   },
   {
    "duration": 19,
    "start_time": "2023-05-03T13:56:15.878Z"
   },
   {
    "duration": 43,
    "start_time": "2023-05-03T13:56:15.899Z"
   },
   {
    "duration": 8,
    "start_time": "2023-05-03T13:56:18.606Z"
   },
   {
    "duration": 1132,
    "start_time": "2023-05-03T19:12:07.129Z"
   },
   {
    "duration": 2,
    "start_time": "2023-05-03T19:12:08.263Z"
   },
   {
    "duration": 428,
    "start_time": "2023-05-03T19:12:08.267Z"
   },
   {
    "duration": 2975,
    "start_time": "2023-05-03T19:12:08.697Z"
   },
   {
    "duration": 114,
    "start_time": "2023-05-03T19:12:11.673Z"
   },
   {
    "duration": 0,
    "start_time": "2023-05-03T19:12:11.789Z"
   },
   {
    "duration": 0,
    "start_time": "2023-05-03T19:12:11.790Z"
   },
   {
    "duration": 0,
    "start_time": "2023-05-03T19:12:11.791Z"
   },
   {
    "duration": 0,
    "start_time": "2023-05-03T19:12:11.793Z"
   },
   {
    "duration": 0,
    "start_time": "2023-05-03T19:12:11.794Z"
   },
   {
    "duration": 0,
    "start_time": "2023-05-03T19:12:11.795Z"
   },
   {
    "duration": 0,
    "start_time": "2023-05-03T19:12:11.796Z"
   },
   {
    "duration": 0,
    "start_time": "2023-05-03T19:12:11.797Z"
   },
   {
    "duration": 0,
    "start_time": "2023-05-03T19:12:11.799Z"
   },
   {
    "duration": 0,
    "start_time": "2023-05-03T19:12:11.800Z"
   },
   {
    "duration": 0,
    "start_time": "2023-05-03T19:12:11.801Z"
   },
   {
    "duration": 0,
    "start_time": "2023-05-03T19:12:11.801Z"
   },
   {
    "duration": 0,
    "start_time": "2023-05-03T19:12:11.802Z"
   },
   {
    "duration": 0,
    "start_time": "2023-05-03T19:12:11.803Z"
   },
   {
    "duration": 0,
    "start_time": "2023-05-03T19:12:11.804Z"
   },
   {
    "duration": 0,
    "start_time": "2023-05-03T19:12:11.805Z"
   },
   {
    "duration": 0,
    "start_time": "2023-05-03T19:12:11.806Z"
   },
   {
    "duration": 13,
    "start_time": "2023-05-03T19:12:45.031Z"
   },
   {
    "duration": 224,
    "start_time": "2023-05-03T19:23:51.669Z"
   },
   {
    "duration": 13,
    "start_time": "2023-05-03T19:24:13.385Z"
   },
   {
    "duration": 30,
    "start_time": "2023-05-03T19:25:38.646Z"
   },
   {
    "duration": 3,
    "start_time": "2023-05-03T19:25:53.883Z"
   },
   {
    "duration": 5,
    "start_time": "2023-05-03T19:25:53.888Z"
   },
   {
    "duration": 5,
    "start_time": "2023-05-03T19:25:53.894Z"
   },
   {
    "duration": 701,
    "start_time": "2023-05-03T19:25:53.901Z"
   },
   {
    "duration": 23,
    "start_time": "2023-05-03T19:25:54.605Z"
   },
   {
    "duration": 43,
    "start_time": "2023-05-03T19:25:54.629Z"
   },
   {
    "duration": 11,
    "start_time": "2023-05-03T19:25:54.676Z"
   },
   {
    "duration": 0,
    "start_time": "2023-05-03T19:25:54.689Z"
   },
   {
    "duration": 0,
    "start_time": "2023-05-03T19:25:54.691Z"
   },
   {
    "duration": 0,
    "start_time": "2023-05-03T19:25:54.692Z"
   },
   {
    "duration": 0,
    "start_time": "2023-05-03T19:25:54.694Z"
   },
   {
    "duration": 0,
    "start_time": "2023-05-03T19:25:54.695Z"
   },
   {
    "duration": 0,
    "start_time": "2023-05-03T19:25:54.696Z"
   },
   {
    "duration": 0,
    "start_time": "2023-05-03T19:25:54.698Z"
   },
   {
    "duration": 0,
    "start_time": "2023-05-03T19:25:54.699Z"
   },
   {
    "duration": 0,
    "start_time": "2023-05-03T19:25:54.700Z"
   },
   {
    "duration": 0,
    "start_time": "2023-05-03T19:25:54.702Z"
   },
   {
    "duration": 0,
    "start_time": "2023-05-03T19:25:54.703Z"
   },
   {
    "duration": 0,
    "start_time": "2023-05-03T19:25:54.705Z"
   },
   {
    "duration": 0,
    "start_time": "2023-05-03T19:25:54.706Z"
   },
   {
    "duration": 0,
    "start_time": "2023-05-03T19:25:54.708Z"
   },
   {
    "duration": 0,
    "start_time": "2023-05-03T19:25:54.708Z"
   },
   {
    "duration": 18,
    "start_time": "2023-05-03T19:26:11.762Z"
   },
   {
    "duration": 14,
    "start_time": "2023-05-03T19:26:11.782Z"
   },
   {
    "duration": 17,
    "start_time": "2023-05-03T19:26:11.798Z"
   },
   {
    "duration": 43,
    "start_time": "2023-05-03T19:26:11.817Z"
   },
   {
    "duration": 238,
    "start_time": "2023-05-03T19:26:11.864Z"
   },
   {
    "duration": 7,
    "start_time": "2023-05-03T19:26:12.104Z"
   },
   {
    "duration": 4,
    "start_time": "2023-05-03T19:26:12.112Z"
   },
   {
    "duration": 8,
    "start_time": "2023-05-03T19:26:12.117Z"
   },
   {
    "duration": 33,
    "start_time": "2023-05-03T19:26:12.126Z"
   },
   {
    "duration": 16,
    "start_time": "2023-05-03T19:26:12.161Z"
   },
   {
    "duration": 3,
    "start_time": "2023-05-03T19:26:12.178Z"
   },
   {
    "duration": 7,
    "start_time": "2023-05-03T19:26:12.182Z"
   },
   {
    "duration": 8,
    "start_time": "2023-05-03T19:26:12.190Z"
   },
   {
    "duration": 4,
    "start_time": "2023-05-03T19:26:12.200Z"
   },
   {
    "duration": 7,
    "start_time": "2023-05-03T19:26:12.206Z"
   },
   {
    "duration": 15,
    "start_time": "2023-05-03T19:26:12.215Z"
   },
   {
    "duration": 33,
    "start_time": "2023-05-03T19:26:12.232Z"
   },
   {
    "duration": 264,
    "start_time": "2023-05-03T19:26:12.266Z"
   },
   {
    "duration": 27,
    "start_time": "2023-05-03T19:26:12.532Z"
   },
   {
    "duration": 0,
    "start_time": "2023-05-03T19:26:12.561Z"
   },
   {
    "duration": 0,
    "start_time": "2023-05-03T19:26:12.564Z"
   },
   {
    "duration": 0,
    "start_time": "2023-05-03T19:26:12.565Z"
   },
   {
    "duration": 3,
    "start_time": "2023-05-03T19:26:52.262Z"
   },
   {
    "duration": 5,
    "start_time": "2023-05-03T19:26:53.987Z"
   },
   {
    "duration": 5,
    "start_time": "2023-05-03T19:26:55.382Z"
   },
   {
    "duration": 12,
    "start_time": "2023-05-03T20:18:04.921Z"
   },
   {
    "duration": 9,
    "start_time": "2023-05-03T20:18:32.447Z"
   },
   {
    "duration": 14,
    "start_time": "2023-05-03T20:18:40.372Z"
   },
   {
    "duration": 9,
    "start_time": "2023-05-03T20:18:48.671Z"
   },
   {
    "duration": 13,
    "start_time": "2023-05-03T20:18:56.247Z"
   },
   {
    "duration": 13,
    "start_time": "2023-05-03T20:19:07.010Z"
   },
   {
    "duration": 212,
    "start_time": "2023-05-03T20:19:16.087Z"
   },
   {
    "duration": 7,
    "start_time": "2023-05-03T20:19:28.373Z"
   },
   {
    "duration": 13,
    "start_time": "2023-05-03T20:20:15.816Z"
   },
   {
    "duration": 3,
    "start_time": "2023-05-03T20:20:30.134Z"
   },
   {
    "duration": 11,
    "start_time": "2023-05-03T20:20:30.140Z"
   },
   {
    "duration": 15,
    "start_time": "2023-05-03T20:20:30.152Z"
   },
   {
    "duration": 700,
    "start_time": "2023-05-03T20:20:30.169Z"
   },
   {
    "duration": 19,
    "start_time": "2023-05-03T20:20:30.871Z"
   },
   {
    "duration": 44,
    "start_time": "2023-05-03T20:20:30.892Z"
   },
   {
    "duration": 50,
    "start_time": "2023-05-03T20:20:30.937Z"
   },
   {
    "duration": 38,
    "start_time": "2023-05-03T20:20:30.989Z"
   },
   {
    "duration": 44,
    "start_time": "2023-05-03T20:20:31.029Z"
   },
   {
    "duration": 38,
    "start_time": "2023-05-03T20:20:31.075Z"
   },
   {
    "duration": 242,
    "start_time": "2023-05-03T20:20:31.116Z"
   },
   {
    "duration": 7,
    "start_time": "2023-05-03T20:20:31.359Z"
   },
   {
    "duration": 60,
    "start_time": "2023-05-03T20:20:31.368Z"
   },
   {
    "duration": 41,
    "start_time": "2023-05-03T20:20:31.430Z"
   },
   {
    "duration": 24,
    "start_time": "2023-05-03T20:20:31.473Z"
   },
   {
    "duration": 43,
    "start_time": "2023-05-03T20:20:31.499Z"
   },
   {
    "duration": 66,
    "start_time": "2023-05-03T20:20:31.543Z"
   },
   {
    "duration": 44,
    "start_time": "2023-05-03T20:20:31.611Z"
   },
   {
    "duration": 35,
    "start_time": "2023-05-03T20:20:31.657Z"
   },
   {
    "duration": 31,
    "start_time": "2023-05-03T20:20:31.693Z"
   },
   {
    "duration": 26,
    "start_time": "2023-05-03T20:20:31.725Z"
   },
   {
    "duration": 75,
    "start_time": "2023-05-03T20:20:31.752Z"
   },
   {
    "duration": 34,
    "start_time": "2023-05-03T20:20:31.829Z"
   },
   {
    "duration": 221,
    "start_time": "2023-05-03T20:20:31.865Z"
   },
   {
    "duration": 7,
    "start_time": "2023-05-03T20:20:32.087Z"
   },
   {
    "duration": 13,
    "start_time": "2023-05-03T20:20:35.274Z"
   },
   {
    "duration": 7,
    "start_time": "2023-05-03T20:21:15.406Z"
   },
   {
    "duration": 15,
    "start_time": "2023-05-03T20:21:17.377Z"
   },
   {
    "duration": 3,
    "start_time": "2023-05-03T20:21:24.261Z"
   },
   {
    "duration": 15,
    "start_time": "2023-05-03T20:21:24.270Z"
   },
   {
    "duration": 16,
    "start_time": "2023-05-03T20:21:24.286Z"
   },
   {
    "duration": 692,
    "start_time": "2023-05-03T20:21:24.303Z"
   },
   {
    "duration": 18,
    "start_time": "2023-05-03T20:21:24.997Z"
   },
   {
    "duration": 19,
    "start_time": "2023-05-03T20:21:25.017Z"
   },
   {
    "duration": 20,
    "start_time": "2023-05-03T20:21:25.051Z"
   },
   {
    "duration": 12,
    "start_time": "2023-05-03T20:21:25.073Z"
   },
   {
    "duration": 18,
    "start_time": "2023-05-03T20:21:25.087Z"
   },
   {
    "duration": 42,
    "start_time": "2023-05-03T20:21:25.107Z"
   },
   {
    "duration": 239,
    "start_time": "2023-05-03T20:21:25.151Z"
   },
   {
    "duration": 7,
    "start_time": "2023-05-03T20:21:25.391Z"
   },
   {
    "duration": 27,
    "start_time": "2023-05-03T20:21:25.400Z"
   },
   {
    "duration": 6,
    "start_time": "2023-05-03T20:21:25.428Z"
   },
   {
    "duration": 7,
    "start_time": "2023-05-03T20:21:25.436Z"
   },
   {
    "duration": 10,
    "start_time": "2023-05-03T20:21:25.444Z"
   },
   {
    "duration": 3,
    "start_time": "2023-05-03T20:21:25.455Z"
   },
   {
    "duration": 5,
    "start_time": "2023-05-03T20:21:25.459Z"
   },
   {
    "duration": 5,
    "start_time": "2023-05-03T20:21:25.466Z"
   },
   {
    "duration": 3,
    "start_time": "2023-05-03T20:21:25.472Z"
   },
   {
    "duration": 7,
    "start_time": "2023-05-03T20:21:25.476Z"
   },
   {
    "duration": 15,
    "start_time": "2023-05-03T20:21:25.484Z"
   },
   {
    "duration": 10,
    "start_time": "2023-05-03T20:21:25.501Z"
   },
   {
    "duration": 225,
    "start_time": "2023-05-03T20:21:25.512Z"
   },
   {
    "duration": 9,
    "start_time": "2023-05-03T20:21:28.088Z"
   },
   {
    "duration": 13,
    "start_time": "2023-05-03T20:21:30.186Z"
   },
   {
    "duration": 2,
    "start_time": "2023-05-03T20:25:41.224Z"
   },
   {
    "duration": 4,
    "start_time": "2023-05-03T20:26:35.572Z"
   },
   {
    "duration": 6,
    "start_time": "2023-05-03T20:26:53.668Z"
   },
   {
    "duration": 12,
    "start_time": "2023-05-03T20:26:58.167Z"
   },
   {
    "duration": 2,
    "start_time": "2023-05-03T20:28:04.670Z"
   },
   {
    "duration": 214,
    "start_time": "2023-05-03T20:28:05.922Z"
   },
   {
    "duration": 11,
    "start_time": "2023-05-03T20:28:10.487Z"
   },
   {
    "duration": 7,
    "start_time": "2023-05-03T20:28:33.896Z"
   },
   {
    "duration": 12,
    "start_time": "2023-05-03T20:28:35.573Z"
   },
   {
    "duration": 5,
    "start_time": "2023-05-03T20:30:48.490Z"
   },
   {
    "duration": 4,
    "start_time": "2023-05-03T20:30:49.887Z"
   },
   {
    "duration": 16,
    "start_time": "2023-05-03T20:31:20.089Z"
   },
   {
    "duration": 45,
    "start_time": "2023-05-03T20:31:32.523Z"
   },
   {
    "duration": 108,
    "start_time": "2023-05-03T20:32:12.406Z"
   },
   {
    "duration": 18,
    "start_time": "2023-05-03T20:33:55.169Z"
   },
   {
    "duration": 21,
    "start_time": "2023-05-03T20:34:02.101Z"
   },
   {
    "duration": 24,
    "start_time": "2023-05-03T20:34:30.252Z"
   },
   {
    "duration": 31,
    "start_time": "2023-05-03T20:34:37.944Z"
   },
   {
    "duration": 120360,
    "start_time": "2023-05-03T20:34:46.489Z"
   },
   {
    "duration": 11,
    "start_time": "2023-05-03T20:39:41.809Z"
   },
   {
    "duration": 48,
    "start_time": "2023-05-03T20:49:35.494Z"
   },
   {
    "duration": 43,
    "start_time": "2023-05-03T20:49:42.222Z"
   },
   {
    "duration": 44,
    "start_time": "2023-05-03T20:49:46.659Z"
   },
   {
    "duration": 87772,
    "start_time": "2023-05-03T20:50:17.086Z"
   },
   {
    "duration": 13,
    "start_time": "2023-05-03T20:54:28.906Z"
   },
   {
    "duration": 95476,
    "start_time": "2023-05-03T20:58:38.472Z"
   },
   {
    "duration": 5,
    "start_time": "2023-05-03T21:04:34.091Z"
   },
   {
    "duration": 237,
    "start_time": "2023-05-03T21:14:30.924Z"
   },
   {
    "duration": 2234,
    "start_time": "2023-05-03T21:15:12.049Z"
   },
   {
    "duration": 1106,
    "start_time": "2023-05-03T21:15:24.966Z"
   },
   {
    "duration": 244,
    "start_time": "2023-05-03T21:15:33.326Z"
   },
   {
    "duration": 240,
    "start_time": "2023-05-03T21:15:42.833Z"
   },
   {
    "duration": 228,
    "start_time": "2023-05-03T21:16:22.329Z"
   },
   {
    "duration": 336,
    "start_time": "2023-05-03T21:16:45.668Z"
   },
   {
    "duration": 231,
    "start_time": "2023-05-03T21:16:53.076Z"
   },
   {
    "duration": 1591,
    "start_time": "2023-05-04T11:01:52.414Z"
   },
   {
    "duration": 2,
    "start_time": "2023-05-04T11:01:54.007Z"
   },
   {
    "duration": 448,
    "start_time": "2023-05-04T11:01:54.011Z"
   },
   {
    "duration": 3700,
    "start_time": "2023-05-04T11:01:54.463Z"
   },
   {
    "duration": 5,
    "start_time": "2023-05-04T11:02:19.786Z"
   },
   {
    "duration": 17,
    "start_time": "2023-05-04T11:02:27.825Z"
   },
   {
    "duration": 12,
    "start_time": "2023-05-04T11:02:30.333Z"
   },
   {
    "duration": 8,
    "start_time": "2023-05-04T11:02:40.859Z"
   },
   {
    "duration": 22,
    "start_time": "2023-05-04T11:02:40.868Z"
   },
   {
    "duration": 24,
    "start_time": "2023-05-04T11:02:40.892Z"
   },
   {
    "duration": 5,
    "start_time": "2023-05-04T11:02:40.919Z"
   },
   {
    "duration": 8,
    "start_time": "2023-05-04T11:02:40.926Z"
   },
   {
    "duration": 25,
    "start_time": "2023-05-04T11:02:40.949Z"
   },
   {
    "duration": 12,
    "start_time": "2023-05-04T11:02:40.976Z"
   },
   {
    "duration": 11,
    "start_time": "2023-05-04T11:02:40.990Z"
   },
   {
    "duration": 21,
    "start_time": "2023-05-04T11:02:41.003Z"
   },
   {
    "duration": 9,
    "start_time": "2023-05-04T11:02:41.025Z"
   },
   {
    "duration": 26,
    "start_time": "2023-05-04T11:02:41.037Z"
   },
   {
    "duration": 38,
    "start_time": "2023-05-04T11:02:41.066Z"
   },
   {
    "duration": 271,
    "start_time": "2023-05-04T11:02:41.108Z"
   },
   {
    "duration": 4,
    "start_time": "2023-05-04T11:02:41.380Z"
   },
   {
    "duration": 16,
    "start_time": "2023-05-04T11:02:41.385Z"
   },
   {
    "duration": 29,
    "start_time": "2023-05-04T11:02:41.402Z"
   },
   {
    "duration": 55,
    "start_time": "2023-05-04T11:02:41.433Z"
   },
   {
    "duration": 388261,
    "start_time": "2023-05-04T11:02:41.489Z"
   },
   {
    "duration": 181,
    "start_time": "2023-05-04T11:09:09.754Z"
   },
   {
    "duration": 126,
    "start_time": "2023-05-04T11:09:09.937Z"
   },
   {
    "duration": 0,
    "start_time": "2023-05-04T11:09:10.066Z"
   },
   {
    "duration": 0,
    "start_time": "2023-05-04T11:09:10.067Z"
   },
   {
    "duration": 0,
    "start_time": "2023-05-04T11:09:10.068Z"
   },
   {
    "duration": 360,
    "start_time": "2023-05-04T11:25:26.329Z"
   },
   {
    "duration": 380,
    "start_time": "2023-05-04T11:25:26.694Z"
   },
   {
    "duration": 399,
    "start_time": "2023-05-04T11:25:27.076Z"
   },
   {
    "duration": 302,
    "start_time": "2023-05-04T11:34:42.553Z"
   },
   {
    "duration": 252,
    "start_time": "2023-05-04T11:35:52.549Z"
   },
   {
    "duration": 266,
    "start_time": "2023-05-04T11:40:29.908Z"
   },
   {
    "duration": 8,
    "start_time": "2023-05-04T11:41:39.323Z"
   },
   {
    "duration": 132,
    "start_time": "2023-05-04T11:44:22.158Z"
   },
   {
    "duration": 151,
    "start_time": "2023-05-04T11:45:31.310Z"
   },
   {
    "duration": 157,
    "start_time": "2023-05-04T11:45:52.528Z"
   },
   {
    "duration": 220,
    "start_time": "2023-05-04T11:46:19.151Z"
   },
   {
    "duration": 145,
    "start_time": "2023-05-04T11:50:29.746Z"
   },
   {
    "duration": 165,
    "start_time": "2023-05-04T11:50:39.023Z"
   },
   {
    "duration": 149,
    "start_time": "2023-05-04T11:50:48.817Z"
   },
   {
    "duration": 168,
    "start_time": "2023-05-04T11:51:39.323Z"
   },
   {
    "duration": 160,
    "start_time": "2023-05-04T11:51:49.501Z"
   },
   {
    "duration": 167,
    "start_time": "2023-05-04T11:53:02.202Z"
   },
   {
    "duration": 162,
    "start_time": "2023-05-04T11:53:11.105Z"
   },
   {
    "duration": 103,
    "start_time": "2023-05-04T11:53:39.830Z"
   },
   {
    "duration": 204,
    "start_time": "2023-05-04T11:54:50.226Z"
   },
   {
    "duration": 168,
    "start_time": "2023-05-04T11:57:10.421Z"
   },
   {
    "duration": 215,
    "start_time": "2023-05-04T11:57:43.361Z"
   },
   {
    "duration": 149,
    "start_time": "2023-05-04T11:58:12.322Z"
   },
   {
    "duration": 124,
    "start_time": "2023-05-04T12:04:10.414Z"
   },
   {
    "duration": 168,
    "start_time": "2023-05-04T12:04:19.236Z"
   },
   {
    "duration": 137,
    "start_time": "2023-05-04T12:05:59.340Z"
   },
   {
    "duration": 10,
    "start_time": "2023-05-04T12:10:29.306Z"
   },
   {
    "duration": 10,
    "start_time": "2023-05-04T12:10:39.104Z"
   },
   {
    "duration": 10,
    "start_time": "2023-05-04T12:10:44.238Z"
   },
   {
    "duration": 253,
    "start_time": "2023-05-04T12:12:37.485Z"
   },
   {
    "duration": 18,
    "start_time": "2023-05-04T12:15:30.846Z"
   },
   {
    "duration": 760,
    "start_time": "2023-05-04T12:15:53.429Z"
   },
   {
    "duration": 112,
    "start_time": "2023-05-04T12:16:21.784Z"
   },
   {
    "duration": 103,
    "start_time": "2023-05-04T12:16:54.513Z"
   },
   {
    "duration": 130,
    "start_time": "2023-05-04T12:17:51.700Z"
   },
   {
    "duration": 129,
    "start_time": "2023-05-04T12:18:22.824Z"
   },
   {
    "duration": 117,
    "start_time": "2023-05-04T13:03:42.442Z"
   },
   {
    "duration": 119,
    "start_time": "2023-05-04T13:05:23.684Z"
   },
   {
    "duration": 13,
    "start_time": "2023-05-04T13:05:34.977Z"
   },
   {
    "duration": 4,
    "start_time": "2023-05-04T13:05:39.815Z"
   },
   {
    "duration": 231,
    "start_time": "2023-05-04T13:06:14.673Z"
   },
   {
    "duration": 114,
    "start_time": "2023-05-04T13:07:13.446Z"
   },
   {
    "duration": 117,
    "start_time": "2023-05-04T13:10:50.416Z"
   },
   {
    "duration": 113,
    "start_time": "2023-05-04T13:10:54.195Z"
   },
   {
    "duration": 1562,
    "start_time": "2023-05-04T13:16:51.534Z"
   },
   {
    "duration": 375,
    "start_time": "2023-05-04T13:19:13.668Z"
   },
   {
    "duration": 333,
    "start_time": "2023-05-04T13:19:19.179Z"
   },
   {
    "duration": 566,
    "start_time": "2023-05-04T13:19:24.849Z"
   },
   {
    "duration": 317,
    "start_time": "2023-05-04T13:48:19.682Z"
   },
   {
    "duration": 282,
    "start_time": "2023-05-04T13:51:08.120Z"
   },
   {
    "duration": 391,
    "start_time": "2023-05-04T13:52:09.174Z"
   },
   {
    "duration": 355,
    "start_time": "2023-05-04T13:52:22.504Z"
   },
   {
    "duration": 1351,
    "start_time": "2023-05-04T13:57:50.650Z"
   },
   {
    "duration": 150,
    "start_time": "2023-05-04T14:03:24.540Z"
   },
   {
    "duration": 349,
    "start_time": "2023-05-04T14:03:47.350Z"
   },
   {
    "duration": 203,
    "start_time": "2023-05-04T14:04:48.799Z"
   },
   {
    "duration": 238,
    "start_time": "2023-05-04T14:04:59.131Z"
   },
   {
    "duration": 239,
    "start_time": "2023-05-04T14:05:48.245Z"
   },
   {
    "duration": 283,
    "start_time": "2023-05-04T14:06:35.975Z"
   },
   {
    "duration": 391,
    "start_time": "2023-05-04T14:06:40.191Z"
   },
   {
    "duration": 241,
    "start_time": "2023-05-04T14:34:28.823Z"
   },
   {
    "duration": 239,
    "start_time": "2023-05-04T14:34:34.644Z"
   },
   {
    "duration": 258,
    "start_time": "2023-05-04T14:34:39.395Z"
   },
   {
    "duration": 249,
    "start_time": "2023-05-04T14:34:47.630Z"
   },
   {
    "duration": 287,
    "start_time": "2023-05-04T14:34:58.191Z"
   },
   {
    "duration": 386,
    "start_time": "2023-05-04T14:35:24.178Z"
   },
   {
    "duration": 230,
    "start_time": "2023-05-04T14:35:24.566Z"
   },
   {
    "duration": 235,
    "start_time": "2023-05-04T14:35:24.798Z"
   },
   {
    "duration": 3224,
    "start_time": "2023-05-04T14:35:34.192Z"
   },
   {
    "duration": 4,
    "start_time": "2023-05-04T14:36:49.025Z"
   },
   {
    "duration": 14,
    "start_time": "2023-05-04T14:36:50.493Z"
   },
   {
    "duration": 3,
    "start_time": "2023-05-04T14:37:07.963Z"
   },
   {
    "duration": 18,
    "start_time": "2023-05-04T14:37:09.289Z"
   },
   {
    "duration": 311,
    "start_time": "2023-05-04T14:37:38.363Z"
   },
   {
    "duration": 3,
    "start_time": "2023-05-04T14:38:33.864Z"
   },
   {
    "duration": 30,
    "start_time": "2023-05-04T14:38:33.869Z"
   },
   {
    "duration": 15,
    "start_time": "2023-05-04T14:38:33.900Z"
   },
   {
    "duration": 3375,
    "start_time": "2023-05-04T14:38:33.917Z"
   },
   {
    "duration": 20,
    "start_time": "2023-05-04T14:38:37.295Z"
   },
   {
    "duration": 34,
    "start_time": "2023-05-04T14:38:37.317Z"
   },
   {
    "duration": 22,
    "start_time": "2023-05-04T14:38:37.353Z"
   },
   {
    "duration": 13,
    "start_time": "2023-05-04T14:38:37.377Z"
   },
   {
    "duration": 21,
    "start_time": "2023-05-04T14:38:37.392Z"
   },
   {
    "duration": 34,
    "start_time": "2023-05-04T14:38:37.415Z"
   },
   {
    "duration": 268,
    "start_time": "2023-05-04T14:38:37.451Z"
   },
   {
    "duration": 18,
    "start_time": "2023-05-04T14:38:37.721Z"
   },
   {
    "duration": 6,
    "start_time": "2023-05-04T14:38:37.741Z"
   },
   {
    "duration": 22,
    "start_time": "2023-05-04T14:38:37.751Z"
   },
   {
    "duration": 7,
    "start_time": "2023-05-04T14:38:37.775Z"
   },
   {
    "duration": 7,
    "start_time": "2023-05-04T14:38:37.783Z"
   },
   {
    "duration": 4,
    "start_time": "2023-05-04T14:38:37.792Z"
   },
   {
    "duration": 6,
    "start_time": "2023-05-04T14:38:37.798Z"
   },
   {
    "duration": 8,
    "start_time": "2023-05-04T14:38:37.805Z"
   },
   {
    "duration": 4,
    "start_time": "2023-05-04T14:38:37.814Z"
   },
   {
    "duration": 7,
    "start_time": "2023-05-04T14:38:37.835Z"
   },
   {
    "duration": 25,
    "start_time": "2023-05-04T14:38:37.844Z"
   },
   {
    "duration": 6,
    "start_time": "2023-05-04T14:38:37.870Z"
   },
   {
    "duration": 7,
    "start_time": "2023-05-04T14:38:37.877Z"
   },
   {
    "duration": 19,
    "start_time": "2023-05-04T14:38:37.886Z"
   },
   {
    "duration": 300,
    "start_time": "2023-05-04T14:38:37.907Z"
   },
   {
    "duration": 3,
    "start_time": "2023-05-04T14:38:38.209Z"
   },
   {
    "duration": 301,
    "start_time": "2023-05-04T14:38:42.031Z"
   },
   {
    "duration": 22,
    "start_time": "2023-05-04T14:38:52.230Z"
   },
   {
    "duration": 3,
    "start_time": "2023-05-04T14:39:40.155Z"
   },
   {
    "duration": 274,
    "start_time": "2023-05-04T14:39:41.600Z"
   },
   {
    "duration": 3,
    "start_time": "2023-05-04T14:39:53.500Z"
   },
   {
    "duration": 3,
    "start_time": "2023-05-04T14:39:53.509Z"
   },
   {
    "duration": 3,
    "start_time": "2023-05-04T14:39:53.516Z"
   },
   {
    "duration": 775,
    "start_time": "2023-05-04T14:39:53.526Z"
   },
   {
    "duration": 17,
    "start_time": "2023-05-04T14:39:54.303Z"
   },
   {
    "duration": 29,
    "start_time": "2023-05-04T14:39:54.322Z"
   },
   {
    "duration": 27,
    "start_time": "2023-05-04T14:39:54.355Z"
   },
   {
    "duration": 13,
    "start_time": "2023-05-04T14:39:54.384Z"
   },
   {
    "duration": 56,
    "start_time": "2023-05-04T14:39:54.398Z"
   },
   {
    "duration": 18,
    "start_time": "2023-05-04T14:39:54.457Z"
   },
   {
    "duration": 435,
    "start_time": "2023-05-04T14:39:54.476Z"
   },
   {
    "duration": 8,
    "start_time": "2023-05-04T14:39:54.913Z"
   },
   {
    "duration": 13,
    "start_time": "2023-05-04T14:39:54.923Z"
   },
   {
    "duration": 20,
    "start_time": "2023-05-04T14:39:54.938Z"
   },
   {
    "duration": 8,
    "start_time": "2023-05-04T14:39:54.959Z"
   },
   {
    "duration": 12,
    "start_time": "2023-05-04T14:39:54.968Z"
   },
   {
    "duration": 6,
    "start_time": "2023-05-04T14:39:54.982Z"
   },
   {
    "duration": 7,
    "start_time": "2023-05-04T14:39:54.990Z"
   },
   {
    "duration": 8,
    "start_time": "2023-05-04T14:39:54.998Z"
   },
   {
    "duration": 6,
    "start_time": "2023-05-04T14:39:55.007Z"
   },
   {
    "duration": 20,
    "start_time": "2023-05-04T14:39:55.014Z"
   },
   {
    "duration": 23,
    "start_time": "2023-05-04T14:39:55.036Z"
   },
   {
    "duration": 12,
    "start_time": "2023-05-04T14:39:55.061Z"
   },
   {
    "duration": 10,
    "start_time": "2023-05-04T14:39:55.075Z"
   },
   {
    "duration": 15,
    "start_time": "2023-05-04T14:39:55.086Z"
   },
   {
    "duration": 266,
    "start_time": "2023-05-04T14:39:55.102Z"
   },
   {
    "duration": 3,
    "start_time": "2023-05-04T14:40:00.501Z"
   },
   {
    "duration": 426,
    "start_time": "2023-05-04T14:40:01.902Z"
   },
   {
    "duration": 6,
    "start_time": "2023-05-04T14:40:08.419Z"
   },
   {
    "duration": 12,
    "start_time": "2023-05-04T14:40:09.963Z"
   },
   {
    "duration": 34,
    "start_time": "2023-05-04T14:40:16.134Z"
   },
   {
    "duration": 264,
    "start_time": "2023-05-04T14:40:26.061Z"
   },
   {
    "duration": 264,
    "start_time": "2023-05-04T14:40:26.327Z"
   },
   {
    "duration": 333,
    "start_time": "2023-05-04T14:40:26.592Z"
   },
   {
    "duration": 244,
    "start_time": "2023-05-04T14:40:26.927Z"
   },
   {
    "duration": 248,
    "start_time": "2023-05-04T14:40:27.173Z"
   },
   {
    "duration": 227,
    "start_time": "2023-05-04T14:40:27.422Z"
   },
   {
    "duration": 240,
    "start_time": "2023-05-04T14:40:27.650Z"
   },
   {
    "duration": 231,
    "start_time": "2023-05-04T14:40:27.891Z"
   },
   {
    "duration": 106,
    "start_time": "2023-05-04T14:40:41.462Z"
   },
   {
    "duration": 4,
    "start_time": "2023-05-04T14:41:04.359Z"
   },
   {
    "duration": 17,
    "start_time": "2023-05-04T14:41:04.365Z"
   },
   {
    "duration": 11,
    "start_time": "2023-05-04T14:41:04.384Z"
   },
   {
    "duration": 779,
    "start_time": "2023-05-04T14:41:04.396Z"
   },
   {
    "duration": 19,
    "start_time": "2023-05-04T14:41:05.177Z"
   },
   {
    "duration": 21,
    "start_time": "2023-05-04T14:41:05.198Z"
   },
   {
    "duration": 46,
    "start_time": "2023-05-04T14:41:05.220Z"
   },
   {
    "duration": 52,
    "start_time": "2023-05-04T14:41:05.267Z"
   },
   {
    "duration": 44,
    "start_time": "2023-05-04T14:41:05.321Z"
   },
   {
    "duration": 57,
    "start_time": "2023-05-04T14:41:05.366Z"
   },
   {
    "duration": 287,
    "start_time": "2023-05-04T14:41:05.425Z"
   },
   {
    "duration": 8,
    "start_time": "2023-05-04T14:41:05.714Z"
   },
   {
    "duration": 21,
    "start_time": "2023-05-04T14:41:05.725Z"
   },
   {
    "duration": 21,
    "start_time": "2023-05-04T14:41:05.749Z"
   },
   {
    "duration": 12,
    "start_time": "2023-05-04T14:41:05.772Z"
   },
   {
    "duration": 34,
    "start_time": "2023-05-04T14:41:05.786Z"
   },
   {
    "duration": 30,
    "start_time": "2023-05-04T14:41:05.822Z"
   },
   {
    "duration": 25,
    "start_time": "2023-05-04T14:41:05.854Z"
   },
   {
    "duration": 21,
    "start_time": "2023-05-04T14:41:05.881Z"
   },
   {
    "duration": 47,
    "start_time": "2023-05-04T14:41:05.903Z"
   },
   {
    "duration": 23,
    "start_time": "2023-05-04T14:41:05.952Z"
   },
   {
    "duration": 63,
    "start_time": "2023-05-04T14:41:05.977Z"
   },
   {
    "duration": 39,
    "start_time": "2023-05-04T14:41:06.043Z"
   },
   {
    "duration": 36,
    "start_time": "2023-05-04T14:41:06.084Z"
   },
   {
    "duration": 49,
    "start_time": "2023-05-04T14:41:06.122Z"
   },
   {
    "duration": 285,
    "start_time": "2023-05-04T14:41:06.173Z"
   },
   {
    "duration": 4,
    "start_time": "2023-05-04T14:41:06.460Z"
   },
   {
    "duration": 20,
    "start_time": "2023-05-04T14:41:06.465Z"
   },
   {
    "duration": 53,
    "start_time": "2023-05-04T14:41:06.487Z"
   },
   {
    "duration": 39,
    "start_time": "2023-05-04T14:41:06.543Z"
   },
   {
    "duration": 521,
    "start_time": "2023-05-04T14:41:06.584Z"
   },
   {
    "duration": 302,
    "start_time": "2023-05-04T14:41:07.108Z"
   },
   {
    "duration": 318,
    "start_time": "2023-05-04T14:41:07.412Z"
   },
   {
    "duration": 288,
    "start_time": "2023-05-04T14:41:07.734Z"
   },
   {
    "duration": 141,
    "start_time": "2023-05-04T14:41:08.036Z"
   },
   {
    "duration": 236,
    "start_time": "2023-05-04T14:41:08.179Z"
   },
   {
    "duration": 450,
    "start_time": "2023-05-04T14:41:08.417Z"
   },
   {
    "duration": 264,
    "start_time": "2023-05-04T14:41:08.869Z"
   },
   {
    "duration": 105,
    "start_time": "2023-05-04T14:41:39.515Z"
   },
   {
    "duration": 104,
    "start_time": "2023-05-04T14:41:41.058Z"
   },
   {
    "duration": 6274,
    "start_time": "2023-05-04T14:41:55.649Z"
   },
   {
    "duration": 312,
    "start_time": "2023-05-04T14:43:01.554Z"
   },
   {
    "duration": 18,
    "start_time": "2023-05-04T14:44:58.655Z"
   },
   {
    "duration": 15,
    "start_time": "2023-05-04T14:45:14.808Z"
   },
   {
    "duration": 19,
    "start_time": "2023-05-04T14:45:22.251Z"
   },
   {
    "duration": 25,
    "start_time": "2023-05-04T14:45:31.545Z"
   },
   {
    "duration": 15,
    "start_time": "2023-05-04T16:00:11.597Z"
   },
   {
    "duration": 40,
    "start_time": "2023-05-04T16:00:31.448Z"
   },
   {
    "duration": 16,
    "start_time": "2023-05-04T16:10:47.931Z"
   },
   {
    "duration": 49,
    "start_time": "2023-05-04T16:17:01.473Z"
   },
   {
    "duration": 1346,
    "start_time": "2023-05-04T16:17:58.872Z"
   },
   {
    "duration": 34,
    "start_time": "2023-05-04T16:18:09.468Z"
   },
   {
    "duration": 7269,
    "start_time": "2023-05-04T16:18:30.729Z"
   },
   {
    "duration": 5,
    "start_time": "2023-05-04T16:19:02.617Z"
   },
   {
    "duration": 4,
    "start_time": "2023-05-04T16:20:45.320Z"
   },
   {
    "duration": 6,
    "start_time": "2023-05-04T16:20:45.326Z"
   },
   {
    "duration": 26,
    "start_time": "2023-05-04T16:20:45.336Z"
   },
   {
    "duration": 2162,
    "start_time": "2023-05-04T16:20:45.364Z"
   },
   {
    "duration": 31,
    "start_time": "2023-05-04T16:20:47.528Z"
   },
   {
    "duration": 17,
    "start_time": "2023-05-04T16:20:47.560Z"
   },
   {
    "duration": 24,
    "start_time": "2023-05-04T16:20:47.579Z"
   },
   {
    "duration": 29,
    "start_time": "2023-05-04T16:20:47.605Z"
   },
   {
    "duration": 31,
    "start_time": "2023-05-04T16:20:47.637Z"
   },
   {
    "duration": 21,
    "start_time": "2023-05-04T16:20:47.670Z"
   },
   {
    "duration": 302,
    "start_time": "2023-05-04T16:20:47.692Z"
   },
   {
    "duration": 12,
    "start_time": "2023-05-04T16:20:47.996Z"
   },
   {
    "duration": 5,
    "start_time": "2023-05-04T16:20:48.009Z"
   },
   {
    "duration": 26,
    "start_time": "2023-05-04T16:20:48.016Z"
   },
   {
    "duration": 13,
    "start_time": "2023-05-04T16:20:48.044Z"
   },
   {
    "duration": 8,
    "start_time": "2023-05-04T16:20:48.059Z"
   },
   {
    "duration": 10,
    "start_time": "2023-05-04T16:20:48.069Z"
   },
   {
    "duration": 13,
    "start_time": "2023-05-04T16:20:48.080Z"
   },
   {
    "duration": 9,
    "start_time": "2023-05-04T16:20:48.094Z"
   },
   {
    "duration": 6,
    "start_time": "2023-05-04T16:20:48.104Z"
   },
   {
    "duration": 8,
    "start_time": "2023-05-04T16:20:48.112Z"
   },
   {
    "duration": 31,
    "start_time": "2023-05-04T16:20:48.121Z"
   },
   {
    "duration": 8,
    "start_time": "2023-05-04T16:20:48.154Z"
   },
   {
    "duration": 10,
    "start_time": "2023-05-04T16:20:48.164Z"
   },
   {
    "duration": 18,
    "start_time": "2023-05-04T16:20:48.176Z"
   },
   {
    "duration": 270,
    "start_time": "2023-05-04T16:20:48.195Z"
   },
   {
    "duration": 3,
    "start_time": "2023-05-04T16:20:48.467Z"
   },
   {
    "duration": 15,
    "start_time": "2023-05-04T16:20:48.471Z"
   },
   {
    "duration": 16,
    "start_time": "2023-05-04T16:20:48.488Z"
   },
   {
    "duration": 44,
    "start_time": "2023-05-04T16:20:48.505Z"
   },
   {
    "duration": 264,
    "start_time": "2023-05-04T16:20:48.551Z"
   },
   {
    "duration": 272,
    "start_time": "2023-05-04T16:20:48.817Z"
   },
   {
    "duration": 459,
    "start_time": "2023-05-04T16:20:49.090Z"
   },
   {
    "duration": 235,
    "start_time": "2023-05-04T16:20:49.551Z"
   },
   {
    "duration": 132,
    "start_time": "2023-05-04T16:20:49.787Z"
   },
   {
    "duration": 260,
    "start_time": "2023-05-04T16:20:49.921Z"
   },
   {
    "duration": 221,
    "start_time": "2023-05-04T16:20:50.184Z"
   },
   {
    "duration": 251,
    "start_time": "2023-05-04T16:20:50.406Z"
   },
   {
    "duration": 4,
    "start_time": "2023-05-04T16:20:50.659Z"
   },
   {
    "duration": 39,
    "start_time": "2023-05-04T16:20:50.665Z"
   },
   {
    "duration": 113,
    "start_time": "2023-05-04T16:20:50.707Z"
   },
   {
    "duration": 41,
    "start_time": "2023-05-04T16:26:51.586Z"
   },
   {
    "duration": 15,
    "start_time": "2023-05-04T16:26:54.130Z"
   },
   {
    "duration": 25,
    "start_time": "2023-05-04T16:27:29.497Z"
   },
   {
    "duration": 29,
    "start_time": "2023-05-04T16:29:02.988Z"
   },
   {
    "duration": 16,
    "start_time": "2023-05-04T16:32:21.609Z"
   },
   {
    "duration": 5,
    "start_time": "2023-05-04T16:32:32.408Z"
   },
   {
    "duration": 15,
    "start_time": "2023-05-04T16:32:57.900Z"
   },
   {
    "duration": 4,
    "start_time": "2023-05-04T16:33:51.625Z"
   },
   {
    "duration": 4,
    "start_time": "2023-05-04T16:36:16.534Z"
   },
   {
    "duration": 4,
    "start_time": "2023-05-04T16:36:18.414Z"
   },
   {
    "duration": 6,
    "start_time": "2023-05-04T16:36:33.935Z"
   },
   {
    "duration": 5,
    "start_time": "2023-05-04T16:36:40.788Z"
   },
   {
    "duration": 1462,
    "start_time": "2023-05-04T21:19:07.660Z"
   },
   {
    "duration": 2,
    "start_time": "2023-05-04T21:19:09.124Z"
   },
   {
    "duration": 7,
    "start_time": "2023-05-04T21:19:09.127Z"
   },
   {
    "duration": 2825,
    "start_time": "2023-05-04T21:19:09.136Z"
   },
   {
    "duration": 22,
    "start_time": "2023-05-04T21:19:11.963Z"
   },
   {
    "duration": 15,
    "start_time": "2023-05-04T21:19:11.986Z"
   },
   {
    "duration": 17,
    "start_time": "2023-05-04T21:19:12.003Z"
   },
   {
    "duration": 17,
    "start_time": "2023-05-04T21:19:12.022Z"
   },
   {
    "duration": 18,
    "start_time": "2023-05-04T21:19:12.040Z"
   },
   {
    "duration": 15,
    "start_time": "2023-05-04T21:19:12.060Z"
   },
   {
    "duration": 270,
    "start_time": "2023-05-04T21:19:12.076Z"
   },
   {
    "duration": 8,
    "start_time": "2023-05-04T21:19:12.347Z"
   },
   {
    "duration": 4,
    "start_time": "2023-05-04T21:19:12.357Z"
   },
   {
    "duration": 9,
    "start_time": "2023-05-04T21:19:12.363Z"
   },
   {
    "duration": 7,
    "start_time": "2023-05-04T21:19:12.373Z"
   },
   {
    "duration": 10,
    "start_time": "2023-05-04T21:19:12.381Z"
   },
   {
    "duration": 2,
    "start_time": "2023-05-04T21:19:12.393Z"
   },
   {
    "duration": 5,
    "start_time": "2023-05-04T21:19:12.397Z"
   },
   {
    "duration": 33,
    "start_time": "2023-05-04T21:19:12.404Z"
   },
   {
    "duration": 5,
    "start_time": "2023-05-04T21:19:12.438Z"
   },
   {
    "duration": 13,
    "start_time": "2023-05-04T21:19:12.444Z"
   },
   {
    "duration": 17,
    "start_time": "2023-05-04T21:19:12.459Z"
   },
   {
    "duration": 11,
    "start_time": "2023-05-04T21:19:12.477Z"
   },
   {
    "duration": 9,
    "start_time": "2023-05-04T21:19:12.490Z"
   },
   {
    "duration": 14,
    "start_time": "2023-05-04T21:19:12.501Z"
   },
   {
    "duration": 232,
    "start_time": "2023-05-04T21:19:12.516Z"
   },
   {
    "duration": 2,
    "start_time": "2023-05-04T21:19:12.750Z"
   },
   {
    "duration": 13,
    "start_time": "2023-05-04T21:19:12.756Z"
   },
   {
    "duration": 21,
    "start_time": "2023-05-04T21:19:12.770Z"
   },
   {
    "duration": 26,
    "start_time": "2023-05-04T21:19:12.792Z"
   },
   {
    "duration": 314,
    "start_time": "2023-05-04T21:19:12.835Z"
   },
   {
    "duration": 238,
    "start_time": "2023-05-04T21:19:13.150Z"
   },
   {
    "duration": 243,
    "start_time": "2023-05-04T21:19:13.389Z"
   },
   {
    "duration": 205,
    "start_time": "2023-05-04T21:19:13.634Z"
   },
   {
    "duration": 130,
    "start_time": "2023-05-04T21:19:13.841Z"
   },
   {
    "duration": 189,
    "start_time": "2023-05-04T21:19:13.973Z"
   },
   {
    "duration": 284,
    "start_time": "2023-05-04T21:19:14.163Z"
   },
   {
    "duration": 239,
    "start_time": "2023-05-04T21:19:14.448Z"
   },
   {
    "duration": 3,
    "start_time": "2023-05-04T21:19:14.689Z"
   },
   {
    "duration": 21,
    "start_time": "2023-05-04T21:19:14.695Z"
   },
   {
    "duration": 111,
    "start_time": "2023-05-04T21:19:14.718Z"
   },
   {
    "duration": 103,
    "start_time": "2023-05-04T21:33:03.054Z"
   },
   {
    "duration": 90,
    "start_time": "2023-05-04T21:33:10.518Z"
   },
   {
    "duration": 105,
    "start_time": "2023-05-04T21:33:11.866Z"
   },
   {
    "duration": 27,
    "start_time": "2023-05-04T21:33:19.025Z"
   },
   {
    "duration": 3,
    "start_time": "2023-05-04T21:33:30.669Z"
   },
   {
    "duration": 8,
    "start_time": "2023-05-04T21:33:36.230Z"
   },
   {
    "duration": 114,
    "start_time": "2023-05-04T21:34:17.572Z"
   },
   {
    "duration": 114,
    "start_time": "2023-05-04T21:34:38.034Z"
   },
   {
    "duration": 4,
    "start_time": "2023-05-04T21:36:39.923Z"
   },
   {
    "duration": 38,
    "start_time": "2023-05-04T21:37:01.273Z"
   },
   {
    "duration": 4,
    "start_time": "2023-05-04T21:37:21.479Z"
   },
   {
    "duration": 15,
    "start_time": "2023-05-04T21:38:25.328Z"
   },
   {
    "duration": 4,
    "start_time": "2023-05-04T21:38:27.433Z"
   },
   {
    "duration": 10,
    "start_time": "2023-05-04T21:39:39.395Z"
   },
   {
    "duration": 12,
    "start_time": "2023-05-04T21:40:54.741Z"
   },
   {
    "duration": 9,
    "start_time": "2023-05-04T21:40:59.801Z"
   },
   {
    "duration": 2805,
    "start_time": "2023-05-04T21:42:05.122Z"
   },
   {
    "duration": 31,
    "start_time": "2023-05-04T21:42:45.075Z"
   },
   {
    "duration": 4,
    "start_time": "2023-05-04T21:42:51.296Z"
   },
   {
    "duration": 4,
    "start_time": "2023-05-04T21:42:53.373Z"
   },
   {
    "duration": 9,
    "start_time": "2023-05-04T21:43:51.217Z"
   },
   {
    "duration": 3,
    "start_time": "2023-05-04T21:44:03.038Z"
   },
   {
    "duration": 43,
    "start_time": "2023-05-04T22:01:24.335Z"
   },
   {
    "duration": 3,
    "start_time": "2023-05-04T22:11:47.207Z"
   },
   {
    "duration": 14,
    "start_time": "2023-05-04T22:11:49.401Z"
   },
   {
    "duration": 3,
    "start_time": "2023-05-04T22:12:29.240Z"
   },
   {
    "duration": 68,
    "start_time": "2023-05-04T22:12:31.110Z"
   },
   {
    "duration": 48,
    "start_time": "2023-05-04T22:12:37.765Z"
   },
   {
    "duration": 8,
    "start_time": "2023-05-04T22:12:42.444Z"
   },
   {
    "duration": 9,
    "start_time": "2023-05-04T22:12:47.342Z"
   },
   {
    "duration": 3,
    "start_time": "2023-05-04T22:12:51.211Z"
   },
   {
    "duration": 3,
    "start_time": "2023-05-04T22:12:52.716Z"
   },
   {
    "duration": 3,
    "start_time": "2023-05-04T22:15:26.469Z"
   },
   {
    "duration": 9,
    "start_time": "2023-05-04T22:24:29.510Z"
   },
   {
    "duration": 3,
    "start_time": "2023-05-04T22:25:59.082Z"
   },
   {
    "duration": 6,
    "start_time": "2023-05-04T22:26:31.031Z"
   },
   {
    "duration": 9,
    "start_time": "2023-05-04T22:27:38.124Z"
   },
   {
    "duration": 21,
    "start_time": "2023-05-04T22:27:44.008Z"
   },
   {
    "duration": 3,
    "start_time": "2023-05-04T22:28:05.857Z"
   },
   {
    "duration": 3,
    "start_time": "2023-05-04T22:28:07.069Z"
   },
   {
    "duration": 21,
    "start_time": "2023-05-04T22:28:08.709Z"
   },
   {
    "duration": 2,
    "start_time": "2023-05-04T22:29:50.314Z"
   },
   {
    "duration": 2,
    "start_time": "2023-05-04T22:29:52.381Z"
   },
   {
    "duration": 19,
    "start_time": "2023-05-04T22:29:54.184Z"
   },
   {
    "duration": 3,
    "start_time": "2023-05-04T22:34:08.353Z"
   },
   {
    "duration": 3,
    "start_time": "2023-05-04T22:47:47.897Z"
   },
   {
    "duration": 11,
    "start_time": "2023-05-04T22:47:49.964Z"
   },
   {
    "duration": 11,
    "start_time": "2023-05-04T22:48:23.400Z"
   },
   {
    "duration": 3,
    "start_time": "2023-05-04T22:48:27.550Z"
   },
   {
    "duration": 4,
    "start_time": "2023-05-04T22:49:21.548Z"
   },
   {
    "duration": 2,
    "start_time": "2023-05-04T22:49:27.524Z"
   },
   {
    "duration": 21,
    "start_time": "2023-05-04T22:49:34.326Z"
   },
   {
    "duration": 3,
    "start_time": "2023-05-04T22:53:05.072Z"
   },
   {
    "duration": 3,
    "start_time": "2023-05-04T22:53:07.089Z"
   },
   {
    "duration": 83,
    "start_time": "2023-05-04T22:56:23.725Z"
   },
   {
    "duration": 9,
    "start_time": "2023-05-04T22:56:31.631Z"
   },
   {
    "duration": 2,
    "start_time": "2023-05-04T22:56:35.128Z"
   },
   {
    "duration": 20,
    "start_time": "2023-05-04T22:56:36.974Z"
   },
   {
    "duration": 4,
    "start_time": "2023-05-04T22:56:59.994Z"
   },
   {
    "duration": 3,
    "start_time": "2023-05-04T22:57:01.098Z"
   },
   {
    "duration": 20,
    "start_time": "2023-05-04T22:57:03.556Z"
   },
   {
    "duration": 4,
    "start_time": "2023-05-04T22:57:30.569Z"
   },
   {
    "duration": 3,
    "start_time": "2023-05-04T22:57:31.880Z"
   },
   {
    "duration": 21,
    "start_time": "2023-05-04T22:57:33.272Z"
   },
   {
    "duration": 3,
    "start_time": "2023-05-04T22:58:27.069Z"
   },
   {
    "duration": 25,
    "start_time": "2023-05-04T22:58:29.969Z"
   },
   {
    "duration": 83,
    "start_time": "2023-05-04T23:01:32.928Z"
   },
   {
    "duration": 8,
    "start_time": "2023-05-04T23:01:49.334Z"
   },
   {
    "duration": 3,
    "start_time": "2023-05-04T23:01:56.054Z"
   },
   {
    "duration": 10,
    "start_time": "2023-05-04T23:01:57.896Z"
   },
   {
    "duration": 4,
    "start_time": "2023-05-04T23:02:06.340Z"
   },
   {
    "duration": 3,
    "start_time": "2023-05-04T23:02:08.023Z"
   },
   {
    "duration": 23,
    "start_time": "2023-05-04T23:02:10.628Z"
   },
   {
    "duration": 8,
    "start_time": "2023-05-04T23:04:05.797Z"
   },
   {
    "duration": 9,
    "start_time": "2023-05-04T23:04:40.113Z"
   },
   {
    "duration": 7,
    "start_time": "2023-05-04T23:04:45.818Z"
   },
   {
    "duration": 4,
    "start_time": "2023-05-04T23:05:53.864Z"
   },
   {
    "duration": 3,
    "start_time": "2023-05-04T23:05:56.803Z"
   },
   {
    "duration": 24,
    "start_time": "2023-05-04T23:05:59.046Z"
   },
   {
    "duration": 4,
    "start_time": "2023-05-04T23:08:30.637Z"
   },
   {
    "duration": 53,
    "start_time": "2023-05-04T23:08:33.718Z"
   },
   {
    "duration": 3,
    "start_time": "2023-05-04T23:08:51.336Z"
   },
   {
    "duration": 26,
    "start_time": "2023-05-04T23:08:53.642Z"
   },
   {
    "duration": 4,
    "start_time": "2023-05-04T23:15:26.345Z"
   },
   {
    "duration": 2,
    "start_time": "2023-05-04T23:15:27.506Z"
   },
   {
    "duration": 10215,
    "start_time": "2023-05-04T23:15:28.917Z"
   },
   {
    "duration": 3,
    "start_time": "2023-05-04T23:22:42.448Z"
   },
   {
    "duration": 9,
    "start_time": "2023-05-04T23:23:03.242Z"
   },
   {
    "duration": 3,
    "start_time": "2023-05-04T23:23:16.730Z"
   },
   {
    "duration": 11005,
    "start_time": "2023-05-04T23:23:19.103Z"
   },
   {
    "duration": 4,
    "start_time": "2023-05-04T23:25:57.649Z"
   },
   {
    "duration": 10438,
    "start_time": "2023-05-04T23:26:00.689Z"
   },
   {
    "duration": 4,
    "start_time": "2023-05-04T23:29:11.786Z"
   },
   {
    "duration": 2,
    "start_time": "2023-05-04T23:29:14.069Z"
   },
   {
    "duration": 10511,
    "start_time": "2023-05-04T23:29:17.231Z"
   },
   {
    "duration": 3,
    "start_time": "2023-05-04T23:35:20.839Z"
   },
   {
    "duration": 10628,
    "start_time": "2023-05-04T23:35:23.017Z"
   },
   {
    "duration": 3,
    "start_time": "2023-05-04T23:37:27.471Z"
   },
   {
    "duration": 2,
    "start_time": "2023-05-04T23:37:29.097Z"
   },
   {
    "duration": 10039,
    "start_time": "2023-05-04T23:37:33.777Z"
   },
   {
    "duration": 4,
    "start_time": "2023-05-04T23:37:44.574Z"
   },
   {
    "duration": 10330,
    "start_time": "2023-05-04T23:37:46.057Z"
   },
   {
    "duration": 1054,
    "start_time": "2023-05-04T23:39:20.925Z"
   },
   {
    "duration": 56,
    "start_time": "2023-05-04T23:39:21.980Z"
   },
   {
    "duration": 2,
    "start_time": "2023-05-04T23:39:22.038Z"
   },
   {
    "duration": 235,
    "start_time": "2023-05-04T23:39:22.042Z"
   },
   {
    "duration": 2923,
    "start_time": "2023-05-04T23:39:22.279Z"
   },
   {
    "duration": 29,
    "start_time": "2023-05-04T23:39:25.204Z"
   },
   {
    "duration": 17,
    "start_time": "2023-05-04T23:39:25.235Z"
   },
   {
    "duration": 23,
    "start_time": "2023-05-04T23:39:25.253Z"
   },
   {
    "duration": 52,
    "start_time": "2023-05-04T23:39:25.278Z"
   },
   {
    "duration": 29,
    "start_time": "2023-05-04T23:39:25.333Z"
   },
   {
    "duration": 37,
    "start_time": "2023-05-04T23:39:25.364Z"
   },
   {
    "duration": 295,
    "start_time": "2023-05-04T23:39:25.403Z"
   },
   {
    "duration": 9,
    "start_time": "2023-05-04T23:39:25.701Z"
   },
   {
    "duration": 28,
    "start_time": "2023-05-04T23:39:25.711Z"
   },
   {
    "duration": 21,
    "start_time": "2023-05-04T23:39:25.740Z"
   },
   {
    "duration": 33,
    "start_time": "2023-05-04T23:39:25.763Z"
   },
   {
    "duration": 23,
    "start_time": "2023-05-04T23:39:25.798Z"
   },
   {
    "duration": 8,
    "start_time": "2023-05-04T23:39:25.823Z"
   },
   {
    "duration": 20,
    "start_time": "2023-05-04T23:39:25.832Z"
   },
   {
    "duration": 28,
    "start_time": "2023-05-04T23:39:25.854Z"
   },
   {
    "duration": 23,
    "start_time": "2023-05-04T23:39:25.883Z"
   },
   {
    "duration": 30,
    "start_time": "2023-05-04T23:39:25.908Z"
   },
   {
    "duration": 54,
    "start_time": "2023-05-04T23:39:25.939Z"
   },
   {
    "duration": 36,
    "start_time": "2023-05-04T23:39:25.994Z"
   },
   {
    "duration": 22,
    "start_time": "2023-05-04T23:39:26.032Z"
   },
   {
    "duration": 46,
    "start_time": "2023-05-04T23:39:26.056Z"
   },
   {
    "duration": 237,
    "start_time": "2023-05-04T23:39:26.104Z"
   },
   {
    "duration": 3,
    "start_time": "2023-05-04T23:39:26.345Z"
   },
   {
    "duration": 23,
    "start_time": "2023-05-04T23:39:26.350Z"
   },
   {
    "duration": 18,
    "start_time": "2023-05-04T23:39:26.375Z"
   },
   {
    "duration": 39,
    "start_time": "2023-05-04T23:39:26.395Z"
   },
   {
    "duration": 354,
    "start_time": "2023-05-04T23:39:26.436Z"
   },
   {
    "duration": 274,
    "start_time": "2023-05-04T23:39:26.792Z"
   },
   {
    "duration": 289,
    "start_time": "2023-05-04T23:39:27.068Z"
   },
   {
    "duration": 235,
    "start_time": "2023-05-04T23:39:27.359Z"
   },
   {
    "duration": 134,
    "start_time": "2023-05-04T23:39:27.596Z"
   },
   {
    "duration": 209,
    "start_time": "2023-05-04T23:39:27.734Z"
   },
   {
    "duration": 309,
    "start_time": "2023-05-04T23:39:27.945Z"
   },
   {
    "duration": 247,
    "start_time": "2023-05-04T23:39:28.255Z"
   },
   {
    "duration": 4,
    "start_time": "2023-05-04T23:39:28.504Z"
   },
   {
    "duration": 11,
    "start_time": "2023-05-04T23:39:28.509Z"
   },
   {
    "duration": 127,
    "start_time": "2023-05-04T23:39:28.522Z"
   },
   {
    "duration": 36,
    "start_time": "2023-05-04T23:39:28.651Z"
   },
   {
    "duration": 6,
    "start_time": "2023-05-04T23:39:28.689Z"
   },
   {
    "duration": 13,
    "start_time": "2023-05-04T23:39:28.697Z"
   },
   {
    "duration": 2770,
    "start_time": "2023-05-04T23:39:28.713Z"
   },
   {
    "duration": 4,
    "start_time": "2023-05-04T23:39:31.486Z"
   },
   {
    "duration": 28,
    "start_time": "2023-05-04T23:39:31.492Z"
   },
   {
    "duration": 52,
    "start_time": "2023-05-04T23:39:31.522Z"
   },
   {
    "duration": 10385,
    "start_time": "2023-05-04T23:39:31.577Z"
   },
   {
    "duration": 7,
    "start_time": "2023-05-04T23:42:10.477Z"
   },
   {
    "duration": 2,
    "start_time": "2023-05-04T23:42:12.374Z"
   },
   {
    "duration": 1262,
    "start_time": "2023-05-04T23:42:36.023Z"
   },
   {
    "duration": 72,
    "start_time": "2023-05-04T23:42:37.286Z"
   },
   {
    "duration": 3,
    "start_time": "2023-05-04T23:42:37.359Z"
   },
   {
    "duration": 360,
    "start_time": "2023-05-04T23:42:37.364Z"
   },
   {
    "duration": 3325,
    "start_time": "2023-05-04T23:42:37.726Z"
   },
   {
    "duration": 26,
    "start_time": "2023-05-04T23:42:41.054Z"
   },
   {
    "duration": 17,
    "start_time": "2023-05-04T23:42:41.081Z"
   },
   {
    "duration": 18,
    "start_time": "2023-05-04T23:42:41.100Z"
   },
   {
    "duration": 26,
    "start_time": "2023-05-04T23:42:41.119Z"
   },
   {
    "duration": 19,
    "start_time": "2023-05-04T23:42:41.152Z"
   },
   {
    "duration": 21,
    "start_time": "2023-05-04T23:42:41.172Z"
   },
   {
    "duration": 303,
    "start_time": "2023-05-04T23:42:41.194Z"
   },
   {
    "duration": 8,
    "start_time": "2023-05-04T23:42:41.499Z"
   },
   {
    "duration": 5,
    "start_time": "2023-05-04T23:42:41.509Z"
   },
   {
    "duration": 26,
    "start_time": "2023-05-04T23:42:41.516Z"
   },
   {
    "duration": 9,
    "start_time": "2023-05-04T23:42:41.544Z"
   },
   {
    "duration": 12,
    "start_time": "2023-05-04T23:42:41.555Z"
   },
   {
    "duration": 3,
    "start_time": "2023-05-04T23:42:41.569Z"
   },
   {
    "duration": 15,
    "start_time": "2023-05-04T23:42:41.574Z"
   },
   {
    "duration": 7,
    "start_time": "2023-05-04T23:42:41.590Z"
   },
   {
    "duration": 11,
    "start_time": "2023-05-04T23:42:41.599Z"
   },
   {
    "duration": 8,
    "start_time": "2023-05-04T23:42:41.611Z"
   },
   {
    "duration": 45,
    "start_time": "2023-05-04T23:42:41.620Z"
   },
   {
    "duration": 6,
    "start_time": "2023-05-04T23:42:41.666Z"
   },
   {
    "duration": 6,
    "start_time": "2023-05-04T23:42:41.674Z"
   },
   {
    "duration": 18,
    "start_time": "2023-05-04T23:42:41.681Z"
   },
   {
    "duration": 239,
    "start_time": "2023-05-04T23:42:41.700Z"
   },
   {
    "duration": 6,
    "start_time": "2023-05-04T23:42:41.945Z"
   },
   {
    "duration": 11,
    "start_time": "2023-05-04T23:42:41.953Z"
   },
   {
    "duration": 12,
    "start_time": "2023-05-04T23:42:41.965Z"
   },
   {
    "duration": 25,
    "start_time": "2023-05-04T23:42:41.978Z"
   },
   {
    "duration": 360,
    "start_time": "2023-05-04T23:42:42.005Z"
   },
   {
    "duration": 246,
    "start_time": "2023-05-04T23:42:42.367Z"
   },
   {
    "duration": 264,
    "start_time": "2023-05-04T23:42:42.615Z"
   },
   {
    "duration": 223,
    "start_time": "2023-05-04T23:42:42.881Z"
   },
   {
    "duration": 137,
    "start_time": "2023-05-04T23:42:43.106Z"
   },
   {
    "duration": 211,
    "start_time": "2023-05-04T23:42:43.245Z"
   },
   {
    "duration": 308,
    "start_time": "2023-05-04T23:42:43.457Z"
   },
   {
    "duration": 218,
    "start_time": "2023-05-04T23:42:43.767Z"
   },
   {
    "duration": 4,
    "start_time": "2023-05-04T23:42:43.987Z"
   },
   {
    "duration": 12,
    "start_time": "2023-05-04T23:42:43.992Z"
   },
   {
    "duration": 110,
    "start_time": "2023-05-04T23:42:44.005Z"
   },
   {
    "duration": 43,
    "start_time": "2023-05-04T23:42:44.116Z"
   },
   {
    "duration": 5,
    "start_time": "2023-05-04T23:42:44.161Z"
   },
   {
    "duration": 7,
    "start_time": "2023-05-04T23:42:44.167Z"
   },
   {
    "duration": 3196,
    "start_time": "2023-05-04T23:42:44.175Z"
   },
   {
    "duration": 4,
    "start_time": "2023-05-04T23:42:47.375Z"
   },
   {
    "duration": 6,
    "start_time": "2023-05-04T23:42:47.381Z"
   },
   {
    "duration": 8,
    "start_time": "2023-05-04T23:46:02.449Z"
   },
   {
    "duration": 3,
    "start_time": "2023-05-04T23:47:39.056Z"
   },
   {
    "duration": 1098,
    "start_time": "2023-05-04T23:48:20.724Z"
   },
   {
    "duration": 62,
    "start_time": "2023-05-04T23:48:21.824Z"
   },
   {
    "duration": 3,
    "start_time": "2023-05-04T23:48:21.887Z"
   },
   {
    "duration": 274,
    "start_time": "2023-05-04T23:48:21.891Z"
   },
   {
    "duration": 3208,
    "start_time": "2023-05-04T23:48:22.167Z"
   },
   {
    "duration": 26,
    "start_time": "2023-05-04T23:48:25.377Z"
   },
   {
    "duration": 17,
    "start_time": "2023-05-04T23:48:25.405Z"
   },
   {
    "duration": 40,
    "start_time": "2023-05-04T23:48:25.423Z"
   },
   {
    "duration": 22,
    "start_time": "2023-05-04T23:48:25.464Z"
   },
   {
    "duration": 23,
    "start_time": "2023-05-04T23:48:25.488Z"
   },
   {
    "duration": 28,
    "start_time": "2023-05-04T23:48:25.513Z"
   },
   {
    "duration": 307,
    "start_time": "2023-05-04T23:48:25.544Z"
   },
   {
    "duration": 9,
    "start_time": "2023-05-04T23:48:25.852Z"
   },
   {
    "duration": 18,
    "start_time": "2023-05-04T23:48:25.865Z"
   },
   {
    "duration": 9,
    "start_time": "2023-05-04T23:48:25.885Z"
   },
   {
    "duration": 9,
    "start_time": "2023-05-04T23:48:25.895Z"
   },
   {
    "duration": 33,
    "start_time": "2023-05-04T23:48:25.905Z"
   },
   {
    "duration": 4,
    "start_time": "2023-05-04T23:48:25.941Z"
   },
   {
    "duration": 12,
    "start_time": "2023-05-04T23:48:25.948Z"
   },
   {
    "duration": 10,
    "start_time": "2023-05-04T23:48:25.962Z"
   },
   {
    "duration": 10,
    "start_time": "2023-05-04T23:48:25.973Z"
   },
   {
    "duration": 14,
    "start_time": "2023-05-04T23:48:25.984Z"
   },
   {
    "duration": 23,
    "start_time": "2023-05-04T23:48:25.999Z"
   },
   {
    "duration": 7,
    "start_time": "2023-05-04T23:48:26.023Z"
   },
   {
    "duration": 20,
    "start_time": "2023-05-04T23:48:26.032Z"
   },
   {
    "duration": 18,
    "start_time": "2023-05-04T23:48:26.053Z"
   },
   {
    "duration": 207,
    "start_time": "2023-05-04T23:48:26.072Z"
   },
   {
    "duration": 3,
    "start_time": "2023-05-04T23:48:26.280Z"
   },
   {
    "duration": 10,
    "start_time": "2023-05-04T23:48:26.285Z"
   },
   {
    "duration": 20,
    "start_time": "2023-05-04T23:48:26.297Z"
   },
   {
    "duration": 46,
    "start_time": "2023-05-04T23:48:26.319Z"
   },
   {
    "duration": 313,
    "start_time": "2023-05-04T23:48:26.367Z"
   },
   {
    "duration": 244,
    "start_time": "2023-05-04T23:48:26.681Z"
   },
   {
    "duration": 254,
    "start_time": "2023-05-04T23:48:26.934Z"
   },
   {
    "duration": 223,
    "start_time": "2023-05-04T23:48:27.190Z"
   },
   {
    "duration": 140,
    "start_time": "2023-05-04T23:48:27.415Z"
   },
   {
    "duration": 198,
    "start_time": "2023-05-04T23:48:27.556Z"
   },
   {
    "duration": 314,
    "start_time": "2023-05-04T23:48:27.756Z"
   },
   {
    "duration": 215,
    "start_time": "2023-05-04T23:48:28.072Z"
   },
   {
    "duration": 3,
    "start_time": "2023-05-04T23:48:28.289Z"
   },
   {
    "duration": 31,
    "start_time": "2023-05-04T23:48:28.295Z"
   },
   {
    "duration": 123,
    "start_time": "2023-05-04T23:48:28.328Z"
   },
   {
    "duration": 31,
    "start_time": "2023-05-04T23:48:28.454Z"
   },
   {
    "duration": 8,
    "start_time": "2023-05-04T23:48:28.486Z"
   },
   {
    "duration": 7,
    "start_time": "2023-05-04T23:48:28.496Z"
   },
   {
    "duration": 2795,
    "start_time": "2023-05-04T23:48:28.504Z"
   },
   {
    "duration": 3,
    "start_time": "2023-05-04T23:48:31.301Z"
   },
   {
    "duration": 31,
    "start_time": "2023-05-04T23:48:31.308Z"
   },
   {
    "duration": 52,
    "start_time": "2023-05-04T23:48:31.341Z"
   },
   {
    "duration": 10851,
    "start_time": "2023-05-04T23:48:38.432Z"
   },
   {
    "duration": 3,
    "start_time": "2023-05-05T01:13:52.582Z"
   },
   {
    "duration": 12,
    "start_time": "2023-05-05T01:13:52.587Z"
   },
   {
    "duration": 9,
    "start_time": "2023-05-05T01:13:52.600Z"
   },
   {
    "duration": 9,
    "start_time": "2023-05-05T01:13:52.610Z"
   },
   {
    "duration": 718,
    "start_time": "2023-05-05T01:13:52.620Z"
   },
   {
    "duration": 21,
    "start_time": "2023-05-05T01:13:53.340Z"
   },
   {
    "duration": 23,
    "start_time": "2023-05-05T01:13:53.363Z"
   },
   {
    "duration": 22,
    "start_time": "2023-05-05T01:13:53.388Z"
   },
   {
    "duration": 30,
    "start_time": "2023-05-05T01:13:53.413Z"
   },
   {
    "duration": 20,
    "start_time": "2023-05-05T01:13:53.445Z"
   },
   {
    "duration": 27,
    "start_time": "2023-05-05T01:13:53.466Z"
   },
   {
    "duration": 286,
    "start_time": "2023-05-05T01:13:53.494Z"
   },
   {
    "duration": 8,
    "start_time": "2023-05-05T01:13:53.782Z"
   },
   {
    "duration": 10,
    "start_time": "2023-05-05T01:13:53.792Z"
   },
   {
    "duration": 9,
    "start_time": "2023-05-05T01:13:53.804Z"
   },
   {
    "duration": 22,
    "start_time": "2023-05-05T01:13:53.815Z"
   },
   {
    "duration": 9,
    "start_time": "2023-05-05T01:13:53.838Z"
   },
   {
    "duration": 14,
    "start_time": "2023-05-05T01:13:53.848Z"
   },
   {
    "duration": 8,
    "start_time": "2023-05-05T01:13:53.863Z"
   },
   {
    "duration": 14,
    "start_time": "2023-05-05T01:13:53.872Z"
   },
   {
    "duration": 4,
    "start_time": "2023-05-05T01:13:53.888Z"
   },
   {
    "duration": 19,
    "start_time": "2023-05-05T01:13:53.893Z"
   },
   {
    "duration": 30,
    "start_time": "2023-05-05T01:13:53.913Z"
   },
   {
    "duration": 18,
    "start_time": "2023-05-05T01:13:53.946Z"
   },
   {
    "duration": 13,
    "start_time": "2023-05-05T01:13:53.965Z"
   },
   {
    "duration": 23,
    "start_time": "2023-05-05T01:13:53.980Z"
   },
   {
    "duration": 240,
    "start_time": "2023-05-05T01:13:54.004Z"
   },
   {
    "duration": 4,
    "start_time": "2023-05-05T01:13:54.245Z"
   },
   {
    "duration": 18,
    "start_time": "2023-05-05T01:13:54.250Z"
   },
   {
    "duration": 23,
    "start_time": "2023-05-05T01:13:54.271Z"
   },
   {
    "duration": 37,
    "start_time": "2023-05-05T01:13:54.295Z"
   },
   {
    "duration": 399,
    "start_time": "2023-05-05T01:13:54.335Z"
   },
   {
    "duration": 233,
    "start_time": "2023-05-05T01:13:54.736Z"
   },
   {
    "duration": 242,
    "start_time": "2023-05-05T01:13:54.971Z"
   },
   {
    "duration": 214,
    "start_time": "2023-05-05T01:13:55.215Z"
   },
   {
    "duration": 117,
    "start_time": "2023-05-05T01:13:55.431Z"
   },
   {
    "duration": 185,
    "start_time": "2023-05-05T01:13:55.550Z"
   },
   {
    "duration": 283,
    "start_time": "2023-05-05T01:13:55.737Z"
   },
   {
    "duration": 195,
    "start_time": "2023-05-05T01:13:56.021Z"
   },
   {
    "duration": 3,
    "start_time": "2023-05-05T01:13:56.217Z"
   },
   {
    "duration": 13,
    "start_time": "2023-05-05T01:13:56.221Z"
   },
   {
    "duration": 90,
    "start_time": "2023-05-05T01:13:56.235Z"
   },
   {
    "duration": 31,
    "start_time": "2023-05-05T01:13:56.326Z"
   },
   {
    "duration": 4,
    "start_time": "2023-05-05T01:13:56.358Z"
   },
   {
    "duration": 7,
    "start_time": "2023-05-05T01:13:56.363Z"
   },
   {
    "duration": 6,
    "start_time": "2023-05-05T01:13:56.372Z"
   },
   {
    "duration": 5,
    "start_time": "2023-05-05T01:13:56.379Z"
   },
   {
    "duration": 3,
    "start_time": "2023-05-05T01:19:37.603Z"
   },
   {
    "duration": 10564,
    "start_time": "2023-05-05T01:28:00.240Z"
   },
   {
    "duration": 7,
    "start_time": "2023-05-05T01:30:47.029Z"
   },
   {
    "duration": 6,
    "start_time": "2023-05-05T01:30:54.703Z"
   },
   {
    "duration": 24,
    "start_time": "2023-05-05T01:31:42.231Z"
   },
   {
    "duration": 7512,
    "start_time": "2023-05-05T01:31:56.556Z"
   },
   {
    "duration": 3,
    "start_time": "2023-05-05T01:33:45.185Z"
   },
   {
    "duration": 4,
    "start_time": "2023-05-05T01:33:45.204Z"
   },
   {
    "duration": 2,
    "start_time": "2023-05-05T01:33:45.225Z"
   },
   {
    "duration": 6,
    "start_time": "2023-05-05T01:33:45.245Z"
   },
   {
    "duration": 746,
    "start_time": "2023-05-05T01:33:45.272Z"
   },
   {
    "duration": 24,
    "start_time": "2023-05-05T01:33:46.020Z"
   },
   {
    "duration": 18,
    "start_time": "2023-05-05T01:33:46.045Z"
   },
   {
    "duration": 29,
    "start_time": "2023-05-05T01:33:46.065Z"
   },
   {
    "duration": 14,
    "start_time": "2023-05-05T01:33:46.095Z"
   },
   {
    "duration": 31,
    "start_time": "2023-05-05T01:33:46.111Z"
   },
   {
    "duration": 19,
    "start_time": "2023-05-05T01:33:46.144Z"
   },
   {
    "duration": 254,
    "start_time": "2023-05-05T01:33:46.164Z"
   },
   {
    "duration": 20,
    "start_time": "2023-05-05T01:33:46.420Z"
   },
   {
    "duration": 4,
    "start_time": "2023-05-05T01:33:46.443Z"
   },
   {
    "duration": 9,
    "start_time": "2023-05-05T01:33:46.448Z"
   },
   {
    "duration": 6,
    "start_time": "2023-05-05T01:33:46.459Z"
   },
   {
    "duration": 10,
    "start_time": "2023-05-05T01:33:46.467Z"
   },
   {
    "duration": 3,
    "start_time": "2023-05-05T01:33:46.478Z"
   },
   {
    "duration": 8,
    "start_time": "2023-05-05T01:33:46.482Z"
   },
   {
    "duration": 7,
    "start_time": "2023-05-05T01:33:46.492Z"
   },
   {
    "duration": 13,
    "start_time": "2023-05-05T01:33:46.501Z"
   },
   {
    "duration": 4,
    "start_time": "2023-05-05T01:33:46.535Z"
   },
   {
    "duration": 19,
    "start_time": "2023-05-05T01:33:46.540Z"
   },
   {
    "duration": 6,
    "start_time": "2023-05-05T01:33:46.560Z"
   },
   {
    "duration": 7,
    "start_time": "2023-05-05T01:33:46.567Z"
   },
   {
    "duration": 30,
    "start_time": "2023-05-05T01:33:46.575Z"
   },
   {
    "duration": 223,
    "start_time": "2023-05-05T01:33:46.607Z"
   },
   {
    "duration": 4,
    "start_time": "2023-05-05T01:33:46.832Z"
   },
   {
    "duration": 10,
    "start_time": "2023-05-05T01:33:46.837Z"
   },
   {
    "duration": 14,
    "start_time": "2023-05-05T01:33:46.848Z"
   },
   {
    "duration": 7291,
    "start_time": "2023-05-05T01:33:46.864Z"
   },
   {
    "duration": 515,
    "start_time": "2023-05-05T01:33:54.157Z"
   },
   {
    "duration": 559,
    "start_time": "2023-05-05T01:33:54.675Z"
   },
   {
    "duration": 278,
    "start_time": "2023-05-05T01:33:55.236Z"
   },
   {
    "duration": 203,
    "start_time": "2023-05-05T01:33:55.516Z"
   },
   {
    "duration": 129,
    "start_time": "2023-05-05T01:33:55.721Z"
   },
   {
    "duration": 205,
    "start_time": "2023-05-05T01:33:55.852Z"
   },
   {
    "duration": 192,
    "start_time": "2023-05-05T01:33:56.058Z"
   },
   {
    "duration": 311,
    "start_time": "2023-05-05T01:33:56.251Z"
   },
   {
    "duration": 2,
    "start_time": "2023-05-05T01:33:56.564Z"
   },
   {
    "duration": 7,
    "start_time": "2023-05-05T01:33:56.568Z"
   },
   {
    "duration": 13,
    "start_time": "2023-05-05T01:34:44.743Z"
   },
   {
    "duration": 8,
    "start_time": "2023-05-05T01:43:51.528Z"
   },
   {
    "duration": 7,
    "start_time": "2023-05-05T01:45:03.972Z"
   },
   {
    "duration": 97,
    "start_time": "2023-05-05T01:46:22.854Z"
   },
   {
    "duration": 8,
    "start_time": "2023-05-05T01:46:24.254Z"
   },
   {
    "duration": 9,
    "start_time": "2023-05-05T01:46:39.654Z"
   },
   {
    "duration": 3,
    "start_time": "2023-05-05T01:46:51.125Z"
   },
   {
    "duration": 4,
    "start_time": "2023-05-05T01:46:51.150Z"
   },
   {
    "duration": 3,
    "start_time": "2023-05-05T01:46:51.169Z"
   },
   {
    "duration": 2,
    "start_time": "2023-05-05T01:46:51.190Z"
   },
   {
    "duration": 686,
    "start_time": "2023-05-05T01:46:51.209Z"
   },
   {
    "duration": 19,
    "start_time": "2023-05-05T01:46:51.896Z"
   },
   {
    "duration": 26,
    "start_time": "2023-05-05T01:46:51.917Z"
   },
   {
    "duration": 19,
    "start_time": "2023-05-05T01:46:51.945Z"
   },
   {
    "duration": 16,
    "start_time": "2023-05-05T01:46:51.965Z"
   },
   {
    "duration": 19,
    "start_time": "2023-05-05T01:46:51.982Z"
   },
   {
    "duration": 37,
    "start_time": "2023-05-05T01:46:52.002Z"
   },
   {
    "duration": 268,
    "start_time": "2023-05-05T01:46:52.041Z"
   },
   {
    "duration": 11,
    "start_time": "2023-05-05T01:46:52.311Z"
   },
   {
    "duration": 5,
    "start_time": "2023-05-05T01:46:52.337Z"
   },
   {
    "duration": 13,
    "start_time": "2023-05-05T01:46:52.343Z"
   },
   {
    "duration": 11,
    "start_time": "2023-05-05T01:46:52.358Z"
   },
   {
    "duration": 11,
    "start_time": "2023-05-05T01:46:52.371Z"
   },
   {
    "duration": 3,
    "start_time": "2023-05-05T01:46:52.384Z"
   },
   {
    "duration": 9,
    "start_time": "2023-05-05T01:46:52.389Z"
   },
   {
    "duration": 40,
    "start_time": "2023-05-05T01:46:52.400Z"
   },
   {
    "duration": 5,
    "start_time": "2023-05-05T01:46:52.442Z"
   },
   {
    "duration": 9,
    "start_time": "2023-05-05T01:46:52.449Z"
   },
   {
    "duration": 23,
    "start_time": "2023-05-05T01:46:52.460Z"
   },
   {
    "duration": 6,
    "start_time": "2023-05-05T01:46:52.484Z"
   },
   {
    "duration": 6,
    "start_time": "2023-05-05T01:46:52.492Z"
   },
   {
    "duration": 43,
    "start_time": "2023-05-05T01:46:52.500Z"
   },
   {
    "duration": 214,
    "start_time": "2023-05-05T01:46:52.544Z"
   },
   {
    "duration": 3,
    "start_time": "2023-05-05T01:46:52.759Z"
   },
   {
    "duration": 12,
    "start_time": "2023-05-05T01:46:52.763Z"
   },
   {
    "duration": 13,
    "start_time": "2023-05-05T01:46:52.776Z"
   },
   {
    "duration": 7721,
    "start_time": "2023-05-05T01:46:52.790Z"
   },
   {
    "duration": 564,
    "start_time": "2023-05-05T01:47:00.517Z"
   },
   {
    "duration": 508,
    "start_time": "2023-05-05T01:47:01.082Z"
   },
   {
    "duration": 415,
    "start_time": "2023-05-05T01:47:01.592Z"
   },
   {
    "duration": 216,
    "start_time": "2023-05-05T01:47:02.008Z"
   },
   {
    "duration": 134,
    "start_time": "2023-05-05T01:47:02.225Z"
   },
   {
    "duration": 196,
    "start_time": "2023-05-05T01:47:02.361Z"
   },
   {
    "duration": 193,
    "start_time": "2023-05-05T01:47:02.559Z"
   },
   {
    "duration": 205,
    "start_time": "2023-05-05T01:47:02.754Z"
   },
   {
    "duration": 3,
    "start_time": "2023-05-05T01:47:02.960Z"
   },
   {
    "duration": 17,
    "start_time": "2023-05-05T01:47:02.964Z"
   },
   {
    "duration": 108,
    "start_time": "2023-05-05T01:47:02.982Z"
   },
   {
    "duration": 10,
    "start_time": "2023-05-05T01:47:03.091Z"
   },
   {
    "duration": 38,
    "start_time": "2023-05-05T01:47:03.103Z"
   },
   {
    "duration": 4,
    "start_time": "2023-05-05T01:47:03.142Z"
   },
   {
    "duration": 8,
    "start_time": "2023-05-05T01:47:03.147Z"
   },
   {
    "duration": 3,
    "start_time": "2023-05-05T01:47:03.157Z"
   },
   {
    "duration": 15,
    "start_time": "2023-05-05T01:47:03.162Z"
   },
   {
    "duration": 3,
    "start_time": "2023-05-05T01:47:33.090Z"
   },
   {
    "duration": 10266,
    "start_time": "2023-05-05T01:47:36.349Z"
   },
   {
    "duration": 5,
    "start_time": "2023-05-05T01:48:00.847Z"
   },
   {
    "duration": 30,
    "start_time": "2023-05-05T01:48:51.766Z"
   },
   {
    "duration": 1351,
    "start_time": "2023-05-05T01:48:52.995Z"
   },
   {
    "duration": 31,
    "start_time": "2023-05-05T01:49:45.832Z"
   },
   {
    "duration": 156,
    "start_time": "2023-05-05T01:49:54.448Z"
   },
   {
    "duration": 102,
    "start_time": "2023-05-05T01:50:15.601Z"
   },
   {
    "duration": 8,
    "start_time": "2023-05-05T01:51:19.915Z"
   },
   {
    "duration": 12,
    "start_time": "2023-05-05T01:51:30.737Z"
   },
   {
    "duration": 41,
    "start_time": "2023-05-05T01:51:34.647Z"
   },
   {
    "duration": 7,
    "start_time": "2023-05-05T01:51:38.753Z"
   },
   {
    "duration": 7,
    "start_time": "2023-05-05T01:52:02.123Z"
   },
   {
    "duration": 54,
    "start_time": "2023-05-05T01:52:31.912Z"
   },
   {
    "duration": 9,
    "start_time": "2023-05-05T01:52:34.575Z"
   },
   {
    "duration": 8,
    "start_time": "2023-05-05T01:52:35.951Z"
   },
   {
    "duration": 5,
    "start_time": "2023-05-05T01:52:38.581Z"
   },
   {
    "duration": 3,
    "start_time": "2023-05-05T01:52:44.149Z"
   },
   {
    "duration": 25,
    "start_time": "2023-05-05T01:52:47.125Z"
   },
   {
    "duration": 101,
    "start_time": "2023-05-05T01:53:56.350Z"
   },
   {
    "duration": 52,
    "start_time": "2023-05-05T08:51:09.253Z"
   },
   {
    "duration": 1242,
    "start_time": "2023-05-05T08:59:22.924Z"
   },
   {
    "duration": 45,
    "start_time": "2023-05-05T08:59:24.168Z"
   },
   {
    "duration": 4,
    "start_time": "2023-05-05T08:59:24.215Z"
   },
   {
    "duration": 412,
    "start_time": "2023-05-05T08:59:24.221Z"
   },
   {
    "duration": 3033,
    "start_time": "2023-05-05T08:59:24.635Z"
   },
   {
    "duration": 23,
    "start_time": "2023-05-05T08:59:27.670Z"
   },
   {
    "duration": 17,
    "start_time": "2023-05-05T08:59:27.694Z"
   },
   {
    "duration": 17,
    "start_time": "2023-05-05T08:59:27.713Z"
   },
   {
    "duration": 28,
    "start_time": "2023-05-05T08:59:27.731Z"
   },
   {
    "duration": 20,
    "start_time": "2023-05-05T08:59:27.763Z"
   },
   {
    "duration": 25,
    "start_time": "2023-05-05T08:59:27.784Z"
   },
   {
    "duration": 346,
    "start_time": "2023-05-05T08:59:27.811Z"
   },
   {
    "duration": 10,
    "start_time": "2023-05-05T08:59:28.158Z"
   },
   {
    "duration": 5,
    "start_time": "2023-05-05T08:59:28.170Z"
   },
   {
    "duration": 9,
    "start_time": "2023-05-05T08:59:28.176Z"
   },
   {
    "duration": 8,
    "start_time": "2023-05-05T08:59:28.187Z"
   },
   {
    "duration": 13,
    "start_time": "2023-05-05T08:59:28.196Z"
   },
   {
    "duration": 39,
    "start_time": "2023-05-05T08:59:28.211Z"
   },
   {
    "duration": 6,
    "start_time": "2023-05-05T08:59:28.252Z"
   },
   {
    "duration": 11,
    "start_time": "2023-05-05T08:59:28.260Z"
   },
   {
    "duration": 9,
    "start_time": "2023-05-05T08:59:28.272Z"
   },
   {
    "duration": 6,
    "start_time": "2023-05-05T08:59:28.283Z"
   },
   {
    "duration": 23,
    "start_time": "2023-05-05T08:59:28.290Z"
   },
   {
    "duration": 5,
    "start_time": "2023-05-05T08:59:28.314Z"
   },
   {
    "duration": 28,
    "start_time": "2023-05-05T08:59:28.321Z"
   },
   {
    "duration": 15,
    "start_time": "2023-05-05T08:59:28.351Z"
   },
   {
    "duration": 290,
    "start_time": "2023-05-05T08:59:28.367Z"
   },
   {
    "duration": 3,
    "start_time": "2023-05-05T08:59:28.660Z"
   },
   {
    "duration": 9,
    "start_time": "2023-05-05T08:59:28.665Z"
   },
   {
    "duration": 12,
    "start_time": "2023-05-05T08:59:28.675Z"
   },
   {
    "duration": 36,
    "start_time": "2023-05-05T08:59:28.688Z"
   },
   {
    "duration": 250,
    "start_time": "2023-05-05T08:59:28.748Z"
   },
   {
    "duration": 248,
    "start_time": "2023-05-05T08:59:29.000Z"
   },
   {
    "duration": 253,
    "start_time": "2023-05-05T08:59:29.250Z"
   },
   {
    "duration": 230,
    "start_time": "2023-05-05T08:59:29.505Z"
   },
   {
    "duration": 148,
    "start_time": "2023-05-05T08:59:29.737Z"
   },
   {
    "duration": 274,
    "start_time": "2023-05-05T08:59:29.886Z"
   },
   {
    "duration": 195,
    "start_time": "2023-05-05T08:59:30.162Z"
   },
   {
    "duration": 207,
    "start_time": "2023-05-05T08:59:30.359Z"
   },
   {
    "duration": 4,
    "start_time": "2023-05-05T08:59:30.567Z"
   },
   {
    "duration": 28,
    "start_time": "2023-05-05T08:59:30.573Z"
   },
   {
    "duration": 115,
    "start_time": "2023-05-05T08:59:30.603Z"
   },
   {
    "duration": 32,
    "start_time": "2023-05-05T08:59:30.720Z"
   },
   {
    "duration": 11,
    "start_time": "2023-05-05T08:59:30.754Z"
   },
   {
    "duration": 7,
    "start_time": "2023-05-05T09:00:07.044Z"
   },
   {
    "duration": 19,
    "start_time": "2023-05-05T09:00:43.877Z"
   },
   {
    "duration": 23,
    "start_time": "2023-05-05T09:01:30.331Z"
   },
   {
    "duration": 81,
    "start_time": "2023-05-05T09:02:19.943Z"
   },
   {
    "duration": 18,
    "start_time": "2023-05-05T09:04:13.990Z"
   },
   {
    "duration": 18,
    "start_time": "2023-05-05T09:06:19.551Z"
   },
   {
    "duration": 20,
    "start_time": "2023-05-05T09:07:29.740Z"
   },
   {
    "duration": 8,
    "start_time": "2023-05-05T09:17:58.112Z"
   },
   {
    "duration": 10,
    "start_time": "2023-05-05T09:18:41.759Z"
   },
   {
    "duration": 13,
    "start_time": "2023-05-05T09:19:32.036Z"
   },
   {
    "duration": 15,
    "start_time": "2023-05-05T09:19:57.086Z"
   },
   {
    "duration": 12,
    "start_time": "2023-05-05T09:20:08.679Z"
   },
   {
    "duration": 19,
    "start_time": "2023-05-05T09:20:56.428Z"
   },
   {
    "duration": 17,
    "start_time": "2023-05-05T09:23:29.717Z"
   },
   {
    "duration": 22,
    "start_time": "2023-05-05T09:23:47.496Z"
   },
   {
    "duration": 1120,
    "start_time": "2023-05-05T09:26:44.068Z"
   },
   {
    "duration": 33,
    "start_time": "2023-05-05T09:27:27.137Z"
   },
   {
    "duration": 25,
    "start_time": "2023-05-05T09:30:17.356Z"
   },
   {
    "duration": 17,
    "start_time": "2023-05-05T09:31:38.410Z"
   },
   {
    "duration": 30,
    "start_time": "2023-05-05T09:32:00.373Z"
   },
   {
    "duration": 18,
    "start_time": "2023-05-05T09:35:23.204Z"
   },
   {
    "duration": 16,
    "start_time": "2023-05-05T09:36:45.713Z"
   },
   {
    "duration": 25,
    "start_time": "2023-05-05T09:38:15.456Z"
   },
   {
    "duration": 23,
    "start_time": "2023-05-05T09:38:51.200Z"
   },
   {
    "duration": 6,
    "start_time": "2023-05-05T09:39:08.963Z"
   },
   {
    "duration": 105,
    "start_time": "2023-05-05T09:42:28.035Z"
   },
   {
    "duration": 32,
    "start_time": "2023-05-05T09:43:55.311Z"
   },
   {
    "duration": 39,
    "start_time": "2023-05-05T09:44:14.922Z"
   },
   {
    "duration": 8,
    "start_time": "2023-05-05T09:45:38.610Z"
   },
   {
    "duration": 22,
    "start_time": "2023-05-05T09:45:40.951Z"
   },
   {
    "duration": 7,
    "start_time": "2023-05-05T09:46:16.408Z"
   },
   {
    "duration": 11,
    "start_time": "2023-05-05T09:46:18.643Z"
   },
   {
    "duration": 12,
    "start_time": "2023-05-05T09:46:27.491Z"
   },
   {
    "duration": 5,
    "start_time": "2023-05-05T09:47:24.205Z"
   },
   {
    "duration": 5,
    "start_time": "2023-05-05T09:47:25.858Z"
   },
   {
    "duration": 5,
    "start_time": "2023-05-05T09:47:36.384Z"
   },
   {
    "duration": 5,
    "start_time": "2023-05-05T09:47:40.890Z"
   },
   {
    "duration": 10,
    "start_time": "2023-05-05T09:48:13.928Z"
   },
   {
    "duration": 3,
    "start_time": "2023-05-05T09:48:20.969Z"
   },
   {
    "duration": 74835,
    "start_time": "2023-05-05T09:48:24.689Z"
   },
   {
    "duration": 76266,
    "start_time": "2023-05-05T10:42:13.912Z"
   },
   {
    "duration": 3,
    "start_time": "2023-05-05T10:44:24.928Z"
   },
   {
    "duration": 11,
    "start_time": "2023-05-05T10:46:50.516Z"
   },
   {
    "duration": 10,
    "start_time": "2023-05-05T10:46:59.772Z"
   },
   {
    "duration": 6,
    "start_time": "2023-05-05T10:56:50.170Z"
   },
   {
    "duration": 77040,
    "start_time": "2023-05-05T10:56:59.344Z"
   },
   {
    "duration": 4,
    "start_time": "2023-05-05T10:59:11.659Z"
   },
   {
    "duration": 4,
    "start_time": "2023-05-05T11:02:14.048Z"
   },
   {
    "duration": 5,
    "start_time": "2023-05-05T11:02:27.470Z"
   },
   {
    "duration": 74926,
    "start_time": "2023-05-05T11:19:54.196Z"
   },
   {
    "duration": 4,
    "start_time": "2023-05-05T11:24:03.064Z"
   },
   {
    "duration": 1717609,
    "start_time": "2023-05-05T11:27:11.222Z"
   },
   {
    "duration": 0,
    "start_time": "2023-05-05T11:55:48.833Z"
   },
   {
    "duration": 25595,
    "start_time": "2023-05-05T11:56:02.044Z"
   },
   {
    "duration": 2364633,
    "start_time": "2023-05-05T11:58:03.838Z"
   },
   {
    "duration": 25167,
    "start_time": "2023-05-05T12:39:06.994Z"
   },
   {
    "duration": 1099,
    "start_time": "2023-05-05T12:39:53.213Z"
   },
   {
    "duration": 57,
    "start_time": "2023-05-05T12:39:54.314Z"
   },
   {
    "duration": 3,
    "start_time": "2023-05-05T12:39:54.373Z"
   },
   {
    "duration": 310,
    "start_time": "2023-05-05T12:39:54.378Z"
   },
   {
    "duration": 697,
    "start_time": "2023-05-05T12:39:54.689Z"
   },
   {
    "duration": 23,
    "start_time": "2023-05-05T12:39:55.387Z"
   },
   {
    "duration": 22,
    "start_time": "2023-05-05T12:39:55.411Z"
   },
   {
    "duration": 21,
    "start_time": "2023-05-05T12:39:55.448Z"
   },
   {
    "duration": 20,
    "start_time": "2023-05-05T12:39:55.471Z"
   },
   {
    "duration": 22,
    "start_time": "2023-05-05T12:39:55.493Z"
   },
   {
    "duration": 41,
    "start_time": "2023-05-05T12:39:55.516Z"
   },
   {
    "duration": 259,
    "start_time": "2023-05-05T12:39:55.558Z"
   },
   {
    "duration": 8,
    "start_time": "2023-05-05T12:39:55.819Z"
   },
   {
    "duration": 21,
    "start_time": "2023-05-05T12:39:55.829Z"
   },
   {
    "duration": 10,
    "start_time": "2023-05-05T12:39:55.852Z"
   },
   {
    "duration": 23,
    "start_time": "2023-05-05T12:39:55.863Z"
   },
   {
    "duration": 35,
    "start_time": "2023-05-05T12:39:55.888Z"
   },
   {
    "duration": 6,
    "start_time": "2023-05-05T12:39:55.925Z"
   },
   {
    "duration": 12,
    "start_time": "2023-05-05T12:39:55.933Z"
   },
   {
    "duration": 12,
    "start_time": "2023-05-05T12:39:55.947Z"
   },
   {
    "duration": 12,
    "start_time": "2023-05-05T12:39:55.960Z"
   },
   {
    "duration": 22,
    "start_time": "2023-05-05T12:39:55.974Z"
   },
   {
    "duration": 53,
    "start_time": "2023-05-05T12:39:55.997Z"
   },
   {
    "duration": 20,
    "start_time": "2023-05-05T12:39:56.051Z"
   },
   {
    "duration": 20,
    "start_time": "2023-05-05T12:39:56.073Z"
   },
   {
    "duration": 16,
    "start_time": "2023-05-05T12:39:56.095Z"
   },
   {
    "duration": 209,
    "start_time": "2023-05-05T12:39:56.113Z"
   },
   {
    "duration": 3,
    "start_time": "2023-05-05T12:39:56.327Z"
   },
   {
    "duration": 18,
    "start_time": "2023-05-05T12:39:56.331Z"
   },
   {
    "duration": 16,
    "start_time": "2023-05-05T12:39:56.351Z"
   },
   {
    "duration": 46,
    "start_time": "2023-05-05T12:39:56.369Z"
   },
   {
    "duration": 334,
    "start_time": "2023-05-05T12:39:56.417Z"
   },
   {
    "duration": 237,
    "start_time": "2023-05-05T12:39:56.753Z"
   },
   {
    "duration": 259,
    "start_time": "2023-05-05T12:39:56.992Z"
   },
   {
    "duration": 209,
    "start_time": "2023-05-05T12:39:57.252Z"
   },
   {
    "duration": 151,
    "start_time": "2023-05-05T12:39:57.463Z"
   },
   {
    "duration": 192,
    "start_time": "2023-05-05T12:39:57.616Z"
   },
   {
    "duration": 284,
    "start_time": "2023-05-05T12:39:57.810Z"
   },
   {
    "duration": 209,
    "start_time": "2023-05-05T12:39:58.095Z"
   },
   {
    "duration": 4,
    "start_time": "2023-05-05T12:39:58.306Z"
   },
   {
    "duration": 13,
    "start_time": "2023-05-05T12:39:58.312Z"
   },
   {
    "duration": 18,
    "start_time": "2023-05-05T12:39:58.326Z"
   },
   {
    "duration": 20,
    "start_time": "2023-05-05T12:39:58.349Z"
   },
   {
    "duration": 49,
    "start_time": "2023-05-05T12:39:58.371Z"
   },
   {
    "duration": 46,
    "start_time": "2023-05-05T12:39:58.422Z"
   },
   {
    "duration": 6,
    "start_time": "2023-05-05T12:39:58.470Z"
   },
   {
    "duration": 11,
    "start_time": "2023-05-05T12:39:58.478Z"
   },
   {
    "duration": 22,
    "start_time": "2023-05-05T12:39:58.491Z"
   },
   {
    "duration": 5,
    "start_time": "2023-05-05T12:39:58.516Z"
   },
   {
    "duration": 76189,
    "start_time": "2023-05-05T12:39:58.523Z"
   },
   {
    "duration": 5,
    "start_time": "2023-05-05T12:41:14.714Z"
   },
   {
    "duration": 50603,
    "start_time": "2023-05-05T12:41:14.722Z"
   },
   {
    "duration": 13,
    "start_time": "2023-05-05T12:42:05.326Z"
   },
   {
    "duration": 0,
    "start_time": "2023-05-05T12:42:05.341Z"
   },
   {
    "duration": 0,
    "start_time": "2023-05-05T12:42:05.342Z"
   },
   {
    "duration": 3961,
    "start_time": "2023-05-05T12:42:46.501Z"
   },
   {
    "duration": 76547,
    "start_time": "2023-05-05T12:43:25.029Z"
   },
   {
    "duration": 5,
    "start_time": "2023-05-05T12:44:53.019Z"
   },
   {
    "duration": 78151,
    "start_time": "2023-05-05T12:44:55.871Z"
   },
   {
    "duration": 5,
    "start_time": "2023-05-05T12:46:54.281Z"
   },
   {
    "duration": 1799226,
    "start_time": "2023-05-05T12:47:03.342Z"
   },
   {
    "duration": 16,
    "start_time": "2023-05-05T13:29:08.073Z"
   },
   {
    "duration": 177,
    "start_time": "2023-05-05T13:29:18.305Z"
   },
   {
    "duration": 107,
    "start_time": "2023-05-05T13:29:28.503Z"
   },
   {
    "duration": 125,
    "start_time": "2023-05-05T13:30:25.035Z"
   },
   {
    "duration": 5,
    "start_time": "2023-05-05T13:30:48.867Z"
   },
   {
    "duration": 1748423,
    "start_time": "2023-05-05T13:30:52.818Z"
   },
   {
    "duration": 4,
    "start_time": "2023-05-05T14:10:12.769Z"
   },
   {
    "duration": 18,
    "start_time": "2023-05-05T14:10:20.920Z"
   },
   {
    "duration": 1531,
    "start_time": "2023-05-05T14:10:43.321Z"
   },
   {
    "duration": 1276,
    "start_time": "2023-05-05T14:11:16.491Z"
   },
   {
    "duration": 1244,
    "start_time": "2023-05-05T14:14:21.121Z"
   },
   {
    "duration": 940,
    "start_time": "2023-05-05T14:27:10.916Z"
   },
   {
    "duration": 22,
    "start_time": "2023-05-05T14:31:40.789Z"
   },
   {
    "duration": 25,
    "start_time": "2023-05-05T14:32:00.367Z"
   },
   {
    "duration": 2203,
    "start_time": "2023-05-05T14:32:17.742Z"
   },
   {
    "duration": 2207,
    "start_time": "2023-05-05T14:32:43.766Z"
   },
   {
    "duration": 15,
    "start_time": "2023-05-05T14:33:09.996Z"
   },
   {
    "duration": 2,
    "start_time": "2023-05-05T14:35:26.864Z"
   },
   {
    "duration": 7,
    "start_time": "2023-05-05T14:36:00.809Z"
   },
   {
    "duration": 7,
    "start_time": "2023-05-05T14:36:07.894Z"
   },
   {
    "duration": 5,
    "start_time": "2023-05-05T14:36:23.999Z"
   },
   {
    "duration": 43,
    "start_time": "2023-05-05T14:38:08.511Z"
   },
   {
    "duration": 6,
    "start_time": "2023-05-05T14:38:59.627Z"
   },
   {
    "duration": 3,
    "start_time": "2023-05-05T14:39:26.005Z"
   },
   {
    "duration": 13,
    "start_time": "2023-05-05T14:39:48.746Z"
   },
   {
    "duration": 3,
    "start_time": "2023-05-05T14:41:46.345Z"
   },
   {
    "duration": 20,
    "start_time": "2023-05-05T14:41:53.567Z"
   },
   {
    "duration": 4,
    "start_time": "2023-05-05T14:43:20.899Z"
   },
   {
    "duration": 19,
    "start_time": "2023-05-05T14:43:24.317Z"
   },
   {
    "duration": 4,
    "start_time": "2023-05-05T14:45:11.475Z"
   },
   {
    "duration": 7,
    "start_time": "2023-05-05T14:52:38.302Z"
   },
   {
    "duration": 66,
    "start_time": "2023-05-05T14:53:00.386Z"
   },
   {
    "duration": 9,
    "start_time": "2023-05-05T14:53:01.820Z"
   },
   {
    "duration": 4741,
    "start_time": "2023-05-05T15:16:59.812Z"
   },
   {
    "duration": 3,
    "start_time": "2023-05-05T15:17:26.690Z"
   },
   {
    "duration": 9,
    "start_time": "2023-05-05T15:17:26.694Z"
   },
   {
    "duration": 9,
    "start_time": "2023-05-05T15:17:26.704Z"
   },
   {
    "duration": 9,
    "start_time": "2023-05-05T15:17:26.715Z"
   },
   {
    "duration": 1217,
    "start_time": "2023-05-05T15:17:26.726Z"
   },
   {
    "duration": 32,
    "start_time": "2023-05-05T15:17:27.945Z"
   },
   {
    "duration": 18,
    "start_time": "2023-05-05T15:17:27.978Z"
   },
   {
    "duration": 17,
    "start_time": "2023-05-05T15:17:27.998Z"
   },
   {
    "duration": 15,
    "start_time": "2023-05-05T15:17:28.017Z"
   },
   {
    "duration": 37,
    "start_time": "2023-05-05T15:17:28.033Z"
   },
   {
    "duration": 17,
    "start_time": "2023-05-05T15:17:28.071Z"
   },
   {
    "duration": 249,
    "start_time": "2023-05-05T15:18:14.265Z"
   },
   {
    "duration": 9,
    "start_time": "2023-05-05T15:18:17.028Z"
   },
   {
    "duration": 220,
    "start_time": "2023-05-05T15:18:58.213Z"
   },
   {
    "duration": 252,
    "start_time": "2023-05-05T15:19:16.530Z"
   },
   {
    "duration": 321,
    "start_time": "2023-05-05T15:19:23.022Z"
   },
   {
    "duration": 263,
    "start_time": "2023-05-05T15:19:26.019Z"
   },
   {
    "duration": 139,
    "start_time": "2023-05-05T15:19:57.062Z"
   },
   {
    "duration": 221,
    "start_time": "2023-05-05T15:20:31.938Z"
   },
   {
    "duration": 155,
    "start_time": "2023-05-05T15:20:48.479Z"
   },
   {
    "duration": 342,
    "start_time": "2023-05-05T15:21:05.017Z"
   },
   {
    "duration": 303,
    "start_time": "2023-05-05T15:21:08.508Z"
   },
   {
    "duration": 377,
    "start_time": "2023-05-05T15:21:11.449Z"
   },
   {
    "duration": 43,
    "start_time": "2023-05-05T15:21:44.329Z"
   },
   {
    "duration": 4,
    "start_time": "2023-05-05T15:24:06.129Z"
   },
   {
    "duration": 39,
    "start_time": "2023-05-05T15:24:06.135Z"
   },
   {
    "duration": 7,
    "start_time": "2023-05-05T15:24:06.176Z"
   },
   {
    "duration": 6,
    "start_time": "2023-05-05T15:24:06.184Z"
   },
   {
    "duration": 726,
    "start_time": "2023-05-05T15:24:06.192Z"
   },
   {
    "duration": 19,
    "start_time": "2023-05-05T15:24:06.920Z"
   },
   {
    "duration": 46,
    "start_time": "2023-05-05T15:24:06.941Z"
   },
   {
    "duration": 20,
    "start_time": "2023-05-05T15:24:06.988Z"
   },
   {
    "duration": 13,
    "start_time": "2023-05-05T15:24:07.010Z"
   },
   {
    "duration": 31,
    "start_time": "2023-05-05T15:24:07.025Z"
   },
   {
    "duration": 49,
    "start_time": "2023-05-05T15:24:07.064Z"
   },
   {
    "duration": 250,
    "start_time": "2023-05-05T15:24:07.115Z"
   },
   {
    "duration": 8,
    "start_time": "2023-05-05T15:24:07.366Z"
   },
   {
    "duration": 5,
    "start_time": "2023-05-05T15:24:07.377Z"
   },
   {
    "duration": 10,
    "start_time": "2023-05-05T15:24:07.383Z"
   },
   {
    "duration": 8,
    "start_time": "2023-05-05T15:24:07.395Z"
   },
   {
    "duration": 10,
    "start_time": "2023-05-05T15:24:07.404Z"
   },
   {
    "duration": 3,
    "start_time": "2023-05-05T15:24:07.415Z"
   },
   {
    "duration": 31,
    "start_time": "2023-05-05T15:24:07.419Z"
   },
   {
    "duration": 23,
    "start_time": "2023-05-05T15:24:07.455Z"
   },
   {
    "duration": 7,
    "start_time": "2023-05-05T15:24:07.480Z"
   },
   {
    "duration": 5,
    "start_time": "2023-05-05T15:24:07.489Z"
   },
   {
    "duration": 21,
    "start_time": "2023-05-05T15:24:07.495Z"
   },
   {
    "duration": 7,
    "start_time": "2023-05-05T15:24:07.518Z"
   },
   {
    "duration": 5,
    "start_time": "2023-05-05T15:24:07.527Z"
   },
   {
    "duration": 22,
    "start_time": "2023-05-05T15:24:07.548Z"
   },
   {
    "duration": 221,
    "start_time": "2023-05-05T15:24:07.572Z"
   },
   {
    "duration": 3,
    "start_time": "2023-05-05T15:24:07.796Z"
   },
   {
    "duration": 9,
    "start_time": "2023-05-05T15:24:07.800Z"
   },
   {
    "duration": 13,
    "start_time": "2023-05-05T15:24:07.810Z"
   },
   {
    "duration": 57,
    "start_time": "2023-05-05T15:24:07.825Z"
   },
   {
    "duration": 246,
    "start_time": "2023-05-05T15:24:07.884Z"
   },
   {
    "duration": 246,
    "start_time": "2023-05-05T15:24:08.132Z"
   },
   {
    "duration": 347,
    "start_time": "2023-05-05T15:24:08.379Z"
   },
   {
    "duration": 232,
    "start_time": "2023-05-05T15:24:08.727Z"
   },
   {
    "duration": 158,
    "start_time": "2023-05-05T15:24:08.964Z"
   },
   {
    "duration": 195,
    "start_time": "2023-05-05T15:24:09.124Z"
   },
   {
    "duration": 206,
    "start_time": "2023-05-05T15:24:09.321Z"
   },
   {
    "duration": 217,
    "start_time": "2023-05-05T15:24:09.529Z"
   },
   {
    "duration": 19,
    "start_time": "2023-05-05T15:24:09.748Z"
   },
   {
    "duration": 20,
    "start_time": "2023-05-05T15:24:09.771Z"
   },
   {
    "duration": 47,
    "start_time": "2023-05-05T15:24:09.793Z"
   },
   {
    "duration": 46,
    "start_time": "2023-05-05T15:24:09.842Z"
   },
   {
    "duration": 44,
    "start_time": "2023-05-05T15:24:09.889Z"
   },
   {
    "duration": 130,
    "start_time": "2023-05-05T15:24:09.935Z"
   },
   {
    "duration": 6,
    "start_time": "2023-05-05T15:24:10.067Z"
   },
   {
    "duration": 8,
    "start_time": "2023-05-05T15:24:10.075Z"
   },
   {
    "duration": 7,
    "start_time": "2023-05-05T15:24:10.085Z"
   },
   {
    "duration": 974,
    "start_time": "2023-05-05T15:28:29.200Z"
   },
   {
    "duration": 4,
    "start_time": "2023-05-05T15:28:38.773Z"
   },
   {
    "duration": 27,
    "start_time": "2023-05-05T15:28:38.779Z"
   },
   {
    "duration": 762,
    "start_time": "2023-05-05T15:28:38.808Z"
   },
   {
    "duration": 17,
    "start_time": "2023-05-05T15:28:39.572Z"
   },
   {
    "duration": 72,
    "start_time": "2023-05-05T15:28:39.591Z"
   },
   {
    "duration": 19,
    "start_time": "2023-05-05T15:28:39.666Z"
   },
   {
    "duration": 23,
    "start_time": "2023-05-05T15:28:39.687Z"
   },
   {
    "duration": 44,
    "start_time": "2023-05-05T15:28:39.712Z"
   },
   {
    "duration": 61,
    "start_time": "2023-05-05T15:28:39.758Z"
   },
   {
    "duration": 309,
    "start_time": "2023-05-05T15:28:39.822Z"
   },
   {
    "duration": 7,
    "start_time": "2023-05-05T15:28:40.133Z"
   },
   {
    "duration": 43,
    "start_time": "2023-05-05T15:28:40.142Z"
   },
   {
    "duration": 26,
    "start_time": "2023-05-05T15:28:40.187Z"
   },
   {
    "duration": 51,
    "start_time": "2023-05-05T15:28:40.215Z"
   },
   {
    "duration": 22,
    "start_time": "2023-05-05T15:28:40.268Z"
   },
   {
    "duration": 30,
    "start_time": "2023-05-05T15:28:40.292Z"
   },
   {
    "duration": 35,
    "start_time": "2023-05-05T15:28:40.324Z"
   },
   {
    "duration": 7,
    "start_time": "2023-05-05T15:28:41.612Z"
   },
   {
    "duration": 265,
    "start_time": "2023-05-05T15:30:56.294Z"
   },
   {
    "duration": 354,
    "start_time": "2023-05-05T15:31:03.248Z"
   },
   {
    "duration": 212,
    "start_time": "2023-05-05T15:31:41.195Z"
   },
   {
    "duration": 213,
    "start_time": "2023-05-05T15:35:38.474Z"
   },
   {
    "duration": 478,
    "start_time": "2023-05-05T15:35:59.832Z"
   },
   {
    "duration": 216,
    "start_time": "2023-05-05T15:36:05.772Z"
   },
   {
    "duration": 207,
    "start_time": "2023-05-05T15:36:42.465Z"
   },
   {
    "duration": 204,
    "start_time": "2023-05-05T15:37:52.571Z"
   },
   {
    "duration": 47,
    "start_time": "2023-05-05T15:39:48.792Z"
   },
   {
    "duration": 41,
    "start_time": "2023-05-05T15:39:58.471Z"
   },
   {
    "duration": 211,
    "start_time": "2023-05-05T15:40:29.992Z"
   },
   {
    "duration": 317,
    "start_time": "2023-05-05T15:41:44.965Z"
   },
   {
    "duration": 205,
    "start_time": "2023-05-05T15:42:02.903Z"
   },
   {
    "duration": 203,
    "start_time": "2023-05-05T15:42:19.368Z"
   },
   {
    "duration": 211,
    "start_time": "2023-05-05T15:43:03.675Z"
   },
   {
    "duration": 208,
    "start_time": "2023-05-05T15:44:01.906Z"
   },
   {
    "duration": 203,
    "start_time": "2023-05-05T15:44:08.942Z"
   },
   {
    "duration": 36,
    "start_time": "2023-05-05T15:45:00.147Z"
   },
   {
    "duration": 2292,
    "start_time": "2023-05-05T16:09:54.942Z"
   },
   {
    "duration": 55,
    "start_time": "2023-05-05T19:50:41.308Z"
   },
   {
    "duration": 1760,
    "start_time": "2023-05-05T19:50:46.884Z"
   },
   {
    "duration": 4,
    "start_time": "2023-05-05T19:50:48.646Z"
   },
   {
    "duration": 2458,
    "start_time": "2023-05-05T19:50:48.651Z"
   },
   {
    "duration": 31,
    "start_time": "2023-05-05T19:50:51.111Z"
   },
   {
    "duration": 28,
    "start_time": "2023-05-05T19:50:51.145Z"
   },
   {
    "duration": 38,
    "start_time": "2023-05-05T19:50:51.179Z"
   },
   {
    "duration": 18,
    "start_time": "2023-05-05T19:50:51.219Z"
   },
   {
    "duration": 44,
    "start_time": "2023-05-05T19:50:51.239Z"
   },
   {
    "duration": 26,
    "start_time": "2023-05-05T19:50:51.284Z"
   },
   {
    "duration": 365,
    "start_time": "2023-05-05T19:50:51.312Z"
   },
   {
    "duration": 14,
    "start_time": "2023-05-05T19:50:51.682Z"
   },
   {
    "duration": 14,
    "start_time": "2023-05-05T19:50:51.698Z"
   },
   {
    "duration": 15,
    "start_time": "2023-05-05T19:50:51.714Z"
   },
   {
    "duration": 17,
    "start_time": "2023-05-05T19:50:51.732Z"
   },
   {
    "duration": 22,
    "start_time": "2023-05-05T19:50:51.751Z"
   },
   {
    "duration": 19,
    "start_time": "2023-05-05T19:50:51.779Z"
   },
   {
    "duration": 14,
    "start_time": "2023-05-05T19:50:51.801Z"
   },
   {
    "duration": 13,
    "start_time": "2023-05-05T19:50:51.818Z"
   },
   {
    "duration": 11,
    "start_time": "2023-05-05T19:50:51.833Z"
   },
   {
    "duration": 29,
    "start_time": "2023-05-05T19:50:51.846Z"
   },
   {
    "duration": 12,
    "start_time": "2023-05-05T19:50:51.877Z"
   },
   {
    "duration": 37,
    "start_time": "2023-05-05T19:50:51.891Z"
   },
   {
    "duration": 62,
    "start_time": "2023-05-05T19:50:51.930Z"
   },
   {
    "duration": 279,
    "start_time": "2023-05-05T19:50:51.994Z"
   },
   {
    "duration": 3,
    "start_time": "2023-05-05T19:50:52.279Z"
   },
   {
    "duration": 18,
    "start_time": "2023-05-05T19:50:52.285Z"
   },
   {
    "duration": 26,
    "start_time": "2023-05-05T19:50:52.306Z"
   },
   {
    "duration": 59,
    "start_time": "2023-05-05T19:50:52.334Z"
   },
   {
    "duration": 398,
    "start_time": "2023-05-05T19:50:52.397Z"
   },
   {
    "duration": 295,
    "start_time": "2023-05-05T19:50:52.797Z"
   },
   {
    "duration": 307,
    "start_time": "2023-05-05T19:50:53.093Z"
   },
   {
    "duration": 457,
    "start_time": "2023-05-05T19:50:57.446Z"
   },
   {
    "duration": 665,
    "start_time": "2023-05-05T19:51:21.672Z"
   },
   {
    "duration": 490,
    "start_time": "2023-05-05T20:11:26.104Z"
   },
   {
    "duration": 527,
    "start_time": "2023-05-05T20:11:32.677Z"
   },
   {
    "duration": 534,
    "start_time": "2023-05-05T20:11:38.001Z"
   },
   {
    "duration": 242,
    "start_time": "2023-05-05T20:12:57.800Z"
   },
   {
    "duration": 129,
    "start_time": "2023-05-05T20:18:22.204Z"
   },
   {
    "duration": 794,
    "start_time": "2023-05-05T20:18:30.415Z"
   },
   {
    "duration": 834,
    "start_time": "2023-05-05T20:18:39.201Z"
   },
   {
    "duration": 1119,
    "start_time": "2023-05-05T20:23:21.716Z"
   },
   {
    "duration": 908,
    "start_time": "2023-05-05T20:25:42.338Z"
   },
   {
    "duration": 1427,
    "start_time": "2023-05-05T20:43:40.586Z"
   },
   {
    "duration": 4,
    "start_time": "2023-05-05T20:43:47.120Z"
   },
   {
    "duration": 5,
    "start_time": "2023-05-05T20:43:47.126Z"
   },
   {
    "duration": 2255,
    "start_time": "2023-05-05T20:43:47.133Z"
   },
   {
    "duration": 22,
    "start_time": "2023-05-05T20:43:49.390Z"
   },
   {
    "duration": 181,
    "start_time": "2023-05-05T20:43:49.414Z"
   },
   {
    "duration": 23,
    "start_time": "2023-05-05T20:43:49.597Z"
   },
   {
    "duration": 25,
    "start_time": "2023-05-05T20:43:49.621Z"
   },
   {
    "duration": 31,
    "start_time": "2023-05-05T20:43:49.655Z"
   },
   {
    "duration": 20,
    "start_time": "2023-05-05T20:43:49.689Z"
   },
   {
    "duration": 291,
    "start_time": "2023-05-05T20:43:49.711Z"
   },
   {
    "duration": 10,
    "start_time": "2023-05-05T20:43:50.003Z"
   },
   {
    "duration": 15,
    "start_time": "2023-05-05T20:43:55.433Z"
   },
   {
    "duration": 15,
    "start_time": "2023-05-05T20:44:44.218Z"
   },
   {
    "duration": 6,
    "start_time": "2023-05-05T20:45:19.493Z"
   },
   {
    "duration": 7,
    "start_time": "2023-05-05T20:45:27.503Z"
   },
   {
    "duration": 9,
    "start_time": "2023-05-05T20:45:57.185Z"
   },
   {
    "duration": 6,
    "start_time": "2023-05-05T20:48:31.508Z"
   },
   {
    "duration": 3,
    "start_time": "2023-05-05T20:55:15.044Z"
   },
   {
    "duration": 21,
    "start_time": "2023-05-05T20:57:54.607Z"
   },
   {
    "duration": 26,
    "start_time": "2023-05-05T20:57:56.138Z"
   },
   {
    "duration": 15,
    "start_time": "2023-05-05T20:59:02.067Z"
   },
   {
    "duration": 22,
    "start_time": "2023-05-05T20:59:03.575Z"
   },
   {
    "duration": 16,
    "start_time": "2023-05-05T21:02:51.589Z"
   },
   {
    "duration": 5,
    "start_time": "2023-05-05T21:03:01.539Z"
   },
   {
    "duration": 59,
    "start_time": "2023-05-05T21:03:01.545Z"
   },
   {
    "duration": 865,
    "start_time": "2023-05-05T21:03:01.606Z"
   },
   {
    "duration": 23,
    "start_time": "2023-05-05T21:03:02.477Z"
   },
   {
    "duration": 33,
    "start_time": "2023-05-05T21:03:02.503Z"
   },
   {
    "duration": 44,
    "start_time": "2023-05-05T21:03:02.538Z"
   },
   {
    "duration": 26,
    "start_time": "2023-05-05T21:03:02.584Z"
   },
   {
    "duration": 27,
    "start_time": "2023-05-05T21:03:02.612Z"
   },
   {
    "duration": 45,
    "start_time": "2023-05-05T21:03:02.641Z"
   },
   {
    "duration": 297,
    "start_time": "2023-05-05T21:03:02.689Z"
   },
   {
    "duration": 10,
    "start_time": "2023-05-05T21:03:02.987Z"
   },
   {
    "duration": 8,
    "start_time": "2023-05-05T21:03:02.998Z"
   },
   {
    "duration": 28,
    "start_time": "2023-05-05T21:03:03.008Z"
   },
   {
    "duration": 6,
    "start_time": "2023-05-05T21:03:03.040Z"
   },
   {
    "duration": 32,
    "start_time": "2023-05-05T21:03:03.048Z"
   },
   {
    "duration": 18,
    "start_time": "2023-05-05T21:03:03.082Z"
   },
   {
    "duration": 9,
    "start_time": "2023-05-05T21:03:03.102Z"
   },
   {
    "duration": 10,
    "start_time": "2023-05-05T21:03:03.113Z"
   },
   {
    "duration": 9,
    "start_time": "2023-05-05T21:03:03.124Z"
   },
   {
    "duration": 45,
    "start_time": "2023-05-05T21:03:03.135Z"
   },
   {
    "duration": 9,
    "start_time": "2023-05-05T21:03:06.094Z"
   },
   {
    "duration": 13,
    "start_time": "2023-05-05T21:03:54.985Z"
   },
   {
    "duration": 5,
    "start_time": "2023-05-05T21:04:56.346Z"
   },
   {
    "duration": 13,
    "start_time": "2023-05-05T21:04:56.353Z"
   },
   {
    "duration": 737,
    "start_time": "2023-05-05T21:04:56.369Z"
   },
   {
    "duration": 20,
    "start_time": "2023-05-05T21:04:57.108Z"
   },
   {
    "duration": 34,
    "start_time": "2023-05-05T21:04:57.130Z"
   },
   {
    "duration": 24,
    "start_time": "2023-05-05T21:04:57.171Z"
   },
   {
    "duration": 15,
    "start_time": "2023-05-05T21:04:57.196Z"
   },
   {
    "duration": 19,
    "start_time": "2023-05-05T21:04:57.212Z"
   },
   {
    "duration": 38,
    "start_time": "2023-05-05T21:04:57.234Z"
   },
   {
    "duration": 274,
    "start_time": "2023-05-05T21:04:57.274Z"
   },
   {
    "duration": 10,
    "start_time": "2023-05-05T21:04:57.555Z"
   },
   {
    "duration": 26,
    "start_time": "2023-05-05T21:04:57.567Z"
   },
   {
    "duration": 16,
    "start_time": "2023-05-05T21:04:57.595Z"
   },
   {
    "duration": 12,
    "start_time": "2023-05-05T21:04:57.613Z"
   },
   {
    "duration": 18,
    "start_time": "2023-05-05T21:04:57.627Z"
   },
   {
    "duration": 20,
    "start_time": "2023-05-05T21:04:57.646Z"
   },
   {
    "duration": 18,
    "start_time": "2023-05-05T21:04:57.667Z"
   },
   {
    "duration": 24,
    "start_time": "2023-05-05T21:04:57.686Z"
   },
   {
    "duration": 5,
    "start_time": "2023-05-05T21:04:57.712Z"
   },
   {
    "duration": 31,
    "start_time": "2023-05-05T21:04:57.718Z"
   },
   {
    "duration": 38,
    "start_time": "2023-05-05T21:04:57.751Z"
   },
   {
    "duration": 25,
    "start_time": "2023-05-05T21:04:57.790Z"
   },
   {
    "duration": 234,
    "start_time": "2023-05-05T21:04:57.816Z"
   },
   {
    "duration": 16,
    "start_time": "2023-05-05T21:04:58.052Z"
   },
   {
    "duration": 16,
    "start_time": "2023-05-05T21:04:58.075Z"
   },
   {
    "duration": 26,
    "start_time": "2023-05-05T21:04:58.092Z"
   },
   {
    "duration": 61,
    "start_time": "2023-05-05T21:04:58.119Z"
   },
   {
    "duration": 17,
    "start_time": "2023-05-05T21:04:58.182Z"
   },
   {
    "duration": 16,
    "start_time": "2023-05-05T21:04:58.200Z"
   },
   {
    "duration": 418,
    "start_time": "2023-05-05T21:05:33.150Z"
   },
   {
    "duration": 826,
    "start_time": "2023-05-05T21:05:54.940Z"
   },
   {
    "duration": 90,
    "start_time": "2023-05-05T21:09:23.135Z"
   },
   {
    "duration": 2,
    "start_time": "2023-05-05T21:10:23.707Z"
   },
   {
    "duration": 45,
    "start_time": "2023-05-05T21:11:25.606Z"
   },
   {
    "duration": 9,
    "start_time": "2023-05-05T21:11:56.786Z"
   },
   {
    "duration": 36,
    "start_time": "2023-05-05T21:12:41.034Z"
   },
   {
    "duration": 18,
    "start_time": "2023-05-05T21:13:15.600Z"
   },
   {
    "duration": 9,
    "start_time": "2023-05-05T21:15:12.118Z"
   },
   {
    "duration": 15,
    "start_time": "2023-05-05T21:15:26.155Z"
   },
   {
    "duration": 18,
    "start_time": "2023-05-05T21:15:26.172Z"
   },
   {
    "duration": 735,
    "start_time": "2023-05-05T21:15:26.191Z"
   },
   {
    "duration": 31,
    "start_time": "2023-05-05T21:15:26.929Z"
   },
   {
    "duration": 28,
    "start_time": "2023-05-05T21:15:26.962Z"
   },
   {
    "duration": 23,
    "start_time": "2023-05-05T21:15:26.991Z"
   },
   {
    "duration": 13,
    "start_time": "2023-05-05T21:15:27.015Z"
   },
   {
    "duration": 48,
    "start_time": "2023-05-05T21:15:27.029Z"
   },
   {
    "duration": 19,
    "start_time": "2023-05-05T21:15:27.080Z"
   },
   {
    "duration": 284,
    "start_time": "2023-05-05T21:15:27.101Z"
   },
   {
    "duration": 8,
    "start_time": "2023-05-05T21:15:27.387Z"
   },
   {
    "duration": 4,
    "start_time": "2023-05-05T21:15:27.396Z"
   },
   {
    "duration": 10,
    "start_time": "2023-05-05T21:15:27.401Z"
   },
   {
    "duration": 7,
    "start_time": "2023-05-05T21:15:27.412Z"
   },
   {
    "duration": 12,
    "start_time": "2023-05-05T21:15:27.420Z"
   },
   {
    "duration": 6,
    "start_time": "2023-05-05T21:15:27.455Z"
   },
   {
    "duration": 15,
    "start_time": "2023-05-05T21:15:27.465Z"
   },
   {
    "duration": 11,
    "start_time": "2023-05-05T21:15:27.482Z"
   },
   {
    "duration": 6,
    "start_time": "2023-05-05T21:15:27.495Z"
   },
   {
    "duration": 15,
    "start_time": "2023-05-05T21:15:27.503Z"
   },
   {
    "duration": 7,
    "start_time": "2023-05-05T21:15:27.519Z"
   },
   {
    "duration": 38,
    "start_time": "2023-05-05T21:15:27.528Z"
   },
   {
    "duration": 231,
    "start_time": "2023-05-05T21:15:27.567Z"
   },
   {
    "duration": 3,
    "start_time": "2023-05-05T21:15:27.801Z"
   },
   {
    "duration": 22,
    "start_time": "2023-05-05T21:15:27.805Z"
   },
   {
    "duration": 21,
    "start_time": "2023-05-05T21:15:27.828Z"
   },
   {
    "duration": 38,
    "start_time": "2023-05-05T21:15:27.851Z"
   },
   {
    "duration": 17,
    "start_time": "2023-05-05T21:15:27.890Z"
   },
   {
    "duration": 18,
    "start_time": "2023-05-05T21:15:27.909Z"
   },
   {
    "duration": 285,
    "start_time": "2023-05-05T21:15:27.929Z"
   },
   {
    "duration": 272,
    "start_time": "2023-05-05T21:15:28.215Z"
   },
   {
    "duration": 415,
    "start_time": "2023-05-05T21:15:28.488Z"
   },
   {
    "duration": 602,
    "start_time": "2023-05-05T21:15:28.905Z"
   },
   {
    "duration": 256,
    "start_time": "2023-05-05T21:15:29.509Z"
   },
   {
    "duration": 256,
    "start_time": "2023-05-05T21:15:29.769Z"
   },
   {
    "duration": 280,
    "start_time": "2023-05-05T21:15:30.027Z"
   },
   {
    "duration": 67,
    "start_time": "2023-05-05T21:15:30.309Z"
   },
   {
    "duration": 3,
    "start_time": "2023-05-05T21:15:30.382Z"
   },
   {
    "duration": 26,
    "start_time": "2023-05-05T21:15:30.388Z"
   },
   {
    "duration": 18,
    "start_time": "2023-05-05T21:15:30.415Z"
   },
   {
    "duration": 83,
    "start_time": "2023-05-05T21:15:30.435Z"
   },
   {
    "duration": 19,
    "start_time": "2023-05-05T21:15:30.520Z"
   },
   {
    "duration": 43,
    "start_time": "2023-05-05T21:15:30.541Z"
   },
   {
    "duration": 47,
    "start_time": "2023-05-05T21:15:30.586Z"
   },
   {
    "duration": 36,
    "start_time": "2023-05-05T21:15:30.636Z"
   },
   {
    "duration": 41,
    "start_time": "2023-05-05T21:15:30.681Z"
   },
   {
    "duration": 99,
    "start_time": "2023-05-05T21:16:04.193Z"
   },
   {
    "duration": 3,
    "start_time": "2023-05-05T21:16:07.618Z"
   },
   {
    "duration": 56353,
    "start_time": "2023-05-05T21:16:09.281Z"
   },
   {
    "duration": 4,
    "start_time": "2023-05-05T21:17:21.832Z"
   },
   {
    "duration": 55243,
    "start_time": "2023-05-05T21:17:26.881Z"
   },
   {
    "duration": 3,
    "start_time": "2023-05-05T21:18:55.502Z"
   },
   {
    "duration": 1159358,
    "start_time": "2023-05-05T21:19:01.926Z"
   },
   {
    "duration": 7,
    "start_time": "2023-05-05T21:43:25.267Z"
   },
   {
    "duration": 1095544,
    "start_time": "2023-05-05T21:43:29.740Z"
   },
   {
    "duration": 4,
    "start_time": "2023-05-05T22:03:50.770Z"
   },
   {
    "duration": 703,
    "start_time": "2023-05-05T22:09:14.962Z"
   },
   {
    "duration": 23,
    "start_time": "2023-05-05T22:23:47.619Z"
   },
   {
    "duration": 23,
    "start_time": "2023-05-05T22:23:55.652Z"
   },
   {
    "duration": 37,
    "start_time": "2023-05-05T22:23:59.293Z"
   },
   {
    "duration": 8,
    "start_time": "2023-05-05T22:24:05.511Z"
   },
   {
    "duration": 7,
    "start_time": "2023-05-05T22:24:44.205Z"
   },
   {
    "duration": 576,
    "start_time": "2023-05-05T22:30:33.945Z"
   },
   {
    "duration": 680,
    "start_time": "2023-05-05T22:31:44.018Z"
   },
   {
    "duration": 635,
    "start_time": "2023-05-05T22:32:04.957Z"
   },
   {
    "duration": 20,
    "start_time": "2023-05-05T22:34:36.041Z"
   },
   {
    "duration": 4,
    "start_time": "2023-05-05T22:36:20.204Z"
   },
   {
    "duration": 4,
    "start_time": "2023-05-05T22:38:29.952Z"
   },
   {
    "duration": 21,
    "start_time": "2023-05-05T22:39:16.335Z"
   },
   {
    "duration": 24,
    "start_time": "2023-05-05T22:41:43.975Z"
   },
   {
    "duration": 10565,
    "start_time": "2023-05-05T22:41:50.974Z"
   },
   {
    "duration": 4,
    "start_time": "2023-05-05T22:42:07.873Z"
   },
   {
    "duration": 29061,
    "start_time": "2023-05-05T22:42:12.711Z"
   }
  ],
  "kernelspec": {
   "display_name": "Python 3 (ipykernel)",
   "language": "python",
   "name": "python3"
  },
  "language_info": {
   "codemirror_mode": {
    "name": "ipython",
    "version": 3
   },
   "file_extension": ".py",
   "mimetype": "text/x-python",
   "name": "python",
   "nbconvert_exporter": "python",
   "pygments_lexer": "ipython3",
   "version": "3.9.5"
  },
  "toc": {
   "base_numbering": 1,
   "nav_menu": {},
   "number_sections": true,
   "sideBar": true,
   "skip_h1_title": true,
   "title_cell": "Содержание",
   "title_sidebar": "Contents",
   "toc_cell": true,
   "toc_position": {
    "height": "calc(100% - 180px)",
    "left": "10px",
    "top": "150px",
    "width": "321.266px"
   },
   "toc_section_display": true,
   "toc_window_display": true
  }
 },
 "nbformat": 4,
 "nbformat_minor": 2
}
