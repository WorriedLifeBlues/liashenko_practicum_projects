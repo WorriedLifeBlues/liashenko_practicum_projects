{
 "cells": [
  {
   "cell_type": "markdown",
   "metadata": {},
   "source": [
    "Привет! меня зовут Люман Аблаев. Сегодня я проверю твой проект.\n",
    "<br> Дальнейшее общение будет происходить на \"ты\" если это не вызывает никаких проблем.\n",
    "<br> Желательно реагировать на красные комментарии ('исправил', 'не понятно как исправить ошибку', ...)\n",
    "<br> Пожалуйста, не удаляй комментарии ревьюера, так как они повышают качество повторного ревью.\n",
    "\n",
    "Комментарии будут в <font color='green'>зеленой</font>, <font color='blue'>синей</font> или <font color='red'>красной</font> рамках:\n",
    "\n",
    "\n",
    "<div class=\"alert alert-block alert-success\">\n",
    "<b>Успех:</b> Если все сделано отлично\n",
    "</div>\n",
    "\n",
    "<div class=\"alert alert-block alert-info\">\n",
    "<b>Совет: </b> Если можно немного улучшить\n",
    "</div>\n",
    "\n",
    "<div class=\"alert alert-block alert-danger\">\n",
    "<b>Ошибка:</b> Если требуются исправления. Работа не может быть принята с красными комментариями.\n",
    "</div>\n",
    "\n",
    "-------------------\n",
    "\n",
    "Будет очень хорошо, если ты будешь помечать свои действия следующим образом:\n",
    "<div class=\"alert alert-block alert-warning\">\n",
    "<b>Комментарий студента:</b> ..\n",
    "</div>\n",
    "<div class=\"alert alert-block alert-warning\">\n",
    "<b>Изменения:</b> Были внесены следующие изменения ...\n",
    "</div>\n",
    "\n",
    "<font color='orange' style='font-size:24px; font-weight:bold'>Общее впечатление</font>\n",
    "* Спасибо за  качественную работу, было интересно ее проверять.\n",
    "- Я оставил некоторые советы надеюсь они будут полезными или интересными.\n",
    "- Есть небольшие недочеты, но думаю у тебя не составить труда их исправить\n",
    "- Жду обновленную работу!\n"
   ]
  },
  {
   "cell_type": "markdown",
   "metadata": {},
   "source": [
    "<font color='orange' style='font-size:24px; font-weight:bold'>Общее впечатление[2]</font>\n",
    "* Спасибо за оперативность\n",
    "- Приятно видеть фидбек \n",
    "- Недочеты исправлены - работа полностью корректна\n",
    "- Рад был быть полезен. Удачи в дальнейшем обучении!"
   ]
  },
  {
   "cell_type": "markdown",
   "metadata": {},
   "source": [
    "# Выбор локации для скважины"
   ]
  },
  {
   "cell_type": "markdown",
   "metadata": {},
   "source": [
    "Допустим, вы работаете в добывающей компании «ГлавРосГосНефть». Нужно решить, где бурить новую скважину.\n",
    "\n",
    "Вам предоставлены пробы нефти в трёх регионах: в каждом 10 000 месторождений, где измерили качество нефти и объём её запасов. Постройте модель машинного обучения, которая поможет определить регион, где добыча принесёт наибольшую прибыль. Проанализируйте возможную прибыль и риски техникой *Bootstrap.*\n",
    "\n",
    "Шаги для выбора локации:\n",
    "\n",
    "- В избранном регионе ищут месторождения, для каждого определяют значения признаков;\n",
    "- Строят модель и оценивают объём запасов;\n",
    "- Выбирают месторождения с самым высокими оценками значений. Количество месторождений зависит от бюджета компании и стоимости разработки одной скважины;\n",
    "- Прибыль равна суммарной прибыли отобранных месторождений."
   ]
  },
  {
   "cell_type": "markdown",
   "metadata": {},
   "source": [
    "## Загрузка и подготовка данных"
   ]
  },
  {
   "cell_type": "markdown",
   "metadata": {},
   "source": [
    "Импортируем и изучим данные по скважинам в трех регионах."
   ]
  },
  {
   "cell_type": "code",
   "execution_count": 19,
   "metadata": {},
   "outputs": [],
   "source": [
    "import pandas as pd\n",
    "import numpy as np\n",
    "import scipy.stats as st\n",
    "from sklearn.preprocessing import MinMaxScaler\n",
    "from sklearn.model_selection import train_test_split\n",
    "from sklearn.linear_model import LinearRegression\n",
    "from sklearn.metrics import mean_squared_error\n",
    "from sklearn.preprocessing import StandardScaler "
   ]
  },
  {
   "cell_type": "markdown",
   "metadata": {},
   "source": [
    "\n",
    "\n",
    "<div class=\"alert alert-block alert-success\">\n",
    "<b>Успех:</b> Импорты  на месте\n",
    "</div>\n",
    "\n"
   ]
  },
  {
   "cell_type": "code",
   "execution_count": 20,
   "metadata": {},
   "outputs": [],
   "source": [
    "data_0 = pd.read_csv('/datasets/geo_data_0.csv')\n",
    "data_1 = pd.read_csv('/datasets/geo_data_1.csv')\n",
    "data_2 = pd.read_csv('/datasets/geo_data_2.csv')"
   ]
  },
  {
   "cell_type": "code",
   "execution_count": 21,
   "metadata": {},
   "outputs": [
    {
     "data": {
      "text/html": [
       "<div>\n",
       "<style scoped>\n",
       "    .dataframe tbody tr th:only-of-type {\n",
       "        vertical-align: middle;\n",
       "    }\n",
       "\n",
       "    .dataframe tbody tr th {\n",
       "        vertical-align: top;\n",
       "    }\n",
       "\n",
       "    .dataframe thead th {\n",
       "        text-align: right;\n",
       "    }\n",
       "</style>\n",
       "<table border=\"1\" class=\"dataframe\">\n",
       "  <thead>\n",
       "    <tr style=\"text-align: right;\">\n",
       "      <th></th>\n",
       "      <th>id</th>\n",
       "      <th>f0</th>\n",
       "      <th>f1</th>\n",
       "      <th>f2</th>\n",
       "      <th>product</th>\n",
       "    </tr>\n",
       "  </thead>\n",
       "  <tbody>\n",
       "    <tr>\n",
       "      <th>0</th>\n",
       "      <td>txEyH</td>\n",
       "      <td>0.705745</td>\n",
       "      <td>-0.497823</td>\n",
       "      <td>1.221170</td>\n",
       "      <td>105.280062</td>\n",
       "    </tr>\n",
       "    <tr>\n",
       "      <th>1</th>\n",
       "      <td>2acmU</td>\n",
       "      <td>1.334711</td>\n",
       "      <td>-0.340164</td>\n",
       "      <td>4.365080</td>\n",
       "      <td>73.037750</td>\n",
       "    </tr>\n",
       "    <tr>\n",
       "      <th>2</th>\n",
       "      <td>409Wp</td>\n",
       "      <td>1.022732</td>\n",
       "      <td>0.151990</td>\n",
       "      <td>1.419926</td>\n",
       "      <td>85.265647</td>\n",
       "    </tr>\n",
       "    <tr>\n",
       "      <th>3</th>\n",
       "      <td>iJLyR</td>\n",
       "      <td>-0.032172</td>\n",
       "      <td>0.139033</td>\n",
       "      <td>2.978566</td>\n",
       "      <td>168.620776</td>\n",
       "    </tr>\n",
       "    <tr>\n",
       "      <th>4</th>\n",
       "      <td>Xdl7t</td>\n",
       "      <td>1.988431</td>\n",
       "      <td>0.155413</td>\n",
       "      <td>4.751769</td>\n",
       "      <td>154.036647</td>\n",
       "    </tr>\n",
       "  </tbody>\n",
       "</table>\n",
       "</div>"
      ],
      "text/plain": [
       "      id        f0        f1        f2     product\n",
       "0  txEyH  0.705745 -0.497823  1.221170  105.280062\n",
       "1  2acmU  1.334711 -0.340164  4.365080   73.037750\n",
       "2  409Wp  1.022732  0.151990  1.419926   85.265647\n",
       "3  iJLyR -0.032172  0.139033  2.978566  168.620776\n",
       "4  Xdl7t  1.988431  0.155413  4.751769  154.036647"
      ]
     },
     "metadata": {},
     "output_type": "display_data"
    },
    {
     "data": {
      "text/plain": [
       "id         0\n",
       "f0         0\n",
       "f1         0\n",
       "f2         0\n",
       "product    0\n",
       "dtype: int64"
      ]
     },
     "execution_count": 21,
     "metadata": {},
     "output_type": "execute_result"
    },
    {
     "data": {
      "image/png": "[encoded data removed]",
      "text/plain": [
       "<Figure size 432x288 with 4 Axes>"
      ]
     },
     "metadata": {
      "needs_background": "light"
     },
     "output_type": "display_data"
    }
   ],
   "source": [
    "display(data_0.head())\n",
    "data_0.hist()\n",
    "data_0.isnull().sum()"
   ]
  },
  {
   "cell_type": "code",
   "execution_count": 22,
   "metadata": {},
   "outputs": [
    {
     "data": {
      "text/html": [
       "<div>\n",
       "<style scoped>\n",
       "    .dataframe tbody tr th:only-of-type {\n",
       "        vertical-align: middle;\n",
       "    }\n",
       "\n",
       "    .dataframe tbody tr th {\n",
       "        vertical-align: top;\n",
       "    }\n",
       "\n",
       "    .dataframe thead th {\n",
       "        text-align: right;\n",
       "    }\n",
       "</style>\n",
       "<table border=\"1\" class=\"dataframe\">\n",
       "  <thead>\n",
       "    <tr style=\"text-align: right;\">\n",
       "      <th></th>\n",
       "      <th>id</th>\n",
       "      <th>f0</th>\n",
       "      <th>f1</th>\n",
       "      <th>f2</th>\n",
       "      <th>product</th>\n",
       "    </tr>\n",
       "  </thead>\n",
       "  <tbody>\n",
       "    <tr>\n",
       "      <th>0</th>\n",
       "      <td>kBEdx</td>\n",
       "      <td>-15.001348</td>\n",
       "      <td>-8.276000</td>\n",
       "      <td>-0.005876</td>\n",
       "      <td>3.179103</td>\n",
       "    </tr>\n",
       "    <tr>\n",
       "      <th>1</th>\n",
       "      <td>62mP7</td>\n",
       "      <td>14.272088</td>\n",
       "      <td>-3.475083</td>\n",
       "      <td>0.999183</td>\n",
       "      <td>26.953261</td>\n",
       "    </tr>\n",
       "    <tr>\n",
       "      <th>2</th>\n",
       "      <td>vyE1P</td>\n",
       "      <td>6.263187</td>\n",
       "      <td>-5.948386</td>\n",
       "      <td>5.001160</td>\n",
       "      <td>134.766305</td>\n",
       "    </tr>\n",
       "    <tr>\n",
       "      <th>3</th>\n",
       "      <td>KcrkZ</td>\n",
       "      <td>-13.081196</td>\n",
       "      <td>-11.506057</td>\n",
       "      <td>4.999415</td>\n",
       "      <td>137.945408</td>\n",
       "    </tr>\n",
       "    <tr>\n",
       "      <th>4</th>\n",
       "      <td>AHL4O</td>\n",
       "      <td>12.702195</td>\n",
       "      <td>-8.147433</td>\n",
       "      <td>5.004363</td>\n",
       "      <td>134.766305</td>\n",
       "    </tr>\n",
       "  </tbody>\n",
       "</table>\n",
       "</div>"
      ],
      "text/plain": [
       "      id         f0         f1        f2     product\n",
       "0  kBEdx -15.001348  -8.276000 -0.005876    3.179103\n",
       "1  62mP7  14.272088  -3.475083  0.999183   26.953261\n",
       "2  vyE1P   6.263187  -5.948386  5.001160  134.766305\n",
       "3  KcrkZ -13.081196 -11.506057  4.999415  137.945408\n",
       "4  AHL4O  12.702195  -8.147433  5.004363  134.766305"
      ]
     },
     "metadata": {},
     "output_type": "display_data"
    },
    {
     "data": {
      "text/plain": [
       "id         0\n",
       "f0         0\n",
       "f1         0\n",
       "f2         0\n",
       "product    0\n",
       "dtype: int64"
      ]
     },
     "execution_count": 22,
     "metadata": {},
     "output_type": "execute_result"
    },
    {
     "data": {
      "image/png": "[encoded data removed]",
      "text/plain": [
       "<Figure size 432x288 with 4 Axes>"
      ]
     },
     "metadata": {
      "needs_background": "light"
     },
     "output_type": "display_data"
    }
   ],
   "source": [
    "display(data_1.head())\n",
    "data_1.hist()\n",
    "data_1.isnull().sum()"
   ]
  },
  {
   "cell_type": "code",
   "execution_count": 23,
   "metadata": {
    "scrolled": true
   },
   "outputs": [
    {
     "data": {
      "text/html": [
       "<div>\n",
       "<style scoped>\n",
       "    .dataframe tbody tr th:only-of-type {\n",
       "        vertical-align: middle;\n",
       "    }\n",
       "\n",
       "    .dataframe tbody tr th {\n",
       "        vertical-align: top;\n",
       "    }\n",
       "\n",
       "    .dataframe thead th {\n",
       "        text-align: right;\n",
       "    }\n",
       "</style>\n",
       "<table border=\"1\" class=\"dataframe\">\n",
       "  <thead>\n",
       "    <tr style=\"text-align: right;\">\n",
       "      <th></th>\n",
       "      <th>id</th>\n",
       "      <th>f0</th>\n",
       "      <th>f1</th>\n",
       "      <th>f2</th>\n",
       "      <th>product</th>\n",
       "    </tr>\n",
       "  </thead>\n",
       "  <tbody>\n",
       "    <tr>\n",
       "      <th>0</th>\n",
       "      <td>fwXo0</td>\n",
       "      <td>-1.146987</td>\n",
       "      <td>0.963328</td>\n",
       "      <td>-0.828965</td>\n",
       "      <td>27.758673</td>\n",
       "    </tr>\n",
       "    <tr>\n",
       "      <th>1</th>\n",
       "      <td>WJtFt</td>\n",
       "      <td>0.262778</td>\n",
       "      <td>0.269839</td>\n",
       "      <td>-2.530187</td>\n",
       "      <td>56.069697</td>\n",
       "    </tr>\n",
       "    <tr>\n",
       "      <th>2</th>\n",
       "      <td>ovLUW</td>\n",
       "      <td>0.194587</td>\n",
       "      <td>0.289035</td>\n",
       "      <td>-5.586433</td>\n",
       "      <td>62.871910</td>\n",
       "    </tr>\n",
       "    <tr>\n",
       "      <th>3</th>\n",
       "      <td>q6cA6</td>\n",
       "      <td>2.236060</td>\n",
       "      <td>-0.553760</td>\n",
       "      <td>0.930038</td>\n",
       "      <td>114.572842</td>\n",
       "    </tr>\n",
       "    <tr>\n",
       "      <th>4</th>\n",
       "      <td>WPMUX</td>\n",
       "      <td>-0.515993</td>\n",
       "      <td>1.716266</td>\n",
       "      <td>5.899011</td>\n",
       "      <td>149.600746</td>\n",
       "    </tr>\n",
       "  </tbody>\n",
       "</table>\n",
       "</div>"
      ],
      "text/plain": [
       "      id        f0        f1        f2     product\n",
       "0  fwXo0 -1.146987  0.963328 -0.828965   27.758673\n",
       "1  WJtFt  0.262778  0.269839 -2.530187   56.069697\n",
       "2  ovLUW  0.194587  0.289035 -5.586433   62.871910\n",
       "3  q6cA6  2.236060 -0.553760  0.930038  114.572842\n",
       "4  WPMUX -0.515993  1.716266  5.899011  149.600746"
      ]
     },
     "metadata": {},
     "output_type": "display_data"
    },
    {
     "data": {
      "text/plain": [
       "id         0\n",
       "f0         0\n",
       "f1         0\n",
       "f2         0\n",
       "product    0\n",
       "dtype: int64"
      ]
     },
     "execution_count": 23,
     "metadata": {},
     "output_type": "execute_result"
    },
    {
     "data": {
      "image/png": "[encoded data removed]",
      "text/plain": [
       "<Figure size 432x288 with 4 Axes>"
      ]
     },
     "metadata": {
      "needs_background": "light"
     },
     "output_type": "display_data"
    }
   ],
   "source": [
    "display(data_2.head())\n",
    "data_2.hist()\n",
    "data_0.isnull().sum()"
   ]
  },
  {
   "cell_type": "markdown",
   "metadata": {},
   "source": [
    "Пропущенных значений в данных нет, но распределение признаков сильно различается, поэтому в дальнейшем проведем процедуру масштабирования при постоении моделей."
   ]
  },
  {
   "cell_type": "markdown",
   "metadata": {},
   "source": [
    "<div class=\"alert alert-block alert-success\">\n",
    "<b>Успех:</b> Данные осмотрены, но можно было бы еще как минимум изучить корреляции, так как мы планируем использовать линейные модели, а для них это важно. \n",
    "</div>\n",
    "\n",
    "\n",
    "<div class=\"alert alert-block alert-info\">\n",
    "<b>Совет:</b>  Советую обратить внимание на библиотеки sweetviz и pandas_profiling помогут в проведении более тщательного EDA анализа. Исследовательский анализ можно делать и с помощью ручного вызова функций дефолтных библиотек. Данные библиотеки хороши для максимизации комфорта презентации результатов анализа бизнес-пользователям.  \n",
    "\n",
    "Очень просты в использоовании, на вход кладется датафрейм: pandas_profiling.ProfileReport(df) \n",
    "</div>"
   ]
  },
  {
   "cell_type": "markdown",
   "metadata": {},
   "source": [
    "<div class=\"alert alert-block alert-warning\">\n",
    "<b>Изменения:</b> Спасибо, добавила проверку на мультиколлинеарность.\n",
    "</div>"
   ]
  },
  {
   "cell_type": "markdown",
   "metadata": {},
   "source": [
    "Проверим данные на мультиколлинеарность, рассчитав коэффициент инфляции дисперсии (VIF)."
   ]
  },
  {
   "cell_type": "code",
   "execution_count": 27,
   "metadata": {},
   "outputs": [
    {
     "name": "stdout",
     "output_type": "stream",
     "text": [
      "Регион 1\n",
      "  feature       VIF\n",
      "0      f0  1.157011\n",
      "1      f1  1.135999\n",
      "2      f2  1.231342\n",
      "\n",
      "Регион 2\n",
      "  feature       VIF\n",
      "0      f0  1.027316\n",
      "1      f1  1.494591\n",
      "2      f2  1.507561\n",
      "\n",
      "Регион 3\n",
      "  feature  VIF\n",
      "0      f0  1.0\n",
      "1      f1  1.0\n",
      "2      f2  1.0\n",
      "\n"
     ]
    }
   ],
   "source": [
    "from statsmodels.stats.outliers_influence import variance_inflation_factor\n",
    "\n",
    "num = 0  \n",
    "for data in [data_0, data_1, data_2]:\n",
    "    X = data.drop(['id', 'product'], axis = 1)\n",
    "    vif_data = pd.DataFrame()\n",
    "    vif_data[\"feature\"] = X.columns\n",
    "    vif_data[\"VIF\"] = [variance_inflation_factor(X.values, i)\n",
    "                       for i in range(len(X.columns))]\n",
    "    num += 1\n",
    "    print('Регион {0}'.format(num))\n",
    "    print(vif_data)\n",
    "    print()\n"
   ]
  },
  {
   "cell_type": "markdown",
   "metadata": {},
   "source": [
    "Для всех признаков VIF около единицы, значит признаки не коррелируют."
   ]
  },
  {
   "cell_type": "markdown",
   "metadata": {},
   "source": [
    "\n",
    "<div class=\"alert alert-block alert-success\">\n",
    "<b>Успех[2]:</b> Есть контакт"
   ]
  },
  {
   "cell_type": "markdown",
   "metadata": {},
   "source": [
    "## Обучение и проверка модели"
   ]
  },
  {
   "cell_type": "markdown",
   "metadata": {},
   "source": [
    "Для каждого региона разобъем данные на обучающую и валидационную выборку (75:25), масштабируем признаки, обучим модели. Затем посчитаем среднеквадратическую ошибку и средний запас сырья."
   ]
  },
  {
   "cell_type": "code",
   "execution_count": 7,
   "metadata": {},
   "outputs": [],
   "source": [
    "def model_creator(data):\n",
    "    features = data.drop(['id', 'product'], axis = 1)\n",
    "    target = data['product']\n",
    "    features_train, features_valid, target_train, target_valid = train_test_split(\n",
    "    features, target, test_size=0.25, random_state=12345)\n",
    "    # scaling\n",
    "    scaler = StandardScaler()\n",
    "    features_train = scaler.fit_transform(features_train)\n",
    "    features_valid = scaler.transform(features_valid)\n",
    "    # model fit\n",
    "    model = LinearRegression().fit(features_train, target_train)\n",
    "    predictions_valid = model.predict(features_valid)\n",
    "    # result\n",
    "    rmse = mean_squared_error(predictions_valid, target_valid)**0.5\n",
    "    average_product = sum(predictions_valid) / len(predictions_valid)\n",
    "    print(\"RMSE для региона\", ':', rmse)\n",
    "    print('Средний запас:', average_product)\n",
    "    return (pd.Series(predictions_valid), pd.Series(target_valid.reset_index(drop=True)), rmse)"
   ]
  },
  {
   "cell_type": "markdown",
   "metadata": {},
   "source": [
    "\n",
    "<div class=\"alert alert-block alert-success\">\n",
    "<b>Успех:</b> Масштабирование проведено корректно\n",
    "</div"
   ]
  },
  {
   "cell_type": "code",
   "execution_count": 8,
   "metadata": {},
   "outputs": [
    {
     "name": "stdout",
     "output_type": "stream",
     "text": [
      "Регион 1\n",
      "RMSE для региона : 37.5794217150813\n",
      "Средний запас: 92.59256778438008\n"
     ]
    }
   ],
   "source": [
    "print('Регион 1')\n",
    "predictions_1, target_valid_1, rmse_1 = model_creator(data_0)"
   ]
  },
  {
   "cell_type": "code",
   "execution_count": 9,
   "metadata": {
    "scrolled": false
   },
   "outputs": [
    {
     "name": "stdout",
     "output_type": "stream",
     "text": [
      "Регион 2\n",
      "RMSE для региона : 0.893099286775617\n",
      "Средний запас: 68.7285468954458\n"
     ]
    }
   ],
   "source": [
    "print('Регион 2')\n",
    "predictions_2, target_valid_2, rmse_2 = model_creator(data_1)"
   ]
  },
  {
   "cell_type": "code",
   "execution_count": 10,
   "metadata": {},
   "outputs": [
    {
     "name": "stdout",
     "output_type": "stream",
     "text": [
      "Регион 3\n",
      "RMSE для региона : 40.02970873393434\n",
      "Средний запас: 94.96504596800506\n"
     ]
    }
   ],
   "source": [
    "print('Регион 3')\n",
    "predictions_3, target_valid_3, rmse_3 = model_creator(data_2)"
   ]
  },
  {
   "cell_type": "markdown",
   "metadata": {},
   "source": [
    "Лучше всего обучились модель второго региона с ошибкой около тысячи рублей, а для регионов 1 и 3 среднеквадратическая ошибка составила около 38 и 40 тысяч рублей соответственно. Средний запас предсказанного сырья составил 92.6, 68.7 и 94.7 тысяч баррелей."
   ]
  },
  {
   "cell_type": "markdown",
   "metadata": {},
   "source": [
    "<div class=\"alert alert-block alert-success\">\n",
    "<b>Успех:</b> Шаг проделан лаконично, все метрики посчитаны корректно\n",
    "</div> \n"
   ]
  },
  {
   "cell_type": "markdown",
   "metadata": {},
   "source": [
    "## Подготовка к расчёту прибыли"
   ]
  },
  {
   "cell_type": "markdown",
   "metadata": {},
   "source": [
    "Расчитаем объем сырья для безубыточной разработки скважины."
   ]
  },
  {
   "cell_type": "code",
   "execution_count": 11,
   "metadata": {},
   "outputs": [],
   "source": [
    "one_bar_revenue = 450000\n",
    "budget = 10000000000\n",
    "best_wells_n = 200\n",
    "overall_wells = 500"
   ]
  },
  {
   "cell_type": "markdown",
   "metadata": {},
   "source": [
    "\n",
    "<div class=\"alert alert-block alert-info\">\n",
    "    \n",
    "<b>Совет:</b> Константы принято записывать в ВЕРХНЕМ РЕГИСТРЕ =) Читем здесь https://pythonworld.ru/osnovy/pep-8-rukovodstvo-po-napisaniyu-koda-na-python.html#section-29\n",
    "    \n",
    "А большие значение можно записывать так: `10_000_000_000`.\n",
    "</div> "
   ]
  },
  {
   "cell_type": "markdown",
   "metadata": {},
   "source": [
    "<div class=\"alert alert-block alert-warning\">\n",
    "<b>Комментарий студента:</b> Спасибо, учту!\n",
    "</div>"
   ]
  },
  {
   "cell_type": "code",
   "execution_count": 12,
   "metadata": {},
   "outputs": [
    {
     "name": "stdout",
     "output_type": "stream",
     "text": [
      "Точка безубыточности: 22222.22 тысяч баррелей\n"
     ]
    }
   ],
   "source": [
    "bep = round(budget / one_bar_revenue, 2)\n",
    "print('Точка безубыточности:', bep, 'тысяч баррелей') "
   ]
  },
  {
   "cell_type": "markdown",
   "metadata": {},
   "source": [
    "Найдем средний объем нефти для безубыточной добычи в 200 лучших скважинах. "
   ]
  },
  {
   "cell_type": "code",
   "execution_count": 13,
   "metadata": {
    "scrolled": true
   },
   "outputs": [
    {
     "name": "stdout",
     "output_type": "stream",
     "text": [
      "Точка безубыточности для 200 скважин: 111.11110000000001 тысяч баррелей\n"
     ]
    }
   ],
   "source": [
    "print('Точка безубыточности для 200 скважин:', bep / best_wells_n, 'тысяч баррелей')"
   ]
  },
  {
   "cell_type": "markdown",
   "metadata": {},
   "source": [
    "Сравним со средним запасом нефти в скважинах по каждому региону."
   ]
  },
  {
   "cell_type": "markdown",
   "metadata": {},
   "source": [
    "Для безубыточного функционирования в скважине минимально должно быть 111 тысяч баррелей нефти. Это больше, чем средний запас нефти в скважинах во всех регионах, где он составил 92.6, 68.7 и 94.7 тысяч баррелей."
   ]
  },
  {
   "cell_type": "markdown",
   "metadata": {},
   "source": [
    "<div class=\"alert alert-block alert-success\">\n",
    "<b>Успех:</b> Значение для безубыточной разработки посчитано верно, с выводом согласен  \n",
    "</div>"
   ]
  },
  {
   "cell_type": "markdown",
   "metadata": {},
   "source": [
    "## Расчёт прибыли и рисков "
   ]
  },
  {
   "cell_type": "markdown",
   "metadata": {},
   "source": [
    "Напишем функцию расчета прибыли и посмотрим среднюю прибыль с 200 лучших скважин в каждом регионе."
   ]
  },
  {
   "cell_type": "code",
   "execution_count": 14,
   "metadata": {},
   "outputs": [],
   "source": [
    "def profit(predictions, target):\n",
    "    max_predictions = predictions.sort_values(ascending = False)\n",
    "    max_target = target[max_predictions.index][:200]\n",
    "    revenue = max_target.sum() * one_bar_revenue\n",
    "    return revenue - budget    "
   ]
  },
  {
   "cell_type": "markdown",
   "metadata": {},
   "source": [
    "<div class=\"alert alert-block alert-success\">\n",
    "<b>Успех:</b> Ф-ция для подсчета прибыли определена верно\n",
    "</div>"
   ]
  },
  {
   "cell_type": "code",
   "execution_count": 15,
   "metadata": {
    "scrolled": true
   },
   "outputs": [
    {
     "name": "stdout",
     "output_type": "stream",
     "text": [
      "Прибыль 200 лучших скважин для региона 1: 3320826043.14\n",
      "Прибыль 200 лучших скважин для региона 2: 2415086696.68\n",
      "Прибыль 200 лучших скважин для региона 3: 2710349963.6\n"
     ]
    }
   ],
   "source": [
    "i = 0\n",
    "for pred, targ in zip([predictions_1, predictions_2, predictions_3],\n",
    "               [target_valid_1, target_valid_2, target_valid_3]):\n",
    "    i += 1\n",
    "    print('Прибыль 200 лучших скважин для региона {0}:'.format(i), round(profit(pred, targ), 2))"
   ]
  },
  {
   "cell_type": "markdown",
   "metadata": {},
   "source": [
    "Проведем Bootstrap для распределения прибыли, применив функцию расчета прибыли."
   ]
  },
  {
   "cell_type": "code",
   "execution_count": 16,
   "metadata": {},
   "outputs": [],
   "source": [
    "state = np.random.RandomState(12345)\n",
    "\n",
    "def risk_check(predictions, target):\n",
    "    revenue = []\n",
    "    for i in range(1000):\n",
    "        target_subsample = target.sample(n = overall_wells, replace=True, random_state=state)\n",
    "        probs_subsample = predictions[target_subsample.index]\n",
    "        revenue.append(profit(probs_subsample, target_subsample))\n",
    "    revenue = pd.Series(revenue)\n",
    "    lower = revenue.quantile(0.025)\n",
    "    upper = revenue.quantile(0.975)\n",
    "    mean_revenue = sum(revenue) / len(revenue)\n",
    "    risk = st.percentileofscore(revenue, 0)\n",
    "    return round(lower,2), round(upper,2), round(mean_revenue, 2), round(risk, 2)"
   ]
  },
  {
   "cell_type": "markdown",
   "metadata": {},
   "source": [
    "\n",
    "<div class=\"alert alert-block alert-success\">\n",
    "<b>Успех:</b> С бутстрапом тоже все в порядке, метрики считаются верным образом!  \n",
    "</div>\n"
   ]
  },
  {
   "cell_type": "code",
   "execution_count": 17,
   "metadata": {
    "scrolled": true
   },
   "outputs": [
    {
     "name": "stdout",
     "output_type": "stream",
     "text": [
      "### Регион 1 ###\n",
      "95% доверительный интервал: -102090094.84 947976353.36\n",
      "Средний доход: 425938526.91\n",
      "Риски: 6.0\n",
      "\n",
      "### Регион 2 ###\n",
      "95% доверительный интервал: 128123231.43 953612982.07\n",
      "Средний доход: 518259493.7\n",
      "Риски: 0.3\n",
      "\n",
      "### Регион 3 ###\n",
      "95% доверительный интервал: -115852609.16 989629939.84\n",
      "Средний доход: 420194005.34\n",
      "Риски: 6.2\n",
      "\n"
     ]
    }
   ],
   "source": [
    "i = 0\n",
    "for pred, targ in zip([predictions_1, predictions_2, predictions_3],\n",
    "               [target_valid_1, target_valid_2, target_valid_3]):\n",
    "    lower, upper, mean_rev, risk = risk_check(pred, targ)\n",
    "    i += 1\n",
    "    print('### Регион {0} ###'.format(i))\n",
    "    print('95% доверительный интервал:', lower, upper)\n",
    "    print('Средний доход:', mean_rev)\n",
    "    print('Риски:', risk)\n",
    "    print()"
   ]
  },
  {
   "cell_type": "markdown",
   "metadata": {},
   "source": [
    "Второй регион имеет самые низкие риски (0.3%) и самую высокую прибыль (518 миллионов) - он подходит под условие проекта. Риски остальных регионов выше 2.5%."
   ]
  },
  {
   "cell_type": "markdown",
   "metadata": {},
   "source": [
    "\n",
    "<div class=\"alert alert-block alert-danger\">\n",
    "<b>Ошибка:</b>  Если 0.3 - это 30%, то 6.0 - это 600%?) \n",
    "    \n",
    "Обнови, пожалуйста выводы - ты не правильно интепретировала риски. Если риски больше, чем 2.5%  - то левая граница доверительного интервала будет отрицательной.\n",
    "    \n",
    "\n",
    "</div> "
   ]
  },
  {
   "cell_type": "markdown",
   "metadata": {},
   "source": [
    "<div class=\"alert alert-block alert-warning\">\n",
    "<b>Изменения:</b> Ох, да, все перепутала под конец) Заменила выводы.\n",
    "</div>"
   ]
  },
  {
   "cell_type": "markdown",
   "metadata": {},
   "source": [
    "\n",
    "<div class=\"alert alert-block alert-success\">\n",
    "<b>Успех[2]:</b> Отлично, проведено детальное исследование и был выбран правильный регион!"
   ]
  },
  {
   "cell_type": "markdown",
   "metadata": {},
   "source": [
    "## Общий вывод"
   ]
  },
  {
   "cell_type": "markdown",
   "metadata": {},
   "source": [
    "Целью проекта было определить регион с вероятностью убытков при разработке менее 2.5% и наибольшей прибылью. \n",
    "\n",
    "Сначала мы исследовали данные, проверили их на пропущенные значения и постоили гистограммы, из которых определили, что признаки нужно будет масштабировать перед обучением модели. Также мы убедились, что признаки не коррелируют. Далее мы обучили модели линейной регрессии для каждого региона и определили среднеквадратическую ошибку и средний запас нефти в скважинах. \n",
    "\n",
    "Далее определив точку безубыточности в 111 тысяч баррелей для каждой из 200 теоретических лучших скважин мы выяснили, что запас нефти в среднем ниже, чем точка безубыточности. Затем мы отсортировали предсказания моделей и выбрали 200 самых доходных скважин для каждого региона. Для них мы провели процедуру Bootstrap и посчитали 95% интервал, средний доход и риски.\n",
    "\n",
    "Единственным регионом с уровнем рисков ниже 2,5% стал второй регион. Этот регион можно выбрать для разработки скважин - его прогнозируемая средняя прибыль составит около 518 миллионов."
   ]
  },
  {
   "cell_type": "markdown",
   "metadata": {},
   "source": [
    "\n",
    "<div class=\"alert alert-block alert-info\">\n",
    "<b>Совет: </b> Если интересно изучить тему бутстрапа глубже - я оставлю  ниже несколько интересных и полезных ссылок по теме:\n",
    "        \n",
    "1. \"Bootstrap Hypothesis Testing in Statistics with Example\" \n",
    "        \n",
    "https://www.youtube.com/watch?v=9STZ7MxkNVg\n",
    "        \n",
    "2. \"How to Calculate Bootstrap Confidence Intervals For Machine Learning Results in Python\" \n",
    "        \n",
    "https://machinelearningmastery.com/calculate-bootstrap-confidence-intervals-machine-learning-results-python/\n",
    "        \n",
    "3. \"A Gentle Introduction to the Bootstrap Method\" \n",
    "\n",
    "https://machinelearningmastery.com/a-gentle-introduction-to-the-bootstrap-method/\n",
    "        \n",
    "4. \"An Introduction to the Bootstrap Method\" \n",
    "        \n",
    "https://towardsdatascience.com/an-introduction-to-the-bootstrap-method-58bcb51b4d60#:~:text=The%20basic%20idea%20of%20bootstrap,population%20mean)%20on%20sample%20data.&amp;text=A%20sample%20from%20population%20with%20sample%20size%20n\n",
    "        \n",
    "5. \"Bootstrapping and Resampling in Statistics with Example\" \n",
    "        \n",
    "        \n",
    "https://www.youtube.com/watch?v=O_Fj4q8lgmc\n",
    "\n",
    "6. Также одна из программ на рынке по этой теме управлненеческого моделирования - AnyLogic - интересный продукт. Можешь видео из интернета посмотреть по какому-нибудь примеру с её использованием. Тогда тема управленческого моделирования и бутстрапа может по-другому лечь.\n",
    "</div>"
   ]
  },
  {
   "cell_type": "markdown",
   "metadata": {},
   "source": [
    "## Чек-лист готовности проекта"
   ]
  },
  {
   "cell_type": "markdown",
   "metadata": {},
   "source": [
    "Поставьте 'x' в выполненных пунктах. Далее нажмите Shift+Enter."
   ]
  },
  {
   "cell_type": "markdown",
   "metadata": {},
   "source": [
    "- [x]  Jupyter Notebook открыт\n",
    "- [x]  Весь код выполняется без ошибок\n",
    "- [x]  Ячейки с кодом расположены в порядке исполнения\n",
    "- [x]  Выполнен шаг 1: данные подготовлены\n",
    "- [x]  Выполнен шаг 2: модели обучены и проверены\n",
    "    - [x]  Данные корректно разбиты на обучающую и валидационную выборки\n",
    "    - [x]  Модели обучены, предсказания сделаны\n",
    "    - [x]  Предсказания и правильные ответы на валидационной выборке сохранены\n",
    "    - [x]  На экране напечатаны результаты\n",
    "    - [x]  Сделаны выводы\n",
    "- [x]  Выполнен шаг 3: проведена подготовка к расчёту прибыли\n",
    "    - [x]  Для всех ключевых значений созданы константы Python\n",
    "    - [x]  Посчитано минимальное среднее количество продукта в месторождениях региона, достаточное для разработки\n",
    "    - [x]  По предыдущему пункту сделаны выводы\n",
    "    - [x]  Написана функция расчёта прибыли\n",
    "- [x]  Выполнен шаг 4: посчитаны риски и прибыль\n",
    "    - [x]  Проведена процедура *Bootstrap*\n",
    "    - [x]  Все параметры бутстрепа соответствуют условию\n",
    "    - [x]  Найдены все нужные величины\n",
    "    - [x]  Предложен регион для разработки месторождения\n",
    "    - [x]  Выбор региона обоснован"
   ]
  },
  {
   "cell_type": "code",
   "execution_count": null,
   "metadata": {},
   "outputs": [],
   "source": []
  }
 ],
 "metadata": {
  "ExecuteTimeLog": [
   {
    "duration": 109,
    "start_time": "2023-04-30T10:13:08.660Z"
   },
   {
    "duration": 386,
    "start_time": "2023-04-30T10:14:08.765Z"
   },
   {
    "duration": 3591,
    "start_time": "2023-04-30T10:14:10.756Z"
   },
   {
    "duration": 30,
    "start_time": "2023-04-30T10:14:21.207Z"
   },
   {
    "duration": 19,
    "start_time": "2023-04-30T10:15:31.648Z"
   },
   {
    "duration": 12,
    "start_time": "2023-04-30T10:20:39.374Z"
   },
   {
    "duration": 15,
    "start_time": "2023-04-30T10:23:17.547Z"
   },
   {
    "duration": 19,
    "start_time": "2023-04-30T10:24:06.747Z"
   },
   {
    "duration": 24,
    "start_time": "2023-04-30T10:24:08.922Z"
   },
   {
    "duration": 101,
    "start_time": "2023-04-30T10:25:08.229Z"
   },
   {
    "duration": 24,
    "start_time": "2023-04-30T10:25:10.941Z"
   },
   {
    "duration": 34,
    "start_time": "2023-04-30T10:25:17.489Z"
   },
   {
    "duration": 24,
    "start_time": "2023-04-30T10:25:22.547Z"
   },
   {
    "duration": 158,
    "start_time": "2023-04-30T10:26:17.869Z"
   },
   {
    "duration": 118,
    "start_time": "2023-04-30T10:26:51.125Z"
   },
   {
    "duration": 13,
    "start_time": "2023-04-30T10:26:59.123Z"
   },
   {
    "duration": 146,
    "start_time": "2023-04-30T10:27:06.276Z"
   },
   {
    "duration": 11,
    "start_time": "2023-04-30T10:31:43.580Z"
   },
   {
    "duration": 17,
    "start_time": "2023-04-30T10:32:13.258Z"
   },
   {
    "duration": 16,
    "start_time": "2023-04-30T10:32:19.670Z"
   },
   {
    "duration": 10,
    "start_time": "2023-04-30T10:32:28.740Z"
   },
   {
    "duration": 17,
    "start_time": "2023-04-30T10:32:35.845Z"
   },
   {
    "duration": 15,
    "start_time": "2023-04-30T10:34:16.957Z"
   },
   {
    "duration": 11,
    "start_time": "2023-04-30T10:41:16.772Z"
   },
   {
    "duration": 117,
    "start_time": "2023-04-30T10:41:52.035Z"
   },
   {
    "duration": 799,
    "start_time": "2023-04-30T10:42:05.438Z"
   },
   {
    "duration": 28,
    "start_time": "2023-04-30T10:42:09.326Z"
   },
   {
    "duration": 20,
    "start_time": "2023-04-30T10:42:36.430Z"
   },
   {
    "duration": 75,
    "start_time": "2023-04-30T11:03:01.991Z"
   },
   {
    "duration": 34,
    "start_time": "2023-04-30T11:03:07.322Z"
   },
   {
    "duration": 21,
    "start_time": "2023-04-30T11:03:11.924Z"
   },
   {
    "duration": 20,
    "start_time": "2023-04-30T11:05:09.808Z"
   },
   {
    "duration": 16,
    "start_time": "2023-04-30T11:06:29.547Z"
   },
   {
    "duration": 9,
    "start_time": "2023-04-30T11:09:09.265Z"
   },
   {
    "duration": 12,
    "start_time": "2023-04-30T11:09:19.540Z"
   },
   {
    "duration": 17,
    "start_time": "2023-04-30T11:09:22.186Z"
   },
   {
    "duration": 38,
    "start_time": "2023-04-30T11:09:48.266Z"
   },
   {
    "duration": 10,
    "start_time": "2023-04-30T11:09:49.629Z"
   },
   {
    "duration": 27,
    "start_time": "2023-04-30T11:11:28.955Z"
   },
   {
    "duration": 61,
    "start_time": "2023-04-30T11:11:36.343Z"
   },
   {
    "duration": 40,
    "start_time": "2023-04-30T11:12:04.263Z"
   },
   {
    "duration": 152,
    "start_time": "2023-04-30T12:27:58.077Z"
   },
   {
    "duration": 277,
    "start_time": "2023-04-30T12:28:01.851Z"
   },
   {
    "duration": 228,
    "start_time": "2023-04-30T12:28:08.888Z"
   },
   {
    "duration": 331,
    "start_time": "2023-04-30T12:29:08.668Z"
   },
   {
    "duration": 267,
    "start_time": "2023-04-30T12:29:15.770Z"
   },
   {
    "duration": 419,
    "start_time": "2023-04-30T12:30:10.488Z"
   },
   {
    "duration": 309,
    "start_time": "2023-04-30T12:31:12.333Z"
   },
   {
    "duration": 306,
    "start_time": "2023-04-30T12:31:39.524Z"
   },
   {
    "duration": 19,
    "start_time": "2023-04-30T12:34:53.952Z"
   },
   {
    "duration": 7,
    "start_time": "2023-04-30T12:35:02.114Z"
   },
   {
    "duration": 304,
    "start_time": "2023-04-30T12:35:04.842Z"
   },
   {
    "duration": 105,
    "start_time": "2023-04-30T12:39:12.122Z"
   },
   {
    "duration": 375,
    "start_time": "2023-04-30T12:39:49.856Z"
   },
   {
    "duration": 200,
    "start_time": "2023-04-30T12:51:46.739Z"
   },
   {
    "duration": 193,
    "start_time": "2023-04-30T12:51:58.760Z"
   },
   {
    "duration": 274,
    "start_time": "2023-04-30T12:52:55.332Z"
   },
   {
    "duration": 216,
    "start_time": "2023-04-30T12:53:01.845Z"
   },
   {
    "duration": 27,
    "start_time": "2023-04-30T12:54:34.688Z"
   },
   {
    "duration": 25,
    "start_time": "2023-04-30T12:55:00.636Z"
   },
   {
    "duration": 9,
    "start_time": "2023-04-30T13:02:23.432Z"
   },
   {
    "duration": 92,
    "start_time": "2023-04-30T13:04:54.133Z"
   },
   {
    "duration": 392,
    "start_time": "2023-04-30T13:05:04.661Z"
   },
   {
    "duration": 65,
    "start_time": "2023-04-30T13:05:34.076Z"
   },
   {
    "duration": 6,
    "start_time": "2023-04-30T13:05:49.957Z"
   },
   {
    "duration": 70,
    "start_time": "2023-04-30T13:05:52.129Z"
   },
   {
    "duration": 6,
    "start_time": "2023-04-30T13:06:19.760Z"
   },
   {
    "duration": 70,
    "start_time": "2023-04-30T13:06:22.624Z"
   },
   {
    "duration": 89,
    "start_time": "2023-04-30T13:06:28.782Z"
   },
   {
    "duration": 65,
    "start_time": "2023-04-30T13:06:31.035Z"
   },
   {
    "duration": 70,
    "start_time": "2023-04-30T13:07:15.432Z"
   },
   {
    "duration": 94,
    "start_time": "2023-04-30T13:07:17.153Z"
   },
   {
    "duration": 119,
    "start_time": "2023-04-30T13:07:18.678Z"
   },
   {
    "duration": 3,
    "start_time": "2023-04-30T13:08:05.974Z"
   },
   {
    "duration": 499,
    "start_time": "2023-04-30T13:08:05.979Z"
   },
   {
    "duration": 30,
    "start_time": "2023-04-30T13:08:06.479Z"
   },
   {
    "duration": 41,
    "start_time": "2023-04-30T13:08:06.511Z"
   },
   {
    "duration": 19,
    "start_time": "2023-04-30T13:08:06.557Z"
   },
   {
    "duration": 5,
    "start_time": "2023-04-30T13:08:08.084Z"
   },
   {
    "duration": 50,
    "start_time": "2023-04-30T13:08:10.751Z"
   },
   {
    "duration": 111,
    "start_time": "2023-04-30T13:08:12.662Z"
   },
   {
    "duration": 1430,
    "start_time": "2023-04-30T13:10:43.985Z"
   },
   {
    "duration": 510,
    "start_time": "2023-04-30T13:10:45.429Z"
   },
   {
    "duration": 37,
    "start_time": "2023-04-30T13:10:45.944Z"
   },
   {
    "duration": 22,
    "start_time": "2023-04-30T13:10:45.983Z"
   },
   {
    "duration": 24,
    "start_time": "2023-04-30T13:10:46.008Z"
   },
   {
    "duration": 11,
    "start_time": "2023-04-30T13:10:47.963Z"
   },
   {
    "duration": 405,
    "start_time": "2023-04-30T13:10:50.362Z"
   },
   {
    "duration": 206,
    "start_time": "2023-04-30T13:10:58.757Z"
   },
   {
    "duration": 7,
    "start_time": "2023-04-30T13:11:05.673Z"
   },
   {
    "duration": 58,
    "start_time": "2023-04-30T13:11:07.348Z"
   },
   {
    "duration": 91,
    "start_time": "2023-04-30T13:11:11.861Z"
   },
   {
    "duration": 176,
    "start_time": "2023-04-30T13:11:13.246Z"
   },
   {
    "duration": 5,
    "start_time": "2023-04-30T13:13:04.390Z"
   },
   {
    "duration": 6,
    "start_time": "2023-04-30T13:15:08.143Z"
   },
   {
    "duration": 4,
    "start_time": "2023-04-30T13:28:00.678Z"
   },
   {
    "duration": 4,
    "start_time": "2023-04-30T13:28:10.484Z"
   },
   {
    "duration": 3,
    "start_time": "2023-04-30T13:28:19.689Z"
   },
   {
    "duration": 13,
    "start_time": "2023-04-30T13:32:09.846Z"
   },
   {
    "duration": 4,
    "start_time": "2023-04-30T13:32:12.285Z"
   },
   {
    "duration": 9,
    "start_time": "2023-04-30T13:32:14.483Z"
   },
   {
    "duration": 13,
    "start_time": "2023-04-30T13:32:16.520Z"
   },
   {
    "duration": 13,
    "start_time": "2023-04-30T13:32:17.622Z"
   },
   {
    "duration": 4,
    "start_time": "2023-04-30T13:32:18.172Z"
   },
   {
    "duration": 8,
    "start_time": "2023-04-30T13:32:35.380Z"
   },
   {
    "duration": 11,
    "start_time": "2023-04-30T13:32:56.528Z"
   },
   {
    "duration": 10,
    "start_time": "2023-04-30T13:32:57.628Z"
   },
   {
    "duration": 156,
    "start_time": "2023-04-30T14:59:30.561Z"
   },
   {
    "duration": 8,
    "start_time": "2023-05-01T12:40:25.690Z"
   },
   {
    "duration": 1175,
    "start_time": "2023-05-01T12:40:31.158Z"
   },
   {
    "duration": 2428,
    "start_time": "2023-05-01T12:40:32.339Z"
   },
   {
    "duration": 27,
    "start_time": "2023-05-01T12:40:34.769Z"
   },
   {
    "duration": 16,
    "start_time": "2023-05-01T12:40:34.798Z"
   },
   {
    "duration": 39,
    "start_time": "2023-05-01T12:40:34.822Z"
   },
   {
    "duration": 14,
    "start_time": "2023-05-01T12:40:34.863Z"
   },
   {
    "duration": 146,
    "start_time": "2023-05-01T12:40:34.878Z"
   },
   {
    "duration": 196,
    "start_time": "2023-05-01T12:40:35.028Z"
   },
   {
    "duration": 201,
    "start_time": "2023-05-01T12:40:35.226Z"
   },
   {
    "duration": 6,
    "start_time": "2023-05-01T12:40:35.433Z"
   },
   {
    "duration": 114,
    "start_time": "2023-05-01T12:40:35.443Z"
   },
   {
    "duration": 15,
    "start_time": "2023-05-01T12:40:35.559Z"
   },
   {
    "duration": 13,
    "start_time": "2023-05-01T12:40:35.575Z"
   },
   {
    "duration": 5,
    "start_time": "2023-05-01T12:48:02.852Z"
   },
   {
    "duration": 3,
    "start_time": "2023-05-01T13:00:48.433Z"
   },
   {
    "duration": 120,
    "start_time": "2023-05-01T13:03:34.918Z"
   },
   {
    "duration": 3,
    "start_time": "2023-05-01T13:04:54.284Z"
   },
   {
    "duration": 4,
    "start_time": "2023-05-01T13:05:09.084Z"
   },
   {
    "duration": 524,
    "start_time": "2023-05-01T13:05:09.090Z"
   },
   {
    "duration": 26,
    "start_time": "2023-05-01T13:05:09.616Z"
   },
   {
    "duration": 31,
    "start_time": "2023-05-01T13:05:09.643Z"
   },
   {
    "duration": 33,
    "start_time": "2023-05-01T13:05:09.678Z"
   },
   {
    "duration": 12,
    "start_time": "2023-05-01T13:05:09.713Z"
   },
   {
    "duration": 107,
    "start_time": "2023-05-01T13:05:09.728Z"
   },
   {
    "duration": 122,
    "start_time": "2023-05-01T13:05:09.837Z"
   },
   {
    "duration": 126,
    "start_time": "2023-05-01T13:05:10.020Z"
   },
   {
    "duration": 5,
    "start_time": "2023-05-01T13:05:10.217Z"
   },
   {
    "duration": 98,
    "start_time": "2023-05-01T13:05:10.225Z"
   },
   {
    "duration": 20,
    "start_time": "2023-05-01T13:05:10.325Z"
   },
   {
    "duration": 7,
    "start_time": "2023-05-01T13:05:10.347Z"
   },
   {
    "duration": 5,
    "start_time": "2023-05-01T13:05:12.154Z"
   },
   {
    "duration": 5,
    "start_time": "2023-05-01T13:07:52.682Z"
   },
   {
    "duration": 12,
    "start_time": "2023-05-01T13:08:29.328Z"
   },
   {
    "duration": 4,
    "start_time": "2023-05-01T13:08:36.497Z"
   },
   {
    "duration": 6,
    "start_time": "2023-05-01T13:08:38.000Z"
   },
   {
    "duration": 13,
    "start_time": "2023-05-01T13:08:44.986Z"
   },
   {
    "duration": 5,
    "start_time": "2023-05-01T13:09:43.714Z"
   },
   {
    "duration": 15,
    "start_time": "2023-05-01T13:09:45.647Z"
   },
   {
    "duration": 3,
    "start_time": "2023-05-01T13:10:01.741Z"
   },
   {
    "duration": 8,
    "start_time": "2023-05-01T13:10:02.505Z"
   },
   {
    "duration": 14,
    "start_time": "2023-05-01T13:10:03.386Z"
   },
   {
    "duration": 5,
    "start_time": "2023-05-01T13:10:49.789Z"
   },
   {
    "duration": 10,
    "start_time": "2023-05-01T13:14:46.022Z"
   },
   {
    "duration": 11,
    "start_time": "2023-05-01T13:14:58.893Z"
   },
   {
    "duration": 8,
    "start_time": "2023-05-01T13:15:55.644Z"
   },
   {
    "duration": 4,
    "start_time": "2023-05-01T13:16:15.398Z"
   },
   {
    "duration": 3,
    "start_time": "2023-05-01T13:16:52.435Z"
   },
   {
    "duration": 9,
    "start_time": "2023-05-01T13:17:05.567Z"
   },
   {
    "duration": 4,
    "start_time": "2023-05-01T13:17:20.297Z"
   },
   {
    "duration": 4,
    "start_time": "2023-05-01T13:17:43.349Z"
   },
   {
    "duration": 10,
    "start_time": "2023-05-01T13:17:45.230Z"
   },
   {
    "duration": 5,
    "start_time": "2023-05-01T13:18:02.726Z"
   },
   {
    "duration": 9,
    "start_time": "2023-05-01T13:18:04.322Z"
   },
   {
    "duration": 5,
    "start_time": "2023-05-01T13:18:11.517Z"
   },
   {
    "duration": 9,
    "start_time": "2023-05-01T13:18:12.754Z"
   },
   {
    "duration": 11,
    "start_time": "2023-05-01T13:18:25.021Z"
   },
   {
    "duration": 21,
    "start_time": "2023-05-01T13:18:34.451Z"
   },
   {
    "duration": 6,
    "start_time": "2023-05-01T13:19:38.898Z"
   },
   {
    "duration": 3,
    "start_time": "2023-05-01T13:19:49.539Z"
   },
   {
    "duration": 403,
    "start_time": "2023-05-01T13:19:49.544Z"
   },
   {
    "duration": 18,
    "start_time": "2023-05-01T13:19:49.949Z"
   },
   {
    "duration": 17,
    "start_time": "2023-05-01T13:19:49.969Z"
   },
   {
    "duration": 39,
    "start_time": "2023-05-01T13:19:49.988Z"
   },
   {
    "duration": 16,
    "start_time": "2023-05-01T13:19:50.029Z"
   },
   {
    "duration": 75,
    "start_time": "2023-05-01T13:19:50.047Z"
   },
   {
    "duration": 293,
    "start_time": "2023-05-01T13:19:50.125Z"
   },
   {
    "duration": 200,
    "start_time": "2023-05-01T13:19:50.421Z"
   },
   {
    "duration": 4,
    "start_time": "2023-05-01T13:19:50.623Z"
   },
   {
    "duration": 114,
    "start_time": "2023-05-01T13:19:50.629Z"
   },
   {
    "duration": 41,
    "start_time": "2023-05-01T13:19:50.745Z"
   },
   {
    "duration": 35,
    "start_time": "2023-05-01T13:19:50.788Z"
   },
   {
    "duration": 49,
    "start_time": "2023-05-01T13:19:50.826Z"
   },
   {
    "duration": 7,
    "start_time": "2023-05-01T13:19:53.839Z"
   },
   {
    "duration": 1440,
    "start_time": "2023-05-01T13:19:55.902Z"
   },
   {
    "duration": 6,
    "start_time": "2023-05-01T13:22:49.506Z"
   },
   {
    "duration": 1383,
    "start_time": "2023-05-01T13:22:52.882Z"
   },
   {
    "duration": 4,
    "start_time": "2023-05-01T13:27:24.934Z"
   },
   {
    "duration": 5,
    "start_time": "2023-05-01T13:27:35.182Z"
   },
   {
    "duration": 1375,
    "start_time": "2023-05-01T13:27:37.137Z"
   },
   {
    "duration": 1319,
    "start_time": "2023-05-01T13:27:53.536Z"
   },
   {
    "duration": 1354,
    "start_time": "2023-05-01T13:28:03.245Z"
   },
   {
    "duration": 5,
    "start_time": "2023-05-01T13:32:11.779Z"
   },
   {
    "duration": 96,
    "start_time": "2023-05-01T13:32:15.122Z"
   },
   {
    "duration": 5,
    "start_time": "2023-05-01T13:32:34.325Z"
   },
   {
    "duration": 29,
    "start_time": "2023-05-01T13:32:36.227Z"
   },
   {
    "duration": 39,
    "start_time": "2023-05-01T13:32:38.780Z"
   },
   {
    "duration": 28,
    "start_time": "2023-05-01T13:32:40.193Z"
   },
   {
    "duration": 4,
    "start_time": "2023-05-01T13:35:27.334Z"
   },
   {
    "duration": 443,
    "start_time": "2023-05-01T13:35:27.347Z"
   },
   {
    "duration": 28,
    "start_time": "2023-05-01T13:35:27.792Z"
   },
   {
    "duration": 26,
    "start_time": "2023-05-01T13:35:27.822Z"
   },
   {
    "duration": 25,
    "start_time": "2023-05-01T13:35:27.850Z"
   },
   {
    "duration": 5,
    "start_time": "2023-05-01T13:35:27.877Z"
   },
   {
    "duration": 68,
    "start_time": "2023-05-01T13:35:27.883Z"
   },
   {
    "duration": 270,
    "start_time": "2023-05-01T13:35:27.953Z"
   },
   {
    "duration": 194,
    "start_time": "2023-05-01T13:35:28.225Z"
   },
   {
    "duration": 17,
    "start_time": "2023-05-01T13:35:28.421Z"
   },
   {
    "duration": 113,
    "start_time": "2023-05-01T13:35:28.440Z"
   },
   {
    "duration": 15,
    "start_time": "2023-05-01T13:35:28.555Z"
   },
   {
    "duration": 31,
    "start_time": "2023-05-01T13:35:28.571Z"
   },
   {
    "duration": 45,
    "start_time": "2023-05-01T13:35:28.605Z"
   },
   {
    "duration": 8,
    "start_time": "2023-05-01T13:35:28.652Z"
   },
   {
    "duration": 1511,
    "start_time": "2023-05-01T13:35:28.662Z"
   },
   {
    "duration": 1533,
    "start_time": "2023-05-01T13:35:30.174Z"
   },
   {
    "duration": 6,
    "start_time": "2023-05-01T13:35:56.144Z"
   },
   {
    "duration": 6,
    "start_time": "2023-05-01T13:37:35.742Z"
   },
   {
    "duration": 39,
    "start_time": "2023-05-01T13:37:37.182Z"
   },
   {
    "duration": 42,
    "start_time": "2023-05-01T13:41:44.585Z"
   },
   {
    "duration": 5,
    "start_time": "2023-05-01T13:42:06.789Z"
   },
   {
    "duration": 65,
    "start_time": "2023-05-01T13:42:08.058Z"
   },
   {
    "duration": 55,
    "start_time": "2023-05-01T13:42:11.099Z"
   },
   {
    "duration": 17,
    "start_time": "2023-05-01T13:43:40.742Z"
   },
   {
    "duration": 9,
    "start_time": "2023-05-01T13:43:42.359Z"
   },
   {
    "duration": 14,
    "start_time": "2023-05-01T13:43:59.533Z"
   },
   {
    "duration": 20,
    "start_time": "2023-05-01T13:44:06.257Z"
   },
   {
    "duration": 3,
    "start_time": "2023-05-01T13:45:36.506Z"
   },
   {
    "duration": 5,
    "start_time": "2023-05-01T13:45:40.152Z"
   },
   {
    "duration": 285,
    "start_time": "2023-05-01T13:45:41.837Z"
   },
   {
    "duration": 6,
    "start_time": "2023-05-01T13:45:56.955Z"
   },
   {
    "duration": 67,
    "start_time": "2023-05-01T13:45:58.652Z"
   },
   {
    "duration": 129,
    "start_time": "2023-05-01T13:46:00.595Z"
   },
   {
    "duration": 11,
    "start_time": "2023-05-01T13:58:22.220Z"
   },
   {
    "duration": 90,
    "start_time": "2023-05-01T13:58:26.034Z"
   },
   {
    "duration": 102,
    "start_time": "2023-05-01T13:58:34.117Z"
   },
   {
    "duration": 6,
    "start_time": "2023-05-01T13:59:52.086Z"
   },
   {
    "duration": 123,
    "start_time": "2023-05-01T13:59:54.903Z"
   },
   {
    "duration": 5,
    "start_time": "2023-05-01T14:00:03.634Z"
   },
   {
    "duration": 64,
    "start_time": "2023-05-01T14:00:05.255Z"
   },
   {
    "duration": 4,
    "start_time": "2023-05-01T14:00:40.388Z"
   },
   {
    "duration": 78,
    "start_time": "2023-05-01T14:00:42.545Z"
   },
   {
    "duration": 4,
    "start_time": "2023-05-01T14:02:39.601Z"
   },
   {
    "duration": 36,
    "start_time": "2023-05-01T14:02:42.086Z"
   },
   {
    "duration": 79,
    "start_time": "2023-05-01T14:03:03.141Z"
   },
   {
    "duration": 32,
    "start_time": "2023-05-01T14:03:16.048Z"
   },
   {
    "duration": 79,
    "start_time": "2023-05-01T14:03:21.242Z"
   },
   {
    "duration": 3,
    "start_time": "2023-05-01T14:03:35.996Z"
   },
   {
    "duration": 465,
    "start_time": "2023-05-01T14:03:36.002Z"
   },
   {
    "duration": 16,
    "start_time": "2023-05-01T14:03:36.469Z"
   },
   {
    "duration": 16,
    "start_time": "2023-05-01T14:03:36.487Z"
   },
   {
    "duration": 36,
    "start_time": "2023-05-01T14:03:36.505Z"
   },
   {
    "duration": 13,
    "start_time": "2023-05-01T14:03:36.544Z"
   },
   {
    "duration": 85,
    "start_time": "2023-05-01T14:03:36.559Z"
   },
   {
    "duration": 180,
    "start_time": "2023-05-01T14:03:36.648Z"
   },
   {
    "duration": 190,
    "start_time": "2023-05-01T14:03:36.831Z"
   },
   {
    "duration": 10,
    "start_time": "2023-05-01T14:03:37.027Z"
   },
   {
    "duration": 105,
    "start_time": "2023-05-01T14:03:37.045Z"
   },
   {
    "duration": 6,
    "start_time": "2023-05-01T14:03:37.151Z"
   },
   {
    "duration": 4,
    "start_time": "2023-05-01T14:03:37.159Z"
   },
   {
    "duration": 14,
    "start_time": "2023-05-01T14:03:37.165Z"
   },
   {
    "duration": 6,
    "start_time": "2023-05-01T14:03:37.181Z"
   },
   {
    "duration": 1510,
    "start_time": "2023-05-01T14:03:37.188Z"
   },
   {
    "duration": 1466,
    "start_time": "2023-05-01T14:03:38.700Z"
   },
   {
    "duration": 1526,
    "start_time": "2023-05-01T14:03:40.169Z"
   },
   {
    "duration": 5,
    "start_time": "2023-05-01T14:05:11.191Z"
   },
   {
    "duration": 61,
    "start_time": "2023-05-01T14:05:13.458Z"
   },
   {
    "duration": 40,
    "start_time": "2023-05-01T14:05:18.781Z"
   },
   {
    "duration": 76,
    "start_time": "2023-05-01T14:05:19.645Z"
   },
   {
    "duration": 19,
    "start_time": "2023-05-01T14:08:01.219Z"
   },
   {
    "duration": 4,
    "start_time": "2023-05-01T14:08:39.641Z"
   },
   {
    "duration": 14,
    "start_time": "2023-05-01T14:08:40.937Z"
   },
   {
    "duration": 6,
    "start_time": "2023-05-01T14:09:37.196Z"
   },
   {
    "duration": 13,
    "start_time": "2023-05-01T14:09:38.942Z"
   },
   {
    "duration": 4,
    "start_time": "2023-05-01T14:09:52.503Z"
   },
   {
    "duration": 12,
    "start_time": "2023-05-01T14:09:54.183Z"
   },
   {
    "duration": 4,
    "start_time": "2023-05-01T14:10:09.772Z"
   },
   {
    "duration": 11,
    "start_time": "2023-05-01T14:10:11.376Z"
   },
   {
    "duration": 5,
    "start_time": "2023-05-01T14:10:15.148Z"
   },
   {
    "duration": 3220,
    "start_time": "2023-05-01T14:10:16.578Z"
   },
   {
    "duration": 4,
    "start_time": "2023-05-01T14:10:23.413Z"
   },
   {
    "duration": 10,
    "start_time": "2023-05-01T14:10:34.252Z"
   },
   {
    "duration": 7,
    "start_time": "2023-05-01T14:10:40.709Z"
   },
   {
    "duration": 1652,
    "start_time": "2023-05-01T14:10:42.245Z"
   },
   {
    "duration": 1725,
    "start_time": "2023-05-01T14:10:51.379Z"
   },
   {
    "duration": 1694,
    "start_time": "2023-05-01T14:10:55.537Z"
   },
   {
    "duration": 27,
    "start_time": "2023-05-01T14:14:19.419Z"
   },
   {
    "duration": 22,
    "start_time": "2023-05-01T14:14:28.234Z"
   },
   {
    "duration": 34,
    "start_time": "2023-05-01T14:15:11.714Z"
   },
   {
    "duration": 20,
    "start_time": "2023-05-01T14:15:16.849Z"
   },
   {
    "duration": 17,
    "start_time": "2023-05-01T14:15:41.378Z"
   },
   {
    "duration": 8,
    "start_time": "2023-05-01T14:16:51.733Z"
   },
   {
    "duration": 1594,
    "start_time": "2023-05-01T14:16:54.448Z"
   },
   {
    "duration": 6,
    "start_time": "2023-05-01T14:17:14.359Z"
   },
   {
    "duration": 1606,
    "start_time": "2023-05-01T14:17:16.974Z"
   },
   {
    "duration": 1573,
    "start_time": "2023-05-01T14:17:19.655Z"
   },
   {
    "duration": 1653,
    "start_time": "2023-05-01T14:17:22.347Z"
   },
   {
    "duration": 5,
    "start_time": "2023-05-01T14:17:59.776Z"
   },
   {
    "duration": 1545,
    "start_time": "2023-05-01T14:18:01.455Z"
   },
   {
    "duration": 1504,
    "start_time": "2023-05-01T14:18:03.778Z"
   },
   {
    "duration": 1556,
    "start_time": "2023-05-01T14:18:06.255Z"
   },
   {
    "duration": 4598,
    "start_time": "2023-05-01T14:23:13.177Z"
   },
   {
    "duration": 4713,
    "start_time": "2023-05-01T14:23:32.616Z"
   },
   {
    "duration": 5,
    "start_time": "2023-05-01T14:25:01.491Z"
   },
   {
    "duration": 5,
    "start_time": "2023-05-01T14:25:03.900Z"
   },
   {
    "duration": 4605,
    "start_time": "2023-05-01T14:25:07.666Z"
   },
   {
    "duration": 1269,
    "start_time": "2023-05-01T15:09:22.293Z"
   },
   {
    "duration": 459,
    "start_time": "2023-05-01T15:09:40.292Z"
   },
   {
    "duration": 480,
    "start_time": "2023-05-01T15:09:51.808Z"
   },
   {
    "duration": 427,
    "start_time": "2023-05-01T15:09:54.202Z"
   },
   {
    "duration": 19,
    "start_time": "2023-05-01T15:18:13.442Z"
   },
   {
    "duration": 46,
    "start_time": "2023-05-01T19:47:56.121Z"
   },
   {
    "duration": 1019,
    "start_time": "2023-05-01T19:48:01.370Z"
   },
   {
    "duration": 1494,
    "start_time": "2023-05-01T19:48:02.391Z"
   },
   {
    "duration": 714,
    "start_time": "2023-05-01T19:48:03.887Z"
   },
   {
    "duration": 345,
    "start_time": "2023-05-01T19:48:04.603Z"
   },
   {
    "duration": 392,
    "start_time": "2023-05-01T19:48:04.950Z"
   },
   {
    "duration": 5,
    "start_time": "2023-05-01T19:48:05.343Z"
   },
   {
    "duration": 186,
    "start_time": "2023-05-01T19:48:05.349Z"
   },
   {
    "duration": 109,
    "start_time": "2023-05-01T19:48:05.537Z"
   },
   {
    "duration": 199,
    "start_time": "2023-05-01T19:48:05.735Z"
   },
   {
    "duration": 3,
    "start_time": "2023-05-01T19:48:05.937Z"
   },
   {
    "duration": 106,
    "start_time": "2023-05-01T19:48:05.943Z"
   },
   {
    "duration": 12,
    "start_time": "2023-05-01T19:48:06.050Z"
   },
   {
    "duration": 30,
    "start_time": "2023-05-01T19:48:06.063Z"
   },
   {
    "duration": 23,
    "start_time": "2023-05-01T19:48:06.096Z"
   },
   {
    "duration": 4,
    "start_time": "2023-05-01T19:48:06.121Z"
   },
   {
    "duration": 3707,
    "start_time": "2023-05-01T19:48:09.850Z"
   },
   {
    "duration": 105,
    "start_time": "2023-05-01T21:26:19.602Z"
   },
   {
    "duration": 4,
    "start_time": "2023-05-01T21:26:29.194Z"
   },
   {
    "duration": 459,
    "start_time": "2023-05-01T21:26:29.200Z"
   },
   {
    "duration": 376,
    "start_time": "2023-05-01T21:26:29.661Z"
   },
   {
    "duration": 463,
    "start_time": "2023-05-01T21:26:30.039Z"
   },
   {
    "duration": 429,
    "start_time": "2023-05-01T21:26:30.505Z"
   },
   {
    "duration": 22,
    "start_time": "2023-05-01T21:26:32.101Z"
   },
   {
    "duration": 1096,
    "start_time": "2023-05-01T21:28:04.938Z"
   },
   {
    "duration": 1138,
    "start_time": "2023-05-01T21:30:19.297Z"
   },
   {
    "duration": 1053,
    "start_time": "2023-05-01T21:30:27.186Z"
   },
   {
    "duration": 42,
    "start_time": "2023-05-01T21:31:57.853Z"
   }
  ],
  "kernelspec": {
   "display_name": "Python 3 (ipykernel)",
   "language": "python",
   "name": "python3"
  },
  "language_info": {
   "codemirror_mode": {
    "name": "ipython",
    "version": 3
   },
   "file_extension": ".py",
   "mimetype": "text/x-python",
   "name": "python",
   "nbconvert_exporter": "python",
   "pygments_lexer": "ipython3",
   "version": "3.9.5"
  },
  "toc": {
   "base_numbering": 1,
   "nav_menu": {},
   "number_sections": true,
   "sideBar": true,
   "skip_h1_title": true,
   "title_cell": "Table of Contents",
   "title_sidebar": "Contents",
   "toc_cell": false,
   "toc_position": {},
   "toc_section_display": true,
   "toc_window_display": false
  }
 },
 "nbformat": 4,
 "nbformat_minor": 2
}
