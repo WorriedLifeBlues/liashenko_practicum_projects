{
 "cells": [
  {
   "cell_type": "markdown",
   "metadata": {},
   "source": [
    "\n",
    "Привет еще раз, меня зовут Люман Аблаев. Сегодня я проверю твой проект.\n",
    "<br> Дальнейшее общение будет происходить на \"ты\" если это не вызывает никаких проблем.\n",
    "<br> Желательно реагировать на красные комментарии ('исправил', 'не понятно как исправить ошибку', ...)\n",
    "<br> Пожалуйста, не удаляй комментарии ревьюера, так как они повышают качество повторного ревью.\n",
    "\n",
    "Комментарии будут в <font color='green'>зеленой</font>, <font color='blue'>синей</font> или <font color='red'>красной</font> рамках:\n",
    "\n",
    "\n",
    "<div class=\"alert alert-block alert-success\">\n",
    "<b>Успех:</b> Если все сделано отлично\n",
    "</div>\n",
    "\n",
    "<div class=\"alert alert-block alert-info\">\n",
    "<b>Совет: </b> Если можно немного улучшить\n",
    "</div>\n",
    "\n",
    "<div class=\"alert alert-block alert-danger\">\n",
    "<b>Ошибка:</b> Если требуются исправления. Работа не может быть принята с красными комментариями.\n",
    "</div>\n",
    "\n",
    "-------------------\n",
    "\n",
    "Будет очень хорошо, если ты будешь помечать свои действия следующим образом:\n",
    "<div class=\"alert alert-block alert-warning\">\n",
    "<b>Комментарий студента:</b> ...\n",
    "</div>\n",
    "\n",
    "<div class=\"alert alert-block alert-warning\">\n",
    "<b>Изменения:</b> Были внесены следующие изменения ...\n",
    "</div>\n",
    "\n",
    "\n",
    "\n",
    "\n",
    "\n",
    "\n",
    "\n",
    "<font color='orange' style='font-size:24px; font-weight:bold'>Общее впечатление</font>\n",
    "* Спасибо за очередную качественную работу - видно, что приложено много усилий,\n",
    "- Я оставил некоторые советы, надеюсь они будут полезными и интересными\n",
    "- Есть некоторые недочеты, которые нужно поправить, но у тебя это не должно занять много времени)\n",
    "- Жду обновленную работу"
   ]
  },
  {
   "cell_type": "markdown",
   "metadata": {},
   "source": [
    "<font color='orange' style='font-size:24px; font-weight:bold'>Общее впечатление[3]</font>\n",
    "* Спасибо за усердность!\n",
    "- Было приятно с тобой сотрудничать.\n",
    "- Недочеты исправлены - работа полностью корректна\n",
    "- Не буду больше задерживать, продолжай в том же духе.\n"
   ]
  },
  {
   "cell_type": "markdown",
   "metadata": {},
   "source": [
    "# Определение стоимости автомобилей"
   ]
  },
  {
   "cell_type": "markdown",
   "metadata": {},
   "source": [
    "Сервис по продаже автомобилей с пробегом «Не бит, не крашен» разрабатывает приложение для привлечения новых клиентов. В нём можно быстро узнать рыночную стоимость своего автомобиля. В вашем распоряжении исторические данные: технические характеристики, комплектации и цены автомобилей. Вам нужно построить модель для определения стоимости. \n",
    "\n",
    "Заказчику важны:\n",
    "\n",
    "- качество предсказания;\n",
    "- скорость предсказания;\n",
    "- время обучения."
   ]
  },
  {
   "cell_type": "markdown",
   "metadata": {},
   "source": [
    "В ходе проекта мы должны выяснить, какая модель быстрее и точнее сможет предсказать стоимость автомобиля на основании технических характеристик и комплектации.\n",
    "Сначала мы подготовим данные: проверим типы данных и наличие пропущенных или сильно отклоняющихся значений.\n",
    "Затем проверим результаты работы модели случайного леса и модели LightGBM с несколькими вариантами гиперпараметров.\n",
    "В конце выберем лучшую модель на основании скорости обучения и предсказания и значения метрик."
   ]
  },
  {
   "cell_type": "markdown",
   "metadata": {},
   "source": [
    "## Подготовка данных"
   ]
  },
  {
   "cell_type": "code",
   "execution_count": 1,
   "metadata": {},
   "outputs": [],
   "source": [
    "import pandas as pd\n",
    "import numpy as np\n",
    "from matplotlib import pyplot as plt\n",
    "from sklearn.model_selection import train_test_split\n",
    "from sklearn.metrics import mean_squared_error\n",
    "from sklearn.ensemble import RandomForestRegressor\n",
    "from sklearn.dummy import DummyRegressor\n",
    "from sklearn.model_selection import GridSearchCV\n",
    "from sklearn.preprocessing import OrdinalEncoder, StandardScaler\n",
    "from sklearn.compose import make_column_transformer\n",
    "import lightgbm as lgb"
   ]
  },
  {
   "cell_type": "markdown",
   "metadata": {},
   "source": [
    "<div class=\"alert alert-block alert-success\">\n",
    "<b>Успех:</b> Импорты  на месте\n",
    "</div>\n"
   ]
  },
  {
   "cell_type": "code",
   "execution_count": 2,
   "metadata": {},
   "outputs": [
    {
     "data": {
      "text/html": [
       "<div>\n",
       "<style scoped>\n",
       "    .dataframe tbody tr th:only-of-type {\n",
       "        vertical-align: middle;\n",
       "    }\n",
       "\n",
       "    .dataframe tbody tr th {\n",
       "        vertical-align: top;\n",
       "    }\n",
       "\n",
       "    .dataframe thead th {\n",
       "        text-align: right;\n",
       "    }\n",
       "</style>\n",
       "<table border=\"1\" class=\"dataframe\">\n",
       "  <thead>\n",
       "    <tr style=\"text-align: right;\">\n",
       "      <th></th>\n",
       "      <th>DateCrawled</th>\n",
       "      <th>Price</th>\n",
       "      <th>VehicleType</th>\n",
       "      <th>RegistrationYear</th>\n",
       "      <th>Gearbox</th>\n",
       "      <th>Power</th>\n",
       "      <th>Model</th>\n",
       "      <th>Kilometer</th>\n",
       "      <th>RegistrationMonth</th>\n",
       "      <th>FuelType</th>\n",
       "      <th>Brand</th>\n",
       "      <th>Repaired</th>\n",
       "      <th>DateCreated</th>\n",
       "      <th>NumberOfPictures</th>\n",
       "      <th>PostalCode</th>\n",
       "      <th>LastSeen</th>\n",
       "    </tr>\n",
       "  </thead>\n",
       "  <tbody>\n",
       "    <tr>\n",
       "      <th>0</th>\n",
       "      <td>2016-03-24 11:52:17</td>\n",
       "      <td>480</td>\n",
       "      <td>NaN</td>\n",
       "      <td>1993</td>\n",
       "      <td>manual</td>\n",
       "      <td>0</td>\n",
       "      <td>golf</td>\n",
       "      <td>150000</td>\n",
       "      <td>0</td>\n",
       "      <td>petrol</td>\n",
       "      <td>volkswagen</td>\n",
       "      <td>NaN</td>\n",
       "      <td>2016-03-24 00:00:00</td>\n",
       "      <td>0</td>\n",
       "      <td>70435</td>\n",
       "      <td>2016-04-07 03:16:57</td>\n",
       "    </tr>\n",
       "    <tr>\n",
       "      <th>1</th>\n",
       "      <td>2016-03-24 10:58:45</td>\n",
       "      <td>18300</td>\n",
       "      <td>coupe</td>\n",
       "      <td>2011</td>\n",
       "      <td>manual</td>\n",
       "      <td>190</td>\n",
       "      <td>NaN</td>\n",
       "      <td>125000</td>\n",
       "      <td>5</td>\n",
       "      <td>gasoline</td>\n",
       "      <td>audi</td>\n",
       "      <td>yes</td>\n",
       "      <td>2016-03-24 00:00:00</td>\n",
       "      <td>0</td>\n",
       "      <td>66954</td>\n",
       "      <td>2016-04-07 01:46:50</td>\n",
       "    </tr>\n",
       "    <tr>\n",
       "      <th>2</th>\n",
       "      <td>2016-03-14 12:52:21</td>\n",
       "      <td>9800</td>\n",
       "      <td>suv</td>\n",
       "      <td>2004</td>\n",
       "      <td>auto</td>\n",
       "      <td>163</td>\n",
       "      <td>grand</td>\n",
       "      <td>125000</td>\n",
       "      <td>8</td>\n",
       "      <td>gasoline</td>\n",
       "      <td>jeep</td>\n",
       "      <td>NaN</td>\n",
       "      <td>2016-03-14 00:00:00</td>\n",
       "      <td>0</td>\n",
       "      <td>90480</td>\n",
       "      <td>2016-04-05 12:47:46</td>\n",
       "    </tr>\n",
       "    <tr>\n",
       "      <th>3</th>\n",
       "      <td>2016-03-17 16:54:04</td>\n",
       "      <td>1500</td>\n",
       "      <td>small</td>\n",
       "      <td>2001</td>\n",
       "      <td>manual</td>\n",
       "      <td>75</td>\n",
       "      <td>golf</td>\n",
       "      <td>150000</td>\n",
       "      <td>6</td>\n",
       "      <td>petrol</td>\n",
       "      <td>volkswagen</td>\n",
       "      <td>no</td>\n",
       "      <td>2016-03-17 00:00:00</td>\n",
       "      <td>0</td>\n",
       "      <td>91074</td>\n",
       "      <td>2016-03-17 17:40:17</td>\n",
       "    </tr>\n",
       "    <tr>\n",
       "      <th>4</th>\n",
       "      <td>2016-03-31 17:25:20</td>\n",
       "      <td>3600</td>\n",
       "      <td>small</td>\n",
       "      <td>2008</td>\n",
       "      <td>manual</td>\n",
       "      <td>69</td>\n",
       "      <td>fabia</td>\n",
       "      <td>90000</td>\n",
       "      <td>7</td>\n",
       "      <td>gasoline</td>\n",
       "      <td>skoda</td>\n",
       "      <td>no</td>\n",
       "      <td>2016-03-31 00:00:00</td>\n",
       "      <td>0</td>\n",
       "      <td>60437</td>\n",
       "      <td>2016-04-06 10:17:21</td>\n",
       "    </tr>\n",
       "  </tbody>\n",
       "</table>\n",
       "</div>"
      ],
      "text/plain": [
       "           DateCrawled  Price VehicleType  RegistrationYear Gearbox  Power  \\\n",
       "0  2016-03-24 11:52:17    480         NaN              1993  manual      0   \n",
       "1  2016-03-24 10:58:45  18300       coupe              2011  manual    190   \n",
       "2  2016-03-14 12:52:21   9800         suv              2004    auto    163   \n",
       "3  2016-03-17 16:54:04   1500       small              2001  manual     75   \n",
       "4  2016-03-31 17:25:20   3600       small              2008  manual     69   \n",
       "\n",
       "   Model  Kilometer  RegistrationMonth  FuelType       Brand Repaired  \\\n",
       "0   golf     150000                  0    petrol  volkswagen      NaN   \n",
       "1    NaN     125000                  5  gasoline        audi      yes   \n",
       "2  grand     125000                  8  gasoline        jeep      NaN   \n",
       "3   golf     150000                  6    petrol  volkswagen       no   \n",
       "4  fabia      90000                  7  gasoline       skoda       no   \n",
       "\n",
       "           DateCreated  NumberOfPictures  PostalCode             LastSeen  \n",
       "0  2016-03-24 00:00:00                 0       70435  2016-04-07 03:16:57  \n",
       "1  2016-03-24 00:00:00                 0       66954  2016-04-07 01:46:50  \n",
       "2  2016-03-14 00:00:00                 0       90480  2016-04-05 12:47:46  \n",
       "3  2016-03-17 00:00:00                 0       91074  2016-03-17 17:40:17  \n",
       "4  2016-03-31 00:00:00                 0       60437  2016-04-06 10:17:21  "
      ]
     },
     "execution_count": 2,
     "metadata": {},
     "output_type": "execute_result"
    }
   ],
   "source": [
    "try:\n",
    "    raw_data = pd.read_csv('/datasets/autos.csv')\n",
    "except:\n",
    "    raw_data = pd.read_csv('https://code.s3.yandex.net/datasets/autos.csv')\n",
    "raw_data.head()"
   ]
  },
  {
   "cell_type": "code",
   "execution_count": 3,
   "metadata": {},
   "outputs": [
    {
     "name": "stdout",
     "output_type": "stream",
     "text": [
      "<class 'pandas.core.frame.DataFrame'>\n",
      "RangeIndex: 354369 entries, 0 to 354368\n",
      "Data columns (total 16 columns):\n",
      " #   Column             Non-Null Count   Dtype \n",
      "---  ------             --------------   ----- \n",
      " 0   DateCrawled        354369 non-null  object\n",
      " 1   Price              354369 non-null  int64 \n",
      " 2   VehicleType        316879 non-null  object\n",
      " 3   RegistrationYear   354369 non-null  int64 \n",
      " 4   Gearbox            334536 non-null  object\n",
      " 5   Power              354369 non-null  int64 \n",
      " 6   Model              334664 non-null  object\n",
      " 7   Kilometer          354369 non-null  int64 \n",
      " 8   RegistrationMonth  354369 non-null  int64 \n",
      " 9   FuelType           321474 non-null  object\n",
      " 10  Brand              354369 non-null  object\n",
      " 11  Repaired           283215 non-null  object\n",
      " 12  DateCreated        354369 non-null  object\n",
      " 13  NumberOfPictures   354369 non-null  int64 \n",
      " 14  PostalCode         354369 non-null  int64 \n",
      " 15  LastSeen           354369 non-null  object\n",
      "dtypes: int64(7), object(9)\n",
      "memory usage: 43.3+ MB\n"
     ]
    }
   ],
   "source": [
    "raw_data.info()"
   ]
  },
  {
   "cell_type": "code",
   "execution_count": 4,
   "metadata": {
    "scrolled": false
   },
   "outputs": [],
   "source": [
    "raw_data['LastSeen'] = pd.to_datetime(raw_data['LastSeen'],  format = \"%Y/%m/%d\")\n",
    "raw_data['LSYear'] = raw_data['LastSeen'].apply(lambda x: x.strftime('%Y')) "
   ]
  },
  {
   "cell_type": "code",
   "execution_count": 5,
   "metadata": {
    "scrolled": true
   },
   "outputs": [
    {
     "data": {
      "text/plain": [
       "array(['2016'], dtype=object)"
      ]
     },
     "execution_count": 5,
     "metadata": {},
     "output_type": "execute_result"
    }
   ],
   "source": [
    "raw_data['LSYear'].unique()"
   ]
  },
  {
   "cell_type": "markdown",
   "metadata": {},
   "source": [
    "Учли, что выгрузка была сделана в 2016 году."
   ]
  },
  {
   "cell_type": "markdown",
   "metadata": {},
   "source": [
    "Приведем данные в порядок - удалим те, что не понадобятся для модели и заменим названия столбцов на более удобный формат."
   ]
  },
  {
   "cell_type": "code",
   "execution_count": 6,
   "metadata": {},
   "outputs": [],
   "source": [
    "raw_data = raw_data.drop(['DateCrawled', 'RegistrationMonth', 'DateCreated', 'PostalCode', 'LastSeen', \n",
    "                     'NumberOfPictures', 'LSYear'], \n",
    "                         axis = 1)"
   ]
  },
  {
   "cell_type": "code",
   "execution_count": 7,
   "metadata": {},
   "outputs": [],
   "source": [
    "raw_data.columns = raw_data.columns.str.lower()\n",
    "data = raw_data.rename(columns={'vehicletype':'vehicle_type', \n",
    "                        'registrationyear':'registration_year',\n",
    "                        'fueltype':'fuel_type', \n",
    "                        'notrepaired':'not_repaired'})"
   ]
  },
  {
   "cell_type": "code",
   "execution_count": 8,
   "metadata": {
    "scrolled": false
   },
   "outputs": [
    {
     "data": {
      "text/plain": [
       "Index(['price', 'vehicle_type', 'registration_year', 'gearbox', 'power',\n",
       "       'model', 'kilometer', 'fuel_type', 'brand', 'repaired'],\n",
       "      dtype='object')"
      ]
     },
     "execution_count": 8,
     "metadata": {},
     "output_type": "execute_result"
    }
   ],
   "source": [
    "data.columns"
   ]
  },
  {
   "cell_type": "markdown",
   "metadata": {},
   "source": [
    "<div class=\"alert alert-block alert-success\">\n",
    "<b>Успех:</b> Удалить неинформативные признаки - верное решение.\n",
    "</div>"
   ]
  },
  {
   "cell_type": "code",
   "execution_count": 9,
   "metadata": {
    "scrolled": true
   },
   "outputs": [
    {
     "data": {
      "text/html": [
       "<div>\n",
       "<style scoped>\n",
       "    .dataframe tbody tr th:only-of-type {\n",
       "        vertical-align: middle;\n",
       "    }\n",
       "\n",
       "    .dataframe tbody tr th {\n",
       "        vertical-align: top;\n",
       "    }\n",
       "\n",
       "    .dataframe thead th {\n",
       "        text-align: right;\n",
       "    }\n",
       "</style>\n",
       "<table border=\"1\" class=\"dataframe\">\n",
       "  <thead>\n",
       "    <tr style=\"text-align: right;\">\n",
       "      <th></th>\n",
       "      <th>price</th>\n",
       "      <th>vehicle_type</th>\n",
       "      <th>registration_year</th>\n",
       "      <th>gearbox</th>\n",
       "      <th>power</th>\n",
       "      <th>model</th>\n",
       "      <th>kilometer</th>\n",
       "      <th>fuel_type</th>\n",
       "      <th>brand</th>\n",
       "      <th>repaired</th>\n",
       "    </tr>\n",
       "  </thead>\n",
       "  <tbody>\n",
       "    <tr>\n",
       "      <th>0</th>\n",
       "      <td>480</td>\n",
       "      <td>NaN</td>\n",
       "      <td>1993</td>\n",
       "      <td>manual</td>\n",
       "      <td>0</td>\n",
       "      <td>golf</td>\n",
       "      <td>150000</td>\n",
       "      <td>petrol</td>\n",
       "      <td>volkswagen</td>\n",
       "      <td>NaN</td>\n",
       "    </tr>\n",
       "    <tr>\n",
       "      <th>1</th>\n",
       "      <td>18300</td>\n",
       "      <td>coupe</td>\n",
       "      <td>2011</td>\n",
       "      <td>manual</td>\n",
       "      <td>190</td>\n",
       "      <td>NaN</td>\n",
       "      <td>125000</td>\n",
       "      <td>gasoline</td>\n",
       "      <td>audi</td>\n",
       "      <td>yes</td>\n",
       "    </tr>\n",
       "    <tr>\n",
       "      <th>2</th>\n",
       "      <td>9800</td>\n",
       "      <td>suv</td>\n",
       "      <td>2004</td>\n",
       "      <td>auto</td>\n",
       "      <td>163</td>\n",
       "      <td>grand</td>\n",
       "      <td>125000</td>\n",
       "      <td>gasoline</td>\n",
       "      <td>jeep</td>\n",
       "      <td>NaN</td>\n",
       "    </tr>\n",
       "    <tr>\n",
       "      <th>3</th>\n",
       "      <td>1500</td>\n",
       "      <td>small</td>\n",
       "      <td>2001</td>\n",
       "      <td>manual</td>\n",
       "      <td>75</td>\n",
       "      <td>golf</td>\n",
       "      <td>150000</td>\n",
       "      <td>petrol</td>\n",
       "      <td>volkswagen</td>\n",
       "      <td>no</td>\n",
       "    </tr>\n",
       "    <tr>\n",
       "      <th>4</th>\n",
       "      <td>3600</td>\n",
       "      <td>small</td>\n",
       "      <td>2008</td>\n",
       "      <td>manual</td>\n",
       "      <td>69</td>\n",
       "      <td>fabia</td>\n",
       "      <td>90000</td>\n",
       "      <td>gasoline</td>\n",
       "      <td>skoda</td>\n",
       "      <td>no</td>\n",
       "    </tr>\n",
       "  </tbody>\n",
       "</table>\n",
       "</div>"
      ],
      "text/plain": [
       "   price vehicle_type  registration_year gearbox  power  model  kilometer  \\\n",
       "0    480          NaN               1993  manual      0   golf     150000   \n",
       "1  18300        coupe               2011  manual    190    NaN     125000   \n",
       "2   9800          suv               2004    auto    163  grand     125000   \n",
       "3   1500        small               2001  manual     75   golf     150000   \n",
       "4   3600        small               2008  manual     69  fabia      90000   \n",
       "\n",
       "  fuel_type       brand repaired  \n",
       "0    petrol  volkswagen      NaN  \n",
       "1  gasoline        audi      yes  \n",
       "2  gasoline        jeep      NaN  \n",
       "3    petrol  volkswagen       no  \n",
       "4  gasoline       skoda       no  "
      ]
     },
     "execution_count": 9,
     "metadata": {},
     "output_type": "execute_result"
    }
   ],
   "source": [
    "data.head()"
   ]
  },
  {
   "cell_type": "markdown",
   "metadata": {},
   "source": [
    "Проверим количество провпущенных значений, чтобы решить, что с ними делать."
   ]
  },
  {
   "cell_type": "code",
   "execution_count": 10,
   "metadata": {
    "scrolled": true
   },
   "outputs": [
    {
     "data": {
      "text/plain": [
       "price                    0\n",
       "vehicle_type         37490\n",
       "registration_year        0\n",
       "gearbox              19833\n",
       "power                    0\n",
       "model                19705\n",
       "kilometer                0\n",
       "fuel_type            32895\n",
       "brand                    0\n",
       "repaired             71154\n",
       "dtype: int64"
      ]
     },
     "execution_count": 10,
     "metadata": {},
     "output_type": "execute_result"
    }
   ],
   "source": [
    "data.isna().sum()"
   ]
  },
  {
   "cell_type": "markdown",
   "metadata": {},
   "source": [
    "Перед работой с пропущенными значениями посмотрим на распределение числовых признаков и на уникальные значения в каждой колонке."
   ]
  },
  {
   "cell_type": "code",
   "execution_count": 11,
   "metadata": {},
   "outputs": [
    {
     "data": {
      "text/plain": [
       "count    354369.000000\n",
       "mean       4416.656776\n",
       "std        4514.158514\n",
       "min           0.000000\n",
       "25%        1050.000000\n",
       "50%        2700.000000\n",
       "75%        6400.000000\n",
       "max       20000.000000\n",
       "Name: price, dtype: float64"
      ]
     },
     "execution_count": 11,
     "metadata": {},
     "output_type": "execute_result"
    }
   ],
   "source": [
    "data['price'].describe()"
   ]
  },
  {
   "cell_type": "code",
   "execution_count": 12,
   "metadata": {
    "scrolled": true
   },
   "outputs": [
    {
     "data": {
      "text/plain": [
       "<matplotlib.axes._subplots.AxesSubplot at 0x7f49c375a4c0>"
      ]
     },
     "execution_count": 12,
     "metadata": {},
     "output_type": "execute_result"
    },
    {
     "data": {
      "image/png": "[encoded data removed]",
      "text/plain": [
       "<Figure size 432x288 with 1 Axes>"
      ]
     },
     "metadata": {
      "needs_background": "light"
     },
     "output_type": "display_data"
    }
   ],
   "source": [
    "data['price'].hist()"
   ]
  },
  {
   "cell_type": "markdown",
   "metadata": {},
   "source": [
    "Для цены удалим аномальные значения ниже первого квартиля."
   ]
  },
  {
   "cell_type": "code",
   "execution_count": 13,
   "metadata": {},
   "outputs": [],
   "source": [
    "data = data.loc[(data['price'] >= 1050)]"
   ]
  },
  {
   "cell_type": "code",
   "execution_count": 14,
   "metadata": {
    "scrolled": true
   },
   "outputs": [
    {
     "data": {
      "text/plain": [
       "count    266312.000000\n",
       "mean       5701.434126\n",
       "std        4520.741277\n",
       "min        1050.000000\n",
       "25%        2200.000000\n",
       "50%        4000.000000\n",
       "75%        7950.000000\n",
       "max       20000.000000\n",
       "Name: price, dtype: float64"
      ]
     },
     "execution_count": 14,
     "metadata": {},
     "output_type": "execute_result"
    }
   ],
   "source": [
    "data['price'].describe()"
   ]
  },
  {
   "cell_type": "code",
   "execution_count": 15,
   "metadata": {
    "scrolled": false
   },
   "outputs": [
    {
     "data": {
      "text/plain": [
       "sedan          73025\n",
       "wagon          52426\n",
       "small          50012\n",
       "bus            25750\n",
       "convertible    18603\n",
       "coupe          13238\n",
       "suv            11421\n",
       "other           2287\n",
       "Name: vehicle_type, dtype: int64"
      ]
     },
     "execution_count": 15,
     "metadata": {},
     "output_type": "execute_result"
    }
   ],
   "source": [
    "data['vehicle_type'].value_counts()"
   ]
  },
  {
   "cell_type": "code",
   "execution_count": 16,
   "metadata": {},
   "outputs": [
    {
     "data": {
      "text/plain": [
       "9999    5\n",
       "9000    1\n",
       "8888    1\n",
       "8500    1\n",
       "7800    1\n",
       "       ..\n",
       "1500    1\n",
       "1234    1\n",
       "1039    1\n",
       "1001    1\n",
       "1000    8\n",
       "Name: registration_year, Length: 122, dtype: int64"
      ]
     },
     "execution_count": 16,
     "metadata": {},
     "output_type": "execute_result"
    }
   ],
   "source": [
    "data['registration_year'].value_counts().sort_index(ascending = False)"
   ]
  },
  {
   "cell_type": "markdown",
   "metadata": {},
   "source": [
    "Удалим аномалии ранее 1910 года и старше 2016 года (выше мы выяснили, что выгрузка была сделана в 2016 году)."
   ]
  },
  {
   "cell_type": "code",
   "execution_count": 17,
   "metadata": {},
   "outputs": [],
   "source": [
    "data = data.loc[(data['registration_year'] <= 2016) & (data['registration_year'] >= 1910)]"
   ]
  },
  {
   "cell_type": "markdown",
   "metadata": {},
   "source": [
    "\n",
    "\n",
    "<div class=\"alert alert-block alert-info\">\n",
    "<b>Совет:</b> Советую посмотреть на дату выгрузки анкет - там тоже можно увидеть полезную информацию по поводу границ года регистраци.\n",
    "</div>"
   ]
  },
  {
   "cell_type": "markdown",
   "metadata": {},
   "source": [
    "<div class=\"alert alert-block alert-warning\">\n",
    "<b>Комментарий студента:</b> Учла\n",
    "</div>"
   ]
  },
  {
   "cell_type": "markdown",
   "metadata": {},
   "source": [
    "\n",
    "<div class=\"alert alert-block alert-success\">\n",
    "    \n",
    "<b>Успех[2]:</b> 👍\n",
    "</div>\n"
   ]
  },
  {
   "cell_type": "code",
   "execution_count": 18,
   "metadata": {},
   "outputs": [
    {
     "data": {
      "text/plain": [
       "2016    4409\n",
       "2015    1022\n",
       "2014    2427\n",
       "2013    4041\n",
       "2012    7079\n",
       "        ... \n",
       "1928       2\n",
       "1927       1\n",
       "1925       1\n",
       "1923       2\n",
       "1910       8\n",
       "Name: registration_year, Length: 92, dtype: int64"
      ]
     },
     "execution_count": 18,
     "metadata": {},
     "output_type": "execute_result"
    }
   ],
   "source": [
    "data['registration_year'].value_counts().sort_index(ascending = False)"
   ]
  },
  {
   "cell_type": "code",
   "execution_count": 19,
   "metadata": {},
   "outputs": [
    {
     "data": {
      "text/plain": [
       "manual    190160\n",
       "auto       57083\n",
       "Name: gearbox, dtype: int64"
      ]
     },
     "execution_count": 19,
     "metadata": {},
     "output_type": "execute_result"
    }
   ],
   "source": [
    "data['gearbox'].value_counts()"
   ]
  },
  {
   "cell_type": "code",
   "execution_count": 20,
   "metadata": {
    "scrolled": true
   },
   "outputs": [
    {
     "data": {
      "text/plain": [
       "0       17865\n",
       "75      13818\n",
       "150     12143\n",
       "140     11874\n",
       "116      9484\n",
       "        ...  \n",
       "442         1\n",
       "1082        1\n",
       "572         1\n",
       "1596        1\n",
       "317         1\n",
       "Name: power, Length: 609, dtype: int64"
      ]
     },
     "execution_count": 20,
     "metadata": {},
     "output_type": "execute_result"
    }
   ],
   "source": [
    "data['power'].value_counts()"
   ]
  },
  {
   "cell_type": "code",
   "execution_count": 21,
   "metadata": {},
   "outputs": [
    {
     "data": {
      "text/plain": [
       "(0.0, 500.0)"
      ]
     },
     "execution_count": 21,
     "metadata": {},
     "output_type": "execute_result"
    },
    {
     "data": {
      "image/png": "[encoded data removed]",
      "text/plain": [
       "<Figure size 432x288 with 1 Axes>"
      ]
     },
     "metadata": {
      "needs_background": "light"
     },
     "output_type": "display_data"
    }
   ],
   "source": [
    "data['power'].hist(bins = 1000)\n",
    "plt.xlim(0, 500)"
   ]
  },
  {
   "cell_type": "code",
   "execution_count": 22,
   "metadata": {},
   "outputs": [
    {
     "data": {
      "text/plain": [
       "count    255957.000000\n",
       "mean        123.000910\n",
       "std         190.734365\n",
       "min           0.000000\n",
       "25%          80.000000\n",
       "50%         116.000000\n",
       "75%         150.000000\n",
       "max       20000.000000\n",
       "Name: power, dtype: float64"
      ]
     },
     "execution_count": 22,
     "metadata": {},
     "output_type": "execute_result"
    }
   ],
   "source": [
    "data['power'].describe()"
   ]
  },
  {
   "cell_type": "markdown",
   "metadata": {},
   "source": [
    "В нуле находится много значений, а первый квартиль равен 69. Удалим все, что ниже первого квартиля и что выше 300 л.с."
   ]
  },
  {
   "cell_type": "code",
   "execution_count": 23,
   "metadata": {},
   "outputs": [
    {
     "data": {
      "text/plain": [
       "count    211219.000000\n",
       "mean        133.766423\n",
       "std          45.343723\n",
       "min          69.000000\n",
       "25%         101.000000\n",
       "50%         125.000000\n",
       "75%         160.000000\n",
       "max         300.000000\n",
       "Name: power, dtype: float64"
      ]
     },
     "execution_count": 23,
     "metadata": {},
     "output_type": "execute_result"
    }
   ],
   "source": [
    "data.loc[data['power'] < 69, ['power']] = np.nan\n",
    "data.loc[data['power'] > 300, ['power']] = np.nan\n",
    "data['power'].describe()"
   ]
  },
  {
   "cell_type": "markdown",
   "metadata": {},
   "source": [
    "<div class=\"alert alert-block alert-info\">\n",
    "<b>Совет[2]:</b>  Вопрос на подумать: Как думаешь а машины с 0-ой мощностью могут быть просто без двигателя?\n",
    "</div>\n",
    "\n"
   ]
  },
  {
   "cell_type": "code",
   "execution_count": 24,
   "metadata": {
    "scrolled": true
   },
   "outputs": [
    {
     "data": {
      "text/plain": [
       "golf                  20583\n",
       "other                 17658\n",
       "3er                   16084\n",
       "a4                     8190\n",
       "passat                 8017\n",
       "polo                   7138\n",
       "c_klasse               7031\n",
       "5er                    6958\n",
       "astra                  6868\n",
       "corsa                  5918\n",
       "e_klasse               5861\n",
       "a3                     5175\n",
       "a6                     4948\n",
       "transporter            4288\n",
       "focus                  4109\n",
       "2_reihe                3835\n",
       "fortwo                 3790\n",
       "1er                    3365\n",
       "touran                 3218\n",
       "fiesta                 3177\n",
       "a_klasse               3097\n",
       "zafira                 2569\n",
       "3_reihe                2354\n",
       "vectra                 2112\n",
       "mondeo                 2088\n",
       "clio                   2077\n",
       "twingo                 1978\n",
       "octavia                1941\n",
       "fabia                  1930\n",
       "ibiza                  1897\n",
       "cooper                 1874\n",
       "megane                 1805\n",
       "clk                    1687\n",
       "lupo                   1535\n",
       "x_reihe                1527\n",
       "punto                  1521\n",
       "sharan                 1310\n",
       "caddy                  1306\n",
       "leon                   1204\n",
       "i_reihe                1194\n",
       "slk                    1194\n",
       "ka                     1083\n",
       "tt                     1032\n",
       "meriva                  976\n",
       "6_reihe                 932\n",
       "yaris                   925\n",
       "scenic                  916\n",
       "m_klasse                916\n",
       "7er                     905\n",
       "mx_reihe                894\n",
       "galaxy                  880\n",
       "500                     858\n",
       "micra                   848\n",
       "one                     843\n",
       "b_klasse                818\n",
       "s_klasse                818\n",
       "vito                    803\n",
       "bora                    769\n",
       "beetle                  761\n",
       "laguna                  755\n",
       "civic                   755\n",
       "z_reihe                 699\n",
       "sprinter                693\n",
       "fox                     685\n",
       "80                      654\n",
       "transit                 652\n",
       "tiguan                  639\n",
       "c_max                   634\n",
       "kangoo                  626\n",
       "insignia                617\n",
       "berlingo                596\n",
       "panda                   580\n",
       "a1                      576\n",
       "scirocco                561\n",
       "touareg                 558\n",
       "omega                   541\n",
       "avensis                 537\n",
       "1_reihe                 535\n",
       "corolla                 531\n",
       "grand                   522\n",
       "a5                      520\n",
       "qashqai                 518\n",
       "eos                     501\n",
       "colt                    500\n",
       "v70                     500\n",
       "tigra                   487\n",
       "a8                      486\n",
       "swift                   483\n",
       "4_reihe                 479\n",
       "c3                      468\n",
       "signum                  453\n",
       "c4                      423\n",
       "5_reihe                 423\n",
       "s_max                   420\n",
       "147                     410\n",
       "c5                      405\n",
       "stilo                   404\n",
       "aygo                    403\n",
       "sl                      378\n",
       "c1                      370\n",
       "arosa                   364\n",
       "ducato                  358\n",
       "kaefer                  358\n",
       "superb                  355\n",
       "c2                      351\n",
       "forfour                 350\n",
       "a2                      349\n",
       "v40                     347\n",
       "156                     342\n",
       "altea                   341\n",
       "picanto                 341\n",
       "espace                  340\n",
       "rav                     337\n",
       "primera                 335\n",
       "up                      334\n",
       "getz                    329\n",
       "sorento                 323\n",
       "alhambra                321\n",
       "almera                  321\n",
       "matiz                   313\n",
       "combo                   312\n",
       "kuga                    309\n",
       "logan                   298\n",
       "cr_reihe                296\n",
       "santa                   294\n",
       "verso                   293\n",
       "modus                   293\n",
       "vivaro                  293\n",
       "jazz                    284\n",
       "doblo                   277\n",
       "accord                  277\n",
       "sandero                 277\n",
       "fusion                  269\n",
       "agila                   262\n",
       "xc_reihe                261\n",
       "jetta                   261\n",
       "roomster                259\n",
       "rio                     259\n",
       "viano                   249\n",
       "v50                     246\n",
       "ceed                    241\n",
       "ptcruiser               234\n",
       "sportage                226\n",
       "tucson                  224\n",
       "100                     224\n",
       "auris                   223\n",
       "cayenne                 223\n",
       "cl                      215\n",
       "boxster                 214\n",
       "jimny                   206\n",
       "phaeton                 204\n",
       "freelander              204\n",
       "159                     203\n",
       "x_trail                 199\n",
       "toledo                  199\n",
       "escort                  199\n",
       "duster                  198\n",
       "q7                      197\n",
       "carnival                197\n",
       "clubman                 195\n",
       "kadett                  189\n",
       "pajero                  187\n",
       "c_reihe                 184\n",
       "601                     179\n",
       "roadster                177\n",
       "spider                  176\n",
       "yeti                    172\n",
       "voyager                 171\n",
       "captiva                 164\n",
       "bravo                   162\n",
       "mustang                 159\n",
       "x_type                  153\n",
       "lancer                  144\n",
       "impreza                 143\n",
       "carisma                 143\n",
       "6er                     140\n",
       "cherokee                139\n",
       "s60                     138\n",
       "v_klasse                137\n",
       "300c                    133\n",
       "cuore                   130\n",
       "seicento                129\n",
       "rx_reihe                129\n",
       "cc                      126\n",
       "cordoba                 122\n",
       "note                    120\n",
       "s_type                  119\n",
       "spark                   118\n",
       "calibra                 115\n",
       "outlander               115\n",
       "m_reihe                 115\n",
       "niva                    113\n",
       "aveo                    109\n",
       "forester                106\n",
       "exeo                     98\n",
       "sirion                   98\n",
       "juke                     97\n",
       "wrangler                 96\n",
       "q5                       94\n",
       "antara                   94\n",
       "citigo                   90\n",
       "navara                   88\n",
       "850                      87\n",
       "galant                   86\n",
       "g_klasse                 85\n",
       "legacy                   85\n",
       "ypsilon                  83\n",
       "mii                      81\n",
       "discovery                78\n",
       "range_rover              75\n",
       "900                      73\n",
       "defender                 71\n",
       "kalos                    69\n",
       "crossfire                63\n",
       "cx_reihe                 61\n",
       "glk                      60\n",
       "911                      59\n",
       "90                       57\n",
       "range_rover_sport        54\n",
       "justy                    53\n",
       "v60                      40\n",
       "croma                    38\n",
       "lodgy                    35\n",
       "terios                   33\n",
       "r19                      32\n",
       "b_max                    26\n",
       "musa                     22\n",
       "delta                    20\n",
       "9000                     20\n",
       "nubira                   20\n",
       "materia                  18\n",
       "200                      16\n",
       "gl                       12\n",
       "q3                       12\n",
       "lanos                    11\n",
       "lybra                    11\n",
       "amarok                   11\n",
       "145                      10\n",
       "kappa                     8\n",
       "move                      7\n",
       "serie_2                   7\n",
       "i3                        5\n",
       "serie_3                   3\n",
       "charade                   3\n",
       "rangerover                3\n",
       "samara                    3\n",
       "kalina                    3\n",
       "range_rover_evoque        2\n",
       "elefantino                1\n",
       "serie_1                   1\n",
       "Name: model, dtype: int64"
      ]
     },
     "execution_count": 24,
     "metadata": {},
     "output_type": "execute_result"
    }
   ],
   "source": [
    "pd.set_option('max_rows', None)\n",
    "data['model'].value_counts()"
   ]
  },
  {
   "cell_type": "markdown",
   "metadata": {},
   "source": [
    "Удалим редкие значения, которые встречаются менее 50 раз."
   ]
  },
  {
   "cell_type": "code",
   "execution_count": 25,
   "metadata": {},
   "outputs": [
    {
     "data": {
      "text/plain": [
       "Index(['v60', 'croma', 'lodgy', 'terios', 'r19', 'b_max', 'musa', 'delta',\n",
       "       '9000', 'nubira', 'materia', '200', 'gl', 'q3', 'lanos', 'lybra',\n",
       "       'amarok', '145', 'kappa', 'move', 'serie_2', 'i3', 'serie_3', 'charade',\n",
       "       'rangerover', 'samara', 'kalina', 'range_rover_evoque', 'elefantino',\n",
       "       'serie_1'],\n",
       "      dtype='object')"
      ]
     },
     "execution_count": 25,
     "metadata": {},
     "output_type": "execute_result"
    }
   ],
   "source": [
    "threshold = 50\n",
    "\n",
    "drop = data['model'].value_counts().loc[lambda x: x<threshold].index\n",
    "drop"
   ]
  },
  {
   "cell_type": "code",
   "execution_count": 26,
   "metadata": {},
   "outputs": [],
   "source": [
    "data.loc[data['model'].isin(drop), 'model'] = np.nan"
   ]
  },
  {
   "cell_type": "code",
   "execution_count": 27,
   "metadata": {
    "scrolled": true
   },
   "outputs": [
    {
     "data": {
      "text/plain": [
       "golf                 20583\n",
       "other                17658\n",
       "3er                  16084\n",
       "a4                    8190\n",
       "passat                8017\n",
       "polo                  7138\n",
       "c_klasse              7031\n",
       "5er                   6958\n",
       "astra                 6868\n",
       "corsa                 5918\n",
       "e_klasse              5861\n",
       "a3                    5175\n",
       "a6                    4948\n",
       "transporter           4288\n",
       "focus                 4109\n",
       "2_reihe               3835\n",
       "fortwo                3790\n",
       "1er                   3365\n",
       "touran                3218\n",
       "fiesta                3177\n",
       "a_klasse              3097\n",
       "zafira                2569\n",
       "3_reihe               2354\n",
       "vectra                2112\n",
       "mondeo                2088\n",
       "clio                  2077\n",
       "twingo                1978\n",
       "octavia               1941\n",
       "fabia                 1930\n",
       "ibiza                 1897\n",
       "cooper                1874\n",
       "megane                1805\n",
       "clk                   1687\n",
       "lupo                  1535\n",
       "x_reihe               1527\n",
       "punto                 1521\n",
       "sharan                1310\n",
       "caddy                 1306\n",
       "leon                  1204\n",
       "i_reihe               1194\n",
       "slk                   1194\n",
       "ka                    1083\n",
       "tt                    1032\n",
       "meriva                 976\n",
       "6_reihe                932\n",
       "yaris                  925\n",
       "scenic                 916\n",
       "m_klasse               916\n",
       "7er                    905\n",
       "mx_reihe               894\n",
       "galaxy                 880\n",
       "500                    858\n",
       "micra                  848\n",
       "one                    843\n",
       "b_klasse               818\n",
       "s_klasse               818\n",
       "vito                   803\n",
       "bora                   769\n",
       "beetle                 761\n",
       "civic                  755\n",
       "laguna                 755\n",
       "z_reihe                699\n",
       "sprinter               693\n",
       "fox                    685\n",
       "80                     654\n",
       "transit                652\n",
       "tiguan                 639\n",
       "c_max                  634\n",
       "kangoo                 626\n",
       "insignia               617\n",
       "berlingo               596\n",
       "panda                  580\n",
       "a1                     576\n",
       "scirocco               561\n",
       "touareg                558\n",
       "omega                  541\n",
       "avensis                537\n",
       "1_reihe                535\n",
       "corolla                531\n",
       "grand                  522\n",
       "a5                     520\n",
       "qashqai                518\n",
       "eos                    501\n",
       "colt                   500\n",
       "v70                    500\n",
       "tigra                  487\n",
       "a8                     486\n",
       "swift                  483\n",
       "4_reihe                479\n",
       "c3                     468\n",
       "signum                 453\n",
       "5_reihe                423\n",
       "c4                     423\n",
       "s_max                  420\n",
       "147                    410\n",
       "c5                     405\n",
       "stilo                  404\n",
       "aygo                   403\n",
       "sl                     378\n",
       "c1                     370\n",
       "arosa                  364\n",
       "kaefer                 358\n",
       "ducato                 358\n",
       "superb                 355\n",
       "c2                     351\n",
       "forfour                350\n",
       "a2                     349\n",
       "v40                    347\n",
       "156                    342\n",
       "altea                  341\n",
       "picanto                341\n",
       "espace                 340\n",
       "rav                    337\n",
       "primera                335\n",
       "up                     334\n",
       "getz                   329\n",
       "sorento                323\n",
       "almera                 321\n",
       "alhambra               321\n",
       "matiz                  313\n",
       "combo                  312\n",
       "kuga                   309\n",
       "logan                  298\n",
       "cr_reihe               296\n",
       "santa                  294\n",
       "verso                  293\n",
       "modus                  293\n",
       "vivaro                 293\n",
       "jazz                   284\n",
       "sandero                277\n",
       "doblo                  277\n",
       "accord                 277\n",
       "fusion                 269\n",
       "agila                  262\n",
       "xc_reihe               261\n",
       "jetta                  261\n",
       "roomster               259\n",
       "rio                    259\n",
       "viano                  249\n",
       "v50                    246\n",
       "ceed                   241\n",
       "ptcruiser              234\n",
       "sportage               226\n",
       "tucson                 224\n",
       "100                    224\n",
       "cayenne                223\n",
       "auris                  223\n",
       "cl                     215\n",
       "boxster                214\n",
       "jimny                  206\n",
       "phaeton                204\n",
       "freelander             204\n",
       "159                    203\n",
       "x_trail                199\n",
       "toledo                 199\n",
       "escort                 199\n",
       "duster                 198\n",
       "q7                     197\n",
       "carnival               197\n",
       "clubman                195\n",
       "kadett                 189\n",
       "pajero                 187\n",
       "c_reihe                184\n",
       "601                    179\n",
       "roadster               177\n",
       "spider                 176\n",
       "yeti                   172\n",
       "voyager                171\n",
       "captiva                164\n",
       "bravo                  162\n",
       "mustang                159\n",
       "x_type                 153\n",
       "lancer                 144\n",
       "carisma                143\n",
       "impreza                143\n",
       "6er                    140\n",
       "cherokee               139\n",
       "s60                    138\n",
       "v_klasse               137\n",
       "300c                   133\n",
       "cuore                  130\n",
       "seicento               129\n",
       "rx_reihe               129\n",
       "cc                     126\n",
       "cordoba                122\n",
       "note                   120\n",
       "s_type                 119\n",
       "spark                  118\n",
       "calibra                115\n",
       "outlander              115\n",
       "m_reihe                115\n",
       "niva                   113\n",
       "aveo                   109\n",
       "forester               106\n",
       "sirion                  98\n",
       "exeo                    98\n",
       "juke                    97\n",
       "wrangler                96\n",
       "antara                  94\n",
       "q5                      94\n",
       "citigo                  90\n",
       "navara                  88\n",
       "850                     87\n",
       "galant                  86\n",
       "g_klasse                85\n",
       "legacy                  85\n",
       "ypsilon                 83\n",
       "mii                     81\n",
       "discovery               78\n",
       "range_rover             75\n",
       "900                     73\n",
       "defender                71\n",
       "kalos                   69\n",
       "crossfire               63\n",
       "cx_reihe                61\n",
       "glk                     60\n",
       "911                     59\n",
       "90                      57\n",
       "range_rover_sport       54\n",
       "justy                   53\n",
       "Name: model, dtype: int64"
      ]
     },
     "execution_count": 27,
     "metadata": {},
     "output_type": "execute_result"
    }
   ],
   "source": [
    "data['model'].value_counts()"
   ]
  },
  {
   "cell_type": "code",
   "execution_count": 28,
   "metadata": {},
   "outputs": [
    {
     "data": {
      "text/plain": [
       "150000    160285\n",
       "125000     28928\n",
       "100000     12200\n",
       "90000       9972\n",
       "80000       8864\n",
       "70000       7770\n",
       "60000       6860\n",
       "50000       5791\n",
       "40000       4618\n",
       "30000       3925\n",
       "20000       3182\n",
       "5000        2615\n",
       "10000        947\n",
       "Name: kilometer, dtype: int64"
      ]
     },
     "execution_count": 28,
     "metadata": {},
     "output_type": "execute_result"
    }
   ],
   "source": [
    "data['kilometer'].value_counts()"
   ]
  },
  {
   "cell_type": "code",
   "execution_count": 29,
   "metadata": {},
   "outputs": [
    {
     "data": {
      "text/plain": [
       "<matplotlib.axes._subplots.AxesSubplot at 0x7f49c3740520>"
      ]
     },
     "execution_count": 29,
     "metadata": {},
     "output_type": "execute_result"
    },
    {
     "data": {
      "image/png": "[encoded data removed]",
      "text/plain": [
       "<Figure size 432x288 with 1 Axes>"
      ]
     },
     "metadata": {
      "needs_background": "light"
     },
     "output_type": "display_data"
    }
   ],
   "source": [
    "data['kilometer'].hist()"
   ]
  },
  {
   "cell_type": "code",
   "execution_count": 30,
   "metadata": {
    "scrolled": false
   },
   "outputs": [
    {
     "data": {
      "text/plain": [
       "count    255957.000000\n",
       "mean     125486.136343\n",
       "std       38379.512738\n",
       "min        5000.000000\n",
       "25%      100000.000000\n",
       "50%      150000.000000\n",
       "75%      150000.000000\n",
       "max      150000.000000\n",
       "Name: kilometer, dtype: float64"
      ]
     },
     "execution_count": 30,
     "metadata": {},
     "output_type": "execute_result"
    }
   ],
   "source": [
    "data['kilometer'].describe()"
   ]
  },
  {
   "cell_type": "markdown",
   "metadata": {},
   "source": [
    "Километры пока трогать не будем, чтобы не лишиться большого процента данных."
   ]
  },
  {
   "cell_type": "code",
   "execution_count": 31,
   "metadata": {
    "scrolled": true
   },
   "outputs": [
    {
     "data": {
      "text/plain": [
       "petrol      148629\n",
       "gasoline     89447\n",
       "lpg           4296\n",
       "cng            479\n",
       "hybrid         207\n",
       "other           86\n",
       "electric        75\n",
       "Name: fuel_type, dtype: int64"
      ]
     },
     "execution_count": 31,
     "metadata": {},
     "output_type": "execute_result"
    }
   ],
   "source": [
    "data['fuel_type'].value_counts()"
   ]
  },
  {
   "cell_type": "markdown",
   "metadata": {},
   "source": [
    "Среди типов топлива есть повторяющееся - petrol и gasoline означают бензин.Оставим только одно название."
   ]
  },
  {
   "cell_type": "code",
   "execution_count": 32,
   "metadata": {},
   "outputs": [
    {
     "data": {
      "text/plain": [
       "petrol      238076\n",
       "lpg           4296\n",
       "cng            479\n",
       "hybrid         207\n",
       "other           86\n",
       "electric        75\n",
       "Name: fuel_type, dtype: int64"
      ]
     },
     "execution_count": 32,
     "metadata": {},
     "output_type": "execute_result"
    }
   ],
   "source": [
    "data['fuel_type'] = data['fuel_type'].replace(['gasoline'],'petrol')\n",
    "data['fuel_type'].value_counts()"
   ]
  },
  {
   "cell_type": "markdown",
   "metadata": {},
   "source": [
    "\n",
    "\n",
    "<div class=\"alert alert-block alert-info\">\n",
    "<b>Совет:</b> Еще интересно, что среди категорий нет дизеля\n",
    "</div>"
   ]
  },
  {
   "cell_type": "markdown",
   "metadata": {},
   "source": [
    "<div class=\"alert alert-block alert-warning\">\n",
    "<b>Комментарий студента:</b> Это мы просто для себя отметили или можем сделать какие-то выводы?\n",
    "</div>"
   ]
  },
  {
   "cell_type": "markdown",
   "metadata": {},
   "source": [
    "\n",
    "<div class=\"alert alert-block alert-success\">\n",
    "    \n",
    "<b>Успех[2]:</b> Правильного ответа нет, но вероятно, это связано с прпоусками в колонке\n",
    "</div>\n"
   ]
  },
  {
   "cell_type": "code",
   "execution_count": 33,
   "metadata": {
    "scrolled": true
   },
   "outputs": [
    {
     "data": {
      "text/plain": [
       "volkswagen        55310\n",
       "bmw               31028\n",
       "mercedes_benz     27361\n",
       "audi              24214\n",
       "opel              23397\n",
       "ford              15270\n",
       "renault            9902\n",
       "peugeot            7782\n",
       "fiat               5629\n",
       "skoda              4924\n",
       "seat               4749\n",
       "smart              4516\n",
       "toyota             3968\n",
       "mazda              3881\n",
       "citroen            3690\n",
       "nissan             3159\n",
       "mini               3032\n",
       "hyundai            2898\n",
       "volvo              2252\n",
       "sonstige_autos     2137\n",
       "kia                1968\n",
       "honda              1921\n",
       "mitsubishi         1746\n",
       "suzuki             1679\n",
       "alfa_romeo         1637\n",
       "chevrolet          1536\n",
       "chrysler            986\n",
       "dacia               845\n",
       "porsche             673\n",
       "jeep                611\n",
       "land_rover          519\n",
       "jaguar              462\n",
       "subaru              455\n",
       "saab                382\n",
       "daihatsu            364\n",
       "trabant             254\n",
       "lancia              230\n",
       "daewoo              225\n",
       "rover               195\n",
       "lada                170\n",
       "Name: brand, dtype: int64"
      ]
     },
     "execution_count": 33,
     "metadata": {},
     "output_type": "execute_result"
    }
   ],
   "source": [
    "data['brand'].value_counts()"
   ]
  },
  {
   "cell_type": "code",
   "execution_count": 34,
   "metadata": {},
   "outputs": [
    {
     "data": {
      "text/plain": [
       "no     204186\n",
       "yes     15541\n",
       "Name: repaired, dtype: int64"
      ]
     },
     "execution_count": 34,
     "metadata": {},
     "output_type": "execute_result"
    }
   ],
   "source": [
    "data['repaired'].value_counts()"
   ]
  },
  {
   "cell_type": "markdown",
   "metadata": {},
   "source": [
    "Теперь у всего набора данныз удалим строки, в которых менее 8 не NaN значений из 11 колонок. Затем заменим оставшиеся пропущенные значения на Other.\n",
    "\n",
    "А мощность и цену заполним медианой на основании групп."
   ]
  },
  {
   "cell_type": "code",
   "execution_count": 35,
   "metadata": {},
   "outputs": [],
   "source": [
    "data = data.dropna(thresh=8, axis=0)"
   ]
  },
  {
   "cell_type": "code",
   "execution_count": 36,
   "metadata": {
    "scrolled": false
   },
   "outputs": [
    {
     "data": {
      "text/plain": [
       "price                    0\n",
       "vehicle_type          4352\n",
       "registration_year        0\n",
       "gearbox               4046\n",
       "power                37581\n",
       "model                 6887\n",
       "kilometer                0\n",
       "fuel_type             7376\n",
       "brand                    0\n",
       "repaired             28826\n",
       "dtype: int64"
      ]
     },
     "execution_count": 36,
     "metadata": {},
     "output_type": "execute_result"
    }
   ],
   "source": [
    "data.isna().sum()"
   ]
  },
  {
   "cell_type": "code",
   "execution_count": 37,
   "metadata": {},
   "outputs": [],
   "source": [
    "data['vehicle_type'] = data['vehicle_type'].fillna('Other')\n",
    "data['gearbox'] = data['gearbox'].fillna('Other')\n",
    "data['model'] = data['model'].fillna('Other')\n",
    "data['fuel_type'] = data['fuel_type'].fillna('Other')\n",
    "data['repaired'] = data['repaired'].fillna('Other')"
   ]
  },
  {
   "cell_type": "code",
   "execution_count": 38,
   "metadata": {},
   "outputs": [],
   "source": [
    "data['power'] = data['power'].fillna(data.groupby('model')['power'].transform('median'))\n",
    "data['price'] = data['price'].fillna(data.groupby([\n",
    "    'model', 'vehicle_type', 'repaired'])['price'].transform('median'))"
   ]
  },
  {
   "cell_type": "code",
   "execution_count": 39,
   "metadata": {
    "scrolled": false
   },
   "outputs": [
    {
     "data": {
      "text/plain": [
       "price                  0\n",
       "vehicle_type           0\n",
       "registration_year      0\n",
       "gearbox                0\n",
       "power                266\n",
       "model                  0\n",
       "kilometer              0\n",
       "fuel_type              0\n",
       "brand                  0\n",
       "repaired               0\n",
       "dtype: int64"
      ]
     },
     "execution_count": 39,
     "metadata": {},
     "output_type": "execute_result"
    }
   ],
   "source": [
    "data.isna().sum()"
   ]
  },
  {
   "cell_type": "markdown",
   "metadata": {},
   "source": [
    "Для мощности мы заполнили не все пропущенные значения. Проверим к чему они относятся и заполним их дополнительно."
   ]
  },
  {
   "cell_type": "code",
   "execution_count": 40,
   "metadata": {
    "scrolled": true
   },
   "outputs": [
    {
     "data": {
      "text/html": [
       "<div>\n",
       "<style scoped>\n",
       "    .dataframe tbody tr th:only-of-type {\n",
       "        vertical-align: middle;\n",
       "    }\n",
       "\n",
       "    .dataframe tbody tr th {\n",
       "        vertical-align: top;\n",
       "    }\n",
       "\n",
       "    .dataframe thead th {\n",
       "        text-align: right;\n",
       "    }\n",
       "</style>\n",
       "<table border=\"1\" class=\"dataframe\">\n",
       "  <thead>\n",
       "    <tr style=\"text-align: right;\">\n",
       "      <th></th>\n",
       "      <th>price</th>\n",
       "      <th>vehicle_type</th>\n",
       "      <th>registration_year</th>\n",
       "      <th>gearbox</th>\n",
       "      <th>power</th>\n",
       "      <th>model</th>\n",
       "      <th>kilometer</th>\n",
       "      <th>fuel_type</th>\n",
       "      <th>brand</th>\n",
       "      <th>repaired</th>\n",
       "    </tr>\n",
       "  </thead>\n",
       "  <tbody>\n",
       "    <tr>\n",
       "      <th>5941</th>\n",
       "      <td>2990</td>\n",
       "      <td>small</td>\n",
       "      <td>2005</td>\n",
       "      <td>manual</td>\n",
       "      <td>NaN</td>\n",
       "      <td>seicento</td>\n",
       "      <td>40000</td>\n",
       "      <td>petrol</td>\n",
       "      <td>fiat</td>\n",
       "      <td>Other</td>\n",
       "    </tr>\n",
       "    <tr>\n",
       "      <th>9642</th>\n",
       "      <td>1199</td>\n",
       "      <td>small</td>\n",
       "      <td>2000</td>\n",
       "      <td>manual</td>\n",
       "      <td>NaN</td>\n",
       "      <td>seicento</td>\n",
       "      <td>150000</td>\n",
       "      <td>petrol</td>\n",
       "      <td>fiat</td>\n",
       "      <td>no</td>\n",
       "    </tr>\n",
       "    <tr>\n",
       "      <th>9974</th>\n",
       "      <td>1200</td>\n",
       "      <td>small</td>\n",
       "      <td>2004</td>\n",
       "      <td>manual</td>\n",
       "      <td>NaN</td>\n",
       "      <td>seicento</td>\n",
       "      <td>150000</td>\n",
       "      <td>petrol</td>\n",
       "      <td>fiat</td>\n",
       "      <td>no</td>\n",
       "    </tr>\n",
       "    <tr>\n",
       "      <th>11549</th>\n",
       "      <td>5900</td>\n",
       "      <td>sedan</td>\n",
       "      <td>1989</td>\n",
       "      <td>manual</td>\n",
       "      <td>NaN</td>\n",
       "      <td>601</td>\n",
       "      <td>20000</td>\n",
       "      <td>petrol</td>\n",
       "      <td>trabant</td>\n",
       "      <td>no</td>\n",
       "    </tr>\n",
       "    <tr>\n",
       "      <th>14104</th>\n",
       "      <td>1199</td>\n",
       "      <td>small</td>\n",
       "      <td>2002</td>\n",
       "      <td>manual</td>\n",
       "      <td>NaN</td>\n",
       "      <td>seicento</td>\n",
       "      <td>125000</td>\n",
       "      <td>petrol</td>\n",
       "      <td>fiat</td>\n",
       "      <td>no</td>\n",
       "    </tr>\n",
       "    <tr>\n",
       "      <th>14200</th>\n",
       "      <td>1290</td>\n",
       "      <td>small</td>\n",
       "      <td>2000</td>\n",
       "      <td>manual</td>\n",
       "      <td>NaN</td>\n",
       "      <td>seicento</td>\n",
       "      <td>150000</td>\n",
       "      <td>petrol</td>\n",
       "      <td>fiat</td>\n",
       "      <td>no</td>\n",
       "    </tr>\n",
       "    <tr>\n",
       "      <th>16720</th>\n",
       "      <td>3750</td>\n",
       "      <td>small</td>\n",
       "      <td>1976</td>\n",
       "      <td>manual</td>\n",
       "      <td>NaN</td>\n",
       "      <td>601</td>\n",
       "      <td>40000</td>\n",
       "      <td>petrol</td>\n",
       "      <td>trabant</td>\n",
       "      <td>no</td>\n",
       "    </tr>\n",
       "    <tr>\n",
       "      <th>21306</th>\n",
       "      <td>1250</td>\n",
       "      <td>small</td>\n",
       "      <td>1998</td>\n",
       "      <td>manual</td>\n",
       "      <td>NaN</td>\n",
       "      <td>seicento</td>\n",
       "      <td>100000</td>\n",
       "      <td>petrol</td>\n",
       "      <td>fiat</td>\n",
       "      <td>no</td>\n",
       "    </tr>\n",
       "    <tr>\n",
       "      <th>21468</th>\n",
       "      <td>4800</td>\n",
       "      <td>sedan</td>\n",
       "      <td>1988</td>\n",
       "      <td>manual</td>\n",
       "      <td>NaN</td>\n",
       "      <td>601</td>\n",
       "      <td>40000</td>\n",
       "      <td>petrol</td>\n",
       "      <td>trabant</td>\n",
       "      <td>no</td>\n",
       "    </tr>\n",
       "    <tr>\n",
       "      <th>21997</th>\n",
       "      <td>1299</td>\n",
       "      <td>small</td>\n",
       "      <td>2000</td>\n",
       "      <td>manual</td>\n",
       "      <td>NaN</td>\n",
       "      <td>seicento</td>\n",
       "      <td>50000</td>\n",
       "      <td>petrol</td>\n",
       "      <td>fiat</td>\n",
       "      <td>no</td>\n",
       "    </tr>\n",
       "    <tr>\n",
       "      <th>24703</th>\n",
       "      <td>5000</td>\n",
       "      <td>small</td>\n",
       "      <td>1986</td>\n",
       "      <td>manual</td>\n",
       "      <td>NaN</td>\n",
       "      <td>601</td>\n",
       "      <td>60000</td>\n",
       "      <td>petrol</td>\n",
       "      <td>trabant</td>\n",
       "      <td>no</td>\n",
       "    </tr>\n",
       "    <tr>\n",
       "      <th>25453</th>\n",
       "      <td>2280</td>\n",
       "      <td>sedan</td>\n",
       "      <td>1986</td>\n",
       "      <td>manual</td>\n",
       "      <td>NaN</td>\n",
       "      <td>601</td>\n",
       "      <td>60000</td>\n",
       "      <td>petrol</td>\n",
       "      <td>trabant</td>\n",
       "      <td>no</td>\n",
       "    </tr>\n",
       "    <tr>\n",
       "      <th>26184</th>\n",
       "      <td>2500</td>\n",
       "      <td>sedan</td>\n",
       "      <td>1987</td>\n",
       "      <td>manual</td>\n",
       "      <td>NaN</td>\n",
       "      <td>601</td>\n",
       "      <td>70000</td>\n",
       "      <td>Other</td>\n",
       "      <td>trabant</td>\n",
       "      <td>no</td>\n",
       "    </tr>\n",
       "    <tr>\n",
       "      <th>26288</th>\n",
       "      <td>1450</td>\n",
       "      <td>small</td>\n",
       "      <td>1988</td>\n",
       "      <td>manual</td>\n",
       "      <td>NaN</td>\n",
       "      <td>601</td>\n",
       "      <td>70000</td>\n",
       "      <td>petrol</td>\n",
       "      <td>trabant</td>\n",
       "      <td>no</td>\n",
       "    </tr>\n",
       "    <tr>\n",
       "      <th>27075</th>\n",
       "      <td>1300</td>\n",
       "      <td>small</td>\n",
       "      <td>1999</td>\n",
       "      <td>manual</td>\n",
       "      <td>NaN</td>\n",
       "      <td>seicento</td>\n",
       "      <td>150000</td>\n",
       "      <td>petrol</td>\n",
       "      <td>fiat</td>\n",
       "      <td>no</td>\n",
       "    </tr>\n",
       "    <tr>\n",
       "      <th>27077</th>\n",
       "      <td>1750</td>\n",
       "      <td>wagon</td>\n",
       "      <td>1979</td>\n",
       "      <td>manual</td>\n",
       "      <td>NaN</td>\n",
       "      <td>601</td>\n",
       "      <td>50000</td>\n",
       "      <td>petrol</td>\n",
       "      <td>trabant</td>\n",
       "      <td>no</td>\n",
       "    </tr>\n",
       "    <tr>\n",
       "      <th>27145</th>\n",
       "      <td>1600</td>\n",
       "      <td>small</td>\n",
       "      <td>1988</td>\n",
       "      <td>manual</td>\n",
       "      <td>NaN</td>\n",
       "      <td>601</td>\n",
       "      <td>90000</td>\n",
       "      <td>petrol</td>\n",
       "      <td>trabant</td>\n",
       "      <td>no</td>\n",
       "    </tr>\n",
       "    <tr>\n",
       "      <th>27151</th>\n",
       "      <td>1900</td>\n",
       "      <td>small</td>\n",
       "      <td>2000</td>\n",
       "      <td>manual</td>\n",
       "      <td>NaN</td>\n",
       "      <td>seicento</td>\n",
       "      <td>20000</td>\n",
       "      <td>petrol</td>\n",
       "      <td>fiat</td>\n",
       "      <td>no</td>\n",
       "    </tr>\n",
       "    <tr>\n",
       "      <th>27890</th>\n",
       "      <td>6000</td>\n",
       "      <td>convertible</td>\n",
       "      <td>1989</td>\n",
       "      <td>manual</td>\n",
       "      <td>NaN</td>\n",
       "      <td>601</td>\n",
       "      <td>40000</td>\n",
       "      <td>petrol</td>\n",
       "      <td>trabant</td>\n",
       "      <td>no</td>\n",
       "    </tr>\n",
       "    <tr>\n",
       "      <th>27987</th>\n",
       "      <td>1500</td>\n",
       "      <td>small</td>\n",
       "      <td>2002</td>\n",
       "      <td>manual</td>\n",
       "      <td>NaN</td>\n",
       "      <td>seicento</td>\n",
       "      <td>150000</td>\n",
       "      <td>petrol</td>\n",
       "      <td>fiat</td>\n",
       "      <td>no</td>\n",
       "    </tr>\n",
       "    <tr>\n",
       "      <th>28054</th>\n",
       "      <td>1050</td>\n",
       "      <td>small</td>\n",
       "      <td>1984</td>\n",
       "      <td>manual</td>\n",
       "      <td>NaN</td>\n",
       "      <td>601</td>\n",
       "      <td>100000</td>\n",
       "      <td>other</td>\n",
       "      <td>trabant</td>\n",
       "      <td>no</td>\n",
       "    </tr>\n",
       "    <tr>\n",
       "      <th>28142</th>\n",
       "      <td>7000</td>\n",
       "      <td>convertible</td>\n",
       "      <td>1982</td>\n",
       "      <td>manual</td>\n",
       "      <td>NaN</td>\n",
       "      <td>601</td>\n",
       "      <td>30000</td>\n",
       "      <td>petrol</td>\n",
       "      <td>trabant</td>\n",
       "      <td>no</td>\n",
       "    </tr>\n",
       "    <tr>\n",
       "      <th>29228</th>\n",
       "      <td>2000</td>\n",
       "      <td>small</td>\n",
       "      <td>2006</td>\n",
       "      <td>manual</td>\n",
       "      <td>NaN</td>\n",
       "      <td>seicento</td>\n",
       "      <td>125000</td>\n",
       "      <td>Other</td>\n",
       "      <td>fiat</td>\n",
       "      <td>no</td>\n",
       "    </tr>\n",
       "    <tr>\n",
       "      <th>30772</th>\n",
       "      <td>9990</td>\n",
       "      <td>convertible</td>\n",
       "      <td>1975</td>\n",
       "      <td>manual</td>\n",
       "      <td>NaN</td>\n",
       "      <td>601</td>\n",
       "      <td>5000</td>\n",
       "      <td>petrol</td>\n",
       "      <td>trabant</td>\n",
       "      <td>no</td>\n",
       "    </tr>\n",
       "    <tr>\n",
       "      <th>31346</th>\n",
       "      <td>1650</td>\n",
       "      <td>small</td>\n",
       "      <td>2000</td>\n",
       "      <td>manual</td>\n",
       "      <td>NaN</td>\n",
       "      <td>seicento</td>\n",
       "      <td>70000</td>\n",
       "      <td>petrol</td>\n",
       "      <td>fiat</td>\n",
       "      <td>Other</td>\n",
       "    </tr>\n",
       "    <tr>\n",
       "      <th>32471</th>\n",
       "      <td>1299</td>\n",
       "      <td>small</td>\n",
       "      <td>1999</td>\n",
       "      <td>manual</td>\n",
       "      <td>NaN</td>\n",
       "      <td>seicento</td>\n",
       "      <td>70000</td>\n",
       "      <td>petrol</td>\n",
       "      <td>fiat</td>\n",
       "      <td>no</td>\n",
       "    </tr>\n",
       "    <tr>\n",
       "      <th>36111</th>\n",
       "      <td>2000</td>\n",
       "      <td>small</td>\n",
       "      <td>1988</td>\n",
       "      <td>manual</td>\n",
       "      <td>NaN</td>\n",
       "      <td>601</td>\n",
       "      <td>60000</td>\n",
       "      <td>petrol</td>\n",
       "      <td>trabant</td>\n",
       "      <td>no</td>\n",
       "    </tr>\n",
       "    <tr>\n",
       "      <th>38108</th>\n",
       "      <td>2550</td>\n",
       "      <td>wagon</td>\n",
       "      <td>1990</td>\n",
       "      <td>manual</td>\n",
       "      <td>NaN</td>\n",
       "      <td>601</td>\n",
       "      <td>90000</td>\n",
       "      <td>petrol</td>\n",
       "      <td>trabant</td>\n",
       "      <td>no</td>\n",
       "    </tr>\n",
       "    <tr>\n",
       "      <th>38758</th>\n",
       "      <td>1949</td>\n",
       "      <td>small</td>\n",
       "      <td>2002</td>\n",
       "      <td>manual</td>\n",
       "      <td>NaN</td>\n",
       "      <td>seicento</td>\n",
       "      <td>125000</td>\n",
       "      <td>petrol</td>\n",
       "      <td>fiat</td>\n",
       "      <td>no</td>\n",
       "    </tr>\n",
       "    <tr>\n",
       "      <th>39159</th>\n",
       "      <td>1700</td>\n",
       "      <td>small</td>\n",
       "      <td>1999</td>\n",
       "      <td>manual</td>\n",
       "      <td>NaN</td>\n",
       "      <td>seicento</td>\n",
       "      <td>125000</td>\n",
       "      <td>petrol</td>\n",
       "      <td>fiat</td>\n",
       "      <td>no</td>\n",
       "    </tr>\n",
       "    <tr>\n",
       "      <th>40350</th>\n",
       "      <td>5500</td>\n",
       "      <td>convertible</td>\n",
       "      <td>1985</td>\n",
       "      <td>manual</td>\n",
       "      <td>NaN</td>\n",
       "      <td>601</td>\n",
       "      <td>40000</td>\n",
       "      <td>petrol</td>\n",
       "      <td>trabant</td>\n",
       "      <td>no</td>\n",
       "    </tr>\n",
       "    <tr>\n",
       "      <th>46664</th>\n",
       "      <td>1100</td>\n",
       "      <td>small</td>\n",
       "      <td>2002</td>\n",
       "      <td>manual</td>\n",
       "      <td>NaN</td>\n",
       "      <td>seicento</td>\n",
       "      <td>90000</td>\n",
       "      <td>petrol</td>\n",
       "      <td>fiat</td>\n",
       "      <td>no</td>\n",
       "    </tr>\n",
       "    <tr>\n",
       "      <th>47619</th>\n",
       "      <td>1299</td>\n",
       "      <td>small</td>\n",
       "      <td>2000</td>\n",
       "      <td>manual</td>\n",
       "      <td>NaN</td>\n",
       "      <td>seicento</td>\n",
       "      <td>50000</td>\n",
       "      <td>petrol</td>\n",
       "      <td>fiat</td>\n",
       "      <td>no</td>\n",
       "    </tr>\n",
       "    <tr>\n",
       "      <th>47727</th>\n",
       "      <td>1600</td>\n",
       "      <td>small</td>\n",
       "      <td>1989</td>\n",
       "      <td>manual</td>\n",
       "      <td>NaN</td>\n",
       "      <td>601</td>\n",
       "      <td>50000</td>\n",
       "      <td>other</td>\n",
       "      <td>trabant</td>\n",
       "      <td>no</td>\n",
       "    </tr>\n",
       "    <tr>\n",
       "      <th>49023</th>\n",
       "      <td>1500</td>\n",
       "      <td>small</td>\n",
       "      <td>2003</td>\n",
       "      <td>manual</td>\n",
       "      <td>NaN</td>\n",
       "      <td>seicento</td>\n",
       "      <td>150000</td>\n",
       "      <td>petrol</td>\n",
       "      <td>fiat</td>\n",
       "      <td>yes</td>\n",
       "    </tr>\n",
       "    <tr>\n",
       "      <th>49302</th>\n",
       "      <td>1599</td>\n",
       "      <td>small</td>\n",
       "      <td>2005</td>\n",
       "      <td>manual</td>\n",
       "      <td>NaN</td>\n",
       "      <td>seicento</td>\n",
       "      <td>80000</td>\n",
       "      <td>petrol</td>\n",
       "      <td>fiat</td>\n",
       "      <td>no</td>\n",
       "    </tr>\n",
       "    <tr>\n",
       "      <th>51503</th>\n",
       "      <td>2480</td>\n",
       "      <td>other</td>\n",
       "      <td>1988</td>\n",
       "      <td>manual</td>\n",
       "      <td>NaN</td>\n",
       "      <td>601</td>\n",
       "      <td>5000</td>\n",
       "      <td>petrol</td>\n",
       "      <td>trabant</td>\n",
       "      <td>no</td>\n",
       "    </tr>\n",
       "    <tr>\n",
       "      <th>52950</th>\n",
       "      <td>1600</td>\n",
       "      <td>small</td>\n",
       "      <td>2000</td>\n",
       "      <td>manual</td>\n",
       "      <td>NaN</td>\n",
       "      <td>seicento</td>\n",
       "      <td>80000</td>\n",
       "      <td>Other</td>\n",
       "      <td>fiat</td>\n",
       "      <td>no</td>\n",
       "    </tr>\n",
       "    <tr>\n",
       "      <th>53158</th>\n",
       "      <td>1200</td>\n",
       "      <td>small</td>\n",
       "      <td>2001</td>\n",
       "      <td>manual</td>\n",
       "      <td>NaN</td>\n",
       "      <td>seicento</td>\n",
       "      <td>150000</td>\n",
       "      <td>Other</td>\n",
       "      <td>fiat</td>\n",
       "      <td>no</td>\n",
       "    </tr>\n",
       "    <tr>\n",
       "      <th>53704</th>\n",
       "      <td>2000</td>\n",
       "      <td>sedan</td>\n",
       "      <td>1988</td>\n",
       "      <td>manual</td>\n",
       "      <td>NaN</td>\n",
       "      <td>601</td>\n",
       "      <td>30000</td>\n",
       "      <td>petrol</td>\n",
       "      <td>trabant</td>\n",
       "      <td>Other</td>\n",
       "    </tr>\n",
       "    <tr>\n",
       "      <th>54090</th>\n",
       "      <td>1999</td>\n",
       "      <td>sedan</td>\n",
       "      <td>1984</td>\n",
       "      <td>manual</td>\n",
       "      <td>NaN</td>\n",
       "      <td>601</td>\n",
       "      <td>60000</td>\n",
       "      <td>Other</td>\n",
       "      <td>trabant</td>\n",
       "      <td>yes</td>\n",
       "    </tr>\n",
       "    <tr>\n",
       "      <th>56106</th>\n",
       "      <td>14500</td>\n",
       "      <td>suv</td>\n",
       "      <td>2015</td>\n",
       "      <td>manual</td>\n",
       "      <td>NaN</td>\n",
       "      <td>601</td>\n",
       "      <td>40000</td>\n",
       "      <td>petrol</td>\n",
       "      <td>trabant</td>\n",
       "      <td>no</td>\n",
       "    </tr>\n",
       "    <tr>\n",
       "      <th>56371</th>\n",
       "      <td>1500</td>\n",
       "      <td>wagon</td>\n",
       "      <td>1989</td>\n",
       "      <td>manual</td>\n",
       "      <td>NaN</td>\n",
       "      <td>601</td>\n",
       "      <td>100000</td>\n",
       "      <td>other</td>\n",
       "      <td>trabant</td>\n",
       "      <td>no</td>\n",
       "    </tr>\n",
       "    <tr>\n",
       "      <th>58946</th>\n",
       "      <td>2499</td>\n",
       "      <td>small</td>\n",
       "      <td>1961</td>\n",
       "      <td>manual</td>\n",
       "      <td>NaN</td>\n",
       "      <td>601</td>\n",
       "      <td>30000</td>\n",
       "      <td>petrol</td>\n",
       "      <td>trabant</td>\n",
       "      <td>no</td>\n",
       "    </tr>\n",
       "    <tr>\n",
       "      <th>61042</th>\n",
       "      <td>1600</td>\n",
       "      <td>sedan</td>\n",
       "      <td>1989</td>\n",
       "      <td>manual</td>\n",
       "      <td>NaN</td>\n",
       "      <td>601</td>\n",
       "      <td>40000</td>\n",
       "      <td>petrol</td>\n",
       "      <td>trabant</td>\n",
       "      <td>no</td>\n",
       "    </tr>\n",
       "    <tr>\n",
       "      <th>62447</th>\n",
       "      <td>10500</td>\n",
       "      <td>convertible</td>\n",
       "      <td>1983</td>\n",
       "      <td>manual</td>\n",
       "      <td>NaN</td>\n",
       "      <td>601</td>\n",
       "      <td>10000</td>\n",
       "      <td>petrol</td>\n",
       "      <td>trabant</td>\n",
       "      <td>no</td>\n",
       "    </tr>\n",
       "    <tr>\n",
       "      <th>62821</th>\n",
       "      <td>2999</td>\n",
       "      <td>sedan</td>\n",
       "      <td>1987</td>\n",
       "      <td>manual</td>\n",
       "      <td>NaN</td>\n",
       "      <td>601</td>\n",
       "      <td>80000</td>\n",
       "      <td>other</td>\n",
       "      <td>trabant</td>\n",
       "      <td>no</td>\n",
       "    </tr>\n",
       "    <tr>\n",
       "      <th>64645</th>\n",
       "      <td>1500</td>\n",
       "      <td>small</td>\n",
       "      <td>1989</td>\n",
       "      <td>manual</td>\n",
       "      <td>NaN</td>\n",
       "      <td>601</td>\n",
       "      <td>40000</td>\n",
       "      <td>petrol</td>\n",
       "      <td>trabant</td>\n",
       "      <td>no</td>\n",
       "    </tr>\n",
       "    <tr>\n",
       "      <th>66154</th>\n",
       "      <td>1500</td>\n",
       "      <td>small</td>\n",
       "      <td>1998</td>\n",
       "      <td>manual</td>\n",
       "      <td>NaN</td>\n",
       "      <td>seicento</td>\n",
       "      <td>5000</td>\n",
       "      <td>petrol</td>\n",
       "      <td>fiat</td>\n",
       "      <td>no</td>\n",
       "    </tr>\n",
       "    <tr>\n",
       "      <th>67632</th>\n",
       "      <td>1200</td>\n",
       "      <td>small</td>\n",
       "      <td>1998</td>\n",
       "      <td>manual</td>\n",
       "      <td>NaN</td>\n",
       "      <td>seicento</td>\n",
       "      <td>90000</td>\n",
       "      <td>petrol</td>\n",
       "      <td>fiat</td>\n",
       "      <td>no</td>\n",
       "    </tr>\n",
       "    <tr>\n",
       "      <th>69300</th>\n",
       "      <td>1800</td>\n",
       "      <td>small</td>\n",
       "      <td>2002</td>\n",
       "      <td>manual</td>\n",
       "      <td>NaN</td>\n",
       "      <td>seicento</td>\n",
       "      <td>70000</td>\n",
       "      <td>petrol</td>\n",
       "      <td>fiat</td>\n",
       "      <td>no</td>\n",
       "    </tr>\n",
       "    <tr>\n",
       "      <th>70058</th>\n",
       "      <td>5000</td>\n",
       "      <td>small</td>\n",
       "      <td>1989</td>\n",
       "      <td>manual</td>\n",
       "      <td>NaN</td>\n",
       "      <td>601</td>\n",
       "      <td>20000</td>\n",
       "      <td>petrol</td>\n",
       "      <td>trabant</td>\n",
       "      <td>no</td>\n",
       "    </tr>\n",
       "    <tr>\n",
       "      <th>71163</th>\n",
       "      <td>1599</td>\n",
       "      <td>small</td>\n",
       "      <td>2004</td>\n",
       "      <td>manual</td>\n",
       "      <td>NaN</td>\n",
       "      <td>seicento</td>\n",
       "      <td>40000</td>\n",
       "      <td>petrol</td>\n",
       "      <td>fiat</td>\n",
       "      <td>no</td>\n",
       "    </tr>\n",
       "    <tr>\n",
       "      <th>73505</th>\n",
       "      <td>1250</td>\n",
       "      <td>small</td>\n",
       "      <td>1999</td>\n",
       "      <td>manual</td>\n",
       "      <td>NaN</td>\n",
       "      <td>seicento</td>\n",
       "      <td>150000</td>\n",
       "      <td>petrol</td>\n",
       "      <td>fiat</td>\n",
       "      <td>no</td>\n",
       "    </tr>\n",
       "    <tr>\n",
       "      <th>75683</th>\n",
       "      <td>6200</td>\n",
       "      <td>coupe</td>\n",
       "      <td>1982</td>\n",
       "      <td>manual</td>\n",
       "      <td>NaN</td>\n",
       "      <td>601</td>\n",
       "      <td>80000</td>\n",
       "      <td>petrol</td>\n",
       "      <td>trabant</td>\n",
       "      <td>no</td>\n",
       "    </tr>\n",
       "    <tr>\n",
       "      <th>75813</th>\n",
       "      <td>1050</td>\n",
       "      <td>small</td>\n",
       "      <td>2001</td>\n",
       "      <td>manual</td>\n",
       "      <td>NaN</td>\n",
       "      <td>seicento</td>\n",
       "      <td>100000</td>\n",
       "      <td>petrol</td>\n",
       "      <td>fiat</td>\n",
       "      <td>no</td>\n",
       "    </tr>\n",
       "    <tr>\n",
       "      <th>76353</th>\n",
       "      <td>3750</td>\n",
       "      <td>small</td>\n",
       "      <td>1976</td>\n",
       "      <td>manual</td>\n",
       "      <td>NaN</td>\n",
       "      <td>601</td>\n",
       "      <td>40000</td>\n",
       "      <td>petrol</td>\n",
       "      <td>trabant</td>\n",
       "      <td>no</td>\n",
       "    </tr>\n",
       "    <tr>\n",
       "      <th>77703</th>\n",
       "      <td>1750</td>\n",
       "      <td>small</td>\n",
       "      <td>2002</td>\n",
       "      <td>manual</td>\n",
       "      <td>NaN</td>\n",
       "      <td>seicento</td>\n",
       "      <td>70000</td>\n",
       "      <td>petrol</td>\n",
       "      <td>fiat</td>\n",
       "      <td>no</td>\n",
       "    </tr>\n",
       "    <tr>\n",
       "      <th>77918</th>\n",
       "      <td>1190</td>\n",
       "      <td>small</td>\n",
       "      <td>2003</td>\n",
       "      <td>manual</td>\n",
       "      <td>NaN</td>\n",
       "      <td>seicento</td>\n",
       "      <td>100000</td>\n",
       "      <td>petrol</td>\n",
       "      <td>fiat</td>\n",
       "      <td>no</td>\n",
       "    </tr>\n",
       "    <tr>\n",
       "      <th>77947</th>\n",
       "      <td>1250</td>\n",
       "      <td>small</td>\n",
       "      <td>2002</td>\n",
       "      <td>manual</td>\n",
       "      <td>NaN</td>\n",
       "      <td>seicento</td>\n",
       "      <td>80000</td>\n",
       "      <td>petrol</td>\n",
       "      <td>fiat</td>\n",
       "      <td>no</td>\n",
       "    </tr>\n",
       "    <tr>\n",
       "      <th>78102</th>\n",
       "      <td>1399</td>\n",
       "      <td>sedan</td>\n",
       "      <td>1986</td>\n",
       "      <td>manual</td>\n",
       "      <td>NaN</td>\n",
       "      <td>601</td>\n",
       "      <td>20000</td>\n",
       "      <td>petrol</td>\n",
       "      <td>trabant</td>\n",
       "      <td>no</td>\n",
       "    </tr>\n",
       "    <tr>\n",
       "      <th>78755</th>\n",
       "      <td>4799</td>\n",
       "      <td>small</td>\n",
       "      <td>1986</td>\n",
       "      <td>manual</td>\n",
       "      <td>NaN</td>\n",
       "      <td>601</td>\n",
       "      <td>5000</td>\n",
       "      <td>petrol</td>\n",
       "      <td>trabant</td>\n",
       "      <td>no</td>\n",
       "    </tr>\n",
       "    <tr>\n",
       "      <th>79038</th>\n",
       "      <td>1680</td>\n",
       "      <td>wagon</td>\n",
       "      <td>1984</td>\n",
       "      <td>manual</td>\n",
       "      <td>NaN</td>\n",
       "      <td>601</td>\n",
       "      <td>20000</td>\n",
       "      <td>petrol</td>\n",
       "      <td>trabant</td>\n",
       "      <td>no</td>\n",
       "    </tr>\n",
       "    <tr>\n",
       "      <th>79993</th>\n",
       "      <td>3000</td>\n",
       "      <td>small</td>\n",
       "      <td>2007</td>\n",
       "      <td>manual</td>\n",
       "      <td>NaN</td>\n",
       "      <td>seicento</td>\n",
       "      <td>40000</td>\n",
       "      <td>petrol</td>\n",
       "      <td>fiat</td>\n",
       "      <td>no</td>\n",
       "    </tr>\n",
       "    <tr>\n",
       "      <th>80274</th>\n",
       "      <td>6480</td>\n",
       "      <td>sedan</td>\n",
       "      <td>1990</td>\n",
       "      <td>manual</td>\n",
       "      <td>NaN</td>\n",
       "      <td>601</td>\n",
       "      <td>20000</td>\n",
       "      <td>petrol</td>\n",
       "      <td>trabant</td>\n",
       "      <td>no</td>\n",
       "    </tr>\n",
       "    <tr>\n",
       "      <th>80886</th>\n",
       "      <td>3400</td>\n",
       "      <td>small</td>\n",
       "      <td>1987</td>\n",
       "      <td>manual</td>\n",
       "      <td>NaN</td>\n",
       "      <td>601</td>\n",
       "      <td>40000</td>\n",
       "      <td>Other</td>\n",
       "      <td>trabant</td>\n",
       "      <td>no</td>\n",
       "    </tr>\n",
       "    <tr>\n",
       "      <th>81421</th>\n",
       "      <td>3500</td>\n",
       "      <td>wagon</td>\n",
       "      <td>1983</td>\n",
       "      <td>manual</td>\n",
       "      <td>NaN</td>\n",
       "      <td>601</td>\n",
       "      <td>5000</td>\n",
       "      <td>petrol</td>\n",
       "      <td>trabant</td>\n",
       "      <td>no</td>\n",
       "    </tr>\n",
       "    <tr>\n",
       "      <th>81717</th>\n",
       "      <td>2990</td>\n",
       "      <td>wagon</td>\n",
       "      <td>1988</td>\n",
       "      <td>manual</td>\n",
       "      <td>NaN</td>\n",
       "      <td>601</td>\n",
       "      <td>60000</td>\n",
       "      <td>other</td>\n",
       "      <td>trabant</td>\n",
       "      <td>no</td>\n",
       "    </tr>\n",
       "    <tr>\n",
       "      <th>83081</th>\n",
       "      <td>1850</td>\n",
       "      <td>sedan</td>\n",
       "      <td>1986</td>\n",
       "      <td>manual</td>\n",
       "      <td>NaN</td>\n",
       "      <td>601</td>\n",
       "      <td>40000</td>\n",
       "      <td>petrol</td>\n",
       "      <td>trabant</td>\n",
       "      <td>no</td>\n",
       "    </tr>\n",
       "    <tr>\n",
       "      <th>83279</th>\n",
       "      <td>1600</td>\n",
       "      <td>small</td>\n",
       "      <td>2002</td>\n",
       "      <td>manual</td>\n",
       "      <td>NaN</td>\n",
       "      <td>seicento</td>\n",
       "      <td>100000</td>\n",
       "      <td>petrol</td>\n",
       "      <td>fiat</td>\n",
       "      <td>no</td>\n",
       "    </tr>\n",
       "    <tr>\n",
       "      <th>84874</th>\n",
       "      <td>1500</td>\n",
       "      <td>wagon</td>\n",
       "      <td>1985</td>\n",
       "      <td>manual</td>\n",
       "      <td>NaN</td>\n",
       "      <td>601</td>\n",
       "      <td>10000</td>\n",
       "      <td>petrol</td>\n",
       "      <td>trabant</td>\n",
       "      <td>no</td>\n",
       "    </tr>\n",
       "    <tr>\n",
       "      <th>88412</th>\n",
       "      <td>4100</td>\n",
       "      <td>small</td>\n",
       "      <td>2010</td>\n",
       "      <td>manual</td>\n",
       "      <td>NaN</td>\n",
       "      <td>seicento</td>\n",
       "      <td>30000</td>\n",
       "      <td>petrol</td>\n",
       "      <td>fiat</td>\n",
       "      <td>no</td>\n",
       "    </tr>\n",
       "    <tr>\n",
       "      <th>88447</th>\n",
       "      <td>2800</td>\n",
       "      <td>sedan</td>\n",
       "      <td>1988</td>\n",
       "      <td>manual</td>\n",
       "      <td>NaN</td>\n",
       "      <td>601</td>\n",
       "      <td>60000</td>\n",
       "      <td>petrol</td>\n",
       "      <td>trabant</td>\n",
       "      <td>no</td>\n",
       "    </tr>\n",
       "    <tr>\n",
       "      <th>92525</th>\n",
       "      <td>1150</td>\n",
       "      <td>small</td>\n",
       "      <td>2000</td>\n",
       "      <td>manual</td>\n",
       "      <td>NaN</td>\n",
       "      <td>seicento</td>\n",
       "      <td>60000</td>\n",
       "      <td>petrol</td>\n",
       "      <td>fiat</td>\n",
       "      <td>no</td>\n",
       "    </tr>\n",
       "    <tr>\n",
       "      <th>94183</th>\n",
       "      <td>1300</td>\n",
       "      <td>small</td>\n",
       "      <td>2003</td>\n",
       "      <td>manual</td>\n",
       "      <td>NaN</td>\n",
       "      <td>seicento</td>\n",
       "      <td>60000</td>\n",
       "      <td>petrol</td>\n",
       "      <td>fiat</td>\n",
       "      <td>no</td>\n",
       "    </tr>\n",
       "    <tr>\n",
       "      <th>96681</th>\n",
       "      <td>1100</td>\n",
       "      <td>small</td>\n",
       "      <td>2001</td>\n",
       "      <td>manual</td>\n",
       "      <td>NaN</td>\n",
       "      <td>seicento</td>\n",
       "      <td>90000</td>\n",
       "      <td>petrol</td>\n",
       "      <td>fiat</td>\n",
       "      <td>no</td>\n",
       "    </tr>\n",
       "    <tr>\n",
       "      <th>97709</th>\n",
       "      <td>1600</td>\n",
       "      <td>sedan</td>\n",
       "      <td>1987</td>\n",
       "      <td>manual</td>\n",
       "      <td>NaN</td>\n",
       "      <td>601</td>\n",
       "      <td>100000</td>\n",
       "      <td>petrol</td>\n",
       "      <td>trabant</td>\n",
       "      <td>no</td>\n",
       "    </tr>\n",
       "    <tr>\n",
       "      <th>99562</th>\n",
       "      <td>2000</td>\n",
       "      <td>sedan</td>\n",
       "      <td>1983</td>\n",
       "      <td>manual</td>\n",
       "      <td>NaN</td>\n",
       "      <td>601</td>\n",
       "      <td>80000</td>\n",
       "      <td>petrol</td>\n",
       "      <td>trabant</td>\n",
       "      <td>no</td>\n",
       "    </tr>\n",
       "    <tr>\n",
       "      <th>99867</th>\n",
       "      <td>1050</td>\n",
       "      <td>small</td>\n",
       "      <td>2003</td>\n",
       "      <td>manual</td>\n",
       "      <td>NaN</td>\n",
       "      <td>seicento</td>\n",
       "      <td>150000</td>\n",
       "      <td>petrol</td>\n",
       "      <td>fiat</td>\n",
       "      <td>Other</td>\n",
       "    </tr>\n",
       "    <tr>\n",
       "      <th>100214</th>\n",
       "      <td>1050</td>\n",
       "      <td>small</td>\n",
       "      <td>1999</td>\n",
       "      <td>manual</td>\n",
       "      <td>NaN</td>\n",
       "      <td>seicento</td>\n",
       "      <td>125000</td>\n",
       "      <td>petrol</td>\n",
       "      <td>fiat</td>\n",
       "      <td>no</td>\n",
       "    </tr>\n",
       "    <tr>\n",
       "      <th>103393</th>\n",
       "      <td>2890</td>\n",
       "      <td>small</td>\n",
       "      <td>1988</td>\n",
       "      <td>manual</td>\n",
       "      <td>NaN</td>\n",
       "      <td>601</td>\n",
       "      <td>40000</td>\n",
       "      <td>Other</td>\n",
       "      <td>trabant</td>\n",
       "      <td>no</td>\n",
       "    </tr>\n",
       "    <tr>\n",
       "      <th>104817</th>\n",
       "      <td>2500</td>\n",
       "      <td>sedan</td>\n",
       "      <td>1988</td>\n",
       "      <td>manual</td>\n",
       "      <td>NaN</td>\n",
       "      <td>601</td>\n",
       "      <td>70000</td>\n",
       "      <td>petrol</td>\n",
       "      <td>trabant</td>\n",
       "      <td>no</td>\n",
       "    </tr>\n",
       "    <tr>\n",
       "      <th>104843</th>\n",
       "      <td>2199</td>\n",
       "      <td>sedan</td>\n",
       "      <td>1979</td>\n",
       "      <td>manual</td>\n",
       "      <td>NaN</td>\n",
       "      <td>601</td>\n",
       "      <td>30000</td>\n",
       "      <td>petrol</td>\n",
       "      <td>trabant</td>\n",
       "      <td>no</td>\n",
       "    </tr>\n",
       "    <tr>\n",
       "      <th>108714</th>\n",
       "      <td>1290</td>\n",
       "      <td>small</td>\n",
       "      <td>2000</td>\n",
       "      <td>manual</td>\n",
       "      <td>NaN</td>\n",
       "      <td>seicento</td>\n",
       "      <td>125000</td>\n",
       "      <td>petrol</td>\n",
       "      <td>fiat</td>\n",
       "      <td>no</td>\n",
       "    </tr>\n",
       "    <tr>\n",
       "      <th>110817</th>\n",
       "      <td>6480</td>\n",
       "      <td>sedan</td>\n",
       "      <td>1990</td>\n",
       "      <td>manual</td>\n",
       "      <td>NaN</td>\n",
       "      <td>601</td>\n",
       "      <td>20000</td>\n",
       "      <td>petrol</td>\n",
       "      <td>trabant</td>\n",
       "      <td>no</td>\n",
       "    </tr>\n",
       "    <tr>\n",
       "      <th>110855</th>\n",
       "      <td>1300</td>\n",
       "      <td>sedan</td>\n",
       "      <td>1988</td>\n",
       "      <td>manual</td>\n",
       "      <td>NaN</td>\n",
       "      <td>601</td>\n",
       "      <td>40000</td>\n",
       "      <td>petrol</td>\n",
       "      <td>trabant</td>\n",
       "      <td>Other</td>\n",
       "    </tr>\n",
       "    <tr>\n",
       "      <th>112025</th>\n",
       "      <td>1300</td>\n",
       "      <td>sedan</td>\n",
       "      <td>1988</td>\n",
       "      <td>manual</td>\n",
       "      <td>NaN</td>\n",
       "      <td>601</td>\n",
       "      <td>90000</td>\n",
       "      <td>petrol</td>\n",
       "      <td>trabant</td>\n",
       "      <td>no</td>\n",
       "    </tr>\n",
       "    <tr>\n",
       "      <th>113373</th>\n",
       "      <td>1500</td>\n",
       "      <td>small</td>\n",
       "      <td>2004</td>\n",
       "      <td>manual</td>\n",
       "      <td>NaN</td>\n",
       "      <td>seicento</td>\n",
       "      <td>70000</td>\n",
       "      <td>petrol</td>\n",
       "      <td>fiat</td>\n",
       "      <td>no</td>\n",
       "    </tr>\n",
       "    <tr>\n",
       "      <th>114557</th>\n",
       "      <td>1350</td>\n",
       "      <td>small</td>\n",
       "      <td>1990</td>\n",
       "      <td>manual</td>\n",
       "      <td>NaN</td>\n",
       "      <td>601</td>\n",
       "      <td>50000</td>\n",
       "      <td>petrol</td>\n",
       "      <td>trabant</td>\n",
       "      <td>Other</td>\n",
       "    </tr>\n",
       "    <tr>\n",
       "      <th>116616</th>\n",
       "      <td>2480</td>\n",
       "      <td>sedan</td>\n",
       "      <td>1989</td>\n",
       "      <td>manual</td>\n",
       "      <td>NaN</td>\n",
       "      <td>601</td>\n",
       "      <td>50000</td>\n",
       "      <td>petrol</td>\n",
       "      <td>trabant</td>\n",
       "      <td>no</td>\n",
       "    </tr>\n",
       "    <tr>\n",
       "      <th>117622</th>\n",
       "      <td>2500</td>\n",
       "      <td>wagon</td>\n",
       "      <td>1991</td>\n",
       "      <td>manual</td>\n",
       "      <td>NaN</td>\n",
       "      <td>601</td>\n",
       "      <td>40000</td>\n",
       "      <td>petrol</td>\n",
       "      <td>trabant</td>\n",
       "      <td>no</td>\n",
       "    </tr>\n",
       "    <tr>\n",
       "      <th>117813</th>\n",
       "      <td>2400</td>\n",
       "      <td>sedan</td>\n",
       "      <td>1988</td>\n",
       "      <td>manual</td>\n",
       "      <td>NaN</td>\n",
       "      <td>601</td>\n",
       "      <td>10000</td>\n",
       "      <td>petrol</td>\n",
       "      <td>trabant</td>\n",
       "      <td>no</td>\n",
       "    </tr>\n",
       "    <tr>\n",
       "      <th>118657</th>\n",
       "      <td>3333</td>\n",
       "      <td>sedan</td>\n",
       "      <td>1970</td>\n",
       "      <td>manual</td>\n",
       "      <td>NaN</td>\n",
       "      <td>601</td>\n",
       "      <td>50000</td>\n",
       "      <td>other</td>\n",
       "      <td>trabant</td>\n",
       "      <td>no</td>\n",
       "    </tr>\n",
       "    <tr>\n",
       "      <th>122294</th>\n",
       "      <td>3999</td>\n",
       "      <td>sedan</td>\n",
       "      <td>1964</td>\n",
       "      <td>manual</td>\n",
       "      <td>NaN</td>\n",
       "      <td>601</td>\n",
       "      <td>50000</td>\n",
       "      <td>petrol</td>\n",
       "      <td>trabant</td>\n",
       "      <td>Other</td>\n",
       "    </tr>\n",
       "    <tr>\n",
       "      <th>124056</th>\n",
       "      <td>5500</td>\n",
       "      <td>convertible</td>\n",
       "      <td>1983</td>\n",
       "      <td>Other</td>\n",
       "      <td>NaN</td>\n",
       "      <td>601</td>\n",
       "      <td>10000</td>\n",
       "      <td>petrol</td>\n",
       "      <td>trabant</td>\n",
       "      <td>no</td>\n",
       "    </tr>\n",
       "    <tr>\n",
       "      <th>125226</th>\n",
       "      <td>1350</td>\n",
       "      <td>small</td>\n",
       "      <td>2004</td>\n",
       "      <td>manual</td>\n",
       "      <td>NaN</td>\n",
       "      <td>seicento</td>\n",
       "      <td>80000</td>\n",
       "      <td>petrol</td>\n",
       "      <td>fiat</td>\n",
       "      <td>no</td>\n",
       "    </tr>\n",
       "    <tr>\n",
       "      <th>125267</th>\n",
       "      <td>1950</td>\n",
       "      <td>small</td>\n",
       "      <td>2003</td>\n",
       "      <td>manual</td>\n",
       "      <td>NaN</td>\n",
       "      <td>seicento</td>\n",
       "      <td>80000</td>\n",
       "      <td>petrol</td>\n",
       "      <td>fiat</td>\n",
       "      <td>no</td>\n",
       "    </tr>\n",
       "    <tr>\n",
       "      <th>125729</th>\n",
       "      <td>2000</td>\n",
       "      <td>sedan</td>\n",
       "      <td>1986</td>\n",
       "      <td>manual</td>\n",
       "      <td>NaN</td>\n",
       "      <td>601</td>\n",
       "      <td>30000</td>\n",
       "      <td>other</td>\n",
       "      <td>trabant</td>\n",
       "      <td>Other</td>\n",
       "    </tr>\n",
       "    <tr>\n",
       "      <th>125930</th>\n",
       "      <td>1299</td>\n",
       "      <td>small</td>\n",
       "      <td>2000</td>\n",
       "      <td>manual</td>\n",
       "      <td>NaN</td>\n",
       "      <td>seicento</td>\n",
       "      <td>125000</td>\n",
       "      <td>petrol</td>\n",
       "      <td>fiat</td>\n",
       "      <td>no</td>\n",
       "    </tr>\n",
       "    <tr>\n",
       "      <th>127321</th>\n",
       "      <td>1800</td>\n",
       "      <td>wagon</td>\n",
       "      <td>1989</td>\n",
       "      <td>manual</td>\n",
       "      <td>NaN</td>\n",
       "      <td>601</td>\n",
       "      <td>70000</td>\n",
       "      <td>petrol</td>\n",
       "      <td>trabant</td>\n",
       "      <td>no</td>\n",
       "    </tr>\n",
       "    <tr>\n",
       "      <th>130079</th>\n",
       "      <td>2200</td>\n",
       "      <td>small</td>\n",
       "      <td>2005</td>\n",
       "      <td>manual</td>\n",
       "      <td>NaN</td>\n",
       "      <td>seicento</td>\n",
       "      <td>10000</td>\n",
       "      <td>petrol</td>\n",
       "      <td>fiat</td>\n",
       "      <td>no</td>\n",
       "    </tr>\n",
       "    <tr>\n",
       "      <th>133198</th>\n",
       "      <td>1290</td>\n",
       "      <td>small</td>\n",
       "      <td>1999</td>\n",
       "      <td>manual</td>\n",
       "      <td>NaN</td>\n",
       "      <td>seicento</td>\n",
       "      <td>80000</td>\n",
       "      <td>petrol</td>\n",
       "      <td>fiat</td>\n",
       "      <td>no</td>\n",
       "    </tr>\n",
       "    <tr>\n",
       "      <th>134727</th>\n",
       "      <td>1099</td>\n",
       "      <td>small</td>\n",
       "      <td>2002</td>\n",
       "      <td>manual</td>\n",
       "      <td>NaN</td>\n",
       "      <td>seicento</td>\n",
       "      <td>125000</td>\n",
       "      <td>petrol</td>\n",
       "      <td>fiat</td>\n",
       "      <td>no</td>\n",
       "    </tr>\n",
       "    <tr>\n",
       "      <th>138322</th>\n",
       "      <td>1199</td>\n",
       "      <td>small</td>\n",
       "      <td>2001</td>\n",
       "      <td>manual</td>\n",
       "      <td>NaN</td>\n",
       "      <td>seicento</td>\n",
       "      <td>150000</td>\n",
       "      <td>petrol</td>\n",
       "      <td>fiat</td>\n",
       "      <td>Other</td>\n",
       "    </tr>\n",
       "    <tr>\n",
       "      <th>140370</th>\n",
       "      <td>1199</td>\n",
       "      <td>small</td>\n",
       "      <td>2000</td>\n",
       "      <td>manual</td>\n",
       "      <td>NaN</td>\n",
       "      <td>seicento</td>\n",
       "      <td>150000</td>\n",
       "      <td>petrol</td>\n",
       "      <td>fiat</td>\n",
       "      <td>no</td>\n",
       "    </tr>\n",
       "    <tr>\n",
       "      <th>141508</th>\n",
       "      <td>5200</td>\n",
       "      <td>sedan</td>\n",
       "      <td>1982</td>\n",
       "      <td>manual</td>\n",
       "      <td>NaN</td>\n",
       "      <td>601</td>\n",
       "      <td>20000</td>\n",
       "      <td>petrol</td>\n",
       "      <td>trabant</td>\n",
       "      <td>no</td>\n",
       "    </tr>\n",
       "    <tr>\n",
       "      <th>142103</th>\n",
       "      <td>1350</td>\n",
       "      <td>small</td>\n",
       "      <td>1987</td>\n",
       "      <td>manual</td>\n",
       "      <td>NaN</td>\n",
       "      <td>601</td>\n",
       "      <td>90000</td>\n",
       "      <td>petrol</td>\n",
       "      <td>trabant</td>\n",
       "      <td>Other</td>\n",
       "    </tr>\n",
       "    <tr>\n",
       "      <th>142324</th>\n",
       "      <td>7500</td>\n",
       "      <td>convertible</td>\n",
       "      <td>1989</td>\n",
       "      <td>manual</td>\n",
       "      <td>NaN</td>\n",
       "      <td>601</td>\n",
       "      <td>50000</td>\n",
       "      <td>petrol</td>\n",
       "      <td>trabant</td>\n",
       "      <td>no</td>\n",
       "    </tr>\n",
       "    <tr>\n",
       "      <th>144199</th>\n",
       "      <td>3500</td>\n",
       "      <td>small</td>\n",
       "      <td>1989</td>\n",
       "      <td>manual</td>\n",
       "      <td>NaN</td>\n",
       "      <td>601</td>\n",
       "      <td>10000</td>\n",
       "      <td>petrol</td>\n",
       "      <td>trabant</td>\n",
       "      <td>no</td>\n",
       "    </tr>\n",
       "    <tr>\n",
       "      <th>144470</th>\n",
       "      <td>3999</td>\n",
       "      <td>sedan</td>\n",
       "      <td>1983</td>\n",
       "      <td>manual</td>\n",
       "      <td>NaN</td>\n",
       "      <td>601</td>\n",
       "      <td>5000</td>\n",
       "      <td>petrol</td>\n",
       "      <td>trabant</td>\n",
       "      <td>no</td>\n",
       "    </tr>\n",
       "    <tr>\n",
       "      <th>148337</th>\n",
       "      <td>1499</td>\n",
       "      <td>small</td>\n",
       "      <td>2001</td>\n",
       "      <td>manual</td>\n",
       "      <td>NaN</td>\n",
       "      <td>seicento</td>\n",
       "      <td>70000</td>\n",
       "      <td>petrol</td>\n",
       "      <td>fiat</td>\n",
       "      <td>yes</td>\n",
       "    </tr>\n",
       "    <tr>\n",
       "      <th>148826</th>\n",
       "      <td>1500</td>\n",
       "      <td>small</td>\n",
       "      <td>2004</td>\n",
       "      <td>manual</td>\n",
       "      <td>NaN</td>\n",
       "      <td>seicento</td>\n",
       "      <td>70000</td>\n",
       "      <td>petrol</td>\n",
       "      <td>fiat</td>\n",
       "      <td>no</td>\n",
       "    </tr>\n",
       "    <tr>\n",
       "      <th>149825</th>\n",
       "      <td>1050</td>\n",
       "      <td>small</td>\n",
       "      <td>2002</td>\n",
       "      <td>manual</td>\n",
       "      <td>NaN</td>\n",
       "      <td>seicento</td>\n",
       "      <td>125000</td>\n",
       "      <td>petrol</td>\n",
       "      <td>fiat</td>\n",
       "      <td>no</td>\n",
       "    </tr>\n",
       "    <tr>\n",
       "      <th>149848</th>\n",
       "      <td>5000</td>\n",
       "      <td>wagon</td>\n",
       "      <td>1977</td>\n",
       "      <td>manual</td>\n",
       "      <td>NaN</td>\n",
       "      <td>601</td>\n",
       "      <td>50000</td>\n",
       "      <td>petrol</td>\n",
       "      <td>trabant</td>\n",
       "      <td>Other</td>\n",
       "    </tr>\n",
       "    <tr>\n",
       "      <th>152515</th>\n",
       "      <td>2999</td>\n",
       "      <td>convertible</td>\n",
       "      <td>1983</td>\n",
       "      <td>manual</td>\n",
       "      <td>NaN</td>\n",
       "      <td>601</td>\n",
       "      <td>100000</td>\n",
       "      <td>other</td>\n",
       "      <td>trabant</td>\n",
       "      <td>Other</td>\n",
       "    </tr>\n",
       "    <tr>\n",
       "      <th>152518</th>\n",
       "      <td>1399</td>\n",
       "      <td>small</td>\n",
       "      <td>2001</td>\n",
       "      <td>manual</td>\n",
       "      <td>NaN</td>\n",
       "      <td>seicento</td>\n",
       "      <td>125000</td>\n",
       "      <td>petrol</td>\n",
       "      <td>fiat</td>\n",
       "      <td>no</td>\n",
       "    </tr>\n",
       "    <tr>\n",
       "      <th>152530</th>\n",
       "      <td>2500</td>\n",
       "      <td>sedan</td>\n",
       "      <td>1970</td>\n",
       "      <td>auto</td>\n",
       "      <td>NaN</td>\n",
       "      <td>601</td>\n",
       "      <td>100000</td>\n",
       "      <td>other</td>\n",
       "      <td>trabant</td>\n",
       "      <td>no</td>\n",
       "    </tr>\n",
       "    <tr>\n",
       "      <th>155748</th>\n",
       "      <td>1050</td>\n",
       "      <td>small</td>\n",
       "      <td>2002</td>\n",
       "      <td>manual</td>\n",
       "      <td>NaN</td>\n",
       "      <td>seicento</td>\n",
       "      <td>90000</td>\n",
       "      <td>petrol</td>\n",
       "      <td>fiat</td>\n",
       "      <td>Other</td>\n",
       "    </tr>\n",
       "    <tr>\n",
       "      <th>157126</th>\n",
       "      <td>1655</td>\n",
       "      <td>sedan</td>\n",
       "      <td>1972</td>\n",
       "      <td>Other</td>\n",
       "      <td>NaN</td>\n",
       "      <td>601</td>\n",
       "      <td>5000</td>\n",
       "      <td>petrol</td>\n",
       "      <td>trabant</td>\n",
       "      <td>no</td>\n",
       "    </tr>\n",
       "    <tr>\n",
       "      <th>158573</th>\n",
       "      <td>5999</td>\n",
       "      <td>convertible</td>\n",
       "      <td>1977</td>\n",
       "      <td>manual</td>\n",
       "      <td>NaN</td>\n",
       "      <td>601</td>\n",
       "      <td>60000</td>\n",
       "      <td>petrol</td>\n",
       "      <td>trabant</td>\n",
       "      <td>no</td>\n",
       "    </tr>\n",
       "    <tr>\n",
       "      <th>159708</th>\n",
       "      <td>1350</td>\n",
       "      <td>small</td>\n",
       "      <td>2002</td>\n",
       "      <td>manual</td>\n",
       "      <td>NaN</td>\n",
       "      <td>seicento</td>\n",
       "      <td>100000</td>\n",
       "      <td>petrol</td>\n",
       "      <td>fiat</td>\n",
       "      <td>Other</td>\n",
       "    </tr>\n",
       "    <tr>\n",
       "      <th>161189</th>\n",
       "      <td>1250</td>\n",
       "      <td>small</td>\n",
       "      <td>2001</td>\n",
       "      <td>manual</td>\n",
       "      <td>NaN</td>\n",
       "      <td>seicento</td>\n",
       "      <td>100000</td>\n",
       "      <td>petrol</td>\n",
       "      <td>fiat</td>\n",
       "      <td>no</td>\n",
       "    </tr>\n",
       "    <tr>\n",
       "      <th>162878</th>\n",
       "      <td>2300</td>\n",
       "      <td>sedan</td>\n",
       "      <td>1988</td>\n",
       "      <td>manual</td>\n",
       "      <td>NaN</td>\n",
       "      <td>601</td>\n",
       "      <td>10000</td>\n",
       "      <td>petrol</td>\n",
       "      <td>trabant</td>\n",
       "      <td>no</td>\n",
       "    </tr>\n",
       "    <tr>\n",
       "      <th>164574</th>\n",
       "      <td>1150</td>\n",
       "      <td>small</td>\n",
       "      <td>2001</td>\n",
       "      <td>manual</td>\n",
       "      <td>NaN</td>\n",
       "      <td>seicento</td>\n",
       "      <td>125000</td>\n",
       "      <td>petrol</td>\n",
       "      <td>fiat</td>\n",
       "      <td>no</td>\n",
       "    </tr>\n",
       "    <tr>\n",
       "      <th>167570</th>\n",
       "      <td>2100</td>\n",
       "      <td>sedan</td>\n",
       "      <td>1978</td>\n",
       "      <td>manual</td>\n",
       "      <td>NaN</td>\n",
       "      <td>601</td>\n",
       "      <td>30000</td>\n",
       "      <td>petrol</td>\n",
       "      <td>trabant</td>\n",
       "      <td>no</td>\n",
       "    </tr>\n",
       "    <tr>\n",
       "      <th>170217</th>\n",
       "      <td>1500</td>\n",
       "      <td>wagon</td>\n",
       "      <td>1991</td>\n",
       "      <td>manual</td>\n",
       "      <td>NaN</td>\n",
       "      <td>601</td>\n",
       "      <td>100000</td>\n",
       "      <td>petrol</td>\n",
       "      <td>trabant</td>\n",
       "      <td>yes</td>\n",
       "    </tr>\n",
       "    <tr>\n",
       "      <th>170804</th>\n",
       "      <td>1200</td>\n",
       "      <td>small</td>\n",
       "      <td>2001</td>\n",
       "      <td>manual</td>\n",
       "      <td>NaN</td>\n",
       "      <td>seicento</td>\n",
       "      <td>125000</td>\n",
       "      <td>petrol</td>\n",
       "      <td>fiat</td>\n",
       "      <td>no</td>\n",
       "    </tr>\n",
       "    <tr>\n",
       "      <th>171248</th>\n",
       "      <td>3999</td>\n",
       "      <td>small</td>\n",
       "      <td>1987</td>\n",
       "      <td>manual</td>\n",
       "      <td>NaN</td>\n",
       "      <td>601</td>\n",
       "      <td>50000</td>\n",
       "      <td>petrol</td>\n",
       "      <td>trabant</td>\n",
       "      <td>no</td>\n",
       "    </tr>\n",
       "    <tr>\n",
       "      <th>175117</th>\n",
       "      <td>1200</td>\n",
       "      <td>wagon</td>\n",
       "      <td>1988</td>\n",
       "      <td>manual</td>\n",
       "      <td>NaN</td>\n",
       "      <td>601</td>\n",
       "      <td>20000</td>\n",
       "      <td>petrol</td>\n",
       "      <td>trabant</td>\n",
       "      <td>yes</td>\n",
       "    </tr>\n",
       "    <tr>\n",
       "      <th>176271</th>\n",
       "      <td>1950</td>\n",
       "      <td>small</td>\n",
       "      <td>2003</td>\n",
       "      <td>manual</td>\n",
       "      <td>NaN</td>\n",
       "      <td>seicento</td>\n",
       "      <td>60000</td>\n",
       "      <td>petrol</td>\n",
       "      <td>fiat</td>\n",
       "      <td>no</td>\n",
       "    </tr>\n",
       "    <tr>\n",
       "      <th>178408</th>\n",
       "      <td>1750</td>\n",
       "      <td>small</td>\n",
       "      <td>2002</td>\n",
       "      <td>manual</td>\n",
       "      <td>NaN</td>\n",
       "      <td>seicento</td>\n",
       "      <td>70000</td>\n",
       "      <td>petrol</td>\n",
       "      <td>fiat</td>\n",
       "      <td>no</td>\n",
       "    </tr>\n",
       "    <tr>\n",
       "      <th>179612</th>\n",
       "      <td>1250</td>\n",
       "      <td>small</td>\n",
       "      <td>2001</td>\n",
       "      <td>manual</td>\n",
       "      <td>NaN</td>\n",
       "      <td>seicento</td>\n",
       "      <td>150000</td>\n",
       "      <td>petrol</td>\n",
       "      <td>fiat</td>\n",
       "      <td>no</td>\n",
       "    </tr>\n",
       "    <tr>\n",
       "      <th>181631</th>\n",
       "      <td>1750</td>\n",
       "      <td>small</td>\n",
       "      <td>2002</td>\n",
       "      <td>manual</td>\n",
       "      <td>NaN</td>\n",
       "      <td>seicento</td>\n",
       "      <td>70000</td>\n",
       "      <td>petrol</td>\n",
       "      <td>fiat</td>\n",
       "      <td>no</td>\n",
       "    </tr>\n",
       "    <tr>\n",
       "      <th>182889</th>\n",
       "      <td>5000</td>\n",
       "      <td>convertible</td>\n",
       "      <td>1975</td>\n",
       "      <td>manual</td>\n",
       "      <td>NaN</td>\n",
       "      <td>601</td>\n",
       "      <td>5000</td>\n",
       "      <td>petrol</td>\n",
       "      <td>trabant</td>\n",
       "      <td>no</td>\n",
       "    </tr>\n",
       "    <tr>\n",
       "      <th>186061</th>\n",
       "      <td>2400</td>\n",
       "      <td>small</td>\n",
       "      <td>2004</td>\n",
       "      <td>manual</td>\n",
       "      <td>NaN</td>\n",
       "      <td>seicento</td>\n",
       "      <td>60000</td>\n",
       "      <td>petrol</td>\n",
       "      <td>fiat</td>\n",
       "      <td>no</td>\n",
       "    </tr>\n",
       "    <tr>\n",
       "      <th>186542</th>\n",
       "      <td>1900</td>\n",
       "      <td>sedan</td>\n",
       "      <td>1988</td>\n",
       "      <td>manual</td>\n",
       "      <td>NaN</td>\n",
       "      <td>601</td>\n",
       "      <td>40000</td>\n",
       "      <td>Other</td>\n",
       "      <td>trabant</td>\n",
       "      <td>no</td>\n",
       "    </tr>\n",
       "    <tr>\n",
       "      <th>187061</th>\n",
       "      <td>3750</td>\n",
       "      <td>small</td>\n",
       "      <td>2009</td>\n",
       "      <td>manual</td>\n",
       "      <td>NaN</td>\n",
       "      <td>seicento</td>\n",
       "      <td>20000</td>\n",
       "      <td>petrol</td>\n",
       "      <td>fiat</td>\n",
       "      <td>no</td>\n",
       "    </tr>\n",
       "    <tr>\n",
       "      <th>188633</th>\n",
       "      <td>2190</td>\n",
       "      <td>convertible</td>\n",
       "      <td>1987</td>\n",
       "      <td>manual</td>\n",
       "      <td>NaN</td>\n",
       "      <td>601</td>\n",
       "      <td>70000</td>\n",
       "      <td>petrol</td>\n",
       "      <td>trabant</td>\n",
       "      <td>yes</td>\n",
       "    </tr>\n",
       "    <tr>\n",
       "      <th>189393</th>\n",
       "      <td>1550</td>\n",
       "      <td>sedan</td>\n",
       "      <td>1972</td>\n",
       "      <td>Other</td>\n",
       "      <td>NaN</td>\n",
       "      <td>601</td>\n",
       "      <td>5000</td>\n",
       "      <td>petrol</td>\n",
       "      <td>trabant</td>\n",
       "      <td>no</td>\n",
       "    </tr>\n",
       "    <tr>\n",
       "      <th>189914</th>\n",
       "      <td>1250</td>\n",
       "      <td>small</td>\n",
       "      <td>2003</td>\n",
       "      <td>manual</td>\n",
       "      <td>NaN</td>\n",
       "      <td>seicento</td>\n",
       "      <td>80000</td>\n",
       "      <td>petrol</td>\n",
       "      <td>fiat</td>\n",
       "      <td>no</td>\n",
       "    </tr>\n",
       "    <tr>\n",
       "      <th>191024</th>\n",
       "      <td>1350</td>\n",
       "      <td>small</td>\n",
       "      <td>2000</td>\n",
       "      <td>manual</td>\n",
       "      <td>NaN</td>\n",
       "      <td>seicento</td>\n",
       "      <td>70000</td>\n",
       "      <td>petrol</td>\n",
       "      <td>fiat</td>\n",
       "      <td>no</td>\n",
       "    </tr>\n",
       "    <tr>\n",
       "      <th>191837</th>\n",
       "      <td>1999</td>\n",
       "      <td>small</td>\n",
       "      <td>1965</td>\n",
       "      <td>manual</td>\n",
       "      <td>NaN</td>\n",
       "      <td>601</td>\n",
       "      <td>100000</td>\n",
       "      <td>petrol</td>\n",
       "      <td>trabant</td>\n",
       "      <td>Other</td>\n",
       "    </tr>\n",
       "    <tr>\n",
       "      <th>195740</th>\n",
       "      <td>1300</td>\n",
       "      <td>small</td>\n",
       "      <td>1998</td>\n",
       "      <td>manual</td>\n",
       "      <td>NaN</td>\n",
       "      <td>seicento</td>\n",
       "      <td>150000</td>\n",
       "      <td>lpg</td>\n",
       "      <td>fiat</td>\n",
       "      <td>Other</td>\n",
       "    </tr>\n",
       "    <tr>\n",
       "      <th>196077</th>\n",
       "      <td>1290</td>\n",
       "      <td>small</td>\n",
       "      <td>2001</td>\n",
       "      <td>manual</td>\n",
       "      <td>NaN</td>\n",
       "      <td>seicento</td>\n",
       "      <td>150000</td>\n",
       "      <td>petrol</td>\n",
       "      <td>fiat</td>\n",
       "      <td>no</td>\n",
       "    </tr>\n",
       "    <tr>\n",
       "      <th>196793</th>\n",
       "      <td>1999</td>\n",
       "      <td>sedan</td>\n",
       "      <td>1984</td>\n",
       "      <td>manual</td>\n",
       "      <td>NaN</td>\n",
       "      <td>601</td>\n",
       "      <td>60000</td>\n",
       "      <td>Other</td>\n",
       "      <td>trabant</td>\n",
       "      <td>no</td>\n",
       "    </tr>\n",
       "    <tr>\n",
       "      <th>198592</th>\n",
       "      <td>1900</td>\n",
       "      <td>small</td>\n",
       "      <td>2001</td>\n",
       "      <td>manual</td>\n",
       "      <td>NaN</td>\n",
       "      <td>seicento</td>\n",
       "      <td>125000</td>\n",
       "      <td>petrol</td>\n",
       "      <td>fiat</td>\n",
       "      <td>no</td>\n",
       "    </tr>\n",
       "    <tr>\n",
       "      <th>201314</th>\n",
       "      <td>6500</td>\n",
       "      <td>wagon</td>\n",
       "      <td>1990</td>\n",
       "      <td>manual</td>\n",
       "      <td>NaN</td>\n",
       "      <td>601</td>\n",
       "      <td>50000</td>\n",
       "      <td>other</td>\n",
       "      <td>trabant</td>\n",
       "      <td>no</td>\n",
       "    </tr>\n",
       "    <tr>\n",
       "      <th>201669</th>\n",
       "      <td>2400</td>\n",
       "      <td>small</td>\n",
       "      <td>2009</td>\n",
       "      <td>manual</td>\n",
       "      <td>NaN</td>\n",
       "      <td>seicento</td>\n",
       "      <td>40000</td>\n",
       "      <td>petrol</td>\n",
       "      <td>fiat</td>\n",
       "      <td>no</td>\n",
       "    </tr>\n",
       "    <tr>\n",
       "      <th>202957</th>\n",
       "      <td>1200</td>\n",
       "      <td>small</td>\n",
       "      <td>2001</td>\n",
       "      <td>manual</td>\n",
       "      <td>NaN</td>\n",
       "      <td>seicento</td>\n",
       "      <td>125000</td>\n",
       "      <td>petrol</td>\n",
       "      <td>fiat</td>\n",
       "      <td>no</td>\n",
       "    </tr>\n",
       "    <tr>\n",
       "      <th>205319</th>\n",
       "      <td>1150</td>\n",
       "      <td>small</td>\n",
       "      <td>2005</td>\n",
       "      <td>manual</td>\n",
       "      <td>NaN</td>\n",
       "      <td>seicento</td>\n",
       "      <td>125000</td>\n",
       "      <td>petrol</td>\n",
       "      <td>fiat</td>\n",
       "      <td>no</td>\n",
       "    </tr>\n",
       "    <tr>\n",
       "      <th>205605</th>\n",
       "      <td>1300</td>\n",
       "      <td>small</td>\n",
       "      <td>2001</td>\n",
       "      <td>manual</td>\n",
       "      <td>NaN</td>\n",
       "      <td>seicento</td>\n",
       "      <td>125000</td>\n",
       "      <td>petrol</td>\n",
       "      <td>fiat</td>\n",
       "      <td>no</td>\n",
       "    </tr>\n",
       "    <tr>\n",
       "      <th>207111</th>\n",
       "      <td>1290</td>\n",
       "      <td>sedan</td>\n",
       "      <td>2000</td>\n",
       "      <td>manual</td>\n",
       "      <td>NaN</td>\n",
       "      <td>seicento</td>\n",
       "      <td>150000</td>\n",
       "      <td>petrol</td>\n",
       "      <td>fiat</td>\n",
       "      <td>no</td>\n",
       "    </tr>\n",
       "    <tr>\n",
       "      <th>207966</th>\n",
       "      <td>4350</td>\n",
       "      <td>small</td>\n",
       "      <td>1983</td>\n",
       "      <td>manual</td>\n",
       "      <td>NaN</td>\n",
       "      <td>601</td>\n",
       "      <td>50000</td>\n",
       "      <td>petrol</td>\n",
       "      <td>trabant</td>\n",
       "      <td>no</td>\n",
       "    </tr>\n",
       "    <tr>\n",
       "      <th>208861</th>\n",
       "      <td>1990</td>\n",
       "      <td>small</td>\n",
       "      <td>2001</td>\n",
       "      <td>manual</td>\n",
       "      <td>NaN</td>\n",
       "      <td>seicento</td>\n",
       "      <td>80000</td>\n",
       "      <td>petrol</td>\n",
       "      <td>fiat</td>\n",
       "      <td>no</td>\n",
       "    </tr>\n",
       "    <tr>\n",
       "      <th>209631</th>\n",
       "      <td>1444</td>\n",
       "      <td>small</td>\n",
       "      <td>2004</td>\n",
       "      <td>manual</td>\n",
       "      <td>NaN</td>\n",
       "      <td>seicento</td>\n",
       "      <td>50000</td>\n",
       "      <td>petrol</td>\n",
       "      <td>fiat</td>\n",
       "      <td>no</td>\n",
       "    </tr>\n",
       "    <tr>\n",
       "      <th>210234</th>\n",
       "      <td>6990</td>\n",
       "      <td>convertible</td>\n",
       "      <td>1981</td>\n",
       "      <td>manual</td>\n",
       "      <td>NaN</td>\n",
       "      <td>601</td>\n",
       "      <td>30000</td>\n",
       "      <td>petrol</td>\n",
       "      <td>trabant</td>\n",
       "      <td>no</td>\n",
       "    </tr>\n",
       "    <tr>\n",
       "      <th>210534</th>\n",
       "      <td>3000</td>\n",
       "      <td>small</td>\n",
       "      <td>2007</td>\n",
       "      <td>manual</td>\n",
       "      <td>NaN</td>\n",
       "      <td>seicento</td>\n",
       "      <td>40000</td>\n",
       "      <td>petrol</td>\n",
       "      <td>fiat</td>\n",
       "      <td>no</td>\n",
       "    </tr>\n",
       "    <tr>\n",
       "      <th>213056</th>\n",
       "      <td>1350</td>\n",
       "      <td>small</td>\n",
       "      <td>2004</td>\n",
       "      <td>manual</td>\n",
       "      <td>NaN</td>\n",
       "      <td>seicento</td>\n",
       "      <td>150000</td>\n",
       "      <td>petrol</td>\n",
       "      <td>fiat</td>\n",
       "      <td>no</td>\n",
       "    </tr>\n",
       "    <tr>\n",
       "      <th>214351</th>\n",
       "      <td>1290</td>\n",
       "      <td>small</td>\n",
       "      <td>2000</td>\n",
       "      <td>manual</td>\n",
       "      <td>NaN</td>\n",
       "      <td>seicento</td>\n",
       "      <td>150000</td>\n",
       "      <td>petrol</td>\n",
       "      <td>fiat</td>\n",
       "      <td>no</td>\n",
       "    </tr>\n",
       "    <tr>\n",
       "      <th>214951</th>\n",
       "      <td>2990</td>\n",
       "      <td>sedan</td>\n",
       "      <td>1988</td>\n",
       "      <td>manual</td>\n",
       "      <td>NaN</td>\n",
       "      <td>601</td>\n",
       "      <td>70000</td>\n",
       "      <td>petrol</td>\n",
       "      <td>trabant</td>\n",
       "      <td>no</td>\n",
       "    </tr>\n",
       "    <tr>\n",
       "      <th>216539</th>\n",
       "      <td>1250</td>\n",
       "      <td>sedan</td>\n",
       "      <td>1989</td>\n",
       "      <td>manual</td>\n",
       "      <td>NaN</td>\n",
       "      <td>601</td>\n",
       "      <td>60000</td>\n",
       "      <td>petrol</td>\n",
       "      <td>trabant</td>\n",
       "      <td>no</td>\n",
       "    </tr>\n",
       "    <tr>\n",
       "      <th>218215</th>\n",
       "      <td>1999</td>\n",
       "      <td>small</td>\n",
       "      <td>1961</td>\n",
       "      <td>manual</td>\n",
       "      <td>NaN</td>\n",
       "      <td>601</td>\n",
       "      <td>30000</td>\n",
       "      <td>petrol</td>\n",
       "      <td>trabant</td>\n",
       "      <td>no</td>\n",
       "    </tr>\n",
       "    <tr>\n",
       "      <th>219894</th>\n",
       "      <td>1750</td>\n",
       "      <td>small</td>\n",
       "      <td>2002</td>\n",
       "      <td>manual</td>\n",
       "      <td>NaN</td>\n",
       "      <td>seicento</td>\n",
       "      <td>70000</td>\n",
       "      <td>petrol</td>\n",
       "      <td>fiat</td>\n",
       "      <td>no</td>\n",
       "    </tr>\n",
       "    <tr>\n",
       "      <th>219935</th>\n",
       "      <td>1700</td>\n",
       "      <td>sedan</td>\n",
       "      <td>1990</td>\n",
       "      <td>manual</td>\n",
       "      <td>NaN</td>\n",
       "      <td>601</td>\n",
       "      <td>70000</td>\n",
       "      <td>petrol</td>\n",
       "      <td>trabant</td>\n",
       "      <td>Other</td>\n",
       "    </tr>\n",
       "    <tr>\n",
       "      <th>223103</th>\n",
       "      <td>3500</td>\n",
       "      <td>sedan</td>\n",
       "      <td>1988</td>\n",
       "      <td>manual</td>\n",
       "      <td>NaN</td>\n",
       "      <td>601</td>\n",
       "      <td>90000</td>\n",
       "      <td>Other</td>\n",
       "      <td>trabant</td>\n",
       "      <td>no</td>\n",
       "    </tr>\n",
       "    <tr>\n",
       "      <th>223364</th>\n",
       "      <td>11800</td>\n",
       "      <td>convertible</td>\n",
       "      <td>1973</td>\n",
       "      <td>manual</td>\n",
       "      <td>NaN</td>\n",
       "      <td>601</td>\n",
       "      <td>30000</td>\n",
       "      <td>petrol</td>\n",
       "      <td>trabant</td>\n",
       "      <td>no</td>\n",
       "    </tr>\n",
       "    <tr>\n",
       "      <th>223778</th>\n",
       "      <td>4500</td>\n",
       "      <td>sedan</td>\n",
       "      <td>1990</td>\n",
       "      <td>manual</td>\n",
       "      <td>NaN</td>\n",
       "      <td>601</td>\n",
       "      <td>80000</td>\n",
       "      <td>petrol</td>\n",
       "      <td>trabant</td>\n",
       "      <td>no</td>\n",
       "    </tr>\n",
       "    <tr>\n",
       "      <th>224780</th>\n",
       "      <td>3750</td>\n",
       "      <td>small</td>\n",
       "      <td>2010</td>\n",
       "      <td>manual</td>\n",
       "      <td>NaN</td>\n",
       "      <td>seicento</td>\n",
       "      <td>30000</td>\n",
       "      <td>Other</td>\n",
       "      <td>fiat</td>\n",
       "      <td>no</td>\n",
       "    </tr>\n",
       "    <tr>\n",
       "      <th>231390</th>\n",
       "      <td>2500</td>\n",
       "      <td>sedan</td>\n",
       "      <td>1989</td>\n",
       "      <td>manual</td>\n",
       "      <td>NaN</td>\n",
       "      <td>601</td>\n",
       "      <td>90000</td>\n",
       "      <td>petrol</td>\n",
       "      <td>trabant</td>\n",
       "      <td>no</td>\n",
       "    </tr>\n",
       "    <tr>\n",
       "      <th>231804</th>\n",
       "      <td>3499</td>\n",
       "      <td>convertible</td>\n",
       "      <td>1986</td>\n",
       "      <td>manual</td>\n",
       "      <td>NaN</td>\n",
       "      <td>601</td>\n",
       "      <td>5000</td>\n",
       "      <td>petrol</td>\n",
       "      <td>trabant</td>\n",
       "      <td>no</td>\n",
       "    </tr>\n",
       "    <tr>\n",
       "      <th>232392</th>\n",
       "      <td>2800</td>\n",
       "      <td>sedan</td>\n",
       "      <td>1981</td>\n",
       "      <td>manual</td>\n",
       "      <td>NaN</td>\n",
       "      <td>601</td>\n",
       "      <td>40000</td>\n",
       "      <td>petrol</td>\n",
       "      <td>trabant</td>\n",
       "      <td>no</td>\n",
       "    </tr>\n",
       "    <tr>\n",
       "      <th>234668</th>\n",
       "      <td>1499</td>\n",
       "      <td>coupe</td>\n",
       "      <td>2001</td>\n",
       "      <td>manual</td>\n",
       "      <td>NaN</td>\n",
       "      <td>seicento</td>\n",
       "      <td>125000</td>\n",
       "      <td>petrol</td>\n",
       "      <td>fiat</td>\n",
       "      <td>no</td>\n",
       "    </tr>\n",
       "    <tr>\n",
       "      <th>238172</th>\n",
       "      <td>1200</td>\n",
       "      <td>small</td>\n",
       "      <td>2004</td>\n",
       "      <td>manual</td>\n",
       "      <td>NaN</td>\n",
       "      <td>seicento</td>\n",
       "      <td>70000</td>\n",
       "      <td>petrol</td>\n",
       "      <td>fiat</td>\n",
       "      <td>no</td>\n",
       "    </tr>\n",
       "    <tr>\n",
       "      <th>239899</th>\n",
       "      <td>4500</td>\n",
       "      <td>convertible</td>\n",
       "      <td>1992</td>\n",
       "      <td>manual</td>\n",
       "      <td>NaN</td>\n",
       "      <td>601</td>\n",
       "      <td>30000</td>\n",
       "      <td>petrol</td>\n",
       "      <td>trabant</td>\n",
       "      <td>no</td>\n",
       "    </tr>\n",
       "    <tr>\n",
       "      <th>241373</th>\n",
       "      <td>4999</td>\n",
       "      <td>convertible</td>\n",
       "      <td>1989</td>\n",
       "      <td>manual</td>\n",
       "      <td>NaN</td>\n",
       "      <td>601</td>\n",
       "      <td>60000</td>\n",
       "      <td>petrol</td>\n",
       "      <td>trabant</td>\n",
       "      <td>no</td>\n",
       "    </tr>\n",
       "    <tr>\n",
       "      <th>242015</th>\n",
       "      <td>1700</td>\n",
       "      <td>small</td>\n",
       "      <td>2000</td>\n",
       "      <td>manual</td>\n",
       "      <td>NaN</td>\n",
       "      <td>seicento</td>\n",
       "      <td>125000</td>\n",
       "      <td>petrol</td>\n",
       "      <td>fiat</td>\n",
       "      <td>Other</td>\n",
       "    </tr>\n",
       "    <tr>\n",
       "      <th>244091</th>\n",
       "      <td>1600</td>\n",
       "      <td>small</td>\n",
       "      <td>2002</td>\n",
       "      <td>manual</td>\n",
       "      <td>NaN</td>\n",
       "      <td>seicento</td>\n",
       "      <td>100000</td>\n",
       "      <td>petrol</td>\n",
       "      <td>fiat</td>\n",
       "      <td>no</td>\n",
       "    </tr>\n",
       "    <tr>\n",
       "      <th>244507</th>\n",
       "      <td>1200</td>\n",
       "      <td>small</td>\n",
       "      <td>2001</td>\n",
       "      <td>manual</td>\n",
       "      <td>NaN</td>\n",
       "      <td>seicento</td>\n",
       "      <td>150000</td>\n",
       "      <td>petrol</td>\n",
       "      <td>fiat</td>\n",
       "      <td>no</td>\n",
       "    </tr>\n",
       "    <tr>\n",
       "      <th>245823</th>\n",
       "      <td>4999</td>\n",
       "      <td>convertible</td>\n",
       "      <td>1989</td>\n",
       "      <td>manual</td>\n",
       "      <td>NaN</td>\n",
       "      <td>601</td>\n",
       "      <td>60000</td>\n",
       "      <td>Other</td>\n",
       "      <td>trabant</td>\n",
       "      <td>no</td>\n",
       "    </tr>\n",
       "    <tr>\n",
       "      <th>246668</th>\n",
       "      <td>1990</td>\n",
       "      <td>sedan</td>\n",
       "      <td>1989</td>\n",
       "      <td>manual</td>\n",
       "      <td>NaN</td>\n",
       "      <td>601</td>\n",
       "      <td>80000</td>\n",
       "      <td>other</td>\n",
       "      <td>trabant</td>\n",
       "      <td>no</td>\n",
       "    </tr>\n",
       "    <tr>\n",
       "      <th>251036</th>\n",
       "      <td>1199</td>\n",
       "      <td>small</td>\n",
       "      <td>2002</td>\n",
       "      <td>manual</td>\n",
       "      <td>NaN</td>\n",
       "      <td>seicento</td>\n",
       "      <td>100000</td>\n",
       "      <td>petrol</td>\n",
       "      <td>fiat</td>\n",
       "      <td>Other</td>\n",
       "    </tr>\n",
       "    <tr>\n",
       "      <th>253863</th>\n",
       "      <td>1600</td>\n",
       "      <td>small</td>\n",
       "      <td>2000</td>\n",
       "      <td>manual</td>\n",
       "      <td>NaN</td>\n",
       "      <td>seicento</td>\n",
       "      <td>80000</td>\n",
       "      <td>petrol</td>\n",
       "      <td>fiat</td>\n",
       "      <td>no</td>\n",
       "    </tr>\n",
       "    <tr>\n",
       "      <th>255233</th>\n",
       "      <td>6800</td>\n",
       "      <td>convertible</td>\n",
       "      <td>1980</td>\n",
       "      <td>manual</td>\n",
       "      <td>NaN</td>\n",
       "      <td>601</td>\n",
       "      <td>80000</td>\n",
       "      <td>Other</td>\n",
       "      <td>trabant</td>\n",
       "      <td>no</td>\n",
       "    </tr>\n",
       "    <tr>\n",
       "      <th>256658</th>\n",
       "      <td>1800</td>\n",
       "      <td>sedan</td>\n",
       "      <td>1978</td>\n",
       "      <td>manual</td>\n",
       "      <td>NaN</td>\n",
       "      <td>601</td>\n",
       "      <td>80000</td>\n",
       "      <td>petrol</td>\n",
       "      <td>trabant</td>\n",
       "      <td>no</td>\n",
       "    </tr>\n",
       "    <tr>\n",
       "      <th>257752</th>\n",
       "      <td>1550</td>\n",
       "      <td>small</td>\n",
       "      <td>2000</td>\n",
       "      <td>manual</td>\n",
       "      <td>NaN</td>\n",
       "      <td>seicento</td>\n",
       "      <td>125000</td>\n",
       "      <td>petrol</td>\n",
       "      <td>fiat</td>\n",
       "      <td>no</td>\n",
       "    </tr>\n",
       "    <tr>\n",
       "      <th>260804</th>\n",
       "      <td>2280</td>\n",
       "      <td>small</td>\n",
       "      <td>1986</td>\n",
       "      <td>manual</td>\n",
       "      <td>NaN</td>\n",
       "      <td>601</td>\n",
       "      <td>60000</td>\n",
       "      <td>petrol</td>\n",
       "      <td>trabant</td>\n",
       "      <td>no</td>\n",
       "    </tr>\n",
       "    <tr>\n",
       "      <th>261525</th>\n",
       "      <td>2799</td>\n",
       "      <td>sedan</td>\n",
       "      <td>1986</td>\n",
       "      <td>manual</td>\n",
       "      <td>NaN</td>\n",
       "      <td>601</td>\n",
       "      <td>125000</td>\n",
       "      <td>Other</td>\n",
       "      <td>trabant</td>\n",
       "      <td>no</td>\n",
       "    </tr>\n",
       "    <tr>\n",
       "      <th>261719</th>\n",
       "      <td>1200</td>\n",
       "      <td>small</td>\n",
       "      <td>1994</td>\n",
       "      <td>manual</td>\n",
       "      <td>NaN</td>\n",
       "      <td>seicento</td>\n",
       "      <td>150000</td>\n",
       "      <td>petrol</td>\n",
       "      <td>fiat</td>\n",
       "      <td>Other</td>\n",
       "    </tr>\n",
       "    <tr>\n",
       "      <th>262958</th>\n",
       "      <td>1750</td>\n",
       "      <td>small</td>\n",
       "      <td>2002</td>\n",
       "      <td>manual</td>\n",
       "      <td>NaN</td>\n",
       "      <td>seicento</td>\n",
       "      <td>70000</td>\n",
       "      <td>petrol</td>\n",
       "      <td>fiat</td>\n",
       "      <td>no</td>\n",
       "    </tr>\n",
       "    <tr>\n",
       "      <th>264240</th>\n",
       "      <td>2600</td>\n",
       "      <td>wagon</td>\n",
       "      <td>1988</td>\n",
       "      <td>manual</td>\n",
       "      <td>NaN</td>\n",
       "      <td>601</td>\n",
       "      <td>150000</td>\n",
       "      <td>petrol</td>\n",
       "      <td>trabant</td>\n",
       "      <td>no</td>\n",
       "    </tr>\n",
       "    <tr>\n",
       "      <th>264731</th>\n",
       "      <td>2600</td>\n",
       "      <td>wagon</td>\n",
       "      <td>1989</td>\n",
       "      <td>manual</td>\n",
       "      <td>NaN</td>\n",
       "      <td>601</td>\n",
       "      <td>20000</td>\n",
       "      <td>Other</td>\n",
       "      <td>trabant</td>\n",
       "      <td>no</td>\n",
       "    </tr>\n",
       "    <tr>\n",
       "      <th>265910</th>\n",
       "      <td>1100</td>\n",
       "      <td>wagon</td>\n",
       "      <td>1989</td>\n",
       "      <td>Other</td>\n",
       "      <td>NaN</td>\n",
       "      <td>601</td>\n",
       "      <td>80000</td>\n",
       "      <td>petrol</td>\n",
       "      <td>trabant</td>\n",
       "      <td>no</td>\n",
       "    </tr>\n",
       "    <tr>\n",
       "      <th>269878</th>\n",
       "      <td>4499</td>\n",
       "      <td>convertible</td>\n",
       "      <td>1988</td>\n",
       "      <td>manual</td>\n",
       "      <td>NaN</td>\n",
       "      <td>601</td>\n",
       "      <td>60000</td>\n",
       "      <td>petrol</td>\n",
       "      <td>trabant</td>\n",
       "      <td>Other</td>\n",
       "    </tr>\n",
       "    <tr>\n",
       "      <th>271153</th>\n",
       "      <td>4300</td>\n",
       "      <td>sedan</td>\n",
       "      <td>1987</td>\n",
       "      <td>manual</td>\n",
       "      <td>NaN</td>\n",
       "      <td>601</td>\n",
       "      <td>80000</td>\n",
       "      <td>petrol</td>\n",
       "      <td>trabant</td>\n",
       "      <td>no</td>\n",
       "    </tr>\n",
       "    <tr>\n",
       "      <th>271199</th>\n",
       "      <td>1990</td>\n",
       "      <td>small</td>\n",
       "      <td>2001</td>\n",
       "      <td>manual</td>\n",
       "      <td>NaN</td>\n",
       "      <td>seicento</td>\n",
       "      <td>80000</td>\n",
       "      <td>petrol</td>\n",
       "      <td>fiat</td>\n",
       "      <td>no</td>\n",
       "    </tr>\n",
       "    <tr>\n",
       "      <th>273286</th>\n",
       "      <td>1550</td>\n",
       "      <td>sedan</td>\n",
       "      <td>1986</td>\n",
       "      <td>manual</td>\n",
       "      <td>NaN</td>\n",
       "      <td>601</td>\n",
       "      <td>30000</td>\n",
       "      <td>petrol</td>\n",
       "      <td>trabant</td>\n",
       "      <td>no</td>\n",
       "    </tr>\n",
       "    <tr>\n",
       "      <th>274037</th>\n",
       "      <td>1200</td>\n",
       "      <td>small</td>\n",
       "      <td>2003</td>\n",
       "      <td>manual</td>\n",
       "      <td>NaN</td>\n",
       "      <td>seicento</td>\n",
       "      <td>150000</td>\n",
       "      <td>petrol</td>\n",
       "      <td>fiat</td>\n",
       "      <td>no</td>\n",
       "    </tr>\n",
       "    <tr>\n",
       "      <th>275774</th>\n",
       "      <td>5000</td>\n",
       "      <td>convertible</td>\n",
       "      <td>1963</td>\n",
       "      <td>manual</td>\n",
       "      <td>NaN</td>\n",
       "      <td>601</td>\n",
       "      <td>90000</td>\n",
       "      <td>petrol</td>\n",
       "      <td>trabant</td>\n",
       "      <td>no</td>\n",
       "    </tr>\n",
       "    <tr>\n",
       "      <th>276178</th>\n",
       "      <td>2500</td>\n",
       "      <td>small</td>\n",
       "      <td>1982</td>\n",
       "      <td>manual</td>\n",
       "      <td>NaN</td>\n",
       "      <td>601</td>\n",
       "      <td>60000</td>\n",
       "      <td>petrol</td>\n",
       "      <td>trabant</td>\n",
       "      <td>no</td>\n",
       "    </tr>\n",
       "    <tr>\n",
       "      <th>276653</th>\n",
       "      <td>3499</td>\n",
       "      <td>convertible</td>\n",
       "      <td>1986</td>\n",
       "      <td>manual</td>\n",
       "      <td>NaN</td>\n",
       "      <td>601</td>\n",
       "      <td>5000</td>\n",
       "      <td>petrol</td>\n",
       "      <td>trabant</td>\n",
       "      <td>no</td>\n",
       "    </tr>\n",
       "    <tr>\n",
       "      <th>278526</th>\n",
       "      <td>1050</td>\n",
       "      <td>small</td>\n",
       "      <td>2003</td>\n",
       "      <td>manual</td>\n",
       "      <td>NaN</td>\n",
       "      <td>seicento</td>\n",
       "      <td>80000</td>\n",
       "      <td>petrol</td>\n",
       "      <td>fiat</td>\n",
       "      <td>Other</td>\n",
       "    </tr>\n",
       "    <tr>\n",
       "      <th>278723</th>\n",
       "      <td>1200</td>\n",
       "      <td>sedan</td>\n",
       "      <td>1989</td>\n",
       "      <td>manual</td>\n",
       "      <td>NaN</td>\n",
       "      <td>601</td>\n",
       "      <td>50000</td>\n",
       "      <td>petrol</td>\n",
       "      <td>trabant</td>\n",
       "      <td>no</td>\n",
       "    </tr>\n",
       "    <tr>\n",
       "      <th>278814</th>\n",
       "      <td>2500</td>\n",
       "      <td>sedan</td>\n",
       "      <td>1988</td>\n",
       "      <td>manual</td>\n",
       "      <td>NaN</td>\n",
       "      <td>601</td>\n",
       "      <td>90000</td>\n",
       "      <td>other</td>\n",
       "      <td>trabant</td>\n",
       "      <td>no</td>\n",
       "    </tr>\n",
       "    <tr>\n",
       "      <th>279615</th>\n",
       "      <td>1590</td>\n",
       "      <td>small</td>\n",
       "      <td>1990</td>\n",
       "      <td>manual</td>\n",
       "      <td>NaN</td>\n",
       "      <td>601</td>\n",
       "      <td>70000</td>\n",
       "      <td>other</td>\n",
       "      <td>trabant</td>\n",
       "      <td>no</td>\n",
       "    </tr>\n",
       "    <tr>\n",
       "      <th>279888</th>\n",
       "      <td>1299</td>\n",
       "      <td>small</td>\n",
       "      <td>1999</td>\n",
       "      <td>manual</td>\n",
       "      <td>NaN</td>\n",
       "      <td>seicento</td>\n",
       "      <td>70000</td>\n",
       "      <td>petrol</td>\n",
       "      <td>fiat</td>\n",
       "      <td>no</td>\n",
       "    </tr>\n",
       "    <tr>\n",
       "      <th>280164</th>\n",
       "      <td>5400</td>\n",
       "      <td>small</td>\n",
       "      <td>1966</td>\n",
       "      <td>manual</td>\n",
       "      <td>NaN</td>\n",
       "      <td>seicento</td>\n",
       "      <td>80000</td>\n",
       "      <td>petrol</td>\n",
       "      <td>fiat</td>\n",
       "      <td>Other</td>\n",
       "    </tr>\n",
       "    <tr>\n",
       "      <th>281354</th>\n",
       "      <td>2750</td>\n",
       "      <td>small</td>\n",
       "      <td>2005</td>\n",
       "      <td>manual</td>\n",
       "      <td>NaN</td>\n",
       "      <td>seicento</td>\n",
       "      <td>40000</td>\n",
       "      <td>petrol</td>\n",
       "      <td>fiat</td>\n",
       "      <td>no</td>\n",
       "    </tr>\n",
       "    <tr>\n",
       "      <th>284156</th>\n",
       "      <td>1500</td>\n",
       "      <td>sedan</td>\n",
       "      <td>1986</td>\n",
       "      <td>manual</td>\n",
       "      <td>NaN</td>\n",
       "      <td>601</td>\n",
       "      <td>100000</td>\n",
       "      <td>petrol</td>\n",
       "      <td>trabant</td>\n",
       "      <td>no</td>\n",
       "    </tr>\n",
       "    <tr>\n",
       "      <th>284750</th>\n",
       "      <td>1850</td>\n",
       "      <td>small</td>\n",
       "      <td>1999</td>\n",
       "      <td>manual</td>\n",
       "      <td>NaN</td>\n",
       "      <td>seicento</td>\n",
       "      <td>20000</td>\n",
       "      <td>petrol</td>\n",
       "      <td>fiat</td>\n",
       "      <td>no</td>\n",
       "    </tr>\n",
       "    <tr>\n",
       "      <th>284936</th>\n",
       "      <td>1199</td>\n",
       "      <td>small</td>\n",
       "      <td>2000</td>\n",
       "      <td>Other</td>\n",
       "      <td>NaN</td>\n",
       "      <td>seicento</td>\n",
       "      <td>150000</td>\n",
       "      <td>petrol</td>\n",
       "      <td>fiat</td>\n",
       "      <td>no</td>\n",
       "    </tr>\n",
       "    <tr>\n",
       "      <th>292222</th>\n",
       "      <td>1290</td>\n",
       "      <td>small</td>\n",
       "      <td>2000</td>\n",
       "      <td>manual</td>\n",
       "      <td>NaN</td>\n",
       "      <td>seicento</td>\n",
       "      <td>125000</td>\n",
       "      <td>petrol</td>\n",
       "      <td>fiat</td>\n",
       "      <td>no</td>\n",
       "    </tr>\n",
       "    <tr>\n",
       "      <th>292391</th>\n",
       "      <td>1200</td>\n",
       "      <td>small</td>\n",
       "      <td>2002</td>\n",
       "      <td>manual</td>\n",
       "      <td>NaN</td>\n",
       "      <td>seicento</td>\n",
       "      <td>125000</td>\n",
       "      <td>petrol</td>\n",
       "      <td>fiat</td>\n",
       "      <td>no</td>\n",
       "    </tr>\n",
       "    <tr>\n",
       "      <th>294492</th>\n",
       "      <td>1850</td>\n",
       "      <td>small</td>\n",
       "      <td>2005</td>\n",
       "      <td>manual</td>\n",
       "      <td>NaN</td>\n",
       "      <td>seicento</td>\n",
       "      <td>80000</td>\n",
       "      <td>petrol</td>\n",
       "      <td>fiat</td>\n",
       "      <td>no</td>\n",
       "    </tr>\n",
       "    <tr>\n",
       "      <th>298235</th>\n",
       "      <td>2190</td>\n",
       "      <td>small</td>\n",
       "      <td>2009</td>\n",
       "      <td>manual</td>\n",
       "      <td>NaN</td>\n",
       "      <td>seicento</td>\n",
       "      <td>40000</td>\n",
       "      <td>petrol</td>\n",
       "      <td>fiat</td>\n",
       "      <td>no</td>\n",
       "    </tr>\n",
       "    <tr>\n",
       "      <th>300949</th>\n",
       "      <td>5500</td>\n",
       "      <td>wagon</td>\n",
       "      <td>1989</td>\n",
       "      <td>manual</td>\n",
       "      <td>NaN</td>\n",
       "      <td>601</td>\n",
       "      <td>70000</td>\n",
       "      <td>Other</td>\n",
       "      <td>trabant</td>\n",
       "      <td>no</td>\n",
       "    </tr>\n",
       "    <tr>\n",
       "      <th>301053</th>\n",
       "      <td>6500</td>\n",
       "      <td>convertible</td>\n",
       "      <td>1986</td>\n",
       "      <td>manual</td>\n",
       "      <td>NaN</td>\n",
       "      <td>601</td>\n",
       "      <td>40000</td>\n",
       "      <td>petrol</td>\n",
       "      <td>trabant</td>\n",
       "      <td>no</td>\n",
       "    </tr>\n",
       "    <tr>\n",
       "      <th>301372</th>\n",
       "      <td>5500</td>\n",
       "      <td>convertible</td>\n",
       "      <td>1989</td>\n",
       "      <td>manual</td>\n",
       "      <td>NaN</td>\n",
       "      <td>601</td>\n",
       "      <td>20000</td>\n",
       "      <td>petrol</td>\n",
       "      <td>trabant</td>\n",
       "      <td>no</td>\n",
       "    </tr>\n",
       "    <tr>\n",
       "      <th>302879</th>\n",
       "      <td>1400</td>\n",
       "      <td>wagon</td>\n",
       "      <td>1987</td>\n",
       "      <td>manual</td>\n",
       "      <td>NaN</td>\n",
       "      <td>601</td>\n",
       "      <td>60000</td>\n",
       "      <td>petrol</td>\n",
       "      <td>trabant</td>\n",
       "      <td>no</td>\n",
       "    </tr>\n",
       "    <tr>\n",
       "      <th>304543</th>\n",
       "      <td>2400</td>\n",
       "      <td>sedan</td>\n",
       "      <td>1988</td>\n",
       "      <td>manual</td>\n",
       "      <td>NaN</td>\n",
       "      <td>601</td>\n",
       "      <td>70000</td>\n",
       "      <td>petrol</td>\n",
       "      <td>trabant</td>\n",
       "      <td>no</td>\n",
       "    </tr>\n",
       "    <tr>\n",
       "      <th>305179</th>\n",
       "      <td>1199</td>\n",
       "      <td>small</td>\n",
       "      <td>2001</td>\n",
       "      <td>manual</td>\n",
       "      <td>NaN</td>\n",
       "      <td>seicento</td>\n",
       "      <td>125000</td>\n",
       "      <td>petrol</td>\n",
       "      <td>fiat</td>\n",
       "      <td>no</td>\n",
       "    </tr>\n",
       "    <tr>\n",
       "      <th>305289</th>\n",
       "      <td>4000</td>\n",
       "      <td>convertible</td>\n",
       "      <td>1973</td>\n",
       "      <td>manual</td>\n",
       "      <td>NaN</td>\n",
       "      <td>601</td>\n",
       "      <td>50000</td>\n",
       "      <td>petrol</td>\n",
       "      <td>trabant</td>\n",
       "      <td>no</td>\n",
       "    </tr>\n",
       "    <tr>\n",
       "      <th>308296</th>\n",
       "      <td>1550</td>\n",
       "      <td>sedan</td>\n",
       "      <td>1990</td>\n",
       "      <td>manual</td>\n",
       "      <td>NaN</td>\n",
       "      <td>601</td>\n",
       "      <td>80000</td>\n",
       "      <td>petrol</td>\n",
       "      <td>trabant</td>\n",
       "      <td>no</td>\n",
       "    </tr>\n",
       "    <tr>\n",
       "      <th>309466</th>\n",
       "      <td>2499</td>\n",
       "      <td>small</td>\n",
       "      <td>1961</td>\n",
       "      <td>manual</td>\n",
       "      <td>NaN</td>\n",
       "      <td>601</td>\n",
       "      <td>30000</td>\n",
       "      <td>petrol</td>\n",
       "      <td>trabant</td>\n",
       "      <td>no</td>\n",
       "    </tr>\n",
       "    <tr>\n",
       "      <th>309925</th>\n",
       "      <td>2280</td>\n",
       "      <td>sedan</td>\n",
       "      <td>1986</td>\n",
       "      <td>manual</td>\n",
       "      <td>NaN</td>\n",
       "      <td>601</td>\n",
       "      <td>60000</td>\n",
       "      <td>petrol</td>\n",
       "      <td>trabant</td>\n",
       "      <td>no</td>\n",
       "    </tr>\n",
       "    <tr>\n",
       "      <th>310054</th>\n",
       "      <td>4999</td>\n",
       "      <td>convertible</td>\n",
       "      <td>1989</td>\n",
       "      <td>manual</td>\n",
       "      <td>NaN</td>\n",
       "      <td>601</td>\n",
       "      <td>70000</td>\n",
       "      <td>petrol</td>\n",
       "      <td>trabant</td>\n",
       "      <td>no</td>\n",
       "    </tr>\n",
       "    <tr>\n",
       "      <th>310815</th>\n",
       "      <td>4499</td>\n",
       "      <td>convertible</td>\n",
       "      <td>1988</td>\n",
       "      <td>manual</td>\n",
       "      <td>NaN</td>\n",
       "      <td>601</td>\n",
       "      <td>90000</td>\n",
       "      <td>petrol</td>\n",
       "      <td>trabant</td>\n",
       "      <td>no</td>\n",
       "    </tr>\n",
       "    <tr>\n",
       "      <th>312053</th>\n",
       "      <td>7500</td>\n",
       "      <td>convertible</td>\n",
       "      <td>1966</td>\n",
       "      <td>manual</td>\n",
       "      <td>NaN</td>\n",
       "      <td>601</td>\n",
       "      <td>20000</td>\n",
       "      <td>petrol</td>\n",
       "      <td>trabant</td>\n",
       "      <td>no</td>\n",
       "    </tr>\n",
       "    <tr>\n",
       "      <th>314033</th>\n",
       "      <td>1300</td>\n",
       "      <td>small</td>\n",
       "      <td>1998</td>\n",
       "      <td>manual</td>\n",
       "      <td>NaN</td>\n",
       "      <td>seicento</td>\n",
       "      <td>150000</td>\n",
       "      <td>lpg</td>\n",
       "      <td>fiat</td>\n",
       "      <td>no</td>\n",
       "    </tr>\n",
       "    <tr>\n",
       "      <th>316607</th>\n",
       "      <td>1330</td>\n",
       "      <td>small</td>\n",
       "      <td>2004</td>\n",
       "      <td>manual</td>\n",
       "      <td>NaN</td>\n",
       "      <td>seicento</td>\n",
       "      <td>150000</td>\n",
       "      <td>petrol</td>\n",
       "      <td>fiat</td>\n",
       "      <td>yes</td>\n",
       "    </tr>\n",
       "    <tr>\n",
       "      <th>316870</th>\n",
       "      <td>4999</td>\n",
       "      <td>sedan</td>\n",
       "      <td>1987</td>\n",
       "      <td>Other</td>\n",
       "      <td>NaN</td>\n",
       "      <td>601</td>\n",
       "      <td>30000</td>\n",
       "      <td>petrol</td>\n",
       "      <td>trabant</td>\n",
       "      <td>no</td>\n",
       "    </tr>\n",
       "    <tr>\n",
       "      <th>316995</th>\n",
       "      <td>1600</td>\n",
       "      <td>small</td>\n",
       "      <td>2000</td>\n",
       "      <td>manual</td>\n",
       "      <td>NaN</td>\n",
       "      <td>seicento</td>\n",
       "      <td>80000</td>\n",
       "      <td>petrol</td>\n",
       "      <td>fiat</td>\n",
       "      <td>no</td>\n",
       "    </tr>\n",
       "    <tr>\n",
       "      <th>317567</th>\n",
       "      <td>3590</td>\n",
       "      <td>sedan</td>\n",
       "      <td>1989</td>\n",
       "      <td>manual</td>\n",
       "      <td>NaN</td>\n",
       "      <td>601</td>\n",
       "      <td>30000</td>\n",
       "      <td>petrol</td>\n",
       "      <td>trabant</td>\n",
       "      <td>no</td>\n",
       "    </tr>\n",
       "    <tr>\n",
       "      <th>318029</th>\n",
       "      <td>7950</td>\n",
       "      <td>small</td>\n",
       "      <td>1962</td>\n",
       "      <td>manual</td>\n",
       "      <td>NaN</td>\n",
       "      <td>seicento</td>\n",
       "      <td>70000</td>\n",
       "      <td>petrol</td>\n",
       "      <td>fiat</td>\n",
       "      <td>Other</td>\n",
       "    </tr>\n",
       "    <tr>\n",
       "      <th>318260</th>\n",
       "      <td>1500</td>\n",
       "      <td>small</td>\n",
       "      <td>2001</td>\n",
       "      <td>manual</td>\n",
       "      <td>NaN</td>\n",
       "      <td>seicento</td>\n",
       "      <td>90000</td>\n",
       "      <td>petrol</td>\n",
       "      <td>fiat</td>\n",
       "      <td>no</td>\n",
       "    </tr>\n",
       "    <tr>\n",
       "      <th>321751</th>\n",
       "      <td>1300</td>\n",
       "      <td>small</td>\n",
       "      <td>1973</td>\n",
       "      <td>manual</td>\n",
       "      <td>NaN</td>\n",
       "      <td>601</td>\n",
       "      <td>30000</td>\n",
       "      <td>petrol</td>\n",
       "      <td>trabant</td>\n",
       "      <td>no</td>\n",
       "    </tr>\n",
       "    <tr>\n",
       "      <th>322735</th>\n",
       "      <td>2000</td>\n",
       "      <td>wagon</td>\n",
       "      <td>1968</td>\n",
       "      <td>manual</td>\n",
       "      <td>NaN</td>\n",
       "      <td>601</td>\n",
       "      <td>150000</td>\n",
       "      <td>petrol</td>\n",
       "      <td>trabant</td>\n",
       "      <td>Other</td>\n",
       "    </tr>\n",
       "    <tr>\n",
       "      <th>323048</th>\n",
       "      <td>5000</td>\n",
       "      <td>small</td>\n",
       "      <td>1989</td>\n",
       "      <td>manual</td>\n",
       "      <td>NaN</td>\n",
       "      <td>601</td>\n",
       "      <td>20000</td>\n",
       "      <td>petrol</td>\n",
       "      <td>trabant</td>\n",
       "      <td>no</td>\n",
       "    </tr>\n",
       "    <tr>\n",
       "      <th>323697</th>\n",
       "      <td>2199</td>\n",
       "      <td>sedan</td>\n",
       "      <td>1990</td>\n",
       "      <td>manual</td>\n",
       "      <td>NaN</td>\n",
       "      <td>601</td>\n",
       "      <td>60000</td>\n",
       "      <td>petrol</td>\n",
       "      <td>trabant</td>\n",
       "      <td>Other</td>\n",
       "    </tr>\n",
       "    <tr>\n",
       "      <th>327313</th>\n",
       "      <td>1480</td>\n",
       "      <td>small</td>\n",
       "      <td>1999</td>\n",
       "      <td>manual</td>\n",
       "      <td>NaN</td>\n",
       "      <td>seicento</td>\n",
       "      <td>80000</td>\n",
       "      <td>petrol</td>\n",
       "      <td>fiat</td>\n",
       "      <td>no</td>\n",
       "    </tr>\n",
       "    <tr>\n",
       "      <th>328045</th>\n",
       "      <td>1900</td>\n",
       "      <td>small</td>\n",
       "      <td>2001</td>\n",
       "      <td>manual</td>\n",
       "      <td>NaN</td>\n",
       "      <td>seicento</td>\n",
       "      <td>125000</td>\n",
       "      <td>petrol</td>\n",
       "      <td>fiat</td>\n",
       "      <td>no</td>\n",
       "    </tr>\n",
       "    <tr>\n",
       "      <th>329988</th>\n",
       "      <td>1499</td>\n",
       "      <td>sedan</td>\n",
       "      <td>2002</td>\n",
       "      <td>manual</td>\n",
       "      <td>NaN</td>\n",
       "      <td>seicento</td>\n",
       "      <td>150000</td>\n",
       "      <td>petrol</td>\n",
       "      <td>fiat</td>\n",
       "      <td>Other</td>\n",
       "    </tr>\n",
       "    <tr>\n",
       "      <th>330832</th>\n",
       "      <td>5600</td>\n",
       "      <td>small</td>\n",
       "      <td>1986</td>\n",
       "      <td>manual</td>\n",
       "      <td>NaN</td>\n",
       "      <td>601</td>\n",
       "      <td>60000</td>\n",
       "      <td>petrol</td>\n",
       "      <td>trabant</td>\n",
       "      <td>no</td>\n",
       "    </tr>\n",
       "    <tr>\n",
       "      <th>331240</th>\n",
       "      <td>3500</td>\n",
       "      <td>sedan</td>\n",
       "      <td>1988</td>\n",
       "      <td>manual</td>\n",
       "      <td>NaN</td>\n",
       "      <td>601</td>\n",
       "      <td>40000</td>\n",
       "      <td>petrol</td>\n",
       "      <td>trabant</td>\n",
       "      <td>Other</td>\n",
       "    </tr>\n",
       "    <tr>\n",
       "      <th>331632</th>\n",
       "      <td>3999</td>\n",
       "      <td>sedan</td>\n",
       "      <td>1983</td>\n",
       "      <td>manual</td>\n",
       "      <td>NaN</td>\n",
       "      <td>601</td>\n",
       "      <td>5000</td>\n",
       "      <td>petrol</td>\n",
       "      <td>trabant</td>\n",
       "      <td>Other</td>\n",
       "    </tr>\n",
       "    <tr>\n",
       "      <th>332083</th>\n",
       "      <td>1200</td>\n",
       "      <td>small</td>\n",
       "      <td>2002</td>\n",
       "      <td>manual</td>\n",
       "      <td>NaN</td>\n",
       "      <td>seicento</td>\n",
       "      <td>60000</td>\n",
       "      <td>petrol</td>\n",
       "      <td>fiat</td>\n",
       "      <td>no</td>\n",
       "    </tr>\n",
       "    <tr>\n",
       "      <th>333221</th>\n",
       "      <td>1150</td>\n",
       "      <td>small</td>\n",
       "      <td>2001</td>\n",
       "      <td>manual</td>\n",
       "      <td>NaN</td>\n",
       "      <td>seicento</td>\n",
       "      <td>125000</td>\n",
       "      <td>petrol</td>\n",
       "      <td>fiat</td>\n",
       "      <td>no</td>\n",
       "    </tr>\n",
       "    <tr>\n",
       "      <th>334288</th>\n",
       "      <td>1399</td>\n",
       "      <td>small</td>\n",
       "      <td>2003</td>\n",
       "      <td>manual</td>\n",
       "      <td>NaN</td>\n",
       "      <td>seicento</td>\n",
       "      <td>150000</td>\n",
       "      <td>petrol</td>\n",
       "      <td>fiat</td>\n",
       "      <td>no</td>\n",
       "    </tr>\n",
       "    <tr>\n",
       "      <th>335305</th>\n",
       "      <td>1550</td>\n",
       "      <td>small</td>\n",
       "      <td>2004</td>\n",
       "      <td>manual</td>\n",
       "      <td>NaN</td>\n",
       "      <td>seicento</td>\n",
       "      <td>70000</td>\n",
       "      <td>petrol</td>\n",
       "      <td>fiat</td>\n",
       "      <td>no</td>\n",
       "    </tr>\n",
       "    <tr>\n",
       "      <th>336567</th>\n",
       "      <td>1250</td>\n",
       "      <td>small</td>\n",
       "      <td>1999</td>\n",
       "      <td>manual</td>\n",
       "      <td>NaN</td>\n",
       "      <td>seicento</td>\n",
       "      <td>150000</td>\n",
       "      <td>petrol</td>\n",
       "      <td>fiat</td>\n",
       "      <td>Other</td>\n",
       "    </tr>\n",
       "    <tr>\n",
       "      <th>338370</th>\n",
       "      <td>1400</td>\n",
       "      <td>sedan</td>\n",
       "      <td>1975</td>\n",
       "      <td>manual</td>\n",
       "      <td>NaN</td>\n",
       "      <td>601</td>\n",
       "      <td>50000</td>\n",
       "      <td>petrol</td>\n",
       "      <td>trabant</td>\n",
       "      <td>no</td>\n",
       "    </tr>\n",
       "    <tr>\n",
       "      <th>338719</th>\n",
       "      <td>1450</td>\n",
       "      <td>wagon</td>\n",
       "      <td>1972</td>\n",
       "      <td>manual</td>\n",
       "      <td>NaN</td>\n",
       "      <td>601</td>\n",
       "      <td>150000</td>\n",
       "      <td>petrol</td>\n",
       "      <td>trabant</td>\n",
       "      <td>no</td>\n",
       "    </tr>\n",
       "    <tr>\n",
       "      <th>338925</th>\n",
       "      <td>5000</td>\n",
       "      <td>small</td>\n",
       "      <td>1986</td>\n",
       "      <td>manual</td>\n",
       "      <td>NaN</td>\n",
       "      <td>601</td>\n",
       "      <td>60000</td>\n",
       "      <td>petrol</td>\n",
       "      <td>trabant</td>\n",
       "      <td>no</td>\n",
       "    </tr>\n",
       "    <tr>\n",
       "      <th>338940</th>\n",
       "      <td>4500</td>\n",
       "      <td>wagon</td>\n",
       "      <td>1992</td>\n",
       "      <td>manual</td>\n",
       "      <td>NaN</td>\n",
       "      <td>601</td>\n",
       "      <td>20000</td>\n",
       "      <td>petrol</td>\n",
       "      <td>trabant</td>\n",
       "      <td>no</td>\n",
       "    </tr>\n",
       "    <tr>\n",
       "      <th>340050</th>\n",
       "      <td>1399</td>\n",
       "      <td>sedan</td>\n",
       "      <td>1980</td>\n",
       "      <td>manual</td>\n",
       "      <td>NaN</td>\n",
       "      <td>601</td>\n",
       "      <td>20000</td>\n",
       "      <td>other</td>\n",
       "      <td>trabant</td>\n",
       "      <td>no</td>\n",
       "    </tr>\n",
       "    <tr>\n",
       "      <th>341120</th>\n",
       "      <td>1050</td>\n",
       "      <td>small</td>\n",
       "      <td>2003</td>\n",
       "      <td>manual</td>\n",
       "      <td>NaN</td>\n",
       "      <td>seicento</td>\n",
       "      <td>150000</td>\n",
       "      <td>petrol</td>\n",
       "      <td>fiat</td>\n",
       "      <td>no</td>\n",
       "    </tr>\n",
       "    <tr>\n",
       "      <th>341777</th>\n",
       "      <td>1700</td>\n",
       "      <td>small</td>\n",
       "      <td>2000</td>\n",
       "      <td>manual</td>\n",
       "      <td>NaN</td>\n",
       "      <td>seicento</td>\n",
       "      <td>60000</td>\n",
       "      <td>Other</td>\n",
       "      <td>fiat</td>\n",
       "      <td>no</td>\n",
       "    </tr>\n",
       "    <tr>\n",
       "      <th>343368</th>\n",
       "      <td>1200</td>\n",
       "      <td>small</td>\n",
       "      <td>2000</td>\n",
       "      <td>manual</td>\n",
       "      <td>NaN</td>\n",
       "      <td>seicento</td>\n",
       "      <td>50000</td>\n",
       "      <td>petrol</td>\n",
       "      <td>fiat</td>\n",
       "      <td>no</td>\n",
       "    </tr>\n",
       "    <tr>\n",
       "      <th>344169</th>\n",
       "      <td>1300</td>\n",
       "      <td>small</td>\n",
       "      <td>1999</td>\n",
       "      <td>manual</td>\n",
       "      <td>NaN</td>\n",
       "      <td>seicento</td>\n",
       "      <td>100000</td>\n",
       "      <td>petrol</td>\n",
       "      <td>fiat</td>\n",
       "      <td>no</td>\n",
       "    </tr>\n",
       "    <tr>\n",
       "      <th>344759</th>\n",
       "      <td>1050</td>\n",
       "      <td>small</td>\n",
       "      <td>2000</td>\n",
       "      <td>manual</td>\n",
       "      <td>NaN</td>\n",
       "      <td>seicento</td>\n",
       "      <td>100000</td>\n",
       "      <td>petrol</td>\n",
       "      <td>fiat</td>\n",
       "      <td>no</td>\n",
       "    </tr>\n",
       "    <tr>\n",
       "      <th>345510</th>\n",
       "      <td>1230</td>\n",
       "      <td>sedan</td>\n",
       "      <td>1986</td>\n",
       "      <td>manual</td>\n",
       "      <td>NaN</td>\n",
       "      <td>601</td>\n",
       "      <td>20000</td>\n",
       "      <td>petrol</td>\n",
       "      <td>trabant</td>\n",
       "      <td>no</td>\n",
       "    </tr>\n",
       "    <tr>\n",
       "      <th>345720</th>\n",
       "      <td>2500</td>\n",
       "      <td>wagon</td>\n",
       "      <td>1987</td>\n",
       "      <td>manual</td>\n",
       "      <td>NaN</td>\n",
       "      <td>601</td>\n",
       "      <td>5000</td>\n",
       "      <td>petrol</td>\n",
       "      <td>trabant</td>\n",
       "      <td>no</td>\n",
       "    </tr>\n",
       "    <tr>\n",
       "      <th>346543</th>\n",
       "      <td>2300</td>\n",
       "      <td>wagon</td>\n",
       "      <td>1982</td>\n",
       "      <td>manual</td>\n",
       "      <td>NaN</td>\n",
       "      <td>601</td>\n",
       "      <td>70000</td>\n",
       "      <td>petrol</td>\n",
       "      <td>trabant</td>\n",
       "      <td>no</td>\n",
       "    </tr>\n",
       "    <tr>\n",
       "      <th>348719</th>\n",
       "      <td>3500</td>\n",
       "      <td>sedan</td>\n",
       "      <td>1984</td>\n",
       "      <td>manual</td>\n",
       "      <td>NaN</td>\n",
       "      <td>601</td>\n",
       "      <td>70000</td>\n",
       "      <td>petrol</td>\n",
       "      <td>trabant</td>\n",
       "      <td>Other</td>\n",
       "    </tr>\n",
       "    <tr>\n",
       "      <th>349281</th>\n",
       "      <td>1500</td>\n",
       "      <td>small</td>\n",
       "      <td>2002</td>\n",
       "      <td>manual</td>\n",
       "      <td>NaN</td>\n",
       "      <td>seicento</td>\n",
       "      <td>80000</td>\n",
       "      <td>petrol</td>\n",
       "      <td>fiat</td>\n",
       "      <td>no</td>\n",
       "    </tr>\n",
       "    <tr>\n",
       "      <th>351806</th>\n",
       "      <td>1900</td>\n",
       "      <td>small</td>\n",
       "      <td>2002</td>\n",
       "      <td>manual</td>\n",
       "      <td>NaN</td>\n",
       "      <td>seicento</td>\n",
       "      <td>60000</td>\n",
       "      <td>petrol</td>\n",
       "      <td>fiat</td>\n",
       "      <td>no</td>\n",
       "    </tr>\n",
       "    <tr>\n",
       "      <th>353040</th>\n",
       "      <td>10000</td>\n",
       "      <td>other</td>\n",
       "      <td>1988</td>\n",
       "      <td>manual</td>\n",
       "      <td>NaN</td>\n",
       "      <td>601</td>\n",
       "      <td>5000</td>\n",
       "      <td>petrol</td>\n",
       "      <td>trabant</td>\n",
       "      <td>Other</td>\n",
       "    </tr>\n",
       "  </tbody>\n",
       "</table>\n",
       "</div>"
      ],
      "text/plain": [
       "        price vehicle_type  registration_year gearbox  power     model  \\\n",
       "5941     2990        small               2005  manual    NaN  seicento   \n",
       "9642     1199        small               2000  manual    NaN  seicento   \n",
       "9974     1200        small               2004  manual    NaN  seicento   \n",
       "11549    5900        sedan               1989  manual    NaN       601   \n",
       "14104    1199        small               2002  manual    NaN  seicento   \n",
       "14200    1290        small               2000  manual    NaN  seicento   \n",
       "16720    3750        small               1976  manual    NaN       601   \n",
       "21306    1250        small               1998  manual    NaN  seicento   \n",
       "21468    4800        sedan               1988  manual    NaN       601   \n",
       "21997    1299        small               2000  manual    NaN  seicento   \n",
       "24703    5000        small               1986  manual    NaN       601   \n",
       "25453    2280        sedan               1986  manual    NaN       601   \n",
       "26184    2500        sedan               1987  manual    NaN       601   \n",
       "26288    1450        small               1988  manual    NaN       601   \n",
       "27075    1300        small               1999  manual    NaN  seicento   \n",
       "27077    1750        wagon               1979  manual    NaN       601   \n",
       "27145    1600        small               1988  manual    NaN       601   \n",
       "27151    1900        small               2000  manual    NaN  seicento   \n",
       "27890    6000  convertible               1989  manual    NaN       601   \n",
       "27987    1500        small               2002  manual    NaN  seicento   \n",
       "28054    1050        small               1984  manual    NaN       601   \n",
       "28142    7000  convertible               1982  manual    NaN       601   \n",
       "29228    2000        small               2006  manual    NaN  seicento   \n",
       "30772    9990  convertible               1975  manual    NaN       601   \n",
       "31346    1650        small               2000  manual    NaN  seicento   \n",
       "32471    1299        small               1999  manual    NaN  seicento   \n",
       "36111    2000        small               1988  manual    NaN       601   \n",
       "38108    2550        wagon               1990  manual    NaN       601   \n",
       "38758    1949        small               2002  manual    NaN  seicento   \n",
       "39159    1700        small               1999  manual    NaN  seicento   \n",
       "40350    5500  convertible               1985  manual    NaN       601   \n",
       "46664    1100        small               2002  manual    NaN  seicento   \n",
       "47619    1299        small               2000  manual    NaN  seicento   \n",
       "47727    1600        small               1989  manual    NaN       601   \n",
       "49023    1500        small               2003  manual    NaN  seicento   \n",
       "49302    1599        small               2005  manual    NaN  seicento   \n",
       "51503    2480        other               1988  manual    NaN       601   \n",
       "52950    1600        small               2000  manual    NaN  seicento   \n",
       "53158    1200        small               2001  manual    NaN  seicento   \n",
       "53704    2000        sedan               1988  manual    NaN       601   \n",
       "54090    1999        sedan               1984  manual    NaN       601   \n",
       "56106   14500          suv               2015  manual    NaN       601   \n",
       "56371    1500        wagon               1989  manual    NaN       601   \n",
       "58946    2499        small               1961  manual    NaN       601   \n",
       "61042    1600        sedan               1989  manual    NaN       601   \n",
       "62447   10500  convertible               1983  manual    NaN       601   \n",
       "62821    2999        sedan               1987  manual    NaN       601   \n",
       "64645    1500        small               1989  manual    NaN       601   \n",
       "66154    1500        small               1998  manual    NaN  seicento   \n",
       "67632    1200        small               1998  manual    NaN  seicento   \n",
       "69300    1800        small               2002  manual    NaN  seicento   \n",
       "70058    5000        small               1989  manual    NaN       601   \n",
       "71163    1599        small               2004  manual    NaN  seicento   \n",
       "73505    1250        small               1999  manual    NaN  seicento   \n",
       "75683    6200        coupe               1982  manual    NaN       601   \n",
       "75813    1050        small               2001  manual    NaN  seicento   \n",
       "76353    3750        small               1976  manual    NaN       601   \n",
       "77703    1750        small               2002  manual    NaN  seicento   \n",
       "77918    1190        small               2003  manual    NaN  seicento   \n",
       "77947    1250        small               2002  manual    NaN  seicento   \n",
       "78102    1399        sedan               1986  manual    NaN       601   \n",
       "78755    4799        small               1986  manual    NaN       601   \n",
       "79038    1680        wagon               1984  manual    NaN       601   \n",
       "79993    3000        small               2007  manual    NaN  seicento   \n",
       "80274    6480        sedan               1990  manual    NaN       601   \n",
       "80886    3400        small               1987  manual    NaN       601   \n",
       "81421    3500        wagon               1983  manual    NaN       601   \n",
       "81717    2990        wagon               1988  manual    NaN       601   \n",
       "83081    1850        sedan               1986  manual    NaN       601   \n",
       "83279    1600        small               2002  manual    NaN  seicento   \n",
       "84874    1500        wagon               1985  manual    NaN       601   \n",
       "88412    4100        small               2010  manual    NaN  seicento   \n",
       "88447    2800        sedan               1988  manual    NaN       601   \n",
       "92525    1150        small               2000  manual    NaN  seicento   \n",
       "94183    1300        small               2003  manual    NaN  seicento   \n",
       "96681    1100        small               2001  manual    NaN  seicento   \n",
       "97709    1600        sedan               1987  manual    NaN       601   \n",
       "99562    2000        sedan               1983  manual    NaN       601   \n",
       "99867    1050        small               2003  manual    NaN  seicento   \n",
       "100214   1050        small               1999  manual    NaN  seicento   \n",
       "103393   2890        small               1988  manual    NaN       601   \n",
       "104817   2500        sedan               1988  manual    NaN       601   \n",
       "104843   2199        sedan               1979  manual    NaN       601   \n",
       "108714   1290        small               2000  manual    NaN  seicento   \n",
       "110817   6480        sedan               1990  manual    NaN       601   \n",
       "110855   1300        sedan               1988  manual    NaN       601   \n",
       "112025   1300        sedan               1988  manual    NaN       601   \n",
       "113373   1500        small               2004  manual    NaN  seicento   \n",
       "114557   1350        small               1990  manual    NaN       601   \n",
       "116616   2480        sedan               1989  manual    NaN       601   \n",
       "117622   2500        wagon               1991  manual    NaN       601   \n",
       "117813   2400        sedan               1988  manual    NaN       601   \n",
       "118657   3333        sedan               1970  manual    NaN       601   \n",
       "122294   3999        sedan               1964  manual    NaN       601   \n",
       "124056   5500  convertible               1983   Other    NaN       601   \n",
       "125226   1350        small               2004  manual    NaN  seicento   \n",
       "125267   1950        small               2003  manual    NaN  seicento   \n",
       "125729   2000        sedan               1986  manual    NaN       601   \n",
       "125930   1299        small               2000  manual    NaN  seicento   \n",
       "127321   1800        wagon               1989  manual    NaN       601   \n",
       "130079   2200        small               2005  manual    NaN  seicento   \n",
       "133198   1290        small               1999  manual    NaN  seicento   \n",
       "134727   1099        small               2002  manual    NaN  seicento   \n",
       "138322   1199        small               2001  manual    NaN  seicento   \n",
       "140370   1199        small               2000  manual    NaN  seicento   \n",
       "141508   5200        sedan               1982  manual    NaN       601   \n",
       "142103   1350        small               1987  manual    NaN       601   \n",
       "142324   7500  convertible               1989  manual    NaN       601   \n",
       "144199   3500        small               1989  manual    NaN       601   \n",
       "144470   3999        sedan               1983  manual    NaN       601   \n",
       "148337   1499        small               2001  manual    NaN  seicento   \n",
       "148826   1500        small               2004  manual    NaN  seicento   \n",
       "149825   1050        small               2002  manual    NaN  seicento   \n",
       "149848   5000        wagon               1977  manual    NaN       601   \n",
       "152515   2999  convertible               1983  manual    NaN       601   \n",
       "152518   1399        small               2001  manual    NaN  seicento   \n",
       "152530   2500        sedan               1970    auto    NaN       601   \n",
       "155748   1050        small               2002  manual    NaN  seicento   \n",
       "157126   1655        sedan               1972   Other    NaN       601   \n",
       "158573   5999  convertible               1977  manual    NaN       601   \n",
       "159708   1350        small               2002  manual    NaN  seicento   \n",
       "161189   1250        small               2001  manual    NaN  seicento   \n",
       "162878   2300        sedan               1988  manual    NaN       601   \n",
       "164574   1150        small               2001  manual    NaN  seicento   \n",
       "167570   2100        sedan               1978  manual    NaN       601   \n",
       "170217   1500        wagon               1991  manual    NaN       601   \n",
       "170804   1200        small               2001  manual    NaN  seicento   \n",
       "171248   3999        small               1987  manual    NaN       601   \n",
       "175117   1200        wagon               1988  manual    NaN       601   \n",
       "176271   1950        small               2003  manual    NaN  seicento   \n",
       "178408   1750        small               2002  manual    NaN  seicento   \n",
       "179612   1250        small               2001  manual    NaN  seicento   \n",
       "181631   1750        small               2002  manual    NaN  seicento   \n",
       "182889   5000  convertible               1975  manual    NaN       601   \n",
       "186061   2400        small               2004  manual    NaN  seicento   \n",
       "186542   1900        sedan               1988  manual    NaN       601   \n",
       "187061   3750        small               2009  manual    NaN  seicento   \n",
       "188633   2190  convertible               1987  manual    NaN       601   \n",
       "189393   1550        sedan               1972   Other    NaN       601   \n",
       "189914   1250        small               2003  manual    NaN  seicento   \n",
       "191024   1350        small               2000  manual    NaN  seicento   \n",
       "191837   1999        small               1965  manual    NaN       601   \n",
       "195740   1300        small               1998  manual    NaN  seicento   \n",
       "196077   1290        small               2001  manual    NaN  seicento   \n",
       "196793   1999        sedan               1984  manual    NaN       601   \n",
       "198592   1900        small               2001  manual    NaN  seicento   \n",
       "201314   6500        wagon               1990  manual    NaN       601   \n",
       "201669   2400        small               2009  manual    NaN  seicento   \n",
       "202957   1200        small               2001  manual    NaN  seicento   \n",
       "205319   1150        small               2005  manual    NaN  seicento   \n",
       "205605   1300        small               2001  manual    NaN  seicento   \n",
       "207111   1290        sedan               2000  manual    NaN  seicento   \n",
       "207966   4350        small               1983  manual    NaN       601   \n",
       "208861   1990        small               2001  manual    NaN  seicento   \n",
       "209631   1444        small               2004  manual    NaN  seicento   \n",
       "210234   6990  convertible               1981  manual    NaN       601   \n",
       "210534   3000        small               2007  manual    NaN  seicento   \n",
       "213056   1350        small               2004  manual    NaN  seicento   \n",
       "214351   1290        small               2000  manual    NaN  seicento   \n",
       "214951   2990        sedan               1988  manual    NaN       601   \n",
       "216539   1250        sedan               1989  manual    NaN       601   \n",
       "218215   1999        small               1961  manual    NaN       601   \n",
       "219894   1750        small               2002  manual    NaN  seicento   \n",
       "219935   1700        sedan               1990  manual    NaN       601   \n",
       "223103   3500        sedan               1988  manual    NaN       601   \n",
       "223364  11800  convertible               1973  manual    NaN       601   \n",
       "223778   4500        sedan               1990  manual    NaN       601   \n",
       "224780   3750        small               2010  manual    NaN  seicento   \n",
       "231390   2500        sedan               1989  manual    NaN       601   \n",
       "231804   3499  convertible               1986  manual    NaN       601   \n",
       "232392   2800        sedan               1981  manual    NaN       601   \n",
       "234668   1499        coupe               2001  manual    NaN  seicento   \n",
       "238172   1200        small               2004  manual    NaN  seicento   \n",
       "239899   4500  convertible               1992  manual    NaN       601   \n",
       "241373   4999  convertible               1989  manual    NaN       601   \n",
       "242015   1700        small               2000  manual    NaN  seicento   \n",
       "244091   1600        small               2002  manual    NaN  seicento   \n",
       "244507   1200        small               2001  manual    NaN  seicento   \n",
       "245823   4999  convertible               1989  manual    NaN       601   \n",
       "246668   1990        sedan               1989  manual    NaN       601   \n",
       "251036   1199        small               2002  manual    NaN  seicento   \n",
       "253863   1600        small               2000  manual    NaN  seicento   \n",
       "255233   6800  convertible               1980  manual    NaN       601   \n",
       "256658   1800        sedan               1978  manual    NaN       601   \n",
       "257752   1550        small               2000  manual    NaN  seicento   \n",
       "260804   2280        small               1986  manual    NaN       601   \n",
       "261525   2799        sedan               1986  manual    NaN       601   \n",
       "261719   1200        small               1994  manual    NaN  seicento   \n",
       "262958   1750        small               2002  manual    NaN  seicento   \n",
       "264240   2600        wagon               1988  manual    NaN       601   \n",
       "264731   2600        wagon               1989  manual    NaN       601   \n",
       "265910   1100        wagon               1989   Other    NaN       601   \n",
       "269878   4499  convertible               1988  manual    NaN       601   \n",
       "271153   4300        sedan               1987  manual    NaN       601   \n",
       "271199   1990        small               2001  manual    NaN  seicento   \n",
       "273286   1550        sedan               1986  manual    NaN       601   \n",
       "274037   1200        small               2003  manual    NaN  seicento   \n",
       "275774   5000  convertible               1963  manual    NaN       601   \n",
       "276178   2500        small               1982  manual    NaN       601   \n",
       "276653   3499  convertible               1986  manual    NaN       601   \n",
       "278526   1050        small               2003  manual    NaN  seicento   \n",
       "278723   1200        sedan               1989  manual    NaN       601   \n",
       "278814   2500        sedan               1988  manual    NaN       601   \n",
       "279615   1590        small               1990  manual    NaN       601   \n",
       "279888   1299        small               1999  manual    NaN  seicento   \n",
       "280164   5400        small               1966  manual    NaN  seicento   \n",
       "281354   2750        small               2005  manual    NaN  seicento   \n",
       "284156   1500        sedan               1986  manual    NaN       601   \n",
       "284750   1850        small               1999  manual    NaN  seicento   \n",
       "284936   1199        small               2000   Other    NaN  seicento   \n",
       "292222   1290        small               2000  manual    NaN  seicento   \n",
       "292391   1200        small               2002  manual    NaN  seicento   \n",
       "294492   1850        small               2005  manual    NaN  seicento   \n",
       "298235   2190        small               2009  manual    NaN  seicento   \n",
       "300949   5500        wagon               1989  manual    NaN       601   \n",
       "301053   6500  convertible               1986  manual    NaN       601   \n",
       "301372   5500  convertible               1989  manual    NaN       601   \n",
       "302879   1400        wagon               1987  manual    NaN       601   \n",
       "304543   2400        sedan               1988  manual    NaN       601   \n",
       "305179   1199        small               2001  manual    NaN  seicento   \n",
       "305289   4000  convertible               1973  manual    NaN       601   \n",
       "308296   1550        sedan               1990  manual    NaN       601   \n",
       "309466   2499        small               1961  manual    NaN       601   \n",
       "309925   2280        sedan               1986  manual    NaN       601   \n",
       "310054   4999  convertible               1989  manual    NaN       601   \n",
       "310815   4499  convertible               1988  manual    NaN       601   \n",
       "312053   7500  convertible               1966  manual    NaN       601   \n",
       "314033   1300        small               1998  manual    NaN  seicento   \n",
       "316607   1330        small               2004  manual    NaN  seicento   \n",
       "316870   4999        sedan               1987   Other    NaN       601   \n",
       "316995   1600        small               2000  manual    NaN  seicento   \n",
       "317567   3590        sedan               1989  manual    NaN       601   \n",
       "318029   7950        small               1962  manual    NaN  seicento   \n",
       "318260   1500        small               2001  manual    NaN  seicento   \n",
       "321751   1300        small               1973  manual    NaN       601   \n",
       "322735   2000        wagon               1968  manual    NaN       601   \n",
       "323048   5000        small               1989  manual    NaN       601   \n",
       "323697   2199        sedan               1990  manual    NaN       601   \n",
       "327313   1480        small               1999  manual    NaN  seicento   \n",
       "328045   1900        small               2001  manual    NaN  seicento   \n",
       "329988   1499        sedan               2002  manual    NaN  seicento   \n",
       "330832   5600        small               1986  manual    NaN       601   \n",
       "331240   3500        sedan               1988  manual    NaN       601   \n",
       "331632   3999        sedan               1983  manual    NaN       601   \n",
       "332083   1200        small               2002  manual    NaN  seicento   \n",
       "333221   1150        small               2001  manual    NaN  seicento   \n",
       "334288   1399        small               2003  manual    NaN  seicento   \n",
       "335305   1550        small               2004  manual    NaN  seicento   \n",
       "336567   1250        small               1999  manual    NaN  seicento   \n",
       "338370   1400        sedan               1975  manual    NaN       601   \n",
       "338719   1450        wagon               1972  manual    NaN       601   \n",
       "338925   5000        small               1986  manual    NaN       601   \n",
       "338940   4500        wagon               1992  manual    NaN       601   \n",
       "340050   1399        sedan               1980  manual    NaN       601   \n",
       "341120   1050        small               2003  manual    NaN  seicento   \n",
       "341777   1700        small               2000  manual    NaN  seicento   \n",
       "343368   1200        small               2000  manual    NaN  seicento   \n",
       "344169   1300        small               1999  manual    NaN  seicento   \n",
       "344759   1050        small               2000  manual    NaN  seicento   \n",
       "345510   1230        sedan               1986  manual    NaN       601   \n",
       "345720   2500        wagon               1987  manual    NaN       601   \n",
       "346543   2300        wagon               1982  manual    NaN       601   \n",
       "348719   3500        sedan               1984  manual    NaN       601   \n",
       "349281   1500        small               2002  manual    NaN  seicento   \n",
       "351806   1900        small               2002  manual    NaN  seicento   \n",
       "353040  10000        other               1988  manual    NaN       601   \n",
       "\n",
       "        kilometer fuel_type    brand repaired  \n",
       "5941        40000    petrol     fiat    Other  \n",
       "9642       150000    petrol     fiat       no  \n",
       "9974       150000    petrol     fiat       no  \n",
       "11549       20000    petrol  trabant       no  \n",
       "14104      125000    petrol     fiat       no  \n",
       "14200      150000    petrol     fiat       no  \n",
       "16720       40000    petrol  trabant       no  \n",
       "21306      100000    petrol     fiat       no  \n",
       "21468       40000    petrol  trabant       no  \n",
       "21997       50000    petrol     fiat       no  \n",
       "24703       60000    petrol  trabant       no  \n",
       "25453       60000    petrol  trabant       no  \n",
       "26184       70000     Other  trabant       no  \n",
       "26288       70000    petrol  trabant       no  \n",
       "27075      150000    petrol     fiat       no  \n",
       "27077       50000    petrol  trabant       no  \n",
       "27145       90000    petrol  trabant       no  \n",
       "27151       20000    petrol     fiat       no  \n",
       "27890       40000    petrol  trabant       no  \n",
       "27987      150000    petrol     fiat       no  \n",
       "28054      100000     other  trabant       no  \n",
       "28142       30000    petrol  trabant       no  \n",
       "29228      125000     Other     fiat       no  \n",
       "30772        5000    petrol  trabant       no  \n",
       "31346       70000    petrol     fiat    Other  \n",
       "32471       70000    petrol     fiat       no  \n",
       "36111       60000    petrol  trabant       no  \n",
       "38108       90000    petrol  trabant       no  \n",
       "38758      125000    petrol     fiat       no  \n",
       "39159      125000    petrol     fiat       no  \n",
       "40350       40000    petrol  trabant       no  \n",
       "46664       90000    petrol     fiat       no  \n",
       "47619       50000    petrol     fiat       no  \n",
       "47727       50000     other  trabant       no  \n",
       "49023      150000    petrol     fiat      yes  \n",
       "49302       80000    petrol     fiat       no  \n",
       "51503        5000    petrol  trabant       no  \n",
       "52950       80000     Other     fiat       no  \n",
       "53158      150000     Other     fiat       no  \n",
       "53704       30000    petrol  trabant    Other  \n",
       "54090       60000     Other  trabant      yes  \n",
       "56106       40000    petrol  trabant       no  \n",
       "56371      100000     other  trabant       no  \n",
       "58946       30000    petrol  trabant       no  \n",
       "61042       40000    petrol  trabant       no  \n",
       "62447       10000    petrol  trabant       no  \n",
       "62821       80000     other  trabant       no  \n",
       "64645       40000    petrol  trabant       no  \n",
       "66154        5000    petrol     fiat       no  \n",
       "67632       90000    petrol     fiat       no  \n",
       "69300       70000    petrol     fiat       no  \n",
       "70058       20000    petrol  trabant       no  \n",
       "71163       40000    petrol     fiat       no  \n",
       "73505      150000    petrol     fiat       no  \n",
       "75683       80000    petrol  trabant       no  \n",
       "75813      100000    petrol     fiat       no  \n",
       "76353       40000    petrol  trabant       no  \n",
       "77703       70000    petrol     fiat       no  \n",
       "77918      100000    petrol     fiat       no  \n",
       "77947       80000    petrol     fiat       no  \n",
       "78102       20000    petrol  trabant       no  \n",
       "78755        5000    petrol  trabant       no  \n",
       "79038       20000    petrol  trabant       no  \n",
       "79993       40000    petrol     fiat       no  \n",
       "80274       20000    petrol  trabant       no  \n",
       "80886       40000     Other  trabant       no  \n",
       "81421        5000    petrol  trabant       no  \n",
       "81717       60000     other  trabant       no  \n",
       "83081       40000    petrol  trabant       no  \n",
       "83279      100000    petrol     fiat       no  \n",
       "84874       10000    petrol  trabant       no  \n",
       "88412       30000    petrol     fiat       no  \n",
       "88447       60000    petrol  trabant       no  \n",
       "92525       60000    petrol     fiat       no  \n",
       "94183       60000    petrol     fiat       no  \n",
       "96681       90000    petrol     fiat       no  \n",
       "97709      100000    petrol  trabant       no  \n",
       "99562       80000    petrol  trabant       no  \n",
       "99867      150000    petrol     fiat    Other  \n",
       "100214     125000    petrol     fiat       no  \n",
       "103393      40000     Other  trabant       no  \n",
       "104817      70000    petrol  trabant       no  \n",
       "104843      30000    petrol  trabant       no  \n",
       "108714     125000    petrol     fiat       no  \n",
       "110817      20000    petrol  trabant       no  \n",
       "110855      40000    petrol  trabant    Other  \n",
       "112025      90000    petrol  trabant       no  \n",
       "113373      70000    petrol     fiat       no  \n",
       "114557      50000    petrol  trabant    Other  \n",
       "116616      50000    petrol  trabant       no  \n",
       "117622      40000    petrol  trabant       no  \n",
       "117813      10000    petrol  trabant       no  \n",
       "118657      50000     other  trabant       no  \n",
       "122294      50000    petrol  trabant    Other  \n",
       "124056      10000    petrol  trabant       no  \n",
       "125226      80000    petrol     fiat       no  \n",
       "125267      80000    petrol     fiat       no  \n",
       "125729      30000     other  trabant    Other  \n",
       "125930     125000    petrol     fiat       no  \n",
       "127321      70000    petrol  trabant       no  \n",
       "130079      10000    petrol     fiat       no  \n",
       "133198      80000    petrol     fiat       no  \n",
       "134727     125000    petrol     fiat       no  \n",
       "138322     150000    petrol     fiat    Other  \n",
       "140370     150000    petrol     fiat       no  \n",
       "141508      20000    petrol  trabant       no  \n",
       "142103      90000    petrol  trabant    Other  \n",
       "142324      50000    petrol  trabant       no  \n",
       "144199      10000    petrol  trabant       no  \n",
       "144470       5000    petrol  trabant       no  \n",
       "148337      70000    petrol     fiat      yes  \n",
       "148826      70000    petrol     fiat       no  \n",
       "149825     125000    petrol     fiat       no  \n",
       "149848      50000    petrol  trabant    Other  \n",
       "152515     100000     other  trabant    Other  \n",
       "152518     125000    petrol     fiat       no  \n",
       "152530     100000     other  trabant       no  \n",
       "155748      90000    petrol     fiat    Other  \n",
       "157126       5000    petrol  trabant       no  \n",
       "158573      60000    petrol  trabant       no  \n",
       "159708     100000    petrol     fiat    Other  \n",
       "161189     100000    petrol     fiat       no  \n",
       "162878      10000    petrol  trabant       no  \n",
       "164574     125000    petrol     fiat       no  \n",
       "167570      30000    petrol  trabant       no  \n",
       "170217     100000    petrol  trabant      yes  \n",
       "170804     125000    petrol     fiat       no  \n",
       "171248      50000    petrol  trabant       no  \n",
       "175117      20000    petrol  trabant      yes  \n",
       "176271      60000    petrol     fiat       no  \n",
       "178408      70000    petrol     fiat       no  \n",
       "179612     150000    petrol     fiat       no  \n",
       "181631      70000    petrol     fiat       no  \n",
       "182889       5000    petrol  trabant       no  \n",
       "186061      60000    petrol     fiat       no  \n",
       "186542      40000     Other  trabant       no  \n",
       "187061      20000    petrol     fiat       no  \n",
       "188633      70000    petrol  trabant      yes  \n",
       "189393       5000    petrol  trabant       no  \n",
       "189914      80000    petrol     fiat       no  \n",
       "191024      70000    petrol     fiat       no  \n",
       "191837     100000    petrol  trabant    Other  \n",
       "195740     150000       lpg     fiat    Other  \n",
       "196077     150000    petrol     fiat       no  \n",
       "196793      60000     Other  trabant       no  \n",
       "198592     125000    petrol     fiat       no  \n",
       "201314      50000     other  trabant       no  \n",
       "201669      40000    petrol     fiat       no  \n",
       "202957     125000    petrol     fiat       no  \n",
       "205319     125000    petrol     fiat       no  \n",
       "205605     125000    petrol     fiat       no  \n",
       "207111     150000    petrol     fiat       no  \n",
       "207966      50000    petrol  trabant       no  \n",
       "208861      80000    petrol     fiat       no  \n",
       "209631      50000    petrol     fiat       no  \n",
       "210234      30000    petrol  trabant       no  \n",
       "210534      40000    petrol     fiat       no  \n",
       "213056     150000    petrol     fiat       no  \n",
       "214351     150000    petrol     fiat       no  \n",
       "214951      70000    petrol  trabant       no  \n",
       "216539      60000    petrol  trabant       no  \n",
       "218215      30000    petrol  trabant       no  \n",
       "219894      70000    petrol     fiat       no  \n",
       "219935      70000    petrol  trabant    Other  \n",
       "223103      90000     Other  trabant       no  \n",
       "223364      30000    petrol  trabant       no  \n",
       "223778      80000    petrol  trabant       no  \n",
       "224780      30000     Other     fiat       no  \n",
       "231390      90000    petrol  trabant       no  \n",
       "231804       5000    petrol  trabant       no  \n",
       "232392      40000    petrol  trabant       no  \n",
       "234668     125000    petrol     fiat       no  \n",
       "238172      70000    petrol     fiat       no  \n",
       "239899      30000    petrol  trabant       no  \n",
       "241373      60000    petrol  trabant       no  \n",
       "242015     125000    petrol     fiat    Other  \n",
       "244091     100000    petrol     fiat       no  \n",
       "244507     150000    petrol     fiat       no  \n",
       "245823      60000     Other  trabant       no  \n",
       "246668      80000     other  trabant       no  \n",
       "251036     100000    petrol     fiat    Other  \n",
       "253863      80000    petrol     fiat       no  \n",
       "255233      80000     Other  trabant       no  \n",
       "256658      80000    petrol  trabant       no  \n",
       "257752     125000    petrol     fiat       no  \n",
       "260804      60000    petrol  trabant       no  \n",
       "261525     125000     Other  trabant       no  \n",
       "261719     150000    petrol     fiat    Other  \n",
       "262958      70000    petrol     fiat       no  \n",
       "264240     150000    petrol  trabant       no  \n",
       "264731      20000     Other  trabant       no  \n",
       "265910      80000    petrol  trabant       no  \n",
       "269878      60000    petrol  trabant    Other  \n",
       "271153      80000    petrol  trabant       no  \n",
       "271199      80000    petrol     fiat       no  \n",
       "273286      30000    petrol  trabant       no  \n",
       "274037     150000    petrol     fiat       no  \n",
       "275774      90000    petrol  trabant       no  \n",
       "276178      60000    petrol  trabant       no  \n",
       "276653       5000    petrol  trabant       no  \n",
       "278526      80000    petrol     fiat    Other  \n",
       "278723      50000    petrol  trabant       no  \n",
       "278814      90000     other  trabant       no  \n",
       "279615      70000     other  trabant       no  \n",
       "279888      70000    petrol     fiat       no  \n",
       "280164      80000    petrol     fiat    Other  \n",
       "281354      40000    petrol     fiat       no  \n",
       "284156     100000    petrol  trabant       no  \n",
       "284750      20000    petrol     fiat       no  \n",
       "284936     150000    petrol     fiat       no  \n",
       "292222     125000    petrol     fiat       no  \n",
       "292391     125000    petrol     fiat       no  \n",
       "294492      80000    petrol     fiat       no  \n",
       "298235      40000    petrol     fiat       no  \n",
       "300949      70000     Other  trabant       no  \n",
       "301053      40000    petrol  trabant       no  \n",
       "301372      20000    petrol  trabant       no  \n",
       "302879      60000    petrol  trabant       no  \n",
       "304543      70000    petrol  trabant       no  \n",
       "305179     125000    petrol     fiat       no  \n",
       "305289      50000    petrol  trabant       no  \n",
       "308296      80000    petrol  trabant       no  \n",
       "309466      30000    petrol  trabant       no  \n",
       "309925      60000    petrol  trabant       no  \n",
       "310054      70000    petrol  trabant       no  \n",
       "310815      90000    petrol  trabant       no  \n",
       "312053      20000    petrol  trabant       no  \n",
       "314033     150000       lpg     fiat       no  \n",
       "316607     150000    petrol     fiat      yes  \n",
       "316870      30000    petrol  trabant       no  \n",
       "316995      80000    petrol     fiat       no  \n",
       "317567      30000    petrol  trabant       no  \n",
       "318029      70000    petrol     fiat    Other  \n",
       "318260      90000    petrol     fiat       no  \n",
       "321751      30000    petrol  trabant       no  \n",
       "322735     150000    petrol  trabant    Other  \n",
       "323048      20000    petrol  trabant       no  \n",
       "323697      60000    petrol  trabant    Other  \n",
       "327313      80000    petrol     fiat       no  \n",
       "328045     125000    petrol     fiat       no  \n",
       "329988     150000    petrol     fiat    Other  \n",
       "330832      60000    petrol  trabant       no  \n",
       "331240      40000    petrol  trabant    Other  \n",
       "331632       5000    petrol  trabant    Other  \n",
       "332083      60000    petrol     fiat       no  \n",
       "333221     125000    petrol     fiat       no  \n",
       "334288     150000    petrol     fiat       no  \n",
       "335305      70000    petrol     fiat       no  \n",
       "336567     150000    petrol     fiat    Other  \n",
       "338370      50000    petrol  trabant       no  \n",
       "338719     150000    petrol  trabant       no  \n",
       "338925      60000    petrol  trabant       no  \n",
       "338940      20000    petrol  trabant       no  \n",
       "340050      20000     other  trabant       no  \n",
       "341120     150000    petrol     fiat       no  \n",
       "341777      60000     Other     fiat       no  \n",
       "343368      50000    petrol     fiat       no  \n",
       "344169     100000    petrol     fiat       no  \n",
       "344759     100000    petrol     fiat       no  \n",
       "345510      20000    petrol  trabant       no  \n",
       "345720       5000    petrol  trabant       no  \n",
       "346543      70000    petrol  trabant       no  \n",
       "348719      70000    petrol  trabant    Other  \n",
       "349281      80000    petrol     fiat       no  \n",
       "351806      60000    petrol     fiat       no  \n",
       "353040       5000    petrol  trabant    Other  "
      ]
     },
     "execution_count": 40,
     "metadata": {},
     "output_type": "execute_result"
    }
   ],
   "source": [
    "data[data['power'] != data['power']]"
   ]
  },
  {
   "cell_type": "code",
   "execution_count": 41,
   "metadata": {},
   "outputs": [],
   "source": [
    "data['power'] = data['power'].fillna(data.groupby('brand')['power'].transform('median'))"
   ]
  },
  {
   "cell_type": "code",
   "execution_count": 42,
   "metadata": {},
   "outputs": [
    {
     "data": {
      "text/plain": [
       "price                0\n",
       "vehicle_type         0\n",
       "registration_year    0\n",
       "gearbox              0\n",
       "power                0\n",
       "model                0\n",
       "kilometer            0\n",
       "fuel_type            0\n",
       "brand                0\n",
       "repaired             0\n",
       "dtype: int64"
      ]
     },
     "execution_count": 42,
     "metadata": {},
     "output_type": "execute_result"
    }
   ],
   "source": [
    "data.isna().sum()"
   ]
  },
  {
   "cell_type": "markdown",
   "metadata": {},
   "source": [
    "\n",
    "<div class=\"alert alert-block alert-success\">\n",
    "<b>Успех:</b> Пропуски обработаны хорошим образом\n",
    "</div>\n"
   ]
  },
  {
   "cell_type": "code",
   "execution_count": 43,
   "metadata": {
    "scrolled": true
   },
   "outputs": [
    {
     "data": {
      "text/plain": [
       "(246815, 10)"
      ]
     },
     "metadata": {},
     "output_type": "display_data"
    },
    {
     "data": {
      "text/html": [
       "<div>\n",
       "<style scoped>\n",
       "    .dataframe tbody tr th:only-of-type {\n",
       "        vertical-align: middle;\n",
       "    }\n",
       "\n",
       "    .dataframe tbody tr th {\n",
       "        vertical-align: top;\n",
       "    }\n",
       "\n",
       "    .dataframe thead th {\n",
       "        text-align: right;\n",
       "    }\n",
       "</style>\n",
       "<table border=\"1\" class=\"dataframe\">\n",
       "  <thead>\n",
       "    <tr style=\"text-align: right;\">\n",
       "      <th></th>\n",
       "      <th>price</th>\n",
       "      <th>vehicle_type</th>\n",
       "      <th>registration_year</th>\n",
       "      <th>gearbox</th>\n",
       "      <th>power</th>\n",
       "      <th>model</th>\n",
       "      <th>kilometer</th>\n",
       "      <th>fuel_type</th>\n",
       "      <th>brand</th>\n",
       "      <th>repaired</th>\n",
       "    </tr>\n",
       "  </thead>\n",
       "  <tbody>\n",
       "    <tr>\n",
       "      <th>1</th>\n",
       "      <td>18300</td>\n",
       "      <td>coupe</td>\n",
       "      <td>2011</td>\n",
       "      <td>manual</td>\n",
       "      <td>190.0</td>\n",
       "      <td>Other</td>\n",
       "      <td>125000</td>\n",
       "      <td>petrol</td>\n",
       "      <td>audi</td>\n",
       "      <td>yes</td>\n",
       "    </tr>\n",
       "    <tr>\n",
       "      <th>2</th>\n",
       "      <td>9800</td>\n",
       "      <td>suv</td>\n",
       "      <td>2004</td>\n",
       "      <td>auto</td>\n",
       "      <td>163.0</td>\n",
       "      <td>grand</td>\n",
       "      <td>125000</td>\n",
       "      <td>petrol</td>\n",
       "      <td>jeep</td>\n",
       "      <td>Other</td>\n",
       "    </tr>\n",
       "    <tr>\n",
       "      <th>3</th>\n",
       "      <td>1500</td>\n",
       "      <td>small</td>\n",
       "      <td>2001</td>\n",
       "      <td>manual</td>\n",
       "      <td>75.0</td>\n",
       "      <td>golf</td>\n",
       "      <td>150000</td>\n",
       "      <td>petrol</td>\n",
       "      <td>volkswagen</td>\n",
       "      <td>no</td>\n",
       "    </tr>\n",
       "    <tr>\n",
       "      <th>4</th>\n",
       "      <td>3600</td>\n",
       "      <td>small</td>\n",
       "      <td>2008</td>\n",
       "      <td>manual</td>\n",
       "      <td>69.0</td>\n",
       "      <td>fabia</td>\n",
       "      <td>90000</td>\n",
       "      <td>petrol</td>\n",
       "      <td>skoda</td>\n",
       "      <td>no</td>\n",
       "    </tr>\n",
       "    <tr>\n",
       "      <th>6</th>\n",
       "      <td>2200</td>\n",
       "      <td>convertible</td>\n",
       "      <td>2004</td>\n",
       "      <td>manual</td>\n",
       "      <td>109.0</td>\n",
       "      <td>2_reihe</td>\n",
       "      <td>150000</td>\n",
       "      <td>petrol</td>\n",
       "      <td>peugeot</td>\n",
       "      <td>no</td>\n",
       "    </tr>\n",
       "    <tr>\n",
       "      <th>8</th>\n",
       "      <td>14500</td>\n",
       "      <td>bus</td>\n",
       "      <td>2014</td>\n",
       "      <td>manual</td>\n",
       "      <td>125.0</td>\n",
       "      <td>c_max</td>\n",
       "      <td>30000</td>\n",
       "      <td>petrol</td>\n",
       "      <td>ford</td>\n",
       "      <td>Other</td>\n",
       "    </tr>\n",
       "    <tr>\n",
       "      <th>10</th>\n",
       "      <td>2000</td>\n",
       "      <td>sedan</td>\n",
       "      <td>2004</td>\n",
       "      <td>manual</td>\n",
       "      <td>105.0</td>\n",
       "      <td>3_reihe</td>\n",
       "      <td>150000</td>\n",
       "      <td>petrol</td>\n",
       "      <td>mazda</td>\n",
       "      <td>no</td>\n",
       "    </tr>\n",
       "    <tr>\n",
       "      <th>11</th>\n",
       "      <td>2799</td>\n",
       "      <td>wagon</td>\n",
       "      <td>2005</td>\n",
       "      <td>manual</td>\n",
       "      <td>140.0</td>\n",
       "      <td>passat</td>\n",
       "      <td>150000</td>\n",
       "      <td>petrol</td>\n",
       "      <td>volkswagen</td>\n",
       "      <td>yes</td>\n",
       "    </tr>\n",
       "    <tr>\n",
       "      <th>13</th>\n",
       "      <td>2500</td>\n",
       "      <td>wagon</td>\n",
       "      <td>2004</td>\n",
       "      <td>manual</td>\n",
       "      <td>131.0</td>\n",
       "      <td>passat</td>\n",
       "      <td>150000</td>\n",
       "      <td>Other</td>\n",
       "      <td>volkswagen</td>\n",
       "      <td>no</td>\n",
       "    </tr>\n",
       "    <tr>\n",
       "      <th>14</th>\n",
       "      <td>17999</td>\n",
       "      <td>suv</td>\n",
       "      <td>2011</td>\n",
       "      <td>manual</td>\n",
       "      <td>190.0</td>\n",
       "      <td>navara</td>\n",
       "      <td>70000</td>\n",
       "      <td>petrol</td>\n",
       "      <td>nissan</td>\n",
       "      <td>no</td>\n",
       "    </tr>\n",
       "  </tbody>\n",
       "</table>\n",
       "</div>"
      ],
      "text/plain": [
       "    price vehicle_type  registration_year gearbox  power    model  kilometer  \\\n",
       "1   18300        coupe               2011  manual  190.0    Other     125000   \n",
       "2    9800          suv               2004    auto  163.0    grand     125000   \n",
       "3    1500        small               2001  manual   75.0     golf     150000   \n",
       "4    3600        small               2008  manual   69.0    fabia      90000   \n",
       "6    2200  convertible               2004  manual  109.0  2_reihe     150000   \n",
       "8   14500          bus               2014  manual  125.0    c_max      30000   \n",
       "10   2000        sedan               2004  manual  105.0  3_reihe     150000   \n",
       "11   2799        wagon               2005  manual  140.0   passat     150000   \n",
       "13   2500        wagon               2004  manual  131.0   passat     150000   \n",
       "14  17999          suv               2011  manual  190.0   navara      70000   \n",
       "\n",
       "   fuel_type       brand repaired  \n",
       "1     petrol        audi      yes  \n",
       "2     petrol        jeep    Other  \n",
       "3     petrol  volkswagen       no  \n",
       "4     petrol       skoda       no  \n",
       "6     petrol     peugeot       no  \n",
       "8     petrol        ford    Other  \n",
       "10    petrol       mazda       no  \n",
       "11    petrol  volkswagen      yes  \n",
       "13     Other  volkswagen       no  \n",
       "14    petrol      nissan       no  "
      ]
     },
     "execution_count": 43,
     "metadata": {},
     "output_type": "execute_result"
    }
   ],
   "source": [
    "display(data.shape)\n",
    "data.head(10)"
   ]
  },
  {
   "cell_type": "markdown",
   "metadata": {},
   "source": [
    "Теперь все пропуски обработаны и можно переходить к обучению моделей."
   ]
  },
  {
   "cell_type": "markdown",
   "metadata": {},
   "source": [
    "\n",
    "<div class=\"alert alert-block alert-danger\">\n",
    "\n",
    "<b>Ошибка:</b>  Кажется ты прозевала подозрительные значения в колонке мощности и целевом признаком. Пожалуйста обрати на них внимание.\n",
    "  \n",
    "</div>\n",
    "\n"
   ]
  },
  {
   "cell_type": "markdown",
   "metadata": {},
   "source": [
    "<div class=\"alert alert-block alert-warning\">\n",
    "<b>Комментарий студента:</b> Спасибо, исправила выше\n",
    "</div>"
   ]
  },
  {
   "cell_type": "markdown",
   "metadata": {},
   "source": [
    "\n",
    "<div class=\"alert alert-block alert-danger\">\n",
    "\n",
    "<b>Ошибка[2]:</b>  Про целевой признак снова забыла... Там есть около-нулевые цены, которые не выглядят адекватно. Как минимум проанализировать это нужно.\n",
    "</div>\n",
    "\n"
   ]
  },
  {
   "cell_type": "markdown",
   "metadata": {},
   "source": [
    "<div class=\"alert alert-block alert-warning\">\n",
    "<b>Комментарий студента:</b> Теперь точно разобралась с ней)\n",
    "</div>"
   ]
  },
  {
   "cell_type": "markdown",
   "metadata": {},
   "source": [
    "<div class=\"alert alert-block alert-success\">\n",
    "<b>Успех[3]:</b> Самое интересное, что на нескольких сайтов по продажам подержанных автомобилей в Германии (страну можно определить по почтовым индексам, большинство из них из Германии) показало, что цены начинаются действительно с 0 и 1 евро, но это единичные объявления и не понятно, то ли это ошибка при заполнении формы, то ли машины на металлолом. Но я  все-таки склоняюсь к тому, чтобы избавиться от таких данных\n",
    "</div>\n"
   ]
  },
  {
   "cell_type": "markdown",
   "metadata": {},
   "source": [
    "## Обучение моделей"
   ]
  },
  {
   "cell_type": "markdown",
   "metadata": {},
   "source": [
    "Для начала разделим признаки и целевой признаки."
   ]
  },
  {
   "cell_type": "code",
   "execution_count": 44,
   "metadata": {
    "scrolled": false
   },
   "outputs": [
    {
     "data": {
      "text/html": [
       "<div>\n",
       "<style scoped>\n",
       "    .dataframe tbody tr th:only-of-type {\n",
       "        vertical-align: middle;\n",
       "    }\n",
       "\n",
       "    .dataframe tbody tr th {\n",
       "        vertical-align: top;\n",
       "    }\n",
       "\n",
       "    .dataframe thead th {\n",
       "        text-align: right;\n",
       "    }\n",
       "</style>\n",
       "<table border=\"1\" class=\"dataframe\">\n",
       "  <thead>\n",
       "    <tr style=\"text-align: right;\">\n",
       "      <th></th>\n",
       "      <th>vehicle_type</th>\n",
       "      <th>registration_year</th>\n",
       "      <th>gearbox</th>\n",
       "      <th>power</th>\n",
       "      <th>model</th>\n",
       "      <th>kilometer</th>\n",
       "      <th>fuel_type</th>\n",
       "      <th>brand</th>\n",
       "      <th>repaired</th>\n",
       "    </tr>\n",
       "  </thead>\n",
       "  <tbody>\n",
       "    <tr>\n",
       "      <th>1</th>\n",
       "      <td>coupe</td>\n",
       "      <td>2011</td>\n",
       "      <td>manual</td>\n",
       "      <td>190.0</td>\n",
       "      <td>Other</td>\n",
       "      <td>125000</td>\n",
       "      <td>petrol</td>\n",
       "      <td>audi</td>\n",
       "      <td>yes</td>\n",
       "    </tr>\n",
       "    <tr>\n",
       "      <th>2</th>\n",
       "      <td>suv</td>\n",
       "      <td>2004</td>\n",
       "      <td>auto</td>\n",
       "      <td>163.0</td>\n",
       "      <td>grand</td>\n",
       "      <td>125000</td>\n",
       "      <td>petrol</td>\n",
       "      <td>jeep</td>\n",
       "      <td>Other</td>\n",
       "    </tr>\n",
       "    <tr>\n",
       "      <th>3</th>\n",
       "      <td>small</td>\n",
       "      <td>2001</td>\n",
       "      <td>manual</td>\n",
       "      <td>75.0</td>\n",
       "      <td>golf</td>\n",
       "      <td>150000</td>\n",
       "      <td>petrol</td>\n",
       "      <td>volkswagen</td>\n",
       "      <td>no</td>\n",
       "    </tr>\n",
       "    <tr>\n",
       "      <th>4</th>\n",
       "      <td>small</td>\n",
       "      <td>2008</td>\n",
       "      <td>manual</td>\n",
       "      <td>69.0</td>\n",
       "      <td>fabia</td>\n",
       "      <td>90000</td>\n",
       "      <td>petrol</td>\n",
       "      <td>skoda</td>\n",
       "      <td>no</td>\n",
       "    </tr>\n",
       "    <tr>\n",
       "      <th>6</th>\n",
       "      <td>convertible</td>\n",
       "      <td>2004</td>\n",
       "      <td>manual</td>\n",
       "      <td>109.0</td>\n",
       "      <td>2_reihe</td>\n",
       "      <td>150000</td>\n",
       "      <td>petrol</td>\n",
       "      <td>peugeot</td>\n",
       "      <td>no</td>\n",
       "    </tr>\n",
       "    <tr>\n",
       "      <th>8</th>\n",
       "      <td>bus</td>\n",
       "      <td>2014</td>\n",
       "      <td>manual</td>\n",
       "      <td>125.0</td>\n",
       "      <td>c_max</td>\n",
       "      <td>30000</td>\n",
       "      <td>petrol</td>\n",
       "      <td>ford</td>\n",
       "      <td>Other</td>\n",
       "    </tr>\n",
       "    <tr>\n",
       "      <th>10</th>\n",
       "      <td>sedan</td>\n",
       "      <td>2004</td>\n",
       "      <td>manual</td>\n",
       "      <td>105.0</td>\n",
       "      <td>3_reihe</td>\n",
       "      <td>150000</td>\n",
       "      <td>petrol</td>\n",
       "      <td>mazda</td>\n",
       "      <td>no</td>\n",
       "    </tr>\n",
       "    <tr>\n",
       "      <th>11</th>\n",
       "      <td>wagon</td>\n",
       "      <td>2005</td>\n",
       "      <td>manual</td>\n",
       "      <td>140.0</td>\n",
       "      <td>passat</td>\n",
       "      <td>150000</td>\n",
       "      <td>petrol</td>\n",
       "      <td>volkswagen</td>\n",
       "      <td>yes</td>\n",
       "    </tr>\n",
       "    <tr>\n",
       "      <th>13</th>\n",
       "      <td>wagon</td>\n",
       "      <td>2004</td>\n",
       "      <td>manual</td>\n",
       "      <td>131.0</td>\n",
       "      <td>passat</td>\n",
       "      <td>150000</td>\n",
       "      <td>Other</td>\n",
       "      <td>volkswagen</td>\n",
       "      <td>no</td>\n",
       "    </tr>\n",
       "    <tr>\n",
       "      <th>14</th>\n",
       "      <td>suv</td>\n",
       "      <td>2011</td>\n",
       "      <td>manual</td>\n",
       "      <td>190.0</td>\n",
       "      <td>navara</td>\n",
       "      <td>70000</td>\n",
       "      <td>petrol</td>\n",
       "      <td>nissan</td>\n",
       "      <td>no</td>\n",
       "    </tr>\n",
       "  </tbody>\n",
       "</table>\n",
       "</div>"
      ],
      "text/plain": [
       "   vehicle_type  registration_year gearbox  power    model  kilometer  \\\n",
       "1         coupe               2011  manual  190.0    Other     125000   \n",
       "2           suv               2004    auto  163.0    grand     125000   \n",
       "3         small               2001  manual   75.0     golf     150000   \n",
       "4         small               2008  manual   69.0    fabia      90000   \n",
       "6   convertible               2004  manual  109.0  2_reihe     150000   \n",
       "8           bus               2014  manual  125.0    c_max      30000   \n",
       "10        sedan               2004  manual  105.0  3_reihe     150000   \n",
       "11        wagon               2005  manual  140.0   passat     150000   \n",
       "13        wagon               2004  manual  131.0   passat     150000   \n",
       "14          suv               2011  manual  190.0   navara      70000   \n",
       "\n",
       "   fuel_type       brand repaired  \n",
       "1     petrol        audi      yes  \n",
       "2     petrol        jeep    Other  \n",
       "3     petrol  volkswagen       no  \n",
       "4     petrol       skoda       no  \n",
       "6     petrol     peugeot       no  \n",
       "8     petrol        ford    Other  \n",
       "10    petrol       mazda       no  \n",
       "11    petrol  volkswagen      yes  \n",
       "13     Other  volkswagen       no  \n",
       "14    petrol      nissan       no  "
      ]
     },
     "execution_count": 44,
     "metadata": {},
     "output_type": "execute_result"
    }
   ],
   "source": [
    "target = data['price']\n",
    "features = data.drop('price', axis=1)\n",
    "features.head(10)"
   ]
  },
  {
   "cell_type": "markdown",
   "metadata": {},
   "source": [
    "Разделим выборки на обучающую, тестовую и валидационную."
   ]
  },
  {
   "cell_type": "code",
   "execution_count": 45,
   "metadata": {},
   "outputs": [],
   "source": [
    "features_train, features_other, target_train, target_other = \\\n",
    "train_test_split(features, target, test_size=0.5, random_state=12345) \n",
    "\n",
    "features_valid, features_test, target_valid, target_test = \\\n",
    "train_test_split(features_other, target_other, test_size=0.5, random_state=12345) "
   ]
  },
  {
   "cell_type": "code",
   "execution_count": 46,
   "metadata": {
    "scrolled": true
   },
   "outputs": [
    {
     "name": "stdout",
     "output_type": "stream",
     "text": [
      "(123407, 9)\n",
      "(123407,)\n",
      "(61704, 9)\n",
      "(61704,)\n",
      "(61704, 9)\n",
      "(61704,)\n"
     ]
    }
   ],
   "source": [
    "for data in [features_train,\n",
    "             target_train,\n",
    "             features_valid,\n",
    "             target_valid,\n",
    "             features_test,\n",
    "             target_test]:\n",
    "    print(data.shape)"
   ]
  },
  {
   "cell_type": "code",
   "execution_count": 47,
   "metadata": {},
   "outputs": [
    {
     "data": {
      "text/html": [
       "<div>\n",
       "<style scoped>\n",
       "    .dataframe tbody tr th:only-of-type {\n",
       "        vertical-align: middle;\n",
       "    }\n",
       "\n",
       "    .dataframe tbody tr th {\n",
       "        vertical-align: top;\n",
       "    }\n",
       "\n",
       "    .dataframe thead th {\n",
       "        text-align: right;\n",
       "    }\n",
       "</style>\n",
       "<table border=\"1\" class=\"dataframe\">\n",
       "  <thead>\n",
       "    <tr style=\"text-align: right;\">\n",
       "      <th></th>\n",
       "      <th>vehicle_type</th>\n",
       "      <th>registration_year</th>\n",
       "      <th>gearbox</th>\n",
       "      <th>power</th>\n",
       "      <th>model</th>\n",
       "      <th>kilometer</th>\n",
       "      <th>fuel_type</th>\n",
       "      <th>brand</th>\n",
       "      <th>repaired</th>\n",
       "    </tr>\n",
       "  </thead>\n",
       "  <tbody>\n",
       "    <tr>\n",
       "      <th>34617</th>\n",
       "      <td>suv</td>\n",
       "      <td>2005</td>\n",
       "      <td>auto</td>\n",
       "      <td>163.0</td>\n",
       "      <td>other</td>\n",
       "      <td>150000</td>\n",
       "      <td>petrol</td>\n",
       "      <td>hyundai</td>\n",
       "      <td>yes</td>\n",
       "    </tr>\n",
       "    <tr>\n",
       "      <th>62134</th>\n",
       "      <td>sedan</td>\n",
       "      <td>2004</td>\n",
       "      <td>auto</td>\n",
       "      <td>218.0</td>\n",
       "      <td>c_klasse</td>\n",
       "      <td>125000</td>\n",
       "      <td>petrol</td>\n",
       "      <td>mercedes_benz</td>\n",
       "      <td>Other</td>\n",
       "    </tr>\n",
       "    <tr>\n",
       "      <th>319768</th>\n",
       "      <td>bus</td>\n",
       "      <td>1997</td>\n",
       "      <td>manual</td>\n",
       "      <td>145.0</td>\n",
       "      <td>galaxy</td>\n",
       "      <td>150000</td>\n",
       "      <td>petrol</td>\n",
       "      <td>ford</td>\n",
       "      <td>no</td>\n",
       "    </tr>\n",
       "    <tr>\n",
       "      <th>78189</th>\n",
       "      <td>sedan</td>\n",
       "      <td>2008</td>\n",
       "      <td>manual</td>\n",
       "      <td>177.0</td>\n",
       "      <td>1er</td>\n",
       "      <td>150000</td>\n",
       "      <td>petrol</td>\n",
       "      <td>bmw</td>\n",
       "      <td>no</td>\n",
       "    </tr>\n",
       "    <tr>\n",
       "      <th>345180</th>\n",
       "      <td>coupe</td>\n",
       "      <td>2000</td>\n",
       "      <td>manual</td>\n",
       "      <td>170.0</td>\n",
       "      <td>3er</td>\n",
       "      <td>150000</td>\n",
       "      <td>petrol</td>\n",
       "      <td>bmw</td>\n",
       "      <td>Other</td>\n",
       "    </tr>\n",
       "  </tbody>\n",
       "</table>\n",
       "</div>"
      ],
      "text/plain": [
       "       vehicle_type  registration_year gearbox  power     model  kilometer  \\\n",
       "34617           suv               2005    auto  163.0     other     150000   \n",
       "62134         sedan               2004    auto  218.0  c_klasse     125000   \n",
       "319768          bus               1997  manual  145.0    galaxy     150000   \n",
       "78189         sedan               2008  manual  177.0       1er     150000   \n",
       "345180        coupe               2000  manual  170.0       3er     150000   \n",
       "\n",
       "       fuel_type          brand repaired  \n",
       "34617     petrol        hyundai      yes  \n",
       "62134     petrol  mercedes_benz    Other  \n",
       "319768    petrol           ford       no  \n",
       "78189     petrol            bmw       no  \n",
       "345180    petrol            bmw    Other  "
      ]
     },
     "execution_count": 47,
     "metadata": {},
     "output_type": "execute_result"
    }
   ],
   "source": [
    "features_train.head()"
   ]
  },
  {
   "cell_type": "markdown",
   "metadata": {},
   "source": [
    "Закодируем категориальные признаки с помощью порядкового кодирования."
   ]
  },
  {
   "cell_type": "code",
   "execution_count": 48,
   "metadata": {},
   "outputs": [
    {
     "data": {
      "text/plain": [
       "Index(['registration_year', 'power', 'kilometer'], dtype='object')"
      ]
     },
     "execution_count": 48,
     "metadata": {},
     "output_type": "execute_result"
    }
   ],
   "source": [
    "categorical_cols = ['vehicle_type', 'gearbox', 'model', 'fuel_type', 'brand', 'repaired']\n",
    "numerical_cols = features_train.drop(categorical_cols, axis = 1).columns\n",
    "numerical_cols"
   ]
  },
  {
   "cell_type": "code",
   "execution_count": 49,
   "metadata": {
    "scrolled": true
   },
   "outputs": [],
   "source": [
    "oe = OrdinalEncoder(handle_unknown='use_encoded_value', unknown_value=-1)\n",
    "features_train[categorical_cols] = oe.fit_transform(features_train[categorical_cols])\n",
    "features_valid[categorical_cols] = oe.transform(features_valid[categorical_cols])\n",
    "features_test[categorical_cols] = oe.transform(features_test[categorical_cols])"
   ]
  },
  {
   "cell_type": "code",
   "execution_count": 50,
   "metadata": {},
   "outputs": [
    {
     "data": {
      "text/plain": [
       "(61704, 9)"
      ]
     },
     "metadata": {},
     "output_type": "display_data"
    },
    {
     "data": {
      "text/html": [
       "<div>\n",
       "<style scoped>\n",
       "    .dataframe tbody tr th:only-of-type {\n",
       "        vertical-align: middle;\n",
       "    }\n",
       "\n",
       "    .dataframe tbody tr th {\n",
       "        vertical-align: top;\n",
       "    }\n",
       "\n",
       "    .dataframe thead th {\n",
       "        text-align: right;\n",
       "    }\n",
       "</style>\n",
       "<table border=\"1\" class=\"dataframe\">\n",
       "  <thead>\n",
       "    <tr style=\"text-align: right;\">\n",
       "      <th></th>\n",
       "      <th>vehicle_type</th>\n",
       "      <th>registration_year</th>\n",
       "      <th>gearbox</th>\n",
       "      <th>power</th>\n",
       "      <th>model</th>\n",
       "      <th>kilometer</th>\n",
       "      <th>fuel_type</th>\n",
       "      <th>brand</th>\n",
       "      <th>repaired</th>\n",
       "    </tr>\n",
       "  </thead>\n",
       "  <tbody>\n",
       "    <tr>\n",
       "      <th>92368</th>\n",
       "      <td>5.0</td>\n",
       "      <td>1999</td>\n",
       "      <td>2.0</td>\n",
       "      <td>150.0</td>\n",
       "      <td>27.0</td>\n",
       "      <td>150000</td>\n",
       "      <td>6.0</td>\n",
       "      <td>1.0</td>\n",
       "      <td>0.0</td>\n",
       "    </tr>\n",
       "    <tr>\n",
       "      <th>103387</th>\n",
       "      <td>8.0</td>\n",
       "      <td>2003</td>\n",
       "      <td>2.0</td>\n",
       "      <td>125.0</td>\n",
       "      <td>39.0</td>\n",
       "      <td>150000</td>\n",
       "      <td>6.0</td>\n",
       "      <td>24.0</td>\n",
       "      <td>1.0</td>\n",
       "    </tr>\n",
       "    <tr>\n",
       "      <th>219104</th>\n",
       "      <td>6.0</td>\n",
       "      <td>1996</td>\n",
       "      <td>2.0</td>\n",
       "      <td>128.0</td>\n",
       "      <td>147.0</td>\n",
       "      <td>60000</td>\n",
       "      <td>6.0</td>\n",
       "      <td>21.0</td>\n",
       "      <td>1.0</td>\n",
       "    </tr>\n",
       "    <tr>\n",
       "      <th>326509</th>\n",
       "      <td>1.0</td>\n",
       "      <td>2004</td>\n",
       "      <td>1.0</td>\n",
       "      <td>204.0</td>\n",
       "      <td>177.0</td>\n",
       "      <td>150000</td>\n",
       "      <td>6.0</td>\n",
       "      <td>38.0</td>\n",
       "      <td>1.0</td>\n",
       "    </tr>\n",
       "    <tr>\n",
       "      <th>279887</th>\n",
       "      <td>5.0</td>\n",
       "      <td>2000</td>\n",
       "      <td>2.0</td>\n",
       "      <td>165.0</td>\n",
       "      <td>27.0</td>\n",
       "      <td>150000</td>\n",
       "      <td>6.0</td>\n",
       "      <td>1.0</td>\n",
       "      <td>2.0</td>\n",
       "    </tr>\n",
       "  </tbody>\n",
       "</table>\n",
       "</div>"
      ],
      "text/plain": [
       "        vehicle_type  registration_year  gearbox  power  model  kilometer  \\\n",
       "92368            5.0               1999      2.0  150.0   27.0     150000   \n",
       "103387           8.0               2003      2.0  125.0   39.0     150000   \n",
       "219104           6.0               1996      2.0  128.0  147.0      60000   \n",
       "326509           1.0               2004      1.0  204.0  177.0     150000   \n",
       "279887           5.0               2000      2.0  165.0   27.0     150000   \n",
       "\n",
       "        fuel_type  brand  repaired  \n",
       "92368         6.0    1.0       0.0  \n",
       "103387        6.0   24.0       1.0  \n",
       "219104        6.0   21.0       1.0  \n",
       "326509        6.0   38.0       1.0  \n",
       "279887        6.0    1.0       2.0  "
      ]
     },
     "execution_count": 50,
     "metadata": {},
     "output_type": "execute_result"
    }
   ],
   "source": [
    "display(features_valid.shape)\n",
    "features_valid.head()"
   ]
  },
  {
   "cell_type": "code",
   "execution_count": 51,
   "metadata": {},
   "outputs": [
    {
     "data": {
      "text/plain": [
       "0"
      ]
     },
     "execution_count": 51,
     "metadata": {},
     "output_type": "execute_result"
    }
   ],
   "source": [
    "features_train.isna().sum().sum()"
   ]
  },
  {
   "cell_type": "markdown",
   "metadata": {},
   "source": [
    "<div class=\"alert alert-block alert-danger\">\n",
    "\n",
    "<b>Ошибка:</b>  OHE был бы правильный выбор для линейных моделей. Но для всех других моделей выбор плохой (из-за фактора модели, который порождает много факторов), для заказчика важно время обучения и скорость предсказания, а данные модели могут работать и с другими методами кодировками значительно быстреее, не теряя при этом в качестве.\n",
    "\n",
    "P.S. Отмечу, что encoder правильно применять после разбиения данных и обучать только на обучающей выборке, для остальных выборок просто использовать transform. Примеры использования с объяснениями можно найти посмотреь https://colab.research.google.com/drive/1_gAMXcQKoCShB_l8FNtYEejMnosm9mvt?usp=sharing \n",
    "\n",
    "И не забывай использовать параметр `handle_unknown`\n",
    "  \n",
    "</div>\n",
    "\n"
   ]
  },
  {
   "cell_type": "markdown",
   "metadata": {},
   "source": [
    "<div class=\"alert alert-block alert-warning\">\n",
    "<b>Комментарий студента:</b> Спасибо за комментарий. На самом деле при выборе метода я ориентировалась прошлые комментарии и на статьи в интернете, там как раз OneHotEncoder рекомендовали. Еще смотрела на порядковое кодирование, но у наших категориальных данных нет порядка... то есть, например, одна модель не больше, чем другая модель. \n",
    "Разбор по ссылке прочла, спасибо. Но почему здесь нужно именно порядковое кодирование не поняла... Плюс в разборе им кодируется только модель автомобилей..    \n",
    "\n",
    "</div>"
   ]
  },
  {
   "cell_type": "markdown",
   "metadata": {},
   "source": [
    "\n",
    "<div class=\"alert alert-block alert-success\">\n",
    "    \n",
    "<b>Ответ[2]:</b> Наличиее порядка важно для линейных моделей.. А не линейные (в особенности древовидные) - могут интепретировать и номинальные данные, закодированные порядковым способом - для них это проблем не составит.\n",
    "    \n",
    "OHE рекомендуются, когда не пораждается огромное количество признаков.\n",
    "</div>\n"
   ]
  },
  {
   "cell_type": "markdown",
   "metadata": {},
   "source": [
    "<div class=\"alert alert-block alert-warning\">\n",
    "<b>Комментарий студента:</b> Теперь понятно, спасибо за объяснение)\n",
    "\n",
    "</div>"
   ]
  },
  {
   "cell_type": "markdown",
   "metadata": {},
   "source": [
    "Масштабируем числовые признаки."
   ]
  },
  {
   "cell_type": "code",
   "execution_count": 52,
   "metadata": {},
   "outputs": [],
   "source": [
    "numerical_cols = features[['registration_year', 'power', 'kilometer']].columns\n",
    "\n",
    "scaler = StandardScaler()\n",
    "scaler.fit(features_train[numerical_cols])\n",
    "features_train[numerical_cols] = scaler.transform(features_train[numerical_cols])\n",
    "features_valid[numerical_cols] = scaler.transform(features_valid[numerical_cols])\n",
    "features_test[numerical_cols] = scaler.transform(features_test[numerical_cols])"
   ]
  },
  {
   "cell_type": "code",
   "execution_count": 53,
   "metadata": {
    "scrolled": true
   },
   "outputs": [
    {
     "data": {
      "text/html": [
       "<div>\n",
       "<style scoped>\n",
       "    .dataframe tbody tr th:only-of-type {\n",
       "        vertical-align: middle;\n",
       "    }\n",
       "\n",
       "    .dataframe tbody tr th {\n",
       "        vertical-align: top;\n",
       "    }\n",
       "\n",
       "    .dataframe thead th {\n",
       "        text-align: right;\n",
       "    }\n",
       "</style>\n",
       "<table border=\"1\" class=\"dataframe\">\n",
       "  <thead>\n",
       "    <tr style=\"text-align: right;\">\n",
       "      <th></th>\n",
       "      <th>vehicle_type</th>\n",
       "      <th>registration_year</th>\n",
       "      <th>gearbox</th>\n",
       "      <th>power</th>\n",
       "      <th>model</th>\n",
       "      <th>kilometer</th>\n",
       "      <th>fuel_type</th>\n",
       "      <th>brand</th>\n",
       "      <th>repaired</th>\n",
       "    </tr>\n",
       "  </thead>\n",
       "  <tbody>\n",
       "    <tr>\n",
       "      <th>34617</th>\n",
       "      <td>7.0</td>\n",
       "      <td>0.196339</td>\n",
       "      <td>1.0</td>\n",
       "      <td>0.733548</td>\n",
       "      <td>147.0</td>\n",
       "      <td>0.640181</td>\n",
       "      <td>6.0</td>\n",
       "      <td>12.0</td>\n",
       "      <td>2.0</td>\n",
       "    </tr>\n",
       "    <tr>\n",
       "      <th>62134</th>\n",
       "      <td>5.0</td>\n",
       "      <td>0.038957</td>\n",
       "      <td>1.0</td>\n",
       "      <td>1.939971</td>\n",
       "      <td>55.0</td>\n",
       "      <td>-0.016469</td>\n",
       "      <td>6.0</td>\n",
       "      <td>20.0</td>\n",
       "      <td>0.0</td>\n",
       "    </tr>\n",
       "    <tr>\n",
       "      <th>319768</th>\n",
       "      <td>1.0</td>\n",
       "      <td>-1.062716</td>\n",
       "      <td>2.0</td>\n",
       "      <td>0.338718</td>\n",
       "      <td>104.0</td>\n",
       "      <td>0.640181</td>\n",
       "      <td>6.0</td>\n",
       "      <td>10.0</td>\n",
       "      <td>1.0</td>\n",
       "    </tr>\n",
       "    <tr>\n",
       "      <th>78189</th>\n",
       "      <td>5.0</td>\n",
       "      <td>0.668484</td>\n",
       "      <td>2.0</td>\n",
       "      <td>1.040637</td>\n",
       "      <td>5.0</td>\n",
       "      <td>0.640181</td>\n",
       "      <td>6.0</td>\n",
       "      <td>2.0</td>\n",
       "      <td>1.0</td>\n",
       "    </tr>\n",
       "    <tr>\n",
       "      <th>345180</th>\n",
       "      <td>3.0</td>\n",
       "      <td>-0.590570</td>\n",
       "      <td>2.0</td>\n",
       "      <td>0.887092</td>\n",
       "      <td>9.0</td>\n",
       "      <td>0.640181</td>\n",
       "      <td>6.0</td>\n",
       "      <td>2.0</td>\n",
       "      <td>0.0</td>\n",
       "    </tr>\n",
       "  </tbody>\n",
       "</table>\n",
       "</div>"
      ],
      "text/plain": [
       "        vehicle_type  registration_year  gearbox     power  model  kilometer  \\\n",
       "34617            7.0           0.196339      1.0  0.733548  147.0   0.640181   \n",
       "62134            5.0           0.038957      1.0  1.939971   55.0  -0.016469   \n",
       "319768           1.0          -1.062716      2.0  0.338718  104.0   0.640181   \n",
       "78189            5.0           0.668484      2.0  1.040637    5.0   0.640181   \n",
       "345180           3.0          -0.590570      2.0  0.887092    9.0   0.640181   \n",
       "\n",
       "        fuel_type  brand  repaired  \n",
       "34617         6.0   12.0       2.0  \n",
       "62134         6.0   20.0       0.0  \n",
       "319768        6.0   10.0       1.0  \n",
       "78189         6.0    2.0       1.0  \n",
       "345180        6.0    2.0       0.0  "
      ]
     },
     "execution_count": 53,
     "metadata": {},
     "output_type": "execute_result"
    }
   ],
   "source": [
    "features_train.head()"
   ]
  },
  {
   "cell_type": "markdown",
   "metadata": {},
   "source": [
    "Для сравнения моделей возьмем случайный лес и алгоритм LightGBM."
   ]
  },
  {
   "cell_type": "markdown",
   "metadata": {},
   "source": [
    "### Случайный лес"
   ]
  },
  {
   "cell_type": "code",
   "execution_count": 54,
   "metadata": {
    "scrolled": true
   },
   "outputs": [
    {
     "name": "stdout",
     "output_type": "stream",
     "text": [
      "RMSE лучшей модели: 2018.6588524494707\n",
      "Лучшая модель: RandomForestRegressor(max_depth=10, n_estimators=500, random_state=12345)\n",
      "CPU times: user 2min 26s, sys: 19.5 ms, total: 2min 26s\n",
      "Wall time: 2min 26s\n"
     ]
    }
   ],
   "source": [
    "%%time\n",
    "best_model_rfr = None\n",
    "best_result_rfr = 100000\n",
    "for est in [100, 200, 500]:\n",
    "    for depth in [2, 5, 10]:\n",
    "        model = RandomForestRegressor(random_state=12345, n_estimators=est, max_depth = depth) \n",
    "        model.fit(features_train, target_train) \n",
    "        predictions_valid = model.predict(features_valid)\n",
    "        result = mean_squared_error(target_valid, predictions_valid)**0.5\n",
    "        if (result < best_result_rfr):\n",
    "            best_model_rfr = model \n",
    "            best_result_rfr = result \n",
    "print('RMSE лучшей модели:', best_result_rfr)\n",
    "print(f'Лучшая модель: {best_model_rfr}')"
   ]
  },
  {
   "cell_type": "markdown",
   "metadata": {},
   "source": [
    "Проверим время обучения и предсказания отдельно на валидационной выборке."
   ]
  },
  {
   "cell_type": "code",
   "execution_count": 55,
   "metadata": {},
   "outputs": [
    {
     "name": "stdout",
     "output_type": "stream",
     "text": [
      "CPU times: user 50.3 s, sys: 24.2 ms, total: 50.3 s\n",
      "Wall time: 50.3 s\n"
     ]
    },
    {
     "data": {
      "text/html": [
       "<style>#sk-container-id-1 {color: black;background-color: white;}#sk-container-id-1 pre{padding: 0;}#sk-container-id-1 div.sk-toggleable {background-color: white;}#sk-container-id-1 label.sk-toggleable__label {cursor: pointer;display: block;width: 100%;margin-bottom: 0;padding: 0.3em;box-sizing: border-box;text-align: center;}#sk-container-id-1 label.sk-toggleable__label-arrow:before {content: \"▸\";float: left;margin-right: 0.25em;color: #696969;}#sk-container-id-1 label.sk-toggleable__label-arrow:hover:before {color: black;}#sk-container-id-1 div.sk-estimator:hover label.sk-toggleable__label-arrow:before {color: black;}#sk-container-id-1 div.sk-toggleable__content {max-height: 0;max-width: 0;overflow: hidden;text-align: left;background-color: #f0f8ff;}#sk-container-id-1 div.sk-toggleable__content pre {margin: 0.2em;color: black;border-radius: 0.25em;background-color: #f0f8ff;}#sk-container-id-1 input.sk-toggleable__control:checked~div.sk-toggleable__content {max-height: 200px;max-width: 100%;overflow: auto;}#sk-container-id-1 input.sk-toggleable__control:checked~label.sk-toggleable__label-arrow:before {content: \"▾\";}#sk-container-id-1 div.sk-estimator input.sk-toggleable__control:checked~label.sk-toggleable__label {background-color: #d4ebff;}#sk-container-id-1 div.sk-label input.sk-toggleable__control:checked~label.sk-toggleable__label {background-color: #d4ebff;}#sk-container-id-1 input.sk-hidden--visually {border: 0;clip: rect(1px 1px 1px 1px);clip: rect(1px, 1px, 1px, 1px);height: 1px;margin: -1px;overflow: hidden;padding: 0;position: absolute;width: 1px;}#sk-container-id-1 div.sk-estimator {font-family: monospace;background-color: #f0f8ff;border: 1px dotted black;border-radius: 0.25em;box-sizing: border-box;margin-bottom: 0.5em;}#sk-container-id-1 div.sk-estimator:hover {background-color: #d4ebff;}#sk-container-id-1 div.sk-parallel-item::after {content: \"\";width: 100%;border-bottom: 1px solid gray;flex-grow: 1;}#sk-container-id-1 div.sk-label:hover label.sk-toggleable__label {background-color: #d4ebff;}#sk-container-id-1 div.sk-serial::before {content: \"\";position: absolute;border-left: 1px solid gray;box-sizing: border-box;top: 0;bottom: 0;left: 50%;z-index: 0;}#sk-container-id-1 div.sk-serial {display: flex;flex-direction: column;align-items: center;background-color: white;padding-right: 0.2em;padding-left: 0.2em;position: relative;}#sk-container-id-1 div.sk-item {position: relative;z-index: 1;}#sk-container-id-1 div.sk-parallel {display: flex;align-items: stretch;justify-content: center;background-color: white;position: relative;}#sk-container-id-1 div.sk-item::before, #sk-container-id-1 div.sk-parallel-item::before {content: \"\";position: absolute;border-left: 1px solid gray;box-sizing: border-box;top: 0;bottom: 0;left: 50%;z-index: -1;}#sk-container-id-1 div.sk-parallel-item {display: flex;flex-direction: column;z-index: 1;position: relative;background-color: white;}#sk-container-id-1 div.sk-parallel-item:first-child::after {align-self: flex-end;width: 50%;}#sk-container-id-1 div.sk-parallel-item:last-child::after {align-self: flex-start;width: 50%;}#sk-container-id-1 div.sk-parallel-item:only-child::after {width: 0;}#sk-container-id-1 div.sk-dashed-wrapped {border: 1px dashed gray;margin: 0 0.4em 0.5em 0.4em;box-sizing: border-box;padding-bottom: 0.4em;background-color: white;}#sk-container-id-1 div.sk-label label {font-family: monospace;font-weight: bold;display: inline-block;line-height: 1.2em;}#sk-container-id-1 div.sk-label-container {text-align: center;}#sk-container-id-1 div.sk-container {/* jupyter's `normalize.less` sets `[hidden] { display: none; }` but bootstrap.min.css set `[hidden] { display: none !important; }` so we also need the `!important` here to be able to override the default hidden behavior on the sphinx rendered scikit-learn.org. See: https://github.com/scikit-learn/scikit-learn/issues/21755 */display: inline-block !important;position: relative;}#sk-container-id-1 div.sk-text-repr-fallback {display: none;}</style><div id=\"sk-container-id-1\" class=\"sk-top-container\"><div class=\"sk-text-repr-fallback\"><pre>RandomForestRegressor(max_depth=10, n_estimators=500, random_state=12345)</pre><b>In a Jupyter environment, please rerun this cell to show the HTML representation or trust the notebook. <br />On GitHub, the HTML representation is unable to render, please try loading this page with nbviewer.org.</b></div><div class=\"sk-container\" hidden><div class=\"sk-item\"><div class=\"sk-estimator sk-toggleable\"><input class=\"sk-toggleable__control sk-hidden--visually\" id=\"sk-estimator-id-1\" type=\"checkbox\" checked><label for=\"sk-estimator-id-1\" class=\"sk-toggleable__label sk-toggleable__label-arrow\">RandomForestRegressor</label><div class=\"sk-toggleable__content\"><pre>RandomForestRegressor(max_depth=10, n_estimators=500, random_state=12345)</pre></div></div></div></div></div>"
      ],
      "text/plain": [
       "RandomForestRegressor(max_depth=10, n_estimators=500, random_state=12345)"
      ]
     },
     "execution_count": 55,
     "metadata": {},
     "output_type": "execute_result"
    }
   ],
   "source": [
    "%%time\n",
    "model_rfr = RandomForestRegressor(random_state = 12345, n_estimators = 500, max_depth = 10)\n",
    "model_rfr.fit(features_train, target_train)"
   ]
  },
  {
   "cell_type": "code",
   "execution_count": 56,
   "metadata": {},
   "outputs": [
    {
     "name": "stdout",
     "output_type": "stream",
     "text": [
      "CPU times: user 1.88 s, sys: 0 ns, total: 1.88 s\n",
      "Wall time: 1.88 s\n"
     ]
    },
    {
     "data": {
      "text/plain": [
       "array([2187.68170678, 2905.96843116, 3835.89718548, ..., 2806.89333204,\n",
       "       9367.68569834, 1969.13313721])"
      ]
     },
     "execution_count": 56,
     "metadata": {},
     "output_type": "execute_result"
    }
   ],
   "source": [
    "%%time\n",
    "predictions_valid_rfr = model_rfr.predict(features_valid)\n",
    "predictions_valid_rfr"
   ]
  },
  {
   "cell_type": "code",
   "execution_count": 57,
   "metadata": {},
   "outputs": [
    {
     "name": "stdout",
     "output_type": "stream",
     "text": [
      "RMSE Случайного леса: 2018.6588524494707\n"
     ]
    }
   ],
   "source": [
    "rmse_rfr = mean_squared_error(target_valid, predictions_valid_rfr)**0.5\n",
    "print(f'RMSE Случайного леса: {rmse_rfr}')"
   ]
  },
  {
   "cell_type": "markdown",
   "metadata": {},
   "source": [
    "\n",
    "<div class=\"alert alert-block alert-danger\">\n",
    "   \n",
    "<b>Ошибка:</b>\n",
    "   \n",
    "- Тестовую выборку мы не должны использовать при вычислении метрик для анализа. Она должна использоваться только для единственной лучшей модели после анализа  в шаге с тестированием.\n",
    "- У нас заданы 3 метрики интересующие заказчика: `время обучения: .fit()`, `скорость предсказания: .predict()` и `качество: RMSE`. Эти метрики мы получаем и анализируем отдельно друг от друга (не на тестовой выборке и без учета гиперпаметров) \n",
    "- Получить их можем либо с помощью валидационной выборки либо используя кросс-валидационные методы (в GridSearchCV например есть все данные метрики в аттрибуте cv_results_).   В случае если не используется ни gridsearch ни валидационная выборка, то можно время предсказания замерить на тренировочной (качество так замерить нельзя).\n",
    "- Потом проводится анализ и выбирается ОДНА наилучшая модель.\n",
    "- И только затем для ОДНОЙ наилучшей модели  проводится тестирование.\n",
    "  \n",
    "Исправь пожалуйста это здесь и везде внизу\n",
    "</div>"
   ]
  },
  {
   "cell_type": "markdown",
   "metadata": {},
   "source": [
    "<div class=\"alert alert-block alert-warning\">\n",
    "<b>Комментарий студента:</b> Если я правильно поняла, таблицу для сравнения тогда строю по обучающей на .fit() и валидационной на .predict(). А тестовую беру для лучшей модели после всего сравнения ниже.  \n",
    "</div>"
   ]
  },
  {
   "cell_type": "markdown",
   "metadata": {},
   "source": [
    "\n",
    "<div class=\"alert alert-block alert-success\">\n",
    "    \n",
    "<b>Успех[2]:</b> Все верно поняла, молодец!\n",
    "</div>\n"
   ]
  },
  {
   "cell_type": "markdown",
   "metadata": {},
   "source": [
    "__Вывод:__ Выбор лучшей модели случайного леса из матрицы гиперпараметров 3х3 занял 2.5 минуты. Лучшими гиперпараметрами стали число деревьев 500 и максимальная глубина 10. \n",
    "\n",
    "Обучения лучшей модели заняло 30 секунд, а предсказание - 2 секунды. Метрика rmse тестовой выборки оказалась выше 2500 и составила 2018.65, что соответствует условию проекта. "
   ]
  },
  {
   "cell_type": "markdown",
   "metadata": {},
   "source": [
    "### LightGBM"
   ]
  },
  {
   "cell_type": "code",
   "execution_count": 58,
   "metadata": {},
   "outputs": [
    {
     "name": "stdout",
     "output_type": "stream",
     "text": [
      "Requirement already satisfied: lightgbm in /home/liashenko/anaconda3/lib/python3.8/site-packages (3.3.5)\r\n",
      "Requirement already satisfied: scipy in /home/liashenko/anaconda3/lib/python3.8/site-packages (from lightgbm) (1.5.0)\r\n",
      "Requirement already satisfied: wheel in /home/liashenko/anaconda3/lib/python3.8/site-packages (from lightgbm) (0.34.2)\r\n",
      "Requirement already satisfied: scikit-learn!=0.22.0 in /home/liashenko/anaconda3/lib/python3.8/site-packages (from lightgbm) (1.2.2)\r\n",
      "Requirement already satisfied: numpy in /home/liashenko/anaconda3/lib/python3.8/site-packages (from lightgbm) (1.18.5)\r\n",
      "Requirement already satisfied: joblib>=1.1.1 in /home/liashenko/anaconda3/lib/python3.8/site-packages (from scikit-learn!=0.22.0->lightgbm) (1.2.0)\r\n",
      "Requirement already satisfied: threadpoolctl>=2.0.0 in /home/liashenko/anaconda3/lib/python3.8/site-packages (from scikit-learn!=0.22.0->lightgbm) (2.1.0)\r\n"
     ]
    }
   ],
   "source": [
    "!pip install lightgbm"
   ]
  },
  {
   "cell_type": "code",
   "execution_count": 59,
   "metadata": {},
   "outputs": [
    {
     "name": "stdout",
     "output_type": "stream",
     "text": [
      "RMSE лучшей модели: LGBMRegressor(max_depth=10, n_estimators=500, random_state=12345)\n",
      "Лучшая модель: 1710.298792939604\n",
      "CPU times: user 48.6 s, sys: 84.1 ms, total: 48.6 s\n",
      "Wall time: 6.13 s\n"
     ]
    }
   ],
   "source": [
    "%%time\n",
    "best_model_lgb = None\n",
    "best_result_lgb = 100000\n",
    "for est in [100, 200, 500]:\n",
    "    for depth in [2, 5, 10]:\n",
    "        model = lgb.LGBMRegressor(random_state=12345, n_estimators=est, max_depth = depth) \n",
    "        model.fit(features_train, target_train) \n",
    "        predictions_valid = model.predict(features_valid)\n",
    "        result = mean_squared_error(target_valid, predictions_valid)**0.5\n",
    "        if (result < best_result_lgb):\n",
    "            best_model_lgb = model \n",
    "            best_result_lgb = result \n",
    "print('RMSE лучшей модели:', best_model_lgb)\n",
    "print(f'Лучшая модель: {best_result_lgb}')"
   ]
  },
  {
   "cell_type": "code",
   "execution_count": 60,
   "metadata": {},
   "outputs": [
    {
     "name": "stdout",
     "output_type": "stream",
     "text": [
      "CPU times: user 8.15 s, sys: 24 ms, total: 8.18 s\n",
      "Wall time: 1.04 s\n"
     ]
    },
    {
     "data": {
      "text/html": [
       "<style>#sk-container-id-2 {color: black;background-color: white;}#sk-container-id-2 pre{padding: 0;}#sk-container-id-2 div.sk-toggleable {background-color: white;}#sk-container-id-2 label.sk-toggleable__label {cursor: pointer;display: block;width: 100%;margin-bottom: 0;padding: 0.3em;box-sizing: border-box;text-align: center;}#sk-container-id-2 label.sk-toggleable__label-arrow:before {content: \"▸\";float: left;margin-right: 0.25em;color: #696969;}#sk-container-id-2 label.sk-toggleable__label-arrow:hover:before {color: black;}#sk-container-id-2 div.sk-estimator:hover label.sk-toggleable__label-arrow:before {color: black;}#sk-container-id-2 div.sk-toggleable__content {max-height: 0;max-width: 0;overflow: hidden;text-align: left;background-color: #f0f8ff;}#sk-container-id-2 div.sk-toggleable__content pre {margin: 0.2em;color: black;border-radius: 0.25em;background-color: #f0f8ff;}#sk-container-id-2 input.sk-toggleable__control:checked~div.sk-toggleable__content {max-height: 200px;max-width: 100%;overflow: auto;}#sk-container-id-2 input.sk-toggleable__control:checked~label.sk-toggleable__label-arrow:before {content: \"▾\";}#sk-container-id-2 div.sk-estimator input.sk-toggleable__control:checked~label.sk-toggleable__label {background-color: #d4ebff;}#sk-container-id-2 div.sk-label input.sk-toggleable__control:checked~label.sk-toggleable__label {background-color: #d4ebff;}#sk-container-id-2 input.sk-hidden--visually {border: 0;clip: rect(1px 1px 1px 1px);clip: rect(1px, 1px, 1px, 1px);height: 1px;margin: -1px;overflow: hidden;padding: 0;position: absolute;width: 1px;}#sk-container-id-2 div.sk-estimator {font-family: monospace;background-color: #f0f8ff;border: 1px dotted black;border-radius: 0.25em;box-sizing: border-box;margin-bottom: 0.5em;}#sk-container-id-2 div.sk-estimator:hover {background-color: #d4ebff;}#sk-container-id-2 div.sk-parallel-item::after {content: \"\";width: 100%;border-bottom: 1px solid gray;flex-grow: 1;}#sk-container-id-2 div.sk-label:hover label.sk-toggleable__label {background-color: #d4ebff;}#sk-container-id-2 div.sk-serial::before {content: \"\";position: absolute;border-left: 1px solid gray;box-sizing: border-box;top: 0;bottom: 0;left: 50%;z-index: 0;}#sk-container-id-2 div.sk-serial {display: flex;flex-direction: column;align-items: center;background-color: white;padding-right: 0.2em;padding-left: 0.2em;position: relative;}#sk-container-id-2 div.sk-item {position: relative;z-index: 1;}#sk-container-id-2 div.sk-parallel {display: flex;align-items: stretch;justify-content: center;background-color: white;position: relative;}#sk-container-id-2 div.sk-item::before, #sk-container-id-2 div.sk-parallel-item::before {content: \"\";position: absolute;border-left: 1px solid gray;box-sizing: border-box;top: 0;bottom: 0;left: 50%;z-index: -1;}#sk-container-id-2 div.sk-parallel-item {display: flex;flex-direction: column;z-index: 1;position: relative;background-color: white;}#sk-container-id-2 div.sk-parallel-item:first-child::after {align-self: flex-end;width: 50%;}#sk-container-id-2 div.sk-parallel-item:last-child::after {align-self: flex-start;width: 50%;}#sk-container-id-2 div.sk-parallel-item:only-child::after {width: 0;}#sk-container-id-2 div.sk-dashed-wrapped {border: 1px dashed gray;margin: 0 0.4em 0.5em 0.4em;box-sizing: border-box;padding-bottom: 0.4em;background-color: white;}#sk-container-id-2 div.sk-label label {font-family: monospace;font-weight: bold;display: inline-block;line-height: 1.2em;}#sk-container-id-2 div.sk-label-container {text-align: center;}#sk-container-id-2 div.sk-container {/* jupyter's `normalize.less` sets `[hidden] { display: none; }` but bootstrap.min.css set `[hidden] { display: none !important; }` so we also need the `!important` here to be able to override the default hidden behavior on the sphinx rendered scikit-learn.org. See: https://github.com/scikit-learn/scikit-learn/issues/21755 */display: inline-block !important;position: relative;}#sk-container-id-2 div.sk-text-repr-fallback {display: none;}</style><div id=\"sk-container-id-2\" class=\"sk-top-container\"><div class=\"sk-text-repr-fallback\"><pre>LGBMRegressor(max_depth=10, n_estimators=500, random_state=12345)</pre><b>In a Jupyter environment, please rerun this cell to show the HTML representation or trust the notebook. <br />On GitHub, the HTML representation is unable to render, please try loading this page with nbviewer.org.</b></div><div class=\"sk-container\" hidden><div class=\"sk-item\"><div class=\"sk-estimator sk-toggleable\"><input class=\"sk-toggleable__control sk-hidden--visually\" id=\"sk-estimator-id-2\" type=\"checkbox\" checked><label for=\"sk-estimator-id-2\" class=\"sk-toggleable__label sk-toggleable__label-arrow\">LGBMRegressor</label><div class=\"sk-toggleable__content\"><pre>LGBMRegressor(max_depth=10, n_estimators=500, random_state=12345)</pre></div></div></div></div></div>"
      ],
      "text/plain": [
       "LGBMRegressor(max_depth=10, n_estimators=500, random_state=12345)"
      ]
     },
     "execution_count": 60,
     "metadata": {},
     "output_type": "execute_result"
    }
   ],
   "source": [
    "%%time\n",
    "model_lgb = lgb.LGBMRegressor(random_state = 12345, n_estimators = 500, max_depth = 10)\n",
    "model_lgb.fit(features_train, target_train)"
   ]
  },
  {
   "cell_type": "code",
   "execution_count": 61,
   "metadata": {
    "scrolled": true
   },
   "outputs": [
    {
     "name": "stdout",
     "output_type": "stream",
     "text": [
      "CPU times: user 3.09 s, sys: 4.04 ms, total: 3.09 s\n",
      "Wall time: 407 ms\n"
     ]
    }
   ],
   "source": [
    "%%time\n",
    "predictions_valid_lgb = model_lgb.predict(features_valid)"
   ]
  },
  {
   "cell_type": "code",
   "execution_count": 62,
   "metadata": {},
   "outputs": [
    {
     "name": "stdout",
     "output_type": "stream",
     "text": [
      "RMSE LightGBM: 1710.298792939604\n"
     ]
    }
   ],
   "source": [
    "rmse_lgb = mean_squared_error(target_valid, predictions_valid_lgb)**0.5\n",
    "\n",
    "print(f'RMSE LightGBM: {rmse_lgb}')"
   ]
  },
  {
   "cell_type": "markdown",
   "metadata": {},
   "source": [
    "__Вывод:__ Выбор лучшей модели LightGBM из матрицы с теми же гиперпараметрами занял меньше времени - 6 секунд. Лучшими гиперпараметрами так же стали число деревьев 500 и максимальная глубина 10.\n",
    "\n",
    "Обучения лучшей модели заняло 1 секунду, а предсказание - 407 мс. Метрика rmse тестовой выборки оказалась ниже 2500 и составила 1757.46, что подходит нам по условиям проекта."
   ]
  },
  {
   "cell_type": "markdown",
   "metadata": {},
   "source": [
    "## Анализ моделей"
   ]
  },
  {
   "cell_type": "markdown",
   "metadata": {},
   "source": [
    "Соединим посчитанные метрики и время обучения и предсказания по обеим моделям в одну таблицу."
   ]
  },
  {
   "cell_type": "code",
   "execution_count": 66,
   "metadata": {
    "scrolled": true
   },
   "outputs": [
    {
     "data": {
      "text/html": [
       "<div>\n",
       "<style scoped>\n",
       "    .dataframe tbody tr th:only-of-type {\n",
       "        vertical-align: middle;\n",
       "    }\n",
       "\n",
       "    .dataframe tbody tr th {\n",
       "        vertical-align: top;\n",
       "    }\n",
       "\n",
       "    .dataframe thead th {\n",
       "        text-align: right;\n",
       "    }\n",
       "</style>\n",
       "<table border=\"1\" class=\"dataframe\">\n",
       "  <thead>\n",
       "    <tr style=\"text-align: right;\">\n",
       "      <th></th>\n",
       "      <th>Время проверки параметров</th>\n",
       "      <th>Время обучения лучшей модели</th>\n",
       "      <th>Время предсказания лучшей модели</th>\n",
       "      <th>RMSE тестовой выборки</th>\n",
       "    </tr>\n",
       "  </thead>\n",
       "  <tbody>\n",
       "    <tr>\n",
       "      <th>Случайный лес</th>\n",
       "      <td>2min 26s</td>\n",
       "      <td>1.04 s</td>\n",
       "      <td>1.88 s</td>\n",
       "      <td>2018.66</td>\n",
       "    </tr>\n",
       "    <tr>\n",
       "      <th>LightGBM</th>\n",
       "      <td>6.13 s</td>\n",
       "      <td>407 ms</td>\n",
       "      <td>407 ms</td>\n",
       "      <td>1733.17</td>\n",
       "    </tr>\n",
       "  </tbody>\n",
       "</table>\n",
       "</div>"
      ],
      "text/plain": [
       "              Время проверки параметров Время обучения лучшей модели  \\\n",
       "Случайный лес                  2min 26s                       1.04 s   \n",
       "LightGBM                         6.13 s                       407 ms   \n",
       "\n",
       "              Время предсказания лучшей модели  RMSE тестовой выборки  \n",
       "Случайный лес                           1.88 s                2018.66  \n",
       "LightGBM                                407 ms                1733.17  "
      ]
     },
     "execution_count": 66,
     "metadata": {},
     "output_type": "execute_result"
    }
   ],
   "source": [
    "time_quality = pd.DataFrame({'Время проверки параметров': ['2min 26s'],\n",
    "                            'Время обучения лучшей модели': ['1.04 s'],\n",
    "                            'Время предсказания лучшей модели': ['1.88 s'],\n",
    "                            'RMSE тестовой выборки': [rmse_rfr]})\n",
    "time_quality.loc[len(time_quality)] = ['6.13 s', '407 ms', '407 ms', rmse_lgb]\n",
    "time_quality.index = ['Случайный лес', 'LightGBM']\n",
    "round(time_quality, 2)"
   ]
  },
  {
   "cell_type": "markdown",
   "metadata": {},
   "source": [
    "Очевидно, по всем параметрам лидирует модель LightGBM: в то время как проверка гиперпаметров для случайного леса заняла 2.5 минуты, LightGBM справилась с этой задачей за 6 секунд.\n",
    "\n",
    "Основная метрика, среднеквадратичная ошибка, также оказалась ниже у второй модели и составила 1733.17."
   ]
  },
  {
   "cell_type": "markdown",
   "metadata": {},
   "source": [
    "Проверим наилучшую модель на тестовой выборке."
   ]
  },
  {
   "cell_type": "code",
   "execution_count": 67,
   "metadata": {
    "scrolled": false
   },
   "outputs": [
    {
     "name": "stdout",
     "output_type": "stream",
     "text": [
      "RMSE LightGBM: 1733.1678589471096\n",
      "CPU times: user 2.4 s, sys: 4.01 ms, total: 2.4 s\n",
      "Wall time: 314 ms\n"
     ]
    }
   ],
   "source": [
    "%%time\n",
    "predictions_test_lgb = model_lgb.predict(features_test)\n",
    "rmse_lgb = mean_squared_error(target_test, predictions_test_lgb)**0.5\n",
    "\n",
    "print(f'RMSE LightGBM: {rmse_lgb}')"
   ]
  },
  {
   "cell_type": "markdown",
   "metadata": {},
   "source": [
    "\n",
    "<div class=\"alert alert-block alert-success\">\n",
    "    \n",
    "<b>Успех[2]:</b> На тестовой выборке получены хорошие оценки.\n",
    "</div>\n"
   ]
  },
  {
   "cell_type": "markdown",
   "metadata": {},
   "source": [
    "Модель так же хорошо справилась и с тестовой выборкой, показав среднеквадратичную ошибку 1733.17, что соответствует требованию заказчика.\n",
    "\n",
    "Посмотрим на влияние признаков."
   ]
  },
  {
   "cell_type": "code",
   "execution_count": 68,
   "metadata": {
    "scrolled": true
   },
   "outputs": [
    {
     "data": {
      "text/plain": [
       "<matplotlib.axes._subplots.AxesSubplot at 0x7f49c36b3fd0>"
      ]
     },
     "execution_count": 68,
     "metadata": {},
     "output_type": "execute_result"
    },
    {
     "data": {
      "image/png": "[encoded data removed]",
      "text/plain": [
       "<Figure size 432x288 with 1 Axes>"
      ]
     },
     "metadata": {
      "needs_background": "light"
     },
     "output_type": "display_data"
    }
   ],
   "source": [
    "lgb.plot_importance(model_lgb, height=.5)"
   ]
  },
  {
   "cell_type": "markdown",
   "metadata": {},
   "source": [
    "Больше всего на цену влияют год регистрации, мощность и модель автомобиля. Меньше всего - тип топлива."
   ]
  },
  {
   "cell_type": "markdown",
   "metadata": {},
   "source": [
    "<div class=\"alert alert-block alert-danger\">\n",
    "<b>Ошибка:</b> После анализа и выбора одной наилучшей модели, должно идти  ее тестирование. Другие модели тестовую выборку использовать не должны.\n",
    "</div>"
   ]
  },
  {
   "cell_type": "markdown",
   "metadata": {},
   "source": [
    "## Вывод"
   ]
  },
  {
   "cell_type": "markdown",
   "metadata": {},
   "source": [
    "В этой работе мы строили модель на предсказания стоимости машин на основании технических характеристик и комплектации.\n",
    "\n",
    "Сначала мы избавились от пропущенных значений, удалив строки, где их больше трех и заполнив категориальные переменные категорией Другое. Далее перед началом работы с моелями мы закодировали категориальные переменные с помощью горячего кодирования и масштабировали числовые признаки. Для сравнения мы рассмотрели две модели - случайный лес и LightGBM.\n",
    "\n",
    "Замерив время обучения и предсказания, мы выяснили, что LightGBM в разы быстрее справляется с поставленными задачами: на проверку лучшей модели у нее ушло 6 секунд против 2,5 минут у случайного леса. Нашей основной метрикой была среднеквадратичная ошибка, которая у LightGBM составила 1733.17 на валидационной выборке и 1733.17 на тестовой - это ниже, чем у случайного леса и соответствует требованию к модели. При этом, больше всего на цену автомобила повлиял год регистрации, а меньше всего - тип топлива.\n",
    "\n",
    "Таким образом, для данной задачи рекомендуется использовать именно метод LightGBM."
   ]
  },
  {
   "cell_type": "markdown",
   "metadata": {},
   "source": [
    "\n",
    "<div class=\"alert alert-block alert-info\">\n",
    "<b>Совет:</b> \n",
    "\n",
    "Также если говорить, что можно ещё улучшить в подобных проектах, то я бы выделил такие моменты:<br>\n",
    "    \n",
    "1) Для понимания, а какие в итоге факторы важны при моделировании, можно выводить их важность, использую feature_importances_, ну и график заодно. Это будет смотреться очнь здорово: результативная метрика и график важности факторов)))\n",
    "    \n",
    "2) У нас разный возраст машин. Есть гипотеза, что для разных возрастов - своё ценообразование. Поэтому, можно попробовать ввести фактор \"тип возраста\" (ретро, супер-ретро, старая, новая... надо подумать..)..<br>\n",
    "\n",
    "3) У некоторых моделей семейства бустингов, есть внутренний метод кодировки данных, который хорошо было бы попробовать\n",
    "</div>\n"
   ]
  },
  {
   "cell_type": "markdown",
   "metadata": {},
   "source": [
    "<div class=\"alert alert-block alert-warning\">\n",
    "<b>Комментарий студента:</b> Спасибо, на будущее учту! Сейчас успела добавить график важности =)\n",
    "</div>"
   ]
  },
  {
   "cell_type": "markdown",
   "metadata": {},
   "source": [
    "<div class=\"alert alert-block alert-success\">\n",
    "<b>Успех[2]:</b>\n",
    "\n",
    "1) Отличная реализация!\n",
    "\n",
    "2) Тут вообще можно для каждого кластера свою модель использовать, и тогда может модели смогут решать узкие задачи более точно, но это всего-лишь гипотеза... нужно пробовать)\n",
    "</div>"
   ]
  },
  {
   "cell_type": "markdown",
   "metadata": {},
   "source": [
    "## Чек-лист проверки"
   ]
  },
  {
   "cell_type": "markdown",
   "metadata": {},
   "source": [
    "Поставьте 'x' в выполненных пунктах. Далее нажмите Shift+Enter."
   ]
  },
  {
   "cell_type": "markdown",
   "metadata": {},
   "source": [
    "- [x]  Jupyter Notebook открыт\n",
    "- [x]  Весь код выполняется без ошибок\n",
    "- [x]  Ячейки с кодом расположены в порядке исполнения\n",
    "- [x]  Выполнена загрузка и подготовка данных\n",
    "- [x]  Выполнено обучение моделей\n",
    "- [x]  Есть анализ скорости работы и качества моделей"
   ]
  },
  {
   "cell_type": "code",
   "execution_count": null,
   "metadata": {},
   "outputs": [],
   "source": []
  }
 ],
 "metadata": {
  "ExecuteTimeLog": [
   {
    "duration": 49,
    "start_time": "2023-06-21T21:48:03.921Z"
   },
   {
    "duration": 352,
    "start_time": "2023-06-21T21:48:06.877Z"
   },
   {
    "duration": 1078,
    "start_time": "2023-06-21T21:48:08.267Z"
   },
   {
    "duration": 17,
    "start_time": "2023-06-21T21:48:15.359Z"
   },
   {
    "duration": 139,
    "start_time": "2023-06-21T21:57:58.524Z"
   },
   {
    "duration": 739,
    "start_time": "2023-06-21T21:58:00.030Z"
   },
   {
    "duration": 4,
    "start_time": "2023-06-21T22:02:24.181Z"
   },
   {
    "duration": 3,
    "start_time": "2023-06-21T22:02:25.650Z"
   },
   {
    "duration": 4,
    "start_time": "2023-06-21T22:02:27.000Z"
   },
   {
    "duration": 84,
    "start_time": "2023-06-21T22:05:29.436Z"
   },
   {
    "duration": 56,
    "start_time": "2023-06-21T22:05:34.145Z"
   },
   {
    "duration": 4,
    "start_time": "2023-06-21T22:05:35.936Z"
   },
   {
    "duration": 59,
    "start_time": "2023-06-22T08:37:33.340Z"
   },
   {
    "duration": 2069,
    "start_time": "2023-06-22T08:37:39.631Z"
   },
   {
    "duration": 1237,
    "start_time": "2023-06-22T08:37:41.702Z"
   },
   {
    "duration": 162,
    "start_time": "2023-06-22T08:37:42.941Z"
   },
   {
    "duration": 81,
    "start_time": "2023-06-22T08:37:43.105Z"
   },
   {
    "duration": 5,
    "start_time": "2023-06-22T08:37:43.189Z"
   },
   {
    "duration": 101,
    "start_time": "2023-06-22T08:37:43.196Z"
   },
   {
    "duration": 0,
    "start_time": "2023-06-22T08:37:43.299Z"
   },
   {
    "duration": 31,
    "start_time": "2023-06-22T08:38:04.728Z"
   },
   {
    "duration": 16,
    "start_time": "2023-06-22T08:38:06.824Z"
   },
   {
    "duration": 83,
    "start_time": "2023-06-22T08:38:45.793Z"
   },
   {
    "duration": 3,
    "start_time": "2023-06-22T08:41:07.221Z"
   },
   {
    "duration": 1035,
    "start_time": "2023-06-22T08:41:07.227Z"
   },
   {
    "duration": 167,
    "start_time": "2023-06-22T08:41:08.265Z"
   },
   {
    "duration": 74,
    "start_time": "2023-06-22T08:41:08.434Z"
   },
   {
    "duration": 6,
    "start_time": "2023-06-22T08:41:08.513Z"
   },
   {
    "duration": 63,
    "start_time": "2023-06-22T08:41:08.521Z"
   },
   {
    "duration": 61,
    "start_time": "2023-06-22T08:41:08.589Z"
   },
   {
    "duration": 165,
    "start_time": "2023-06-22T10:17:47.111Z"
   },
   {
    "duration": 111,
    "start_time": "2023-06-22T10:18:03.315Z"
   },
   {
    "duration": 105,
    "start_time": "2023-06-22T10:18:07.123Z"
   },
   {
    "duration": 133,
    "start_time": "2023-06-22T10:30:01.302Z"
   },
   {
    "duration": 113,
    "start_time": "2023-06-22T10:30:18.617Z"
   },
   {
    "duration": 149,
    "start_time": "2023-06-22T10:30:23.505Z"
   },
   {
    "duration": 103,
    "start_time": "2023-06-22T10:30:25.601Z"
   },
   {
    "duration": 153,
    "start_time": "2023-06-22T10:30:36.045Z"
   },
   {
    "duration": 119,
    "start_time": "2023-06-22T10:30:37.824Z"
   },
   {
    "duration": 148,
    "start_time": "2023-06-22T10:31:06.136Z"
   },
   {
    "duration": 98,
    "start_time": "2023-06-22T10:31:07.617Z"
   },
   {
    "duration": 3,
    "start_time": "2023-06-22T10:34:37.508Z"
   },
   {
    "duration": 1066,
    "start_time": "2023-06-22T10:34:37.515Z"
   },
   {
    "duration": 172,
    "start_time": "2023-06-22T10:34:38.583Z"
   },
   {
    "duration": 59,
    "start_time": "2023-06-22T10:34:38.758Z"
   },
   {
    "duration": 5,
    "start_time": "2023-06-22T10:34:38.822Z"
   },
   {
    "duration": 35,
    "start_time": "2023-06-22T10:34:38.828Z"
   },
   {
    "duration": 44,
    "start_time": "2023-06-22T10:34:38.864Z"
   },
   {
    "duration": 135,
    "start_time": "2023-06-22T10:34:38.910Z"
   },
   {
    "duration": 130,
    "start_time": "2023-06-22T10:34:44.036Z"
   },
   {
    "duration": 99,
    "start_time": "2023-06-22T10:34:45.800Z"
   },
   {
    "duration": 180,
    "start_time": "2023-06-22T10:36:03.795Z"
   },
   {
    "duration": 112,
    "start_time": "2023-06-22T10:36:05.224Z"
   },
   {
    "duration": 43,
    "start_time": "2023-06-22T10:42:13.003Z"
   },
   {
    "duration": 24,
    "start_time": "2023-06-22T10:42:53.730Z"
   },
   {
    "duration": 136,
    "start_time": "2023-06-22T10:43:52.948Z"
   },
   {
    "duration": 68,
    "start_time": "2023-06-22T10:44:56.613Z"
   },
   {
    "duration": 166,
    "start_time": "2023-06-22T10:45:30.498Z"
   },
   {
    "duration": 41,
    "start_time": "2023-06-22T10:45:32.040Z"
   },
   {
    "duration": 6,
    "start_time": "2023-06-22T10:45:41.517Z"
   },
   {
    "duration": 1079,
    "start_time": "2023-06-22T10:45:41.529Z"
   },
   {
    "duration": 201,
    "start_time": "2023-06-22T10:45:42.609Z"
   },
   {
    "duration": 58,
    "start_time": "2023-06-22T10:45:42.813Z"
   },
   {
    "duration": 12,
    "start_time": "2023-06-22T10:45:42.873Z"
   },
   {
    "duration": 73,
    "start_time": "2023-06-22T10:45:42.887Z"
   },
   {
    "duration": 10,
    "start_time": "2023-06-22T10:45:42.962Z"
   },
   {
    "duration": 199,
    "start_time": "2023-06-22T10:45:42.974Z"
   },
   {
    "duration": 207,
    "start_time": "2023-06-22T10:45:43.178Z"
   },
   {
    "duration": 143,
    "start_time": "2023-06-22T10:45:43.390Z"
   },
   {
    "duration": 140,
    "start_time": "2023-06-22T10:45:43.536Z"
   },
   {
    "duration": 81,
    "start_time": "2023-06-22T10:45:45.476Z"
   },
   {
    "duration": 62,
    "start_time": "2023-06-22T10:46:18.304Z"
   },
   {
    "duration": 61,
    "start_time": "2023-06-22T10:46:26.618Z"
   },
   {
    "duration": 41,
    "start_time": "2023-06-22T10:46:31.628Z"
   },
   {
    "duration": 41,
    "start_time": "2023-06-22T10:48:09.426Z"
   },
   {
    "duration": 33,
    "start_time": "2023-06-22T10:48:22.839Z"
   },
   {
    "duration": 39,
    "start_time": "2023-06-22T10:48:42.924Z"
   },
   {
    "duration": 14,
    "start_time": "2023-06-22T10:56:54.434Z"
   },
   {
    "duration": 37,
    "start_time": "2023-06-22T10:58:46.328Z"
   },
   {
    "duration": 58,
    "start_time": "2023-06-22T10:58:53.803Z"
   },
   {
    "duration": 125,
    "start_time": "2023-06-22T11:12:08.741Z"
   },
   {
    "duration": 10,
    "start_time": "2023-06-22T11:12:12.538Z"
   },
   {
    "duration": 10,
    "start_time": "2023-06-22T11:12:24.428Z"
   },
   {
    "duration": 2,
    "start_time": "2023-06-22T11:12:38.133Z"
   },
   {
    "duration": 971,
    "start_time": "2023-06-22T11:12:38.140Z"
   },
   {
    "duration": 189,
    "start_time": "2023-06-22T11:12:39.113Z"
   },
   {
    "duration": 30,
    "start_time": "2023-06-22T11:12:39.310Z"
   },
   {
    "duration": 13,
    "start_time": "2023-06-22T11:12:39.343Z"
   },
   {
    "duration": 42,
    "start_time": "2023-06-22T11:12:39.358Z"
   },
   {
    "duration": 50,
    "start_time": "2023-06-22T11:12:39.402Z"
   },
   {
    "duration": 175,
    "start_time": "2023-06-22T11:12:39.454Z"
   },
   {
    "duration": 32,
    "start_time": "2023-06-22T11:12:39.631Z"
   },
   {
    "duration": 67,
    "start_time": "2023-06-22T11:12:39.665Z"
   },
   {
    "duration": 31,
    "start_time": "2023-06-22T11:12:39.734Z"
   },
   {
    "duration": 56,
    "start_time": "2023-06-22T11:12:39.767Z"
   },
   {
    "duration": 49,
    "start_time": "2023-06-22T11:12:39.824Z"
   },
   {
    "duration": 70,
    "start_time": "2023-06-22T11:13:33.864Z"
   },
   {
    "duration": 43,
    "start_time": "2023-06-22T11:16:46.048Z"
   },
   {
    "duration": 590,
    "start_time": "2023-06-22T11:16:47.917Z"
   },
   {
    "duration": 551,
    "start_time": "2023-06-22T11:17:07.423Z"
   },
   {
    "duration": 128,
    "start_time": "2023-06-22T11:18:48.495Z"
   },
   {
    "duration": 146,
    "start_time": "2023-06-22T11:18:58.098Z"
   },
   {
    "duration": 694,
    "start_time": "2023-06-22T11:19:05.961Z"
   },
   {
    "duration": 48,
    "start_time": "2023-06-22T11:24:11.207Z"
   },
   {
    "duration": 1224,
    "start_time": "2023-06-22T11:24:19.019Z"
   },
   {
    "duration": 35,
    "start_time": "2023-06-22T11:24:30.414Z"
   },
   {
    "duration": 52,
    "start_time": "2023-06-22T11:25:07.667Z"
   },
   {
    "duration": 33,
    "start_time": "2023-06-22T11:25:15.132Z"
   },
   {
    "duration": 67,
    "start_time": "2023-06-22T11:26:01.600Z"
   },
   {
    "duration": 10,
    "start_time": "2023-06-22T11:26:07.612Z"
   },
   {
    "duration": 278,
    "start_time": "2023-06-22T11:26:25.757Z"
   },
   {
    "duration": 22,
    "start_time": "2023-06-22T11:40:36.415Z"
   },
   {
    "duration": 68,
    "start_time": "2023-06-22T11:41:43.112Z"
   },
   {
    "duration": 53,
    "start_time": "2023-06-22T11:45:28.356Z"
   },
   {
    "duration": 48,
    "start_time": "2023-06-22T11:45:34.106Z"
   },
   {
    "duration": 120,
    "start_time": "2023-06-22T11:45:36.408Z"
   },
   {
    "duration": 73,
    "start_time": "2023-06-22T11:45:40.849Z"
   },
   {
    "duration": 13,
    "start_time": "2023-06-22T11:48:27.958Z"
   },
   {
    "duration": 13,
    "start_time": "2023-06-22T11:48:38.919Z"
   },
   {
    "duration": 9,
    "start_time": "2023-06-22T11:49:05.030Z"
   },
   {
    "duration": 21,
    "start_time": "2023-06-22T11:50:41.549Z"
   },
   {
    "duration": 9,
    "start_time": "2023-06-22T11:50:54.651Z"
   },
   {
    "duration": 56,
    "start_time": "2023-06-22T11:51:31.708Z"
   },
   {
    "duration": 17,
    "start_time": "2023-06-22T11:51:34.508Z"
   },
   {
    "duration": 46,
    "start_time": "2023-06-22T11:51:48.410Z"
   },
   {
    "duration": 142,
    "start_time": "2023-06-22T11:52:14.953Z"
   },
   {
    "duration": 119,
    "start_time": "2023-06-22T11:52:16.212Z"
   },
   {
    "duration": 156,
    "start_time": "2023-06-22T11:52:50.063Z"
   },
   {
    "duration": 143,
    "start_time": "2023-06-22T11:53:00.961Z"
   },
   {
    "duration": 14,
    "start_time": "2023-06-22T11:53:16.739Z"
   },
   {
    "duration": 193,
    "start_time": "2023-06-22T11:53:31.293Z"
   },
   {
    "duration": 4,
    "start_time": "2023-06-22T12:50:45.115Z"
   },
   {
    "duration": 1010,
    "start_time": "2023-06-22T12:50:45.121Z"
   },
   {
    "duration": 198,
    "start_time": "2023-06-22T12:50:46.133Z"
   },
   {
    "duration": 51,
    "start_time": "2023-06-22T12:50:46.334Z"
   },
   {
    "duration": 17,
    "start_time": "2023-06-22T12:50:46.391Z"
   },
   {
    "duration": 39,
    "start_time": "2023-06-22T12:50:46.415Z"
   },
   {
    "duration": 89,
    "start_time": "2023-06-22T12:50:46.456Z"
   },
   {
    "duration": 154,
    "start_time": "2023-06-22T12:50:46.547Z"
   },
   {
    "duration": 101,
    "start_time": "2023-06-22T12:50:46.702Z"
   },
   {
    "duration": 62,
    "start_time": "2023-06-22T12:50:46.807Z"
   },
   {
    "duration": 88,
    "start_time": "2023-06-22T12:50:46.872Z"
   },
   {
    "duration": 33,
    "start_time": "2023-06-22T12:50:46.963Z"
   },
   {
    "duration": 51,
    "start_time": "2023-06-22T12:50:46.998Z"
   },
   {
    "duration": 108,
    "start_time": "2023-06-22T12:50:47.054Z"
   },
   {
    "duration": 93,
    "start_time": "2023-06-22T12:50:47.164Z"
   },
   {
    "duration": 52,
    "start_time": "2023-06-22T12:50:47.259Z"
   },
   {
    "duration": 117,
    "start_time": "2023-06-22T12:50:47.313Z"
   },
   {
    "duration": 70,
    "start_time": "2023-06-22T12:50:47.432Z"
   },
   {
    "duration": 86,
    "start_time": "2023-06-22T12:50:47.504Z"
   },
   {
    "duration": 55,
    "start_time": "2023-06-22T12:50:47.592Z"
   },
   {
    "duration": 214,
    "start_time": "2023-06-22T12:50:47.649Z"
   },
   {
    "duration": 25,
    "start_time": "2023-06-22T12:50:47.865Z"
   },
   {
    "duration": 54,
    "start_time": "2023-06-22T12:50:47.896Z"
   },
   {
    "duration": 137,
    "start_time": "2023-06-22T12:50:47.952Z"
   },
   {
    "duration": 65,
    "start_time": "2023-06-22T12:50:48.097Z"
   },
   {
    "duration": 66,
    "start_time": "2023-06-22T12:50:48.163Z"
   },
   {
    "duration": 144,
    "start_time": "2023-06-22T12:50:48.232Z"
   },
   {
    "duration": 134,
    "start_time": "2023-06-22T12:50:48.377Z"
   },
   {
    "duration": 146,
    "start_time": "2023-06-22T12:50:48.513Z"
   },
   {
    "duration": 116,
    "start_time": "2023-06-22T12:50:48.662Z"
   },
   {
    "duration": 56,
    "start_time": "2023-06-22T12:50:48.780Z"
   },
   {
    "duration": 20,
    "start_time": "2023-06-22T12:50:48.838Z"
   },
   {
    "duration": 827,
    "start_time": "2023-06-22T12:50:48.860Z"
   },
   {
    "duration": 435,
    "start_time": "2023-06-22T12:55:03.400Z"
   },
   {
    "duration": 110,
    "start_time": "2023-06-22T12:55:17.424Z"
   },
   {
    "duration": 14,
    "start_time": "2023-06-22T12:55:23.049Z"
   },
   {
    "duration": 819,
    "start_time": "2023-06-22T12:56:21.516Z"
   },
   {
    "duration": 1014,
    "start_time": "2023-06-22T12:56:22.338Z"
   },
   {
    "duration": 282,
    "start_time": "2023-06-22T12:56:23.354Z"
   },
   {
    "duration": 47,
    "start_time": "2023-06-22T12:56:23.639Z"
   },
   {
    "duration": 5,
    "start_time": "2023-06-22T12:56:23.692Z"
   },
   {
    "duration": 42,
    "start_time": "2023-06-22T12:56:23.698Z"
   },
   {
    "duration": 18,
    "start_time": "2023-06-22T12:56:23.742Z"
   },
   {
    "duration": 133,
    "start_time": "2023-06-22T12:56:23.761Z"
   },
   {
    "duration": 68,
    "start_time": "2023-06-22T12:56:23.896Z"
   },
   {
    "duration": 69,
    "start_time": "2023-06-22T12:56:23.967Z"
   },
   {
    "duration": 12,
    "start_time": "2023-06-22T12:56:24.038Z"
   },
   {
    "duration": 46,
    "start_time": "2023-06-22T12:56:24.052Z"
   },
   {
    "duration": 32,
    "start_time": "2023-06-22T12:56:24.100Z"
   },
   {
    "duration": 86,
    "start_time": "2023-06-22T12:56:24.135Z"
   },
   {
    "duration": 26,
    "start_time": "2023-06-22T12:56:24.223Z"
   },
   {
    "duration": 76,
    "start_time": "2023-06-22T12:56:24.251Z"
   },
   {
    "duration": 37,
    "start_time": "2023-06-22T12:56:24.329Z"
   },
   {
    "duration": 90,
    "start_time": "2023-06-22T12:56:24.367Z"
   },
   {
    "duration": 75,
    "start_time": "2023-06-22T12:56:24.459Z"
   },
   {
    "duration": 29,
    "start_time": "2023-06-22T12:56:24.536Z"
   },
   {
    "duration": 167,
    "start_time": "2023-06-22T12:56:24.567Z"
   },
   {
    "duration": 18,
    "start_time": "2023-06-22T12:56:24.737Z"
   },
   {
    "duration": 73,
    "start_time": "2023-06-22T12:56:24.757Z"
   },
   {
    "duration": 95,
    "start_time": "2023-06-22T12:56:24.832Z"
   },
   {
    "duration": 33,
    "start_time": "2023-06-22T12:56:24.929Z"
   },
   {
    "duration": 78,
    "start_time": "2023-06-22T12:56:24.978Z"
   },
   {
    "duration": 253,
    "start_time": "2023-06-22T12:56:25.057Z"
   },
   {
    "duration": 128,
    "start_time": "2023-06-22T12:56:25.314Z"
   },
   {
    "duration": 161,
    "start_time": "2023-06-22T12:56:25.445Z"
   },
   {
    "duration": 148,
    "start_time": "2023-06-22T12:56:25.614Z"
   },
   {
    "duration": 65,
    "start_time": "2023-06-22T12:56:25.764Z"
   },
   {
    "duration": 51,
    "start_time": "2023-06-22T12:56:25.831Z"
   },
   {
    "duration": 980,
    "start_time": "2023-06-22T12:56:25.885Z"
   },
   {
    "duration": 198,
    "start_time": "2023-06-22T12:56:26.871Z"
   },
   {
    "duration": 57,
    "start_time": "2023-06-22T12:57:24.235Z"
   },
   {
    "duration": 9,
    "start_time": "2023-06-22T12:58:23.945Z"
   },
   {
    "duration": 1712,
    "start_time": "2023-06-23T15:13:42.625Z"
   },
   {
    "duration": 1129,
    "start_time": "2023-06-23T15:13:44.340Z"
   },
   {
    "duration": 143,
    "start_time": "2023-06-23T15:13:45.471Z"
   },
   {
    "duration": 65,
    "start_time": "2023-06-23T15:13:45.616Z"
   },
   {
    "duration": 4,
    "start_time": "2023-06-23T15:13:45.683Z"
   },
   {
    "duration": 31,
    "start_time": "2023-06-23T15:13:45.688Z"
   },
   {
    "duration": 10,
    "start_time": "2023-06-23T15:13:45.721Z"
   },
   {
    "duration": 102,
    "start_time": "2023-06-23T15:13:45.732Z"
   },
   {
    "duration": 80,
    "start_time": "2023-06-23T15:13:45.835Z"
   },
   {
    "duration": 78,
    "start_time": "2023-06-23T15:13:45.917Z"
   },
   {
    "duration": 24,
    "start_time": "2023-06-23T15:13:45.997Z"
   },
   {
    "duration": 36,
    "start_time": "2023-06-23T15:13:46.023Z"
   },
   {
    "duration": 9,
    "start_time": "2023-06-23T15:13:46.061Z"
   },
   {
    "duration": 68,
    "start_time": "2023-06-23T15:13:46.073Z"
   },
   {
    "duration": 24,
    "start_time": "2023-06-23T15:13:46.143Z"
   },
   {
    "duration": 47,
    "start_time": "2023-06-23T15:13:46.169Z"
   },
   {
    "duration": 46,
    "start_time": "2023-06-23T15:13:46.218Z"
   },
   {
    "duration": 53,
    "start_time": "2023-06-23T15:13:46.265Z"
   },
   {
    "duration": 36,
    "start_time": "2023-06-23T15:13:46.320Z"
   },
   {
    "duration": 15,
    "start_time": "2023-06-23T15:13:46.358Z"
   },
   {
    "duration": 171,
    "start_time": "2023-06-23T15:13:46.375Z"
   },
   {
    "duration": 18,
    "start_time": "2023-06-23T15:13:46.553Z"
   },
   {
    "duration": 41,
    "start_time": "2023-06-23T15:13:46.573Z"
   },
   {
    "duration": 81,
    "start_time": "2023-06-23T15:13:46.615Z"
   },
   {
    "duration": 36,
    "start_time": "2023-06-23T15:13:46.698Z"
   },
   {
    "duration": 50,
    "start_time": "2023-06-23T15:13:46.735Z"
   },
   {
    "duration": 134,
    "start_time": "2023-06-23T15:13:46.787Z"
   },
   {
    "duration": 87,
    "start_time": "2023-06-23T15:13:46.923Z"
   },
   {
    "duration": 96,
    "start_time": "2023-06-23T15:13:47.012Z"
   },
   {
    "duration": 103,
    "start_time": "2023-06-23T15:13:47.110Z"
   },
   {
    "duration": 12,
    "start_time": "2023-06-23T15:13:47.216Z"
   },
   {
    "duration": 43,
    "start_time": "2023-06-23T15:13:47.229Z"
   },
   {
    "duration": 772,
    "start_time": "2023-06-23T15:13:47.274Z"
   },
   {
    "duration": 162,
    "start_time": "2023-06-23T15:13:48.054Z"
   },
   {
    "duration": 3,
    "start_time": "2023-06-23T15:13:48.218Z"
   },
   {
    "duration": 57,
    "start_time": "2023-06-23T15:15:34.840Z"
   },
   {
    "duration": 125,
    "start_time": "2023-06-25T11:50:13.401Z"
   },
   {
    "duration": 2072,
    "start_time": "2023-06-25T15:57:08.549Z"
   },
   {
    "duration": 1724,
    "start_time": "2023-06-25T15:57:10.623Z"
   },
   {
    "duration": 207,
    "start_time": "2023-06-25T15:57:12.349Z"
   },
   {
    "duration": 61,
    "start_time": "2023-06-25T15:57:12.559Z"
   },
   {
    "duration": 19,
    "start_time": "2023-06-25T15:57:12.627Z"
   },
   {
    "duration": 94,
    "start_time": "2023-06-25T15:57:12.649Z"
   },
   {
    "duration": 62,
    "start_time": "2023-06-25T15:57:12.745Z"
   },
   {
    "duration": 108,
    "start_time": "2023-06-25T15:57:12.808Z"
   },
   {
    "duration": 14,
    "start_time": "2023-06-25T15:57:12.919Z"
   },
   {
    "duration": 69,
    "start_time": "2023-06-25T15:57:12.934Z"
   },
   {
    "duration": 13,
    "start_time": "2023-06-25T15:57:13.010Z"
   },
   {
    "duration": 58,
    "start_time": "2023-06-25T15:57:13.024Z"
   },
   {
    "duration": 36,
    "start_time": "2023-06-25T15:57:13.096Z"
   },
   {
    "duration": 47,
    "start_time": "2023-06-25T15:57:13.137Z"
   },
   {
    "duration": 42,
    "start_time": "2023-06-25T15:57:13.186Z"
   },
   {
    "duration": 75,
    "start_time": "2023-06-25T15:57:13.230Z"
   },
   {
    "duration": 65,
    "start_time": "2023-06-25T15:57:13.310Z"
   },
   {
    "duration": 62,
    "start_time": "2023-06-25T15:57:13.377Z"
   },
   {
    "duration": 54,
    "start_time": "2023-06-25T15:57:13.441Z"
   },
   {
    "duration": 30,
    "start_time": "2023-06-25T15:57:13.496Z"
   },
   {
    "duration": 214,
    "start_time": "2023-06-25T15:57:13.528Z"
   },
   {
    "duration": 19,
    "start_time": "2023-06-25T15:57:13.744Z"
   },
   {
    "duration": 80,
    "start_time": "2023-06-25T15:57:13.764Z"
   },
   {
    "duration": 145,
    "start_time": "2023-06-25T15:57:13.846Z"
   },
   {
    "duration": 40,
    "start_time": "2023-06-25T15:57:14.000Z"
   },
   {
    "duration": 100,
    "start_time": "2023-06-25T15:57:14.042Z"
   },
   {
    "duration": 159,
    "start_time": "2023-06-25T15:57:14.144Z"
   },
   {
    "duration": 87,
    "start_time": "2023-06-25T15:57:14.307Z"
   },
   {
    "duration": 125,
    "start_time": "2023-06-25T15:57:14.396Z"
   },
   {
    "duration": 98,
    "start_time": "2023-06-25T15:57:14.522Z"
   },
   {
    "duration": 13,
    "start_time": "2023-06-25T15:57:14.622Z"
   },
   {
    "duration": 48,
    "start_time": "2023-06-25T15:57:14.637Z"
   },
   {
    "duration": 1053,
    "start_time": "2023-06-25T15:57:14.690Z"
   },
   {
    "duration": 211,
    "start_time": "2023-06-25T15:57:15.745Z"
   },
   {
    "duration": 9,
    "start_time": "2023-06-25T15:57:15.964Z"
   },
   {
    "duration": 121,
    "start_time": "2023-06-25T15:57:59.396Z"
   },
   {
    "duration": 166,
    "start_time": "2023-06-25T15:58:01.657Z"
   },
   {
    "duration": 9,
    "start_time": "2023-06-25T16:12:16.500Z"
   },
   {
    "duration": 21,
    "start_time": "2023-06-25T16:14:33.497Z"
   },
   {
    "duration": 7,
    "start_time": "2023-06-25T16:16:02.182Z"
   },
   {
    "duration": 20,
    "start_time": "2023-06-25T16:16:40.428Z"
   },
   {
    "duration": 17,
    "start_time": "2023-06-25T16:16:51.308Z"
   },
   {
    "duration": 171,
    "start_time": "2023-06-25T16:20:58.263Z"
   },
   {
    "duration": 114,
    "start_time": "2023-06-25T16:21:08.203Z"
   },
   {
    "duration": 28,
    "start_time": "2023-06-25T16:21:29.251Z"
   },
   {
    "duration": 85,
    "start_time": "2023-06-25T16:22:15.912Z"
   },
   {
    "duration": 8,
    "start_time": "2023-06-25T16:22:28.364Z"
   },
   {
    "duration": 77,
    "start_time": "2023-06-25T16:22:31.936Z"
   },
   {
    "duration": 20,
    "start_time": "2023-06-25T16:23:36.072Z"
   },
   {
    "duration": 55,
    "start_time": "2023-06-25T16:23:57.684Z"
   },
   {
    "duration": 4,
    "start_time": "2023-06-25T16:24:07.598Z"
   },
   {
    "duration": 1040,
    "start_time": "2023-06-25T16:24:07.604Z"
   },
   {
    "duration": 166,
    "start_time": "2023-06-25T16:24:08.652Z"
   },
   {
    "duration": 71,
    "start_time": "2023-06-25T16:24:08.820Z"
   },
   {
    "duration": 42,
    "start_time": "2023-06-25T16:24:08.893Z"
   },
   {
    "duration": 93,
    "start_time": "2023-06-25T16:24:08.937Z"
   },
   {
    "duration": 46,
    "start_time": "2023-06-25T16:24:09.032Z"
   },
   {
    "duration": 198,
    "start_time": "2023-06-25T16:24:09.081Z"
   },
   {
    "duration": 53,
    "start_time": "2023-06-25T16:24:09.285Z"
   },
   {
    "duration": 62,
    "start_time": "2023-06-25T16:24:09.340Z"
   },
   {
    "duration": 11,
    "start_time": "2023-06-25T16:24:09.406Z"
   },
   {
    "duration": 40,
    "start_time": "2023-06-25T16:24:09.419Z"
   },
   {
    "duration": 32,
    "start_time": "2023-06-25T16:24:09.462Z"
   },
   {
    "duration": 32,
    "start_time": "2023-06-25T16:24:09.496Z"
   },
   {
    "duration": 33,
    "start_time": "2023-06-25T16:24:09.530Z"
   },
   {
    "duration": 62,
    "start_time": "2023-06-25T16:24:09.564Z"
   },
   {
    "duration": 63,
    "start_time": "2023-06-25T16:24:09.627Z"
   },
   {
    "duration": 34,
    "start_time": "2023-06-25T16:24:09.692Z"
   },
   {
    "duration": 51,
    "start_time": "2023-06-25T16:24:09.728Z"
   },
   {
    "duration": 32,
    "start_time": "2023-06-25T16:24:09.781Z"
   },
   {
    "duration": 193,
    "start_time": "2023-06-25T16:24:09.814Z"
   },
   {
    "duration": 18,
    "start_time": "2023-06-25T16:24:10.009Z"
   },
   {
    "duration": 70,
    "start_time": "2023-06-25T16:24:10.029Z"
   },
   {
    "duration": 97,
    "start_time": "2023-06-25T16:24:10.102Z"
   },
   {
    "duration": 36,
    "start_time": "2023-06-25T16:24:10.201Z"
   },
   {
    "duration": 77,
    "start_time": "2023-06-25T16:24:10.239Z"
   },
   {
    "duration": 153,
    "start_time": "2023-06-25T16:24:10.318Z"
   },
   {
    "duration": 82,
    "start_time": "2023-06-25T16:24:10.474Z"
   },
   {
    "duration": 145,
    "start_time": "2023-06-25T16:24:10.558Z"
   },
   {
    "duration": 91,
    "start_time": "2023-06-25T16:24:10.705Z"
   },
   {
    "duration": 12,
    "start_time": "2023-06-25T16:24:10.798Z"
   },
   {
    "duration": 21,
    "start_time": "2023-06-25T16:24:24.789Z"
   },
   {
    "duration": 15388,
    "start_time": "2023-06-25T16:24:30.835Z"
   },
   {
    "duration": 1590,
    "start_time": "2023-06-25T16:28:04.815Z"
   },
   {
    "duration": 1507,
    "start_time": "2023-06-25T16:28:51.802Z"
   },
   {
    "duration": 1476,
    "start_time": "2023-06-25T16:28:59.995Z"
   },
   {
    "duration": 4,
    "start_time": "2023-06-25T16:29:11.619Z"
   },
   {
    "duration": 978,
    "start_time": "2023-06-25T16:29:11.625Z"
   },
   {
    "duration": 132,
    "start_time": "2023-06-25T16:29:12.605Z"
   },
   {
    "duration": 31,
    "start_time": "2023-06-25T16:29:12.752Z"
   },
   {
    "duration": 11,
    "start_time": "2023-06-25T16:29:12.786Z"
   },
   {
    "duration": 22,
    "start_time": "2023-06-25T16:29:12.799Z"
   },
   {
    "duration": 11,
    "start_time": "2023-06-25T16:29:12.823Z"
   },
   {
    "duration": 100,
    "start_time": "2023-06-25T16:29:12.836Z"
   },
   {
    "duration": 43,
    "start_time": "2023-06-25T16:29:12.955Z"
   },
   {
    "duration": 37,
    "start_time": "2023-06-25T16:29:13.001Z"
   },
   {
    "duration": 35,
    "start_time": "2023-06-25T16:29:13.051Z"
   },
   {
    "duration": 33,
    "start_time": "2023-06-25T16:29:13.088Z"
   },
   {
    "duration": 11,
    "start_time": "2023-06-25T16:29:13.123Z"
   },
   {
    "duration": 73,
    "start_time": "2023-06-25T16:29:13.136Z"
   },
   {
    "duration": 21,
    "start_time": "2023-06-25T16:29:13.210Z"
   },
   {
    "duration": 64,
    "start_time": "2023-06-25T16:29:13.232Z"
   },
   {
    "duration": 33,
    "start_time": "2023-06-25T16:29:13.298Z"
   },
   {
    "duration": 53,
    "start_time": "2023-06-25T16:29:13.333Z"
   },
   {
    "duration": 56,
    "start_time": "2023-06-25T16:29:13.388Z"
   },
   {
    "duration": 38,
    "start_time": "2023-06-25T16:29:13.446Z"
   },
   {
    "duration": 163,
    "start_time": "2023-06-25T16:29:13.486Z"
   },
   {
    "duration": 23,
    "start_time": "2023-06-25T16:29:13.656Z"
   },
   {
    "duration": 40,
    "start_time": "2023-06-25T16:29:13.683Z"
   },
   {
    "duration": 74,
    "start_time": "2023-06-25T16:29:13.725Z"
   },
   {
    "duration": 33,
    "start_time": "2023-06-25T16:29:13.800Z"
   },
   {
    "duration": 55,
    "start_time": "2023-06-25T16:29:13.835Z"
   },
   {
    "duration": 125,
    "start_time": "2023-06-25T16:29:13.892Z"
   },
   {
    "duration": 107,
    "start_time": "2023-06-25T16:29:14.019Z"
   },
   {
    "duration": 99,
    "start_time": "2023-06-25T16:29:14.130Z"
   },
   {
    "duration": 90,
    "start_time": "2023-06-25T16:29:14.231Z"
   },
   {
    "duration": 12,
    "start_time": "2023-06-25T16:29:14.323Z"
   },
   {
    "duration": 72,
    "start_time": "2023-06-25T16:29:14.337Z"
   },
   {
    "duration": 1476,
    "start_time": "2023-06-25T16:29:15.606Z"
   },
   {
    "duration": 2069,
    "start_time": "2023-06-25T17:30:49.823Z"
   },
   {
    "duration": 1740,
    "start_time": "2023-06-25T17:30:51.897Z"
   },
   {
    "duration": 172,
    "start_time": "2023-06-25T17:30:53.639Z"
   },
   {
    "duration": 81,
    "start_time": "2023-06-25T17:30:53.813Z"
   },
   {
    "duration": 8,
    "start_time": "2023-06-25T17:30:53.897Z"
   },
   {
    "duration": 36,
    "start_time": "2023-06-25T17:30:53.910Z"
   },
   {
    "duration": 62,
    "start_time": "2023-06-25T17:30:53.948Z"
   },
   {
    "duration": 107,
    "start_time": "2023-06-25T17:30:54.012Z"
   },
   {
    "duration": 14,
    "start_time": "2023-06-25T17:30:54.121Z"
   },
   {
    "duration": 112,
    "start_time": "2023-06-25T17:30:54.138Z"
   },
   {
    "duration": 69,
    "start_time": "2023-06-25T17:30:54.263Z"
   },
   {
    "duration": 46,
    "start_time": "2023-06-25T17:30:54.335Z"
   },
   {
    "duration": 13,
    "start_time": "2023-06-25T17:30:54.382Z"
   },
   {
    "duration": 58,
    "start_time": "2023-06-25T17:30:54.397Z"
   },
   {
    "duration": 61,
    "start_time": "2023-06-25T17:30:54.458Z"
   },
   {
    "duration": 60,
    "start_time": "2023-06-25T17:30:54.521Z"
   },
   {
    "duration": 106,
    "start_time": "2023-06-25T17:30:54.590Z"
   },
   {
    "duration": 50,
    "start_time": "2023-06-25T17:30:54.698Z"
   },
   {
    "duration": 66,
    "start_time": "2023-06-25T17:30:54.750Z"
   },
   {
    "duration": 10,
    "start_time": "2023-06-25T17:30:54.818Z"
   },
   {
    "duration": 212,
    "start_time": "2023-06-25T17:30:54.830Z"
   },
   {
    "duration": 26,
    "start_time": "2023-06-25T17:30:55.044Z"
   },
   {
    "duration": 57,
    "start_time": "2023-06-25T17:30:55.072Z"
   },
   {
    "duration": 83,
    "start_time": "2023-06-25T17:30:55.131Z"
   },
   {
    "duration": 45,
    "start_time": "2023-06-25T17:30:55.216Z"
   },
   {
    "duration": 48,
    "start_time": "2023-06-25T17:30:55.263Z"
   },
   {
    "duration": 177,
    "start_time": "2023-06-25T17:30:55.313Z"
   },
   {
    "duration": 103,
    "start_time": "2023-06-25T17:30:55.497Z"
   },
   {
    "duration": 102,
    "start_time": "2023-06-25T17:30:55.602Z"
   },
   {
    "duration": 95,
    "start_time": "2023-06-25T17:30:55.706Z"
   },
   {
    "duration": 20,
    "start_time": "2023-06-25T17:30:55.802Z"
   },
   {
    "duration": 26,
    "start_time": "2023-06-25T17:30:55.824Z"
   },
   {
    "duration": 157,
    "start_time": "2023-06-25T17:30:55.851Z"
   },
   {
    "duration": 51,
    "start_time": "2023-06-25T17:31:31.087Z"
   },
   {
    "duration": 1679,
    "start_time": "2023-06-25T17:31:56.926Z"
   },
   {
    "duration": 1661,
    "start_time": "2023-06-25T17:32:15.669Z"
   },
   {
    "duration": 1669,
    "start_time": "2023-06-25T17:37:06.321Z"
   },
   {
    "duration": 1731,
    "start_time": "2023-06-25T17:37:48.601Z"
   },
   {
    "duration": 1632,
    "start_time": "2023-06-25T17:41:07.074Z"
   },
   {
    "duration": 17488,
    "start_time": "2023-06-25T17:43:47.194Z"
   },
   {
    "duration": 15,
    "start_time": "2023-06-25T17:44:41.805Z"
   },
   {
    "duration": 752,
    "start_time": "2023-06-25T17:44:58.670Z"
   },
   {
    "duration": 219,
    "start_time": "2023-06-25T17:45:44.938Z"
   },
   {
    "duration": 690,
    "start_time": "2023-06-25T17:45:46.983Z"
   },
   {
    "duration": 739,
    "start_time": "2023-06-25T17:45:57.495Z"
   },
   {
    "duration": 1604,
    "start_time": "2023-06-25T17:46:46.490Z"
   },
   {
    "duration": 1022,
    "start_time": "2023-06-25T17:46:48.096Z"
   },
   {
    "duration": 153,
    "start_time": "2023-06-25T17:46:49.120Z"
   },
   {
    "duration": 64,
    "start_time": "2023-06-25T17:46:49.280Z"
   },
   {
    "duration": 15,
    "start_time": "2023-06-25T17:46:49.353Z"
   },
   {
    "duration": 71,
    "start_time": "2023-06-25T17:46:49.372Z"
   },
   {
    "duration": 18,
    "start_time": "2023-06-25T17:46:49.445Z"
   },
   {
    "duration": 115,
    "start_time": "2023-06-25T17:46:49.465Z"
   },
   {
    "duration": 14,
    "start_time": "2023-06-25T17:46:49.582Z"
   },
   {
    "duration": 35,
    "start_time": "2023-06-25T17:46:49.598Z"
   },
   {
    "duration": 33,
    "start_time": "2023-06-25T17:46:49.635Z"
   },
   {
    "duration": 57,
    "start_time": "2023-06-25T17:46:49.673Z"
   },
   {
    "duration": 11,
    "start_time": "2023-06-25T17:46:49.732Z"
   },
   {
    "duration": 52,
    "start_time": "2023-06-25T17:46:49.746Z"
   },
   {
    "duration": 11,
    "start_time": "2023-06-25T17:46:49.800Z"
   },
   {
    "duration": 47,
    "start_time": "2023-06-25T17:46:49.813Z"
   },
   {
    "duration": 58,
    "start_time": "2023-06-25T17:46:49.863Z"
   },
   {
    "duration": 67,
    "start_time": "2023-06-25T17:46:49.922Z"
   },
   {
    "duration": 33,
    "start_time": "2023-06-25T17:46:49.991Z"
   },
   {
    "duration": 45,
    "start_time": "2023-06-25T17:46:50.026Z"
   },
   {
    "duration": 199,
    "start_time": "2023-06-25T17:46:50.072Z"
   },
   {
    "duration": 23,
    "start_time": "2023-06-25T17:46:50.273Z"
   },
   {
    "duration": 31,
    "start_time": "2023-06-25T17:46:50.298Z"
   },
   {
    "duration": 95,
    "start_time": "2023-06-25T17:46:50.331Z"
   },
   {
    "duration": 61,
    "start_time": "2023-06-25T17:46:50.428Z"
   },
   {
    "duration": 78,
    "start_time": "2023-06-25T17:46:50.497Z"
   },
   {
    "duration": 134,
    "start_time": "2023-06-25T17:46:50.582Z"
   },
   {
    "duration": 84,
    "start_time": "2023-06-25T17:46:50.718Z"
   },
   {
    "duration": 97,
    "start_time": "2023-06-25T17:46:50.804Z"
   },
   {
    "duration": 90,
    "start_time": "2023-06-25T17:46:50.903Z"
   },
   {
    "duration": 19,
    "start_time": "2023-06-25T17:46:50.997Z"
   },
   {
    "duration": 47,
    "start_time": "2023-06-25T17:46:51.018Z"
   },
   {
    "duration": 16808,
    "start_time": "2023-06-25T17:49:15.152Z"
   },
   {
    "duration": 953,
    "start_time": "2023-06-25T17:50:27.623Z"
   },
   {
    "duration": 17076,
    "start_time": "2023-06-25T17:51:06.700Z"
   },
   {
    "duration": 17348,
    "start_time": "2023-06-25T17:53:55.138Z"
   },
   {
    "duration": 212865,
    "start_time": "2023-06-25T17:54:30.482Z"
   },
   {
    "duration": 2185,
    "start_time": "2023-06-25T17:59:54.192Z"
   },
   {
    "duration": 11,
    "start_time": "2023-06-25T18:02:53.497Z"
   },
   {
    "duration": 4,
    "start_time": "2023-06-25T18:03:11.936Z"
   },
   {
    "duration": 33,
    "start_time": "2023-06-25T18:04:49.998Z"
   },
   {
    "duration": 1615,
    "start_time": "2023-06-25T18:07:21.814Z"
   },
   {
    "duration": 110,
    "start_time": "2023-06-25T18:12:45.855Z"
   },
   {
    "duration": 15,
    "start_time": "2023-06-25T18:13:22.321Z"
   },
   {
    "duration": 7,
    "start_time": "2023-06-25T18:13:36.492Z"
   },
   {
    "duration": 14,
    "start_time": "2023-06-25T18:13:42.266Z"
   },
   {
    "duration": 11,
    "start_time": "2023-06-25T18:13:57.838Z"
   },
   {
    "duration": 3,
    "start_time": "2023-06-25T18:15:10.214Z"
   },
   {
    "duration": 3,
    "start_time": "2023-06-25T18:57:12.683Z"
   },
   {
    "duration": 1576,
    "start_time": "2023-06-25T19:05:02.543Z"
   },
   {
    "duration": 3,
    "start_time": "2023-06-25T19:05:59.199Z"
   },
   {
    "duration": 35,
    "start_time": "2023-06-25T19:12:01.162Z"
   },
   {
    "duration": 24,
    "start_time": "2023-06-25T19:12:29.880Z"
   },
   {
    "duration": 11,
    "start_time": "2023-06-25T19:20:06.704Z"
   },
   {
    "duration": 476,
    "start_time": "2023-06-25T19:20:49.949Z"
   },
   {
    "duration": 394,
    "start_time": "2023-06-25T19:20:56.008Z"
   },
   {
    "duration": 68,
    "start_time": "2023-06-25T19:22:31.915Z"
   },
   {
    "duration": 1179,
    "start_time": "2023-06-25T19:22:47.823Z"
   },
   {
    "duration": 11,
    "start_time": "2023-06-25T19:23:17.853Z"
   },
   {
    "duration": 12,
    "start_time": "2023-06-25T19:24:08.090Z"
   },
   {
    "duration": 13,
    "start_time": "2023-06-25T19:24:22.690Z"
   },
   {
    "duration": 17,
    "start_time": "2023-06-25T19:25:03.344Z"
   },
   {
    "duration": 8,
    "start_time": "2023-06-25T19:26:59.349Z"
   },
   {
    "duration": 6,
    "start_time": "2023-06-25T19:29:12.094Z"
   },
   {
    "duration": 52682,
    "start_time": "2023-06-25T19:29:23.124Z"
   },
   {
    "duration": 3447,
    "start_time": "2023-06-25T19:33:16.777Z"
   },
   {
    "duration": 1571,
    "start_time": "2023-06-25T19:33:20.227Z"
   },
   {
    "duration": 143,
    "start_time": "2023-06-25T19:33:21.799Z"
   },
   {
    "duration": 69,
    "start_time": "2023-06-25T19:33:21.944Z"
   },
   {
    "duration": 5,
    "start_time": "2023-06-25T19:33:22.015Z"
   },
   {
    "duration": 87,
    "start_time": "2023-06-25T19:33:22.022Z"
   },
   {
    "duration": 88,
    "start_time": "2023-06-25T19:33:22.111Z"
   },
   {
    "duration": 126,
    "start_time": "2023-06-25T19:33:22.201Z"
   },
   {
    "duration": 15,
    "start_time": "2023-06-25T19:33:22.329Z"
   },
   {
    "duration": 65,
    "start_time": "2023-06-25T19:33:22.352Z"
   },
   {
    "duration": 48,
    "start_time": "2023-06-25T19:33:22.419Z"
   },
   {
    "duration": 66,
    "start_time": "2023-06-25T19:33:22.471Z"
   },
   {
    "duration": 143,
    "start_time": "2023-06-25T19:33:22.539Z"
   },
   {
    "duration": 59,
    "start_time": "2023-06-25T19:33:22.686Z"
   },
   {
    "duration": 213,
    "start_time": "2023-06-25T19:33:22.747Z"
   },
   {
    "duration": 119,
    "start_time": "2023-06-25T19:33:22.970Z"
   },
   {
    "duration": 143,
    "start_time": "2023-06-25T19:33:23.091Z"
   },
   {
    "duration": 112,
    "start_time": "2023-06-25T19:33:23.236Z"
   },
   {
    "duration": 162,
    "start_time": "2023-06-25T19:33:23.350Z"
   },
   {
    "duration": 74,
    "start_time": "2023-06-25T19:33:23.514Z"
   },
   {
    "duration": 345,
    "start_time": "2023-06-25T19:33:23.590Z"
   },
   {
    "duration": 33,
    "start_time": "2023-06-25T19:33:23.938Z"
   },
   {
    "duration": 248,
    "start_time": "2023-06-25T19:33:23.973Z"
   },
   {
    "duration": 214,
    "start_time": "2023-06-25T19:33:24.223Z"
   },
   {
    "duration": 164,
    "start_time": "2023-06-25T19:33:24.440Z"
   },
   {
    "duration": 180,
    "start_time": "2023-06-25T19:33:24.606Z"
   },
   {
    "duration": 204,
    "start_time": "2023-06-25T19:33:24.788Z"
   },
   {
    "duration": 118,
    "start_time": "2023-06-25T19:33:24.994Z"
   },
   {
    "duration": 349,
    "start_time": "2023-06-25T19:33:25.114Z"
   },
   {
    "duration": 119,
    "start_time": "2023-06-25T19:33:25.465Z"
   },
   {
    "duration": 129,
    "start_time": "2023-06-25T19:33:25.586Z"
   },
   {
    "duration": 279,
    "start_time": "2023-06-25T19:33:25.717Z"
   },
   {
    "duration": 687,
    "start_time": "2023-06-25T19:33:25.998Z"
   },
   {
    "duration": 340,
    "start_time": "2023-06-25T19:35:48.424Z"
   },
   {
    "duration": 11,
    "start_time": "2023-06-25T19:36:47.833Z"
   },
   {
    "duration": 5,
    "start_time": "2023-06-25T19:36:51.496Z"
   },
   {
    "duration": 14995,
    "start_time": "2023-06-25T19:37:20.590Z"
   },
   {
    "duration": 316,
    "start_time": "2023-06-25T19:39:20.549Z"
   },
   {
    "duration": 1173,
    "start_time": "2023-06-25T19:39:40.247Z"
   },
   {
    "duration": 5,
    "start_time": "2023-06-25T19:39:59.226Z"
   },
   {
    "duration": 7,
    "start_time": "2023-06-25T19:40:01.133Z"
   },
   {
    "duration": 11,
    "start_time": "2023-06-25T19:40:39.335Z"
   },
   {
    "duration": 17,
    "start_time": "2023-06-25T19:40:49.355Z"
   },
   {
    "duration": 45606,
    "start_time": "2023-06-25T19:41:04.507Z"
   },
   {
    "duration": 1311,
    "start_time": "2023-06-25T19:42:06.630Z"
   },
   {
    "duration": 1618,
    "start_time": "2023-06-25T20:09:08.491Z"
   },
   {
    "duration": 2135,
    "start_time": "2023-06-25T20:12:40.340Z"
   },
   {
    "duration": 1328,
    "start_time": "2023-06-25T20:12:42.478Z"
   },
   {
    "duration": 145,
    "start_time": "2023-06-25T20:12:43.808Z"
   },
   {
    "duration": 68,
    "start_time": "2023-06-25T20:12:43.956Z"
   },
   {
    "duration": 5,
    "start_time": "2023-06-25T20:12:44.026Z"
   },
   {
    "duration": 47,
    "start_time": "2023-06-25T20:12:44.051Z"
   },
   {
    "duration": 28,
    "start_time": "2023-06-25T20:12:44.099Z"
   },
   {
    "duration": 94,
    "start_time": "2023-06-25T20:12:44.129Z"
   },
   {
    "duration": 13,
    "start_time": "2023-06-25T20:12:44.225Z"
   },
   {
    "duration": 53,
    "start_time": "2023-06-25T20:12:44.252Z"
   },
   {
    "duration": 16,
    "start_time": "2023-06-25T20:12:44.307Z"
   },
   {
    "duration": 47,
    "start_time": "2023-06-25T20:12:44.325Z"
   },
   {
    "duration": 13,
    "start_time": "2023-06-25T20:12:44.375Z"
   },
   {
    "duration": 36,
    "start_time": "2023-06-25T20:12:44.391Z"
   },
   {
    "duration": 25,
    "start_time": "2023-06-25T20:12:44.429Z"
   },
   {
    "duration": 56,
    "start_time": "2023-06-25T20:12:44.456Z"
   },
   {
    "duration": 45,
    "start_time": "2023-06-25T20:12:44.513Z"
   },
   {
    "duration": 56,
    "start_time": "2023-06-25T20:12:44.560Z"
   },
   {
    "duration": 48,
    "start_time": "2023-06-25T20:12:44.618Z"
   },
   {
    "duration": 14,
    "start_time": "2023-06-25T20:12:44.668Z"
   },
   {
    "duration": 216,
    "start_time": "2023-06-25T20:12:44.684Z"
   },
   {
    "duration": 18,
    "start_time": "2023-06-25T20:12:44.902Z"
   },
   {
    "duration": 38,
    "start_time": "2023-06-25T20:12:44.922Z"
   },
   {
    "duration": 123,
    "start_time": "2023-06-25T20:12:44.962Z"
   },
   {
    "duration": 35,
    "start_time": "2023-06-25T20:12:45.087Z"
   },
   {
    "duration": 77,
    "start_time": "2023-06-25T20:12:45.124Z"
   },
   {
    "duration": 189,
    "start_time": "2023-06-25T20:12:45.203Z"
   },
   {
    "duration": 94,
    "start_time": "2023-06-25T20:12:45.394Z"
   },
   {
    "duration": 120,
    "start_time": "2023-06-25T20:12:45.492Z"
   },
   {
    "duration": 89,
    "start_time": "2023-06-25T20:12:45.615Z"
   },
   {
    "duration": 13,
    "start_time": "2023-06-25T20:12:45.707Z"
   },
   {
    "duration": 39,
    "start_time": "2023-06-25T20:12:45.722Z"
   },
   {
    "duration": 1764,
    "start_time": "2023-06-25T20:12:48.430Z"
   },
   {
    "duration": 13819,
    "start_time": "2023-06-25T20:42:22.959Z"
   },
   {
    "duration": 1546,
    "start_time": "2023-06-25T20:42:48.420Z"
   },
   {
    "duration": 13,
    "start_time": "2023-06-25T20:43:46.303Z"
   },
   {
    "duration": 1542,
    "start_time": "2023-06-25T20:43:53.543Z"
   },
   {
    "duration": 94,
    "start_time": "2023-06-25T20:44:44.809Z"
   },
   {
    "duration": 1531,
    "start_time": "2023-06-25T20:45:03.694Z"
   },
   {
    "duration": 1507,
    "start_time": "2023-06-25T20:45:13.011Z"
   },
   {
    "duration": 20,
    "start_time": "2023-06-25T20:45:39.470Z"
   },
   {
    "duration": 6,
    "start_time": "2023-06-25T20:47:00.294Z"
   },
   {
    "duration": 3112,
    "start_time": "2023-06-25T20:49:34.172Z"
   },
   {
    "duration": 2174,
    "start_time": "2023-06-25T20:51:08.111Z"
   },
   {
    "duration": 1301,
    "start_time": "2023-06-25T20:51:10.287Z"
   },
   {
    "duration": 130,
    "start_time": "2023-06-25T20:51:11.589Z"
   },
   {
    "duration": 69,
    "start_time": "2023-06-25T20:51:11.721Z"
   },
   {
    "duration": 4,
    "start_time": "2023-06-25T20:51:11.793Z"
   },
   {
    "duration": 35,
    "start_time": "2023-06-25T20:51:11.798Z"
   },
   {
    "duration": 24,
    "start_time": "2023-06-25T20:51:11.834Z"
   },
   {
    "duration": 83,
    "start_time": "2023-06-25T20:51:11.862Z"
   },
   {
    "duration": 14,
    "start_time": "2023-06-25T20:51:11.947Z"
   },
   {
    "duration": 38,
    "start_time": "2023-06-25T20:51:11.962Z"
   },
   {
    "duration": 13,
    "start_time": "2023-06-25T20:51:12.002Z"
   },
   {
    "duration": 52,
    "start_time": "2023-06-25T20:51:12.016Z"
   },
   {
    "duration": 10,
    "start_time": "2023-06-25T20:51:12.070Z"
   },
   {
    "duration": 32,
    "start_time": "2023-06-25T20:51:12.083Z"
   },
   {
    "duration": 17,
    "start_time": "2023-06-25T20:51:12.117Z"
   },
   {
    "duration": 42,
    "start_time": "2023-06-25T20:51:12.151Z"
   },
   {
    "duration": 50,
    "start_time": "2023-06-25T20:51:12.195Z"
   },
   {
    "duration": 52,
    "start_time": "2023-06-25T20:51:12.247Z"
   },
   {
    "duration": 50,
    "start_time": "2023-06-25T20:51:12.301Z"
   },
   {
    "duration": 36,
    "start_time": "2023-06-25T20:51:12.353Z"
   },
   {
    "duration": 189,
    "start_time": "2023-06-25T20:51:12.391Z"
   },
   {
    "duration": 18,
    "start_time": "2023-06-25T20:51:12.582Z"
   },
   {
    "duration": 30,
    "start_time": "2023-06-25T20:51:12.602Z"
   },
   {
    "duration": 73,
    "start_time": "2023-06-25T20:51:12.634Z"
   },
   {
    "duration": 31,
    "start_time": "2023-06-25T20:51:12.709Z"
   },
   {
    "duration": 52,
    "start_time": "2023-06-25T20:51:12.758Z"
   },
   {
    "duration": 110,
    "start_time": "2023-06-25T20:51:12.812Z"
   },
   {
    "duration": 72,
    "start_time": "2023-06-25T20:51:12.924Z"
   },
   {
    "duration": 95,
    "start_time": "2023-06-25T20:51:12.998Z"
   },
   {
    "duration": 72,
    "start_time": "2023-06-25T20:51:13.095Z"
   },
   {
    "duration": 15,
    "start_time": "2023-06-25T20:51:13.169Z"
   },
   {
    "duration": 13,
    "start_time": "2023-06-25T20:51:13.186Z"
   },
   {
    "duration": 3186,
    "start_time": "2023-06-25T20:51:13.201Z"
   },
   {
    "duration": 99,
    "start_time": "2023-06-25T20:55:40.107Z"
   },
   {
    "duration": 128,
    "start_time": "2023-06-25T20:57:57.330Z"
   },
   {
    "duration": 15,
    "start_time": "2023-06-25T20:58:13.498Z"
   },
   {
    "duration": 2099,
    "start_time": "2023-06-25T20:58:22.102Z"
   },
   {
    "duration": 17,
    "start_time": "2023-06-25T20:58:28.298Z"
   },
   {
    "duration": 3646,
    "start_time": "2023-06-25T20:59:36.567Z"
   },
   {
    "duration": 32,
    "start_time": "2023-06-25T20:59:47.655Z"
   },
   {
    "duration": 74,
    "start_time": "2023-06-25T21:00:14.710Z"
   },
   {
    "duration": 1746,
    "start_time": "2023-06-25T21:00:21.242Z"
   },
   {
    "duration": 2643,
    "start_time": "2023-06-25T21:00:46.328Z"
   },
   {
    "duration": 1360,
    "start_time": "2023-06-25T21:00:48.974Z"
   },
   {
    "duration": 152,
    "start_time": "2023-06-25T21:00:50.336Z"
   },
   {
    "duration": 77,
    "start_time": "2023-06-25T21:00:50.490Z"
   },
   {
    "duration": 5,
    "start_time": "2023-06-25T21:00:50.570Z"
   },
   {
    "duration": 58,
    "start_time": "2023-06-25T21:00:50.578Z"
   },
   {
    "duration": 21,
    "start_time": "2023-06-25T21:00:50.638Z"
   },
   {
    "duration": 97,
    "start_time": "2023-06-25T21:00:50.661Z"
   },
   {
    "duration": 14,
    "start_time": "2023-06-25T21:00:50.760Z"
   },
   {
    "duration": 53,
    "start_time": "2023-06-25T21:00:50.776Z"
   },
   {
    "duration": 54,
    "start_time": "2023-06-25T21:00:50.831Z"
   },
   {
    "duration": 61,
    "start_time": "2023-06-25T21:00:50.887Z"
   },
   {
    "duration": 14,
    "start_time": "2023-06-25T21:00:50.950Z"
   },
   {
    "duration": 52,
    "start_time": "2023-06-25T21:00:50.968Z"
   },
   {
    "duration": 357,
    "start_time": "2023-06-25T21:00:51.021Z"
   },
   {
    "duration": 193,
    "start_time": "2023-06-25T21:00:51.380Z"
   },
   {
    "duration": 49,
    "start_time": "2023-06-25T21:00:51.574Z"
   },
   {
    "duration": 88,
    "start_time": "2023-06-25T21:00:51.625Z"
   },
   {
    "duration": 172,
    "start_time": "2023-06-25T21:00:51.715Z"
   },
   {
    "duration": 21,
    "start_time": "2023-06-25T21:00:51.889Z"
   },
   {
    "duration": 237,
    "start_time": "2023-06-25T21:00:51.912Z"
   },
   {
    "duration": 22,
    "start_time": "2023-06-25T21:00:52.151Z"
   },
   {
    "duration": 56,
    "start_time": "2023-06-25T21:00:52.175Z"
   },
   {
    "duration": 74,
    "start_time": "2023-06-25T21:00:52.233Z"
   },
   {
    "duration": 32,
    "start_time": "2023-06-25T21:00:52.309Z"
   },
   {
    "duration": 62,
    "start_time": "2023-06-25T21:00:52.353Z"
   },
   {
    "duration": 146,
    "start_time": "2023-06-25T21:00:52.417Z"
   },
   {
    "duration": 75,
    "start_time": "2023-06-25T21:00:52.566Z"
   },
   {
    "duration": 92,
    "start_time": "2023-06-25T21:00:52.643Z"
   },
   {
    "duration": 85,
    "start_time": "2023-06-25T21:00:52.737Z"
   },
   {
    "duration": 35,
    "start_time": "2023-06-25T21:00:52.823Z"
   },
   {
    "duration": 32,
    "start_time": "2023-06-25T21:00:52.861Z"
   },
   {
    "duration": 3331,
    "start_time": "2023-06-25T21:00:52.895Z"
   },
   {
    "duration": 11,
    "start_time": "2023-06-25T21:00:56.228Z"
   },
   {
    "duration": 3092,
    "start_time": "2023-06-25T21:00:56.241Z"
   },
   {
    "duration": 1052,
    "start_time": "2023-06-25T21:00:59.335Z"
   },
   {
    "duration": 1982,
    "start_time": "2023-06-25T21:02:14.918Z"
   },
   {
    "duration": 1195,
    "start_time": "2023-06-25T21:02:16.903Z"
   },
   {
    "duration": 124,
    "start_time": "2023-06-25T21:02:18.100Z"
   },
   {
    "duration": 66,
    "start_time": "2023-06-25T21:02:18.226Z"
   },
   {
    "duration": 4,
    "start_time": "2023-06-25T21:02:18.294Z"
   },
   {
    "duration": 36,
    "start_time": "2023-06-25T21:02:18.300Z"
   },
   {
    "duration": 22,
    "start_time": "2023-06-25T21:02:18.339Z"
   },
   {
    "duration": 128,
    "start_time": "2023-06-25T21:02:18.363Z"
   },
   {
    "duration": 19,
    "start_time": "2023-06-25T21:02:18.493Z"
   },
   {
    "duration": 60,
    "start_time": "2023-06-25T21:02:18.514Z"
   },
   {
    "duration": 28,
    "start_time": "2023-06-25T21:02:18.576Z"
   },
   {
    "duration": 47,
    "start_time": "2023-06-25T21:02:18.606Z"
   },
   {
    "duration": 11,
    "start_time": "2023-06-25T21:02:18.655Z"
   },
   {
    "duration": 36,
    "start_time": "2023-06-25T21:02:18.669Z"
   },
   {
    "duration": 22,
    "start_time": "2023-06-25T21:02:18.707Z"
   },
   {
    "duration": 39,
    "start_time": "2023-06-25T21:02:18.731Z"
   },
   {
    "duration": 38,
    "start_time": "2023-06-25T21:02:18.772Z"
   },
   {
    "duration": 46,
    "start_time": "2023-06-25T21:02:18.812Z"
   },
   {
    "duration": 36,
    "start_time": "2023-06-25T21:02:18.859Z"
   },
   {
    "duration": 17,
    "start_time": "2023-06-25T21:02:18.897Z"
   },
   {
    "duration": 180,
    "start_time": "2023-06-25T21:02:18.916Z"
   },
   {
    "duration": 19,
    "start_time": "2023-06-25T21:02:19.098Z"
   },
   {
    "duration": 36,
    "start_time": "2023-06-25T21:02:19.119Z"
   },
   {
    "duration": 60,
    "start_time": "2023-06-25T21:02:19.157Z"
   },
   {
    "duration": 42,
    "start_time": "2023-06-25T21:02:19.218Z"
   },
   {
    "duration": 45,
    "start_time": "2023-06-25T21:02:19.261Z"
   },
   {
    "duration": 136,
    "start_time": "2023-06-25T21:02:19.309Z"
   },
   {
    "duration": 66,
    "start_time": "2023-06-25T21:02:19.447Z"
   },
   {
    "duration": 94,
    "start_time": "2023-06-25T21:02:19.515Z"
   },
   {
    "duration": 72,
    "start_time": "2023-06-25T21:02:19.611Z"
   },
   {
    "duration": 15,
    "start_time": "2023-06-25T21:02:19.685Z"
   },
   {
    "duration": 14,
    "start_time": "2023-06-25T21:02:19.702Z"
   },
   {
    "duration": 3077,
    "start_time": "2023-06-25T21:02:19.718Z"
   },
   {
    "duration": 11,
    "start_time": "2023-06-25T21:02:22.797Z"
   },
   {
    "duration": 3112,
    "start_time": "2023-06-25T21:02:22.809Z"
   },
   {
    "duration": 1057,
    "start_time": "2023-06-25T21:02:25.923Z"
   },
   {
    "duration": 359,
    "start_time": "2023-06-27T10:26:12.424Z"
   },
   {
    "duration": 79,
    "start_time": "2023-06-28T07:37:21.539Z"
   },
   {
    "duration": 1855,
    "start_time": "2023-06-28T07:37:28.907Z"
   },
   {
    "duration": 4477,
    "start_time": "2023-06-28T07:37:30.765Z"
   },
   {
    "duration": 127,
    "start_time": "2023-06-28T07:37:35.244Z"
   },
   {
    "duration": 2210,
    "start_time": "2023-06-28T07:37:35.373Z"
   },
   {
    "duration": 32,
    "start_time": "2023-06-28T07:37:37.585Z"
   },
   {
    "duration": 201,
    "start_time": "2023-06-28T07:37:37.620Z"
   },
   {
    "duration": 46,
    "start_time": "2023-06-28T07:37:37.823Z"
   },
   {
    "duration": 110,
    "start_time": "2023-06-28T07:37:37.871Z"
   },
   {
    "duration": 16,
    "start_time": "2023-06-28T07:37:37.984Z"
   },
   {
    "duration": 150,
    "start_time": "2023-06-28T07:37:38.003Z"
   },
   {
    "duration": 82,
    "start_time": "2023-06-28T07:37:40.882Z"
   },
   {
    "duration": 24,
    "start_time": "2023-06-28T07:37:54.664Z"
   },
   {
    "duration": 233,
    "start_time": "2023-06-28T07:38:30.429Z"
   },
   {
    "duration": 216,
    "start_time": "2023-06-28T07:42:42.195Z"
   },
   {
    "duration": 44,
    "start_time": "2023-06-28T07:42:49.807Z"
   },
   {
    "duration": 33,
    "start_time": "2023-06-28T07:43:00.026Z"
   },
   {
    "duration": 5,
    "start_time": "2023-06-28T07:43:45.695Z"
   },
   {
    "duration": 4,
    "start_time": "2023-06-28T07:51:01.391Z"
   },
   {
    "duration": 944,
    "start_time": "2023-06-28T07:51:01.397Z"
   },
   {
    "duration": 143,
    "start_time": "2023-06-28T07:51:02.343Z"
   },
   {
    "duration": 2311,
    "start_time": "2023-06-28T07:51:02.489Z"
   },
   {
    "duration": 39,
    "start_time": "2023-06-28T07:51:04.801Z"
   },
   {
    "duration": 96,
    "start_time": "2023-06-28T07:51:04.844Z"
   },
   {
    "duration": 17,
    "start_time": "2023-06-28T07:51:04.942Z"
   },
   {
    "duration": 5,
    "start_time": "2023-06-28T07:51:04.961Z"
   },
   {
    "duration": 24,
    "start_time": "2023-06-28T07:51:04.969Z"
   },
   {
    "duration": 147,
    "start_time": "2023-06-28T07:51:04.995Z"
   },
   {
    "duration": 34,
    "start_time": "2023-06-28T07:51:05.144Z"
   },
   {
    "duration": 190,
    "start_time": "2023-06-28T07:51:05.180Z"
   },
   {
    "duration": 17,
    "start_time": "2023-06-28T07:51:05.372Z"
   },
   {
    "duration": 48,
    "start_time": "2023-06-28T07:51:05.391Z"
   },
   {
    "duration": 25,
    "start_time": "2023-06-28T07:51:05.441Z"
   },
   {
    "duration": 21,
    "start_time": "2023-06-28T07:51:05.468Z"
   },
   {
    "duration": 44,
    "start_time": "2023-06-28T07:51:05.491Z"
   },
   {
    "duration": 11,
    "start_time": "2023-06-28T07:51:05.536Z"
   },
   {
    "duration": 46,
    "start_time": "2023-06-28T07:51:05.550Z"
   },
   {
    "duration": 34,
    "start_time": "2023-06-28T07:51:05.599Z"
   },
   {
    "duration": 1554,
    "start_time": "2023-06-28T07:51:05.635Z"
   },
   {
    "duration": 37,
    "start_time": "2023-06-28T07:51:07.191Z"
   },
   {
    "duration": 35,
    "start_time": "2023-06-28T07:51:07.231Z"
   },
   {
    "duration": 50,
    "start_time": "2023-06-28T07:51:07.271Z"
   },
   {
    "duration": 51,
    "start_time": "2023-06-28T07:51:07.324Z"
   },
   {
    "duration": 24,
    "start_time": "2023-06-28T07:51:07.378Z"
   },
   {
    "duration": 50,
    "start_time": "2023-06-28T07:51:07.412Z"
   },
   {
    "duration": 9,
    "start_time": "2023-06-28T07:51:07.465Z"
   },
   {
    "duration": 205,
    "start_time": "2023-06-28T07:51:07.476Z"
   },
   {
    "duration": 15,
    "start_time": "2023-06-28T07:51:07.683Z"
   },
   {
    "duration": 44,
    "start_time": "2023-06-28T07:51:07.699Z"
   },
   {
    "duration": 43,
    "start_time": "2023-06-28T07:51:07.745Z"
   },
   {
    "duration": 55,
    "start_time": "2023-06-28T07:51:07.790Z"
   },
   {
    "duration": 65,
    "start_time": "2023-06-28T07:51:07.847Z"
   },
   {
    "duration": 82,
    "start_time": "2023-06-28T07:51:07.919Z"
   },
   {
    "duration": 66,
    "start_time": "2023-06-28T07:51:08.003Z"
   },
   {
    "duration": 78,
    "start_time": "2023-06-28T07:51:08.071Z"
   },
   {
    "duration": 123,
    "start_time": "2023-06-28T07:51:08.151Z"
   },
   {
    "duration": 87,
    "start_time": "2023-06-28T07:51:08.276Z"
   },
   {
    "duration": 166,
    "start_time": "2023-06-28T07:51:08.365Z"
   },
   {
    "duration": 41,
    "start_time": "2023-06-28T07:51:08.532Z"
   },
   {
    "duration": 99,
    "start_time": "2023-06-28T07:51:08.575Z"
   },
   {
    "duration": 31,
    "start_time": "2023-06-28T07:51:08.676Z"
   },
   {
    "duration": 31,
    "start_time": "2023-06-28T07:52:39.303Z"
   },
   {
    "duration": 156,
    "start_time": "2023-06-28T07:52:39.337Z"
   },
   {
    "duration": 5,
    "start_time": "2023-06-28T07:52:39.495Z"
   },
   {
    "duration": 22,
    "start_time": "2023-06-28T07:52:39.513Z"
   },
   {
    "duration": 10,
    "start_time": "2023-06-28T07:52:39.537Z"
   },
   {
    "duration": 1122,
    "start_time": "2023-06-28T07:52:39.549Z"
   },
   {
    "duration": 17,
    "start_time": "2023-06-28T07:52:40.673Z"
   },
   {
    "duration": 38,
    "start_time": "2023-06-28T07:52:40.692Z"
   },
   {
    "duration": 148,
    "start_time": "2023-06-28T07:52:40.735Z"
   },
   {
    "duration": 28,
    "start_time": "2023-06-28T07:52:40.887Z"
   },
   {
    "duration": 274659,
    "start_time": "2023-06-28T07:52:40.918Z"
   },
   {
    "duration": 99540,
    "start_time": "2023-06-28T07:57:15.579Z"
   },
   {
    "duration": 3279,
    "start_time": "2023-06-28T07:58:55.121Z"
   },
   {
    "duration": 25,
    "start_time": "2023-06-28T07:58:58.402Z"
   },
   {
    "duration": 0,
    "start_time": "2023-06-28T07:58:58.434Z"
   },
   {
    "duration": 0,
    "start_time": "2023-06-28T07:58:58.436Z"
   },
   {
    "duration": 0,
    "start_time": "2023-06-28T07:58:58.438Z"
   },
   {
    "duration": 0,
    "start_time": "2023-06-28T07:58:58.440Z"
   },
   {
    "duration": 0,
    "start_time": "2023-06-28T07:58:58.455Z"
   },
   {
    "duration": 0,
    "start_time": "2023-06-28T07:58:58.456Z"
   },
   {
    "duration": 0,
    "start_time": "2023-06-28T07:58:58.458Z"
   },
   {
    "duration": 0,
    "start_time": "2023-06-28T07:58:58.459Z"
   },
   {
    "duration": 6,
    "start_time": "2023-06-28T08:09:58.348Z"
   },
   {
    "duration": 800374,
    "start_time": "2023-06-28T08:10:05.706Z"
   }
  ],
  "kernelspec": {
   "display_name": "Python 3 (ipykernel)",
   "language": "python",
   "name": "python3"
  },
  "language_info": {
   "codemirror_mode": {
    "name": "ipython",
    "version": 3
   },
   "file_extension": ".py",
   "mimetype": "text/x-python",
   "name": "python",
   "nbconvert_exporter": "python",
   "pygments_lexer": "ipython3",
   "version": "3.9.5"
  },
  "toc": {
   "base_numbering": 1,
   "nav_menu": {},
   "number_sections": true,
   "sideBar": true,
   "skip_h1_title": true,
   "title_cell": "Table of Contents",
   "title_sidebar": "Contents",
   "toc_cell": false,
   "toc_position": {},
   "toc_section_display": true,
   "toc_window_display": false
  }
 },
 "nbformat": 4,
 "nbformat_minor": 2
}
